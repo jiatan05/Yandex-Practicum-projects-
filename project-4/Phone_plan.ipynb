{
 "cells": [
  {
   "cell_type": "markdown",
   "metadata": {},
   "source": [
    "# Which one is a better plan?\n",
    "\n",
    "As an analyst for the telecom operator Megaline, the job is to analyze the two prepaid plans the company offers, Surf and Ultimate. Providing what commercial department wants to know: which of the plans brings in more revenue in order to adjust the advertising budget.\n"
   ]
  },
  {
   "cell_type": "markdown",
   "metadata": {},
   "source": [
    "##  Introduction\n",
    "Presented is a preliminary analysis of the plans based on a relatively small client selection. Consisit of data on 500 Megaline clients: who the clients are, where they're from, which plan they use, and the number of calls they made and text messages they sent in 2018. \n",
    "\n",
    "###  Goal:\n",
    "This report will focus on analyzing the clients' behavior and determine which prepaid plan brings in more revenue:\n",
    "\n",
    "1. Surf\n",
    "2. Ultimate\n",
    "\n",
    "\n",
    "### Stages:\n",
    "This project will consist of the following stages:\n",
    "\n",
    "1. Initialization\n",
    "2. Data Preprocessing\n",
    "    1. Plans\n",
    "        1. Fix and enrich data\n",
    "    2. Users\n",
    "        1. Fix and enrich data\n",
    "    3. Calls\n",
    "        1. Fix and enrich data\n",
    "    4. Messages\n",
    "        1. Fix and enrich data\n",
    "    5. Internet\n",
    "        1. Fix and enrich data\n",
    "    6. Study plan conditions\n",
    "    7. Aggregate data\n",
    "3. Study user behavior\n",
    "    1. Calls\n",
    "    2. Messages\n",
    "    3. Internet\n",
    "4. Study Revenue\n",
    "5. Test Statistical Hypotheses \n",
    "    1. The average revenue from users of the Ultimate and Surf calling plans differs\n",
    "    2. The average revenue from users in the NY-NJ area is different from that of the users from the other regions\n",
    "6. Conclusion\n",
    "         "
   ]
  },
  {
   "cell_type": "markdown",
   "metadata": {},
   "source": [
    "## Initialization"
   ]
  },
  {
   "cell_type": "markdown",
   "metadata": {},
   "source": [
    "Importing all necessary libraries for this project"
   ]
  },
  {
   "cell_type": "code",
   "execution_count": 1,
   "metadata": {},
   "outputs": [],
   "source": [
    "# Loading all the libraries\n",
    "\n",
    "import pandas as pd\n",
    "import matplotlib.pyplot as plt\n",
    "import numpy as np\n",
    "from scipy import stats as st\n",
    "import functools as ft\n",
    "import seaborn as sns"
   ]
  },
  {
   "cell_type": "markdown",
   "metadata": {},
   "source": [
    "## Load data"
   ]
  },
  {
   "cell_type": "code",
   "execution_count": 2,
   "metadata": {},
   "outputs": [],
   "source": [
    "# Load the data files into different DataFrames\n",
    "\n",
    "#call info\n",
    "calls = pd.read_csv('/datasets/megaline_calls.csv')\n",
    "\n",
    "#user info\n",
    "users = pd.read_csv('/datasets/megaline_users.csv')\n",
    "\n",
    "#message info\n",
    "messages = pd.read_csv('/datasets/megaline_messages.csv')\n",
    "\n",
    "#internet info\n",
    "internet = pd.read_csv('/datasets/megaline_internet.csv')\n",
    "\n",
    "#plans info\n",
    "plans = pd.read_csv('/datasets/megaline_plans.csv')\n",
    "\n"
   ]
  },
  {
   "cell_type": "markdown",
   "metadata": {},
   "source": [
    "# Data Preprocessing"
   ]
  },
  {
   "cell_type": "markdown",
   "metadata": {},
   "source": [
    "We will check each dataframe and see if anything appears to be off and correct them."
   ]
  },
  {
   "cell_type": "markdown",
   "metadata": {},
   "source": [
    "## Plans"
   ]
  },
  {
   "cell_type": "code",
   "execution_count": 3,
   "metadata": {},
   "outputs": [
    {
     "name": "stdout",
     "output_type": "stream",
     "text": [
      "<class 'pandas.core.frame.DataFrame'>\n",
      "RangeIndex: 2 entries, 0 to 1\n",
      "Data columns (total 8 columns):\n",
      " #   Column                 Non-Null Count  Dtype  \n",
      "---  ------                 --------------  -----  \n",
      " 0   messages_included      2 non-null      int64  \n",
      " 1   mb_per_month_included  2 non-null      int64  \n",
      " 2   minutes_included       2 non-null      int64  \n",
      " 3   usd_monthly_pay        2 non-null      int64  \n",
      " 4   usd_per_gb             2 non-null      int64  \n",
      " 5   usd_per_message        2 non-null      float64\n",
      " 6   usd_per_minute         2 non-null      float64\n",
      " 7   plan_name              2 non-null      object \n",
      "dtypes: float64(2), int64(5), object(1)\n",
      "memory usage: 256.0+ bytes\n"
     ]
    }
   ],
   "source": [
    "# The general/summary information about the plans' DataFrame\n",
    "\n",
    "plans.info()"
   ]
  },
  {
   "cell_type": "markdown",
   "metadata": {},
   "source": [
    "The plans dataframe contains the following:\n",
    "- `plan_name` — calling plan name\n",
    "- `usd_monthly_fee` — monthly charge in US dollars\n",
    "- `minutes_included` — monthly minute allowance\n",
    "- `messages_included` — monthly text allowance\n",
    "- `mb_per_month_included` — data volume allowance (in megabytes)\n",
    "- `usd_per_minute` - price per minute after exceeding the package limits (e.g., if the package includes 100 minutes, the 101st minute will be charged)\n",
    "- `usd_per_message` — price per text after exceeding the package limits\n",
    "- `usd_per_gb` — price per extra gigabyte of data after exceeding the package limits (1 GB = 1024 megabytes)"
   ]
  },
  {
   "cell_type": "markdown",
   "metadata": {},
   "source": [
    "There are only two types of plans: surf or ultimate. "
   ]
  },
  {
   "cell_type": "code",
   "execution_count": 4,
   "metadata": {
    "scrolled": true
   },
   "outputs": [
    {
     "data": {
      "text/html": [
       "<div>\n",
       "<style scoped>\n",
       "    .dataframe tbody tr th:only-of-type {\n",
       "        vertical-align: middle;\n",
       "    }\n",
       "\n",
       "    .dataframe tbody tr th {\n",
       "        vertical-align: top;\n",
       "    }\n",
       "\n",
       "    .dataframe thead th {\n",
       "        text-align: right;\n",
       "    }\n",
       "</style>\n",
       "<table border=\"1\" class=\"dataframe\">\n",
       "  <thead>\n",
       "    <tr style=\"text-align: right;\">\n",
       "      <th></th>\n",
       "      <th>messages_included</th>\n",
       "      <th>mb_per_month_included</th>\n",
       "      <th>minutes_included</th>\n",
       "      <th>usd_monthly_pay</th>\n",
       "      <th>usd_per_gb</th>\n",
       "      <th>usd_per_message</th>\n",
       "      <th>usd_per_minute</th>\n",
       "      <th>plan_name</th>\n",
       "    </tr>\n",
       "  </thead>\n",
       "  <tbody>\n",
       "    <tr>\n",
       "      <th>0</th>\n",
       "      <td>50</td>\n",
       "      <td>15360</td>\n",
       "      <td>500</td>\n",
       "      <td>20</td>\n",
       "      <td>10</td>\n",
       "      <td>0.03</td>\n",
       "      <td>0.03</td>\n",
       "      <td>surf</td>\n",
       "    </tr>\n",
       "    <tr>\n",
       "      <th>1</th>\n",
       "      <td>1000</td>\n",
       "      <td>30720</td>\n",
       "      <td>3000</td>\n",
       "      <td>70</td>\n",
       "      <td>7</td>\n",
       "      <td>0.01</td>\n",
       "      <td>0.01</td>\n",
       "      <td>ultimate</td>\n",
       "    </tr>\n",
       "  </tbody>\n",
       "</table>\n",
       "</div>"
      ],
      "text/plain": [
       "   messages_included  mb_per_month_included  minutes_included  \\\n",
       "0                 50                  15360               500   \n",
       "1               1000                  30720              3000   \n",
       "\n",
       "   usd_monthly_pay  usd_per_gb  usd_per_message  usd_per_minute plan_name  \n",
       "0               20          10             0.03            0.03      surf  \n",
       "1               70           7             0.01            0.01  ultimate  "
      ]
     },
     "execution_count": 4,
     "metadata": {},
     "output_type": "execute_result"
    }
   ],
   "source": [
    "# A sample of data for plans\n",
    "\n",
    "plans.head()"
   ]
  },
  {
   "cell_type": "markdown",
   "metadata": {},
   "source": [
    "We will convert mb_per_month_included to gb_per_month_included, as the extra are being charged based on gb instead of mb."
   ]
  },
  {
   "cell_type": "markdown",
   "metadata": {},
   "source": [
    " "
   ]
  },
  {
   "cell_type": "markdown",
   "metadata": {},
   "source": [
    "### Fix & Enrich data"
   ]
  },
  {
   "cell_type": "code",
   "execution_count": 5,
   "metadata": {},
   "outputs": [
    {
     "data": {
      "text/html": [
       "<div>\n",
       "<style scoped>\n",
       "    .dataframe tbody tr th:only-of-type {\n",
       "        vertical-align: middle;\n",
       "    }\n",
       "\n",
       "    .dataframe tbody tr th {\n",
       "        vertical-align: top;\n",
       "    }\n",
       "\n",
       "    .dataframe thead th {\n",
       "        text-align: right;\n",
       "    }\n",
       "</style>\n",
       "<table border=\"1\" class=\"dataframe\">\n",
       "  <thead>\n",
       "    <tr style=\"text-align: right;\">\n",
       "      <th></th>\n",
       "      <th>messages_included</th>\n",
       "      <th>mb_per_month_included</th>\n",
       "      <th>minutes_included</th>\n",
       "      <th>usd_monthly_pay</th>\n",
       "      <th>usd_per_gb</th>\n",
       "      <th>usd_per_message</th>\n",
       "      <th>usd_per_minute</th>\n",
       "      <th>plan_name</th>\n",
       "      <th>gb_per_month_included</th>\n",
       "    </tr>\n",
       "  </thead>\n",
       "  <tbody>\n",
       "    <tr>\n",
       "      <th>0</th>\n",
       "      <td>50</td>\n",
       "      <td>15360</td>\n",
       "      <td>500</td>\n",
       "      <td>20</td>\n",
       "      <td>10</td>\n",
       "      <td>0.03</td>\n",
       "      <td>0.03</td>\n",
       "      <td>surf</td>\n",
       "      <td>15.0</td>\n",
       "    </tr>\n",
       "    <tr>\n",
       "      <th>1</th>\n",
       "      <td>1000</td>\n",
       "      <td>30720</td>\n",
       "      <td>3000</td>\n",
       "      <td>70</td>\n",
       "      <td>7</td>\n",
       "      <td>0.01</td>\n",
       "      <td>0.01</td>\n",
       "      <td>ultimate</td>\n",
       "      <td>30.0</td>\n",
       "    </tr>\n",
       "  </tbody>\n",
       "</table>\n",
       "</div>"
      ],
      "text/plain": [
       "   messages_included  mb_per_month_included  minutes_included  \\\n",
       "0                 50                  15360               500   \n",
       "1               1000                  30720              3000   \n",
       "\n",
       "   usd_monthly_pay  usd_per_gb  usd_per_message  usd_per_minute plan_name  \\\n",
       "0               20          10             0.03            0.03      surf   \n",
       "1               70           7             0.01            0.01  ultimate   \n",
       "\n",
       "   gb_per_month_included  \n",
       "0                   15.0  \n",
       "1                   30.0  "
      ]
     },
     "execution_count": 5,
     "metadata": {},
     "output_type": "execute_result"
    }
   ],
   "source": [
    "#convert 'mb_per_month' to \"gb_per_month\"\n",
    "\n",
    "plans['gb_per_month_included'] = plans['mb_per_month_included']/1024\n",
    "\n",
    "plans.head()"
   ]
  },
  {
   "cell_type": "markdown",
   "metadata": {},
   "source": [
    "## Users"
   ]
  },
  {
   "cell_type": "markdown",
   "metadata": {},
   "source": [
    "We will then look at the users information."
   ]
  },
  {
   "cell_type": "code",
   "execution_count": 6,
   "metadata": {
    "scrolled": false
   },
   "outputs": [
    {
     "name": "stdout",
     "output_type": "stream",
     "text": [
      "<class 'pandas.core.frame.DataFrame'>\n",
      "RangeIndex: 500 entries, 0 to 499\n",
      "Data columns (total 8 columns):\n",
      " #   Column      Non-Null Count  Dtype \n",
      "---  ------      --------------  ----- \n",
      " 0   user_id     500 non-null    int64 \n",
      " 1   first_name  500 non-null    object\n",
      " 2   last_name   500 non-null    object\n",
      " 3   age         500 non-null    int64 \n",
      " 4   city        500 non-null    object\n",
      " 5   reg_date    500 non-null    object\n",
      " 6   plan        500 non-null    object\n",
      " 7   churn_date  34 non-null     object\n",
      "dtypes: int64(2), object(6)\n",
      "memory usage: 31.4+ KB\n"
     ]
    }
   ],
   "source": [
    "# General/summary information about the users' DataFrame\n",
    "users.info()"
   ]
  },
  {
   "cell_type": "markdown",
   "metadata": {},
   "source": [
    "The users table (data on users):\n",
    "- `user_id` — unique user identifier\n",
    "- `first_name` — user's name\n",
    "- `last_name` — user's last name\n",
    "- `age` — user's age (years)\n",
    "- `reg_date` — subscription date (dd, mm, yy)\n",
    "- `churn_date` — the date the user stopped using the service (if the value is missing, the calling plan was being used when this database was extracted)\n",
    "- `city` — user's city of residence\n",
    "- `plan` — calling plan name"
   ]
  },
  {
   "cell_type": "code",
   "execution_count": 7,
   "metadata": {},
   "outputs": [
    {
     "data": {
      "text/html": [
       "<div>\n",
       "<style scoped>\n",
       "    .dataframe tbody tr th:only-of-type {\n",
       "        vertical-align: middle;\n",
       "    }\n",
       "\n",
       "    .dataframe tbody tr th {\n",
       "        vertical-align: top;\n",
       "    }\n",
       "\n",
       "    .dataframe thead th {\n",
       "        text-align: right;\n",
       "    }\n",
       "</style>\n",
       "<table border=\"1\" class=\"dataframe\">\n",
       "  <thead>\n",
       "    <tr style=\"text-align: right;\">\n",
       "      <th></th>\n",
       "      <th>user_id</th>\n",
       "      <th>first_name</th>\n",
       "      <th>last_name</th>\n",
       "      <th>age</th>\n",
       "      <th>city</th>\n",
       "      <th>reg_date</th>\n",
       "      <th>plan</th>\n",
       "      <th>churn_date</th>\n",
       "    </tr>\n",
       "  </thead>\n",
       "  <tbody>\n",
       "    <tr>\n",
       "      <th>0</th>\n",
       "      <td>1000</td>\n",
       "      <td>Anamaria</td>\n",
       "      <td>Bauer</td>\n",
       "      <td>45</td>\n",
       "      <td>Atlanta-Sandy Springs-Roswell, GA MSA</td>\n",
       "      <td>2018-12-24</td>\n",
       "      <td>ultimate</td>\n",
       "      <td>NaN</td>\n",
       "    </tr>\n",
       "    <tr>\n",
       "      <th>1</th>\n",
       "      <td>1001</td>\n",
       "      <td>Mickey</td>\n",
       "      <td>Wilkerson</td>\n",
       "      <td>28</td>\n",
       "      <td>Seattle-Tacoma-Bellevue, WA MSA</td>\n",
       "      <td>2018-08-13</td>\n",
       "      <td>surf</td>\n",
       "      <td>NaN</td>\n",
       "    </tr>\n",
       "    <tr>\n",
       "      <th>2</th>\n",
       "      <td>1002</td>\n",
       "      <td>Carlee</td>\n",
       "      <td>Hoffman</td>\n",
       "      <td>36</td>\n",
       "      <td>Las Vegas-Henderson-Paradise, NV MSA</td>\n",
       "      <td>2018-10-21</td>\n",
       "      <td>surf</td>\n",
       "      <td>NaN</td>\n",
       "    </tr>\n",
       "    <tr>\n",
       "      <th>3</th>\n",
       "      <td>1003</td>\n",
       "      <td>Reynaldo</td>\n",
       "      <td>Jenkins</td>\n",
       "      <td>52</td>\n",
       "      <td>Tulsa, OK MSA</td>\n",
       "      <td>2018-01-28</td>\n",
       "      <td>surf</td>\n",
       "      <td>NaN</td>\n",
       "    </tr>\n",
       "    <tr>\n",
       "      <th>4</th>\n",
       "      <td>1004</td>\n",
       "      <td>Leonila</td>\n",
       "      <td>Thompson</td>\n",
       "      <td>40</td>\n",
       "      <td>Seattle-Tacoma-Bellevue, WA MSA</td>\n",
       "      <td>2018-05-23</td>\n",
       "      <td>surf</td>\n",
       "      <td>NaN</td>\n",
       "    </tr>\n",
       "  </tbody>\n",
       "</table>\n",
       "</div>"
      ],
      "text/plain": [
       "   user_id first_name  last_name  age                                   city  \\\n",
       "0     1000   Anamaria      Bauer   45  Atlanta-Sandy Springs-Roswell, GA MSA   \n",
       "1     1001     Mickey  Wilkerson   28        Seattle-Tacoma-Bellevue, WA MSA   \n",
       "2     1002     Carlee    Hoffman   36   Las Vegas-Henderson-Paradise, NV MSA   \n",
       "3     1003   Reynaldo    Jenkins   52                          Tulsa, OK MSA   \n",
       "4     1004    Leonila   Thompson   40        Seattle-Tacoma-Bellevue, WA MSA   \n",
       "\n",
       "     reg_date      plan churn_date  \n",
       "0  2018-12-24  ultimate        NaN  \n",
       "1  2018-08-13      surf        NaN  \n",
       "2  2018-10-21      surf        NaN  \n",
       "3  2018-01-28      surf        NaN  \n",
       "4  2018-05-23      surf        NaN  "
      ]
     },
     "execution_count": 7,
     "metadata": {},
     "output_type": "execute_result"
    }
   ],
   "source": [
    "# A sample of data for users\n",
    "\n",
    "users.head()"
   ]
  },
  {
   "cell_type": "markdown",
   "metadata": {},
   "source": [
    "We have noticed that the column'churn_date' might contain missing data, however, this column describes the date the user stopped using the service. If the value is missing, the call plan is still being used. Therefore, we will leave this column alone. We will change reg_date to date_time. Can also change 'plan' to categorical column."
   ]
  },
  {
   "cell_type": "markdown",
   "metadata": {},
   "source": [
    " "
   ]
  },
  {
   "cell_type": "markdown",
   "metadata": {},
   "source": [
    "### Fix and Enrich Data"
   ]
  },
  {
   "cell_type": "markdown",
   "metadata": {},
   "source": [
    "change reg_date to date_time type"
   ]
  },
  {
   "cell_type": "code",
   "execution_count": 8,
   "metadata": {},
   "outputs": [
    {
     "name": "stdout",
     "output_type": "stream",
     "text": [
      "<class 'pandas.core.frame.DataFrame'>\n",
      "RangeIndex: 500 entries, 0 to 499\n",
      "Data columns (total 8 columns):\n",
      " #   Column      Non-Null Count  Dtype         \n",
      "---  ------      --------------  -----         \n",
      " 0   user_id     500 non-null    int64         \n",
      " 1   first_name  500 non-null    object        \n",
      " 2   last_name   500 non-null    object        \n",
      " 3   age         500 non-null    int64         \n",
      " 4   city        500 non-null    object        \n",
      " 5   reg_date    500 non-null    datetime64[ns]\n",
      " 6   plan        500 non-null    object        \n",
      " 7   churn_date  34 non-null     object        \n",
      "dtypes: datetime64[ns](1), int64(2), object(5)\n",
      "memory usage: 31.4+ KB\n"
     ]
    }
   ],
   "source": [
    "users['reg_date'] = pd.to_datetime(users['reg_date'], format = '%Y-%m-%d')\n",
    "\n",
    "users.info()"
   ]
  },
  {
   "cell_type": "markdown",
   "metadata": {},
   "source": [
    "Change 'plan' to category"
   ]
  },
  {
   "cell_type": "code",
   "execution_count": 9,
   "metadata": {},
   "outputs": [
    {
     "name": "stdout",
     "output_type": "stream",
     "text": [
      "<class 'pandas.core.frame.DataFrame'>\n",
      "RangeIndex: 500 entries, 0 to 499\n",
      "Data columns (total 8 columns):\n",
      " #   Column      Non-Null Count  Dtype         \n",
      "---  ------      --------------  -----         \n",
      " 0   user_id     500 non-null    int64         \n",
      " 1   first_name  500 non-null    object        \n",
      " 2   last_name   500 non-null    object        \n",
      " 3   age         500 non-null    int64         \n",
      " 4   city        500 non-null    object        \n",
      " 5   reg_date    500 non-null    datetime64[ns]\n",
      " 6   plan        500 non-null    category      \n",
      " 7   churn_date  34 non-null     object        \n",
      "dtypes: category(1), datetime64[ns](1), int64(2), object(4)\n",
      "memory usage: 28.1+ KB\n"
     ]
    }
   ],
   "source": [
    "#change to categorical values\n",
    "\n",
    "users['plan'] = users['plan'].astype('category')\n",
    "\n",
    "users.info()"
   ]
  },
  {
   "cell_type": "markdown",
   "metadata": {},
   "source": [
    "## Calls"
   ]
  },
  {
   "cell_type": "markdown",
   "metadata": {},
   "source": [
    "Checking the calls. "
   ]
  },
  {
   "cell_type": "code",
   "execution_count": 10,
   "metadata": {},
   "outputs": [
    {
     "name": "stdout",
     "output_type": "stream",
     "text": [
      "<class 'pandas.core.frame.DataFrame'>\n",
      "RangeIndex: 137735 entries, 0 to 137734\n",
      "Data columns (total 4 columns):\n",
      " #   Column     Non-Null Count   Dtype  \n",
      "---  ------     --------------   -----  \n",
      " 0   id         137735 non-null  object \n",
      " 1   user_id    137735 non-null  int64  \n",
      " 2   call_date  137735 non-null  object \n",
      " 3   duration   137735 non-null  float64\n",
      "dtypes: float64(1), int64(1), object(2)\n",
      "memory usage: 4.2+ MB\n"
     ]
    }
   ],
   "source": [
    "# The general/summary information about the calls' DataFrame\n",
    "\n",
    "calls.info()"
   ]
  },
  {
   "cell_type": "markdown",
   "metadata": {},
   "source": [
    "The calls dataframe consist of the following:\n",
    "- `id` — unique call identifier\n",
    "- `call_date` — call date\n",
    "- `duration` — call duration (in minutes)\n",
    "- `user_id` — the identifier of the user making the call"
   ]
  },
  {
   "cell_type": "code",
   "execution_count": 11,
   "metadata": {},
   "outputs": [
    {
     "data": {
      "text/html": [
       "<div>\n",
       "<style scoped>\n",
       "    .dataframe tbody tr th:only-of-type {\n",
       "        vertical-align: middle;\n",
       "    }\n",
       "\n",
       "    .dataframe tbody tr th {\n",
       "        vertical-align: top;\n",
       "    }\n",
       "\n",
       "    .dataframe thead th {\n",
       "        text-align: right;\n",
       "    }\n",
       "</style>\n",
       "<table border=\"1\" class=\"dataframe\">\n",
       "  <thead>\n",
       "    <tr style=\"text-align: right;\">\n",
       "      <th></th>\n",
       "      <th>id</th>\n",
       "      <th>user_id</th>\n",
       "      <th>call_date</th>\n",
       "      <th>duration</th>\n",
       "    </tr>\n",
       "  </thead>\n",
       "  <tbody>\n",
       "    <tr>\n",
       "      <th>0</th>\n",
       "      <td>1000_93</td>\n",
       "      <td>1000</td>\n",
       "      <td>2018-12-27</td>\n",
       "      <td>8.52</td>\n",
       "    </tr>\n",
       "    <tr>\n",
       "      <th>1</th>\n",
       "      <td>1000_145</td>\n",
       "      <td>1000</td>\n",
       "      <td>2018-12-27</td>\n",
       "      <td>13.66</td>\n",
       "    </tr>\n",
       "    <tr>\n",
       "      <th>2</th>\n",
       "      <td>1000_247</td>\n",
       "      <td>1000</td>\n",
       "      <td>2018-12-27</td>\n",
       "      <td>14.48</td>\n",
       "    </tr>\n",
       "    <tr>\n",
       "      <th>3</th>\n",
       "      <td>1000_309</td>\n",
       "      <td>1000</td>\n",
       "      <td>2018-12-28</td>\n",
       "      <td>5.76</td>\n",
       "    </tr>\n",
       "    <tr>\n",
       "      <th>4</th>\n",
       "      <td>1000_380</td>\n",
       "      <td>1000</td>\n",
       "      <td>2018-12-30</td>\n",
       "      <td>4.22</td>\n",
       "    </tr>\n",
       "  </tbody>\n",
       "</table>\n",
       "</div>"
      ],
      "text/plain": [
       "         id  user_id   call_date  duration\n",
       "0   1000_93     1000  2018-12-27      8.52\n",
       "1  1000_145     1000  2018-12-27     13.66\n",
       "2  1000_247     1000  2018-12-27     14.48\n",
       "3  1000_309     1000  2018-12-28      5.76\n",
       "4  1000_380     1000  2018-12-30      4.22"
      ]
     },
     "execution_count": 11,
     "metadata": {},
     "output_type": "execute_result"
    }
   ],
   "source": [
    "# A sample of data for calls\n",
    "\n",
    "calls.head()"
   ]
  },
  {
   "cell_type": "markdown",
   "metadata": {},
   "source": [
    "It appears that there no visible missing values. However, the call_date should be changed into date-time type. We will need to round up the duration according to the company's policy. "
   ]
  },
  {
   "cell_type": "markdown",
   "metadata": {},
   "source": [
    " "
   ]
  },
  {
   "cell_type": "markdown",
   "metadata": {},
   "source": [
    "### Fix data"
   ]
  },
  {
   "cell_type": "markdown",
   "metadata": {},
   "source": [
    "**Change the call_date column to date_time type.**"
   ]
  },
  {
   "cell_type": "code",
   "execution_count": 12,
   "metadata": {},
   "outputs": [
    {
     "name": "stdout",
     "output_type": "stream",
     "text": [
      "<class 'pandas.core.frame.DataFrame'>\n",
      "RangeIndex: 137735 entries, 0 to 137734\n",
      "Data columns (total 4 columns):\n",
      " #   Column     Non-Null Count   Dtype         \n",
      "---  ------     --------------   -----         \n",
      " 0   call_id    137735 non-null  object        \n",
      " 1   user_id    137735 non-null  int64         \n",
      " 2   call_date  137735 non-null  datetime64[ns]\n",
      " 3   duration   137735 non-null  float64       \n",
      "dtypes: datetime64[ns](1), float64(1), int64(1), object(1)\n",
      "memory usage: 4.2+ MB\n"
     ]
    }
   ],
   "source": [
    "calls['call_date'] = pd.to_datetime(calls['call_date'], format = '%Y-%m-%d')\n",
    "\n",
    "calls.rename(columns = {'id':'call_id'}, inplace = True)\n",
    "calls.info()"
   ]
  },
  {
   "cell_type": "markdown",
   "metadata": {},
   "source": [
    "**Rounding up the duration**"
   ]
  },
  {
   "cell_type": "code",
   "execution_count": 13,
   "metadata": {},
   "outputs": [
    {
     "data": {
      "text/plain": [
       "0     9.0\n",
       "1    14.0\n",
       "2    15.0\n",
       "3     6.0\n",
       "4     5.0\n",
       "Name: duration, dtype: float64"
      ]
     },
     "execution_count": 13,
     "metadata": {},
     "output_type": "execute_result"
    }
   ],
   "source": [
    "calls['duration'] = np.ceil(calls['duration'])\n",
    "\n",
    "calls['duration'].head()"
   ]
  },
  {
   "cell_type": "markdown",
   "metadata": {},
   "source": [
    "### Enrich data"
   ]
  },
  {
   "cell_type": "markdown",
   "metadata": {},
   "source": [
    "Since this consist of mulitple entries from the same user, it will be best to group them by user_id. and we can find the total duration of calls and how many total calls each user has made. Finally find the monthly average for calls and call duration for each user. "
   ]
  },
  {
   "cell_type": "markdown",
   "metadata": {},
   "source": [
    "To group by user_id and month\n"
   ]
  },
  {
   "cell_type": "code",
   "execution_count": 14,
   "metadata": {},
   "outputs": [
    {
     "data": {
      "text/html": [
       "<div>\n",
       "<style scoped>\n",
       "    .dataframe tbody tr th:only-of-type {\n",
       "        vertical-align: middle;\n",
       "    }\n",
       "\n",
       "    .dataframe tbody tr th {\n",
       "        vertical-align: top;\n",
       "    }\n",
       "\n",
       "    .dataframe thead th {\n",
       "        text-align: right;\n",
       "    }\n",
       "</style>\n",
       "<table border=\"1\" class=\"dataframe\">\n",
       "  <thead>\n",
       "    <tr style=\"text-align: right;\">\n",
       "      <th></th>\n",
       "      <th>user_id</th>\n",
       "      <th>months</th>\n",
       "      <th>duration</th>\n",
       "    </tr>\n",
       "  </thead>\n",
       "  <tbody>\n",
       "    <tr>\n",
       "      <th>0</th>\n",
       "      <td>1000</td>\n",
       "      <td>12</td>\n",
       "      <td>124.0</td>\n",
       "    </tr>\n",
       "    <tr>\n",
       "      <th>1</th>\n",
       "      <td>1001</td>\n",
       "      <td>8</td>\n",
       "      <td>182.0</td>\n",
       "    </tr>\n",
       "    <tr>\n",
       "      <th>2</th>\n",
       "      <td>1001</td>\n",
       "      <td>9</td>\n",
       "      <td>315.0</td>\n",
       "    </tr>\n",
       "    <tr>\n",
       "      <th>3</th>\n",
       "      <td>1001</td>\n",
       "      <td>10</td>\n",
       "      <td>393.0</td>\n",
       "    </tr>\n",
       "    <tr>\n",
       "      <th>4</th>\n",
       "      <td>1001</td>\n",
       "      <td>11</td>\n",
       "      <td>426.0</td>\n",
       "    </tr>\n",
       "    <tr>\n",
       "      <th>5</th>\n",
       "      <td>1001</td>\n",
       "      <td>12</td>\n",
       "      <td>412.0</td>\n",
       "    </tr>\n",
       "    <tr>\n",
       "      <th>6</th>\n",
       "      <td>1002</td>\n",
       "      <td>10</td>\n",
       "      <td>59.0</td>\n",
       "    </tr>\n",
       "    <tr>\n",
       "      <th>7</th>\n",
       "      <td>1002</td>\n",
       "      <td>11</td>\n",
       "      <td>386.0</td>\n",
       "    </tr>\n",
       "    <tr>\n",
       "      <th>8</th>\n",
       "      <td>1002</td>\n",
       "      <td>12</td>\n",
       "      <td>384.0</td>\n",
       "    </tr>\n",
       "    <tr>\n",
       "      <th>9</th>\n",
       "      <td>1003</td>\n",
       "      <td>12</td>\n",
       "      <td>1104.0</td>\n",
       "    </tr>\n",
       "    <tr>\n",
       "      <th>10</th>\n",
       "      <td>1004</td>\n",
       "      <td>5</td>\n",
       "      <td>193.0</td>\n",
       "    </tr>\n",
       "    <tr>\n",
       "      <th>11</th>\n",
       "      <td>1004</td>\n",
       "      <td>6</td>\n",
       "      <td>275.0</td>\n",
       "    </tr>\n",
       "    <tr>\n",
       "      <th>12</th>\n",
       "      <td>1004</td>\n",
       "      <td>7</td>\n",
       "      <td>381.0</td>\n",
       "    </tr>\n",
       "    <tr>\n",
       "      <th>13</th>\n",
       "      <td>1004</td>\n",
       "      <td>8</td>\n",
       "      <td>354.0</td>\n",
       "    </tr>\n",
       "    <tr>\n",
       "      <th>14</th>\n",
       "      <td>1004</td>\n",
       "      <td>9</td>\n",
       "      <td>301.0</td>\n",
       "    </tr>\n",
       "    <tr>\n",
       "      <th>15</th>\n",
       "      <td>1004</td>\n",
       "      <td>10</td>\n",
       "      <td>365.0</td>\n",
       "    </tr>\n",
       "    <tr>\n",
       "      <th>16</th>\n",
       "      <td>1004</td>\n",
       "      <td>11</td>\n",
       "      <td>476.0</td>\n",
       "    </tr>\n",
       "    <tr>\n",
       "      <th>17</th>\n",
       "      <td>1004</td>\n",
       "      <td>12</td>\n",
       "      <td>427.0</td>\n",
       "    </tr>\n",
       "    <tr>\n",
       "      <th>18</th>\n",
       "      <td>1005</td>\n",
       "      <td>12</td>\n",
       "      <td>496.0</td>\n",
       "    </tr>\n",
       "    <tr>\n",
       "      <th>19</th>\n",
       "      <td>1006</td>\n",
       "      <td>11</td>\n",
       "      <td>10.0</td>\n",
       "    </tr>\n",
       "  </tbody>\n",
       "</table>\n",
       "</div>"
      ],
      "text/plain": [
       "    user_id  months  duration\n",
       "0      1000      12     124.0\n",
       "1      1001       8     182.0\n",
       "2      1001       9     315.0\n",
       "3      1001      10     393.0\n",
       "4      1001      11     426.0\n",
       "5      1001      12     412.0\n",
       "6      1002      10      59.0\n",
       "7      1002      11     386.0\n",
       "8      1002      12     384.0\n",
       "9      1003      12    1104.0\n",
       "10     1004       5     193.0\n",
       "11     1004       6     275.0\n",
       "12     1004       7     381.0\n",
       "13     1004       8     354.0\n",
       "14     1004       9     301.0\n",
       "15     1004      10     365.0\n",
       "16     1004      11     476.0\n",
       "17     1004      12     427.0\n",
       "18     1005      12     496.0\n",
       "19     1006      11      10.0"
      ]
     },
     "execution_count": 14,
     "metadata": {},
     "output_type": "execute_result"
    }
   ],
   "source": [
    "# To make sure there are indeed records of 12 months\n",
    "calls['months'] = calls['call_date'].dt.month\n",
    "\n",
    "#len(calls['call_months'].unique())\n",
    "\n",
    "calls_1 = calls.groupby(['user_id','months'])['duration'].sum()\n",
    "calls_1 = calls_1.reset_index()\n",
    "calls_1.head(20)"
   ]
  },
  {
   "cell_type": "markdown",
   "metadata": {},
   "source": [
    "## Messages"
   ]
  },
  {
   "cell_type": "markdown",
   "metadata": {},
   "source": [
    "**Checking the messages**"
   ]
  },
  {
   "cell_type": "code",
   "execution_count": 15,
   "metadata": {},
   "outputs": [
    {
     "name": "stdout",
     "output_type": "stream",
     "text": [
      "<class 'pandas.core.frame.DataFrame'>\n",
      "RangeIndex: 76051 entries, 0 to 76050\n",
      "Data columns (total 3 columns):\n",
      " #   Column        Non-Null Count  Dtype \n",
      "---  ------        --------------  ----- \n",
      " 0   id            76051 non-null  object\n",
      " 1   user_id       76051 non-null  int64 \n",
      " 2   message_date  76051 non-null  object\n",
      "dtypes: int64(1), object(2)\n",
      "memory usage: 1.7+ MB\n"
     ]
    }
   ],
   "source": [
    "# The general/summary information about the messages' DataFrame\n",
    "\n",
    "messages.info()"
   ]
  },
  {
   "cell_type": "markdown",
   "metadata": {},
   "source": [
    "The messages table consists of the following:\n",
    "- `id` — unique text message identifier\n",
    "- `message_date` — text message date\n",
    "- `user_id` — the identifier of the user sending the text"
   ]
  },
  {
   "cell_type": "code",
   "execution_count": 16,
   "metadata": {
    "scrolled": true
   },
   "outputs": [
    {
     "data": {
      "text/html": [
       "<div>\n",
       "<style scoped>\n",
       "    .dataframe tbody tr th:only-of-type {\n",
       "        vertical-align: middle;\n",
       "    }\n",
       "\n",
       "    .dataframe tbody tr th {\n",
       "        vertical-align: top;\n",
       "    }\n",
       "\n",
       "    .dataframe thead th {\n",
       "        text-align: right;\n",
       "    }\n",
       "</style>\n",
       "<table border=\"1\" class=\"dataframe\">\n",
       "  <thead>\n",
       "    <tr style=\"text-align: right;\">\n",
       "      <th></th>\n",
       "      <th>id</th>\n",
       "      <th>user_id</th>\n",
       "      <th>message_date</th>\n",
       "    </tr>\n",
       "  </thead>\n",
       "  <tbody>\n",
       "    <tr>\n",
       "      <th>0</th>\n",
       "      <td>1000_125</td>\n",
       "      <td>1000</td>\n",
       "      <td>2018-12-27</td>\n",
       "    </tr>\n",
       "    <tr>\n",
       "      <th>1</th>\n",
       "      <td>1000_160</td>\n",
       "      <td>1000</td>\n",
       "      <td>2018-12-31</td>\n",
       "    </tr>\n",
       "    <tr>\n",
       "      <th>2</th>\n",
       "      <td>1000_223</td>\n",
       "      <td>1000</td>\n",
       "      <td>2018-12-31</td>\n",
       "    </tr>\n",
       "    <tr>\n",
       "      <th>3</th>\n",
       "      <td>1000_251</td>\n",
       "      <td>1000</td>\n",
       "      <td>2018-12-27</td>\n",
       "    </tr>\n",
       "    <tr>\n",
       "      <th>4</th>\n",
       "      <td>1000_255</td>\n",
       "      <td>1000</td>\n",
       "      <td>2018-12-26</td>\n",
       "    </tr>\n",
       "  </tbody>\n",
       "</table>\n",
       "</div>"
      ],
      "text/plain": [
       "         id  user_id message_date\n",
       "0  1000_125     1000   2018-12-27\n",
       "1  1000_160     1000   2018-12-31\n",
       "2  1000_223     1000   2018-12-31\n",
       "3  1000_251     1000   2018-12-27\n",
       "4  1000_255     1000   2018-12-26"
      ]
     },
     "execution_count": 16,
     "metadata": {},
     "output_type": "execute_result"
    }
   ],
   "source": [
    "# A sample of data for messages\n",
    "\n",
    "messages.head()"
   ]
  },
  {
   "cell_type": "markdown",
   "metadata": {},
   "source": [
    "We can do the same thing for this table, first changing the message_date to date_time type, then proceed with enrichment."
   ]
  },
  {
   "cell_type": "markdown",
   "metadata": {},
   "source": [
    " "
   ]
  },
  {
   "cell_type": "markdown",
   "metadata": {},
   "source": [
    "### Fix data"
   ]
  },
  {
   "cell_type": "markdown",
   "metadata": {},
   "source": [
    "Let's fix the data type."
   ]
  },
  {
   "cell_type": "code",
   "execution_count": 17,
   "metadata": {},
   "outputs": [
    {
     "name": "stdout",
     "output_type": "stream",
     "text": [
      "<class 'pandas.core.frame.DataFrame'>\n",
      "RangeIndex: 76051 entries, 0 to 76050\n",
      "Data columns (total 4 columns):\n",
      " #   Column        Non-Null Count  Dtype         \n",
      "---  ------        --------------  -----         \n",
      " 0   message_id    76051 non-null  object        \n",
      " 1   user_id       76051 non-null  int64         \n",
      " 2   message_date  76051 non-null  datetime64[ns]\n",
      " 3   months        76051 non-null  int64         \n",
      "dtypes: datetime64[ns](1), int64(2), object(1)\n",
      "memory usage: 2.3+ MB\n"
     ]
    }
   ],
   "source": [
    "messages['message_date'] = pd.to_datetime(messages['message_date'], format = '%Y-%m-%d')\n",
    "messages['months'] = messages['message_date'].dt.month\n",
    "\n",
    "messages.rename(columns = {'id':'message_id'}, inplace=True)\n",
    "messages.info()"
   ]
  },
  {
   "cell_type": "markdown",
   "metadata": {},
   "source": [
    "### Enrich data"
   ]
  },
  {
   "cell_type": "markdown",
   "metadata": {},
   "source": [
    "We will repeat the steps in calls, since this also consist of mulitple entries from the same user, it will be best to group them by user_id. Follow by finding the total messages sent by each user. And finally, the monthly average for texts per each user. "
   ]
  },
  {
   "cell_type": "markdown",
   "metadata": {},
   "source": [
    "To group and find the total."
   ]
  },
  {
   "cell_type": "code",
   "execution_count": 18,
   "metadata": {},
   "outputs": [
    {
     "data": {
      "text/html": [
       "<div>\n",
       "<style scoped>\n",
       "    .dataframe tbody tr th:only-of-type {\n",
       "        vertical-align: middle;\n",
       "    }\n",
       "\n",
       "    .dataframe tbody tr th {\n",
       "        vertical-align: top;\n",
       "    }\n",
       "\n",
       "    .dataframe thead th {\n",
       "        text-align: right;\n",
       "    }\n",
       "</style>\n",
       "<table border=\"1\" class=\"dataframe\">\n",
       "  <thead>\n",
       "    <tr style=\"text-align: right;\">\n",
       "      <th></th>\n",
       "      <th>user_id</th>\n",
       "      <th>months</th>\n",
       "      <th>message_date</th>\n",
       "    </tr>\n",
       "  </thead>\n",
       "  <tbody>\n",
       "    <tr>\n",
       "      <th>0</th>\n",
       "      <td>1000</td>\n",
       "      <td>12</td>\n",
       "      <td>11</td>\n",
       "    </tr>\n",
       "    <tr>\n",
       "      <th>1</th>\n",
       "      <td>1001</td>\n",
       "      <td>8</td>\n",
       "      <td>30</td>\n",
       "    </tr>\n",
       "    <tr>\n",
       "      <th>2</th>\n",
       "      <td>1001</td>\n",
       "      <td>9</td>\n",
       "      <td>44</td>\n",
       "    </tr>\n",
       "    <tr>\n",
       "      <th>3</th>\n",
       "      <td>1001</td>\n",
       "      <td>10</td>\n",
       "      <td>53</td>\n",
       "    </tr>\n",
       "    <tr>\n",
       "      <th>4</th>\n",
       "      <td>1001</td>\n",
       "      <td>11</td>\n",
       "      <td>36</td>\n",
       "    </tr>\n",
       "  </tbody>\n",
       "</table>\n",
       "</div>"
      ],
      "text/plain": [
       "   user_id  months  message_date\n",
       "0     1000      12            11\n",
       "1     1001       8            30\n",
       "2     1001       9            44\n",
       "3     1001      10            53\n",
       "4     1001      11            36"
      ]
     },
     "execution_count": 18,
     "metadata": {},
     "output_type": "execute_result"
    }
   ],
   "source": [
    "#grouping\n",
    "messages_1 = messages.groupby(['user_id','months'])['message_date'].count()\n",
    "messages_1 = messages_1.reset_index()\n",
    "messages_1.head()"
   ]
  },
  {
   "cell_type": "markdown",
   "metadata": {},
   "source": [
    "## Internet"
   ]
  },
  {
   "cell_type": "markdown",
   "metadata": {},
   "source": [
    "**Checking the internet usage**"
   ]
  },
  {
   "cell_type": "code",
   "execution_count": 19,
   "metadata": {},
   "outputs": [
    {
     "name": "stdout",
     "output_type": "stream",
     "text": [
      "<class 'pandas.core.frame.DataFrame'>\n",
      "RangeIndex: 104825 entries, 0 to 104824\n",
      "Data columns (total 4 columns):\n",
      " #   Column        Non-Null Count   Dtype  \n",
      "---  ------        --------------   -----  \n",
      " 0   id            104825 non-null  object \n",
      " 1   user_id       104825 non-null  int64  \n",
      " 2   session_date  104825 non-null  object \n",
      " 3   mb_used       104825 non-null  float64\n",
      "dtypes: float64(1), int64(1), object(2)\n",
      "memory usage: 3.2+ MB\n"
     ]
    }
   ],
   "source": [
    "# The general/summary information about the internet DataFrame\n",
    "\n",
    "internet.info()"
   ]
  },
  {
   "cell_type": "markdown",
   "metadata": {},
   "source": [
    "The internet table consists of the following:\n",
    "- `id` — unique session identifier\n",
    "- `mb_used` — the volume of data spent during the session (in megabytes)\n",
    "- `session_date` — web session date\n",
    "- `user_id` — user identifier"
   ]
  },
  {
   "cell_type": "code",
   "execution_count": 20,
   "metadata": {},
   "outputs": [
    {
     "data": {
      "text/html": [
       "<div>\n",
       "<style scoped>\n",
       "    .dataframe tbody tr th:only-of-type {\n",
       "        vertical-align: middle;\n",
       "    }\n",
       "\n",
       "    .dataframe tbody tr th {\n",
       "        vertical-align: top;\n",
       "    }\n",
       "\n",
       "    .dataframe thead th {\n",
       "        text-align: right;\n",
       "    }\n",
       "</style>\n",
       "<table border=\"1\" class=\"dataframe\">\n",
       "  <thead>\n",
       "    <tr style=\"text-align: right;\">\n",
       "      <th></th>\n",
       "      <th>id</th>\n",
       "      <th>user_id</th>\n",
       "      <th>session_date</th>\n",
       "      <th>mb_used</th>\n",
       "    </tr>\n",
       "  </thead>\n",
       "  <tbody>\n",
       "    <tr>\n",
       "      <th>0</th>\n",
       "      <td>1000_13</td>\n",
       "      <td>1000</td>\n",
       "      <td>2018-12-29</td>\n",
       "      <td>89.86</td>\n",
       "    </tr>\n",
       "    <tr>\n",
       "      <th>1</th>\n",
       "      <td>1000_204</td>\n",
       "      <td>1000</td>\n",
       "      <td>2018-12-31</td>\n",
       "      <td>0.00</td>\n",
       "    </tr>\n",
       "    <tr>\n",
       "      <th>2</th>\n",
       "      <td>1000_379</td>\n",
       "      <td>1000</td>\n",
       "      <td>2018-12-28</td>\n",
       "      <td>660.40</td>\n",
       "    </tr>\n",
       "    <tr>\n",
       "      <th>3</th>\n",
       "      <td>1000_413</td>\n",
       "      <td>1000</td>\n",
       "      <td>2018-12-26</td>\n",
       "      <td>270.99</td>\n",
       "    </tr>\n",
       "    <tr>\n",
       "      <th>4</th>\n",
       "      <td>1000_442</td>\n",
       "      <td>1000</td>\n",
       "      <td>2018-12-27</td>\n",
       "      <td>880.22</td>\n",
       "    </tr>\n",
       "  </tbody>\n",
       "</table>\n",
       "</div>"
      ],
      "text/plain": [
       "         id  user_id session_date  mb_used\n",
       "0   1000_13     1000   2018-12-29    89.86\n",
       "1  1000_204     1000   2018-12-31     0.00\n",
       "2  1000_379     1000   2018-12-28   660.40\n",
       "3  1000_413     1000   2018-12-26   270.99\n",
       "4  1000_442     1000   2018-12-27   880.22"
      ]
     },
     "execution_count": 20,
     "metadata": {},
     "output_type": "execute_result"
    }
   ],
   "source": [
    "# A sample of data for the internet traffic\n",
    "\n",
    "internet.head()"
   ]
  },
  {
   "cell_type": "markdown",
   "metadata": {},
   "source": [
    "Similar to what we have done before, we first need to change the datatype to date_time for session_date, and round up the total mb_used per user per company policy. "
   ]
  },
  {
   "cell_type": "markdown",
   "metadata": {},
   "source": [
    " "
   ]
  },
  {
   "cell_type": "markdown",
   "metadata": {},
   "source": [
    "### Fix data"
   ]
  },
  {
   "cell_type": "markdown",
   "metadata": {},
   "source": [
    "We will change the data_type to date_time for clarity."
   ]
  },
  {
   "cell_type": "code",
   "execution_count": 21,
   "metadata": {},
   "outputs": [
    {
     "name": "stdout",
     "output_type": "stream",
     "text": [
      "<class 'pandas.core.frame.DataFrame'>\n",
      "RangeIndex: 104825 entries, 0 to 104824\n",
      "Data columns (total 4 columns):\n",
      " #   Column        Non-Null Count   Dtype         \n",
      "---  ------        --------------   -----         \n",
      " 0   internet_id   104825 non-null  object        \n",
      " 1   user_id       104825 non-null  int64         \n",
      " 2   session_date  104825 non-null  datetime64[ns]\n",
      " 3   mb_used       104825 non-null  float64       \n",
      "dtypes: datetime64[ns](1), float64(1), int64(1), object(1)\n",
      "memory usage: 3.2+ MB\n"
     ]
    }
   ],
   "source": [
    "#change the data type\n",
    "\n",
    "internet['session_date'] = pd.to_datetime(internet['session_date'], format = '%Y-%m-%d')\n",
    "\n",
    "internet.rename(columns = {'id':'internet_id'},inplace=True)\n",
    "internet.info()"
   ]
  },
  {
   "cell_type": "markdown",
   "metadata": {},
   "source": [
    "### Enrich data"
   ]
  },
  {
   "cell_type": "markdown",
   "metadata": {},
   "source": [
    "We will repeat the steps in calls and messages, since this also consist of mulitple entries from the same user, it will be best to group them by user_id. Follow by finding the total internet usage(in MB) per each user, we will round up the total per company's policy (in GB). And finally, the monthly average for internet useage(in MB) per each user for clear visual purpose. "
   ]
  },
  {
   "cell_type": "markdown",
   "metadata": {},
   "source": [
    "Group by 'user_id' and month."
   ]
  },
  {
   "cell_type": "code",
   "execution_count": 22,
   "metadata": {},
   "outputs": [
    {
     "data": {
      "text/html": [
       "<div>\n",
       "<style scoped>\n",
       "    .dataframe tbody tr th:only-of-type {\n",
       "        vertical-align: middle;\n",
       "    }\n",
       "\n",
       "    .dataframe tbody tr th {\n",
       "        vertical-align: top;\n",
       "    }\n",
       "\n",
       "    .dataframe thead th {\n",
       "        text-align: right;\n",
       "    }\n",
       "</style>\n",
       "<table border=\"1\" class=\"dataframe\">\n",
       "  <thead>\n",
       "    <tr style=\"text-align: right;\">\n",
       "      <th></th>\n",
       "      <th>user_id</th>\n",
       "      <th>months</th>\n",
       "      <th>mb_used</th>\n",
       "    </tr>\n",
       "  </thead>\n",
       "  <tbody>\n",
       "    <tr>\n",
       "      <th>0</th>\n",
       "      <td>1000</td>\n",
       "      <td>12</td>\n",
       "      <td>1901.47</td>\n",
       "    </tr>\n",
       "    <tr>\n",
       "      <th>1</th>\n",
       "      <td>1001</td>\n",
       "      <td>8</td>\n",
       "      <td>6919.15</td>\n",
       "    </tr>\n",
       "    <tr>\n",
       "      <th>2</th>\n",
       "      <td>1001</td>\n",
       "      <td>9</td>\n",
       "      <td>13314.82</td>\n",
       "    </tr>\n",
       "    <tr>\n",
       "      <th>3</th>\n",
       "      <td>1001</td>\n",
       "      <td>10</td>\n",
       "      <td>22330.49</td>\n",
       "    </tr>\n",
       "    <tr>\n",
       "      <th>4</th>\n",
       "      <td>1001</td>\n",
       "      <td>11</td>\n",
       "      <td>18504.30</td>\n",
       "    </tr>\n",
       "  </tbody>\n",
       "</table>\n",
       "</div>"
      ],
      "text/plain": [
       "   user_id  months   mb_used\n",
       "0     1000      12   1901.47\n",
       "1     1001       8   6919.15\n",
       "2     1001       9  13314.82\n",
       "3     1001      10  22330.49\n",
       "4     1001      11  18504.30"
      ]
     },
     "execution_count": 22,
     "metadata": {},
     "output_type": "execute_result"
    }
   ],
   "source": [
    "#get months\n",
    "internet['months'] = internet['session_date'].dt.month\n",
    "\n",
    "#group by userid and month\n",
    "\n",
    "internet_1 = internet.groupby(['user_id','months'])['mb_used'].sum()\n",
    "\n",
    "internet_1 = internet_1.reset_index()\n",
    "\n",
    "internet_1.head()"
   ]
  },
  {
   "cell_type": "markdown",
   "metadata": {},
   "source": [
    "## Study plan conditions"
   ]
  },
  {
   "cell_type": "markdown",
   "metadata": {},
   "source": [
    "Since it is critical to understand how the plans work, how users are charged based on their plan subscription. We will print out the plan information to view their conditions once again"
   ]
  },
  {
   "cell_type": "code",
   "execution_count": 23,
   "metadata": {},
   "outputs": [
    {
     "name": "stdout",
     "output_type": "stream",
     "text": [
      "<class 'pandas.core.frame.DataFrame'>\n",
      "RangeIndex: 2 entries, 0 to 1\n",
      "Data columns (total 9 columns):\n",
      " #   Column                 Non-Null Count  Dtype  \n",
      "---  ------                 --------------  -----  \n",
      " 0   messages_included      2 non-null      int64  \n",
      " 1   mb_per_month_included  2 non-null      int64  \n",
      " 2   minutes_included       2 non-null      int64  \n",
      " 3   usd_monthly_pay        2 non-null      int64  \n",
      " 4   usd_per_gb             2 non-null      int64  \n",
      " 5   usd_per_message        2 non-null      float64\n",
      " 6   usd_per_minute         2 non-null      float64\n",
      " 7   plan_name              2 non-null      object \n",
      " 8   gb_per_month_included  2 non-null      float64\n",
      "dtypes: float64(3), int64(5), object(1)\n",
      "memory usage: 272.0+ bytes\n"
     ]
    },
    {
     "data": {
      "text/html": [
       "<div>\n",
       "<style scoped>\n",
       "    .dataframe tbody tr th:only-of-type {\n",
       "        vertical-align: middle;\n",
       "    }\n",
       "\n",
       "    .dataframe tbody tr th {\n",
       "        vertical-align: top;\n",
       "    }\n",
       "\n",
       "    .dataframe thead th {\n",
       "        text-align: right;\n",
       "    }\n",
       "</style>\n",
       "<table border=\"1\" class=\"dataframe\">\n",
       "  <thead>\n",
       "    <tr style=\"text-align: right;\">\n",
       "      <th></th>\n",
       "      <th>messages_included</th>\n",
       "      <th>mb_per_month_included</th>\n",
       "      <th>minutes_included</th>\n",
       "      <th>usd_monthly_pay</th>\n",
       "      <th>usd_per_gb</th>\n",
       "      <th>usd_per_message</th>\n",
       "      <th>usd_per_minute</th>\n",
       "      <th>plan_name</th>\n",
       "      <th>gb_per_month_included</th>\n",
       "    </tr>\n",
       "  </thead>\n",
       "  <tbody>\n",
       "    <tr>\n",
       "      <th>0</th>\n",
       "      <td>50</td>\n",
       "      <td>15360</td>\n",
       "      <td>500</td>\n",
       "      <td>20</td>\n",
       "      <td>10</td>\n",
       "      <td>0.03</td>\n",
       "      <td>0.03</td>\n",
       "      <td>surf</td>\n",
       "      <td>15.0</td>\n",
       "    </tr>\n",
       "    <tr>\n",
       "      <th>1</th>\n",
       "      <td>1000</td>\n",
       "      <td>30720</td>\n",
       "      <td>3000</td>\n",
       "      <td>70</td>\n",
       "      <td>7</td>\n",
       "      <td>0.01</td>\n",
       "      <td>0.01</td>\n",
       "      <td>ultimate</td>\n",
       "      <td>30.0</td>\n",
       "    </tr>\n",
       "  </tbody>\n",
       "</table>\n",
       "</div>"
      ],
      "text/plain": [
       "   messages_included  mb_per_month_included  minutes_included  \\\n",
       "0                 50                  15360               500   \n",
       "1               1000                  30720              3000   \n",
       "\n",
       "   usd_monthly_pay  usd_per_gb  usd_per_message  usd_per_minute plan_name  \\\n",
       "0               20          10             0.03            0.03      surf   \n",
       "1               70           7             0.01            0.01  ultimate   \n",
       "\n",
       "   gb_per_month_included  \n",
       "0                   15.0  \n",
       "1                   30.0  "
      ]
     },
     "execution_count": 23,
     "metadata": {},
     "output_type": "execute_result"
    }
   ],
   "source": [
    "# Print out the plan conditions\n",
    "plans.info()\n",
    "plans.head()"
   ]
  },
  {
   "cell_type": "markdown",
   "metadata": {},
   "source": [
    "## Aggregate data per user\n"
   ]
  },
  {
   "cell_type": "markdown",
   "metadata": {},
   "source": [
    "We will put the aggregate data (done in enrichment steps) together into one DataFrame so that one record in it would represent what an unique user consumed in a given month."
   ]
  },
  {
   "cell_type": "markdown",
   "metadata": {},
   "source": [
    "All tables except for 'plans', users are being identified by the 'user_id' column. We will use that to merge the tables.\n"
   ]
  },
  {
   "cell_type": "code",
   "execution_count": 24,
   "metadata": {},
   "outputs": [
    {
     "name": "stdout",
     "output_type": "stream",
     "text": [
      "<class 'pandas.core.frame.DataFrame'>\n",
      "Int64Index: 2312 entries, 0 to 2311\n",
      "Data columns (total 13 columns):\n",
      " #   Column                 Non-Null Count  Dtype         \n",
      "---  ------                 --------------  -----         \n",
      " 0   user_id                2312 non-null   int64         \n",
      " 1   first_name             2277 non-null   object        \n",
      " 2   last_name              2277 non-null   object        \n",
      " 3   age                    2277 non-null   float64       \n",
      " 4   city                   2277 non-null   object        \n",
      " 5   reg_date               2277 non-null   datetime64[ns]\n",
      " 6   plan                   2277 non-null   category      \n",
      " 7   churn_date             160 non-null    object        \n",
      " 8   months                 2293 non-null   float64       \n",
      " 9   duration               2258 non-null   float64       \n",
      " 10  monthly_message_total  1806 non-null   float64       \n",
      " 11  mb_used                2277 non-null   float64       \n",
      " 12  gb_used                2277 non-null   float64       \n",
      "dtypes: category(1), datetime64[ns](1), float64(6), int64(1), object(4)\n",
      "memory usage: 237.2+ KB\n"
     ]
    },
    {
     "data": {
      "text/html": [
       "<div>\n",
       "<style scoped>\n",
       "    .dataframe tbody tr th:only-of-type {\n",
       "        vertical-align: middle;\n",
       "    }\n",
       "\n",
       "    .dataframe tbody tr th {\n",
       "        vertical-align: top;\n",
       "    }\n",
       "\n",
       "    .dataframe thead th {\n",
       "        text-align: right;\n",
       "    }\n",
       "</style>\n",
       "<table border=\"1\" class=\"dataframe\">\n",
       "  <thead>\n",
       "    <tr style=\"text-align: right;\">\n",
       "      <th></th>\n",
       "      <th>user_id</th>\n",
       "      <th>first_name</th>\n",
       "      <th>last_name</th>\n",
       "      <th>age</th>\n",
       "      <th>city</th>\n",
       "      <th>reg_date</th>\n",
       "      <th>plan</th>\n",
       "      <th>churn_date</th>\n",
       "      <th>months</th>\n",
       "      <th>duration</th>\n",
       "      <th>monthly_message_total</th>\n",
       "      <th>mb_used</th>\n",
       "      <th>gb_used</th>\n",
       "    </tr>\n",
       "  </thead>\n",
       "  <tbody>\n",
       "    <tr>\n",
       "      <th>0</th>\n",
       "      <td>1000</td>\n",
       "      <td>Anamaria</td>\n",
       "      <td>Bauer</td>\n",
       "      <td>45.0</td>\n",
       "      <td>Atlanta-Sandy Springs-Roswell, GA MSA</td>\n",
       "      <td>2018-12-24</td>\n",
       "      <td>ultimate</td>\n",
       "      <td>NaN</td>\n",
       "      <td>12.0</td>\n",
       "      <td>124.0</td>\n",
       "      <td>11.0</td>\n",
       "      <td>1901.47</td>\n",
       "      <td>2.0</td>\n",
       "    </tr>\n",
       "    <tr>\n",
       "      <th>1</th>\n",
       "      <td>1001</td>\n",
       "      <td>Mickey</td>\n",
       "      <td>Wilkerson</td>\n",
       "      <td>28.0</td>\n",
       "      <td>Seattle-Tacoma-Bellevue, WA MSA</td>\n",
       "      <td>2018-08-13</td>\n",
       "      <td>surf</td>\n",
       "      <td>NaN</td>\n",
       "      <td>8.0</td>\n",
       "      <td>182.0</td>\n",
       "      <td>30.0</td>\n",
       "      <td>6919.15</td>\n",
       "      <td>7.0</td>\n",
       "    </tr>\n",
       "    <tr>\n",
       "      <th>2</th>\n",
       "      <td>1001</td>\n",
       "      <td>Mickey</td>\n",
       "      <td>Wilkerson</td>\n",
       "      <td>28.0</td>\n",
       "      <td>Seattle-Tacoma-Bellevue, WA MSA</td>\n",
       "      <td>2018-08-13</td>\n",
       "      <td>surf</td>\n",
       "      <td>NaN</td>\n",
       "      <td>9.0</td>\n",
       "      <td>315.0</td>\n",
       "      <td>44.0</td>\n",
       "      <td>13314.82</td>\n",
       "      <td>14.0</td>\n",
       "    </tr>\n",
       "    <tr>\n",
       "      <th>3</th>\n",
       "      <td>1001</td>\n",
       "      <td>Mickey</td>\n",
       "      <td>Wilkerson</td>\n",
       "      <td>28.0</td>\n",
       "      <td>Seattle-Tacoma-Bellevue, WA MSA</td>\n",
       "      <td>2018-08-13</td>\n",
       "      <td>surf</td>\n",
       "      <td>NaN</td>\n",
       "      <td>10.0</td>\n",
       "      <td>393.0</td>\n",
       "      <td>53.0</td>\n",
       "      <td>22330.49</td>\n",
       "      <td>22.0</td>\n",
       "    </tr>\n",
       "    <tr>\n",
       "      <th>4</th>\n",
       "      <td>1001</td>\n",
       "      <td>Mickey</td>\n",
       "      <td>Wilkerson</td>\n",
       "      <td>28.0</td>\n",
       "      <td>Seattle-Tacoma-Bellevue, WA MSA</td>\n",
       "      <td>2018-08-13</td>\n",
       "      <td>surf</td>\n",
       "      <td>NaN</td>\n",
       "      <td>11.0</td>\n",
       "      <td>426.0</td>\n",
       "      <td>36.0</td>\n",
       "      <td>18504.30</td>\n",
       "      <td>19.0</td>\n",
       "    </tr>\n",
       "  </tbody>\n",
       "</table>\n",
       "</div>"
      ],
      "text/plain": [
       "   user_id first_name  last_name   age                                   city  \\\n",
       "0     1000   Anamaria      Bauer  45.0  Atlanta-Sandy Springs-Roswell, GA MSA   \n",
       "1     1001     Mickey  Wilkerson  28.0        Seattle-Tacoma-Bellevue, WA MSA   \n",
       "2     1001     Mickey  Wilkerson  28.0        Seattle-Tacoma-Bellevue, WA MSA   \n",
       "3     1001     Mickey  Wilkerson  28.0        Seattle-Tacoma-Bellevue, WA MSA   \n",
       "4     1001     Mickey  Wilkerson  28.0        Seattle-Tacoma-Bellevue, WA MSA   \n",
       "\n",
       "    reg_date      plan churn_date  months  duration  monthly_message_total  \\\n",
       "0 2018-12-24  ultimate        NaN    12.0     124.0                   11.0   \n",
       "1 2018-08-13      surf        NaN     8.0     182.0                   30.0   \n",
       "2 2018-08-13      surf        NaN     9.0     315.0                   44.0   \n",
       "3 2018-08-13      surf        NaN    10.0     393.0                   53.0   \n",
       "4 2018-08-13      surf        NaN    11.0     426.0                   36.0   \n",
       "\n",
       "    mb_used  gb_used  \n",
       "0   1901.47      2.0  \n",
       "1   6919.15      7.0  \n",
       "2  13314.82     14.0  \n",
       "3  22330.49     22.0  \n",
       "4  18504.30     19.0  "
      ]
     },
     "execution_count": 24,
     "metadata": {},
     "output_type": "execute_result"
    }
   ],
   "source": [
    "# Merge the data for calls, minutes, messages, internet based on user_id and month\n",
    "data1 = users.merge(calls_1, on = 'user_id', how='outer')\n",
    "data2 = data1.merge(messages_1, on =['user_id','months'], how='outer')\n",
    "data_final = data2.merge(internet_1, on =['user_id','months'], how = 'outer')\n",
    "data_final.head(30)\n",
    "\n",
    "#renaming + adding necessary columns\n",
    "\n",
    "data_final['gb_used'] = data_final['mb_used']/1024\n",
    "\n",
    "data_final['gb_used'] = np.ceil(data_final['gb_used'])\n",
    "\n",
    "\n",
    "data_final.rename(columns = {'message_date':'monthly_message_total'}, inplace=True)\n",
    "data_final.info()\n",
    "data_final.head()"
   ]
  },
  {
   "cell_type": "markdown",
   "metadata": {},
   "source": [
    "We will then calculate the monthly revenue from each user. We will subtract the free package limit from the total number of calls, text messages, and data; multiply the result by the calling plan value; add the monthly charge depending on the calling plan. "
   ]
  },
  {
   "cell_type": "code",
   "execution_count": 26,
   "metadata": {},
   "outputs": [
    {
     "data": {
      "text/html": [
       "<div>\n",
       "<style scoped>\n",
       "    .dataframe tbody tr th:only-of-type {\n",
       "        vertical-align: middle;\n",
       "    }\n",
       "\n",
       "    .dataframe tbody tr th {\n",
       "        vertical-align: top;\n",
       "    }\n",
       "\n",
       "    .dataframe thead th {\n",
       "        text-align: right;\n",
       "    }\n",
       "</style>\n",
       "<table border=\"1\" class=\"dataframe\">\n",
       "  <thead>\n",
       "    <tr style=\"text-align: right;\">\n",
       "      <th></th>\n",
       "      <th>user_id</th>\n",
       "      <th>first_name</th>\n",
       "      <th>last_name</th>\n",
       "      <th>age</th>\n",
       "      <th>city</th>\n",
       "      <th>reg_date</th>\n",
       "      <th>plan</th>\n",
       "      <th>churn_date</th>\n",
       "      <th>months</th>\n",
       "      <th>duration</th>\n",
       "      <th>monthly_message_total</th>\n",
       "      <th>mb_used</th>\n",
       "      <th>gb_used</th>\n",
       "      <th>monthly_revenue</th>\n",
       "    </tr>\n",
       "  </thead>\n",
       "  <tbody>\n",
       "    <tr>\n",
       "      <th>0</th>\n",
       "      <td>1000</td>\n",
       "      <td>Anamaria</td>\n",
       "      <td>Bauer</td>\n",
       "      <td>45.0</td>\n",
       "      <td>Atlanta-Sandy Springs-Roswell, GA MSA</td>\n",
       "      <td>2018-12-24</td>\n",
       "      <td>ultimate</td>\n",
       "      <td>NaN</td>\n",
       "      <td>12.0</td>\n",
       "      <td>124.0</td>\n",
       "      <td>11.0</td>\n",
       "      <td>1901.47</td>\n",
       "      <td>2.0</td>\n",
       "      <td>70.00</td>\n",
       "    </tr>\n",
       "    <tr>\n",
       "      <th>1</th>\n",
       "      <td>1001</td>\n",
       "      <td>Mickey</td>\n",
       "      <td>Wilkerson</td>\n",
       "      <td>28.0</td>\n",
       "      <td>Seattle-Tacoma-Bellevue, WA MSA</td>\n",
       "      <td>2018-08-13</td>\n",
       "      <td>surf</td>\n",
       "      <td>NaN</td>\n",
       "      <td>8.0</td>\n",
       "      <td>182.0</td>\n",
       "      <td>30.0</td>\n",
       "      <td>6919.15</td>\n",
       "      <td>7.0</td>\n",
       "      <td>20.00</td>\n",
       "    </tr>\n",
       "    <tr>\n",
       "      <th>2</th>\n",
       "      <td>1001</td>\n",
       "      <td>Mickey</td>\n",
       "      <td>Wilkerson</td>\n",
       "      <td>28.0</td>\n",
       "      <td>Seattle-Tacoma-Bellevue, WA MSA</td>\n",
       "      <td>2018-08-13</td>\n",
       "      <td>surf</td>\n",
       "      <td>NaN</td>\n",
       "      <td>9.0</td>\n",
       "      <td>315.0</td>\n",
       "      <td>44.0</td>\n",
       "      <td>13314.82</td>\n",
       "      <td>14.0</td>\n",
       "      <td>20.00</td>\n",
       "    </tr>\n",
       "    <tr>\n",
       "      <th>3</th>\n",
       "      <td>1001</td>\n",
       "      <td>Mickey</td>\n",
       "      <td>Wilkerson</td>\n",
       "      <td>28.0</td>\n",
       "      <td>Seattle-Tacoma-Bellevue, WA MSA</td>\n",
       "      <td>2018-08-13</td>\n",
       "      <td>surf</td>\n",
       "      <td>NaN</td>\n",
       "      <td>10.0</td>\n",
       "      <td>393.0</td>\n",
       "      <td>53.0</td>\n",
       "      <td>22330.49</td>\n",
       "      <td>22.0</td>\n",
       "      <td>90.09</td>\n",
       "    </tr>\n",
       "    <tr>\n",
       "      <th>4</th>\n",
       "      <td>1001</td>\n",
       "      <td>Mickey</td>\n",
       "      <td>Wilkerson</td>\n",
       "      <td>28.0</td>\n",
       "      <td>Seattle-Tacoma-Bellevue, WA MSA</td>\n",
       "      <td>2018-08-13</td>\n",
       "      <td>surf</td>\n",
       "      <td>NaN</td>\n",
       "      <td>11.0</td>\n",
       "      <td>426.0</td>\n",
       "      <td>36.0</td>\n",
       "      <td>18504.30</td>\n",
       "      <td>19.0</td>\n",
       "      <td>60.00</td>\n",
       "    </tr>\n",
       "  </tbody>\n",
       "</table>\n",
       "</div>"
      ],
      "text/plain": [
       "   user_id first_name  last_name   age                                   city  \\\n",
       "0     1000   Anamaria      Bauer  45.0  Atlanta-Sandy Springs-Roswell, GA MSA   \n",
       "1     1001     Mickey  Wilkerson  28.0        Seattle-Tacoma-Bellevue, WA MSA   \n",
       "2     1001     Mickey  Wilkerson  28.0        Seattle-Tacoma-Bellevue, WA MSA   \n",
       "3     1001     Mickey  Wilkerson  28.0        Seattle-Tacoma-Bellevue, WA MSA   \n",
       "4     1001     Mickey  Wilkerson  28.0        Seattle-Tacoma-Bellevue, WA MSA   \n",
       "\n",
       "    reg_date      plan churn_date  months  duration  monthly_message_total  \\\n",
       "0 2018-12-24  ultimate        NaN    12.0     124.0                   11.0   \n",
       "1 2018-08-13      surf        NaN     8.0     182.0                   30.0   \n",
       "2 2018-08-13      surf        NaN     9.0     315.0                   44.0   \n",
       "3 2018-08-13      surf        NaN    10.0     393.0                   53.0   \n",
       "4 2018-08-13      surf        NaN    11.0     426.0                   36.0   \n",
       "\n",
       "    mb_used  gb_used  monthly_revenue  \n",
       "0   1901.47      2.0            70.00  \n",
       "1   6919.15      7.0            20.00  \n",
       "2  13314.82     14.0            20.00  \n",
       "3  22330.49     22.0            90.09  \n",
       "4  18504.30     19.0            60.00  "
      ]
     },
     "execution_count": 26,
     "metadata": {},
     "output_type": "execute_result"
    }
   ],
   "source": [
    "# Calculate the monthly revenue for each user\n",
    "\n",
    "#create a function called monthly_revenue that takes row as argument\n",
    "def monthly_revenue(row):\n",
    "    \n",
    "    #a variable for additional minutes\n",
    "    additional_mins = 0\n",
    "    \n",
    "    #a variable for additional messages\n",
    "    additional_message = 0\n",
    "    \n",
    "    #a variable for additional data\n",
    "    additional_data_gb = 0\n",
    "    \n",
    "    #base charge for surf plan\n",
    "    surf_base = 20\n",
    "    \n",
    "    #base charge for ultimate plan\n",
    "    ultimate_base = 70\n",
    "    \n",
    "    #variable plan that takes the value from column plan from row\n",
    "    plan = row['plan']\n",
    "    \n",
    "    #condtion statement\n",
    "    if plan == 'surf':\n",
    "        \n",
    "        #if this value is greater than what is included in the plan\n",
    "        if row['duration'] > 500:\n",
    "            \n",
    "            #calculates how much over\n",
    "            additional_mins = row['duration'] - 500\n",
    "         \n",
    "        #if this value is greater than what is included in the plan\n",
    "        if row['monthly_message_total'] > 50:\n",
    "            \n",
    "            #calculates how much over\n",
    "            additional_message = row['monthly_message_total'] - 50\n",
    "        \n",
    "        #if this value is greater than what is included in the plan\n",
    "        if row['gb_used'] > 15:\n",
    "            \n",
    "            #calculates how much over\n",
    "            additional_data_gb = row['gb_used'] - 15\n",
    "            \n",
    "        #calculate the profit from users using more than what is included in the plan    \n",
    "        profit = (additional_mins * 0.03) + (additional_message * 0.03) + (additional_data_gb * 10)\n",
    "        \n",
    "        #condition, if they did not use more than what is included\n",
    "        if profit == 0:\n",
    "            \n",
    "            #monthly revenue will be the base charge\n",
    "            return surf_base\n",
    "        \n",
    "        #if they did\n",
    "        else:\n",
    "            \n",
    "            #montly revenue will be the base charge plus the profit for over-usage\n",
    "            return profit + surf_base\n",
    "        \n",
    "    if plan == 'ultimate':\n",
    "        \n",
    "        #if this value is greater than what is included in the plan\n",
    "        if row['duration'] > 3000:\n",
    "            \n",
    "            #calculates how much over\n",
    "            additional_mins = row['duration'] - 3000\n",
    "        \n",
    "        #if this value is greater than what is included in the plan\n",
    "        if row['monthly_message_total'] > 1000:\n",
    "            \n",
    "            #calculates how much over\n",
    "            additional_message = row['monthly_message_total'] - 1000\n",
    "        \n",
    "        #if this value is greater than what is included in the plan\n",
    "        if row['gb_used'] > 30:\n",
    "            \n",
    "            #calculates how much over\n",
    "            additional_data_gb = row['gb_used'] - 30\n",
    "        \n",
    "         #calculate the profit from users using more than what is included in the plan\n",
    "        profit = (additional_mins * 0.01) + (additional_message * 0.01) + (additional_data_gb * 7)\n",
    "        \n",
    "        #condition, if they did not use more than what is included\n",
    "        if profit == 0:\n",
    "            \n",
    "             #monthly revenue will be the base charge\n",
    "            return ultimate_base\n",
    "       \n",
    "        #if they did\n",
    "        else:\n",
    "            \n",
    "            #montly revenue will be the base charge plus the profit for over-usage\n",
    "            return profit + ultimate_base\n",
    "        \n",
    "#applying the function to users_all_final, append each row, result store in new column 'monthly_revenue'\n",
    "data_final['monthly_revenue'] = data_final.apply(monthly_revenue, axis = 1)\n",
    "\n",
    "#check\n",
    "data_final.head()"
   ]
  },
  {
   "cell_type": "markdown",
   "metadata": {},
   "source": [
    "Everything looks good, we can now move on to the analysis."
   ]
  },
  {
   "cell_type": "markdown",
   "metadata": {},
   "source": [
    "## Study user behavior"
   ]
  },
  {
   "cell_type": "markdown",
   "metadata": {},
   "source": [
    "We will use some descriptive statistics for the aggregated and merged data, which typically reveal an overall picture captured by the data. Multiple useful plots were drawn to help the understanding. Given that the main task is to compare the plans and decide on which one is more profitable, the statistics and the plots has been calculated on a per-plan basis."
   ]
  },
  {
   "cell_type": "markdown",
   "metadata": {},
   "source": [
    "### Calls"
   ]
  },
  {
   "cell_type": "code",
   "execution_count": 27,
   "metadata": {},
   "outputs": [
    {
     "data": {
      "image/png": "[encoded data removed]",
      "text/plain": [
       "<Figure size 432x288 with 1 Axes>"
      ]
     },
     "metadata": {
      "needs_background": "light"
     },
     "output_type": "display_data"
    },
    {
     "data": {
      "text/plain": [
       "<Figure size 720x360 with 0 Axes>"
      ]
     },
     "metadata": {},
     "output_type": "display_data"
    }
   ],
   "source": [
    "# Compare average duration of calls per each plan per each distinct month. Plot a bar plat to visualize it.\n",
    "surf_data = data_final.query('plan == \"surf\"')\n",
    "ultimate_data = data_final.query('plan == \"ultimate\"')\n",
    "\n",
    "width = 0.3       \n",
    "\n",
    "plt.bar(surf_data['months'], surf_data['duration'], width, label = 'surf_monthly_duration')\n",
    "plt.bar(ultimate_data['months'] + width, ultimate_data['duration'], width, label ='ultimate_monthly_duration')\n",
    "plt.legend()\n",
    "plt.title('duration of calls per plan per months')\n",
    "plt.xlabel('months')\n",
    "plt.ylabel('duration')\n",
    "plt.figure(figsize=(10,5))\n",
    "plt.show()\n"
   ]
  },
  {
   "cell_type": "code",
   "execution_count": 47,
   "metadata": {},
   "outputs": [
    {
     "data": {
      "image/png": "[encoded data removed]",
      "text/plain": [
       "<Figure size 432x288 with 1 Axes>"
      ]
     },
     "metadata": {
      "needs_background": "light"
     },
     "output_type": "display_data"
    }
   ],
   "source": [
    "# Compare the number of minutes users of each plan.\n",
    "\n",
    "plt.hist(surf_data['duration'],bins= 50, alpha = 0.5, color = 'y', label = 'surf_monthly_duration')\n",
    "plt.hist(ultimate_data['duration'],bins = 50, alpha =0.5, color = 'c', label = 'ultimate_montly_duration')\n",
    "plt.legend(loc='upper right')\n",
    "plt.title('Number of minutes users of each plan require each month')\n",
    "plt.xlabel('minutes')\n",
    "plt.ylabel('frequency')\n",
    "plt.show()\n"
   ]
  },
  {
   "cell_type": "markdown",
   "metadata": {},
   "source": [
    "Calculation of mean and the variable of the call duration to reason on whether users on the different plans have different behaviours for their calls."
   ]
  },
  {
   "cell_type": "code",
   "execution_count": 29,
   "metadata": {},
   "outputs": [
    {
     "name": "stdout",
     "output_type": "stream",
     "text": [
      "the mean of the monthly call duration for surf plan users is: 436.51974110032364\n",
      "the variance of the monthly call duration for surf plan users is: 52537.03666530514\n",
      "the mean of the monthly call duration for ultimate plan users is: 434.67601683029454\n",
      "the variance of the monthly call duration for ultimate plan users is: 56494.28633925357\n"
     ]
    }
   ],
   "source": [
    "# The mean and the variance of the monthly call duration\n",
    "\n",
    "print('the mean of the monthly call duration for surf plan users is:', surf_data['duration'].mean())\n",
    "print('the variance of the monthly call duration for surf plan users is:', np.var(surf_data['duration']))\n",
    "\n",
    "print('the mean of the monthly call duration for ultimate plan users is:', ultimate_data['duration'].mean())\n",
    "print('the variance of the monthly call duration for ultimate plan users is:', np.var(ultimate_data['duration']))"
   ]
  },
  {
   "cell_type": "code",
   "execution_count": 30,
   "metadata": {},
   "outputs": [
    {
     "data": {
      "image/png": "[encoded data removed]",
      "text/plain": [
       "<Figure size 432x288 with 1 Axes>"
      ]
     },
     "metadata": {
      "needs_background": "light"
     },
     "output_type": "display_data"
    }
   ],
   "source": [
    "# Plot a boxplot to visualize the distribution of the monthly call duration\n",
    "\n",
    "ax = sns.boxplot(x='months', y='duration', hue='plan', data=data_final)\n",
    "\n",
    "ax.set_title('monthly call duration by plan')\n",
    "\n",
    "ticks = ax.set_xticklabels(ax.get_xticklabels(),rotation=30)\n"
   ]
  },
  {
   "cell_type": "markdown",
   "metadata": {},
   "source": [
    "Based on the descriptive statistics, the bar plot showed that surf users has used more call minutes than ultimate users in majority of the months. And majority of them used well over 500 minutes. The histogram reflects the same, higher frequency for surf users for >500 mins, considering they will have pay extra for overusage. Although the mean and variance are similar, but we need to consider that surf users have a lower limit for monthly call duration. The median appeard to be similar for both surf and ultimate users except for Feb and March. However, surf and ultimate both have multiple outliers that falls outside of the upper limit. Suggesting surf users tend to use more than what is included in the package. \n",
    "\n",
    "Therefore, I think it is safe to conclude that based on the statistics, surf plan users is more likely to use more than what is included in the package for call minutes, thus generating revenue for the company. "
   ]
  },
  {
   "cell_type": "markdown",
   "metadata": {},
   "source": [
    " "
   ]
  },
  {
   "cell_type": "markdown",
   "metadata": {},
   "source": [
    "### Messages"
   ]
  },
  {
   "cell_type": "code",
   "execution_count": 31,
   "metadata": {},
   "outputs": [
    {
     "data": {
      "image/png": "[encoded data removed]",
      "text/plain": [
       "<Figure size 432x288 with 1 Axes>"
      ]
     },
     "metadata": {
      "needs_background": "light"
     },
     "output_type": "display_data"
    },
    {
     "data": {
      "text/plain": [
       "<Figure size 720x360 with 0 Axes>"
      ]
     },
     "metadata": {},
     "output_type": "display_data"
    }
   ],
   "source": [
    "# The number of messages users of each plan tend to send each month\n",
    "\n",
    "width = 0.3       \n",
    "\n",
    "plt.bar(surf_data['months'], surf_data['monthly_message_total'], width, label = 'surf_monthly_messages')\n",
    "plt.bar(ultimate_data['months'] + width, ultimate_data['monthly_message_total'], width, label ='ultimate_monthly_messages')\n",
    "plt.legend()\n",
    "plt.title('messages sent per plan per months')\n",
    "plt.xlabel('months')\n",
    "plt.ylabel('messages')\n",
    "plt.figure(figsize=(10,5))\n",
    "plt.show()\n"
   ]
  },
  {
   "cell_type": "code",
   "execution_count": 32,
   "metadata": {},
   "outputs": [
    {
     "data": {
      "image/png": "[encoded data removed]",
      "text/plain": [
       "<Figure size 432x288 with 1 Axes>"
      ]
     },
     "metadata": {
      "needs_background": "light"
     },
     "output_type": "display_data"
    }
   ],
   "source": [
    "# Compare the amount of messages sent by users per plan\n",
    "\n",
    "plt.hist(surf_data['monthly_message_total'],bins= 50, alpha = 0.5, color = 'y', label = 'surf_monthly_message')\n",
    "plt.hist(ultimate_data['monthly_message_total'],bins = 50, alpha =0.5, color = 'c', label = 'ultimate_montly_message')\n",
    "plt.legend(loc='upper right')\n",
    "plt.title('messages sent by users per plan')\n",
    "plt.xlabel('messages')\n",
    "plt.ylabel('frequency')\n",
    "plt.show()\n"
   ]
  },
  {
   "cell_type": "code",
   "execution_count": 33,
   "metadata": {},
   "outputs": [
    {
     "name": "stdout",
     "output_type": "stream",
     "text": [
      "the mean of the monthly message for surf plan users is: 39.98073701842546\n",
      "the variance of the monthly message for surf plan users is: 1100.6152068269882\n",
      "the mean of the monthly message for ultimate plan users is: 46.4559585492228\n",
      "the variance of the monthly message for ultimate plan users is: 1082.5209446338606\n"
     ]
    }
   ],
   "source": [
    "# The mean and the variance of the monthly message sent by user\n",
    "\n",
    "print('the mean of the monthly message for surf plan users is:', surf_data['monthly_message_total'].mean())\n",
    "print('the variance of the monthly message for surf plan users is:', np.var(surf_data['monthly_message_total']))\n",
    "\n",
    "print('the mean of the monthly message for ultimate plan users is:', ultimate_data['monthly_message_total'].mean())\n",
    "print('the variance of the monthly message for ultimate plan users is:', np.var(ultimate_data['monthly_message_total']))"
   ]
  },
  {
   "cell_type": "code",
   "execution_count": 34,
   "metadata": {},
   "outputs": [
    {
     "data": {
      "image/png": "[encoded data removed]",
      "text/plain": [
       "<Figure size 432x288 with 1 Axes>"
      ]
     },
     "metadata": {
      "needs_background": "light"
     },
     "output_type": "display_data"
    }
   ],
   "source": [
    "# Plot a boxplot to visualize the distribution of the monthly message sent by user per plan\n",
    "\n",
    "ax = sns.boxplot(x='months', y='monthly_message_total', hue='plan', data=data_final)\n",
    "\n",
    "ax.set_title('monthly message sent by user per plan')\n",
    "\n",
    "ticks = ax.set_xticklabels(ax.get_xticklabels(),rotation=30)"
   ]
  },
  {
   "cell_type": "markdown",
   "metadata": {},
   "source": [
    "Based on the descriptive statistics, the bar plot showed that surf users has sent more messages than ultimate users in some of the months. What is more important, is that except for Jan, surf users tend to sent more than 50 messages each month. The histogram reflects the same, higher frequency for surf users for >50 messages, considering they will have pay extra for overusage. Although the mean and variance are similar, but we need to consider that surf users have a lower limit for monthly call duration, ultimate users have a much higher limit. The median appeard to be pretty higher for ultimate users. However, surf users appeared to have more outliers that falls outside of the upper limit. Suggesting surf users do use more than what is included in the package. \n",
    "\n",
    "Therefore, I think it is safe to conclude that based on the statistics, surf plan users is more likely to use more than what is included in the package for messages, as they have a much lower limit than ultimate users, thus generating revenue for the company. "
   ]
  },
  {
   "cell_type": "markdown",
   "metadata": {},
   "source": [
    " "
   ]
  },
  {
   "cell_type": "markdown",
   "metadata": {},
   "source": [
    "### Internet"
   ]
  },
  {
   "cell_type": "code",
   "execution_count": 35,
   "metadata": {},
   "outputs": [
    {
     "data": {
      "image/png": "[encoded data removed]",
      "text/plain": [
       "<Figure size 432x288 with 1 Axes>"
      ]
     },
     "metadata": {
      "needs_background": "light"
     },
     "output_type": "display_data"
    },
    {
     "data": {
      "text/plain": [
       "<Figure size 720x360 with 0 Axes>"
      ]
     },
     "metadata": {},
     "output_type": "display_data"
    }
   ],
   "source": [
    "# The number of internet usage per plan per month in gb\n",
    "\n",
    "width = 0.3       \n",
    "\n",
    "plt.bar(surf_data['months'], surf_data['gb_used'], width, label = 'surf_monthly_internet_usage')\n",
    "plt.bar(ultimate_data['months'] + width, ultimate_data['gb_used'], width, label ='ultimate_monthly_internet_usage')\n",
    "plt.legend()\n",
    "plt.title('internet usage per plan per months')\n",
    "plt.xlabel('months')\n",
    "plt.ylabel('gb_used')\n",
    "plt.figure(figsize=(10,5))\n",
    "plt.show()"
   ]
  },
  {
   "cell_type": "code",
   "execution_count": 36,
   "metadata": {},
   "outputs": [
    {
     "data": {
      "image/png": "[encoded data removed]",
      "text/plain": [
       "<Figure size 432x288 with 1 Axes>"
      ]
     },
     "metadata": {
      "needs_background": "light"
     },
     "output_type": "display_data"
    }
   ],
   "source": [
    "# Compare the amount of messages sent by users per plan\n",
    "\n",
    "plt.hist(surf_data['gb_used'],bins= 50, alpha = 0.5, color = 'y', label = 'surf_monthly_internet_usage')\n",
    "plt.hist(ultimate_data['gb_used'],bins = 50, alpha =0.5, color = 'c', label = 'ultimate_montly_internet_usage')\n",
    "plt.legend(loc='upper right')\n",
    "plt.title('internet usage by users per plan')\n",
    "plt.xlabel('gb_used')\n",
    "plt.ylabel('frequency')\n",
    "plt.show()\n"
   ]
  },
  {
   "cell_type": "code",
   "execution_count": 37,
   "metadata": {},
   "outputs": [
    {
     "name": "stdout",
     "output_type": "stream",
     "text": [
      "the mean of the monthly internet usage for surf plan users is: 16.783006535947713\n",
      "the variance of the monthly internet usage for surf plan users is: 56.908469392114135\n",
      "the mean of the monthly internet usage for ultimate plan users is: 17.370266479663393\n",
      "the variance of the monthly internet usage for ultimate plan users is: 57.37762924175156\n"
     ]
    }
   ],
   "source": [
    "# The mean and the variance of the monthly internet usage by plan\n",
    "\n",
    "print('the mean of the monthly internet usage for surf plan users is:', surf_data['gb_used'].mean())\n",
    "print('the variance of the monthly internet usage for surf plan users is:', np.var(surf_data['gb_used']))\n",
    "\n",
    "print('the mean of the monthly internet usage for ultimate plan users is:', ultimate_data['gb_used'].mean())\n",
    "print('the variance of the monthly internet usage for ultimate plan users is:', np.var(ultimate_data['gb_used']))"
   ]
  },
  {
   "cell_type": "code",
   "execution_count": 38,
   "metadata": {},
   "outputs": [
    {
     "data": {
      "image/png": "[encoded data removed]",
      "text/plain": [
       "<Figure size 432x288 with 1 Axes>"
      ]
     },
     "metadata": {
      "needs_background": "light"
     },
     "output_type": "display_data"
    }
   ],
   "source": [
    "# Plot a boxplot to visualize the distribution of the monthly internet usage\n",
    "\n",
    "ax = sns.boxplot(x='months', y='gb_used', hue='plan', data=data_final)\n",
    "\n",
    "ax.set_title('monthly internet usage by plan')\n",
    "\n",
    "ticks = ax.set_xticklabels(ax.get_xticklabels(),rotation=30)\n"
   ]
  },
  {
   "cell_type": "markdown",
   "metadata": {},
   "source": [
    "Based on the descriptive statistics, the bar plot showed that surf users has used more internet than ultimate users in some of the months. What is more important, is that except for Jan, surf users tend to use more than 15gb each month. The histogram reflects the same, higher frequency for surf users for>15gb, considering they will have pay extra for overusage. Although the mean and variance are similar, but we need to consider that surf users have a lower limit for monthly call duration, ultimate users have a much higher limit. The median appeard to vary from month to month. However, surf users appeared to have more outliers that falls outside of the upper limit. Suggesting surf users do use more than what is included in the package. \n",
    "\n",
    "Therefore, I think it is safe to conclude that based on the statistics, surf plan users is more likely to use more than what is included in the package for internet, as they have a much lower limit than ultimate users, thus generating revenue for the company. "
   ]
  },
  {
   "cell_type": "markdown",
   "metadata": {},
   "source": [
    " "
   ]
  },
  {
   "cell_type": "markdown",
   "metadata": {},
   "source": [
    "## Revenue"
   ]
  },
  {
   "cell_type": "markdown",
   "metadata": {},
   "source": [
    "Let's look at the revenue see if it confirms what we saw in previous steps."
   ]
  },
  {
   "cell_type": "code",
   "execution_count": 39,
   "metadata": {},
   "outputs": [
    {
     "data": {
      "image/png": "[encoded data removed]",
      "text/plain": [
       "<Figure size 432x288 with 1 Axes>"
      ]
     },
     "metadata": {
      "needs_background": "light"
     },
     "output_type": "display_data"
    },
    {
     "data": {
      "text/plain": [
       "<Figure size 720x360 with 0 Axes>"
      ]
     },
     "metadata": {},
     "output_type": "display_data"
    }
   ],
   "source": [
    "# The number of revenue generated by plan per month \n",
    "\n",
    "width = 0.3       \n",
    "\n",
    "plt.bar(surf_data['months'], surf_data['monthly_revenue'], width, label = 'surf_monthly_reveune')\n",
    "plt.bar(ultimate_data['months'] + width, ultimate_data['monthly_revenue'], width, label ='ultimate_monthly_revenue')\n",
    "plt.legend()\n",
    "plt.title('revenue per plan per months')\n",
    "plt.xlabel('months')\n",
    "plt.ylabel('revenue')\n",
    "plt.figure(figsize=(10,5))\n",
    "plt.show()"
   ]
  },
  {
   "cell_type": "code",
   "execution_count": 40,
   "metadata": {},
   "outputs": [
    {
     "data": {
      "image/png": "[encoded data removed]",
      "text/plain": [
       "<Figure size 432x288 with 1 Axes>"
      ]
     },
     "metadata": {
      "needs_background": "light"
     },
     "output_type": "display_data"
    }
   ],
   "source": [
    "# Compare the revenues generated by users per plan\n",
    "\n",
    "plt.hist(surf_data['monthly_revenue'],bins= 20, alpha = 0.5, color = 'y', label = 'surf_monthly_revenue')\n",
    "plt.hist(ultimate_data['monthly_revenue'],bins = 10, alpha =0.5, color = 'c', label = 'ultimate_montly_revenue')\n",
    "plt.legend(loc='upper right')\n",
    "plt.title('revenue by users per plan')\n",
    "plt.xlabel('monthly_revenue')\n",
    "plt.ylabel('frequency')\n",
    "plt.show()\n"
   ]
  },
  {
   "cell_type": "code",
   "execution_count": 41,
   "metadata": {},
   "outputs": [
    {
     "name": "stdout",
     "output_type": "stream",
     "text": [
      "the mean of the monthly revenue for surf plan users is: 59.79070603337613\n",
      "the variance of the monthly revenue for surf plan users is: 2853.3886915425956\n",
      "the mean of the monthly revenue for ultimate plan users is: 72.2586926286509\n",
      "the variance of the monthly revenue for ultimate plan users is: 127.65491400705278\n"
     ]
    }
   ],
   "source": [
    "# The mean and the variance of the monthly revenue generated by plan\n",
    "\n",
    "print('the mean of the monthly revenue for surf plan users is:', surf_data['monthly_revenue'].mean())\n",
    "print('the variance of the monthly revenue for surf plan users is:', np.var(surf_data['monthly_revenue']))\n",
    "\n",
    "print('the mean of the monthly revenue for ultimate plan users is:', ultimate_data['monthly_revenue'].mean())\n",
    "print('the variance of the monthly revenue for ultimate plan users is:', np.var(ultimate_data['monthly_revenue']))"
   ]
  },
  {
   "cell_type": "code",
   "execution_count": 42,
   "metadata": {},
   "outputs": [
    {
     "data": {
      "image/png": "[encoded data removed]",
      "text/plain": [
       "<Figure size 432x288 with 1 Axes>"
      ]
     },
     "metadata": {
      "needs_background": "light"
     },
     "output_type": "display_data"
    }
   ],
   "source": [
    "# Plot a boxplot to visualize the distribution of the monthly revenue\n",
    "\n",
    "ax = sns.boxplot(x='months', y='monthly_revenue', hue='plan', data=data_final)\n",
    "\n",
    "ax.set_title('monthly revenue by plan')\n",
    "\n",
    "ticks = ax.set_xticklabels(ax.get_xticklabels(),rotation=30)"
   ]
  },
  {
   "cell_type": "markdown",
   "metadata": {},
   "source": [
    "As expected, the bar plot showed that surf users generates more revenue than ultimate users in most of the months. What is more important is that ultimate users pay higher amount for their packages, even then surf users generated more revenues. The histogram reflects the same, most of the ultimate users stayed within their usage limit, therefore only paying for the package, without generating any additional revenue. Surf users in another hand, some stayed within the limit, but most seemed to over-used and had to pay extra. The mean for surf users is well above their base: 20, ultimate users stayed within the base: 70. The median for ultimate users appeared to be higher than surf users, as expected, since their monthly based charge is higher. However, surf users appeared to have more outliers that falls outside of the upper limit and the median is well above 20. Suggesting surf users do pay more than their base charge. \n",
    "\n",
    "Therefore, I think it is safe to conclude that based on the statistics, surf plan users is more likely to use more than what is included in the package, as they have a much lower limit than ultimate users, thus generating revenue for the company. "
   ]
  },
  {
   "cell_type": "markdown",
   "metadata": {},
   "source": [
    "## Test statistical hypotheses"
   ]
  },
  {
   "cell_type": "markdown",
   "metadata": {},
   "source": [
    "We will then test the hypothesis that the average revenue from users of the Ultimate and Surf calling plans differs."
   ]
  },
  {
   "cell_type": "markdown",
   "metadata": {},
   "source": [
    "- Null Hypothesis: the average revenue from users of the Ultimate and Surf calling plans is the same.\n",
    "- Alternative Hypothesis: the average revenue from users of the Ultimate and Surf calling plans is not the same."
   ]
  },
  {
   "cell_type": "code",
   "execution_count": 43,
   "metadata": {},
   "outputs": [
    {
     "name": "stdout",
     "output_type": "stream",
     "text": [
      "p-value: 3.2711313208529917e-18\n",
      "we reject the null hypothesis\n"
     ]
    }
   ],
   "source": [
    "#average monthly revenue from surf\n",
    "\n",
    "surf_avg_rev = surf_data['monthly_revenue']\n",
    "\n",
    "#average monthly revenue from ultimate\n",
    "\n",
    "ultimate_avg_rev = ultimate_data['monthly_revenue']\n",
    "\n",
    "#set alpha\n",
    "\n",
    "alpha = 0.05\n",
    "\n",
    "#calculation\n",
    "\n",
    "results = st.ttest_ind(surf_avg_rev, ultimate_avg_rev, equal_var = False)\n",
    "print('p-value:', results.pvalue)\n",
    "\n",
    "# Test the hypotheses\n",
    "\n",
    "if results.pvalue > alpha:\n",
    "    print('we fail to reject the null hypothesis')\n",
    "\n",
    "if results.pvalue < alpha:\n",
    "    print('we reject the null hypothesis')\n"
   ]
  },
  {
   "cell_type": "markdown",
   "metadata": {},
   "source": [
    "Based on the statistical analysis, we reject the null hypothesis, thus accepting the alternative hypothesis: **the average revenue from users of the Ultimate and Surf calling plans is not the same.**\n",
    "\n"
   ]
  },
  {
   "cell_type": "markdown",
   "metadata": {},
   "source": [
    "We will test the hypothesis that the average revenue from users in the NY-NJ area is different from that of the users from the other regions."
   ]
  },
  {
   "cell_type": "markdown",
   "metadata": {},
   "source": [
    "- Null Hypothesis: the average revenue from users in the NY-NJ area and the other regions area is the same.\n",
    "- Alternative Hypothesis: the average revenue from users in the n the NY-NJ area and the other regions is not the same."
   ]
  },
  {
   "cell_type": "markdown",
   "metadata": {},
   "source": [
    "Before testing our hypotheses, we need to categorize our data based on the region."
   ]
  },
  {
   "cell_type": "code",
   "execution_count": 44,
   "metadata": {},
   "outputs": [
    {
     "data": {
      "text/html": [
       "<div>\n",
       "<style scoped>\n",
       "    .dataframe tbody tr th:only-of-type {\n",
       "        vertical-align: middle;\n",
       "    }\n",
       "\n",
       "    .dataframe tbody tr th {\n",
       "        vertical-align: top;\n",
       "    }\n",
       "\n",
       "    .dataframe thead th {\n",
       "        text-align: right;\n",
       "    }\n",
       "</style>\n",
       "<table border=\"1\" class=\"dataframe\">\n",
       "  <thead>\n",
       "    <tr style=\"text-align: right;\">\n",
       "      <th></th>\n",
       "      <th>user_id</th>\n",
       "      <th>first_name</th>\n",
       "      <th>last_name</th>\n",
       "      <th>age</th>\n",
       "      <th>city</th>\n",
       "      <th>reg_date</th>\n",
       "      <th>plan</th>\n",
       "      <th>churn_date</th>\n",
       "      <th>months</th>\n",
       "      <th>duration</th>\n",
       "      <th>monthly_message_total</th>\n",
       "      <th>mb_used</th>\n",
       "      <th>gb_used</th>\n",
       "      <th>monthly_revenue</th>\n",
       "      <th>region</th>\n",
       "    </tr>\n",
       "  </thead>\n",
       "  <tbody>\n",
       "    <tr>\n",
       "      <th>0</th>\n",
       "      <td>1000</td>\n",
       "      <td>Anamaria</td>\n",
       "      <td>Bauer</td>\n",
       "      <td>45.0</td>\n",
       "      <td>Atlanta-Sandy Springs-Roswell, GA MSA</td>\n",
       "      <td>2018-12-24</td>\n",
       "      <td>ultimate</td>\n",
       "      <td>NaN</td>\n",
       "      <td>12.0</td>\n",
       "      <td>124.0</td>\n",
       "      <td>11.0</td>\n",
       "      <td>1901.47</td>\n",
       "      <td>2.0</td>\n",
       "      <td>70.00</td>\n",
       "      <td>other</td>\n",
       "    </tr>\n",
       "    <tr>\n",
       "      <th>1</th>\n",
       "      <td>1001</td>\n",
       "      <td>Mickey</td>\n",
       "      <td>Wilkerson</td>\n",
       "      <td>28.0</td>\n",
       "      <td>Seattle-Tacoma-Bellevue, WA MSA</td>\n",
       "      <td>2018-08-13</td>\n",
       "      <td>surf</td>\n",
       "      <td>NaN</td>\n",
       "      <td>8.0</td>\n",
       "      <td>182.0</td>\n",
       "      <td>30.0</td>\n",
       "      <td>6919.15</td>\n",
       "      <td>7.0</td>\n",
       "      <td>20.00</td>\n",
       "      <td>other</td>\n",
       "    </tr>\n",
       "    <tr>\n",
       "      <th>2</th>\n",
       "      <td>1001</td>\n",
       "      <td>Mickey</td>\n",
       "      <td>Wilkerson</td>\n",
       "      <td>28.0</td>\n",
       "      <td>Seattle-Tacoma-Bellevue, WA MSA</td>\n",
       "      <td>2018-08-13</td>\n",
       "      <td>surf</td>\n",
       "      <td>NaN</td>\n",
       "      <td>9.0</td>\n",
       "      <td>315.0</td>\n",
       "      <td>44.0</td>\n",
       "      <td>13314.82</td>\n",
       "      <td>14.0</td>\n",
       "      <td>20.00</td>\n",
       "      <td>other</td>\n",
       "    </tr>\n",
       "    <tr>\n",
       "      <th>3</th>\n",
       "      <td>1001</td>\n",
       "      <td>Mickey</td>\n",
       "      <td>Wilkerson</td>\n",
       "      <td>28.0</td>\n",
       "      <td>Seattle-Tacoma-Bellevue, WA MSA</td>\n",
       "      <td>2018-08-13</td>\n",
       "      <td>surf</td>\n",
       "      <td>NaN</td>\n",
       "      <td>10.0</td>\n",
       "      <td>393.0</td>\n",
       "      <td>53.0</td>\n",
       "      <td>22330.49</td>\n",
       "      <td>22.0</td>\n",
       "      <td>90.09</td>\n",
       "      <td>other</td>\n",
       "    </tr>\n",
       "    <tr>\n",
       "      <th>4</th>\n",
       "      <td>1001</td>\n",
       "      <td>Mickey</td>\n",
       "      <td>Wilkerson</td>\n",
       "      <td>28.0</td>\n",
       "      <td>Seattle-Tacoma-Bellevue, WA MSA</td>\n",
       "      <td>2018-08-13</td>\n",
       "      <td>surf</td>\n",
       "      <td>NaN</td>\n",
       "      <td>11.0</td>\n",
       "      <td>426.0</td>\n",
       "      <td>36.0</td>\n",
       "      <td>18504.30</td>\n",
       "      <td>19.0</td>\n",
       "      <td>60.00</td>\n",
       "      <td>other</td>\n",
       "    </tr>\n",
       "  </tbody>\n",
       "</table>\n",
       "</div>"
      ],
      "text/plain": [
       "   user_id first_name  last_name   age                                   city  \\\n",
       "0     1000   Anamaria      Bauer  45.0  Atlanta-Sandy Springs-Roswell, GA MSA   \n",
       "1     1001     Mickey  Wilkerson  28.0        Seattle-Tacoma-Bellevue, WA MSA   \n",
       "2     1001     Mickey  Wilkerson  28.0        Seattle-Tacoma-Bellevue, WA MSA   \n",
       "3     1001     Mickey  Wilkerson  28.0        Seattle-Tacoma-Bellevue, WA MSA   \n",
       "4     1001     Mickey  Wilkerson  28.0        Seattle-Tacoma-Bellevue, WA MSA   \n",
       "\n",
       "    reg_date      plan churn_date  months  duration  monthly_message_total  \\\n",
       "0 2018-12-24  ultimate        NaN    12.0     124.0                   11.0   \n",
       "1 2018-08-13      surf        NaN     8.0     182.0                   30.0   \n",
       "2 2018-08-13      surf        NaN     9.0     315.0                   44.0   \n",
       "3 2018-08-13      surf        NaN    10.0     393.0                   53.0   \n",
       "4 2018-08-13      surf        NaN    11.0     426.0                   36.0   \n",
       "\n",
       "    mb_used  gb_used  monthly_revenue region  \n",
       "0   1901.47      2.0            70.00  other  \n",
       "1   6919.15      7.0            20.00  other  \n",
       "2  13314.82     14.0            20.00  other  \n",
       "3  22330.49     22.0            90.09  other  \n",
       "4  18504.30     19.0            60.00  other  "
      ]
     },
     "execution_count": 44,
     "metadata": {},
     "output_type": "execute_result"
    }
   ],
   "source": [
    "data_final = data_final.dropna(subset = ['city'])\n",
    "\n",
    "def region(city):\n",
    "    if 'NY' in city or 'NJ' in city or 'NY-NJ' in city or 'NJ-NY' in city:\n",
    "        return 'NY-NJ'\n",
    "    else:\n",
    "        return 'other'\n",
    "    \n",
    "data_final['region'] = data_final['city'].apply(region)\n",
    "\n",
    "data_final.head()"
   ]
  },
  {
   "cell_type": "code",
   "execution_count": 45,
   "metadata": {},
   "outputs": [
    {
     "name": "stdout",
     "output_type": "stream",
     "text": [
      "p-value: 0.07259981401237166\n",
      "we fail to reject the null hypothesis\n"
     ]
    }
   ],
   "source": [
    "NY_NJ = data_final.query('region == \"NY-NJ\"')\n",
    "others = data_final.query('region == \"other\"')\n",
    "\n",
    "NY_NJ_avg_rev = NY_NJ['monthly_revenue']\n",
    "others_avg_rev = others['monthly_revenue']\n",
    "\n",
    "#set alpha\n",
    "alpha = 0.05\n",
    "\n",
    "#calculation\n",
    "\n",
    "results = st.ttest_ind(NY_NJ_avg_rev, others_avg_rev, equal_var = False)\n",
    "print('p-value:', results.pvalue)\n",
    "\n",
    "# Test the hypotheses\n",
    "\n",
    "if results.pvalue > alpha:\n",
    "    print('we fail to reject the null hypothesis')\n",
    "\n",
    "if results.pvalue < alpha:\n",
    "    print('we reject the null hypothesis')"
   ]
  },
  {
   "cell_type": "markdown",
   "metadata": {},
   "source": [
    "Based on the results of our statstical analysis, we fail to reject he null hypothesis. Thus: **the average revenue from users in the NY-NJ area and the other regions area is the same.**"
   ]
  },
  {
   "cell_type": "markdown",
   "metadata": {},
   "source": [
    "## Conclusion\n",
    "\n",
    "Data had been consolidated from several sources (calls, internet, messages, users) to retrieve the information needed. We have grouped the data by calls - months, internet - months, message - months, and finally aggregated them to one single dataframe by 'user_id' and 'month'. From there, we create an algorithm that determined the monthly profits Megaline received from each customers based on their call, internet, and message usage on monthly basis. We then process the dataframe and used descriptive statistics to see the overall customer behavior based on different categories. Finally, we generated two hypotheses, and performed two two-tailed t-test. With 95% confidence, we are able to conclude the average revenue differs from Ultimate and Surf plans. While no difference were found based on regions. Taken together with the descriptive results, we are confident in that Surf plan users bring more monthly revenue than Ultimate plan users, because they tend to use more than what are included in the plan."
   ]
  }
 ],
 "metadata": {
  "ExecuteTimeLog": [
   {
    "duration": 828,
    "start_time": "2021-11-16T09:21:11.304Z"
   },
   {
    "duration": 893,
    "start_time": "2021-11-16T09:21:17.728Z"
   },
   {
    "duration": 1150,
    "start_time": "2021-11-16T09:21:29.568Z"
   },
   {
    "duration": 3,
    "start_time": "2021-11-16T09:24:14.495Z"
   },
   {
    "duration": 120,
    "start_time": "2021-11-16T09:24:46.630Z"
   },
   {
    "duration": 3,
    "start_time": "2021-11-16T09:28:27.882Z"
   },
   {
    "duration": 4,
    "start_time": "2021-11-16T09:29:54.281Z"
   },
   {
    "duration": 3,
    "start_time": "2021-11-16T09:30:45.936Z"
   },
   {
    "duration": 4,
    "start_time": "2021-11-16T09:31:06.300Z"
   },
   {
    "duration": 113,
    "start_time": "2021-11-16T09:31:37.208Z"
   },
   {
    "duration": 143,
    "start_time": "2021-11-16T09:31:48.656Z"
   },
   {
    "duration": 98,
    "start_time": "2021-11-16T09:31:55.678Z"
   },
   {
    "duration": 3,
    "start_time": "2021-11-16T09:32:08.535Z"
   },
   {
    "duration": 111,
    "start_time": "2021-11-16T09:32:10.120Z"
   },
   {
    "duration": 3,
    "start_time": "2021-11-16T09:32:15.732Z"
   },
   {
    "duration": 4,
    "start_time": "2021-11-16T09:32:29.423Z"
   },
   {
    "duration": 3,
    "start_time": "2021-11-16T10:03:03.074Z"
   },
   {
    "duration": 3,
    "start_time": "2021-11-16T10:10:01.288Z"
   },
   {
    "duration": 3,
    "start_time": "2021-11-16T10:10:46.923Z"
   },
   {
    "duration": 121,
    "start_time": "2021-11-16T10:37:46.494Z"
   },
   {
    "duration": 125,
    "start_time": "2021-11-16T10:38:20.632Z"
   },
   {
    "duration": 112,
    "start_time": "2021-11-16T10:46:53.001Z"
   },
   {
    "duration": 110,
    "start_time": "2021-11-16T10:48:25.775Z"
   },
   {
    "duration": 3,
    "start_time": "2021-11-16T10:50:18.720Z"
   },
   {
    "duration": 4,
    "start_time": "2021-11-16T10:50:37.649Z"
   },
   {
    "duration": 2,
    "start_time": "2021-11-16T10:50:51.884Z"
   },
   {
    "duration": 3,
    "start_time": "2021-11-16T10:51:56.237Z"
   },
   {
    "duration": 101,
    "start_time": "2021-11-16T10:53:13.791Z"
   },
   {
    "duration": 3,
    "start_time": "2021-11-16T10:55:59.186Z"
   },
   {
    "duration": 3,
    "start_time": "2021-11-16T10:56:10.751Z"
   },
   {
    "duration": 3,
    "start_time": "2021-11-16T10:56:49.038Z"
   },
   {
    "duration": 3,
    "start_time": "2021-11-16T10:56:49.174Z"
   },
   {
    "duration": 4,
    "start_time": "2021-11-16T10:56:49.414Z"
   },
   {
    "duration": 3,
    "start_time": "2021-11-16T10:56:49.680Z"
   },
   {
    "duration": 3,
    "start_time": "2021-11-16T10:56:50.370Z"
   },
   {
    "duration": 114,
    "start_time": "2021-11-16T10:59:34.518Z"
   },
   {
    "duration": 3,
    "start_time": "2021-11-16T11:01:41.201Z"
   },
   {
    "duration": 116,
    "start_time": "2021-11-16T11:01:48.754Z"
   },
   {
    "duration": 3,
    "start_time": "2021-11-16T11:02:16.685Z"
   },
   {
    "duration": 3,
    "start_time": "2021-11-16T11:02:19.479Z"
   },
   {
    "duration": 3,
    "start_time": "2021-11-16T11:02:47.067Z"
   },
   {
    "duration": 3,
    "start_time": "2021-11-16T11:02:49.353Z"
   },
   {
    "duration": 3,
    "start_time": "2021-11-16T11:03:07.835Z"
   },
   {
    "duration": 3,
    "start_time": "2021-11-16T11:03:07.953Z"
   },
   {
    "duration": 112,
    "start_time": "2021-11-16T11:07:52.072Z"
   },
   {
    "duration": 187,
    "start_time": "2021-11-16T11:09:23.468Z"
   },
   {
    "duration": 4,
    "start_time": "2021-11-16T11:10:01.455Z"
   },
   {
    "duration": 3,
    "start_time": "2021-11-16T11:10:05.069Z"
   },
   {
    "duration": 4,
    "start_time": "2021-11-16T11:10:13.376Z"
   },
   {
    "duration": 3,
    "start_time": "2021-11-16T11:10:14.434Z"
   },
   {
    "duration": 3,
    "start_time": "2021-11-16T11:10:22.853Z"
   },
   {
    "duration": 4,
    "start_time": "2021-11-16T11:27:29.279Z"
   },
   {
    "duration": 4,
    "start_time": "2021-11-16T11:29:08.919Z"
   },
   {
    "duration": 118,
    "start_time": "2021-11-16T11:29:46.703Z"
   },
   {
    "duration": 437,
    "start_time": "2021-11-16T11:36:02.181Z"
   },
   {
    "duration": 157,
    "start_time": "2021-11-16T11:36:14.388Z"
   },
   {
    "duration": 207,
    "start_time": "2021-11-16T11:47:15.898Z"
   },
   {
    "duration": 3,
    "start_time": "2021-11-16T11:53:52.092Z"
   },
   {
    "duration": 3,
    "start_time": "2021-11-16T11:53:52.236Z"
   },
   {
    "duration": 3,
    "start_time": "2021-11-16T11:59:12.005Z"
   },
   {
    "duration": 112,
    "start_time": "2021-11-16T12:00:33.446Z"
   },
   {
    "duration": 3,
    "start_time": "2021-11-16T12:02:14.453Z"
   },
   {
    "duration": 3,
    "start_time": "2021-11-16T12:02:39.512Z"
   },
   {
    "duration": 106,
    "start_time": "2021-11-16T12:03:03.460Z"
   },
   {
    "duration": 3,
    "start_time": "2021-11-17T20:37:21.139Z"
   },
   {
    "duration": 3,
    "start_time": "2021-11-17T20:37:22.229Z"
   },
   {
    "duration": 3,
    "start_time": "2021-11-17T20:38:38.806Z"
   },
   {
    "duration": 3,
    "start_time": "2021-11-17T20:38:41.958Z"
   },
   {
    "duration": 3,
    "start_time": "2021-11-17T20:43:46.551Z"
   },
   {
    "duration": 4,
    "start_time": "2021-11-17T20:58:21.835Z"
   },
   {
    "duration": 3,
    "start_time": "2021-11-17T20:59:21.872Z"
   },
   {
    "duration": 4,
    "start_time": "2021-11-17T20:59:45.352Z"
   },
   {
    "duration": 4,
    "start_time": "2021-11-17T20:59:49.646Z"
   },
   {
    "duration": 159,
    "start_time": "2021-11-17T21:02:26.949Z"
   },
   {
    "duration": 3,
    "start_time": "2021-11-17T21:03:53.461Z"
   },
   {
    "duration": 3,
    "start_time": "2021-11-17T21:03:53.694Z"
   },
   {
    "duration": 3,
    "start_time": "2021-11-17T21:05:28.145Z"
   },
   {
    "duration": 116,
    "start_time": "2021-11-17T21:05:57.787Z"
   },
   {
    "duration": 3,
    "start_time": "2021-11-17T21:06:37.993Z"
   },
   {
    "duration": 3,
    "start_time": "2021-11-17T21:06:38.261Z"
   },
   {
    "duration": 3,
    "start_time": "2021-11-17T21:11:54.358Z"
   },
   {
    "duration": 3,
    "start_time": "2021-11-17T21:12:43.846Z"
   },
   {
    "duration": 4,
    "start_time": "2021-11-17T21:13:08.773Z"
   },
   {
    "duration": 3,
    "start_time": "2021-11-17T21:14:44.441Z"
   },
   {
    "duration": 3,
    "start_time": "2021-11-17T21:15:42.059Z"
   },
   {
    "duration": 4,
    "start_time": "2021-11-17T21:15:51.995Z"
   },
   {
    "duration": 3,
    "start_time": "2021-11-17T21:15:53.923Z"
   },
   {
    "duration": 3,
    "start_time": "2021-11-17T21:15:55.282Z"
   },
   {
    "duration": 3,
    "start_time": "2021-11-17T21:16:28.492Z"
   },
   {
    "duration": 3,
    "start_time": "2021-11-17T21:16:32.603Z"
   },
   {
    "duration": 3,
    "start_time": "2021-11-17T21:17:06.941Z"
   },
   {
    "duration": 98,
    "start_time": "2021-11-17T21:18:05.733Z"
   },
   {
    "duration": 4,
    "start_time": "2021-11-17T21:21:35.255Z"
   },
   {
    "duration": 3,
    "start_time": "2021-11-17T21:21:37.804Z"
   },
   {
    "duration": 4,
    "start_time": "2021-11-17T21:23:06.071Z"
   },
   {
    "duration": 3,
    "start_time": "2021-11-17T21:23:24.799Z"
   },
   {
    "duration": 3,
    "start_time": "2021-11-17T21:23:32.591Z"
   },
   {
    "duration": 98,
    "start_time": "2021-11-17T21:28:31.559Z"
   },
   {
    "duration": 3,
    "start_time": "2021-11-17T21:28:45.448Z"
   },
   {
    "duration": 3,
    "start_time": "2021-11-17T21:29:17.303Z"
   },
   {
    "duration": 3,
    "start_time": "2021-11-17T21:29:29.617Z"
   },
   {
    "duration": 3,
    "start_time": "2021-11-17T21:29:32.681Z"
   },
   {
    "duration": 3,
    "start_time": "2021-11-17T21:36:11.474Z"
   },
   {
    "duration": 3,
    "start_time": "2021-11-17T21:36:14.791Z"
   },
   {
    "duration": 3,
    "start_time": "2021-11-17T21:36:53.943Z"
   },
   {
    "duration": 3,
    "start_time": "2021-11-17T21:36:56.165Z"
   },
   {
    "duration": 4,
    "start_time": "2021-11-17T21:37:16.590Z"
   },
   {
    "duration": 3,
    "start_time": "2021-11-17T21:37:22.702Z"
   },
   {
    "duration": 4,
    "start_time": "2021-11-17T21:38:03.479Z"
   },
   {
    "duration": 3,
    "start_time": "2021-11-17T21:38:08.601Z"
   },
   {
    "duration": 3,
    "start_time": "2021-11-17T21:38:12.928Z"
   },
   {
    "duration": 3,
    "start_time": "2021-11-17T21:38:48.896Z"
   },
   {
    "duration": 2,
    "start_time": "2021-11-17T21:38:49.171Z"
   },
   {
    "duration": 4,
    "start_time": "2021-11-17T21:39:57.889Z"
   },
   {
    "duration": 3,
    "start_time": "2021-11-17T21:39:58.057Z"
   },
   {
    "duration": 3,
    "start_time": "2021-11-17T21:41:20.108Z"
   },
   {
    "duration": 3,
    "start_time": "2021-11-17T21:41:20.629Z"
   },
   {
    "duration": 3,
    "start_time": "2021-11-17T21:42:49.136Z"
   },
   {
    "duration": 3,
    "start_time": "2021-11-17T21:43:15.137Z"
   },
   {
    "duration": 4,
    "start_time": "2021-11-17T21:43:16.766Z"
   },
   {
    "duration": 4,
    "start_time": "2021-11-17T21:43:31.711Z"
   },
   {
    "duration": 3,
    "start_time": "2021-11-17T21:43:36.312Z"
   },
   {
    "duration": 4,
    "start_time": "2021-11-17T21:45:08.825Z"
   },
   {
    "duration": 4,
    "start_time": "2021-11-17T21:45:10.119Z"
   },
   {
    "duration": 4,
    "start_time": "2021-11-17T21:45:13.748Z"
   },
   {
    "duration": 3,
    "start_time": "2021-11-17T21:45:22.219Z"
   },
   {
    "duration": 3,
    "start_time": "2021-11-17T21:45:33.412Z"
   },
   {
    "duration": 2,
    "start_time": "2021-11-17T21:46:01.885Z"
   },
   {
    "duration": 3,
    "start_time": "2021-11-17T21:46:03.628Z"
   },
   {
    "duration": 107,
    "start_time": "2021-11-17T21:47:32.512Z"
   },
   {
    "duration": 103,
    "start_time": "2021-11-17T21:50:36.243Z"
   },
   {
    "duration": 3,
    "start_time": "2021-11-18T06:28:31.440Z"
   },
   {
    "duration": 3,
    "start_time": "2021-11-18T06:29:00.168Z"
   },
   {
    "duration": 3,
    "start_time": "2021-11-18T06:31:27.008Z"
   },
   {
    "duration": 2,
    "start_time": "2021-11-18T06:35:34.288Z"
   },
   {
    "duration": 2,
    "start_time": "2021-11-18T06:38:04.527Z"
   },
   {
    "duration": 1702,
    "start_time": "2022-05-02T15:09:11.791Z"
   },
   {
    "duration": 314,
    "start_time": "2022-05-02T15:17:55.741Z"
   },
   {
    "duration": 13,
    "start_time": "2022-05-02T15:19:47.623Z"
   },
   {
    "duration": 12,
    "start_time": "2022-05-02T15:20:45.310Z"
   },
   {
    "duration": 18,
    "start_time": "2022-05-02T15:28:41.485Z"
   },
   {
    "duration": 14,
    "start_time": "2022-05-02T15:33:25.546Z"
   },
   {
    "duration": 1359,
    "start_time": "2022-05-02T15:49:20.102Z"
   },
   {
    "duration": 610,
    "start_time": "2022-05-02T15:49:21.465Z"
   },
   {
    "duration": 11,
    "start_time": "2022-05-02T15:49:22.077Z"
   },
   {
    "duration": 6,
    "start_time": "2022-05-02T15:49:22.090Z"
   },
   {
    "duration": 19,
    "start_time": "2022-05-02T15:49:22.097Z"
   },
   {
    "duration": 18,
    "start_time": "2022-05-02T15:49:22.118Z"
   },
   {
    "duration": 10,
    "start_time": "2022-05-02T15:49:22.138Z"
   },
   {
    "duration": 8,
    "start_time": "2022-05-02T15:49:22.150Z"
   },
   {
    "duration": 14,
    "start_time": "2022-05-02T15:49:22.161Z"
   },
   {
    "duration": 6,
    "start_time": "2022-05-02T15:49:22.178Z"
   },
   {
    "duration": 6,
    "start_time": "2022-05-02T15:49:22.185Z"
   },
   {
    "duration": 8,
    "start_time": "2022-05-02T15:49:22.192Z"
   },
   {
    "duration": 5,
    "start_time": "2022-05-02T15:49:22.202Z"
   },
   {
    "duration": 5,
    "start_time": "2022-05-02T15:49:22.208Z"
   },
   {
    "duration": 4,
    "start_time": "2022-05-02T15:49:22.215Z"
   },
   {
    "duration": 7,
    "start_time": "2022-05-02T15:49:22.221Z"
   },
   {
    "duration": 7,
    "start_time": "2022-05-02T15:49:22.230Z"
   },
   {
    "duration": 5,
    "start_time": "2022-05-02T15:49:22.239Z"
   },
   {
    "duration": 6,
    "start_time": "2022-05-02T15:49:22.246Z"
   },
   {
    "duration": 18,
    "start_time": "2022-05-02T15:49:22.255Z"
   },
   {
    "duration": 6,
    "start_time": "2022-05-02T15:49:22.275Z"
   },
   {
    "duration": 8,
    "start_time": "2022-05-02T15:49:22.283Z"
   },
   {
    "duration": 6,
    "start_time": "2022-05-02T15:49:22.293Z"
   },
   {
    "duration": 7,
    "start_time": "2022-05-02T15:49:22.301Z"
   },
   {
    "duration": 7,
    "start_time": "2022-05-02T15:49:22.310Z"
   },
   {
    "duration": 5,
    "start_time": "2022-05-02T15:49:22.318Z"
   },
   {
    "duration": 6,
    "start_time": "2022-05-02T15:49:22.325Z"
   },
   {
    "duration": 5,
    "start_time": "2022-05-02T15:49:22.334Z"
   },
   {
    "duration": 10,
    "start_time": "2022-05-02T15:49:33.386Z"
   },
   {
    "duration": 9,
    "start_time": "2022-05-02T15:56:29.731Z"
   },
   {
    "duration": 22,
    "start_time": "2022-05-02T15:58:32.055Z"
   },
   {
    "duration": 12,
    "start_time": "2022-05-02T16:03:17.770Z"
   },
   {
    "duration": 57,
    "start_time": "2022-05-02T16:05:57.805Z"
   },
   {
    "duration": 6,
    "start_time": "2022-05-02T16:12:50.713Z"
   },
   {
    "duration": 8,
    "start_time": "2022-05-02T16:13:40.630Z"
   },
   {
    "duration": 44,
    "start_time": "2022-05-02T16:17:39.460Z"
   },
   {
    "duration": 56,
    "start_time": "2022-05-02T16:17:46.457Z"
   },
   {
    "duration": 52,
    "start_time": "2022-05-02T16:21:05.070Z"
   },
   {
    "duration": 17,
    "start_time": "2022-05-02T16:28:48.279Z"
   },
   {
    "duration": 49,
    "start_time": "2022-05-02T16:34:54.861Z"
   },
   {
    "duration": 55,
    "start_time": "2022-05-02T16:35:26.520Z"
   },
   {
    "duration": 135,
    "start_time": "2022-05-02T16:35:38.054Z"
   },
   {
    "duration": 65,
    "start_time": "2022-05-02T16:35:56.723Z"
   },
   {
    "duration": 56,
    "start_time": "2022-05-02T16:36:06.448Z"
   },
   {
    "duration": 56,
    "start_time": "2022-05-02T16:36:59.513Z"
   },
   {
    "duration": 25,
    "start_time": "2022-05-02T16:38:34.754Z"
   },
   {
    "duration": 31,
    "start_time": "2022-05-02T16:38:44.043Z"
   },
   {
    "duration": 31,
    "start_time": "2022-05-02T16:39:33.447Z"
   },
   {
    "duration": 3,
    "start_time": "2022-05-02T16:39:50.790Z"
   },
   {
    "duration": 262,
    "start_time": "2022-05-02T16:39:50.797Z"
   },
   {
    "duration": 10,
    "start_time": "2022-05-02T16:39:51.061Z"
   },
   {
    "duration": 11,
    "start_time": "2022-05-02T16:39:51.073Z"
   },
   {
    "duration": 14,
    "start_time": "2022-05-02T16:39:51.087Z"
   },
   {
    "duration": 14,
    "start_time": "2022-05-02T16:39:51.103Z"
   },
   {
    "duration": 47,
    "start_time": "2022-05-02T16:39:51.119Z"
   },
   {
    "duration": 8,
    "start_time": "2022-05-02T16:39:51.168Z"
   },
   {
    "duration": 50,
    "start_time": "2022-05-02T16:39:51.177Z"
   },
   {
    "duration": 7,
    "start_time": "2022-05-02T16:39:51.229Z"
   },
   {
    "duration": 43,
    "start_time": "2022-05-02T16:39:51.239Z"
   },
   {
    "duration": 54,
    "start_time": "2022-05-02T16:39:51.284Z"
   },
   {
    "duration": 27,
    "start_time": "2022-05-02T16:39:51.340Z"
   },
   {
    "duration": 2,
    "start_time": "2022-05-02T16:39:51.369Z"
   },
   {
    "duration": 6,
    "start_time": "2022-05-02T16:39:51.373Z"
   },
   {
    "duration": 10,
    "start_time": "2022-05-02T16:39:51.380Z"
   },
   {
    "duration": 7,
    "start_time": "2022-05-02T16:39:51.391Z"
   },
   {
    "duration": 6,
    "start_time": "2022-05-02T16:39:51.399Z"
   },
   {
    "duration": 4,
    "start_time": "2022-05-02T16:39:51.407Z"
   },
   {
    "duration": 7,
    "start_time": "2022-05-02T16:39:51.413Z"
   },
   {
    "duration": 6,
    "start_time": "2022-05-02T16:39:51.422Z"
   },
   {
    "duration": 13,
    "start_time": "2022-05-02T16:39:51.429Z"
   },
   {
    "duration": 15,
    "start_time": "2022-05-02T16:39:51.444Z"
   },
   {
    "duration": 15,
    "start_time": "2022-05-02T16:39:51.461Z"
   },
   {
    "duration": 7,
    "start_time": "2022-05-02T16:39:51.477Z"
   },
   {
    "duration": 8,
    "start_time": "2022-05-02T16:39:51.486Z"
   },
   {
    "duration": 7,
    "start_time": "2022-05-02T16:39:51.495Z"
   },
   {
    "duration": 22,
    "start_time": "2022-05-02T16:39:51.504Z"
   },
   {
    "duration": 24,
    "start_time": "2022-05-02T16:39:51.529Z"
   },
   {
    "duration": 14,
    "start_time": "2022-05-02T16:39:51.555Z"
   },
   {
    "duration": 7,
    "start_time": "2022-05-02T16:39:51.570Z"
   },
   {
    "duration": 5,
    "start_time": "2022-05-02T16:39:51.578Z"
   },
   {
    "duration": 5,
    "start_time": "2022-05-02T16:39:51.585Z"
   },
   {
    "duration": 15,
    "start_time": "2022-05-02T19:05:59.961Z"
   },
   {
    "duration": 11,
    "start_time": "2022-05-02T19:10:52.098Z"
   },
   {
    "duration": 8,
    "start_time": "2022-05-02T19:10:54.544Z"
   },
   {
    "duration": 13,
    "start_time": "2022-05-02T19:13:10.151Z"
   },
   {
    "duration": 23,
    "start_time": "2022-05-02T19:13:16.767Z"
   },
   {
    "duration": 10,
    "start_time": "2022-05-02T19:17:10.956Z"
   },
   {
    "duration": 6,
    "start_time": "2022-05-02T19:18:27.133Z"
   },
   {
    "duration": 9,
    "start_time": "2022-05-02T19:18:36.824Z"
   },
   {
    "duration": 2623,
    "start_time": "2022-05-02T19:20:34.161Z"
   },
   {
    "duration": 40,
    "start_time": "2022-05-02T19:20:49.636Z"
   },
   {
    "duration": 2429,
    "start_time": "2022-05-02T19:22:43.216Z"
   },
   {
    "duration": 17,
    "start_time": "2022-05-02T19:23:12.559Z"
   },
   {
    "duration": 18,
    "start_time": "2022-05-02T19:24:09.877Z"
   },
   {
    "duration": 8,
    "start_time": "2022-05-02T19:25:38.302Z"
   },
   {
    "duration": 29,
    "start_time": "2022-05-02T19:30:33.096Z"
   },
   {
    "duration": 9,
    "start_time": "2022-05-02T19:32:45.883Z"
   },
   {
    "duration": 15,
    "start_time": "2022-05-02T19:38:20.199Z"
   },
   {
    "duration": 13,
    "start_time": "2022-05-02T19:38:45.108Z"
   },
   {
    "duration": 13,
    "start_time": "2022-05-02T19:52:05.688Z"
   },
   {
    "duration": 15,
    "start_time": "2022-05-02T19:52:40.168Z"
   },
   {
    "duration": 35,
    "start_time": "2022-05-02T19:56:23.067Z"
   },
   {
    "duration": 11,
    "start_time": "2022-05-02T19:58:12.074Z"
   },
   {
    "duration": 3,
    "start_time": "2022-05-02T19:58:17.970Z"
   },
   {
    "duration": 271,
    "start_time": "2022-05-02T19:58:17.978Z"
   },
   {
    "duration": 10,
    "start_time": "2022-05-02T19:58:18.251Z"
   },
   {
    "duration": 18,
    "start_time": "2022-05-02T19:58:18.263Z"
   },
   {
    "duration": 12,
    "start_time": "2022-05-02T19:58:18.283Z"
   },
   {
    "duration": 9,
    "start_time": "2022-05-02T19:58:18.297Z"
   },
   {
    "duration": 22,
    "start_time": "2022-05-02T19:58:18.307Z"
   },
   {
    "duration": 8,
    "start_time": "2022-05-02T19:58:18.331Z"
   },
   {
    "duration": 33,
    "start_time": "2022-05-02T19:58:18.355Z"
   },
   {
    "duration": 6,
    "start_time": "2022-05-02T19:58:18.390Z"
   },
   {
    "duration": 14,
    "start_time": "2022-05-02T19:58:18.398Z"
   },
   {
    "duration": 77,
    "start_time": "2022-05-02T19:58:18.414Z"
   },
   {
    "duration": 28,
    "start_time": "2022-05-02T19:58:18.492Z"
   },
   {
    "duration": 37,
    "start_time": "2022-05-02T19:58:18.522Z"
   },
   {
    "duration": 7,
    "start_time": "2022-05-02T19:58:18.561Z"
   },
   {
    "duration": 24,
    "start_time": "2022-05-02T19:58:18.570Z"
   },
   {
    "duration": 11,
    "start_time": "2022-05-02T19:58:18.596Z"
   },
   {
    "duration": 59,
    "start_time": "2022-05-02T19:58:18.609Z"
   },
   {
    "duration": 13,
    "start_time": "2022-05-02T19:58:18.670Z"
   },
   {
    "duration": 18,
    "start_time": "2022-05-02T19:58:18.685Z"
   },
   {
    "duration": 8,
    "start_time": "2022-05-02T19:58:18.705Z"
   },
   {
    "duration": 62,
    "start_time": "2022-05-02T19:58:18.714Z"
   },
   {
    "duration": 14,
    "start_time": "2022-05-02T19:58:18.778Z"
   },
   {
    "duration": 44,
    "start_time": "2022-05-02T19:58:18.793Z"
   },
   {
    "duration": 2,
    "start_time": "2022-05-02T19:58:18.855Z"
   },
   {
    "duration": 9,
    "start_time": "2022-05-02T19:58:18.859Z"
   },
   {
    "duration": 10,
    "start_time": "2022-05-02T19:58:18.869Z"
   },
   {
    "duration": 12,
    "start_time": "2022-05-02T19:58:18.880Z"
   },
   {
    "duration": 2,
    "start_time": "2022-05-02T19:58:18.895Z"
   },
   {
    "duration": 5,
    "start_time": "2022-05-02T19:58:18.898Z"
   },
   {
    "duration": 5,
    "start_time": "2022-05-02T19:58:18.904Z"
   },
   {
    "duration": 8,
    "start_time": "2022-05-02T19:58:18.910Z"
   },
   {
    "duration": 6,
    "start_time": "2022-05-02T19:58:18.919Z"
   },
   {
    "duration": 5,
    "start_time": "2022-05-02T19:58:18.926Z"
   },
   {
    "duration": 5,
    "start_time": "2022-05-02T19:58:18.932Z"
   },
   {
    "duration": 5,
    "start_time": "2022-05-02T19:58:18.938Z"
   },
   {
    "duration": 6,
    "start_time": "2022-05-02T19:58:18.944Z"
   },
   {
    "duration": 2,
    "start_time": "2022-05-02T19:58:18.954Z"
   },
   {
    "duration": 5,
    "start_time": "2022-05-02T19:58:18.957Z"
   },
   {
    "duration": 4,
    "start_time": "2022-05-02T19:58:18.963Z"
   },
   {
    "duration": 2242,
    "start_time": "2022-05-02T20:12:04.089Z"
   },
   {
    "duration": 11,
    "start_time": "2022-05-02T20:12:26.768Z"
   },
   {
    "duration": 2824,
    "start_time": "2022-05-02T20:16:23.405Z"
   },
   {
    "duration": 12,
    "start_time": "2022-05-02T20:16:43.720Z"
   },
   {
    "duration": 15,
    "start_time": "2022-05-02T20:17:28.356Z"
   },
   {
    "duration": 12,
    "start_time": "2022-05-02T20:17:34.328Z"
   },
   {
    "duration": 52,
    "start_time": "2022-05-02T20:19:39.204Z"
   },
   {
    "duration": 9,
    "start_time": "2022-05-02T20:21:08.192Z"
   },
   {
    "duration": 18,
    "start_time": "2022-05-02T20:21:18.655Z"
   },
   {
    "duration": 10,
    "start_time": "2022-05-02T20:24:09.346Z"
   },
   {
    "duration": 10,
    "start_time": "2022-05-02T20:24:55.685Z"
   },
   {
    "duration": 10,
    "start_time": "2022-05-02T20:35:04.269Z"
   },
   {
    "duration": 8,
    "start_time": "2022-05-02T20:36:23.209Z"
   },
   {
    "duration": 9,
    "start_time": "2022-05-02T20:38:26.152Z"
   },
   {
    "duration": 13,
    "start_time": "2022-05-02T20:39:32.448Z"
   },
   {
    "duration": 11,
    "start_time": "2022-05-02T20:40:26.183Z"
   },
   {
    "duration": 12,
    "start_time": "2022-05-02T20:41:38.024Z"
   },
   {
    "duration": 25,
    "start_time": "2022-05-02T20:42:12.275Z"
   },
   {
    "duration": 38,
    "start_time": "2022-05-02T20:44:46.868Z"
   },
   {
    "duration": 47,
    "start_time": "2022-05-02T20:50:26.871Z"
   },
   {
    "duration": 57,
    "start_time": "2022-05-03T13:26:28.657Z"
   },
   {
    "duration": 1365,
    "start_time": "2022-05-03T13:26:49.324Z"
   },
   {
    "duration": 308,
    "start_time": "2022-05-03T13:26:50.692Z"
   },
   {
    "duration": 12,
    "start_time": "2022-05-03T13:26:51.002Z"
   },
   {
    "duration": 16,
    "start_time": "2022-05-03T13:26:51.016Z"
   },
   {
    "duration": 14,
    "start_time": "2022-05-03T13:26:51.034Z"
   },
   {
    "duration": 12,
    "start_time": "2022-05-03T13:26:51.049Z"
   },
   {
    "duration": 13,
    "start_time": "2022-05-03T13:26:51.062Z"
   },
   {
    "duration": 15,
    "start_time": "2022-05-03T13:26:51.077Z"
   },
   {
    "duration": 42,
    "start_time": "2022-05-03T13:26:51.094Z"
   },
   {
    "duration": 23,
    "start_time": "2022-05-03T13:26:51.139Z"
   },
   {
    "duration": 8,
    "start_time": "2022-05-03T13:26:51.164Z"
   },
   {
    "duration": 37,
    "start_time": "2022-05-03T13:26:51.174Z"
   },
   {
    "duration": 7,
    "start_time": "2022-05-03T13:26:51.234Z"
   },
   {
    "duration": 17,
    "start_time": "2022-05-03T13:26:51.242Z"
   },
   {
    "duration": 76,
    "start_time": "2022-05-03T13:26:51.260Z"
   },
   {
    "duration": 30,
    "start_time": "2022-05-03T13:26:51.337Z"
   },
   {
    "duration": 15,
    "start_time": "2022-05-03T13:26:51.369Z"
   },
   {
    "duration": 8,
    "start_time": "2022-05-03T13:26:51.385Z"
   },
   {
    "duration": 57,
    "start_time": "2022-05-03T13:26:51.395Z"
   },
   {
    "duration": 9,
    "start_time": "2022-05-03T13:26:51.453Z"
   },
   {
    "duration": 34,
    "start_time": "2022-05-03T13:26:51.463Z"
   },
   {
    "duration": 35,
    "start_time": "2022-05-03T13:26:51.499Z"
   },
   {
    "duration": 20,
    "start_time": "2022-05-03T13:26:51.536Z"
   },
   {
    "duration": 9,
    "start_time": "2022-05-03T13:26:51.557Z"
   },
   {
    "duration": 71,
    "start_time": "2022-05-03T13:26:51.568Z"
   },
   {
    "duration": 14,
    "start_time": "2022-05-03T13:26:51.641Z"
   },
   {
    "duration": 50,
    "start_time": "2022-05-03T13:26:51.657Z"
   },
   {
    "duration": 19,
    "start_time": "2022-05-03T13:26:51.732Z"
   },
   {
    "duration": 34,
    "start_time": "2022-05-03T13:26:51.754Z"
   },
   {
    "duration": 92,
    "start_time": "2022-05-03T13:26:51.791Z"
   },
   {
    "duration": 0,
    "start_time": "2022-05-03T13:26:51.885Z"
   },
   {
    "duration": 0,
    "start_time": "2022-05-03T13:26:51.887Z"
   },
   {
    "duration": 0,
    "start_time": "2022-05-03T13:26:51.888Z"
   },
   {
    "duration": 0,
    "start_time": "2022-05-03T13:26:51.889Z"
   },
   {
    "duration": 0,
    "start_time": "2022-05-03T13:26:51.891Z"
   },
   {
    "duration": 0,
    "start_time": "2022-05-03T13:26:51.893Z"
   },
   {
    "duration": 0,
    "start_time": "2022-05-03T13:26:51.894Z"
   },
   {
    "duration": 0,
    "start_time": "2022-05-03T13:26:51.895Z"
   },
   {
    "duration": 38,
    "start_time": "2022-05-03T13:30:17.069Z"
   },
   {
    "duration": 13,
    "start_time": "2022-05-03T13:30:29.593Z"
   },
   {
    "duration": 46,
    "start_time": "2022-05-03T13:30:38.661Z"
   },
   {
    "duration": 12,
    "start_time": "2022-05-03T13:30:50.411Z"
   },
   {
    "duration": 4,
    "start_time": "2022-05-03T13:31:03.519Z"
   },
   {
    "duration": 344,
    "start_time": "2022-05-03T13:31:03.526Z"
   },
   {
    "duration": 11,
    "start_time": "2022-05-03T13:31:03.872Z"
   },
   {
    "duration": 16,
    "start_time": "2022-05-03T13:31:03.885Z"
   },
   {
    "duration": 22,
    "start_time": "2022-05-03T13:31:03.903Z"
   },
   {
    "duration": 25,
    "start_time": "2022-05-03T13:31:03.927Z"
   },
   {
    "duration": 23,
    "start_time": "2022-05-03T13:31:03.954Z"
   },
   {
    "duration": 25,
    "start_time": "2022-05-03T13:31:03.979Z"
   },
   {
    "duration": 17,
    "start_time": "2022-05-03T13:31:04.006Z"
   },
   {
    "duration": 25,
    "start_time": "2022-05-03T13:31:04.025Z"
   },
   {
    "duration": 9,
    "start_time": "2022-05-03T13:31:04.054Z"
   },
   {
    "duration": 44,
    "start_time": "2022-05-03T13:31:04.065Z"
   },
   {
    "duration": 23,
    "start_time": "2022-05-03T13:31:04.111Z"
   },
   {
    "duration": 16,
    "start_time": "2022-05-03T13:31:04.136Z"
   },
   {
    "duration": 81,
    "start_time": "2022-05-03T13:31:04.154Z"
   },
   {
    "duration": 31,
    "start_time": "2022-05-03T13:31:04.237Z"
   },
   {
    "duration": 17,
    "start_time": "2022-05-03T13:31:04.270Z"
   },
   {
    "duration": 8,
    "start_time": "2022-05-03T13:31:04.289Z"
   },
   {
    "duration": 52,
    "start_time": "2022-05-03T13:31:04.299Z"
   },
   {
    "duration": 10,
    "start_time": "2022-05-03T13:31:04.353Z"
   },
   {
    "duration": 33,
    "start_time": "2022-05-03T13:31:04.365Z"
   },
   {
    "duration": 40,
    "start_time": "2022-05-03T13:31:04.400Z"
   },
   {
    "duration": 20,
    "start_time": "2022-05-03T13:31:04.442Z"
   },
   {
    "duration": 8,
    "start_time": "2022-05-03T13:31:04.464Z"
   },
   {
    "duration": 37,
    "start_time": "2022-05-03T13:31:04.474Z"
   },
   {
    "duration": 15,
    "start_time": "2022-05-03T13:31:04.534Z"
   },
   {
    "duration": 51,
    "start_time": "2022-05-03T13:31:04.551Z"
   },
   {
    "duration": 43,
    "start_time": "2022-05-03T13:31:04.604Z"
   },
   {
    "duration": 36,
    "start_time": "2022-05-03T13:31:04.650Z"
   },
   {
    "duration": 13,
    "start_time": "2022-05-03T13:31:04.688Z"
   },
   {
    "duration": 0,
    "start_time": "2022-05-03T13:31:04.703Z"
   },
   {
    "duration": 0,
    "start_time": "2022-05-03T13:31:04.733Z"
   },
   {
    "duration": 0,
    "start_time": "2022-05-03T13:31:04.735Z"
   },
   {
    "duration": 0,
    "start_time": "2022-05-03T13:31:04.736Z"
   },
   {
    "duration": 0,
    "start_time": "2022-05-03T13:31:04.738Z"
   },
   {
    "duration": 0,
    "start_time": "2022-05-03T13:31:04.739Z"
   },
   {
    "duration": 0,
    "start_time": "2022-05-03T13:31:04.741Z"
   },
   {
    "duration": 0,
    "start_time": "2022-05-03T13:31:04.742Z"
   },
   {
    "duration": 57,
    "start_time": "2022-05-03T13:33:06.585Z"
   },
   {
    "duration": 81,
    "start_time": "2022-05-03T13:34:01.100Z"
   },
   {
    "duration": 3,
    "start_time": "2022-05-03T13:34:09.836Z"
   },
   {
    "duration": 349,
    "start_time": "2022-05-03T13:34:09.843Z"
   },
   {
    "duration": 12,
    "start_time": "2022-05-03T13:34:10.194Z"
   },
   {
    "duration": 30,
    "start_time": "2022-05-03T13:34:10.208Z"
   },
   {
    "duration": 27,
    "start_time": "2022-05-03T13:34:10.241Z"
   },
   {
    "duration": 15,
    "start_time": "2022-05-03T13:34:10.270Z"
   },
   {
    "duration": 16,
    "start_time": "2022-05-03T13:34:10.287Z"
   },
   {
    "duration": 15,
    "start_time": "2022-05-03T13:34:10.304Z"
   },
   {
    "duration": 25,
    "start_time": "2022-05-03T13:34:10.320Z"
   },
   {
    "duration": 21,
    "start_time": "2022-05-03T13:34:10.348Z"
   },
   {
    "duration": 8,
    "start_time": "2022-05-03T13:34:10.373Z"
   },
   {
    "duration": 87,
    "start_time": "2022-05-03T13:34:10.383Z"
   },
   {
    "duration": 9,
    "start_time": "2022-05-03T13:34:10.472Z"
   },
   {
    "duration": 22,
    "start_time": "2022-05-03T13:34:10.483Z"
   },
   {
    "duration": 104,
    "start_time": "2022-05-03T13:34:10.507Z"
   },
   {
    "duration": 54,
    "start_time": "2022-05-03T13:34:10.613Z"
   },
   {
    "duration": 19,
    "start_time": "2022-05-03T13:34:10.669Z"
   },
   {
    "duration": 12,
    "start_time": "2022-05-03T13:34:10.690Z"
   },
   {
    "duration": 52,
    "start_time": "2022-05-03T13:34:10.704Z"
   },
   {
    "duration": 15,
    "start_time": "2022-05-03T13:34:10.758Z"
   },
   {
    "duration": 34,
    "start_time": "2022-05-03T13:34:10.776Z"
   },
   {
    "duration": 34,
    "start_time": "2022-05-03T13:34:10.812Z"
   },
   {
    "duration": 28,
    "start_time": "2022-05-03T13:34:10.849Z"
   },
   {
    "duration": 8,
    "start_time": "2022-05-03T13:34:10.879Z"
   },
   {
    "duration": 56,
    "start_time": "2022-05-03T13:34:10.888Z"
   },
   {
    "duration": 16,
    "start_time": "2022-05-03T13:34:10.947Z"
   },
   {
    "duration": 72,
    "start_time": "2022-05-03T13:34:10.965Z"
   },
   {
    "duration": 22,
    "start_time": "2022-05-03T13:34:11.039Z"
   },
   {
    "duration": 96,
    "start_time": "2022-05-03T13:34:11.066Z"
   },
   {
    "duration": 18,
    "start_time": "2022-05-03T13:34:11.165Z"
   },
   {
    "duration": 0,
    "start_time": "2022-05-03T13:34:11.185Z"
   },
   {
    "duration": 0,
    "start_time": "2022-05-03T13:34:11.187Z"
   },
   {
    "duration": 0,
    "start_time": "2022-05-03T13:34:11.188Z"
   },
   {
    "duration": 0,
    "start_time": "2022-05-03T13:34:11.190Z"
   },
   {
    "duration": 0,
    "start_time": "2022-05-03T13:34:11.191Z"
   },
   {
    "duration": 0,
    "start_time": "2022-05-03T13:34:11.192Z"
   },
   {
    "duration": 0,
    "start_time": "2022-05-03T13:34:11.193Z"
   },
   {
    "duration": 0,
    "start_time": "2022-05-03T13:34:11.194Z"
   },
   {
    "duration": 42,
    "start_time": "2022-05-03T13:34:23.547Z"
   },
   {
    "duration": 12,
    "start_time": "2022-05-03T13:34:26.897Z"
   },
   {
    "duration": 31,
    "start_time": "2022-05-03T13:36:45.459Z"
   },
   {
    "duration": 33,
    "start_time": "2022-05-03T13:37:25.353Z"
   },
   {
    "duration": 4,
    "start_time": "2022-05-03T13:37:32.850Z"
   },
   {
    "duration": 349,
    "start_time": "2022-05-03T13:37:32.859Z"
   },
   {
    "duration": 15,
    "start_time": "2022-05-03T13:37:33.210Z"
   },
   {
    "duration": 21,
    "start_time": "2022-05-03T13:37:33.233Z"
   },
   {
    "duration": 12,
    "start_time": "2022-05-03T13:37:33.257Z"
   },
   {
    "duration": 25,
    "start_time": "2022-05-03T13:37:33.271Z"
   },
   {
    "duration": 20,
    "start_time": "2022-05-03T13:37:33.298Z"
   },
   {
    "duration": 28,
    "start_time": "2022-05-03T13:37:33.320Z"
   },
   {
    "duration": 25,
    "start_time": "2022-05-03T13:37:33.350Z"
   },
   {
    "duration": 28,
    "start_time": "2022-05-03T13:37:33.377Z"
   },
   {
    "duration": 25,
    "start_time": "2022-05-03T13:37:33.409Z"
   },
   {
    "duration": 46,
    "start_time": "2022-05-03T13:37:33.436Z"
   },
   {
    "duration": 8,
    "start_time": "2022-05-03T13:37:33.483Z"
   },
   {
    "duration": 18,
    "start_time": "2022-05-03T13:37:33.493Z"
   },
   {
    "duration": 57,
    "start_time": "2022-05-03T13:37:33.534Z"
   },
   {
    "duration": 48,
    "start_time": "2022-05-03T13:37:33.593Z"
   },
   {
    "duration": 18,
    "start_time": "2022-05-03T13:37:33.643Z"
   },
   {
    "duration": 9,
    "start_time": "2022-05-03T13:37:33.663Z"
   },
   {
    "duration": 60,
    "start_time": "2022-05-03T13:37:33.674Z"
   },
   {
    "duration": 12,
    "start_time": "2022-05-03T13:37:33.736Z"
   },
   {
    "duration": 36,
    "start_time": "2022-05-03T13:37:33.751Z"
   },
   {
    "duration": 13,
    "start_time": "2022-05-03T13:37:33.789Z"
   },
   {
    "duration": 19,
    "start_time": "2022-05-03T13:37:33.834Z"
   },
   {
    "duration": 11,
    "start_time": "2022-05-03T13:37:33.855Z"
   },
   {
    "duration": 39,
    "start_time": "2022-05-03T13:37:33.868Z"
   },
   {
    "duration": 42,
    "start_time": "2022-05-03T13:37:33.908Z"
   },
   {
    "duration": 56,
    "start_time": "2022-05-03T13:37:33.952Z"
   },
   {
    "duration": 40,
    "start_time": "2022-05-03T13:37:34.010Z"
   },
   {
    "duration": 26,
    "start_time": "2022-05-03T13:37:34.055Z"
   },
   {
    "duration": 0,
    "start_time": "2022-05-03T13:37:34.083Z"
   },
   {
    "duration": 0,
    "start_time": "2022-05-03T13:37:34.085Z"
   },
   {
    "duration": 1,
    "start_time": "2022-05-03T13:37:34.086Z"
   },
   {
    "duration": 0,
    "start_time": "2022-05-03T13:37:34.088Z"
   },
   {
    "duration": 0,
    "start_time": "2022-05-03T13:37:34.089Z"
   },
   {
    "duration": 0,
    "start_time": "2022-05-03T13:37:34.091Z"
   },
   {
    "duration": 0,
    "start_time": "2022-05-03T13:37:34.092Z"
   },
   {
    "duration": 0,
    "start_time": "2022-05-03T13:37:34.093Z"
   },
   {
    "duration": 0,
    "start_time": "2022-05-03T13:37:34.134Z"
   },
   {
    "duration": 3,
    "start_time": "2022-05-03T13:39:41.185Z"
   },
   {
    "duration": 49,
    "start_time": "2022-05-03T13:43:23.873Z"
   },
   {
    "duration": 4417,
    "start_time": "2022-05-03T13:44:05.235Z"
   },
   {
    "duration": 55,
    "start_time": "2022-05-03T13:44:42.163Z"
   },
   {
    "duration": 60,
    "start_time": "2022-05-03T13:45:09.486Z"
   },
   {
    "duration": 242,
    "start_time": "2022-05-03T13:45:50.471Z"
   },
   {
    "duration": 56,
    "start_time": "2022-05-03T13:46:16.463Z"
   },
   {
    "duration": 18,
    "start_time": "2022-05-03T14:09:50.290Z"
   },
   {
    "duration": 59,
    "start_time": "2022-05-03T14:22:28.081Z"
   },
   {
    "duration": 12,
    "start_time": "2022-05-03T14:22:53.666Z"
   },
   {
    "duration": 12,
    "start_time": "2022-05-03T14:23:03.366Z"
   },
   {
    "duration": 15,
    "start_time": "2022-05-03T14:23:26.652Z"
   },
   {
    "duration": 31,
    "start_time": "2022-05-03T14:24:39.753Z"
   },
   {
    "duration": 12,
    "start_time": "2022-05-03T14:25:55.929Z"
   },
   {
    "duration": 9,
    "start_time": "2022-05-03T14:26:06.682Z"
   },
   {
    "duration": 11,
    "start_time": "2022-05-03T14:27:06.484Z"
   },
   {
    "duration": 15,
    "start_time": "2022-05-03T14:28:44.318Z"
   },
   {
    "duration": 75,
    "start_time": "2022-05-03T14:29:36.383Z"
   },
   {
    "duration": 217,
    "start_time": "2022-05-03T14:30:40.890Z"
   },
   {
    "duration": 18,
    "start_time": "2022-05-03T14:30:50.376Z"
   },
   {
    "duration": 20,
    "start_time": "2022-05-03T14:31:10.681Z"
   },
   {
    "duration": 9,
    "start_time": "2022-05-03T14:41:45.155Z"
   },
   {
    "duration": 9,
    "start_time": "2022-05-03T14:41:52.067Z"
   },
   {
    "duration": 17,
    "start_time": "2022-05-03T14:42:05.750Z"
   },
   {
    "duration": 194,
    "start_time": "2022-05-03T14:52:40.214Z"
   },
   {
    "duration": 216,
    "start_time": "2022-05-03T14:53:08.241Z"
   },
   {
    "duration": 219,
    "start_time": "2022-05-03T14:55:06.887Z"
   },
   {
    "duration": 270,
    "start_time": "2022-05-03T14:56:33.418Z"
   },
   {
    "duration": 3964,
    "start_time": "2022-05-03T15:07:11.279Z"
   },
   {
    "duration": 4069,
    "start_time": "2022-05-03T15:07:21.450Z"
   },
   {
    "duration": 113,
    "start_time": "2022-05-03T15:11:28.707Z"
   },
   {
    "duration": 94,
    "start_time": "2022-05-03T15:11:32.984Z"
   },
   {
    "duration": 143,
    "start_time": "2022-05-03T15:12:00.002Z"
   },
   {
    "duration": 140,
    "start_time": "2022-05-03T15:12:14.767Z"
   },
   {
    "duration": 146,
    "start_time": "2022-05-03T15:13:01.466Z"
   },
   {
    "duration": 92,
    "start_time": "2022-05-03T15:17:20.013Z"
   },
   {
    "duration": 74,
    "start_time": "2022-05-03T15:17:42.661Z"
   },
   {
    "duration": 194,
    "start_time": "2022-05-03T15:18:11.061Z"
   },
   {
    "duration": 78,
    "start_time": "2022-05-03T15:18:18.658Z"
   },
   {
    "duration": 92,
    "start_time": "2022-05-03T15:18:56.561Z"
   },
   {
    "duration": 103,
    "start_time": "2022-05-03T15:19:10.401Z"
   },
   {
    "duration": 3008,
    "start_time": "2022-05-03T15:19:49.091Z"
   },
   {
    "duration": 135,
    "start_time": "2022-05-03T15:20:35.757Z"
   },
   {
    "duration": 125,
    "start_time": "2022-05-03T15:21:46.077Z"
   },
   {
    "duration": 123,
    "start_time": "2022-05-03T15:21:53.164Z"
   },
   {
    "duration": 121,
    "start_time": "2022-05-03T15:22:17.226Z"
   },
   {
    "duration": 111,
    "start_time": "2022-05-03T15:22:24.961Z"
   },
   {
    "duration": 127,
    "start_time": "2022-05-03T15:23:03.661Z"
   },
   {
    "duration": 125,
    "start_time": "2022-05-03T15:23:14.228Z"
   },
   {
    "duration": 137,
    "start_time": "2022-05-03T15:25:26.261Z"
   },
   {
    "duration": 54,
    "start_time": "2022-05-03T15:26:39.474Z"
   },
   {
    "duration": 90,
    "start_time": "2022-05-03T15:27:37.230Z"
   },
   {
    "duration": 99,
    "start_time": "2022-05-03T15:27:54.340Z"
   },
   {
    "duration": 98,
    "start_time": "2022-05-03T15:43:47.808Z"
   },
   {
    "duration": 60,
    "start_time": "2022-05-03T15:45:33.674Z"
   },
   {
    "duration": 2271,
    "start_time": "2022-05-03T15:45:39.474Z"
   },
   {
    "duration": 3777,
    "start_time": "2022-05-03T15:45:41.748Z"
   },
   {
    "duration": 23,
    "start_time": "2022-05-03T15:45:45.527Z"
   },
   {
    "duration": 42,
    "start_time": "2022-05-03T15:45:45.555Z"
   },
   {
    "duration": 14,
    "start_time": "2022-05-03T15:45:45.598Z"
   },
   {
    "duration": 12,
    "start_time": "2022-05-03T15:45:45.613Z"
   },
   {
    "duration": 44,
    "start_time": "2022-05-03T15:45:45.628Z"
   },
   {
    "duration": 22,
    "start_time": "2022-05-03T15:45:45.675Z"
   },
   {
    "duration": 26,
    "start_time": "2022-05-03T15:45:45.700Z"
   },
   {
    "duration": 49,
    "start_time": "2022-05-03T15:45:45.730Z"
   },
   {
    "duration": 13,
    "start_time": "2022-05-03T15:45:45.781Z"
   },
   {
    "duration": 77,
    "start_time": "2022-05-03T15:45:45.795Z"
   },
   {
    "duration": 11,
    "start_time": "2022-05-03T15:45:45.875Z"
   },
   {
    "duration": 17,
    "start_time": "2022-05-03T15:45:45.887Z"
   },
   {
    "duration": 111,
    "start_time": "2022-05-03T15:45:45.906Z"
   },
   {
    "duration": 77,
    "start_time": "2022-05-03T15:45:46.018Z"
   },
   {
    "duration": 17,
    "start_time": "2022-05-03T15:45:46.097Z"
   },
   {
    "duration": 7,
    "start_time": "2022-05-03T15:45:46.116Z"
   },
   {
    "duration": 79,
    "start_time": "2022-05-03T15:45:46.125Z"
   },
   {
    "duration": 11,
    "start_time": "2022-05-03T15:45:46.205Z"
   },
   {
    "duration": 87,
    "start_time": "2022-05-03T15:45:46.217Z"
   },
   {
    "duration": 30,
    "start_time": "2022-05-03T15:45:46.305Z"
   },
   {
    "duration": 40,
    "start_time": "2022-05-03T15:45:46.338Z"
   },
   {
    "duration": 13,
    "start_time": "2022-05-03T15:45:46.380Z"
   },
   {
    "duration": 67,
    "start_time": "2022-05-03T15:45:46.395Z"
   },
   {
    "duration": 21,
    "start_time": "2022-05-03T15:45:46.465Z"
   },
   {
    "duration": 123,
    "start_time": "2022-05-03T15:45:46.489Z"
   },
   {
    "duration": 20,
    "start_time": "2022-05-03T15:45:46.616Z"
   },
   {
    "duration": 1874,
    "start_time": "2022-05-03T15:46:55.429Z"
   },
   {
    "duration": 3308,
    "start_time": "2022-05-03T15:46:57.305Z"
   },
   {
    "duration": 14,
    "start_time": "2022-05-03T15:47:00.615Z"
   },
   {
    "duration": 74,
    "start_time": "2022-05-03T15:47:00.632Z"
   },
   {
    "duration": 21,
    "start_time": "2022-05-03T15:47:00.708Z"
   },
   {
    "duration": 63,
    "start_time": "2022-05-03T15:47:00.731Z"
   },
   {
    "duration": 20,
    "start_time": "2022-05-03T15:47:00.796Z"
   },
   {
    "duration": 55,
    "start_time": "2022-05-03T15:47:00.818Z"
   },
   {
    "duration": 31,
    "start_time": "2022-05-03T15:47:00.876Z"
   },
   {
    "duration": 47,
    "start_time": "2022-05-03T15:47:00.910Z"
   },
   {
    "duration": 14,
    "start_time": "2022-05-03T15:47:00.959Z"
   },
   {
    "duration": 98,
    "start_time": "2022-05-03T15:47:00.975Z"
   },
   {
    "duration": 10,
    "start_time": "2022-05-03T15:47:01.075Z"
   },
   {
    "duration": 29,
    "start_time": "2022-05-03T15:47:01.087Z"
   },
   {
    "duration": 137,
    "start_time": "2022-05-03T15:47:01.117Z"
   },
   {
    "duration": 47,
    "start_time": "2022-05-03T15:47:01.257Z"
   },
   {
    "duration": 36,
    "start_time": "2022-05-03T15:47:01.305Z"
   },
   {
    "duration": 48,
    "start_time": "2022-05-03T15:47:01.343Z"
   },
   {
    "duration": 95,
    "start_time": "2022-05-03T15:47:01.393Z"
   },
   {
    "duration": 12,
    "start_time": "2022-05-03T15:47:01.490Z"
   },
   {
    "duration": 86,
    "start_time": "2022-05-03T15:47:01.503Z"
   },
   {
    "duration": 15,
    "start_time": "2022-05-03T15:47:01.591Z"
   },
   {
    "duration": 29,
    "start_time": "2022-05-03T15:47:01.608Z"
   },
   {
    "duration": 57,
    "start_time": "2022-05-03T15:47:01.639Z"
   },
   {
    "duration": 51,
    "start_time": "2022-05-03T15:47:01.698Z"
   },
   {
    "duration": 32,
    "start_time": "2022-05-03T15:47:01.752Z"
   },
   {
    "duration": 108,
    "start_time": "2022-05-03T15:47:01.787Z"
   },
   {
    "duration": 20,
    "start_time": "2022-05-03T15:47:01.899Z"
   },
   {
    "duration": 1826,
    "start_time": "2022-05-03T15:48:41.673Z"
   },
   {
    "duration": 2995,
    "start_time": "2022-05-03T15:48:43.501Z"
   },
   {
    "duration": 14,
    "start_time": "2022-05-03T15:48:46.498Z"
   },
   {
    "duration": 29,
    "start_time": "2022-05-03T15:48:46.514Z"
   },
   {
    "duration": 36,
    "start_time": "2022-05-03T15:48:46.551Z"
   },
   {
    "duration": 12,
    "start_time": "2022-05-03T15:48:46.589Z"
   },
   {
    "duration": 13,
    "start_time": "2022-05-03T15:48:46.603Z"
   },
   {
    "duration": 22,
    "start_time": "2022-05-03T15:48:46.618Z"
   },
   {
    "duration": 42,
    "start_time": "2022-05-03T15:48:46.643Z"
   },
   {
    "duration": 26,
    "start_time": "2022-05-03T15:48:46.689Z"
   },
   {
    "duration": 9,
    "start_time": "2022-05-03T15:48:46.717Z"
   },
   {
    "duration": 78,
    "start_time": "2022-05-03T15:48:46.728Z"
   },
   {
    "duration": 8,
    "start_time": "2022-05-03T15:48:46.808Z"
   },
   {
    "duration": 44,
    "start_time": "2022-05-03T15:48:46.817Z"
   },
   {
    "duration": 156,
    "start_time": "2022-05-03T15:48:46.863Z"
   },
   {
    "duration": 70,
    "start_time": "2022-05-03T15:48:47.021Z"
   },
   {
    "duration": 47,
    "start_time": "2022-05-03T15:48:47.094Z"
   },
   {
    "duration": 17,
    "start_time": "2022-05-03T15:48:47.145Z"
   },
   {
    "duration": 95,
    "start_time": "2022-05-03T15:48:47.165Z"
   },
   {
    "duration": 16,
    "start_time": "2022-05-03T15:48:47.263Z"
   },
   {
    "duration": 71,
    "start_time": "2022-05-03T15:48:47.280Z"
   },
   {
    "duration": 22,
    "start_time": "2022-05-03T15:48:47.354Z"
   },
   {
    "duration": 22,
    "start_time": "2022-05-03T15:48:47.378Z"
   },
   {
    "duration": 9,
    "start_time": "2022-05-03T15:48:47.403Z"
   },
   {
    "duration": 77,
    "start_time": "2022-05-03T15:48:47.414Z"
   },
   {
    "duration": 16,
    "start_time": "2022-05-03T15:48:47.493Z"
   },
   {
    "duration": 97,
    "start_time": "2022-05-03T15:48:47.511Z"
   },
   {
    "duration": 35,
    "start_time": "2022-05-03T15:48:47.612Z"
   },
   {
    "duration": 81,
    "start_time": "2022-05-03T15:48:47.649Z"
   },
   {
    "duration": 58,
    "start_time": "2022-05-03T15:48:47.732Z"
   },
   {
    "duration": 83,
    "start_time": "2022-05-03T15:48:47.792Z"
   },
   {
    "duration": 3425,
    "start_time": "2022-05-03T15:48:47.877Z"
   },
   {
    "duration": 0,
    "start_time": "2022-05-03T15:48:51.304Z"
   },
   {
    "duration": 0,
    "start_time": "2022-05-03T15:48:51.305Z"
   },
   {
    "duration": 0,
    "start_time": "2022-05-03T15:48:51.306Z"
   },
   {
    "duration": 0,
    "start_time": "2022-05-03T15:48:51.307Z"
   },
   {
    "duration": 0,
    "start_time": "2022-05-03T15:48:51.308Z"
   },
   {
    "duration": 0,
    "start_time": "2022-05-03T15:48:51.310Z"
   },
   {
    "duration": 0,
    "start_time": "2022-05-03T15:48:51.311Z"
   },
   {
    "duration": 79,
    "start_time": "2022-05-03T15:50:08.174Z"
   },
   {
    "duration": 45625,
    "start_time": "2022-05-03T15:53:44.819Z"
   },
   {
    "duration": 2712,
    "start_time": "2022-05-03T15:57:20.449Z"
   },
   {
    "duration": 2773,
    "start_time": "2022-05-03T15:57:38.611Z"
   },
   {
    "duration": 229,
    "start_time": "2022-05-03T16:00:18.185Z"
   },
   {
    "duration": 3211,
    "start_time": "2022-05-03T16:02:40.902Z"
   },
   {
    "duration": 192,
    "start_time": "2022-05-03T16:03:04.461Z"
   },
   {
    "duration": 201,
    "start_time": "2022-05-03T16:04:06.627Z"
   },
   {
    "duration": 187,
    "start_time": "2022-05-03T16:05:08.108Z"
   },
   {
    "duration": 62,
    "start_time": "2022-05-03T16:10:11.064Z"
   },
   {
    "duration": 34,
    "start_time": "2022-05-03T16:17:54.932Z"
   },
   {
    "duration": 26,
    "start_time": "2022-05-03T16:18:07.560Z"
   },
   {
    "duration": 18,
    "start_time": "2022-05-03T16:19:39.771Z"
   },
   {
    "duration": 23,
    "start_time": "2022-05-03T16:20:35.371Z"
   },
   {
    "duration": 76,
    "start_time": "2022-05-03T16:24:34.889Z"
   },
   {
    "duration": 61,
    "start_time": "2022-05-03T16:26:21.507Z"
   },
   {
    "duration": 1638,
    "start_time": "2022-05-03T16:26:26.091Z"
   },
   {
    "duration": 1937,
    "start_time": "2022-05-03T16:26:27.731Z"
   },
   {
    "duration": 13,
    "start_time": "2022-05-03T16:26:29.669Z"
   },
   {
    "duration": 20,
    "start_time": "2022-05-03T16:26:29.684Z"
   },
   {
    "duration": 13,
    "start_time": "2022-05-03T16:26:29.705Z"
   },
   {
    "duration": 11,
    "start_time": "2022-05-03T16:26:29.719Z"
   },
   {
    "duration": 39,
    "start_time": "2022-05-03T16:26:29.731Z"
   },
   {
    "duration": 17,
    "start_time": "2022-05-03T16:26:29.771Z"
   },
   {
    "duration": 19,
    "start_time": "2022-05-03T16:26:29.789Z"
   },
   {
    "duration": 27,
    "start_time": "2022-05-03T16:26:29.811Z"
   },
   {
    "duration": 15,
    "start_time": "2022-05-03T16:26:29.844Z"
   },
   {
    "duration": 43,
    "start_time": "2022-05-03T16:26:29.861Z"
   },
   {
    "duration": 8,
    "start_time": "2022-05-03T16:26:29.906Z"
   },
   {
    "duration": 28,
    "start_time": "2022-05-03T16:26:29.916Z"
   },
   {
    "duration": 27,
    "start_time": "2022-05-03T16:26:29.946Z"
   },
   {
    "duration": 13,
    "start_time": "2022-05-03T16:26:29.975Z"
   },
   {
    "duration": 17,
    "start_time": "2022-05-03T16:26:29.990Z"
   },
   {
    "duration": 13,
    "start_time": "2022-05-03T16:26:30.036Z"
   },
   {
    "duration": 67,
    "start_time": "2022-05-03T16:26:30.051Z"
   },
   {
    "duration": 18,
    "start_time": "2022-05-03T16:26:30.119Z"
   },
   {
    "duration": 25,
    "start_time": "2022-05-03T16:26:30.139Z"
   },
   {
    "duration": 14,
    "start_time": "2022-05-03T16:26:30.165Z"
   },
   {
    "duration": 19,
    "start_time": "2022-05-03T16:26:30.180Z"
   },
   {
    "duration": 9,
    "start_time": "2022-05-03T16:26:30.200Z"
   },
   {
    "duration": 72,
    "start_time": "2022-05-03T16:26:30.211Z"
   },
   {
    "duration": 16,
    "start_time": "2022-05-03T16:26:30.284Z"
   },
   {
    "duration": 29,
    "start_time": "2022-05-03T16:26:30.301Z"
   },
   {
    "duration": 28,
    "start_time": "2022-05-03T16:26:30.334Z"
   },
   {
    "duration": 1292,
    "start_time": "2022-05-03T16:26:58.107Z"
   },
   {
    "duration": 1489,
    "start_time": "2022-05-03T16:26:59.401Z"
   },
   {
    "duration": 13,
    "start_time": "2022-05-03T16:27:00.892Z"
   },
   {
    "duration": 68,
    "start_time": "2022-05-03T16:27:00.907Z"
   },
   {
    "duration": 16,
    "start_time": "2022-05-03T16:27:00.977Z"
   },
   {
    "duration": 12,
    "start_time": "2022-05-03T16:27:00.995Z"
   },
   {
    "duration": 19,
    "start_time": "2022-05-03T16:27:01.009Z"
   },
   {
    "duration": 51,
    "start_time": "2022-05-03T16:27:01.030Z"
   },
   {
    "duration": 27,
    "start_time": "2022-05-03T16:27:01.082Z"
   },
   {
    "duration": 34,
    "start_time": "2022-05-03T16:27:01.111Z"
   },
   {
    "duration": 34,
    "start_time": "2022-05-03T16:27:01.147Z"
   },
   {
    "duration": 48,
    "start_time": "2022-05-03T16:27:01.183Z"
   },
   {
    "duration": 10,
    "start_time": "2022-05-03T16:27:01.233Z"
   },
   {
    "duration": 39,
    "start_time": "2022-05-03T16:27:01.250Z"
   },
   {
    "duration": 25,
    "start_time": "2022-05-03T16:27:01.291Z"
   },
   {
    "duration": 16,
    "start_time": "2022-05-03T16:27:01.318Z"
   },
   {
    "duration": 42,
    "start_time": "2022-05-03T16:27:01.337Z"
   },
   {
    "duration": 11,
    "start_time": "2022-05-03T16:27:01.381Z"
   },
   {
    "duration": 78,
    "start_time": "2022-05-03T16:27:01.393Z"
   },
   {
    "duration": 16,
    "start_time": "2022-05-03T16:27:01.474Z"
   },
   {
    "duration": 20,
    "start_time": "2022-05-03T16:27:01.492Z"
   },
   {
    "duration": 32,
    "start_time": "2022-05-03T16:27:01.514Z"
   },
   {
    "duration": 61,
    "start_time": "2022-05-03T16:27:01.549Z"
   },
   {
    "duration": 30,
    "start_time": "2022-05-03T16:27:01.612Z"
   },
   {
    "duration": 68,
    "start_time": "2022-05-03T16:27:01.644Z"
   },
   {
    "duration": 17,
    "start_time": "2022-05-03T16:27:01.714Z"
   },
   {
    "duration": 42,
    "start_time": "2022-05-03T16:27:01.735Z"
   },
   {
    "duration": 21,
    "start_time": "2022-05-03T16:27:01.780Z"
   },
   {
    "duration": 190,
    "start_time": "2022-05-03T16:27:01.803Z"
   },
   {
    "duration": 0,
    "start_time": "2022-05-03T16:27:01.995Z"
   },
   {
    "duration": 0,
    "start_time": "2022-05-03T16:27:01.996Z"
   },
   {
    "duration": 0,
    "start_time": "2022-05-03T16:27:01.997Z"
   },
   {
    "duration": 0,
    "start_time": "2022-05-03T16:27:01.998Z"
   },
   {
    "duration": 0,
    "start_time": "2022-05-03T16:27:01.999Z"
   },
   {
    "duration": 0,
    "start_time": "2022-05-03T16:27:02.000Z"
   },
   {
    "duration": 0,
    "start_time": "2022-05-03T16:27:02.002Z"
   },
   {
    "duration": 0,
    "start_time": "2022-05-03T16:27:02.003Z"
   },
   {
    "duration": 0,
    "start_time": "2022-05-03T16:27:02.004Z"
   },
   {
    "duration": 0,
    "start_time": "2022-05-03T16:27:02.005Z"
   },
   {
    "duration": 0,
    "start_time": "2022-05-03T16:27:02.006Z"
   },
   {
    "duration": 0,
    "start_time": "2022-05-03T16:27:02.007Z"
   },
   {
    "duration": 62,
    "start_time": "2022-05-03T16:27:13.813Z"
   },
   {
    "duration": 61,
    "start_time": "2022-05-03T16:27:18.513Z"
   },
   {
    "duration": 2978,
    "start_time": "2022-05-03T16:29:28.898Z"
   },
   {
    "duration": 95,
    "start_time": "2022-05-03T16:30:27.510Z"
   },
   {
    "duration": 34,
    "start_time": "2022-05-03T16:32:52.775Z"
   },
   {
    "duration": 29,
    "start_time": "2022-05-03T16:33:58.796Z"
   },
   {
    "duration": 57,
    "start_time": "2022-05-03T16:34:32.709Z"
   },
   {
    "duration": 33,
    "start_time": "2022-05-03T16:35:20.330Z"
   },
   {
    "duration": 96,
    "start_time": "2022-05-03T16:35:32.891Z"
   },
   {
    "duration": 1133,
    "start_time": "2022-05-03T16:36:38.873Z"
   },
   {
    "duration": 4979,
    "start_time": "2022-05-03T16:36:40.008Z"
   },
   {
    "duration": 14,
    "start_time": "2022-05-03T16:36:44.989Z"
   },
   {
    "duration": 26,
    "start_time": "2022-05-03T16:36:45.005Z"
   },
   {
    "duration": 18,
    "start_time": "2022-05-03T16:36:45.040Z"
   },
   {
    "duration": 11,
    "start_time": "2022-05-03T16:36:45.060Z"
   },
   {
    "duration": 15,
    "start_time": "2022-05-03T16:36:45.073Z"
   },
   {
    "duration": 17,
    "start_time": "2022-05-03T16:36:45.089Z"
   },
   {
    "duration": 32,
    "start_time": "2022-05-03T16:36:45.108Z"
   },
   {
    "duration": 23,
    "start_time": "2022-05-03T16:36:45.144Z"
   },
   {
    "duration": 9,
    "start_time": "2022-05-03T16:36:45.169Z"
   },
   {
    "duration": 65,
    "start_time": "2022-05-03T16:36:45.179Z"
   },
   {
    "duration": 7,
    "start_time": "2022-05-03T16:36:45.246Z"
   },
   {
    "duration": 17,
    "start_time": "2022-05-03T16:36:45.255Z"
   },
   {
    "duration": 22,
    "start_time": "2022-05-03T16:36:45.274Z"
   },
   {
    "duration": 49,
    "start_time": "2022-05-03T16:36:45.298Z"
   },
   {
    "duration": 16,
    "start_time": "2022-05-03T16:36:45.349Z"
   },
   {
    "duration": 10,
    "start_time": "2022-05-03T16:36:45.366Z"
   },
   {
    "duration": 57,
    "start_time": "2022-05-03T16:36:45.378Z"
   },
   {
    "duration": 12,
    "start_time": "2022-05-03T16:36:45.437Z"
   },
   {
    "duration": 18,
    "start_time": "2022-05-03T16:36:45.451Z"
   },
   {
    "duration": 9,
    "start_time": "2022-05-03T16:36:45.471Z"
   },
   {
    "duration": 24,
    "start_time": "2022-05-03T16:36:45.482Z"
   },
   {
    "duration": 16,
    "start_time": "2022-05-03T16:36:45.532Z"
   },
   {
    "duration": 36,
    "start_time": "2022-05-03T16:36:45.550Z"
   },
   {
    "duration": 15,
    "start_time": "2022-05-03T16:36:45.589Z"
   },
   {
    "duration": 46,
    "start_time": "2022-05-03T16:36:45.606Z"
   },
   {
    "duration": 19,
    "start_time": "2022-05-03T16:36:45.657Z"
   },
   {
    "duration": 6578,
    "start_time": "2022-05-03T16:36:45.678Z"
   },
   {
    "duration": 43,
    "start_time": "2022-05-03T16:36:52.258Z"
   },
   {
    "duration": 3169,
    "start_time": "2022-05-03T16:36:52.302Z"
   },
   {
    "duration": 0,
    "start_time": "2022-05-03T16:36:55.473Z"
   },
   {
    "duration": 0,
    "start_time": "2022-05-03T16:36:55.474Z"
   },
   {
    "duration": 0,
    "start_time": "2022-05-03T16:36:55.475Z"
   },
   {
    "duration": 0,
    "start_time": "2022-05-03T16:36:55.477Z"
   },
   {
    "duration": 0,
    "start_time": "2022-05-03T16:36:55.478Z"
   },
   {
    "duration": 0,
    "start_time": "2022-05-03T16:36:55.479Z"
   },
   {
    "duration": 0,
    "start_time": "2022-05-03T16:36:55.480Z"
   },
   {
    "duration": 0,
    "start_time": "2022-05-03T16:36:55.482Z"
   },
   {
    "duration": 0,
    "start_time": "2022-05-03T16:36:55.483Z"
   },
   {
    "duration": 0,
    "start_time": "2022-05-03T16:36:55.484Z"
   },
   {
    "duration": 52,
    "start_time": "2022-05-03T16:37:27.958Z"
   },
   {
    "duration": 7,
    "start_time": "2022-05-03T16:37:33.815Z"
   },
   {
    "duration": 9,
    "start_time": "2022-05-03T16:37:36.771Z"
   },
   {
    "duration": 1243,
    "start_time": "2022-05-03T16:37:43.968Z"
   },
   {
    "duration": 1260,
    "start_time": "2022-05-03T16:37:45.213Z"
   },
   {
    "duration": 13,
    "start_time": "2022-05-03T16:37:46.475Z"
   },
   {
    "duration": 19,
    "start_time": "2022-05-03T16:37:46.490Z"
   },
   {
    "duration": 12,
    "start_time": "2022-05-03T16:37:46.511Z"
   },
   {
    "duration": 17,
    "start_time": "2022-05-03T16:37:46.525Z"
   },
   {
    "duration": 19,
    "start_time": "2022-05-03T16:37:46.545Z"
   },
   {
    "duration": 14,
    "start_time": "2022-05-03T16:37:46.567Z"
   },
   {
    "duration": 17,
    "start_time": "2022-05-03T16:37:46.582Z"
   },
   {
    "duration": 44,
    "start_time": "2022-05-03T16:37:46.601Z"
   },
   {
    "duration": 9,
    "start_time": "2022-05-03T16:37:46.647Z"
   },
   {
    "duration": 42,
    "start_time": "2022-05-03T16:37:46.658Z"
   },
   {
    "duration": 7,
    "start_time": "2022-05-03T16:37:46.702Z"
   },
   {
    "duration": 42,
    "start_time": "2022-05-03T16:37:46.711Z"
   },
   {
    "duration": 24,
    "start_time": "2022-05-03T16:37:46.755Z"
   },
   {
    "duration": 14,
    "start_time": "2022-05-03T16:37:46.781Z"
   },
   {
    "duration": 47,
    "start_time": "2022-05-03T16:37:46.797Z"
   },
   {
    "duration": 8,
    "start_time": "2022-05-03T16:37:46.846Z"
   },
   {
    "duration": 51,
    "start_time": "2022-05-03T16:37:46.856Z"
   },
   {
    "duration": 37,
    "start_time": "2022-05-03T16:37:46.909Z"
   },
   {
    "duration": 18,
    "start_time": "2022-05-03T16:37:46.948Z"
   },
   {
    "duration": 8,
    "start_time": "2022-05-03T16:37:46.968Z"
   },
   {
    "duration": 21,
    "start_time": "2022-05-03T16:37:46.977Z"
   },
   {
    "duration": 40,
    "start_time": "2022-05-03T16:37:47.000Z"
   },
   {
    "duration": 41,
    "start_time": "2022-05-03T16:37:47.042Z"
   },
   {
    "duration": 14,
    "start_time": "2022-05-03T16:37:47.085Z"
   },
   {
    "duration": 45,
    "start_time": "2022-05-03T16:37:47.101Z"
   },
   {
    "duration": 20,
    "start_time": "2022-05-03T16:37:47.150Z"
   },
   {
    "duration": 7567,
    "start_time": "2022-05-03T16:37:47.171Z"
   },
   {
    "duration": 41,
    "start_time": "2022-05-03T16:37:54.739Z"
   },
   {
    "duration": 2829,
    "start_time": "2022-05-03T16:37:54.781Z"
   },
   {
    "duration": 0,
    "start_time": "2022-05-03T16:37:57.612Z"
   },
   {
    "duration": 0,
    "start_time": "2022-05-03T16:37:57.613Z"
   },
   {
    "duration": 0,
    "start_time": "2022-05-03T16:37:57.614Z"
   },
   {
    "duration": 0,
    "start_time": "2022-05-03T16:37:57.615Z"
   },
   {
    "duration": 0,
    "start_time": "2022-05-03T16:37:57.616Z"
   },
   {
    "duration": 1,
    "start_time": "2022-05-03T16:37:57.616Z"
   },
   {
    "duration": 0,
    "start_time": "2022-05-03T16:37:57.617Z"
   },
   {
    "duration": 0,
    "start_time": "2022-05-03T16:37:57.618Z"
   },
   {
    "duration": 0,
    "start_time": "2022-05-03T16:37:57.619Z"
   },
   {
    "duration": 0,
    "start_time": "2022-05-03T16:37:57.620Z"
   },
   {
    "duration": 1173,
    "start_time": "2022-05-03T16:39:08.807Z"
   },
   {
    "duration": 1232,
    "start_time": "2022-05-03T16:39:09.982Z"
   },
   {
    "duration": 12,
    "start_time": "2022-05-03T16:39:11.216Z"
   },
   {
    "duration": 30,
    "start_time": "2022-05-03T16:39:11.230Z"
   },
   {
    "duration": 14,
    "start_time": "2022-05-03T16:39:11.262Z"
   },
   {
    "duration": 11,
    "start_time": "2022-05-03T16:39:11.277Z"
   },
   {
    "duration": 29,
    "start_time": "2022-05-03T16:39:11.290Z"
   },
   {
    "duration": 35,
    "start_time": "2022-05-03T16:39:11.321Z"
   },
   {
    "duration": 24,
    "start_time": "2022-05-03T16:39:11.357Z"
   },
   {
    "duration": 31,
    "start_time": "2022-05-03T16:39:11.384Z"
   },
   {
    "duration": 8,
    "start_time": "2022-05-03T16:39:11.416Z"
   },
   {
    "duration": 58,
    "start_time": "2022-05-03T16:39:11.425Z"
   },
   {
    "duration": 7,
    "start_time": "2022-05-03T16:39:11.485Z"
   },
   {
    "duration": 23,
    "start_time": "2022-05-03T16:39:11.493Z"
   },
   {
    "duration": 31,
    "start_time": "2022-05-03T16:39:11.518Z"
   },
   {
    "duration": 15,
    "start_time": "2022-05-03T16:39:11.551Z"
   },
   {
    "duration": 22,
    "start_time": "2022-05-03T16:39:11.567Z"
   },
   {
    "duration": 17,
    "start_time": "2022-05-03T16:39:11.591Z"
   },
   {
    "duration": 79,
    "start_time": "2022-05-03T16:39:11.609Z"
   },
   {
    "duration": 10,
    "start_time": "2022-05-03T16:39:11.689Z"
   },
   {
    "duration": 19,
    "start_time": "2022-05-03T16:39:11.700Z"
   },
   {
    "duration": 21,
    "start_time": "2022-05-03T16:39:11.721Z"
   },
   {
    "duration": 29,
    "start_time": "2022-05-03T16:39:11.744Z"
   },
   {
    "duration": 13,
    "start_time": "2022-05-03T16:39:11.775Z"
   },
   {
    "duration": 50,
    "start_time": "2022-05-03T16:39:11.790Z"
   },
   {
    "duration": 16,
    "start_time": "2022-05-03T16:39:11.841Z"
   },
   {
    "duration": 21,
    "start_time": "2022-05-03T16:39:11.859Z"
   },
   {
    "duration": 19,
    "start_time": "2022-05-03T16:39:11.885Z"
   },
   {
    "duration": 53,
    "start_time": "2022-05-03T16:40:47.964Z"
   },
   {
    "duration": 1255,
    "start_time": "2022-05-03T16:40:54.024Z"
   },
   {
    "duration": 1242,
    "start_time": "2022-05-03T16:40:55.282Z"
   },
   {
    "duration": 15,
    "start_time": "2022-05-03T16:40:56.526Z"
   },
   {
    "duration": 21,
    "start_time": "2022-05-03T16:40:56.546Z"
   },
   {
    "duration": 13,
    "start_time": "2022-05-03T16:40:56.569Z"
   },
   {
    "duration": 12,
    "start_time": "2022-05-03T16:40:56.584Z"
   },
   {
    "duration": 17,
    "start_time": "2022-05-03T16:40:56.598Z"
   },
   {
    "duration": 15,
    "start_time": "2022-05-03T16:40:56.635Z"
   },
   {
    "duration": 26,
    "start_time": "2022-05-03T16:40:56.652Z"
   },
   {
    "duration": 33,
    "start_time": "2022-05-03T16:40:56.681Z"
   },
   {
    "duration": 8,
    "start_time": "2022-05-03T16:40:56.716Z"
   },
   {
    "duration": 45,
    "start_time": "2022-05-03T16:40:56.734Z"
   },
   {
    "duration": 7,
    "start_time": "2022-05-03T16:40:56.781Z"
   },
   {
    "duration": 19,
    "start_time": "2022-05-03T16:40:56.789Z"
   },
   {
    "duration": 27,
    "start_time": "2022-05-03T16:40:56.834Z"
   },
   {
    "duration": 14,
    "start_time": "2022-05-03T16:40:56.863Z"
   },
   {
    "duration": 17,
    "start_time": "2022-05-03T16:40:56.879Z"
   },
   {
    "duration": 42,
    "start_time": "2022-05-03T16:40:56.898Z"
   },
   {
    "duration": 59,
    "start_time": "2022-05-03T16:40:56.942Z"
   },
   {
    "duration": 10,
    "start_time": "2022-05-03T16:40:57.003Z"
   },
   {
    "duration": 36,
    "start_time": "2022-05-03T16:40:57.014Z"
   },
   {
    "duration": 9,
    "start_time": "2022-05-03T16:40:57.052Z"
   },
   {
    "duration": 19,
    "start_time": "2022-05-03T16:40:57.062Z"
   },
   {
    "duration": 8,
    "start_time": "2022-05-03T16:40:57.083Z"
   },
   {
    "duration": 65,
    "start_time": "2022-05-03T16:40:57.093Z"
   },
   {
    "duration": 14,
    "start_time": "2022-05-03T16:40:57.160Z"
   },
   {
    "duration": 19,
    "start_time": "2022-05-03T16:40:57.176Z"
   },
   {
    "duration": 51,
    "start_time": "2022-05-03T16:40:57.199Z"
   },
   {
    "duration": 1201,
    "start_time": "2022-05-03T16:41:42.492Z"
   },
   {
    "duration": 1771,
    "start_time": "2022-05-03T16:41:43.695Z"
   },
   {
    "duration": 12,
    "start_time": "2022-05-03T16:41:45.468Z"
   },
   {
    "duration": 16,
    "start_time": "2022-05-03T16:41:45.482Z"
   },
   {
    "duration": 13,
    "start_time": "2022-05-03T16:41:45.499Z"
   },
   {
    "duration": 11,
    "start_time": "2022-05-03T16:41:45.513Z"
   },
   {
    "duration": 21,
    "start_time": "2022-05-03T16:41:45.525Z"
   },
   {
    "duration": 18,
    "start_time": "2022-05-03T16:41:45.548Z"
   },
   {
    "duration": 21,
    "start_time": "2022-05-03T16:41:45.567Z"
   },
   {
    "duration": 30,
    "start_time": "2022-05-03T16:41:45.591Z"
   },
   {
    "duration": 9,
    "start_time": "2022-05-03T16:41:45.622Z"
   },
   {
    "duration": 50,
    "start_time": "2022-05-03T16:41:45.640Z"
   },
   {
    "duration": 8,
    "start_time": "2022-05-03T16:41:45.692Z"
   },
   {
    "duration": 16,
    "start_time": "2022-05-03T16:41:45.702Z"
   },
   {
    "duration": 35,
    "start_time": "2022-05-03T16:41:45.720Z"
   },
   {
    "duration": 13,
    "start_time": "2022-05-03T16:41:45.756Z"
   },
   {
    "duration": 15,
    "start_time": "2022-05-03T16:41:45.771Z"
   },
   {
    "duration": 7,
    "start_time": "2022-05-03T16:41:45.788Z"
   },
   {
    "duration": 89,
    "start_time": "2022-05-03T16:41:45.796Z"
   },
   {
    "duration": 10,
    "start_time": "2022-05-03T16:41:45.886Z"
   },
   {
    "duration": 17,
    "start_time": "2022-05-03T16:41:45.897Z"
   },
   {
    "duration": 16,
    "start_time": "2022-05-03T16:41:45.933Z"
   },
   {
    "duration": 21,
    "start_time": "2022-05-03T16:41:45.951Z"
   },
   {
    "duration": 8,
    "start_time": "2022-05-03T16:41:45.973Z"
   },
   {
    "duration": 57,
    "start_time": "2022-05-03T16:41:45.983Z"
   },
   {
    "duration": 16,
    "start_time": "2022-05-03T16:41:46.043Z"
   },
   {
    "duration": 21,
    "start_time": "2022-05-03T16:41:46.061Z"
   },
   {
    "duration": 18,
    "start_time": "2022-05-03T16:41:46.085Z"
   },
   {
    "duration": 1273,
    "start_time": "2022-05-03T16:42:08.431Z"
   },
   {
    "duration": 4870,
    "start_time": "2022-05-03T16:42:09.706Z"
   },
   {
    "duration": 13,
    "start_time": "2022-05-03T16:42:14.577Z"
   },
   {
    "duration": 16,
    "start_time": "2022-05-03T16:42:14.592Z"
   },
   {
    "duration": 13,
    "start_time": "2022-05-03T16:42:14.610Z"
   },
   {
    "duration": 22,
    "start_time": "2022-05-03T16:42:14.624Z"
   },
   {
    "duration": 13,
    "start_time": "2022-05-03T16:42:14.648Z"
   },
   {
    "duration": 13,
    "start_time": "2022-05-03T16:42:14.663Z"
   },
   {
    "duration": 17,
    "start_time": "2022-05-03T16:42:14.678Z"
   },
   {
    "duration": 47,
    "start_time": "2022-05-03T16:42:14.698Z"
   },
   {
    "duration": 9,
    "start_time": "2022-05-03T16:42:14.747Z"
   },
   {
    "duration": 37,
    "start_time": "2022-05-03T16:42:14.758Z"
   },
   {
    "duration": 7,
    "start_time": "2022-05-03T16:42:14.797Z"
   },
   {
    "duration": 48,
    "start_time": "2022-05-03T16:42:14.805Z"
   },
   {
    "duration": 23,
    "start_time": "2022-05-03T16:42:14.855Z"
   },
   {
    "duration": 14,
    "start_time": "2022-05-03T16:42:14.880Z"
   },
   {
    "duration": 41,
    "start_time": "2022-05-03T16:42:14.896Z"
   },
   {
    "duration": 15,
    "start_time": "2022-05-03T16:42:14.939Z"
   },
   {
    "duration": 57,
    "start_time": "2022-05-03T16:42:14.956Z"
   },
   {
    "duration": 24,
    "start_time": "2022-05-03T16:42:15.014Z"
   },
   {
    "duration": 20,
    "start_time": "2022-05-03T16:42:15.041Z"
   },
   {
    "duration": 9,
    "start_time": "2022-05-03T16:42:15.063Z"
   },
   {
    "duration": 22,
    "start_time": "2022-05-03T16:42:15.073Z"
   },
   {
    "duration": 9,
    "start_time": "2022-05-03T16:42:15.096Z"
   },
   {
    "duration": 66,
    "start_time": "2022-05-03T16:42:15.106Z"
   },
   {
    "duration": 15,
    "start_time": "2022-05-03T16:42:15.173Z"
   },
   {
    "duration": 19,
    "start_time": "2022-05-03T16:42:15.189Z"
   },
   {
    "duration": 23,
    "start_time": "2022-05-03T16:42:15.236Z"
   },
   {
    "duration": 1182,
    "start_time": "2022-05-03T16:43:43.205Z"
   },
   {
    "duration": 1036,
    "start_time": "2022-05-03T16:43:44.389Z"
   },
   {
    "duration": 12,
    "start_time": "2022-05-03T16:43:45.427Z"
   },
   {
    "duration": 17,
    "start_time": "2022-05-03T16:43:45.442Z"
   },
   {
    "duration": 22,
    "start_time": "2022-05-03T16:43:45.461Z"
   },
   {
    "duration": 14,
    "start_time": "2022-05-03T16:43:45.485Z"
   },
   {
    "duration": 13,
    "start_time": "2022-05-03T16:43:45.501Z"
   },
   {
    "duration": 15,
    "start_time": "2022-05-03T16:43:45.534Z"
   },
   {
    "duration": 22,
    "start_time": "2022-05-03T16:43:45.551Z"
   },
   {
    "duration": 25,
    "start_time": "2022-05-03T16:43:45.575Z"
   },
   {
    "duration": 8,
    "start_time": "2022-05-03T16:43:45.602Z"
   },
   {
    "duration": 55,
    "start_time": "2022-05-03T16:43:45.612Z"
   },
   {
    "duration": 7,
    "start_time": "2022-05-03T16:43:45.669Z"
   },
   {
    "duration": 18,
    "start_time": "2022-05-03T16:43:45.678Z"
   },
   {
    "duration": 43,
    "start_time": "2022-05-03T16:43:45.698Z"
   },
   {
    "duration": 14,
    "start_time": "2022-05-03T16:43:45.743Z"
   },
   {
    "duration": 16,
    "start_time": "2022-05-03T16:43:45.759Z"
   },
   {
    "duration": 12,
    "start_time": "2022-05-03T16:43:45.777Z"
   },
   {
    "duration": 77,
    "start_time": "2022-05-03T16:43:45.791Z"
   },
   {
    "duration": 9,
    "start_time": "2022-05-03T16:43:45.870Z"
   },
   {
    "duration": 17,
    "start_time": "2022-05-03T16:43:45.880Z"
   },
   {
    "duration": 9,
    "start_time": "2022-05-03T16:43:45.899Z"
   },
   {
    "duration": 20,
    "start_time": "2022-05-03T16:43:45.934Z"
   },
   {
    "duration": 9,
    "start_time": "2022-05-03T16:43:45.956Z"
   },
   {
    "duration": 35,
    "start_time": "2022-05-03T16:43:45.967Z"
   },
   {
    "duration": 36,
    "start_time": "2022-05-03T16:43:46.003Z"
   },
   {
    "duration": 20,
    "start_time": "2022-05-03T16:43:46.041Z"
   },
   {
    "duration": 19,
    "start_time": "2022-05-03T16:43:46.065Z"
   },
   {
    "duration": 1122,
    "start_time": "2022-05-03T16:44:20.472Z"
   },
   {
    "duration": 1002,
    "start_time": "2022-05-03T16:44:21.596Z"
   },
   {
    "duration": 13,
    "start_time": "2022-05-03T16:44:22.600Z"
   },
   {
    "duration": 16,
    "start_time": "2022-05-03T16:44:22.615Z"
   },
   {
    "duration": 12,
    "start_time": "2022-05-03T16:44:22.633Z"
   },
   {
    "duration": 11,
    "start_time": "2022-05-03T16:44:22.646Z"
   },
   {
    "duration": 11,
    "start_time": "2022-05-03T16:44:22.659Z"
   },
   {
    "duration": 16,
    "start_time": "2022-05-03T16:44:22.671Z"
   },
   {
    "duration": 16,
    "start_time": "2022-05-03T16:44:22.689Z"
   },
   {
    "duration": 24,
    "start_time": "2022-05-03T16:44:22.735Z"
   },
   {
    "duration": 9,
    "start_time": "2022-05-03T16:44:22.760Z"
   },
   {
    "duration": 66,
    "start_time": "2022-05-03T16:44:22.770Z"
   },
   {
    "duration": 7,
    "start_time": "2022-05-03T16:44:22.838Z"
   },
   {
    "duration": 16,
    "start_time": "2022-05-03T16:44:22.847Z"
   },
   {
    "duration": 24,
    "start_time": "2022-05-03T16:44:22.864Z"
   },
   {
    "duration": 51,
    "start_time": "2022-05-03T16:44:22.889Z"
   },
   {
    "duration": 15,
    "start_time": "2022-05-03T16:44:22.942Z"
   },
   {
    "duration": 8,
    "start_time": "2022-05-03T16:44:22.959Z"
   },
   {
    "duration": 79,
    "start_time": "2022-05-03T16:44:22.968Z"
   },
   {
    "duration": 9,
    "start_time": "2022-05-03T16:44:23.049Z"
   },
   {
    "duration": 17,
    "start_time": "2022-05-03T16:44:23.060Z"
   },
   {
    "duration": 8,
    "start_time": "2022-05-03T16:44:23.079Z"
   },
   {
    "duration": 44,
    "start_time": "2022-05-03T16:44:23.089Z"
   },
   {
    "duration": 9,
    "start_time": "2022-05-03T16:44:23.135Z"
   },
   {
    "duration": 32,
    "start_time": "2022-05-03T16:44:23.146Z"
   },
   {
    "duration": 14,
    "start_time": "2022-05-03T16:44:23.180Z"
   },
   {
    "duration": 49,
    "start_time": "2022-05-03T16:44:23.195Z"
   },
   {
    "duration": 17,
    "start_time": "2022-05-03T16:44:23.247Z"
   },
   {
    "duration": 6359,
    "start_time": "2022-05-03T16:44:23.266Z"
   },
   {
    "duration": 45,
    "start_time": "2022-05-03T16:44:29.626Z"
   },
   {
    "duration": 2926,
    "start_time": "2022-05-03T16:44:29.673Z"
   },
   {
    "duration": 0,
    "start_time": "2022-05-03T16:44:32.601Z"
   },
   {
    "duration": 0,
    "start_time": "2022-05-03T16:44:32.602Z"
   },
   {
    "duration": 0,
    "start_time": "2022-05-03T16:44:32.603Z"
   },
   {
    "duration": 0,
    "start_time": "2022-05-03T16:44:32.604Z"
   },
   {
    "duration": 0,
    "start_time": "2022-05-03T16:44:32.605Z"
   },
   {
    "duration": 0,
    "start_time": "2022-05-03T16:44:32.606Z"
   },
   {
    "duration": 0,
    "start_time": "2022-05-03T16:44:32.607Z"
   },
   {
    "duration": 0,
    "start_time": "2022-05-03T16:44:32.608Z"
   },
   {
    "duration": 0,
    "start_time": "2022-05-03T16:44:32.609Z"
   },
   {
    "duration": 0,
    "start_time": "2022-05-03T16:44:32.610Z"
   },
   {
    "duration": 24,
    "start_time": "2022-05-03T16:47:29.957Z"
   },
   {
    "duration": 3,
    "start_time": "2022-05-03T16:47:38.940Z"
   },
   {
    "duration": 29,
    "start_time": "2022-05-03T16:47:42.780Z"
   },
   {
    "duration": 26,
    "start_time": "2022-05-03T16:47:53.265Z"
   },
   {
    "duration": 19,
    "start_time": "2022-05-03T16:48:19.686Z"
   },
   {
    "duration": 23,
    "start_time": "2022-05-03T16:48:58.201Z"
   },
   {
    "duration": 19,
    "start_time": "2022-05-03T16:49:27.121Z"
   },
   {
    "duration": 18,
    "start_time": "2022-05-03T16:51:10.480Z"
   },
   {
    "duration": 16,
    "start_time": "2022-05-03T16:51:17.210Z"
   },
   {
    "duration": 22,
    "start_time": "2022-05-03T16:51:53.033Z"
   },
   {
    "duration": 29,
    "start_time": "2022-05-03T16:52:26.479Z"
   },
   {
    "duration": 24,
    "start_time": "2022-05-03T16:52:58.103Z"
   },
   {
    "duration": 27,
    "start_time": "2022-05-03T16:53:39.773Z"
   },
   {
    "duration": 26,
    "start_time": "2022-05-03T16:53:49.728Z"
   },
   {
    "duration": 28,
    "start_time": "2022-05-03T16:54:24.531Z"
   },
   {
    "duration": 28,
    "start_time": "2022-05-03T16:54:30.599Z"
   },
   {
    "duration": 30,
    "start_time": "2022-05-03T16:55:34.303Z"
   },
   {
    "duration": 27,
    "start_time": "2022-05-03T16:55:44.943Z"
   },
   {
    "duration": 29,
    "start_time": "2022-05-03T16:55:53.101Z"
   },
   {
    "duration": 13,
    "start_time": "2022-05-03T16:56:11.581Z"
   },
   {
    "duration": 3,
    "start_time": "2022-05-03T16:56:48.707Z"
   },
   {
    "duration": 732,
    "start_time": "2022-05-03T16:56:48.714Z"
   },
   {
    "duration": 12,
    "start_time": "2022-05-03T16:56:49.448Z"
   },
   {
    "duration": 21,
    "start_time": "2022-05-03T16:56:49.462Z"
   },
   {
    "duration": 20,
    "start_time": "2022-05-03T16:56:49.485Z"
   },
   {
    "duration": 14,
    "start_time": "2022-05-03T16:56:49.507Z"
   },
   {
    "duration": 21,
    "start_time": "2022-05-03T16:56:49.523Z"
   },
   {
    "duration": 18,
    "start_time": "2022-05-03T16:56:49.545Z"
   },
   {
    "duration": 20,
    "start_time": "2022-05-03T16:56:49.565Z"
   },
   {
    "duration": 41,
    "start_time": "2022-05-03T16:56:49.587Z"
   },
   {
    "duration": 8,
    "start_time": "2022-05-03T16:56:49.631Z"
   },
   {
    "duration": 44,
    "start_time": "2022-05-03T16:56:49.640Z"
   },
   {
    "duration": 6,
    "start_time": "2022-05-03T16:56:49.686Z"
   },
   {
    "duration": 22,
    "start_time": "2022-05-03T16:56:49.693Z"
   },
   {
    "duration": 40,
    "start_time": "2022-05-03T16:56:49.717Z"
   },
   {
    "duration": 12,
    "start_time": "2022-05-03T16:56:49.759Z"
   },
   {
    "duration": 20,
    "start_time": "2022-05-03T16:56:49.773Z"
   },
   {
    "duration": 18,
    "start_time": "2022-05-03T16:56:49.795Z"
   },
   {
    "duration": 65,
    "start_time": "2022-05-03T16:56:49.814Z"
   },
   {
    "duration": 9,
    "start_time": "2022-05-03T16:56:49.881Z"
   },
   {
    "duration": 31,
    "start_time": "2022-05-03T16:56:49.892Z"
   },
   {
    "duration": 11,
    "start_time": "2022-05-03T16:56:49.932Z"
   },
   {
    "duration": 19,
    "start_time": "2022-05-03T16:56:49.945Z"
   },
   {
    "duration": 16,
    "start_time": "2022-05-03T16:56:49.966Z"
   },
   {
    "duration": 58,
    "start_time": "2022-05-03T16:56:49.984Z"
   },
   {
    "duration": 16,
    "start_time": "2022-05-03T16:56:50.044Z"
   },
   {
    "duration": 23,
    "start_time": "2022-05-03T16:56:50.062Z"
   },
   {
    "duration": 46,
    "start_time": "2022-05-03T16:56:50.087Z"
   },
   {
    "duration": 14,
    "start_time": "2022-05-03T16:56:50.138Z"
   },
   {
    "duration": 0,
    "start_time": "2022-05-03T16:56:50.154Z"
   },
   {
    "duration": 0,
    "start_time": "2022-05-03T16:56:50.156Z"
   },
   {
    "duration": 0,
    "start_time": "2022-05-03T16:56:50.158Z"
   },
   {
    "duration": 0,
    "start_time": "2022-05-03T16:56:50.160Z"
   },
   {
    "duration": 0,
    "start_time": "2022-05-03T16:56:50.161Z"
   },
   {
    "duration": 0,
    "start_time": "2022-05-03T16:56:50.163Z"
   },
   {
    "duration": 0,
    "start_time": "2022-05-03T16:56:50.164Z"
   },
   {
    "duration": 0,
    "start_time": "2022-05-03T16:56:50.165Z"
   },
   {
    "duration": 0,
    "start_time": "2022-05-03T16:56:50.167Z"
   },
   {
    "duration": 0,
    "start_time": "2022-05-03T16:56:50.169Z"
   },
   {
    "duration": 0,
    "start_time": "2022-05-03T16:56:50.170Z"
   },
   {
    "duration": 0,
    "start_time": "2022-05-03T16:56:50.172Z"
   },
   {
    "duration": 15,
    "start_time": "2022-05-03T16:58:33.717Z"
   },
   {
    "duration": 13,
    "start_time": "2022-05-03T16:59:46.678Z"
   },
   {
    "duration": 31,
    "start_time": "2022-05-03T17:00:52.134Z"
   },
   {
    "duration": 13,
    "start_time": "2022-05-03T17:01:13.121Z"
   },
   {
    "duration": 13,
    "start_time": "2022-05-03T17:01:27.751Z"
   },
   {
    "duration": 18,
    "start_time": "2022-05-03T17:04:10.570Z"
   },
   {
    "duration": 20,
    "start_time": "2022-05-03T17:04:43.033Z"
   },
   {
    "duration": 25,
    "start_time": "2022-05-03T17:05:21.452Z"
   },
   {
    "duration": 26,
    "start_time": "2022-05-03T17:06:07.143Z"
   },
   {
    "duration": 39,
    "start_time": "2022-05-03T17:06:41.487Z"
   },
   {
    "duration": 23,
    "start_time": "2022-05-03T17:09:50.619Z"
   },
   {
    "duration": 13,
    "start_time": "2022-05-03T17:09:58.487Z"
   },
   {
    "duration": 31,
    "start_time": "2022-05-03T17:10:16.014Z"
   },
   {
    "duration": 49,
    "start_time": "2022-05-03T17:12:04.443Z"
   },
   {
    "duration": 56,
    "start_time": "2022-05-03T17:12:13.312Z"
   },
   {
    "duration": 38,
    "start_time": "2022-05-03T17:14:27.221Z"
   },
   {
    "duration": 31,
    "start_time": "2022-05-03T17:14:35.028Z"
   },
   {
    "duration": 21,
    "start_time": "2022-05-03T17:14:53.503Z"
   },
   {
    "duration": 26,
    "start_time": "2022-05-03T17:15:01.944Z"
   },
   {
    "duration": 28,
    "start_time": "2022-05-03T17:15:20.623Z"
   },
   {
    "duration": 54,
    "start_time": "2022-05-03T17:15:24.042Z"
   },
   {
    "duration": 13,
    "start_time": "2022-05-03T17:16:26.393Z"
   },
   {
    "duration": 59,
    "start_time": "2022-05-03T17:17:04.405Z"
   },
   {
    "duration": 34,
    "start_time": "2022-05-03T17:18:42.307Z"
   },
   {
    "duration": 71,
    "start_time": "2022-05-03T17:18:51.604Z"
   },
   {
    "duration": 52,
    "start_time": "2022-05-03T17:19:26.146Z"
   },
   {
    "duration": 14,
    "start_time": "2022-05-03T17:21:18.547Z"
   },
   {
    "duration": 36,
    "start_time": "2022-05-03T17:21:23.378Z"
   },
   {
    "duration": 30,
    "start_time": "2022-05-03T17:21:53.705Z"
   },
   {
    "duration": 35,
    "start_time": "2022-05-03T17:21:59.322Z"
   },
   {
    "duration": 44,
    "start_time": "2022-05-03T17:22:22.315Z"
   },
   {
    "duration": 34,
    "start_time": "2022-05-03T17:24:36.072Z"
   },
   {
    "duration": 43,
    "start_time": "2022-05-03T17:28:36.682Z"
   },
   {
    "duration": 34,
    "start_time": "2022-05-03T17:28:59.345Z"
   },
   {
    "duration": 44,
    "start_time": "2022-05-03T17:29:43.753Z"
   },
   {
    "duration": 34,
    "start_time": "2022-05-03T17:30:18.204Z"
   },
   {
    "duration": 79,
    "start_time": "2022-05-03T17:31:54.001Z"
   },
   {
    "duration": 2008,
    "start_time": "2022-05-03T17:34:19.988Z"
   },
   {
    "duration": 3162,
    "start_time": "2022-05-03T17:36:46.840Z"
   },
   {
    "duration": 3192,
    "start_time": "2022-05-03T17:37:11.073Z"
   },
   {
    "duration": 4497,
    "start_time": "2022-05-03T17:37:28.476Z"
   },
   {
    "duration": 4545,
    "start_time": "2022-05-03T17:49:06.445Z"
   },
   {
    "duration": 4639,
    "start_time": "2022-05-03T17:50:01.131Z"
   },
   {
    "duration": 3143,
    "start_time": "2022-05-03T17:53:20.190Z"
   },
   {
    "duration": 14,
    "start_time": "2022-05-03T17:54:06.733Z"
   },
   {
    "duration": 3248,
    "start_time": "2022-05-03T17:54:13.500Z"
   },
   {
    "duration": 4,
    "start_time": "2022-05-03T17:55:20.462Z"
   },
   {
    "duration": 2795,
    "start_time": "2022-05-03T17:55:22.172Z"
   },
   {
    "duration": 16,
    "start_time": "2022-05-03T17:55:42.184Z"
   },
   {
    "duration": 194,
    "start_time": "2022-05-03T17:57:41.693Z"
   },
   {
    "duration": 4403,
    "start_time": "2022-05-03T17:59:09.048Z"
   },
   {
    "duration": 194,
    "start_time": "2022-05-03T18:00:44.406Z"
   },
   {
    "duration": 204,
    "start_time": "2022-05-03T18:00:50.031Z"
   },
   {
    "duration": 216,
    "start_time": "2022-05-03T18:00:58.179Z"
   },
   {
    "duration": 207,
    "start_time": "2022-05-03T18:01:09.785Z"
   },
   {
    "duration": 216,
    "start_time": "2022-05-03T18:01:51.642Z"
   },
   {
    "duration": 1346,
    "start_time": "2022-05-03T18:02:22.635Z"
   },
   {
    "duration": 3124,
    "start_time": "2022-05-03T18:03:10.994Z"
   },
   {
    "duration": 550,
    "start_time": "2022-05-03T18:03:46.345Z"
   },
   {
    "duration": 828,
    "start_time": "2022-05-03T18:04:51.515Z"
   },
   {
    "duration": 1520,
    "start_time": "2022-05-03T18:05:19.310Z"
   },
   {
    "duration": 976,
    "start_time": "2022-05-03T18:05:33.920Z"
   },
   {
    "duration": 240,
    "start_time": "2022-05-03T18:06:14.532Z"
   },
   {
    "duration": 386,
    "start_time": "2022-05-03T18:06:21.224Z"
   },
   {
    "duration": 902,
    "start_time": "2022-05-03T18:06:31.929Z"
   },
   {
    "duration": 954,
    "start_time": "2022-05-03T18:09:26.689Z"
   },
   {
    "duration": 1586,
    "start_time": "2022-05-03T18:09:59.911Z"
   },
   {
    "duration": 166,
    "start_time": "2022-05-03T18:10:55.743Z"
   },
   {
    "duration": 602,
    "start_time": "2022-05-03T18:11:04.352Z"
   },
   {
    "duration": 1404,
    "start_time": "2022-05-03T18:12:16.381Z"
   },
   {
    "duration": 2458,
    "start_time": "2022-05-03T18:12:32.951Z"
   },
   {
    "duration": 5476,
    "start_time": "2022-05-03T18:17:04.273Z"
   },
   {
    "duration": 2482,
    "start_time": "2022-05-03T18:20:46.735Z"
   },
   {
    "duration": 288,
    "start_time": "2022-05-03T18:23:13.406Z"
   },
   {
    "duration": 9,
    "start_time": "2022-05-03T18:25:12.011Z"
   },
   {
    "duration": 6,
    "start_time": "2022-05-03T18:28:01.260Z"
   },
   {
    "duration": 10,
    "start_time": "2022-05-03T18:28:15.735Z"
   },
   {
    "duration": 4,
    "start_time": "2022-05-03T18:29:28.501Z"
   },
   {
    "duration": 6,
    "start_time": "2022-05-03T18:30:12.800Z"
   },
   {
    "duration": 177,
    "start_time": "2022-05-03T18:34:53.616Z"
   },
   {
    "duration": 12,
    "start_time": "2022-05-03T18:35:01.657Z"
   },
   {
    "duration": 151,
    "start_time": "2022-05-03T18:35:07.605Z"
   },
   {
    "duration": 117,
    "start_time": "2022-05-03T18:36:03.309Z"
   },
   {
    "duration": 60,
    "start_time": "2022-05-03T18:37:04.953Z"
   },
   {
    "duration": 848,
    "start_time": "2022-05-03T18:39:00.746Z"
   },
   {
    "duration": 492,
    "start_time": "2022-05-03T18:39:22.701Z"
   },
   {
    "duration": 733,
    "start_time": "2022-05-03T18:42:43.142Z"
   },
   {
    "duration": 202,
    "start_time": "2022-05-03T18:43:24.518Z"
   },
   {
    "duration": 604,
    "start_time": "2022-05-03T18:43:28.593Z"
   },
   {
    "duration": 291,
    "start_time": "2022-05-03T18:44:05.583Z"
   },
   {
    "duration": 505,
    "start_time": "2022-05-03T18:45:09.258Z"
   },
   {
    "duration": 492,
    "start_time": "2022-05-03T18:46:22.618Z"
   },
   {
    "duration": 685,
    "start_time": "2022-05-03T18:46:30.014Z"
   },
   {
    "duration": 472,
    "start_time": "2022-05-03T18:47:22.022Z"
   },
   {
    "duration": 463,
    "start_time": "2022-05-03T18:47:35.873Z"
   },
   {
    "duration": 451,
    "start_time": "2022-05-03T18:48:54.084Z"
   },
   {
    "duration": 73,
    "start_time": "2022-05-03T18:49:48.556Z"
   },
   {
    "duration": 4234,
    "start_time": "2022-05-03T18:52:25.649Z"
   },
   {
    "duration": 617,
    "start_time": "2022-05-03T18:54:29.692Z"
   },
   {
    "duration": 264,
    "start_time": "2022-05-03T18:54:49.513Z"
   },
   {
    "duration": 7,
    "start_time": "2022-05-03T18:56:06.530Z"
   },
   {
    "duration": 462,
    "start_time": "2022-05-03T18:57:55.954Z"
   },
   {
    "duration": 4780,
    "start_time": "2022-05-03T19:01:57.084Z"
   },
   {
    "duration": 319,
    "start_time": "2022-05-03T19:03:34.950Z"
   },
   {
    "duration": 270,
    "start_time": "2022-05-03T19:03:54.101Z"
   },
   {
    "duration": 758,
    "start_time": "2022-05-03T19:04:02.458Z"
   },
   {
    "duration": 8,
    "start_time": "2022-05-03T19:05:54.555Z"
   },
   {
    "duration": 473,
    "start_time": "2022-05-03T19:07:13.068Z"
   },
   {
    "duration": 4390,
    "start_time": "2022-05-03T19:09:31.981Z"
   },
   {
    "duration": 303,
    "start_time": "2022-05-03T19:13:41.269Z"
   },
   {
    "duration": 212,
    "start_time": "2022-05-03T19:14:42.270Z"
   },
   {
    "duration": 183,
    "start_time": "2022-05-03T19:14:50.925Z"
   },
   {
    "duration": 10,
    "start_time": "2022-05-03T19:15:45.741Z"
   },
   {
    "duration": 6,
    "start_time": "2022-05-03T19:16:04.805Z"
   },
   {
    "duration": 934,
    "start_time": "2022-05-03T19:17:27.021Z"
   },
   {
    "duration": 211,
    "start_time": "2022-05-03T19:40:21.358Z"
   },
   {
    "duration": 5,
    "start_time": "2022-05-03T19:51:15.753Z"
   },
   {
    "duration": 6,
    "start_time": "2022-05-03T19:55:44.380Z"
   },
   {
    "duration": 13,
    "start_time": "2022-05-03T20:00:02.605Z"
   },
   {
    "duration": 10,
    "start_time": "2022-05-03T20:00:18.812Z"
   },
   {
    "duration": 4,
    "start_time": "2022-05-03T20:00:24.274Z"
   },
   {
    "duration": 701,
    "start_time": "2022-05-03T20:01:12.767Z"
   },
   {
    "duration": 44,
    "start_time": "2022-05-03T20:01:49.070Z"
   },
   {
    "duration": 774,
    "start_time": "2022-05-03T20:03:24.668Z"
   },
   {
    "duration": 61,
    "start_time": "2022-05-03T20:06:39.200Z"
   },
   {
    "duration": 76,
    "start_time": "2022-05-03T20:06:59.607Z"
   },
   {
    "duration": 62,
    "start_time": "2022-05-03T20:07:25.607Z"
   },
   {
    "duration": 48,
    "start_time": "2022-05-03T20:07:39.084Z"
   },
   {
    "duration": 694,
    "start_time": "2022-05-03T20:07:47.453Z"
   },
   {
    "duration": 936,
    "start_time": "2022-05-03T20:09:26.420Z"
   },
   {
    "duration": 14,
    "start_time": "2022-05-03T20:10:35.444Z"
   },
   {
    "duration": 989,
    "start_time": "2022-05-03T20:10:42.905Z"
   },
   {
    "duration": 1207,
    "start_time": "2022-05-03T20:11:04.862Z"
   },
   {
    "duration": 1342,
    "start_time": "2022-05-03T20:12:29.565Z"
   },
   {
    "duration": 1563,
    "start_time": "2022-05-03T20:13:08.190Z"
   },
   {
    "duration": 6,
    "start_time": "2022-05-03T20:14:58.623Z"
   },
   {
    "duration": 1283,
    "start_time": "2022-05-03T20:16:42.254Z"
   },
   {
    "duration": 971,
    "start_time": "2022-05-03T20:16:58.314Z"
   },
   {
    "duration": 821,
    "start_time": "2022-05-03T20:17:01.813Z"
   },
   {
    "duration": 701,
    "start_time": "2022-05-03T20:17:16.322Z"
   },
   {
    "duration": 672,
    "start_time": "2022-05-03T20:17:45.339Z"
   },
   {
    "duration": 690,
    "start_time": "2022-05-03T20:18:23.002Z"
   },
   {
    "duration": 1000,
    "start_time": "2022-05-03T20:18:36.688Z"
   },
   {
    "duration": 983,
    "start_time": "2022-05-03T20:19:28.927Z"
   },
   {
    "duration": 9,
    "start_time": "2022-05-03T20:19:50.077Z"
   },
   {
    "duration": 8,
    "start_time": "2022-05-03T20:20:50.177Z"
   },
   {
    "duration": 22,
    "start_time": "2022-05-03T20:21:16.689Z"
   },
   {
    "duration": 18,
    "start_time": "2022-05-03T20:22:14.791Z"
   },
   {
    "duration": 9,
    "start_time": "2022-05-03T20:22:38.317Z"
   },
   {
    "duration": 1959,
    "start_time": "2022-05-03T20:22:45.008Z"
   },
   {
    "duration": 10,
    "start_time": "2022-05-03T20:27:13.121Z"
   },
   {
    "duration": 3,
    "start_time": "2022-05-03T20:27:25.627Z"
   },
   {
    "duration": 325,
    "start_time": "2022-05-03T20:27:25.632Z"
   },
   {
    "duration": 12,
    "start_time": "2022-05-03T20:27:25.959Z"
   },
   {
    "duration": 33,
    "start_time": "2022-05-03T20:27:25.973Z"
   },
   {
    "duration": 18,
    "start_time": "2022-05-03T20:27:26.010Z"
   },
   {
    "duration": 25,
    "start_time": "2022-05-03T20:27:26.031Z"
   },
   {
    "duration": 22,
    "start_time": "2022-05-03T20:27:26.058Z"
   },
   {
    "duration": 45,
    "start_time": "2022-05-03T20:27:26.082Z"
   },
   {
    "duration": 31,
    "start_time": "2022-05-03T20:27:26.129Z"
   },
   {
    "duration": 33,
    "start_time": "2022-05-03T20:27:26.162Z"
   },
   {
    "duration": 10,
    "start_time": "2022-05-03T20:27:26.198Z"
   },
   {
    "duration": 48,
    "start_time": "2022-05-03T20:27:26.210Z"
   },
   {
    "duration": 7,
    "start_time": "2022-05-03T20:27:26.260Z"
   },
   {
    "duration": 44,
    "start_time": "2022-05-03T20:27:26.268Z"
   },
   {
    "duration": 23,
    "start_time": "2022-05-03T20:27:26.314Z"
   },
   {
    "duration": 8,
    "start_time": "2022-05-03T20:27:26.338Z"
   },
   {
    "duration": 72,
    "start_time": "2022-05-03T20:27:26.347Z"
   },
   {
    "duration": 19,
    "start_time": "2022-05-03T20:27:26.420Z"
   },
   {
    "duration": 0,
    "start_time": "2022-05-03T20:27:26.441Z"
   },
   {
    "duration": 0,
    "start_time": "2022-05-03T20:27:26.443Z"
   },
   {
    "duration": 0,
    "start_time": "2022-05-03T20:27:26.444Z"
   },
   {
    "duration": 0,
    "start_time": "2022-05-03T20:27:26.445Z"
   },
   {
    "duration": 0,
    "start_time": "2022-05-03T20:27:26.446Z"
   },
   {
    "duration": 0,
    "start_time": "2022-05-03T20:27:26.447Z"
   },
   {
    "duration": 0,
    "start_time": "2022-05-03T20:27:26.448Z"
   },
   {
    "duration": 0,
    "start_time": "2022-05-03T20:27:26.449Z"
   },
   {
    "duration": 0,
    "start_time": "2022-05-03T20:27:26.450Z"
   },
   {
    "duration": 0,
    "start_time": "2022-05-03T20:27:26.451Z"
   },
   {
    "duration": 0,
    "start_time": "2022-05-03T20:27:26.452Z"
   },
   {
    "duration": 0,
    "start_time": "2022-05-03T20:27:26.453Z"
   },
   {
    "duration": 0,
    "start_time": "2022-05-03T20:27:26.454Z"
   },
   {
    "duration": 0,
    "start_time": "2022-05-03T20:27:26.455Z"
   },
   {
    "duration": 0,
    "start_time": "2022-05-03T20:27:26.457Z"
   },
   {
    "duration": 0,
    "start_time": "2022-05-03T20:27:26.458Z"
   },
   {
    "duration": 0,
    "start_time": "2022-05-03T20:27:26.459Z"
   },
   {
    "duration": 0,
    "start_time": "2022-05-03T20:27:26.459Z"
   },
   {
    "duration": 0,
    "start_time": "2022-05-03T20:27:26.461Z"
   },
   {
    "duration": 0,
    "start_time": "2022-05-03T20:27:26.462Z"
   },
   {
    "duration": 0,
    "start_time": "2022-05-03T20:27:26.463Z"
   },
   {
    "duration": 0,
    "start_time": "2022-05-03T20:27:26.464Z"
   },
   {
    "duration": 0,
    "start_time": "2022-05-03T20:27:26.465Z"
   },
   {
    "duration": 0,
    "start_time": "2022-05-03T20:27:26.466Z"
   },
   {
    "duration": 0,
    "start_time": "2022-05-03T20:27:26.467Z"
   },
   {
    "duration": 0,
    "start_time": "2022-05-03T20:27:26.468Z"
   },
   {
    "duration": 0,
    "start_time": "2022-05-03T20:27:26.469Z"
   },
   {
    "duration": 11,
    "start_time": "2022-05-03T20:27:51.258Z"
   },
   {
    "duration": 10,
    "start_time": "2022-05-03T20:28:13.703Z"
   },
   {
    "duration": 3,
    "start_time": "2022-05-03T20:28:28.733Z"
   },
   {
    "duration": 308,
    "start_time": "2022-05-03T20:28:28.738Z"
   },
   {
    "duration": 11,
    "start_time": "2022-05-03T20:28:29.049Z"
   },
   {
    "duration": 17,
    "start_time": "2022-05-03T20:28:29.062Z"
   },
   {
    "duration": 15,
    "start_time": "2022-05-03T20:28:29.081Z"
   },
   {
    "duration": 15,
    "start_time": "2022-05-03T20:28:29.098Z"
   },
   {
    "duration": 20,
    "start_time": "2022-05-03T20:28:29.115Z"
   },
   {
    "duration": 15,
    "start_time": "2022-05-03T20:28:29.136Z"
   },
   {
    "duration": 18,
    "start_time": "2022-05-03T20:28:29.153Z"
   },
   {
    "duration": 22,
    "start_time": "2022-05-03T20:28:29.173Z"
   },
   {
    "duration": 9,
    "start_time": "2022-05-03T20:28:29.199Z"
   },
   {
    "duration": 35,
    "start_time": "2022-05-03T20:28:29.234Z"
   },
   {
    "duration": 7,
    "start_time": "2022-05-03T20:28:29.271Z"
   },
   {
    "duration": 55,
    "start_time": "2022-05-03T20:28:29.279Z"
   },
   {
    "duration": 17,
    "start_time": "2022-05-03T20:28:29.336Z"
   },
   {
    "duration": 8,
    "start_time": "2022-05-03T20:28:29.354Z"
   },
   {
    "duration": 75,
    "start_time": "2022-05-03T20:28:29.363Z"
   },
   {
    "duration": 13,
    "start_time": "2022-05-03T20:28:29.440Z"
   },
   {
    "duration": 0,
    "start_time": "2022-05-03T20:28:29.455Z"
   },
   {
    "duration": 0,
    "start_time": "2022-05-03T20:28:29.456Z"
   },
   {
    "duration": 0,
    "start_time": "2022-05-03T20:28:29.457Z"
   },
   {
    "duration": 0,
    "start_time": "2022-05-03T20:28:29.459Z"
   },
   {
    "duration": 0,
    "start_time": "2022-05-03T20:28:29.460Z"
   },
   {
    "duration": 0,
    "start_time": "2022-05-03T20:28:29.462Z"
   },
   {
    "duration": 0,
    "start_time": "2022-05-03T20:28:29.463Z"
   },
   {
    "duration": 0,
    "start_time": "2022-05-03T20:28:29.465Z"
   },
   {
    "duration": 0,
    "start_time": "2022-05-03T20:28:29.466Z"
   },
   {
    "duration": 0,
    "start_time": "2022-05-03T20:28:29.467Z"
   },
   {
    "duration": 0,
    "start_time": "2022-05-03T20:28:29.468Z"
   },
   {
    "duration": 0,
    "start_time": "2022-05-03T20:28:29.470Z"
   },
   {
    "duration": 0,
    "start_time": "2022-05-03T20:28:29.471Z"
   },
   {
    "duration": 0,
    "start_time": "2022-05-03T20:28:29.474Z"
   },
   {
    "duration": 0,
    "start_time": "2022-05-03T20:28:29.475Z"
   },
   {
    "duration": 0,
    "start_time": "2022-05-03T20:28:29.478Z"
   },
   {
    "duration": 0,
    "start_time": "2022-05-03T20:28:29.533Z"
   },
   {
    "duration": 0,
    "start_time": "2022-05-03T20:28:29.535Z"
   },
   {
    "duration": 0,
    "start_time": "2022-05-03T20:28:29.536Z"
   },
   {
    "duration": 0,
    "start_time": "2022-05-03T20:28:29.538Z"
   },
   {
    "duration": 0,
    "start_time": "2022-05-03T20:28:29.539Z"
   },
   {
    "duration": 0,
    "start_time": "2022-05-03T20:28:29.541Z"
   },
   {
    "duration": 0,
    "start_time": "2022-05-03T20:28:29.542Z"
   },
   {
    "duration": 0,
    "start_time": "2022-05-03T20:28:29.544Z"
   },
   {
    "duration": 1,
    "start_time": "2022-05-03T20:28:29.545Z"
   },
   {
    "duration": 0,
    "start_time": "2022-05-03T20:28:29.547Z"
   },
   {
    "duration": 0,
    "start_time": "2022-05-03T20:28:29.548Z"
   },
   {
    "duration": 10,
    "start_time": "2022-05-03T20:28:41.625Z"
   },
   {
    "duration": 3,
    "start_time": "2022-05-03T20:29:39.803Z"
   },
   {
    "duration": 290,
    "start_time": "2022-05-03T20:29:39.807Z"
   },
   {
    "duration": 11,
    "start_time": "2022-05-03T20:29:40.099Z"
   },
   {
    "duration": 12,
    "start_time": "2022-05-03T20:29:40.111Z"
   },
   {
    "duration": 15,
    "start_time": "2022-05-03T20:29:40.125Z"
   },
   {
    "duration": 11,
    "start_time": "2022-05-03T20:29:40.141Z"
   },
   {
    "duration": 12,
    "start_time": "2022-05-03T20:29:40.154Z"
   },
   {
    "duration": 13,
    "start_time": "2022-05-03T20:29:40.167Z"
   },
   {
    "duration": 17,
    "start_time": "2022-05-03T20:29:40.181Z"
   },
   {
    "duration": 46,
    "start_time": "2022-05-03T20:29:40.200Z"
   },
   {
    "duration": 8,
    "start_time": "2022-05-03T20:29:40.249Z"
   },
   {
    "duration": 37,
    "start_time": "2022-05-03T20:29:40.258Z"
   },
   {
    "duration": 6,
    "start_time": "2022-05-03T20:29:40.297Z"
   },
   {
    "duration": 54,
    "start_time": "2022-05-03T20:29:40.305Z"
   },
   {
    "duration": 15,
    "start_time": "2022-05-03T20:29:40.361Z"
   },
   {
    "duration": 6,
    "start_time": "2022-05-03T20:29:40.378Z"
   },
   {
    "duration": 72,
    "start_time": "2022-05-03T20:29:40.386Z"
   },
   {
    "duration": 11,
    "start_time": "2022-05-03T20:29:40.460Z"
   },
   {
    "duration": 0,
    "start_time": "2022-05-03T20:29:40.473Z"
   },
   {
    "duration": 0,
    "start_time": "2022-05-03T20:29:40.474Z"
   },
   {
    "duration": 0,
    "start_time": "2022-05-03T20:29:40.476Z"
   },
   {
    "duration": 0,
    "start_time": "2022-05-03T20:29:40.477Z"
   },
   {
    "duration": 0,
    "start_time": "2022-05-03T20:29:40.478Z"
   },
   {
    "duration": 0,
    "start_time": "2022-05-03T20:29:40.478Z"
   },
   {
    "duration": 0,
    "start_time": "2022-05-03T20:29:40.479Z"
   },
   {
    "duration": 0,
    "start_time": "2022-05-03T20:29:40.481Z"
   },
   {
    "duration": 0,
    "start_time": "2022-05-03T20:29:40.482Z"
   },
   {
    "duration": 0,
    "start_time": "2022-05-03T20:29:40.483Z"
   },
   {
    "duration": 0,
    "start_time": "2022-05-03T20:29:40.484Z"
   },
   {
    "duration": 0,
    "start_time": "2022-05-03T20:29:40.485Z"
   },
   {
    "duration": 0,
    "start_time": "2022-05-03T20:29:40.486Z"
   },
   {
    "duration": 0,
    "start_time": "2022-05-03T20:29:40.487Z"
   },
   {
    "duration": 0,
    "start_time": "2022-05-03T20:29:40.488Z"
   },
   {
    "duration": 0,
    "start_time": "2022-05-03T20:29:40.489Z"
   },
   {
    "duration": 0,
    "start_time": "2022-05-03T20:29:40.490Z"
   },
   {
    "duration": 0,
    "start_time": "2022-05-03T20:29:40.491Z"
   },
   {
    "duration": 0,
    "start_time": "2022-05-03T20:29:40.492Z"
   },
   {
    "duration": 0,
    "start_time": "2022-05-03T20:29:40.493Z"
   },
   {
    "duration": 0,
    "start_time": "2022-05-03T20:29:40.494Z"
   },
   {
    "duration": 0,
    "start_time": "2022-05-03T20:29:40.533Z"
   },
   {
    "duration": 0,
    "start_time": "2022-05-03T20:29:40.534Z"
   },
   {
    "duration": 0,
    "start_time": "2022-05-03T20:29:40.535Z"
   },
   {
    "duration": 0,
    "start_time": "2022-05-03T20:29:40.537Z"
   },
   {
    "duration": 0,
    "start_time": "2022-05-03T20:29:40.538Z"
   },
   {
    "duration": 0,
    "start_time": "2022-05-03T20:29:40.539Z"
   },
   {
    "duration": 52,
    "start_time": "2022-05-03T20:30:18.929Z"
   },
   {
    "duration": 18,
    "start_time": "2022-05-03T20:30:21.858Z"
   },
   {
    "duration": 34,
    "start_time": "2022-05-03T20:30:33.962Z"
   },
   {
    "duration": 13,
    "start_time": "2022-05-03T20:30:37.607Z"
   },
   {
    "duration": 12,
    "start_time": "2022-05-03T20:30:48.715Z"
   },
   {
    "duration": 3,
    "start_time": "2022-05-03T20:30:57.116Z"
   },
   {
    "duration": 301,
    "start_time": "2022-05-03T20:30:57.121Z"
   },
   {
    "duration": 10,
    "start_time": "2022-05-03T20:30:57.424Z"
   },
   {
    "duration": 13,
    "start_time": "2022-05-03T20:30:57.436Z"
   },
   {
    "duration": 14,
    "start_time": "2022-05-03T20:30:57.452Z"
   },
   {
    "duration": 13,
    "start_time": "2022-05-03T20:30:57.468Z"
   },
   {
    "duration": 13,
    "start_time": "2022-05-03T20:30:57.483Z"
   },
   {
    "duration": 15,
    "start_time": "2022-05-03T20:30:57.497Z"
   },
   {
    "duration": 15,
    "start_time": "2022-05-03T20:30:57.534Z"
   },
   {
    "duration": 30,
    "start_time": "2022-05-03T20:30:57.550Z"
   },
   {
    "duration": 8,
    "start_time": "2022-05-03T20:30:57.583Z"
   },
   {
    "duration": 56,
    "start_time": "2022-05-03T20:30:57.593Z"
   },
   {
    "duration": 6,
    "start_time": "2022-05-03T20:30:57.651Z"
   },
   {
    "duration": 32,
    "start_time": "2022-05-03T20:30:57.658Z"
   },
   {
    "duration": 15,
    "start_time": "2022-05-03T20:30:57.692Z"
   },
   {
    "duration": 8,
    "start_time": "2022-05-03T20:30:57.734Z"
   },
   {
    "duration": 51,
    "start_time": "2022-05-03T20:30:57.743Z"
   },
   {
    "duration": 12,
    "start_time": "2022-05-03T20:30:57.796Z"
   },
   {
    "duration": 27,
    "start_time": "2022-05-03T20:30:57.809Z"
   },
   {
    "duration": 8,
    "start_time": "2022-05-03T20:30:57.838Z"
   },
   {
    "duration": 30,
    "start_time": "2022-05-03T20:30:57.848Z"
   },
   {
    "duration": 25,
    "start_time": "2022-05-03T20:30:57.879Z"
   },
   {
    "duration": 39,
    "start_time": "2022-05-03T20:30:57.906Z"
   },
   {
    "duration": 47,
    "start_time": "2022-05-03T20:30:57.947Z"
   },
   {
    "duration": 2,
    "start_time": "2022-05-03T20:30:57.996Z"
   },
   {
    "duration": 102,
    "start_time": "2022-05-03T20:30:58.000Z"
   },
   {
    "duration": 4438,
    "start_time": "2022-05-03T20:30:58.104Z"
   },
   {
    "duration": 300,
    "start_time": "2022-05-03T20:31:02.544Z"
   },
   {
    "duration": 7,
    "start_time": "2022-05-03T20:31:02.847Z"
   },
   {
    "duration": 922,
    "start_time": "2022-05-03T20:31:02.856Z"
   },
   {
    "duration": 4330,
    "start_time": "2022-05-03T20:31:03.780Z"
   },
   {
    "duration": 280,
    "start_time": "2022-05-03T20:31:08.112Z"
   },
   {
    "duration": 7,
    "start_time": "2022-05-03T20:31:08.393Z"
   },
   {
    "duration": 481,
    "start_time": "2022-05-03T20:31:08.402Z"
   },
   {
    "duration": 4666,
    "start_time": "2022-05-03T20:31:08.885Z"
   },
   {
    "duration": 303,
    "start_time": "2022-05-03T20:31:13.552Z"
   },
   {
    "duration": 8,
    "start_time": "2022-05-03T20:31:13.857Z"
   },
   {
    "duration": 491,
    "start_time": "2022-05-03T20:31:13.866Z"
   },
   {
    "duration": 4730,
    "start_time": "2022-05-03T20:31:14.359Z"
   },
   {
    "duration": 205,
    "start_time": "2022-05-03T20:31:19.091Z"
   },
   {
    "duration": 5,
    "start_time": "2022-05-03T20:31:19.298Z"
   },
   {
    "duration": 513,
    "start_time": "2022-05-03T20:31:19.305Z"
   },
   {
    "duration": 5,
    "start_time": "2022-05-03T20:31:19.820Z"
   },
   {
    "duration": 22,
    "start_time": "2022-05-03T20:31:19.833Z"
   },
   {
    "duration": 4,
    "start_time": "2022-05-03T20:31:19.857Z"
   },
   {
    "duration": 21,
    "start_time": "2022-05-03T20:32:25.773Z"
   },
   {
    "duration": 13,
    "start_time": "2022-05-03T20:35:43.373Z"
   },
   {
    "duration": 17,
    "start_time": "2022-05-03T20:35:59.122Z"
   },
   {
    "duration": 5,
    "start_time": "2022-05-03T20:36:50.865Z"
   },
   {
    "duration": 8,
    "start_time": "2022-05-03T20:37:40.456Z"
   },
   {
    "duration": 14,
    "start_time": "2022-05-03T20:39:49.675Z"
   },
   {
    "duration": 23,
    "start_time": "2022-05-03T20:40:14.351Z"
   },
   {
    "duration": 19,
    "start_time": "2022-05-03T20:40:48.074Z"
   },
   {
    "duration": 35,
    "start_time": "2022-05-03T20:40:54.608Z"
   },
   {
    "duration": 12,
    "start_time": "2022-05-03T20:42:23.772Z"
   },
   {
    "duration": 10,
    "start_time": "2022-05-03T20:43:11.819Z"
   },
   {
    "duration": 4,
    "start_time": "2022-05-03T20:43:19.254Z"
   },
   {
    "duration": 307,
    "start_time": "2022-05-03T20:43:19.263Z"
   },
   {
    "duration": 11,
    "start_time": "2022-05-03T20:43:19.572Z"
   },
   {
    "duration": 30,
    "start_time": "2022-05-03T20:43:19.584Z"
   },
   {
    "duration": 24,
    "start_time": "2022-05-03T20:43:19.617Z"
   },
   {
    "duration": 20,
    "start_time": "2022-05-03T20:43:19.642Z"
   },
   {
    "duration": 10,
    "start_time": "2022-05-03T20:43:19.664Z"
   },
   {
    "duration": 16,
    "start_time": "2022-05-03T20:43:19.675Z"
   },
   {
    "duration": 18,
    "start_time": "2022-05-03T20:43:19.693Z"
   },
   {
    "duration": 34,
    "start_time": "2022-05-03T20:43:19.713Z"
   },
   {
    "duration": 8,
    "start_time": "2022-05-03T20:43:19.750Z"
   },
   {
    "duration": 43,
    "start_time": "2022-05-03T20:43:19.760Z"
   },
   {
    "duration": 6,
    "start_time": "2022-05-03T20:43:19.805Z"
   },
   {
    "duration": 32,
    "start_time": "2022-05-03T20:43:19.834Z"
   },
   {
    "duration": 17,
    "start_time": "2022-05-03T20:43:19.868Z"
   },
   {
    "duration": 8,
    "start_time": "2022-05-03T20:43:19.886Z"
   },
   {
    "duration": 60,
    "start_time": "2022-05-03T20:43:19.896Z"
   },
   {
    "duration": 13,
    "start_time": "2022-05-03T20:43:19.958Z"
   },
   {
    "duration": 18,
    "start_time": "2022-05-03T20:43:19.972Z"
   },
   {
    "duration": 8,
    "start_time": "2022-05-03T20:43:19.992Z"
   },
   {
    "duration": 60,
    "start_time": "2022-05-03T20:43:20.001Z"
   },
   {
    "duration": 27,
    "start_time": "2022-05-03T20:43:20.063Z"
   },
   {
    "duration": 19,
    "start_time": "2022-05-03T20:43:20.091Z"
   },
   {
    "duration": 65,
    "start_time": "2022-05-03T20:43:20.112Z"
   },
   {
    "duration": 3,
    "start_time": "2022-05-03T20:43:20.179Z"
   },
   {
    "duration": 96,
    "start_time": "2022-05-03T20:43:20.184Z"
   },
   {
    "duration": 4818,
    "start_time": "2022-05-03T20:43:20.281Z"
   },
   {
    "duration": 278,
    "start_time": "2022-05-03T20:43:25.101Z"
   },
   {
    "duration": 6,
    "start_time": "2022-05-03T20:43:25.383Z"
   },
   {
    "duration": 479,
    "start_time": "2022-05-03T20:43:25.391Z"
   },
   {
    "duration": 4655,
    "start_time": "2022-05-03T20:43:25.871Z"
   },
   {
    "duration": 317,
    "start_time": "2022-05-03T20:43:30.527Z"
   },
   {
    "duration": 6,
    "start_time": "2022-05-03T20:43:30.846Z"
   },
   {
    "duration": 949,
    "start_time": "2022-05-03T20:43:30.854Z"
   },
   {
    "duration": 4549,
    "start_time": "2022-05-03T20:43:31.804Z"
   },
   {
    "duration": 311,
    "start_time": "2022-05-03T20:43:36.355Z"
   },
   {
    "duration": 8,
    "start_time": "2022-05-03T20:43:36.667Z"
   },
   {
    "duration": 526,
    "start_time": "2022-05-03T20:43:36.677Z"
   },
   {
    "duration": 4925,
    "start_time": "2022-05-03T20:43:37.205Z"
   },
   {
    "duration": 219,
    "start_time": "2022-05-03T20:43:42.133Z"
   },
   {
    "duration": 9,
    "start_time": "2022-05-03T20:43:42.353Z"
   },
   {
    "duration": 491,
    "start_time": "2022-05-03T20:43:42.363Z"
   },
   {
    "duration": 6,
    "start_time": "2022-05-03T20:43:42.856Z"
   },
   {
    "duration": 24,
    "start_time": "2022-05-03T20:43:42.864Z"
   },
   {
    "duration": 14,
    "start_time": "2022-05-03T20:43:42.890Z"
   },
   {
    "duration": 28,
    "start_time": "2022-05-03T20:43:42.906Z"
   },
   {
    "duration": 12,
    "start_time": "2022-05-03T20:44:21.371Z"
   },
   {
    "duration": 19,
    "start_time": "2022-05-03T20:44:39.604Z"
   },
   {
    "duration": 27,
    "start_time": "2022-05-03T20:44:59.027Z"
   },
   {
    "duration": 5,
    "start_time": "2022-05-03T20:45:32.987Z"
   },
   {
    "duration": 4,
    "start_time": "2022-05-03T20:45:44.594Z"
   },
   {
    "duration": 5,
    "start_time": "2022-05-03T20:45:50.493Z"
   },
   {
    "duration": 5,
    "start_time": "2022-05-03T20:46:02.095Z"
   },
   {
    "duration": 15,
    "start_time": "2022-05-03T20:46:41.072Z"
   },
   {
    "duration": 18,
    "start_time": "2022-05-03T20:46:51.476Z"
   },
   {
    "duration": 12,
    "start_time": "2022-05-03T20:47:19.855Z"
   },
   {
    "duration": 12,
    "start_time": "2022-05-03T20:47:26.067Z"
   },
   {
    "duration": 1447,
    "start_time": "2022-05-04T12:00:56.238Z"
   },
   {
    "duration": 300,
    "start_time": "2022-05-04T12:00:57.689Z"
   },
   {
    "duration": 16,
    "start_time": "2022-05-04T12:00:57.991Z"
   },
   {
    "duration": 33,
    "start_time": "2022-05-04T12:00:58.010Z"
   },
   {
    "duration": 20,
    "start_time": "2022-05-04T12:00:58.045Z"
   },
   {
    "duration": 15,
    "start_time": "2022-05-04T12:00:58.067Z"
   },
   {
    "duration": 32,
    "start_time": "2022-05-04T12:00:58.084Z"
   },
   {
    "duration": 32,
    "start_time": "2022-05-04T12:00:58.118Z"
   },
   {
    "duration": 22,
    "start_time": "2022-05-04T12:00:58.151Z"
   },
   {
    "duration": 24,
    "start_time": "2022-05-04T12:00:58.175Z"
   },
   {
    "duration": 24,
    "start_time": "2022-05-04T12:00:58.202Z"
   },
   {
    "duration": 69,
    "start_time": "2022-05-04T12:00:58.229Z"
   },
   {
    "duration": 8,
    "start_time": "2022-05-04T12:00:58.300Z"
   },
   {
    "duration": 49,
    "start_time": "2022-05-04T12:00:58.310Z"
   },
   {
    "duration": 17,
    "start_time": "2022-05-04T12:00:58.360Z"
   },
   {
    "duration": 11,
    "start_time": "2022-05-04T12:00:58.397Z"
   },
   {
    "duration": 45,
    "start_time": "2022-05-04T12:00:58.410Z"
   },
   {
    "duration": 15,
    "start_time": "2022-05-04T12:00:58.457Z"
   },
   {
    "duration": 37,
    "start_time": "2022-05-04T12:00:58.474Z"
   },
   {
    "duration": 8,
    "start_time": "2022-05-04T12:00:58.513Z"
   },
   {
    "duration": 36,
    "start_time": "2022-05-04T12:00:58.523Z"
   },
   {
    "duration": 64,
    "start_time": "2022-05-04T12:00:58.561Z"
   },
   {
    "duration": 18,
    "start_time": "2022-05-04T12:00:58.627Z"
   },
   {
    "duration": 59,
    "start_time": "2022-05-04T12:00:58.646Z"
   },
   {
    "duration": 3,
    "start_time": "2022-05-04T12:00:58.707Z"
   },
   {
    "duration": 101,
    "start_time": "2022-05-04T12:00:58.711Z"
   },
   {
    "duration": 4809,
    "start_time": "2022-05-04T12:00:58.814Z"
   },
   {
    "duration": 289,
    "start_time": "2022-05-04T12:01:03.626Z"
   },
   {
    "duration": 7,
    "start_time": "2022-05-04T12:01:03.917Z"
   },
   {
    "duration": 768,
    "start_time": "2022-05-04T12:01:03.927Z"
   },
   {
    "duration": 6961,
    "start_time": "2022-05-04T12:01:04.697Z"
   },
   {
    "duration": 300,
    "start_time": "2022-05-04T12:01:11.660Z"
   },
   {
    "duration": 8,
    "start_time": "2022-05-04T12:01:11.962Z"
   },
   {
    "duration": 521,
    "start_time": "2022-05-04T12:01:11.971Z"
   },
   {
    "duration": 4790,
    "start_time": "2022-05-04T12:01:12.494Z"
   },
   {
    "duration": 294,
    "start_time": "2022-05-04T12:01:17.285Z"
   },
   {
    "duration": 12,
    "start_time": "2022-05-04T12:01:17.581Z"
   },
   {
    "duration": 481,
    "start_time": "2022-05-04T12:01:17.597Z"
   },
   {
    "duration": 4675,
    "start_time": "2022-05-04T12:01:18.080Z"
   },
   {
    "duration": 219,
    "start_time": "2022-05-04T12:01:22.757Z"
   },
   {
    "duration": 16,
    "start_time": "2022-05-04T12:01:22.978Z"
   },
   {
    "duration": 488,
    "start_time": "2022-05-04T12:01:22.998Z"
   },
   {
    "duration": 7,
    "start_time": "2022-05-04T12:01:23.492Z"
   },
   {
    "duration": 50,
    "start_time": "2022-05-04T12:01:23.501Z"
   },
   {
    "duration": 16,
    "start_time": "2022-05-04T12:01:23.554Z"
   },
   {
    "duration": 1177,
    "start_time": "2022-05-04T12:02:09.330Z"
   },
   {
    "duration": 293,
    "start_time": "2022-05-04T12:02:10.510Z"
   },
   {
    "duration": 14,
    "start_time": "2022-05-04T12:02:10.805Z"
   },
   {
    "duration": 14,
    "start_time": "2022-05-04T12:02:10.822Z"
   },
   {
    "duration": 19,
    "start_time": "2022-05-04T12:02:10.839Z"
   },
   {
    "duration": 36,
    "start_time": "2022-05-04T12:02:10.860Z"
   },
   {
    "duration": 26,
    "start_time": "2022-05-04T12:02:10.898Z"
   },
   {
    "duration": 14,
    "start_time": "2022-05-04T12:02:10.926Z"
   },
   {
    "duration": 14,
    "start_time": "2022-05-04T12:02:10.942Z"
   },
   {
    "duration": 35,
    "start_time": "2022-05-04T12:02:10.959Z"
   },
   {
    "duration": 14,
    "start_time": "2022-05-04T12:02:10.998Z"
   },
   {
    "duration": 42,
    "start_time": "2022-05-04T12:02:11.014Z"
   },
   {
    "duration": 9,
    "start_time": "2022-05-04T12:02:11.058Z"
   },
   {
    "duration": 59,
    "start_time": "2022-05-04T12:02:11.069Z"
   },
   {
    "duration": 19,
    "start_time": "2022-05-04T12:02:11.130Z"
   },
   {
    "duration": 9,
    "start_time": "2022-05-04T12:02:11.151Z"
   },
   {
    "duration": 74,
    "start_time": "2022-05-04T12:02:11.161Z"
   },
   {
    "duration": 16,
    "start_time": "2022-05-04T12:02:11.237Z"
   },
   {
    "duration": 46,
    "start_time": "2022-05-04T12:02:11.255Z"
   },
   {
    "duration": 12,
    "start_time": "2022-05-04T12:02:11.302Z"
   },
   {
    "duration": 33,
    "start_time": "2022-05-04T12:02:11.316Z"
   },
   {
    "duration": 59,
    "start_time": "2022-05-04T12:02:11.351Z"
   },
   {
    "duration": 19,
    "start_time": "2022-05-04T12:02:11.413Z"
   },
   {
    "duration": 61,
    "start_time": "2022-05-04T12:02:11.434Z"
   },
   {
    "duration": 3,
    "start_time": "2022-05-04T12:02:11.497Z"
   },
   {
    "duration": 92,
    "start_time": "2022-05-04T12:02:11.502Z"
   },
   {
    "duration": 4938,
    "start_time": "2022-05-04T12:02:11.596Z"
   },
   {
    "duration": 671,
    "start_time": "2022-05-04T12:02:16.538Z"
   },
   {
    "duration": 9,
    "start_time": "2022-05-04T12:02:17.210Z"
   },
   {
    "duration": 1430,
    "start_time": "2022-05-04T12:02:17.222Z"
   },
   {
    "duration": 4627,
    "start_time": "2022-05-04T12:02:18.654Z"
   },
   {
    "duration": 277,
    "start_time": "2022-05-04T12:02:23.283Z"
   },
   {
    "duration": 7,
    "start_time": "2022-05-04T12:02:23.561Z"
   },
   {
    "duration": 490,
    "start_time": "2022-05-04T12:02:23.569Z"
   },
   {
    "duration": 5459,
    "start_time": "2022-05-04T12:02:24.061Z"
   },
   {
    "duration": 445,
    "start_time": "2022-05-04T12:02:29.529Z"
   },
   {
    "duration": 7,
    "start_time": "2022-05-04T12:02:29.975Z"
   },
   {
    "duration": 650,
    "start_time": "2022-05-04T12:02:29.993Z"
   },
   {
    "duration": 4708,
    "start_time": "2022-05-04T12:02:30.645Z"
   },
   {
    "duration": 211,
    "start_time": "2022-05-04T12:02:35.355Z"
   },
   {
    "duration": 6,
    "start_time": "2022-05-04T12:02:35.569Z"
   },
   {
    "duration": 486,
    "start_time": "2022-05-04T12:02:35.577Z"
   },
   {
    "duration": 6,
    "start_time": "2022-05-04T12:02:36.065Z"
   },
   {
    "duration": 46,
    "start_time": "2022-05-04T12:02:36.072Z"
   },
   {
    "duration": 20,
    "start_time": "2022-05-04T12:02:36.120Z"
   },
   {
    "duration": 24,
    "start_time": "2022-05-04T12:05:30.313Z"
   },
   {
    "duration": 252,
    "start_time": "2022-05-04T12:06:11.254Z"
   }
  ],
  "kernelspec": {
   "display_name": "Python 3 (ipykernel)",
   "language": "python",
   "name": "python3"
  },
  "language_info": {
   "codemirror_mode": {
    "name": "ipython",
    "version": 3
   },
   "file_extension": ".py",
   "mimetype": "text/x-python",
   "name": "python",
   "nbconvert_exporter": "python",
   "pygments_lexer": "ipython3",
   "version": "3.9.5"
  },
  "toc": {
   "base_numbering": 1,
   "nav_menu": {},
   "number_sections": true,
   "sideBar": true,
   "skip_h1_title": false,
   "title_cell": "Table of Contents",
   "title_sidebar": "Contents",
   "toc_cell": false,
   "toc_position": {
    "height": "calc(100% - 180px)",
    "left": "10px",
    "top": "150px",
    "width": "238.396px"
   },
   "toc_section_display": true,
   "toc_window_display": false
  }
 },
 "nbformat": 4,
 "nbformat_minor": 2
}
