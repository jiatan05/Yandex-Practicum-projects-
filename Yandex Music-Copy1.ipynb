{
 "cells": [
  {
   "cell_type": "markdown",
   "metadata": {
    "id": "E0vqbgi9ay0H"
   },
   "source": [
    "# Yandex.Music"
   ]
  },
  {
   "cell_type": "markdown",
   "metadata": {
    "id": "fhq_eyov_Zcs"
   },
   "source": [
    "# Contents <a id='back'></a>\n",
    "\n",
    "* [Introduction](#intro)\n",
    "* [Stage 1. Data overview](#data_review)\n",
    "    * [Conclusions](#data_review_conclusions)\n",
    "* [Stage 2. Data preprocessing](#data_preprocessing)\n",
    "    * [2.1 Header style](#header_style)\n",
    "    * [2.2 Missing values](#missing_values)\n",
    "    * [2.3 Duplicates](#duplicates)\n",
    "    * [2.4 Conclusions](#data_preprocessing_conclusions)\n",
    "* [Stage 3. Testing the hypotheses](#hypotheses)\n",
    "    * [3.1 Hypothesis 1: user activity in the two cities](#activity)\n",
    "    * [3.2 Hypothesis 2: music preferences on Monday and Friday](#week)\n",
    "    * [3.3 Hypothesis 3: genre preferences in Springfield and Shelbyville](#genre)\n",
    "* [Findings](#end)"
   ]
  },
  {
   "cell_type": "markdown",
   "metadata": {
    "id": "VUC88oWjTJw2"
   },
   "source": [
    "## Introduction <a id='intro'></a>\n",
    "Whenever we're doing research, we need to formulate hypotheses that we can then test. Sometimes we accept these hypotheses; other times, we reject them. To make the right decisions, a business must be able to understand whether or not it's making the right assumptions.\n",
    "\n",
    "In this project, you'll compare the music preferences of the cities of Springfield and Shelbyville. You'll study real Yandex.Music data to test the hypotheses below and compare user behavior for these two cities.\n",
    "\n",
    "### Goal: \n",
    "Test three hypotheses:\n",
    "1. User activity differs depending on the day of the week and from city to city. \n",
    "2. On Monday mornings, Springfield and Shelbyville residents listen to different genres. This is also true for Friday evenings. \n",
    "3. Springfield and Shelbyville listeners have different preferences. In Springfield, they prefer pop, while Shelbyville has more rap fans.\n",
    "\n",
    "### Stages \n",
    "Data on user behavior is stored in the file `/datasets/music_project_en.csv`. There is no information about the quality of the data, so you will need to explore it before testing the hypotheses. \n",
    "\n",
    "First, you'll evaluate the quality of the data and see whether its issues are significant. Then, during data preprocessing, you will try to account for the most critical problems.\n",
    " \n",
    "Your project will consist of three stages:\n",
    " 1. Data overview\n",
    " 2. Data preprocessing\n",
    " 3. Testing the hypotheses\n",
    " \n",
    "[Back to Contents](#back)"
   ]
  },
  {
   "cell_type": "markdown",
   "metadata": {
    "id": "Ml1hmfXC_Zcs"
   },
   "source": [
    "## Stage 1. Data overview <a id='data_review'></a>\n",
    "\n",
    "Open the data on Yandex.Music and explore it."
   ]
  },
  {
   "cell_type": "markdown",
   "metadata": {
    "id": "57eAOGIz_Zcs"
   },
   "source": [
    "You'll need `pandas`, so import it."
   ]
  },
  {
   "cell_type": "code",
   "execution_count": 3,
   "metadata": {
    "id": "AXN7PHPN_Zcs"
   },
   "outputs": [],
   "source": [
    "#imported pandas as pd\n",
    "\n",
    "import pandas as pd\n"
   ]
  },
  {
   "cell_type": "markdown",
   "metadata": {
    "id": "SG23P8tt_Zcs"
   },
   "source": [
    "Read the file `music_project_en.csv` from the `/datasets/` folder and save it in the `df` variable:"
   ]
  },
  {
   "cell_type": "code",
   "execution_count": 4,
   "metadata": {
    "id": "fFVu7vqh_Zct"
   },
   "outputs": [
    {
     "data": {
      "text/html": [
       "<div>\n",
       "<style scoped>\n",
       "    .dataframe tbody tr th:only-of-type {\n",
       "        vertical-align: middle;\n",
       "    }\n",
       "\n",
       "    .dataframe tbody tr th {\n",
       "        vertical-align: top;\n",
       "    }\n",
       "\n",
       "    .dataframe thead th {\n",
       "        text-align: right;\n",
       "    }\n",
       "</style>\n",
       "<table border=\"1\" class=\"dataframe\">\n",
       "  <thead>\n",
       "    <tr style=\"text-align: right;\">\n",
       "      <th></th>\n",
       "      <th>userID</th>\n",
       "      <th>Track</th>\n",
       "      <th>artist</th>\n",
       "      <th>genre</th>\n",
       "      <th>City</th>\n",
       "      <th>time</th>\n",
       "      <th>Day</th>\n",
       "    </tr>\n",
       "  </thead>\n",
       "  <tbody>\n",
       "    <tr>\n",
       "      <td>count</td>\n",
       "      <td>65079</td>\n",
       "      <td>63736</td>\n",
       "      <td>57512</td>\n",
       "      <td>63881</td>\n",
       "      <td>65079</td>\n",
       "      <td>65079</td>\n",
       "      <td>65079</td>\n",
       "    </tr>\n",
       "    <tr>\n",
       "      <td>unique</td>\n",
       "      <td>41748</td>\n",
       "      <td>39666</td>\n",
       "      <td>37806</td>\n",
       "      <td>268</td>\n",
       "      <td>2</td>\n",
       "      <td>20392</td>\n",
       "      <td>3</td>\n",
       "    </tr>\n",
       "    <tr>\n",
       "      <td>top</td>\n",
       "      <td>A8AE9169</td>\n",
       "      <td>Brand</td>\n",
       "      <td>Kartvelli</td>\n",
       "      <td>pop</td>\n",
       "      <td>Springfield</td>\n",
       "      <td>21:51:22</td>\n",
       "      <td>Friday</td>\n",
       "    </tr>\n",
       "    <tr>\n",
       "      <td>freq</td>\n",
       "      <td>76</td>\n",
       "      <td>136</td>\n",
       "      <td>136</td>\n",
       "      <td>8850</td>\n",
       "      <td>45360</td>\n",
       "      <td>14</td>\n",
       "      <td>23149</td>\n",
       "    </tr>\n",
       "  </tbody>\n",
       "</table>\n",
       "</div>"
      ],
      "text/plain": [
       "          userID  Track     artist  genre       City        time     Day\n",
       "count      65079  63736      57512  63881        65079     65079   65079\n",
       "unique     41748  39666      37806    268            2     20392       3\n",
       "top     A8AE9169  Brand  Kartvelli    pop  Springfield  21:51:22  Friday\n",
       "freq          76    136        136   8850        45360        14   23149"
      ]
     },
     "execution_count": 4,
     "metadata": {},
     "output_type": "execute_result"
    }
   ],
   "source": [
    "#Read the file from designated foder and saved in df variable\n",
    "\n",
    "df = pd.read_csv('/datasets/music_project_en.csv')\n",
    "\n",
    "#Generate descriptive statistics\n",
    "\n",
    "df.describe()\n"
   ]
  },
  {
   "cell_type": "markdown",
   "metadata": {
    "id": "rDoOMd3uTqnZ"
   },
   "source": [
    "Print the first 10 table rows:"
   ]
  },
  {
   "cell_type": "code",
   "execution_count": 5,
   "metadata": {
    "id": "oWTVX3gW_Zct"
   },
   "outputs": [
    {
     "data": {
      "text/html": [
       "<div>\n",
       "<style scoped>\n",
       "    .dataframe tbody tr th:only-of-type {\n",
       "        vertical-align: middle;\n",
       "    }\n",
       "\n",
       "    .dataframe tbody tr th {\n",
       "        vertical-align: top;\n",
       "    }\n",
       "\n",
       "    .dataframe thead th {\n",
       "        text-align: right;\n",
       "    }\n",
       "</style>\n",
       "<table border=\"1\" class=\"dataframe\">\n",
       "  <thead>\n",
       "    <tr style=\"text-align: right;\">\n",
       "      <th></th>\n",
       "      <th>userID</th>\n",
       "      <th>Track</th>\n",
       "      <th>artist</th>\n",
       "      <th>genre</th>\n",
       "      <th>City</th>\n",
       "      <th>time</th>\n",
       "      <th>Day</th>\n",
       "    </tr>\n",
       "  </thead>\n",
       "  <tbody>\n",
       "    <tr>\n",
       "      <td>0</td>\n",
       "      <td>FFB692EC</td>\n",
       "      <td>Kamigata To Boots</td>\n",
       "      <td>The Mass Missile</td>\n",
       "      <td>rock</td>\n",
       "      <td>Shelbyville</td>\n",
       "      <td>20:28:33</td>\n",
       "      <td>Wednesday</td>\n",
       "    </tr>\n",
       "    <tr>\n",
       "      <td>1</td>\n",
       "      <td>55204538</td>\n",
       "      <td>Delayed Because of Accident</td>\n",
       "      <td>Andreas Rönnberg</td>\n",
       "      <td>rock</td>\n",
       "      <td>Springfield</td>\n",
       "      <td>14:07:09</td>\n",
       "      <td>Friday</td>\n",
       "    </tr>\n",
       "    <tr>\n",
       "      <td>2</td>\n",
       "      <td>20EC38</td>\n",
       "      <td>Funiculì funiculà</td>\n",
       "      <td>Mario Lanza</td>\n",
       "      <td>pop</td>\n",
       "      <td>Shelbyville</td>\n",
       "      <td>20:58:07</td>\n",
       "      <td>Wednesday</td>\n",
       "    </tr>\n",
       "    <tr>\n",
       "      <td>3</td>\n",
       "      <td>A3DD03C9</td>\n",
       "      <td>Dragons in the Sunset</td>\n",
       "      <td>Fire + Ice</td>\n",
       "      <td>folk</td>\n",
       "      <td>Shelbyville</td>\n",
       "      <td>08:37:09</td>\n",
       "      <td>Monday</td>\n",
       "    </tr>\n",
       "    <tr>\n",
       "      <td>4</td>\n",
       "      <td>E2DC1FAE</td>\n",
       "      <td>Soul People</td>\n",
       "      <td>Space Echo</td>\n",
       "      <td>dance</td>\n",
       "      <td>Springfield</td>\n",
       "      <td>08:34:34</td>\n",
       "      <td>Monday</td>\n",
       "    </tr>\n",
       "    <tr>\n",
       "      <td>5</td>\n",
       "      <td>842029A1</td>\n",
       "      <td>Chains</td>\n",
       "      <td>Obladaet</td>\n",
       "      <td>rusrap</td>\n",
       "      <td>Shelbyville</td>\n",
       "      <td>13:09:41</td>\n",
       "      <td>Friday</td>\n",
       "    </tr>\n",
       "    <tr>\n",
       "      <td>6</td>\n",
       "      <td>4CB90AA5</td>\n",
       "      <td>True</td>\n",
       "      <td>Roman Messer</td>\n",
       "      <td>dance</td>\n",
       "      <td>Springfield</td>\n",
       "      <td>13:00:07</td>\n",
       "      <td>Wednesday</td>\n",
       "    </tr>\n",
       "    <tr>\n",
       "      <td>7</td>\n",
       "      <td>F03E1C1F</td>\n",
       "      <td>Feeling This Way</td>\n",
       "      <td>Polina Griffith</td>\n",
       "      <td>dance</td>\n",
       "      <td>Springfield</td>\n",
       "      <td>20:47:49</td>\n",
       "      <td>Wednesday</td>\n",
       "    </tr>\n",
       "    <tr>\n",
       "      <td>8</td>\n",
       "      <td>8FA1D3BE</td>\n",
       "      <td>L’estate</td>\n",
       "      <td>Julia Dalia</td>\n",
       "      <td>ruspop</td>\n",
       "      <td>Springfield</td>\n",
       "      <td>09:17:40</td>\n",
       "      <td>Friday</td>\n",
       "    </tr>\n",
       "    <tr>\n",
       "      <td>9</td>\n",
       "      <td>E772D5C0</td>\n",
       "      <td>Pessimist</td>\n",
       "      <td>NaN</td>\n",
       "      <td>dance</td>\n",
       "      <td>Shelbyville</td>\n",
       "      <td>21:20:49</td>\n",
       "      <td>Wednesday</td>\n",
       "    </tr>\n",
       "  </tbody>\n",
       "</table>\n",
       "</div>"
      ],
      "text/plain": [
       "     userID                        Track            artist   genre  \\\n",
       "0  FFB692EC            Kamigata To Boots  The Mass Missile    rock   \n",
       "1  55204538  Delayed Because of Accident  Andreas Rönnberg    rock   \n",
       "2    20EC38            Funiculì funiculà       Mario Lanza     pop   \n",
       "3  A3DD03C9        Dragons in the Sunset        Fire + Ice    folk   \n",
       "4  E2DC1FAE                  Soul People        Space Echo   dance   \n",
       "5  842029A1                       Chains          Obladaet  rusrap   \n",
       "6  4CB90AA5                         True      Roman Messer   dance   \n",
       "7  F03E1C1F             Feeling This Way   Polina Griffith   dance   \n",
       "8  8FA1D3BE                     L’estate       Julia Dalia  ruspop   \n",
       "9  E772D5C0                    Pessimist               NaN   dance   \n",
       "\n",
       "        City        time        Day  \n",
       "0  Shelbyville  20:28:33  Wednesday  \n",
       "1  Springfield  14:07:09     Friday  \n",
       "2  Shelbyville  20:58:07  Wednesday  \n",
       "3  Shelbyville  08:37:09     Monday  \n",
       "4  Springfield  08:34:34     Monday  \n",
       "5  Shelbyville  13:09:41     Friday  \n",
       "6  Springfield  13:00:07  Wednesday  \n",
       "7  Springfield  20:47:49  Wednesday  \n",
       "8  Springfield  09:17:40     Friday  \n",
       "9  Shelbyville  21:20:49  Wednesday  "
      ]
     },
     "execution_count": 5,
     "metadata": {},
     "output_type": "execute_result"
    }
   ],
   "source": [
    "#Print the first 10 table rows\n",
    "\n",
    "df.head(10)"
   ]
  },
  {
   "cell_type": "markdown",
   "metadata": {
    "id": "EO73Kwic_Zct"
   },
   "source": [
    "Obtaining the general information about the table with one command:"
   ]
  },
  {
   "cell_type": "code",
   "execution_count": 6,
   "metadata": {
    "id": "DSf2kIb-_Zct"
   },
   "outputs": [
    {
     "name": "stdout",
     "output_type": "stream",
     "text": [
      "<class 'pandas.core.frame.DataFrame'>\n",
      "RangeIndex: 65079 entries, 0 to 65078\n",
      "Data columns (total 7 columns):\n",
      "  userID    65079 non-null object\n",
      "Track       63736 non-null object\n",
      "artist      57512 non-null object\n",
      "genre       63881 non-null object\n",
      "  City      65079 non-null object\n",
      "time        65079 non-null object\n",
      "Day         65079 non-null object\n",
      "dtypes: object(7)\n",
      "memory usage: 3.5+ MB\n"
     ]
    }
   ],
   "source": [
    "#General information abou the table\n",
    "\n",
    "df.info()"
   ]
  },
  {
   "cell_type": "markdown",
   "metadata": {
    "id": "TaQ2Iwbr_Zct"
   },
   "source": [
    "The table contains seven columns. They all store the same data type: `object`.\n",
    "\n",
    "According to the documentation:\n",
    "- `'userID'` — user identifier\n",
    "- `'Track'` — track title\n",
    "- `'artist'` — artist's name\n",
    "- `'genre'`\n",
    "- `'City'` — user's city\n",
    "- `'time'` — the exact time the track was played\n",
    "- `'Day'` — day of the week\n",
    "\n",
    "We can see three issues with style in the column names:\n",
    "1. Some names are uppercase, some are lowercase.\n",
    "2. There are spaces in some names.\n",
    "3. The column name'userID' contains two words and did not use snakecase.\n",
    "\n",
    "The number of column values is different. This means the data contains missing values.\n"
   ]
  },
  {
   "cell_type": "markdown",
   "metadata": {
    "id": "MCB6-dXG_Zct"
   },
   "source": [
    "### Conclusions <a id='data_review_conclusions'></a> \n",
    "\n",
    "Each row in the table stores data on a track that was played. Some columns describe the track itself: its title, artist and genre. The rest convey information about the user: the city they come from, the time they played the track. \n",
    "\n",
    "It's clear that the data is sufficient to test the hypotheses. However, there are missing values.\n",
    "\n",
    "To move forward, we need to preprocess the data."
   ]
  },
  {
   "cell_type": "markdown",
   "metadata": {
    "id": "3eL__vcwViOi"
   },
   "source": [
    "[Back to Contents](#back)"
   ]
  },
  {
   "cell_type": "markdown",
   "metadata": {
    "id": "SjYF6Ub9_Zct"
   },
   "source": [
    "## Stage 2. Data preprocessing <a id='data_preprocessing'></a>\n",
    "Correct the formatting in the column headers and deal with the missing values. Then, check whether there are duplicates in the data."
   ]
  },
  {
   "cell_type": "markdown",
   "metadata": {
    "id": "dIaKXr29_Zct"
   },
   "source": [
    "### Header style <a id='header_style'></a>\n",
    "Print the column header:"
   ]
  },
  {
   "cell_type": "code",
   "execution_count": 7,
   "metadata": {
    "id": "oKOTdF_Q_Zct"
   },
   "outputs": [
    {
     "name": "stdout",
     "output_type": "stream",
     "text": [
      "Index(['  userID', 'Track', 'artist', 'genre', '  City  ', 'time', 'Day'], dtype='object')\n"
     ]
    }
   ],
   "source": [
    "#printing the column header\n",
    "\n",
    "print(df.columns)"
   ]
  },
  {
   "cell_type": "markdown",
   "metadata": {
    "id": "zj5534cv_Zct"
   },
   "source": [
    "Change column names according to the rules of good style:\n",
    "* If the name has several words, use snake_case\n",
    "* All characters must be lowercase\n",
    "* Delete spaces"
   ]
  },
  {
   "cell_type": "code",
   "execution_count": 8,
   "metadata": {
    "id": "ISlFqs5y_Zct"
   },
   "outputs": [],
   "source": [
    "#renaming the columns with correct names\n",
    "\n",
    "df = df.rename(\n",
    "    columns = {\n",
    "        '  userID' : 'user_id',\n",
    "        'Track' : 'track',\n",
    "        '  City  ' : 'city',\n",
    "        'Day' : 'day',\n",
    "        \n",
    "    }\n",
    ")"
   ]
  },
  {
   "cell_type": "markdown",
   "metadata": {
    "id": "1dqbh00J_Zct"
   },
   "source": [
    "Check the result. Print the names of the columns once more:"
   ]
  },
  {
   "cell_type": "code",
   "execution_count": 9,
   "metadata": {
    "id": "d4NOAmTW_Zct"
   },
   "outputs": [
    {
     "name": "stdout",
     "output_type": "stream",
     "text": [
      "Index(['user_id', 'track', 'artist', 'genre', 'city', 'time', 'day'], dtype='object')\n"
     ]
    }
   ],
   "source": [
    "#print the updated column names to verify\n",
    "\n",
    "print(df.columns)"
   ]
  },
  {
   "cell_type": "markdown",
   "metadata": {
    "id": "xYJk6ksJVpOl"
   },
   "source": [
    "[Back to Contents](#back)"
   ]
  },
  {
   "cell_type": "markdown",
   "metadata": {
    "id": "5ISfbcfY_Zct"
   },
   "source": [
    "### Missing values <a id='missing_values'></a>\n",
    "First, find the number of missing values in the table. To do so, use two `pandas` methods:"
   ]
  },
  {
   "cell_type": "code",
   "execution_count": 10,
   "metadata": {
    "id": "RskX29qr_Zct"
   },
   "outputs": [
    {
     "name": "stdout",
     "output_type": "stream",
     "text": [
      "user_id       0\n",
      "track      1343\n",
      "artist     7567\n",
      "genre      1198\n",
      "city          0\n",
      "time          0\n",
      "day           0\n",
      "dtype: int64\n"
     ]
    }
   ],
   "source": [
    "#checking for missing values\n",
    "\n",
    "print(df.isna().sum())"
   ]
  },
  {
   "cell_type": "code",
   "execution_count": 11,
   "metadata": {},
   "outputs": [
    {
     "name": "stdout",
     "output_type": "stream",
     "text": [
      "user_id       0\n",
      "track      1343\n",
      "artist     7567\n",
      "genre      1198\n",
      "city          0\n",
      "time          0\n",
      "day           0\n",
      "dtype: int64\n"
     ]
    }
   ],
   "source": [
    "#checking for missing values\n",
    "\n",
    "print(df.isnull().sum())"
   ]
  },
  {
   "cell_type": "markdown",
   "metadata": {
    "id": "qubhgnlO_Zct"
   },
   "source": [
    "Not all missing values affect the research. For instance, the missing values in `track` and `artist` are not critical. You can simply replace them with clear markers.\n",
    "\n",
    "But missing values in `'genre'` can affect the comparison of music preferences in Springfield and Shelbyville. In real life, it would be useful to learn the reasons why the data is missing and try to make up for them. But we do not have that opportunity in this project. So you will have to:\n",
    "* Fill in these missing values with markers\n",
    "* Evaluate how much the missing values may affect your computations"
   ]
  },
  {
   "cell_type": "markdown",
   "metadata": {
    "id": "fSv2laPA_Zct"
   },
   "source": [
    "Replace the missing values in `'track'`, `'artist'`, and `'genre'` with the string `'unknown'`. To do this, create the `columns_to_replace` list, loop over it with `for`, and replace the missing values in each of the columns:"
   ]
  },
  {
   "cell_type": "code",
   "execution_count": 12,
   "metadata": {
    "id": "KplB5qWs_Zct"
   },
   "outputs": [],
   "source": [
    "#replacing the missing values\n",
    "\n",
    "#creating a list of columns to be replaced\n",
    "\n",
    "columns_to_replace = ['track', 'artist', 'genre']\n",
    "\n",
    "#looping over the columns in the list\n",
    "\n",
    "for columns in columns_to_replace:\n",
    "    \n",
    "    #replacing the missing values with 'unknown' in each of the columns\n",
    "    \n",
    "    df[columns].fillna('unknown', inplace=True)\n",
    "        \n",
    "        "
   ]
  },
  {
   "cell_type": "markdown",
   "metadata": {
    "id": "Ilsm-MZo_Zct"
   },
   "source": [
    "Make sure the table contains no more missing values. Count the missing values again."
   ]
  },
  {
   "cell_type": "code",
   "execution_count": 13,
   "metadata": {
    "id": "Tq4nYRX4_Zct"
   },
   "outputs": [
    {
     "name": "stdout",
     "output_type": "stream",
     "text": [
      "user_id    0\n",
      "track      0\n",
      "artist     0\n",
      "genre      0\n",
      "city       0\n",
      "time       0\n",
      "day        0\n",
      "dtype: int64\n"
     ]
    }
   ],
   "source": [
    "#checking the table after missing value replacement\n",
    "\n",
    "print(df.isna().sum())"
   ]
  },
  {
   "cell_type": "markdown",
   "metadata": {
    "id": "74ZIBmq9VrsK"
   },
   "source": [
    "[Back to Contents](#back)"
   ]
  },
  {
   "cell_type": "markdown",
   "metadata": {
    "id": "BWKRtBJ3_Zct"
   },
   "source": [
    "### Duplicates <a id='duplicates'></a>\n",
    "Find the number of obvious duplicates in the table using one command:"
   ]
  },
  {
   "cell_type": "code",
   "execution_count": 14,
   "metadata": {
    "id": "36eES_S0_Zct"
   },
   "outputs": [
    {
     "name": "stdout",
     "output_type": "stream",
     "text": [
      "3826\n"
     ]
    }
   ],
   "source": [
    "#checking duplicates\n",
    "\n",
    "print(df.duplicated().sum())"
   ]
  },
  {
   "cell_type": "markdown",
   "metadata": {
    "id": "Ot25h6XR_Zct"
   },
   "source": [
    "Call the `pandas` method for getting rid of obvious duplicates:"
   ]
  },
  {
   "cell_type": "code",
   "execution_count": 15,
   "metadata": {
    "id": "exFHq6tt_Zct"
   },
   "outputs": [],
   "source": [
    "#in addtion to dropping the duplicates, reset the index and dropped the old index.\n",
    "\n",
    "df = df.drop_duplicates().reset_index(drop=True)\n"
   ]
  },
  {
   "cell_type": "markdown",
   "metadata": {
    "id": "Im2YwBEG_Zct"
   },
   "source": [
    "Count obvious duplicates once more to make sure you have removed all of them:"
   ]
  },
  {
   "cell_type": "code",
   "execution_count": 16,
   "metadata": {
    "id": "-8PuNWQ0_Zct"
   },
   "outputs": [
    {
     "name": "stdout",
     "output_type": "stream",
     "text": [
      "0\n"
     ]
    }
   ],
   "source": [
    "#verifying all obvious duplicates have been removed\n",
    "\n",
    "print(df.duplicated().sum())"
   ]
  },
  {
   "cell_type": "markdown",
   "metadata": {
    "id": "QlFBsxAr_Zct"
   },
   "source": [
    "Now get rid of implicit duplicates in the `genre` column. For example, the name of a genre can be written in different ways. Such errors will also affect the result."
   ]
  },
  {
   "cell_type": "markdown",
   "metadata": {
    "id": "eSjWwsOh_Zct"
   },
   "source": [
    "Print a list of unique genre names, sorted in alphabetical order. To do so:\n",
    "* Retrieve the intended DataFrame column \n",
    "* Apply a sorting method to it\n",
    "* For the sorted column, call the method that will return all unique column values"
   ]
  },
  {
   "cell_type": "code",
   "execution_count": 17,
   "metadata": {
    "id": "JIUcqzZN_Zct"
   },
   "outputs": [
    {
     "name": "stdout",
     "output_type": "stream",
     "text": [
      "['rock' 'pop' 'folk' 'dance' 'rusrap' 'ruspop' 'world' 'electronic'\n",
      " 'unknown' 'alternative' 'children' 'rnb' 'hip' 'jazz' 'postrock' 'latin'\n",
      " 'classical' 'metal' 'reggae' 'triphop' 'blues' 'instrumental' 'rusrock'\n",
      " 'dnb' 'türk' 'post' 'country' 'psychedelic' 'conjazz' 'indie'\n",
      " 'posthardcore' 'local' 'avantgarde' 'punk' 'videogame' 'techno' 'house'\n",
      " 'christmas' 'melodic' 'caucasian' 'reggaeton' 'soundtrack' 'singer' 'ska'\n",
      " 'salsa' 'ambient' 'film' 'western' 'rap' 'beats' \"hard'n'heavy\"\n",
      " 'progmetal' 'minimal' 'tropical' 'contemporary' 'new' 'soul' 'holiday'\n",
      " 'german' 'jpop' 'spiritual' 'urban' 'gospel' 'nujazz' 'folkmetal'\n",
      " 'trance' 'miscellaneous' 'anime' 'hardcore' 'progressive' 'korean'\n",
      " 'numetal' 'vocal' 'estrada' 'tango' 'loungeelectronic' 'classicmetal'\n",
      " 'dubstep' 'club' 'deep' 'southern' 'black' 'folkrock' 'fitness' 'french'\n",
      " 'disco' 'religious' 'hiphop' 'drum' 'extrememetal' 'türkçe'\n",
      " 'experimental' 'easy' 'metalcore' 'modern' 'argentinetango' 'old' 'swing'\n",
      " 'breaks' 'eurofolk' 'stonerrock' 'industrial' 'funk' 'middle' 'variété'\n",
      " 'other' 'adult' 'christian' 'thrash' 'gothic' 'international' 'muslim'\n",
      " 'relax' 'schlager' 'caribbean' 'nu' 'breakbeat' 'comedy' 'chill' 'newage'\n",
      " 'specialty' 'uzbek' 'k-pop' 'balkan' 'chinese' 'meditative' 'dub' 'power'\n",
      " 'death' 'grime' 'arabesk' 'romance' 'flamenco' 'leftfield' 'european'\n",
      " 'tech' 'newwave' 'dancehall' 'mpb' 'piano' 'top' 'bigroom' 'opera'\n",
      " 'celtic' 'tradjazz' 'acoustic' 'epicmetal' 'hip-hop' 'historisch'\n",
      " 'downbeat' 'downtempo' 'africa' 'audiobook' 'jewish' 'sängerportrait'\n",
      " 'deutschrock' 'eastern' 'action' 'future' 'electropop' 'folklore'\n",
      " 'bollywood' 'marschmusik' 'rnr' 'karaoke' 'indian' 'rancheras'\n",
      " 'afrikaans' 'rhythm' 'sound' 'deutschspr' 'trip' 'lovers' 'choral'\n",
      " 'dancepop' 'retro' 'smooth' 'mexican' 'brazilian' 'ïîï' 'mood' 'surf'\n",
      " 'gangsta' 'inspirational' 'idm' 'ethnic' 'bluegrass' 'broadway'\n",
      " 'animated' 'americana' 'karadeniz' 'rockabilly' 'colombian' 'self' 'hop'\n",
      " 'sertanejo' 'japanese' 'canzone' 'lounge' 'sport' 'ragga' 'traditional'\n",
      " 'gitarre' 'frankreich' 'emo' 'laiko' 'cantopop' 'glitch' 'documentary'\n",
      " 'oceania' 'popeurodance' 'dark' 'vi' 'grunge' 'hardstyle' 'samba'\n",
      " 'garage' 'art' 'folktronica' 'entehno' 'mediterranean' 'chamber' 'cuban'\n",
      " 'taraftar' 'gypsy' 'hardtechno' 'shoegazing' 'bossa' 'latino' 'worldbeat'\n",
      " 'malaysian' 'baile' 'ghazal' 'arabic' 'popelectronic' 'acid' 'kayokyoku'\n",
      " 'neoklassik' 'tribal' 'tanzorchester' 'native' 'independent' 'cantautori'\n",
      " 'handsup' 'punjabi' 'synthpop' 'rave' 'französisch' 'quebecois' 'speech'\n",
      " 'soulful' 'jam' 'ram' 'horror' 'orchestral' 'neue' 'roots' 'slow'\n",
      " 'jungle' 'indipop' 'axé' 'fado' 'showtunes' 'arena' 'irish' 'mandopop'\n",
      " 'forró' 'dirty' 'regional']\n"
     ]
    }
   ],
   "source": [
    "#checking for unique genre\n",
    "\n",
    "print(df['genre'].unique())"
   ]
  },
  {
   "cell_type": "markdown",
   "metadata": {
    "id": "qej-Qmuo_Zct"
   },
   "source": [
    "Look through the list to find implicit duplicates of the genre `hiphop`. These could be names written incorrectly or alternative names of the same genre.\n",
    "\n",
    "You will see the following implicit duplicates:\n",
    "* `hip`\n",
    "* `hop`\n",
    "* `hip-hop`\n",
    "\n",
    "To get rid of them, declare the function `replace_wrong_genres()` with two parameters: \n",
    "* `wrong_genres=` — the list of duplicates\n",
    "* `correct_genre=` — the string with the correct value\n",
    "\n",
    "The function should correct the names in the `'genre'` column from the `df` table, i.e. replace each value from the `wrong_genres` list with the value in `correct_genre`."
   ]
  },
  {
   "cell_type": "code",
   "execution_count": 18,
   "metadata": {
    "id": "ErNDkmns_Zct"
   },
   "outputs": [],
   "source": [
    "#creating function with two parameters\n",
    "\n",
    "def replace_wrong_genres (wrong_genres, correct_genres):\n",
    "    \n",
    "    #looping over the list\n",
    "    \n",
    "    for wrong_genres in wrong_genres:\n",
    "        \n",
    "        #replacing the wrong genre with the correct genre name\n",
    "        \n",
    "        df['genre'] = df['genre'].replace(wrong_genres, correct_genres)"
   ]
  },
  {
   "cell_type": "markdown",
   "metadata": {
    "id": "aDoBJxbA_Zct"
   },
   "source": [
    "Call `replace_wrong_genres()` and pass it arguments so that it clears implicit duplcates (`hip`, `hop`, and `hip-hop`) and replaces them with `hiphop`:"
   ]
  },
  {
   "cell_type": "code",
   "execution_count": 19,
   "metadata": {
    "id": "YN5i2hpmSo09"
   },
   "outputs": [],
   "source": [
    "#generate a list of all of the wrong genre names\n",
    "\n",
    "duplicates = ['hip', 'hop','hip-hop']\n",
    "\n",
    "#set the correct genre name\n",
    "\n",
    "genre = 'hiphop'\n",
    "\n",
    "#replaced all of the wrong genre names with the correct genre name\n",
    "\n",
    "replace_wrong_genres(duplicates, genre)\n"
   ]
  },
  {
   "cell_type": "markdown",
   "metadata": {
    "id": "zQKF16_RG15m"
   },
   "source": [
    "Make sure the duplicate names were removed. Print the list of unique values from the `'genre'` column:"
   ]
  },
  {
   "cell_type": "code",
   "execution_count": 20,
   "metadata": {
    "id": "wvixALnFG15m"
   },
   "outputs": [
    {
     "name": "stdout",
     "output_type": "stream",
     "text": [
      "['rock' 'pop' 'folk' 'dance' 'rusrap' 'ruspop' 'world' 'electronic'\n",
      " 'unknown' 'alternative' 'children' 'rnb' 'hiphop' 'jazz' 'postrock'\n",
      " 'latin' 'classical' 'metal' 'reggae' 'triphop' 'blues' 'instrumental'\n",
      " 'rusrock' 'dnb' 'türk' 'post' 'country' 'psychedelic' 'conjazz' 'indie'\n",
      " 'posthardcore' 'local' 'avantgarde' 'punk' 'videogame' 'techno' 'house'\n",
      " 'christmas' 'melodic' 'caucasian' 'reggaeton' 'soundtrack' 'singer' 'ska'\n",
      " 'salsa' 'ambient' 'film' 'western' 'rap' 'beats' \"hard'n'heavy\"\n",
      " 'progmetal' 'minimal' 'tropical' 'contemporary' 'new' 'soul' 'holiday'\n",
      " 'german' 'jpop' 'spiritual' 'urban' 'gospel' 'nujazz' 'folkmetal'\n",
      " 'trance' 'miscellaneous' 'anime' 'hardcore' 'progressive' 'korean'\n",
      " 'numetal' 'vocal' 'estrada' 'tango' 'loungeelectronic' 'classicmetal'\n",
      " 'dubstep' 'club' 'deep' 'southern' 'black' 'folkrock' 'fitness' 'french'\n",
      " 'disco' 'religious' 'drum' 'extrememetal' 'türkçe' 'experimental' 'easy'\n",
      " 'metalcore' 'modern' 'argentinetango' 'old' 'swing' 'breaks' 'eurofolk'\n",
      " 'stonerrock' 'industrial' 'funk' 'middle' 'variété' 'other' 'adult'\n",
      " 'christian' 'thrash' 'gothic' 'international' 'muslim' 'relax' 'schlager'\n",
      " 'caribbean' 'nu' 'breakbeat' 'comedy' 'chill' 'newage' 'specialty'\n",
      " 'uzbek' 'k-pop' 'balkan' 'chinese' 'meditative' 'dub' 'power' 'death'\n",
      " 'grime' 'arabesk' 'romance' 'flamenco' 'leftfield' 'european' 'tech'\n",
      " 'newwave' 'dancehall' 'mpb' 'piano' 'top' 'bigroom' 'opera' 'celtic'\n",
      " 'tradjazz' 'acoustic' 'epicmetal' 'historisch' 'downbeat' 'downtempo'\n",
      " 'africa' 'audiobook' 'jewish' 'sängerportrait' 'deutschrock' 'eastern'\n",
      " 'action' 'future' 'electropop' 'folklore' 'bollywood' 'marschmusik' 'rnr'\n",
      " 'karaoke' 'indian' 'rancheras' 'afrikaans' 'rhythm' 'sound' 'deutschspr'\n",
      " 'trip' 'lovers' 'choral' 'dancepop' 'retro' 'smooth' 'mexican'\n",
      " 'brazilian' 'ïîï' 'mood' 'surf' 'gangsta' 'inspirational' 'idm' 'ethnic'\n",
      " 'bluegrass' 'broadway' 'animated' 'americana' 'karadeniz' 'rockabilly'\n",
      " 'colombian' 'self' 'sertanejo' 'japanese' 'canzone' 'lounge' 'sport'\n",
      " 'ragga' 'traditional' 'gitarre' 'frankreich' 'emo' 'laiko' 'cantopop'\n",
      " 'glitch' 'documentary' 'oceania' 'popeurodance' 'dark' 'vi' 'grunge'\n",
      " 'hardstyle' 'samba' 'garage' 'art' 'folktronica' 'entehno'\n",
      " 'mediterranean' 'chamber' 'cuban' 'taraftar' 'gypsy' 'hardtechno'\n",
      " 'shoegazing' 'bossa' 'latino' 'worldbeat' 'malaysian' 'baile' 'ghazal'\n",
      " 'arabic' 'popelectronic' 'acid' 'kayokyoku' 'neoklassik' 'tribal'\n",
      " 'tanzorchester' 'native' 'independent' 'cantautori' 'handsup' 'punjabi'\n",
      " 'synthpop' 'rave' 'französisch' 'quebecois' 'speech' 'soulful' 'jam'\n",
      " 'ram' 'horror' 'orchestral' 'neue' 'roots' 'slow' 'jungle' 'indipop'\n",
      " 'axé' 'fado' 'showtunes' 'arena' 'irish' 'mandopop' 'forró' 'dirty'\n",
      " 'regional']\n"
     ]
    }
   ],
   "source": [
    "#verifying all of the wrong genre names have been corrected\n",
    "\n",
    "print(df['genre'].unique())"
   ]
  },
  {
   "cell_type": "code",
   "execution_count": 37,
   "metadata": {},
   "outputs": [
    {
     "name": "stdout",
     "output_type": "stream",
     "text": [
      "['acid', 'acoustic', 'action', 'adult', 'africa', 'afrikaans', 'alternative', 'ambient', 'americana', 'animated', 'anime', 'arabesk', 'arabic', 'arena', 'argentinetango', 'art', 'audiobook', 'avantgarde', 'axé', 'baile', 'balkan', 'beats', 'bigroom', 'black', 'bluegrass', 'blues', 'bollywood', 'bossa', 'brazilian', 'breakbeat', 'breaks', 'broadway', 'cantautori', 'cantopop', 'canzone', 'caribbean', 'caucasian', 'celtic', 'chamber', 'children', 'chill', 'chinese', 'choral', 'christian', 'christmas', 'classical', 'classicmetal', 'club', 'colombian', 'comedy', 'conjazz', 'contemporary', 'country', 'cuban', 'dance', 'dancehall', 'dancepop', 'dark', 'death', 'deep', 'deutschrock', 'deutschspr', 'dirty', 'disco', 'dnb', 'documentary', 'downbeat', 'downtempo', 'drum', 'dub', 'dubstep', 'eastern', 'easy', 'electronic', 'electropop', 'emo', 'entehno', 'epicmetal', 'estrada', 'ethnic', 'eurofolk', 'european', 'experimental', 'extrememetal', 'fado', 'film', 'fitness', 'flamenco', 'folk', 'folklore', 'folkmetal', 'folkrock', 'folktronica', 'forró', 'frankreich', 'französisch', 'french', 'funk', 'future', 'gangsta', 'garage', 'german', 'ghazal', 'gitarre', 'glitch', 'gospel', 'gothic', 'grime', 'grunge', 'gypsy', 'handsup', \"hard'n'heavy\", 'hardcore', 'hardstyle', 'hardtechno', 'hiphop', 'historisch', 'holiday', 'horror', 'house', 'idm', 'independent', 'indian', 'indie', 'indipop', 'industrial', 'inspirational', 'instrumental', 'international', 'irish', 'jam', 'japanese', 'jazz', 'jewish', 'jpop', 'jungle', 'k-pop', 'karadeniz', 'karaoke', 'kayokyoku', 'korean', 'laiko', 'latin', 'latino', 'leftfield', 'local', 'lounge', 'loungeelectronic', 'lovers', 'malaysian', 'mandopop', 'marschmusik', 'meditative', 'mediterranean', 'melodic', 'metal', 'metalcore', 'mexican', 'middle', 'minimal', 'miscellaneous', 'modern', 'mood', 'mpb', 'muslim', 'native', 'neoklassik', 'neue', 'new', 'newage', 'newwave', 'nu', 'nujazz', 'numetal', 'oceania', 'old', 'opera', 'orchestral', 'other', 'piano', 'pop', 'popelectronic', 'popeurodance', 'post', 'posthardcore', 'postrock', 'power', 'progmetal', 'progressive', 'psychedelic', 'punjabi', 'punk', 'quebecois', 'ragga', 'ram', 'rancheras', 'rap', 'rave', 'reggae', 'reggaeton', 'regional', 'relax', 'religious', 'retro', 'rhythm', 'rnb', 'rnr', 'rock', 'rockabilly', 'romance', 'roots', 'ruspop', 'rusrap', 'rusrock', 'salsa', 'samba', 'schlager', 'self', 'sertanejo', 'shoegazing', 'showtunes', 'singer', 'ska', 'slow', 'smooth', 'soul', 'soulful', 'sound', 'soundtrack', 'southern', 'specialty', 'speech', 'spiritual', 'sport', 'stonerrock', 'surf', 'swing', 'synthpop', 'sängerportrait', 'tango', 'tanzorchester', 'taraftar', 'tech', 'techno', 'thrash', 'top', 'traditional', 'tradjazz', 'trance', 'tribal', 'trip', 'triphop', 'tropical', 'türk', 'türkçe', 'unknown', 'urban', 'uzbek', 'variété', 'vi', 'videogame', 'vocal', 'western', 'world', 'worldbeat', 'ïîï']\n"
     ]
    }
   ],
   "source": [
    "#verifying all of the wrong genre names have been corrected & Sorted the list\n",
    "\n",
    "print(sorted(df['genre'].unique()))"
   ]
  },
  {
   "cell_type": "markdown",
   "metadata": {
    "id": "ALgNbvF3VtPA"
   },
   "source": [
    "[Back to Contents](#back)"
   ]
  },
  {
   "cell_type": "markdown",
   "metadata": {
    "id": "jz6a9-7HQUDd"
   },
   "source": [
    "### Conclusions <a id='data_preprocessing_conclusions'></a>\n",
    "We detected three issues with the data:\n",
    "\n",
    "- Incorrect header styles\n",
    "- Missing values\n",
    "- Obvious and implicit duplicates\n",
    "\n",
    "The headers have been cleaned up to make processing the table simpler.\n",
    "\n",
    "All missing values have been replaced with `'unknown'`. But we still have to see whether the missing values in `'genre'` will affect our calculations.\n",
    "\n",
    "The absence of duplicates will make the results more precise and easier to understand.\n",
    "\n",
    "Now we can move on to testing hypotheses. "
   ]
  },
  {
   "cell_type": "markdown",
   "metadata": {
    "id": "eK1es74rVujj"
   },
   "source": [
    "[Back to Contents](#back)"
   ]
  },
  {
   "cell_type": "markdown",
   "metadata": {
    "id": "WttZHXH0SqKk"
   },
   "source": [
    "## Stage 3. Testing hypotheses <a id='hypotheses'></a>"
   ]
  },
  {
   "cell_type": "markdown",
   "metadata": {
    "id": "Im936VVi_Zcu"
   },
   "source": [
    "### Hypothesis 1: comparing user behavior in two cities <a id='activity'></a>"
   ]
  },
  {
   "cell_type": "markdown",
   "metadata": {
    "id": "nwt_MuaL_Zcu"
   },
   "source": [
    "According to the first hypothesis, users from Springfield and Shelbyville listen to music differently. Test this using the data on three days of the week: Monday, Wednesday, and Friday.\n",
    "\n",
    "* Divide the users into groups by city.\n",
    "* Compare how many tracks each group played on Monday, Wednesday, and Friday.\n"
   ]
  },
  {
   "cell_type": "markdown",
   "metadata": {
    "id": "8Dw_YMmT_Zcu"
   },
   "source": [
    "For the sake of practice, perform each computation separately. \n",
    "\n",
    "Evaluate user activity in each city. Group the data by city and find the number of songs played in each group.\n",
    "\n"
   ]
  },
  {
   "cell_type": "code",
   "execution_count": 176,
   "metadata": {
    "id": "0_Qs96oh_Zcu"
   },
   "outputs": [
    {
     "data": {
      "text/plain": [
       "18512"
      ]
     },
     "execution_count": 176,
     "metadata": {},
     "output_type": "execute_result"
    }
   ],
   "source": [
    "#grouping the data by city 'Shelbyville' \n",
    "\n",
    "group_by_city = df[df['city'] == 'Shelbyville']\n",
    "\n",
    "#call the length of the group, which is the number of rows\n",
    "\n",
    "len(group_by_city)\n"
   ]
  },
  {
   "cell_type": "code",
   "execution_count": 177,
   "metadata": {},
   "outputs": [
    {
     "data": {
      "text/plain": [
       "42741"
      ]
     },
     "execution_count": 177,
     "metadata": {},
     "output_type": "execute_result"
    }
   ],
   "source": [
    "#grouping the data by city 'Springfield'\n",
    "\n",
    "group_by_city = df[df['city'] == 'Springfield']\n",
    "\n",
    "#call the length of the group, which is the number of rows\n",
    "\n",
    "len(group_by_city)"
   ]
  },
  {
   "cell_type": "code",
   "execution_count": 178,
   "metadata": {},
   "outputs": [
    {
     "name": "stdout",
     "output_type": "stream",
     "text": [
      "city\n",
      "Shelbyville    18512\n",
      "Springfield    42741\n",
      "Name: city, dtype: int64\n"
     ]
    }
   ],
   "source": [
    "#use groupby instead\n",
    "\n",
    "group_by_city = df.groupby('city')['city'].count()\n",
    "\n",
    "print(group_by_city)"
   ]
  },
  {
   "cell_type": "markdown",
   "metadata": {
    "id": "dzli3w8o_Zcu"
   },
   "source": [
    "Springfield has more tracks played than Shelbyville. But that does not imply that citizens of Springfield listen to music more often. This city is simply bigger, and there are more users.\n",
    "\n",
    "Now group the data by day of the week and find the number of tracks played on Monday, Wednesday, and Friday.\n"
   ]
  },
  {
   "cell_type": "code",
   "execution_count": 61,
   "metadata": {
    "id": "uZMKjiJz_Zcu"
   },
   "outputs": [
    {
     "data": {
      "text/plain": [
       "21354"
      ]
     },
     "execution_count": 61,
     "metadata": {},
     "output_type": "execute_result"
    }
   ],
   "source": [
    "#grouping the data by the day 'Monday'\n",
    "\n",
    "group_by_week = df[df['day'] == 'Monday']\n",
    "\n",
    "#call the length of the group\n",
    "\n",
    "len(group_by_week)"
   ]
  },
  {
   "cell_type": "code",
   "execution_count": 62,
   "metadata": {},
   "outputs": [
    {
     "data": {
      "text/plain": [
       "18059"
      ]
     },
     "execution_count": 62,
     "metadata": {},
     "output_type": "execute_result"
    }
   ],
   "source": [
    "#grouping the data by the day 'Wednesday'\n",
    "\n",
    "group_by_week = df[df['day'] == 'Wednesday']\n",
    "\n",
    "#call the length of the group\n",
    "\n",
    "len(group_by_week)"
   ]
  },
  {
   "cell_type": "code",
   "execution_count": 63,
   "metadata": {},
   "outputs": [
    {
     "data": {
      "text/plain": [
       "21840"
      ]
     },
     "execution_count": 63,
     "metadata": {},
     "output_type": "execute_result"
    }
   ],
   "source": [
    "#group the data by the day 'Friday'\n",
    "\n",
    "group_by_week = df[df['day'] == 'Friday']\n",
    "\n",
    "#call the length of the group\n",
    "\n",
    "len(group_by_week)"
   ]
  },
  {
   "cell_type": "code",
   "execution_count": 179,
   "metadata": {},
   "outputs": [
    {
     "name": "stdout",
     "output_type": "stream",
     "text": [
      "day\n",
      "Friday       21840\n",
      "Monday       21354\n",
      "Wednesday    18059\n",
      "Name: day, dtype: int64\n"
     ]
    }
   ],
   "source": [
    "#use groupby instead\n",
    "\n",
    "group_by_city = df.groupby('day')['day'].count()\n",
    "\n",
    "print(group_by_city)"
   ]
  },
  {
   "cell_type": "markdown",
   "metadata": {
    "id": "cC2tNrlL_Zcu"
   },
   "source": [
    "Wednesday is the quietest day overall. But if we consider the two cities separately, we might come to a different conclusion."
   ]
  },
  {
   "cell_type": "markdown",
   "metadata": {
    "id": "POzs8bGa_Zcu"
   },
   "source": [
    "You have seen how grouping by city or day works. Now write a function that will group by both.\n",
    "\n",
    "Create the `number_tracks()` function to calculate the number of songs played for a given day and city. It will require two parameters:\n",
    "* day of the week\n",
    "* name of the city\n",
    "\n",
    "In the function, use a variable to store the rows from the original table, where:\n",
    "  * `'day'` column value is equal to the `day` parameter\n",
    "  * `'city'` column value is equal to the `city` parameter\n",
    "\n",
    "Apply consecutive filtering with logical indexing.\n",
    "\n",
    "Then calculate the `'user_id'` column values in the resulting table. Store the result to a new variable. Return this variable from the function."
   ]
  },
  {
   "cell_type": "code",
   "execution_count": 96,
   "metadata": {
    "id": "Nz3GdQB1_Zcu"
   },
   "outputs": [
    {
     "name": "stdout",
     "output_type": "stream",
     "text": [
      "\n"
     ]
    }
   ],
   "source": [
    "# <creating the function number_tracks()>\n",
    "\n",
    "def number_tracks(day, city):\n",
    "    \n",
    "    # We'll declare a function with two parameters: day=, city=.\n",
    "    # Let the track_list variable store the df rows where\n",
    "    # the value in the 'day' column is equal to the day= parameter and, at the same time, \n",
    "    # the value in the 'city' column is equal to the city= parameter (apply consecutive filtering \n",
    "    # with logical indexing).\n",
    "    \n",
    "    track_list = df[df['day'] == day]\n",
    "    track_list_city = track_list[track_list['city'] == city]\n",
    "    \n",
    "    # Let the track_list_count variable store the number of 'user_id' column values in track_list\n",
    "    # (found with the count() method).  \n",
    "    \n",
    "    track_list_count = track_list_city['user_id'].count()\n",
    "  \n",
    "    # Let the function return a number: the value of track_list_count.\n",
    "    \n",
    "    return track_list_count\n",
    "\n",
    "\n",
    "# The function counts tracked played for a certain city and day.\n",
    "# It first retrieves the rows with the intended day from the table,\n",
    "# then filters out the rows with the intended city from the result,\n",
    "# then finds the number of 'user_id' values in the filtered table,\n",
    "# then returns that number.\n",
    "# To see what it returns, wrap the function call in print().\n",
    "\n",
    "print()"
   ]
  },
  {
   "cell_type": "markdown",
   "metadata": {
    "id": "ytf7xFrFJQ2r"
   },
   "source": [
    "Call `number_tracks()` six times, changing the parameter values, so that you retrieve the data on both cities for each of the three days."
   ]
  },
  {
   "cell_type": "code",
   "execution_count": 97,
   "metadata": {
    "id": "rJcRATNQ_Zcu"
   },
   "outputs": [
    {
     "name": "stdout",
     "output_type": "stream",
     "text": [
      "15740\n"
     ]
    }
   ],
   "source": [
    "# the number of songs played in Springfield on Monday\n",
    "\n",
    "print(number_tracks('Monday', 'Springfield'))"
   ]
  },
  {
   "cell_type": "code",
   "execution_count": 91,
   "metadata": {
    "id": "hq_ncZ5T_Zcu"
   },
   "outputs": [
    {
     "name": "stdout",
     "output_type": "stream",
     "text": [
      "5614\n"
     ]
    }
   ],
   "source": [
    "# the number of songs played in Shelbyville on Monday\n",
    "\n",
    "print(number_tracks(day='Monday', city = 'Shelbyville'))"
   ]
  },
  {
   "cell_type": "code",
   "execution_count": 92,
   "metadata": {
    "id": "_NTy2VPU_Zcu"
   },
   "outputs": [
    {
     "name": "stdout",
     "output_type": "stream",
     "text": [
      "11056\n"
     ]
    }
   ],
   "source": [
    "# the number of songs played in Springfield on Wednesday\n",
    "\n",
    "print(number_tracks(day='Wednesday', city='Springfield'))"
   ]
  },
  {
   "cell_type": "code",
   "execution_count": 93,
   "metadata": {
    "id": "j2y3TAwo_Zcu"
   },
   "outputs": [
    {
     "name": "stdout",
     "output_type": "stream",
     "text": [
      "7003\n"
     ]
    }
   ],
   "source": [
    "# the number of songs played in Shelbyville on Wednesday\n",
    "print(number_tracks(day = 'Wednesday', city = 'Shelbyville'))"
   ]
  },
  {
   "cell_type": "code",
   "execution_count": 94,
   "metadata": {
    "id": "vYDw5u_K_Zcu"
   },
   "outputs": [
    {
     "name": "stdout",
     "output_type": "stream",
     "text": [
      "15945\n"
     ]
    }
   ],
   "source": [
    "# the number of songs played in Springfield on Friday\n",
    "\n",
    "print(number_tracks(day = 'Friday', city ='Springfield'))"
   ]
  },
  {
   "cell_type": "code",
   "execution_count": 95,
   "metadata": {
    "id": "8_yzFtW3_Zcu"
   },
   "outputs": [
    {
     "name": "stdout",
     "output_type": "stream",
     "text": [
      "5895\n"
     ]
    }
   ],
   "source": [
    "# the number of songs played in Shelbyville on Friday\n",
    "\n",
    "print(number_tracks(day = 'Friday', city = 'Shelbyville'))"
   ]
  },
  {
   "cell_type": "markdown",
   "metadata": {
    "id": "7QXffbO-_Zcu"
   },
   "source": [
    "Use `pd.DataFrame` to create a table, where\n",
    "* Column names are: `['city', 'monday', 'wednesday', 'friday']`\n",
    "* The data is the results you got from `number_tracks()`"
   ]
  },
  {
   "cell_type": "code",
   "execution_count": 101,
   "metadata": {
    "id": "APAcLpOr_Zcu"
   },
   "outputs": [
    {
     "name": "stdout",
     "output_type": "stream",
     "text": [
      "          city  monday  wednesday  friday\n",
      "0  Springfield   15740      11056   15945\n",
      "1  Shelbyville    5614       7003    5895\n"
     ]
    }
   ],
   "source": [
    "# table with results\n",
    "\n",
    "column_names = ['city', 'monday', 'wednesday', 'friday']\n",
    "\n",
    "#call back each number_tracks() with different parameters\n",
    "\n",
    "data = [\n",
    "    ['Springfield', \n",
    "     number_tracks(day = 'Monday', city = 'Springfield'),\n",
    "     number_tracks(day = 'Wednesday', city = 'Springfield'),\n",
    "     number_tracks(day = 'Friday', city = 'Springfield')\n",
    "    ],\n",
    "    ['Shelbyville',\n",
    "     number_tracks(day = 'Monday', city = 'Shelbyville'),\n",
    "     number_tracks(day = 'Wednesday', city = 'Shelbyville'),\n",
    "     number_tracks(day = 'Friday', city = 'Shelbyville')\n",
    "    ]\n",
    "]\n",
    "\n",
    "tracks = pd.DataFrame(data=data, columns=column_names)\n",
    "\n",
    "print(tracks)\n"
   ]
  },
  {
   "cell_type": "markdown",
   "metadata": {
    "id": "-EgPIHYu_Zcu"
   },
   "source": [
    "**Conclusions**\n",
    "\n",
    "The data reveals differences in user behavior:\n",
    "\n",
    "- In Springfield, the number of songs played peaks on Mondays and Fridays, while on Wednesday there is a decrease in activity.\n",
    "- In Shelbyville, on the contrary, users listen to music more on Wednesday. User activity on Monday and Friday is smaller.\n",
    "\n",
    "So the first hypothesis seems to be correct."
   ]
  },
  {
   "cell_type": "markdown",
   "metadata": {
    "id": "p7nFQajCVw5B"
   },
   "source": [
    "[Back to Contents](#back)"
   ]
  },
  {
   "cell_type": "markdown",
   "metadata": {
    "id": "atZAxtq4_Zcu"
   },
   "source": [
    "### Hypothesis 2: music at the beginning and end of the week <a id='week'></a>"
   ]
  },
  {
   "cell_type": "markdown",
   "metadata": {
    "id": "eXrQqXFH_Zcu"
   },
   "source": [
    "According to the second hypothesis, on Monday morning and Friday night, citizens of Springfield listen to genres that differ from ones users from Shelbyville enjoy."
   ]
  },
  {
   "cell_type": "markdown",
   "metadata": {
    "id": "S8UcW6Hw_Zcu"
   },
   "source": [
    "Get tables (make sure that the name of your combined table matches the DataFrame given in the two code blocks below):\n",
    "* For Springfield — `spr_general`\n",
    "* For Shelbyville — `shel_general`"
   ]
  },
  {
   "cell_type": "code",
   "execution_count": 102,
   "metadata": {
    "id": "qeaFfM_P_Zcu",
    "pycharm": {
     "is_executing": true
    }
   },
   "outputs": [
    {
     "name": "stdout",
     "output_type": "stream",
     "text": [
      "        user_id                          track                   artist  \\\n",
      "1      55204538    Delayed Because of Accident         Andreas Rönnberg   \n",
      "4      E2DC1FAE                    Soul People               Space Echo   \n",
      "6      4CB90AA5                           True             Roman Messer   \n",
      "7      F03E1C1F               Feeling This Way          Polina Griffith   \n",
      "8      8FA1D3BE                       L’estate              Julia Dalia   \n",
      "...         ...                            ...                      ...   \n",
      "61247  83A474E7  I Worship Only What You Bleed  The Black Dahlia Murder   \n",
      "61248  729CBB09                        My Name                   McLean   \n",
      "61250  C5E3A0D5                      Jalopiina                  unknown   \n",
      "61251  321D0506                  Freight Train            Chas McDevitt   \n",
      "61252  3A64EF84      Tell Me Sweet Little Lies             Monica Lopez   \n",
      "\n",
      "              genre         city      time        day  \n",
      "1              rock  Springfield  14:07:09     Friday  \n",
      "4             dance  Springfield  08:34:34     Monday  \n",
      "6             dance  Springfield  13:00:07  Wednesday  \n",
      "7             dance  Springfield  20:47:49  Wednesday  \n",
      "8            ruspop  Springfield  09:17:40     Friday  \n",
      "...             ...          ...       ...        ...  \n",
      "61247  extrememetal  Springfield  21:07:12     Monday  \n",
      "61248           rnb  Springfield  13:32:28  Wednesday  \n",
      "61250    industrial  Springfield  20:09:26     Friday  \n",
      "61251          rock  Springfield  21:43:59     Friday  \n",
      "61252       country  Springfield  21:59:46     Friday  \n",
      "\n",
      "[42741 rows x 7 columns]\n"
     ]
    }
   ],
   "source": [
    "# create the spr_general table from the df rows, \n",
    "# where the value in the 'city' column is 'Springfield'\n",
    "\n",
    "spr_general = df[df['city'] == 'Springfield']\n",
    "\n",
    "print(spr_general)\n"
   ]
  },
  {
   "cell_type": "code",
   "execution_count": 103,
   "metadata": {
    "id": "ORaVRKto_Zcu"
   },
   "outputs": [
    {
     "name": "stdout",
     "output_type": "stream",
     "text": [
      "        user_id                              track              artist  \\\n",
      "0      FFB692EC                  Kamigata To Boots    The Mass Missile   \n",
      "2        20EC38                  Funiculì funiculà         Mario Lanza   \n",
      "3      A3DD03C9              Dragons in the Sunset          Fire + Ice   \n",
      "5      842029A1                             Chains            Obladaet   \n",
      "9      E772D5C0                          Pessimist             unknown   \n",
      "...         ...                                ...                 ...   \n",
      "61239  D94F810B        Theme from the Walking Dead  Proyecto Halloween   \n",
      "61240  BC8EC5CF       Red Lips: Gta (Rover Rework)               Rover   \n",
      "61241  29E04611                       Bre Petrunko       Perunika Trio   \n",
      "61242  1B91C621             (Hello) Cloud Mountain     sleepmakeswaves   \n",
      "61249  D08D4A55  Maybe One Day (feat. Black Spade)         Blu & Exile   \n",
      "\n",
      "            genre         city      time        day  \n",
      "0            rock  Shelbyville  20:28:33  Wednesday  \n",
      "2             pop  Shelbyville  20:58:07  Wednesday  \n",
      "3            folk  Shelbyville  08:37:09     Monday  \n",
      "5          rusrap  Shelbyville  13:09:41     Friday  \n",
      "9           dance  Shelbyville  21:20:49  Wednesday  \n",
      "...           ...          ...       ...        ...  \n",
      "61239        film  Shelbyville  21:14:40     Monday  \n",
      "61240  electronic  Shelbyville  21:06:50     Monday  \n",
      "61241       world  Shelbyville  13:56:00     Monday  \n",
      "61242    postrock  Shelbyville  09:22:13     Monday  \n",
      "61249      hiphop  Shelbyville  10:00:00     Monday  \n",
      "\n",
      "[18512 rows x 7 columns]\n"
     ]
    }
   ],
   "source": [
    "# create the shel_general from the df rows,\n",
    "# where the value in the 'city' column is 'Shelbyville'\n",
    "\n",
    "shel_general = df[df['city'] == 'Shelbyville']\n",
    "\n",
    "print(shel_general)\n"
   ]
  },
  {
   "cell_type": "markdown",
   "metadata": {
    "id": "MEJV-CX2_Zcu"
   },
   "source": [
    "Write the `genre_weekday()` function with four parameters:\n",
    "* A table for data (`df`)\n",
    "* The day of the week (`day`)\n",
    "* The first timestamp, in 'hh:mm' format (`time1`)\n",
    "* The last timestamp, in 'hh:mm' format (`time2`)\n",
    "\n",
    "The function should return info on the 15 most popular genres on a given day within the period between the two timestamps."
   ]
  },
  {
   "cell_type": "code",
   "execution_count": 167,
   "metadata": {
    "id": "laJT9BYl_Zcu"
   },
   "outputs": [],
   "source": [
    "# 1) Let the genre_df variable store the rows that meet several conditions:\n",
    "#    - the value in the 'day' column is equal to the value of the day= argument\n",
    "#    - the value in the 'time' column is greater than the value of the time1= argument\n",
    "#    - the value in the 'time' column is smaller than the value of the time2= argument\n",
    "#    Use consecutive filtering with logical indexing.\n",
    "\n",
    "# 2) Group genre_df by the 'genre' column, take one of its columns, \n",
    "#    and use the count() method to find the number of entries for each of \n",
    "#    the represented genres; store the resulting Series to the\n",
    "#    genre_df_count variable\n",
    "\n",
    "# 3) Sort genre_df_count in descending order of frequency and store the result\n",
    "#    to the genre_df_sorted variable\n",
    "\n",
    "# 4) Return a Series object with the first 15 genre_df_sorted value - the 15 most\n",
    "#    popular genres (on a given day, within a certain timeframe)\n",
    "\n",
    "# Write your function here\n",
    "\n",
    "def genre_weekday(df, day, time1, time2):\n",
    "\n",
    "    # consecutive filtering\n",
    "    # Create the variable genre_df which will store only those df rows where the day is equal to day=\n",
    "    genre_df = df[df['day'] == day]\n",
    "\n",
    "    # filter again so that genre_df will store only those rows where the time is smaller than time2=\n",
    "    genre_df = genre_df[genre_df['time'] <= time2]\n",
    "\n",
    "    # filter once more so that genre_df will store only rows where the time is greater than time1=\n",
    "    genre_df = genre_df[genre_df['time'] >= time1]\n",
    "\n",
    "    # group the filtered DataFrame by the column with the names of genres, take the genre column, and find the number of rows for each genre with the count() method\n",
    "    genre_df_count = genre_df.groupby('genre').count()\n",
    "   \n",
    "\n",
    "    # sort the result in descending order (so that the most popular genres come first in the Series object)\n",
    "    genre_df_sorted = genre_df_count.sort_values(by = 'user_id', ascending = False)\n",
    "\n",
    "    # we will return the Series object storing the 15 most popular genres on a given day in a given timeframe\n",
    "    return genre_df_sorted[:15]"
   ]
  },
  {
   "cell_type": "markdown",
   "metadata": {
    "id": "la2s2_PF_Zcu"
   },
   "source": [
    "Compare the results of the `genre_weekday()` function for Springfield and Shelbyville on Monday morning (from 7AM to 11AM) and on Friday evening (from 17:00 to 23:00):"
   ]
  },
  {
   "cell_type": "code",
   "execution_count": 180,
   "metadata": {
    "id": "yz7itPUQ_Zcu"
   },
   "outputs": [
    {
     "name": "stdout",
     "output_type": "stream",
     "text": [
      "             user_id  track  artist  city  time  day\n",
      "genre                                               \n",
      "pop              781    781     781   781   781  781\n",
      "dance            549    549     549   549   549  549\n",
      "electronic       480    480     480   480   480  480\n",
      "rock             474    474     474   474   474  474\n",
      "hiphop           286    286     286   286   286  286\n",
      "ruspop           186    186     186   186   186  186\n",
      "world            181    181     181   181   181  181\n",
      "rusrap           175    175     175   175   175  175\n",
      "alternative      164    164     164   164   164  164\n",
      "unknown          161    161     161   161   161  161\n",
      "classical        157    157     157   157   157  157\n",
      "metal            120    120     120   120   120  120\n",
      "jazz             100    100     100   100   100  100\n",
      "folk              97     97      97    97    97   97\n",
      "soundtrack        95     95      95    95    95   95\n"
     ]
    }
   ],
   "source": [
    "# calling the function for Monday morning in Springfield (use spr_general instead of the df table)\n",
    "\n",
    "print (genre_weekday(df = spr_general, day = 'Monday', time1 = '07:00', time2 = '11:00'))"
   ]
  },
  {
   "cell_type": "code",
   "execution_count": 144,
   "metadata": {
    "id": "kwUcHPdy_Zcu"
   },
   "outputs": [
    {
     "name": "stdout",
     "output_type": "stream",
     "text": [
      "             user_id  track  artist  city  time  day\n",
      "genre                                               \n",
      "pop              218    218     218   218   218  218\n",
      "dance            182    182     182   182   182  182\n",
      "rock             162    162     162   162   162  162\n",
      "electronic       147    147     147   147   147  147\n",
      "hiphop            80     80      80    80    80   80\n",
      "ruspop            64     64      64    64    64   64\n",
      "alternative       58     58      58    58    58   58\n",
      "rusrap            55     55      55    55    55   55\n",
      "jazz              44     44      44    44    44   44\n",
      "classical         40     40      40    40    40   40\n",
      "world             36     36      36    36    36   36\n",
      "rap               32     32      32    32    32   32\n",
      "soundtrack        31     31      31    31    31   31\n",
      "rnb               27     27      27    27    27   27\n",
      "metal             27     27      27    27    27   27\n"
     ]
    }
   ],
   "source": [
    "# calling the function for Monday morning in Shelbyville (use shel_general instead of the df table)\n",
    "\n",
    "print (genre_weekday(df = shel_general, day = 'Monday', time1 = '07:00', time2 = '11:00'))"
   ]
  },
  {
   "cell_type": "code",
   "execution_count": 181,
   "metadata": {
    "id": "EzXVRE1o_Zcu"
   },
   "outputs": [
    {
     "name": "stdout",
     "output_type": "stream",
     "text": [
      "             user_id  track  artist  city  time  day\n",
      "genre                                               \n",
      "pop              713    713     713   713   713  713\n",
      "rock             517    517     517   517   517  517\n",
      "dance            495    495     495   495   495  495\n",
      "electronic       482    482     482   482   482  482\n",
      "hiphop           273    273     273   273   273  273\n",
      "world            208    208     208   208   208  208\n",
      "ruspop           170    170     170   170   170  170\n",
      "classical        163    163     163   163   163  163\n",
      "alternative      163    163     163   163   163  163\n",
      "rusrap           142    142     142   142   142  142\n",
      "jazz             111    111     111   111   111  111\n",
      "unknown          110    110     110   110   110  110\n",
      "soundtrack       105    105     105   105   105  105\n",
      "rnb               90     90      90    90    90   90\n",
      "metal             88     88      88    88    88   88\n"
     ]
    }
   ],
   "source": [
    "# calling the function for Friday evening in Springfield\n",
    "\n",
    "print (genre_weekday(df = spr_general, day = 'Friday', time1 = '17:00', time2 = '23:00'))"
   ]
  },
  {
   "cell_type": "code",
   "execution_count": 182,
   "metadata": {
    "id": "JZaEKu5v_Zcu"
   },
   "outputs": [
    {
     "name": "stdout",
     "output_type": "stream",
     "text": [
      "             user_id  track  artist  city  time  day\n",
      "genre                                               \n",
      "pop              256    256     256   256   256  256\n",
      "rock             216    216     216   216   216  216\n",
      "electronic       216    216     216   216   216  216\n",
      "dance            210    210     210   210   210  210\n",
      "hiphop            97     97      97    97    97   97\n",
      "alternative       63     63      63    63    63   63\n",
      "jazz              61     61      61    61    61   61\n",
      "classical         60     60      60    60    60   60\n",
      "rusrap            59     59      59    59    59   59\n",
      "world             54     54      54    54    54   54\n",
      "unknown           47     47      47    47    47   47\n",
      "ruspop            47     47      47    47    47   47\n",
      "soundtrack        40     40      40    40    40   40\n",
      "metal             39     39      39    39    39   39\n",
      "rap               36     36      36    36    36   36\n"
     ]
    }
   ],
   "source": [
    "# calling the function for Friday evening in Shelbyville\n",
    "\n",
    "print (genre_weekday(df = shel_general, day = 'Friday', time1 = '17:00', time2 = '23:00'))"
   ]
  },
  {
   "cell_type": "markdown",
   "metadata": {
    "id": "wrCe4MNX_Zcu"
   },
   "source": [
    "**Conclusion**\n",
    "\n",
    "Having compared the top 15 genres on Monday morning, we can draw the following conclusions:\n",
    "\n",
    "1. Users from Springfield and Shelbyville listen to similar music. The top five genres are the same, only rock and electronic have switched places.\n",
    "\n",
    "2. In Springfield, the number of missing values turned out to be so big that the value `'unknown'` came in 10th. This means that missing values make up a considerable portion of the data, which may be a basis for questioning the reliability of our conclusions.\n",
    "\n",
    "For Friday evening, the situation is similar. Individual genres vary somewhat, but on the whole, the top 15 is similar for the two cities.\n",
    "\n",
    "Thus, the second hypothesis has been partially proven true:\n",
    "* Users listen to similar music at the beginning and end of the week.\n",
    "* There is no major difference between Springfield and Shelbyville. In both cities, pop is the most popular genre.\n",
    "\n",
    "However, the number of missing values makes this result questionable. In Springfield, there are so many that they affect our top 15. Were we not missing these values, things might look different."
   ]
  },
  {
   "cell_type": "markdown",
   "metadata": {
    "id": "jLmXgdanVyhP"
   },
   "source": [
    "[Back to Contents](#back)"
   ]
  },
  {
   "cell_type": "markdown",
   "metadata": {
    "id": "JolODAqr_Zcu"
   },
   "source": [
    "### Hypothesis 3: genre preferences in Springfield and Shelbyville <a id='genre'></a>\n",
    "\n",
    "Hypothesis: Shelbyville loves rap music. Springfield's citizens are more into pop."
   ]
  },
  {
   "cell_type": "markdown",
   "metadata": {
    "id": "DlegSvaT_Zcu"
   },
   "source": [
    "Group the `spr_general` table by genre and find the number of songs played for each genre with the `count()` method. Then sort the result in descending order and store it to `spr_genres`."
   ]
  },
  {
   "cell_type": "code",
   "execution_count": 187,
   "metadata": {
    "id": "r19lIPke_Zcu"
   },
   "outputs": [
    {
     "name": "stdout",
     "output_type": "stream",
     "text": [
      "genre\n",
      "pop           5892\n",
      "dance         4435\n",
      "rock          3965\n",
      "electronic    3786\n",
      "hiphop        2096\n",
      "              ... \n",
      "karadeniz        1\n",
      "kayokyoku        1\n",
      "lovers           1\n",
      "malaysian        1\n",
      "acid             1\n",
      "Name: genre, Length: 250, dtype: int64\n"
     ]
    }
   ],
   "source": [
    "# on one line: group the spr_general table by the 'genre' column, \n",
    "# count the 'genre' values with count() in the grouping, \n",
    "# sort the resulting Series in descending order, and store it to spr_genres\n",
    "\n",
    "spr_genres = spr_general.groupby('genre')['genre'].count().sort_values(ascending = False)\n",
    "print(spr_genres)"
   ]
  },
  {
   "cell_type": "markdown",
   "metadata": {
    "id": "6kMuomxTiIr8"
   },
   "source": [
    "Print the first 10 rows from `spr_genres`:"
   ]
  },
  {
   "cell_type": "code",
   "execution_count": 189,
   "metadata": {
    "id": "WhCSooF8_Zcv"
   },
   "outputs": [
    {
     "data": {
      "text/plain": [
       "genre\n",
       "pop            5892\n",
       "dance          4435\n",
       "rock           3965\n",
       "electronic     3786\n",
       "hiphop         2096\n",
       "classical      1616\n",
       "world          1432\n",
       "alternative    1379\n",
       "ruspop         1372\n",
       "rusrap         1161\n",
       "Name: genre, dtype: int64"
      ]
     },
     "execution_count": 189,
     "metadata": {},
     "output_type": "execute_result"
    }
   ],
   "source": [
    "# printing the first 10 rows of spr_genres\n",
    "\n",
    "spr_genres.head(10)"
   ]
  },
  {
   "cell_type": "markdown",
   "metadata": {
    "id": "cnPG2vnN_Zcv"
   },
   "source": [
    "Now do the same with the data on Shelbyville.\n",
    "\n",
    "Group the `shel_general` table by genre and find the number of songs played for each genre. Then sort the result in descending order and store it to the `shel_genres` table:\n"
   ]
  },
  {
   "cell_type": "code",
   "execution_count": 190,
   "metadata": {
    "id": "gluLIpE7_Zcv"
   },
   "outputs": [
    {
     "name": "stdout",
     "output_type": "stream",
     "text": [
      "genre\n",
      "pop              2431\n",
      "dance            1932\n",
      "rock             1879\n",
      "electronic       1736\n",
      "hiphop            960\n",
      "                 ... \n",
      "jungle              1\n",
      "laiko               1\n",
      "leftfield           1\n",
      "mandopop            1\n",
      "international       1\n",
      "Name: genre, Length: 202, dtype: int64\n"
     ]
    }
   ],
   "source": [
    "# on one line: group the shel_general table by the 'genre' column, \n",
    "# count the 'genre' values in the grouping with count(), \n",
    "# sort the resulting Series in descending order and store it to shel_genres\n",
    "\n",
    "shel_genres = shel_general.groupby('genre')['genre'].count().sort_values(ascending = False)\n",
    "print(shel_genres)"
   ]
  },
  {
   "cell_type": "markdown",
   "metadata": {
    "id": "5Doha_ODgyQ8"
   },
   "source": [
    "Print the first 10 rows of `shel_genres`:"
   ]
  },
  {
   "cell_type": "code",
   "execution_count": 191,
   "metadata": {
    "id": "uaGJHjVU_Zcv"
   },
   "outputs": [
    {
     "data": {
      "text/plain": [
       "genre\n",
       "pop            2431\n",
       "dance          1932\n",
       "rock           1879\n",
       "electronic     1736\n",
       "hiphop          960\n",
       "alternative     649\n",
       "classical       646\n",
       "rusrap          564\n",
       "ruspop          538\n",
       "world           515\n",
       "Name: genre, dtype: int64"
      ]
     },
     "execution_count": 191,
     "metadata": {},
     "output_type": "execute_result"
    }
   ],
   "source": [
    "# printing the first 10 rows from shel_genres\n",
    "\n",
    "shel_genres.head(10)"
   ]
  },
  {
   "cell_type": "markdown",
   "metadata": {
    "id": "RY51YJYu_Zcv"
   },
   "source": [
    "**Conclusion**"
   ]
  },
  {
   "cell_type": "markdown",
   "metadata": {
    "id": "nVhnJEm__Zcv"
   },
   "source": [
    "The hypothesis has been partially proven true:\n",
    "* Pop music is the most popular genre in Springfield, as expected.\n",
    "* However, pop music turned out to be equally popular in Springfield and Shelbyville, and rap wasn't in the top 5 for either city.\n"
   ]
  },
  {
   "cell_type": "markdown",
   "metadata": {
    "id": "Byr0RfpPVz14"
   },
   "source": [
    "[Back to Contents](#back)"
   ]
  },
  {
   "cell_type": "markdown",
   "metadata": {
    "id": "ykKQ0N65_Zcv"
   },
   "source": [
    "# Findings <a id='end'></a>"
   ]
  },
  {
   "cell_type": "markdown",
   "metadata": {
    "id": "tjUwbHb3_Zcv"
   },
   "source": [
    "We have tested the following three hypotheses:\n",
    "\n",
    "1. User activity differs depending on the day of the week and from city to city. \n",
    "2. On Monday mornings, Springfield and Shelbyville residents listen to different genres. This is also true for Friday evenings. \n",
    "3. Springfield and Shelbyville listeners have different preferences. In both Springfield and Shelbyville, they prefer pop.\n",
    "\n",
    "After analyzing the data, we concluded:\n",
    "\n",
    "1. User activity in Springfield and Shelbyville depends on the day of the week, though the cities vary in different ways. \n",
    "\n",
    "The first hypothesis is fully accepted.\n",
    "\n",
    "2. Musical preferences do not vary significantly over the course of the week in both Springfield and Shelbyville. We can see small differences in order on Mondays, but:\n",
    "* In Springfield and Shelbyville, people listen to pop music most.\n",
    "\n",
    "So we can't accept this hypothesis. We must also keep in mind that the result could have been different if not for the missing values.\n",
    "\n",
    "3. It turns out that the musical preferences of users from Springfield and Shelbyville are quite similar.\n",
    "\n",
    "The third hypothesis is rejected. If there is any difference in preferences, it cannot be seen from this data.\n",
    "\n"
   ]
  },
  {
   "cell_type": "markdown",
   "metadata": {
    "id": "Ju4AHDSgV1FE"
   },
   "source": [
    "[Back to Contents](#back)"
   ]
  }
 ],
 "metadata": {
  "ExecuteTimeLog": [
   {
    "duration": 670,
    "start_time": "2022-02-25T15:22:27.744Z"
   },
   {
    "duration": 3,
    "start_time": "2022-02-25T15:22:36.423Z"
   },
   {
    "duration": 285,
    "start_time": "2022-02-25T15:25:53.916Z"
   },
   {
    "duration": 12,
    "start_time": "2022-02-25T15:26:47.841Z"
   },
   {
    "duration": 25,
    "start_time": "2022-02-25T15:27:50.513Z"
   },
   {
    "duration": 4,
    "start_time": "2022-02-25T15:36:21.704Z"
   },
   {
    "duration": 113,
    "start_time": "2022-02-25T15:41:01.457Z"
   },
   {
    "duration": 25,
    "start_time": "2022-02-25T15:41:21.265Z"
   },
   {
    "duration": 4,
    "start_time": "2022-02-25T15:41:34.071Z"
   },
   {
    "duration": 4,
    "start_time": "2022-02-25T15:41:34.577Z"
   },
   {
    "duration": 25,
    "start_time": "2022-02-25T15:44:02.830Z"
   },
   {
    "duration": 396,
    "start_time": "2022-02-25T15:44:25.310Z"
   },
   {
    "duration": 29,
    "start_time": "2022-02-25T15:45:06.341Z"
   },
   {
    "duration": 23,
    "start_time": "2022-02-25T15:45:19.113Z"
   },
   {
    "duration": 4,
    "start_time": "2022-02-25T16:00:41.409Z"
   },
   {
    "duration": 15,
    "start_time": "2022-02-25T16:15:14.020Z"
   },
   {
    "duration": 24,
    "start_time": "2022-02-25T16:15:34.401Z"
   },
   {
    "duration": 60,
    "start_time": "2022-02-25T16:20:31.968Z"
   },
   {
    "duration": 72,
    "start_time": "2022-02-25T16:21:32.237Z"
   },
   {
    "duration": 55,
    "start_time": "2022-02-25T16:21:47.939Z"
   },
   {
    "duration": 6,
    "start_time": "2022-02-25T16:22:27.384Z"
   },
   {
    "duration": 71,
    "start_time": "2022-02-25T16:23:43.587Z"
   },
   {
    "duration": 49,
    "start_time": "2022-02-25T16:23:45.277Z"
   },
   {
    "duration": 4,
    "start_time": "2022-02-25T16:34:26.775Z"
   },
   {
    "duration": 283,
    "start_time": "2022-02-25T16:34:29.606Z"
   },
   {
    "duration": 272,
    "start_time": "2022-02-25T16:34:58.890Z"
   },
   {
    "duration": 4034,
    "start_time": "2022-02-25T16:35:17.200Z"
   },
   {
    "duration": 1866,
    "start_time": "2022-02-25T16:35:52.605Z"
   },
   {
    "duration": 3,
    "start_time": "2022-02-25T16:36:15.946Z"
   },
   {
    "duration": 11,
    "start_time": "2022-02-25T16:36:19.339Z"
   },
   {
    "duration": 6,
    "start_time": "2022-02-25T16:36:46.640Z"
   },
   {
    "duration": 5,
    "start_time": "2022-02-25T16:49:06.661Z"
   },
   {
    "duration": 329,
    "start_time": "2022-02-25T16:50:22.431Z"
   },
   {
    "duration": 25,
    "start_time": "2022-02-25T16:52:03.126Z"
   },
   {
    "duration": 270,
    "start_time": "2022-02-25T16:53:24.239Z"
   },
   {
    "duration": 384,
    "start_time": "2022-02-25T16:53:50.677Z"
   },
   {
    "duration": 262,
    "start_time": "2022-02-25T16:54:21.000Z"
   },
   {
    "duration": 22,
    "start_time": "2022-02-25T16:55:13.671Z"
   },
   {
    "duration": 283,
    "start_time": "2022-02-25T16:55:25.654Z"
   },
   {
    "duration": 22,
    "start_time": "2022-02-25T16:55:34.347Z"
   },
   {
    "duration": 260,
    "start_time": "2022-02-25T16:57:38.804Z"
   },
   {
    "duration": 280,
    "start_time": "2022-02-25T16:57:54.554Z"
   },
   {
    "duration": 4720,
    "start_time": "2022-02-25T16:58:39.097Z"
   },
   {
    "duration": 4742,
    "start_time": "2022-02-25T16:58:51.041Z"
   },
   {
    "duration": 268,
    "start_time": "2022-02-25T16:59:17.789Z"
   },
   {
    "duration": 4,
    "start_time": "2022-02-25T17:00:08.169Z"
   },
   {
    "duration": 5,
    "start_time": "2022-02-25T17:00:44.257Z"
   },
   {
    "duration": 282,
    "start_time": "2022-02-25T17:01:48.345Z"
   },
   {
    "duration": 4,
    "start_time": "2022-02-25T17:04:06.617Z"
   },
   {
    "duration": 27,
    "start_time": "2022-02-25T17:04:45.049Z"
   },
   {
    "duration": 16,
    "start_time": "2022-02-25T17:04:56.908Z"
   },
   {
    "duration": 25,
    "start_time": "2022-02-25T17:05:16.681Z"
   },
   {
    "duration": 17,
    "start_time": "2022-02-25T17:05:35.681Z"
   },
   {
    "duration": 371,
    "start_time": "2022-02-25T17:05:57.189Z"
   },
   {
    "duration": 14,
    "start_time": "2022-02-25T17:06:07.737Z"
   },
   {
    "duration": 421,
    "start_time": "2022-02-25T17:09:12.307Z"
   },
   {
    "duration": 10,
    "start_time": "2022-02-25T17:12:16.521Z"
   },
   {
    "duration": 4,
    "start_time": "2022-02-25T17:12:27.343Z"
   },
   {
    "duration": 12,
    "start_time": "2022-02-25T17:13:11.193Z"
   },
   {
    "duration": 15,
    "start_time": "2022-02-25T17:13:35.051Z"
   },
   {
    "duration": 12,
    "start_time": "2022-02-25T17:15:06.266Z"
   },
   {
    "duration": 14,
    "start_time": "2022-02-25T17:15:34.459Z"
   },
   {
    "duration": 14,
    "start_time": "2022-02-25T17:16:00.943Z"
   },
   {
    "duration": 102,
    "start_time": "2022-02-25T20:25:16.035Z"
   },
   {
    "duration": 113,
    "start_time": "2022-02-25T20:26:04.005Z"
   },
   {
    "duration": 258,
    "start_time": "2022-02-25T20:26:31.890Z"
   },
   {
    "duration": 283,
    "start_time": "2022-02-25T20:26:43.404Z"
   },
   {
    "duration": 268,
    "start_time": "2022-02-25T20:29:06.888Z"
   },
   {
    "duration": 4,
    "start_time": "2022-02-25T20:29:30.091Z"
   },
   {
    "duration": 7301,
    "start_time": "2022-02-25T20:32:31.846Z"
   },
   {
    "duration": 690,
    "start_time": "2022-02-25T20:35:12.110Z"
   },
   {
    "duration": 608,
    "start_time": "2022-02-25T20:35:23.954Z"
   },
   {
    "duration": 146,
    "start_time": "2022-02-25T20:36:21.989Z"
   },
   {
    "duration": 104,
    "start_time": "2022-02-25T20:37:04.745Z"
   },
   {
    "duration": 293,
    "start_time": "2022-02-25T20:37:16.456Z"
   },
   {
    "duration": 5,
    "start_time": "2022-02-25T20:37:41.405Z"
   },
   {
    "duration": 9005,
    "start_time": "2022-02-25T20:37:47.028Z"
   },
   {
    "duration": 4,
    "start_time": "2022-02-25T20:41:09.029Z"
   },
   {
    "duration": 26,
    "start_time": "2022-02-25T20:41:14.522Z"
   },
   {
    "duration": 21,
    "start_time": "2022-02-25T20:54:59.490Z"
   },
   {
    "duration": 23,
    "start_time": "2022-02-25T20:59:03.491Z"
   },
   {
    "duration": 19,
    "start_time": "2022-02-25T20:59:33.380Z"
   },
   {
    "duration": 27,
    "start_time": "2022-02-25T21:00:11.147Z"
   },
   {
    "duration": 24,
    "start_time": "2022-02-25T21:01:05.378Z"
   },
   {
    "duration": 21,
    "start_time": "2022-02-25T21:01:12.926Z"
   },
   {
    "duration": 5,
    "start_time": "2022-02-25T21:02:11.441Z"
   },
   {
    "duration": 24,
    "start_time": "2022-02-25T21:02:16.852Z"
   },
   {
    "duration": 24,
    "start_time": "2022-02-25T21:04:17.566Z"
   },
   {
    "duration": 5,
    "start_time": "2022-02-25T21:06:13.746Z"
   },
   {
    "duration": 17,
    "start_time": "2022-02-25T21:06:17.019Z"
   },
   {
    "duration": 16,
    "start_time": "2022-02-25T21:06:19.906Z"
   },
   {
    "duration": 16,
    "start_time": "2022-02-25T21:06:22.068Z"
   },
   {
    "duration": 15,
    "start_time": "2022-02-25T21:06:23.937Z"
   },
   {
    "duration": 18,
    "start_time": "2022-02-25T21:06:25.915Z"
   },
   {
    "duration": 15,
    "start_time": "2022-02-25T21:06:27.791Z"
   },
   {
    "duration": 4,
    "start_time": "2022-02-25T21:06:53.474Z"
   },
   {
    "duration": 18,
    "start_time": "2022-02-25T21:06:55.380Z"
   },
   {
    "duration": 7,
    "start_time": "2022-02-25T21:14:57.237Z"
   },
   {
    "duration": 23,
    "start_time": "2022-02-25T21:18:24.989Z"
   },
   {
    "duration": 74,
    "start_time": "2022-02-25T21:21:04.239Z"
   },
   {
    "duration": 77,
    "start_time": "2022-02-25T21:22:04.973Z"
   },
   {
    "duration": 18,
    "start_time": "2022-02-25T21:26:46.744Z"
   },
   {
    "duration": 17,
    "start_time": "2022-02-25T21:27:44.438Z"
   },
   {
    "duration": 124,
    "start_time": "2022-02-25T21:37:18.042Z"
   },
   {
    "duration": 588,
    "start_time": "2022-02-25T21:37:54.958Z"
   },
   {
    "duration": 287,
    "start_time": "2022-02-25T21:40:37.027Z"
   },
   {
    "duration": 4,
    "start_time": "2022-02-25T21:40:42.319Z"
   },
   {
    "duration": 1375,
    "start_time": "2022-02-25T21:41:54.724Z"
   },
   {
    "duration": 8076,
    "start_time": "2022-02-25T21:42:48.875Z"
   },
   {
    "duration": 4,
    "start_time": "2022-02-25T21:43:30.563Z"
   },
   {
    "duration": 605,
    "start_time": "2022-02-25T21:43:34.235Z"
   },
   {
    "duration": 6,
    "start_time": "2022-02-25T21:43:50.660Z"
   },
   {
    "duration": 549,
    "start_time": "2022-02-25T21:43:53.696Z"
   },
   {
    "duration": 5,
    "start_time": "2022-02-25T21:44:21.743Z"
   },
   {
    "duration": 672,
    "start_time": "2022-02-25T21:44:24.230Z"
   },
   {
    "duration": 531,
    "start_time": "2022-02-25T21:45:44.857Z"
   },
   {
    "duration": 4,
    "start_time": "2022-02-25T21:45:50.049Z"
   },
   {
    "duration": 546,
    "start_time": "2022-02-25T21:50:21.000Z"
   },
   {
    "duration": 101,
    "start_time": "2022-02-25T21:51:00.070Z"
   },
   {
    "duration": 540,
    "start_time": "2022-02-25T21:51:16.936Z"
   },
   {
    "duration": 4,
    "start_time": "2022-02-25T21:57:57.386Z"
   },
   {
    "duration": 610,
    "start_time": "2022-02-25T21:58:00.081Z"
   },
   {
    "duration": 4,
    "start_time": "2022-02-25T21:59:12.018Z"
   },
   {
    "duration": 548,
    "start_time": "2022-02-25T21:59:14.872Z"
   },
   {
    "duration": 5,
    "start_time": "2022-02-25T22:00:14.257Z"
   },
   {
    "duration": 24,
    "start_time": "2022-02-25T22:00:16.464Z"
   },
   {
    "duration": 278,
    "start_time": "2022-02-25T22:02:01.497Z"
   },
   {
    "duration": 558,
    "start_time": "2022-02-25T22:02:06.740Z"
   },
   {
    "duration": 15,
    "start_time": "2022-02-25T22:02:12.679Z"
   },
   {
    "duration": 90,
    "start_time": "2022-02-25T22:03:48.042Z"
   },
   {
    "duration": 101,
    "start_time": "2022-02-25T22:05:04.586Z"
   },
   {
    "duration": 677,
    "start_time": "2022-02-25T22:05:20.640Z"
   },
   {
    "duration": 96,
    "start_time": "2022-02-25T22:06:42.999Z"
   },
   {
    "duration": 4,
    "start_time": "2022-02-25T22:06:56.086Z"
   },
   {
    "duration": 22,
    "start_time": "2022-02-25T22:06:58.614Z"
   },
   {
    "duration": 4,
    "start_time": "2022-02-25T22:07:24.418Z"
   },
   {
    "duration": 752,
    "start_time": "2022-02-25T22:07:27.453Z"
   },
   {
    "duration": 4,
    "start_time": "2022-02-25T22:07:41.237Z"
   },
   {
    "duration": 21,
    "start_time": "2022-02-25T22:07:43.606Z"
   },
   {
    "duration": 5,
    "start_time": "2022-02-25T22:10:45.773Z"
   },
   {
    "duration": 20,
    "start_time": "2022-02-25T22:10:48.183Z"
   },
   {
    "duration": 4,
    "start_time": "2022-02-25T22:12:26.090Z"
   },
   {
    "duration": 22,
    "start_time": "2022-02-25T22:12:28.935Z"
   },
   {
    "duration": 15,
    "start_time": "2022-02-25T22:12:55.482Z"
   },
   {
    "duration": 5,
    "start_time": "2022-02-25T22:15:43.427Z"
   },
   {
    "duration": 23,
    "start_time": "2022-02-25T22:15:45.853Z"
   },
   {
    "duration": 5,
    "start_time": "2022-02-25T22:16:47.170Z"
   },
   {
    "duration": 22,
    "start_time": "2022-02-25T22:16:50.095Z"
   },
   {
    "duration": 5,
    "start_time": "2022-02-25T22:19:41.891Z"
   },
   {
    "duration": 555,
    "start_time": "2022-02-25T22:19:46.008Z"
   },
   {
    "duration": 5,
    "start_time": "2022-02-25T22:21:01.342Z"
   },
   {
    "duration": 590,
    "start_time": "2022-02-25T22:21:04.551Z"
   },
   {
    "duration": 4,
    "start_time": "2022-02-25T22:21:38.720Z"
   },
   {
    "duration": 7673,
    "start_time": "2022-02-25T22:21:41.826Z"
   },
   {
    "duration": 5,
    "start_time": "2022-02-25T22:22:22.441Z"
   },
   {
    "duration": 556,
    "start_time": "2022-02-25T22:22:24.835Z"
   },
   {
    "duration": 9,
    "start_time": "2022-02-25T22:22:49.882Z"
   },
   {
    "duration": 22,
    "start_time": "2022-02-25T22:22:52.545Z"
   },
   {
    "duration": 4,
    "start_time": "2022-02-25T22:26:15.774Z"
   },
   {
    "duration": 546,
    "start_time": "2022-02-25T22:26:20.124Z"
   },
   {
    "duration": 4,
    "start_time": "2022-02-25T22:26:43.038Z"
   },
   {
    "duration": 549,
    "start_time": "2022-02-25T22:26:58.696Z"
   },
   {
    "duration": 4,
    "start_time": "2022-02-25T22:27:55.644Z"
   },
   {
    "duration": 564,
    "start_time": "2022-02-25T22:27:58.736Z"
   },
   {
    "duration": 5,
    "start_time": "2022-02-25T22:28:23.372Z"
   },
   {
    "duration": 22,
    "start_time": "2022-02-25T22:28:26.472Z"
   },
   {
    "duration": 4,
    "start_time": "2022-02-25T22:28:32.663Z"
   },
   {
    "duration": 22,
    "start_time": "2022-02-25T22:28:34.887Z"
   },
   {
    "duration": 291,
    "start_time": "2022-02-25T22:28:58.811Z"
   },
   {
    "duration": 42,
    "start_time": "2022-02-25T22:29:19.166Z"
   },
   {
    "duration": 279,
    "start_time": "2022-02-25T22:34:04.442Z"
   },
   {
    "duration": 32,
    "start_time": "2022-02-25T22:35:49.172Z"
   },
   {
    "duration": 10,
    "start_time": "2022-02-25T22:36:16.282Z"
   },
   {
    "duration": 10,
    "start_time": "2022-02-25T22:36:38.882Z"
   },
   {
    "duration": 11,
    "start_time": "2022-02-25T22:36:47.518Z"
   },
   {
    "duration": 11,
    "start_time": "2022-02-25T22:39:17.321Z"
   },
   {
    "duration": 14,
    "start_time": "2022-02-25T22:39:23.198Z"
   },
   {
    "duration": 12,
    "start_time": "2022-02-25T22:39:40.408Z"
   },
   {
    "duration": 11,
    "start_time": "2022-02-25T22:40:43.456Z"
   },
   {
    "duration": 20,
    "start_time": "2022-02-25T22:42:01.302Z"
   },
   {
    "duration": 23,
    "start_time": "2022-02-25T22:42:26.146Z"
   },
   {
    "duration": 16,
    "start_time": "2022-02-25T22:42:47.331Z"
   },
   {
    "duration": 8,
    "start_time": "2022-02-25T22:47:54.099Z"
   },
   {
    "duration": 10,
    "start_time": "2022-02-25T22:48:02.352Z"
   },
   {
    "duration": 266,
    "start_time": "2022-02-25T22:48:52.847Z"
   },
   {
    "duration": 12,
    "start_time": "2022-02-25T22:49:01.390Z"
   },
   {
    "duration": 12,
    "start_time": "2022-02-25T22:49:03.919Z"
   },
   {
    "duration": 295,
    "start_time": "2022-02-25T22:49:37.306Z"
   },
   {
    "duration": 5,
    "start_time": "2022-02-25T22:49:49.874Z"
   },
   {
    "duration": 8,
    "start_time": "2022-02-25T22:50:46.278Z"
   },
   {
    "duration": 5,
    "start_time": "2022-02-25T22:50:58.663Z"
   },
   {
    "duration": 74,
    "start_time": "2022-02-28T05:15:14.573Z"
   },
   {
    "duration": 64,
    "start_time": "2022-02-28T05:16:13.569Z"
   },
   {
    "duration": 285,
    "start_time": "2022-02-28T15:37:40.148Z"
   },
   {
    "duration": 217,
    "start_time": "2022-02-28T15:38:15.892Z"
   },
   {
    "duration": 708,
    "start_time": "2022-02-28T15:38:27.014Z"
   },
   {
    "duration": 724,
    "start_time": "2022-02-28T15:38:29.836Z"
   },
   {
    "duration": 16,
    "start_time": "2022-02-28T15:38:31.644Z"
   },
   {
    "duration": 30,
    "start_time": "2022-02-28T15:38:33.530Z"
   },
   {
    "duration": 4,
    "start_time": "2022-02-28T15:38:36.997Z"
   },
   {
    "duration": 23,
    "start_time": "2022-02-28T15:38:38.592Z"
   },
   {
    "duration": 4,
    "start_time": "2022-02-28T15:38:40.274Z"
   },
   {
    "duration": 28,
    "start_time": "2022-02-28T15:38:41.736Z"
   },
   {
    "duration": 26,
    "start_time": "2022-02-28T15:38:43.359Z"
   },
   {
    "duration": 18,
    "start_time": "2022-02-28T15:38:46.500Z"
   },
   {
    "duration": 28,
    "start_time": "2022-02-28T15:38:48.263Z"
   },
   {
    "duration": 73,
    "start_time": "2022-02-28T15:38:49.930Z"
   },
   {
    "duration": 89,
    "start_time": "2022-02-28T15:38:51.496Z"
   },
   {
    "duration": 69,
    "start_time": "2022-02-28T15:38:52.388Z"
   },
   {
    "duration": 9,
    "start_time": "2022-02-28T15:38:54.532Z"
   },
   {
    "duration": 4,
    "start_time": "2022-02-28T15:39:00.184Z"
   },
   {
    "duration": 16,
    "start_time": "2022-02-28T15:39:03.350Z"
   },
   {
    "duration": 9,
    "start_time": "2022-02-28T15:39:06.135Z"
   },
   {
    "duration": 234,
    "start_time": "2022-02-28T15:39:09.544Z"
   },
   {
    "duration": 264,
    "start_time": "2022-02-28T15:40:25.762Z"
   },
   {
    "duration": 218,
    "start_time": "2022-02-28T15:40:46.976Z"
   },
   {
    "duration": 8,
    "start_time": "2022-02-28T15:42:07.250Z"
   },
   {
    "duration": 9,
    "start_time": "2022-02-28T15:42:51.457Z"
   },
   {
    "duration": 222,
    "start_time": "2022-02-28T15:43:01.794Z"
   },
   {
    "duration": 8,
    "start_time": "2022-02-28T15:43:20.748Z"
   },
   {
    "duration": 8,
    "start_time": "2022-02-28T15:43:31.594Z"
   },
   {
    "duration": 8,
    "start_time": "2022-02-28T15:43:47.473Z"
   },
   {
    "duration": 230,
    "start_time": "2022-02-28T15:45:04.219Z"
   },
   {
    "duration": 7,
    "start_time": "2022-02-28T15:45:45.965Z"
   },
   {
    "duration": 8,
    "start_time": "2022-02-28T15:46:07.094Z"
   },
   {
    "duration": 9,
    "start_time": "2022-02-28T15:46:19.721Z"
   },
   {
    "duration": 75,
    "start_time": "2022-02-28T15:46:41.461Z"
   },
   {
    "duration": 8,
    "start_time": "2022-02-28T15:46:45.853Z"
   },
   {
    "duration": 8,
    "start_time": "2022-02-28T15:47:23.347Z"
   },
   {
    "duration": 8,
    "start_time": "2022-02-28T15:48:16.691Z"
   }
  ],
  "colab": {
   "collapsed_sections": [
    "E0vqbgi9ay0H",
    "VUC88oWjTJw2",
    "atZAxtq4_Zcu"
   ],
   "name": "EmptyFinalProject.ipynb\"",
   "provenance": []
  },
  "kernelspec": {
   "display_name": "Python 3 (ipykernel)",
   "language": "python",
   "name": "python3"
  },
  "language_info": {
   "codemirror_mode": {
    "name": "ipython",
    "version": 3
   },
   "file_extension": ".py",
   "mimetype": "text/x-python",
   "name": "python",
   "nbconvert_exporter": "python",
   "pygments_lexer": "ipython3",
   "version": "3.9.5"
  },
  "toc": {
   "base_numbering": 1,
   "nav_menu": {},
   "number_sections": true,
   "sideBar": true,
   "skip_h1_title": true,
   "title_cell": "Table of Contents",
   "title_sidebar": "Contents",
   "toc_cell": false,
   "toc_position": {},
   "toc_section_display": true,
   "toc_window_display": false
  }
 },
 "nbformat": 4,
 "nbformat_minor": 4
}
