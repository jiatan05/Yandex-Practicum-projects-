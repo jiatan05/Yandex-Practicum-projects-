{
 "cells": [
  {
   "cell_type": "markdown",
   "metadata": {},
   "source": [
    "# Analyzing borrowers’ risk of defaulting\n"
   ]
  },
  {
   "cell_type": "markdown",
   "metadata": {},
   "source": [
    "## Introduction\n",
    "\n",
    "This report verifies whether a customer will default on a loan is depending on their martial status and number of children they have. This report will serve as a reference for building a credit score for a potential customer, as a credit score is used to evulate the ability of a potential borrower to repay their loan.  \n",
    "\n",
    "### Goal:\n",
    "\n",
    "This report will test four hypotheses listed below:\n",
    "1. There is an association between having kids and repaying a loan on time. \n",
    "2. There is an association between marital status and repaying a loan on time. \n",
    "3. There is an association between income level and repaying a loan on time. \n",
    "4. Different loan purposes affect on-time loan repayment.\n",
    "\n",
    "### Stages:\n",
    "\n",
    "This project will consit of the following stages:\n",
    "1. Data overview\n",
    "2. Data preprocessing\n",
    "3. Working with missing values\n",
    "4. Categorizing data\n",
    "5. Hypotheses testing\n",
    "\n"
   ]
  },
  {
   "cell_type": "markdown",
   "metadata": {},
   "source": [
    "## Stage 1. Data overview. \n",
    "\n"
   ]
  },
  {
   "cell_type": "markdown",
   "metadata": {},
   "source": [
    "\n",
    "\n",
    "Open the data file and have a look at the general information. \n",
    "\n"
   ]
  },
  {
   "cell_type": "code",
   "execution_count": 1,
   "metadata": {},
   "outputs": [],
   "source": [
    "# Loading all the libraries\n",
    "import pandas as pd\n",
    "\n",
    "# Load the data\n",
    "\n",
    "score = pd.read_csv('/datasets/credit_scoring_eng.csv')\n"
   ]
  },
  {
   "cell_type": "code",
   "execution_count": 2,
   "metadata": {},
   "outputs": [
    {
     "name": "stdout",
     "output_type": "stream",
     "text": [
      "(21525, 12)\n"
     ]
    }
   ],
   "source": [
    "# Let's see how many rows and columns our dataset has\n",
    "\n",
    "print(score.shape)"
   ]
  },
  {
   "cell_type": "code",
   "execution_count": 3,
   "metadata": {
    "scrolled": true
   },
   "outputs": [
    {
     "name": "stdout",
     "output_type": "stream",
     "text": [
      "    children  days_employed  dob_years            education  education_id  \\\n",
      "0          1   -8437.673028         42    bachelor's degree             0   \n",
      "1          1   -4024.803754         36  secondary education             1   \n",
      "2          0   -5623.422610         33  Secondary Education             1   \n",
      "3          3   -4124.747207         32  secondary education             1   \n",
      "4          0  340266.072047         53  secondary education             1   \n",
      "5          0    -926.185831         27    bachelor's degree             0   \n",
      "6          0   -2879.202052         43    bachelor's degree             0   \n",
      "7          0    -152.779569         50  SECONDARY EDUCATION             1   \n",
      "8          2   -6929.865299         35    BACHELOR'S DEGREE             0   \n",
      "9          0   -2188.756445         41  secondary education             1   \n",
      "10         2   -4171.483647         36    bachelor's degree             0   \n",
      "11         0    -792.701887         40  secondary education             1   \n",
      "12         0            NaN         65  secondary education             1   \n",
      "13         0   -1846.641941         54         some college             2   \n",
      "14         0   -1844.956182         56    bachelor's degree             0   \n",
      "15         1    -972.364419         26  secondary education             1   \n",
      "16         0   -1719.934226         35  secondary education             1   \n",
      "17         0   -2369.999720         33    bachelor's degree             0   \n",
      "18         0  400281.136913         53  secondary education             1   \n",
      "19         0  -10038.818549         48  SECONDARY EDUCATION             1   \n",
      "\n",
      "        family_status  family_status_id gender income_type  debt  \\\n",
      "0             married                 0      F    employee     0   \n",
      "1             married                 0      F    employee     0   \n",
      "2             married                 0      M    employee     0   \n",
      "3             married                 0      M    employee     0   \n",
      "4   civil partnership                 1      F     retiree     0   \n",
      "5   civil partnership                 1      M    business     0   \n",
      "6             married                 0      F    business     0   \n",
      "7             married                 0      M    employee     0   \n",
      "8   civil partnership                 1      F    employee     0   \n",
      "9             married                 0      M    employee     0   \n",
      "10            married                 0      M    business     0   \n",
      "11            married                 0      F    employee     0   \n",
      "12  civil partnership                 1      M     retiree     0   \n",
      "13            married                 0      F    employee     0   \n",
      "14  civil partnership                 1      F    business     1   \n",
      "15            married                 0      F    employee     0   \n",
      "16            married                 0      F    employee     0   \n",
      "17  civil partnership                 1      M    employee     0   \n",
      "18    widow / widower                 2      F     retiree     0   \n",
      "19           divorced                 3      F    employee     0   \n",
      "\n",
      "    total_income                              purpose  \n",
      "0      40620.102                purchase of the house  \n",
      "1      17932.802                         car purchase  \n",
      "2      23341.752                purchase of the house  \n",
      "3      42820.568              supplementary education  \n",
      "4      25378.572                    to have a wedding  \n",
      "5      40922.170                purchase of the house  \n",
      "6      38484.156                 housing transactions  \n",
      "7      21731.829                            education  \n",
      "8      15337.093                     having a wedding  \n",
      "9      23108.150  purchase of the house for my family  \n",
      "10     18230.959                      buy real estate  \n",
      "11     12331.077           buy commercial real estate  \n",
      "12           NaN                    to have a wedding  \n",
      "13     20873.317                         car purchase  \n",
      "14     26420.466          buy residential real estate  \n",
      "15     18691.345         construction of own property  \n",
      "16     46272.433                             property  \n",
      "17     14465.694                  building a property  \n",
      "18      9091.804             buying a second-hand car  \n",
      "19     38852.977                    buying my own car  \n"
     ]
    }
   ],
   "source": [
    "# let's print the first 20 rows\n",
    "\n",
    "print(score.head(20))"
   ]
  },
  {
   "cell_type": "code",
   "execution_count": 4,
   "metadata": {
    "scrolled": true
   },
   "outputs": [
    {
     "name": "stdout",
     "output_type": "stream",
     "text": [
      "<class 'pandas.core.frame.DataFrame'>\n",
      "RangeIndex: 21525 entries, 0 to 21524\n",
      "Data columns (total 12 columns):\n",
      " #   Column            Non-Null Count  Dtype  \n",
      "---  ------            --------------  -----  \n",
      " 0   children          21525 non-null  int64  \n",
      " 1   days_employed     19351 non-null  float64\n",
      " 2   dob_years         21525 non-null  int64  \n",
      " 3   education         21525 non-null  object \n",
      " 4   education_id      21525 non-null  int64  \n",
      " 5   family_status     21525 non-null  object \n",
      " 6   family_status_id  21525 non-null  int64  \n",
      " 7   gender            21525 non-null  object \n",
      " 8   income_type       21525 non-null  object \n",
      " 9   debt              21525 non-null  int64  \n",
      " 10  total_income      19351 non-null  float64\n",
      " 11  purpose           21525 non-null  object \n",
      "dtypes: float64(2), int64(5), object(5)\n",
      "memory usage: 2.0+ MB\n"
     ]
    }
   ],
   "source": [
    "# Get info on data\n",
    "score.info()"
   ]
  },
  {
   "cell_type": "markdown",
   "metadata": {},
   "source": [
    "This dataset contains 12 columns and 21525 rows. \n",
    "\n",
    "**Description of the data**\n",
    "- `children` - the number of children in the family\n",
    "- `days_employed` - work experience in days\n",
    "- `dob_years` - client's age in years\n",
    "- `education` - client's education\n",
    "- `education_id` - education identifier\n",
    "- `family_status` - marital status\n",
    "- `family_status_id` - marital status identifier\n",
    "- `gender` - gender of the client\n",
    "- `income_type` - type of employment\n",
    "- `debt` - was there any debt on loan repayment\n",
    "- `total_income` - monthly income\n",
    "- `purpose` - the purpose of obtaining a loan\n",
    "\n",
    "\n",
    "we can see there are several issues with this dataset:\n",
    "1. Potential missing values in columns 'days_employed' and 'total_income'. \n",
    "2. Some entries in 'education' appeared to be capitalized, although they are referring to the same value.\n",
    "3. Description of 'purpose' is unclear, different terms were used to described the same purpose.\n",
    "\n"
   ]
  },
  {
   "cell_type": "markdown",
   "metadata": {},
   "source": [
    "<div class=\"alert alert-block alert-success\">\n",
    "<b>Reviewer's comment v1</b>  Correct"
   ]
  },
  {
   "cell_type": "code",
   "execution_count": 5,
   "metadata": {
    "scrolled": false
   },
   "outputs": [
    {
     "name": "stdout",
     "output_type": "stream",
     "text": [
      "False    19351\n",
      "True      2174\n",
      "Name: days_employed, dtype: int64\n"
     ]
    }
   ],
   "source": [
    "# Let's look in the filtered table at the the first column with missing data\n",
    "\n",
    "print(score['days_employed'].isna().value_counts(dropna=False))"
   ]
  },
  {
   "cell_type": "code",
   "execution_count": 6,
   "metadata": {
    "scrolled": true
   },
   "outputs": [
    {
     "name": "stdout",
     "output_type": "stream",
     "text": [
      "children               0\n",
      "days_employed       2174\n",
      "dob_years              0\n",
      "education              0\n",
      "education_id           0\n",
      "family_status          0\n",
      "family_status_id       0\n",
      "gender                 0\n",
      "income_type            0\n",
      "debt                   0\n",
      "total_income        2174\n",
      "purpose                0\n",
      "dtype: int64\n"
     ]
    }
   ],
   "source": [
    "# To see the total missing value in the dataframe\n",
    "\n",
    "print(score.isna().sum())"
   ]
  },
  {
   "cell_type": "markdown",
   "metadata": {},
   "source": [
    "Although the total number of missing values appeared to be the same in 'days_empolyed' and 'total_income', we cannot simply assume that they are related. Further conditional filtering is required. "
   ]
  },
  {
   "cell_type": "code",
   "execution_count": 7,
   "metadata": {},
   "outputs": [
    {
     "name": "stdout",
     "output_type": "stream",
     "text": [
      "81\n",
      "2174\n",
      "1761\n",
      "1237\n",
      "1439\n",
      "1630\n",
      "2004\n"
     ]
    }
   ],
   "source": [
    "# Let's apply multiple conditions for filtering data and look at the number of rows in the filtered table.\n",
    "\n",
    "print(len(score[(score['days_employed'].isna()) & (score['dob_years'] >= 65)]))\n",
    "\n",
    "print(len(score[(score['days_employed'].isna()) & (score['total_income'].isna())]))\n",
    "\n",
    "print(len(score[(score['income_type'] != 'retiree') & (score['days_employed'].isna())]))\n",
    "\n",
    "print(len(score[(score['family_status_id'] == 0) & (score['days_employed'].isna())]))\n",
    "\n",
    "print(len(score[(score['children'] == 0) & (score['days_employed'].isna())]))\n",
    "\n",
    "print(len(score[(score['education_id'] !=0) & (score['days_employed'].isna())]))\n",
    "\n",
    "print(len(score[(score['debt'] != 1) & (score['days_employed'].isna())]))"
   ]
  },
  {
   "cell_type": "markdown",
   "metadata": {},
   "source": [
    "Based on the result of filtering with conditions, missing values in column 'days_employed' and 'total_income' are the same size. However, that only means that whenever there is a missing value in 'days_empolyed', a missing value is also observed in 'total_income'. The missing values in both columns could potentially be explained by other client characterstics. In which, multiple logical conditions were applied. It appeared that 2004 of the missing values correlate with cilents that do not have any debt. 1761 correlates with cilents that are not retiree, 1630 with clients that do not have a bachelor degree, follow by 1237 with cilents are legally married, and 1439 with cilents that have no children.   \n",
    "\n",
    "From the filtering it appeared that the missing values might be random. However, further investigations are required. \n",
    "\n"
   ]
  },
  {
   "cell_type": "code",
   "execution_count": 8,
   "metadata": {},
   "outputs": [
    {
     "name": "stdout",
     "output_type": "stream",
     "text": [
      "children             0.000000\n",
      "days_employed       10.099884\n",
      "dob_years            0.000000\n",
      "education            0.000000\n",
      "education_id         0.000000\n",
      "family_status        0.000000\n",
      "family_status_id     0.000000\n",
      "gender               0.000000\n",
      "income_type          0.000000\n",
      "debt                 0.000000\n",
      "total_income        10.099884\n",
      "purpose              0.000000\n",
      "dtype: float64\n"
     ]
    }
   ],
   "source": [
    "# percentage of the missing values compared to the whole dataset.\n",
    "print(score.isna().sum()*100 / len(score))\n"
   ]
  },
  {
   "cell_type": "markdown",
   "metadata": {},
   "source": [
    "**Intermediate conclusion**\n",
    "\n",
    "\n",
    "\n",
    "Filtering with conditions showed that missing values in column'days_employed' and 'total_income' appeared to be the same size. This leads to the suspicion of that the missing values in 'days_employed' might be due to that they have no income or vice-versa. Therefore they are not able to record any response. If this theory is true, then we should have a missing 'days_employed' value for every respondent who also does not have an income (missing value 'NaN'). As what the next step will be testing, the return for unique value should be 'nan'. However, I would also want to the test the relationship between educational level and missing value in both \"total_income' and 'days_employed'. Since a large portion of missing value appeared to be associated with educational level.  \n",
    "\n",
    "The dependence that missing value might have on the value of other indicators with the columns with identified specific client characteristic will also be tested by checking the distribution. Thus, checking the randomness of missing data. Whether the distribution of the rows with missing values has similar appearance as the whole dataset.  \n",
    "\n",
    "Additionally, the calculated percentage of the missing values compared to the whole dataset is ~10.1%. Whether we should fill the missing values remains to be determined, this will depend whether they are randomly missing.   \n"
   ]
  },
  {
   "cell_type": "code",
   "execution_count": 9,
   "metadata": {
    "scrolled": true
   },
   "outputs": [
    {
     "name": "stdout",
     "output_type": "stream",
     "text": [
      "[nan]\n"
     ]
    }
   ],
   "source": [
    "# Let's investigate clients who do not have data on identified characteristic and the column with the missing values\n",
    "print(score[score['days_employed'].isna()]['total_income'].unique())\n"
   ]
  },
  {
   "cell_type": "markdown",
   "metadata": {},
   "source": [
    "Confirming that when there is a missing value in 'days_employed', a missing value is also observed in 'toatl_income' and vice versa. Next to test the association between 'education_id' and 'days_employed'/'total_income'. "
   ]
  },
  {
   "cell_type": "code",
   "execution_count": 10,
   "metadata": {},
   "outputs": [
    {
     "name": "stdout",
     "output_type": "stream",
     "text": [
      "1    1540\n",
      "0     544\n",
      "2      69\n",
      "3      21\n",
      "Name: education_id, dtype: int64\n",
      "1    1540\n",
      "0     544\n",
      "2      69\n",
      "3      21\n",
      "Name: education_id, dtype: int64\n"
     ]
    }
   ],
   "source": [
    "# Investigating cilents who do not have data on identified characterstics and the column with the missing values. \n",
    "\n",
    "print(score[score['days_employed'].isna()]['education_id'].value_counts())\n",
    "print(score[score['total_income'].isna()]['education_id'].value_counts())"
   ]
  },
  {
   "cell_type": "code",
   "execution_count": 11,
   "metadata": {
    "scrolled": false
   },
   "outputs": [
    {
     "name": "stdout",
     "output_type": "stream",
     "text": [
      "1    1540\n",
      "0     544\n",
      "2      69\n",
      "3      21\n",
      "Name: education_id, dtype: int64\n",
      "1    1540\n",
      "0     544\n",
      "2      69\n",
      "3      21\n",
      "Name: education_id, dtype: int64\n"
     ]
    }
   ],
   "source": [
    "# Checking distribution\n",
    "print(score[score['days_employed'].isna()]['education_id'].value_counts())\n",
    "print(score[score['total_income'].isna()]['education_id'].value_counts())\n"
   ]
  },
  {
   "cell_type": "markdown",
   "metadata": {},
   "source": [
    "\n",
    "\n",
    "It appeared that educational_id = 1 has the made up most of the missing values, therefore, clients with secondary education is more often to have a missing value in 'days_employed' and 'total_income'. \n",
    "\n",
    "\n",
    "**Possible reasons for missing values in data**\n",
    "\n",
    "The possible reason for the missing value could be due to not having much education as others, although that does not account for all of the missing values. Therefore the missing values might be random. \n",
    "\n",
    "The randomness of the missing data will be tested in the following steps. \n",
    "\n"
   ]
  },
  {
   "cell_type": "code",
   "execution_count": 12,
   "metadata": {},
   "outputs": [
    {
     "name": "stdout",
     "output_type": "stream",
     "text": [
      "1    1540\n",
      "0     544\n",
      "2      69\n",
      "3      21\n",
      "Name: education_id, dtype: int64\n",
      " 0     1439\n",
      " 1      475\n",
      " 2      204\n",
      " 3       36\n",
      " 20       9\n",
      " 4        7\n",
      "-1        3\n",
      " 5        1\n",
      "Name: children, dtype: int64\n",
      "employee         1105\n",
      "business          508\n",
      "retiree           413\n",
      "civil servant     147\n",
      "entrepreneur        1\n",
      "Name: income_type, dtype: int64\n",
      "married              1237\n",
      "civil partnership     442\n",
      "unmarried             288\n",
      "divorced              112\n",
      "widow / widower        95\n",
      "Name: family_status, dtype: int64\n",
      "0    2004\n",
      "1     170\n",
      "Name: debt, dtype: int64\n",
      "F    1484\n",
      "M     690\n",
      "Name: gender, dtype: int64\n"
     ]
    },
    {
     "data": {
      "text/html": [
       "<div>\n",
       "<style scoped>\n",
       "    .dataframe tbody tr th:only-of-type {\n",
       "        vertical-align: middle;\n",
       "    }\n",
       "\n",
       "    .dataframe tbody tr th {\n",
       "        vertical-align: top;\n",
       "    }\n",
       "\n",
       "    .dataframe thead th {\n",
       "        text-align: right;\n",
       "    }\n",
       "</style>\n",
       "<table border=\"1\" class=\"dataframe\">\n",
       "  <thead>\n",
       "    <tr style=\"text-align: right;\">\n",
       "      <th></th>\n",
       "      <th>children</th>\n",
       "      <th>days_employed</th>\n",
       "      <th>dob_years</th>\n",
       "      <th>education_id</th>\n",
       "      <th>family_status_id</th>\n",
       "      <th>debt</th>\n",
       "      <th>total_income</th>\n",
       "    </tr>\n",
       "  </thead>\n",
       "  <tbody>\n",
       "    <tr>\n",
       "      <th>count</th>\n",
       "      <td>21525.000000</td>\n",
       "      <td>19351.000000</td>\n",
       "      <td>21525.000000</td>\n",
       "      <td>21525.000000</td>\n",
       "      <td>21525.000000</td>\n",
       "      <td>21525.000000</td>\n",
       "      <td>19351.000000</td>\n",
       "    </tr>\n",
       "    <tr>\n",
       "      <th>mean</th>\n",
       "      <td>0.538908</td>\n",
       "      <td>63046.497661</td>\n",
       "      <td>43.293380</td>\n",
       "      <td>0.817236</td>\n",
       "      <td>0.972544</td>\n",
       "      <td>0.080883</td>\n",
       "      <td>26787.568355</td>\n",
       "    </tr>\n",
       "    <tr>\n",
       "      <th>std</th>\n",
       "      <td>1.381587</td>\n",
       "      <td>140827.311974</td>\n",
       "      <td>12.574584</td>\n",
       "      <td>0.548138</td>\n",
       "      <td>1.420324</td>\n",
       "      <td>0.272661</td>\n",
       "      <td>16475.450632</td>\n",
       "    </tr>\n",
       "    <tr>\n",
       "      <th>min</th>\n",
       "      <td>-1.000000</td>\n",
       "      <td>-18388.949901</td>\n",
       "      <td>0.000000</td>\n",
       "      <td>0.000000</td>\n",
       "      <td>0.000000</td>\n",
       "      <td>0.000000</td>\n",
       "      <td>3306.762000</td>\n",
       "    </tr>\n",
       "    <tr>\n",
       "      <th>25%</th>\n",
       "      <td>0.000000</td>\n",
       "      <td>-2747.423625</td>\n",
       "      <td>33.000000</td>\n",
       "      <td>1.000000</td>\n",
       "      <td>0.000000</td>\n",
       "      <td>0.000000</td>\n",
       "      <td>16488.504500</td>\n",
       "    </tr>\n",
       "    <tr>\n",
       "      <th>50%</th>\n",
       "      <td>0.000000</td>\n",
       "      <td>-1203.369529</td>\n",
       "      <td>42.000000</td>\n",
       "      <td>1.000000</td>\n",
       "      <td>0.000000</td>\n",
       "      <td>0.000000</td>\n",
       "      <td>23202.870000</td>\n",
       "    </tr>\n",
       "    <tr>\n",
       "      <th>75%</th>\n",
       "      <td>1.000000</td>\n",
       "      <td>-291.095954</td>\n",
       "      <td>53.000000</td>\n",
       "      <td>1.000000</td>\n",
       "      <td>1.000000</td>\n",
       "      <td>0.000000</td>\n",
       "      <td>32549.611000</td>\n",
       "    </tr>\n",
       "    <tr>\n",
       "      <th>max</th>\n",
       "      <td>20.000000</td>\n",
       "      <td>401755.400475</td>\n",
       "      <td>75.000000</td>\n",
       "      <td>4.000000</td>\n",
       "      <td>4.000000</td>\n",
       "      <td>1.000000</td>\n",
       "      <td>362496.645000</td>\n",
       "    </tr>\n",
       "  </tbody>\n",
       "</table>\n",
       "</div>"
      ],
      "text/plain": [
       "           children  days_employed     dob_years  education_id  \\\n",
       "count  21525.000000   19351.000000  21525.000000  21525.000000   \n",
       "mean       0.538908   63046.497661     43.293380      0.817236   \n",
       "std        1.381587  140827.311974     12.574584      0.548138   \n",
       "min       -1.000000  -18388.949901      0.000000      0.000000   \n",
       "25%        0.000000   -2747.423625     33.000000      1.000000   \n",
       "50%        0.000000   -1203.369529     42.000000      1.000000   \n",
       "75%        1.000000    -291.095954     53.000000      1.000000   \n",
       "max       20.000000  401755.400475     75.000000      4.000000   \n",
       "\n",
       "       family_status_id          debt   total_income  \n",
       "count      21525.000000  21525.000000   19351.000000  \n",
       "mean           0.972544      0.080883   26787.568355  \n",
       "std            1.420324      0.272661   16475.450632  \n",
       "min            0.000000      0.000000    3306.762000  \n",
       "25%            0.000000      0.000000   16488.504500  \n",
       "50%            0.000000      0.000000   23202.870000  \n",
       "75%            1.000000      0.000000   32549.611000  \n",
       "max            4.000000      1.000000  362496.645000  "
      ]
     },
     "execution_count": 12,
     "metadata": {},
     "output_type": "execute_result"
    }
   ],
   "source": [
    "# Checking the distribution in the whole dataset\n",
    "print(score[score['days_employed'].isna()]['education_id'].value_counts())\n",
    "print(score[score['days_employed'].isna()]['children'].value_counts())\n",
    "print(score[score['days_employed'].isna()]['income_type'].value_counts())\n",
    "print(score[score['days_employed'].isna()]['family_status'].value_counts())\n",
    "print(score[score['days_employed'].isna()]['debt'].value_counts())\n",
    "print(score[score['days_employed'].isna()]['gender'].value_counts())\n",
    "\n",
    "score.describe()\n"
   ]
  },
  {
   "cell_type": "markdown",
   "metadata": {},
   "source": [
    "**Intermediate conclusion**\n",
    "\n",
    "\n",
    "\n",
    "Upon the examination of all other categorical columns of the dataset and by calling score.describe(), the distribution of the missing values among those columns appeared to be similar to the filtered table with 'education_id'. The appearance of missing data does not seem to have a pattern. In which a correlation between the missing data and other values in the rows where they appear has not been detected. Suggesting that they are most likely random. \n",
    "\n",
    "Additional checking, with other indicators have been done (see results for all categorical columns). For clarity, they will be listed again for more explanation. \n",
    "\n"
   ]
  },
  {
   "cell_type": "code",
   "execution_count": 13,
   "metadata": {
    "scrolled": false
   },
   "outputs": [
    {
     "name": "stdout",
     "output_type": "stream",
     "text": [
      "0    2004\n",
      "1     170\n",
      "Name: debt, dtype: int64\n"
     ]
    }
   ],
   "source": [
    "# Checking for other patterns - debt\n",
    "\n",
    "print(score[score['days_employed'].isna()]['debt'].value_counts())\n"
   ]
  },
  {
   "cell_type": "code",
   "execution_count": 14,
   "metadata": {
    "scrolled": true
   },
   "outputs": [
    {
     "name": "stdout",
     "output_type": "stream",
     "text": [
      "married              1237\n",
      "civil partnership     442\n",
      "unmarried             288\n",
      "divorced              112\n",
      "widow / widower        95\n",
      "Name: family_status, dtype: int64\n"
     ]
    }
   ],
   "source": [
    "# Checking for other patterns - family_status\n",
    "\n",
    "print(score[score['days_employed'].isna()]['family_status'].value_counts())\n",
    "\n"
   ]
  },
  {
   "cell_type": "markdown",
   "metadata": {},
   "source": [
    "**Intermediate conclusion**\n",
    "\n",
    "Again, no pattern between potential indicator and the missing values are observed. Not all missing values were associated with clients with 'debt' or 'married'. Therefore, suggesting missing values are accidental. \n",
    "\n"
   ]
  },
  {
   "cell_type": "markdown",
   "metadata": {},
   "source": [
    "**Conclusions**\n",
    "\n",
    "\n",
    "To conclude, no patterns between missing values observed in 'days_employed' and 'total_income' and indicators such as 'education_id', 'children', 'family_status', 'debt', 'income_type' were found. The missing values were like to be random and only covers ~10% of the data. Therefore, the most appropriate way to address those values will be to replace them with a value, since they are quantitative. However, whether the datset contains significant outliers should first be determined. Method usage like mean() and median() will depend on the presence of outliers. \n",
    "\n",
    "In the next steps, data will be transformed first by checking duplicates and dropping them. Issues identified by the first glance of the dataset will also be addressed such as different registers, incorrect artifacts. And finally to replace missing values with either mean() or median() using fillna(). \n"
   ]
  },
  {
   "cell_type": "markdown",
   "metadata": {},
   "source": [
    "## Stage 2. Data preprocessing\n",
    "\n",
    "Going through each column and check for potential problems. \n"
   ]
  },
  {
   "cell_type": "markdown",
   "metadata": {},
   "source": [
    "**Starting with 'education' column.**"
   ]
  },
  {
   "cell_type": "code",
   "execution_count": 15,
   "metadata": {
    "scrolled": true
   },
   "outputs": [
    {
     "name": "stdout",
     "output_type": "stream",
     "text": [
      "[\"bachelor's degree\" 'secondary education' 'Secondary Education'\n",
      " 'SECONDARY EDUCATION' \"BACHELOR'S DEGREE\" 'some college'\n",
      " 'primary education' \"Bachelor's Degree\" 'SOME COLLEGE' 'Some College'\n",
      " 'PRIMARY EDUCATION' 'Primary Education' 'Graduate Degree'\n",
      " 'GRADUATE DEGREE' 'graduate degree']\n"
     ]
    }
   ],
   "source": [
    "# Let's see all values in education column to check if and what spellings will need to be fixed\n",
    "\n",
    "print(score['education'].unique())\n"
   ]
  },
  {
   "cell_type": "markdown",
   "metadata": {},
   "source": [
    "Some registers/entries in 'education' appeared to be capitalized(first letter or all-capitalized), although they are referring to the same value"
   ]
  },
  {
   "cell_type": "code",
   "execution_count": 16,
   "metadata": {
    "scrolled": true
   },
   "outputs": [],
   "source": [
    "# Fix the registers using the long way\n",
    "\n",
    "def replace_wrong_registers (wrong, correct):\n",
    "    \n",
    "    #looping over the list\n",
    "    \n",
    "    for wrong in wrong:\n",
    "        \n",
    "        #replacing the wrong registers with the correct ones\n",
    "        score['education'] = score['education'].replace(wrong, correct)\n",
    "\n",
    "#List of all of the wrong registers\n",
    "duplicates1 = ['Secondary Education', 'SECONDARY EDUCATION']\n",
    "duplicates2 = [\"BACHELOR'S DEGREE\", \"Bachelor's Degree\"]\n",
    "duplicates3 = ['Primary Education', 'PRIMARY EDUCATION']\n",
    "duplicates4 = ['GRADUATE DEGREE','Graduate Degree']\n",
    "duplicates5 = ['SOME COLLEGE','Some College']\n",
    "\n",
    "\n",
    "#correct registers\n",
    "correct1 = 'secondary education'\n",
    "correct2 = \"bachelor's degree\"\n",
    "correct3 = 'primary education'\n",
    "correct4 = 'graduate degree'\n",
    "correct5 = 'some college'\n",
    "\n",
    "\n",
    "#replacement\n",
    "replace_wrong_registers(duplicates1, correct1)\n",
    "replace_wrong_registers(duplicates2, correct2)\n",
    "replace_wrong_registers(duplicates3, correct3)\n",
    "replace_wrong_registers(duplicates4, correct4)\n",
    "replace_wrong_registers(duplicates5, correct5)\n",
    "\n"
   ]
  },
  {
   "cell_type": "code",
   "execution_count": 17,
   "metadata": {
    "scrolled": true
   },
   "outputs": [
    {
     "name": "stdout",
     "output_type": "stream",
     "text": [
      "[\"bachelor's degree\", 'graduate degree', 'primary education', 'secondary education', 'some college']\n"
     ]
    }
   ],
   "source": [
    "# Checking all the values in the column to make sure we fixed them\n",
    "\n",
    "print(sorted(score['education'].unique()))"
   ]
  },
  {
   "cell_type": "code",
   "execution_count": 18,
   "metadata": {},
   "outputs": [],
   "source": [
    "# Fix the registers using the short way - I realized that it is just capitalization\n",
    "\n",
    "score['education'] = score['education'].str.lower()"
   ]
  },
  {
   "cell_type": "code",
   "execution_count": 19,
   "metadata": {},
   "outputs": [
    {
     "name": "stdout",
     "output_type": "stream",
     "text": [
      "[\"bachelor's degree\", 'graduate degree', 'primary education', 'secondary education', 'some college']\n"
     ]
    }
   ],
   "source": [
    "# To check the fix has worked\n",
    "\n",
    "print(sorted(score['education'].unique()))"
   ]
  },
  {
   "cell_type": "markdown",
   "metadata": {},
   "source": [
    "**Checking the 'children' column.**"
   ]
  },
  {
   "cell_type": "code",
   "execution_count": 20,
   "metadata": {},
   "outputs": [
    {
     "name": "stdout",
     "output_type": "stream",
     "text": [
      "[ 1  0  3  2 -1  4 20  5]\n"
     ]
    }
   ],
   "source": [
    "# Let's see the distribution of values in the `children` column\n",
    "print(score['children'].unique())"
   ]
  },
  {
   "cell_type": "code",
   "execution_count": 21,
   "metadata": {},
   "outputs": [
    {
     "name": "stdout",
     "output_type": "stream",
     "text": [
      " 0     65.732869\n",
      " 1     22.383275\n",
      " 2      9.547038\n",
      " 3      1.533101\n",
      " 20     0.353078\n",
      "-1      0.218351\n",
      " 4      0.190476\n",
      " 5      0.041812\n",
      "Name: children, dtype: float64\n"
     ]
    }
   ],
   "source": [
    "# Checking the percentage of the errorous data\n",
    "\n",
    "print(score['children'].value_counts() / len(score['children']) *100)"
   ]
  },
  {
   "cell_type": "markdown",
   "metadata": {},
   "source": [
    "\n",
    "There appeared to have a negative number of children, which likely is an entry error. Moreover, the value 20 also appear to be an entry error. \n",
    "\n",
    "By checking the occurrence of the problematic data, it revealed that they only contribute to a very small percentage of the data, 0.35% for 20, and 0.21% for -1. Since the contribution is so slim, I can either drop the problematic rows or replace -1 with 1, and remove the 0 in 20. I will replace it for now. \n"
   ]
  },
  {
   "cell_type": "code",
   "execution_count": 22,
   "metadata": {},
   "outputs": [],
   "source": [
    "# [fix the data based on your decision]\n",
    "\n",
    "score['children'] = score['children'].replace(-1, 1)\n",
    "score['children'] = score['children'].replace(20, 2)"
   ]
  },
  {
   "cell_type": "markdown",
   "metadata": {},
   "source": [
    "Thank you!! I'll keep that in mind!"
   ]
  },
  {
   "cell_type": "code",
   "execution_count": 23,
   "metadata": {},
   "outputs": [
    {
     "name": "stdout",
     "output_type": "stream",
     "text": [
      "[1 0 3 2 4 5]\n"
     ]
    }
   ],
   "source": [
    "# Checking the `children` column again to make sure it's all fixed\n",
    "\n",
    "print(score['children'].unique())\n"
   ]
  },
  {
   "cell_type": "markdown",
   "metadata": {},
   "source": [
    "**Checking the 'days_employed' column.**"
   ]
  },
  {
   "cell_type": "code",
   "execution_count": 24,
   "metadata": {},
   "outputs": [
    {
     "name": "stdout",
     "output_type": "stream",
     "text": [
      "[-8437.67302776 -4024.80375385 -5623.42261023 ... -2113.3468877\n",
      " -3112.4817052  -1984.50758853]\n",
      "73.89547038327527\n"
     ]
    }
   ],
   "source": [
    "# Find problematic data in `days_employed` & percentage\n",
    "\n",
    "print(score['days_employed'].unique())\n",
    "\n",
    "print(len(score[score['days_employed'] < 0]) / len(score['days_employed']) *100)"
   ]
  },
  {
   "cell_type": "markdown",
   "metadata": {},
   "source": [
    "From the few lines that showed up, a problem immediately jumped out, as that most of the data contain negative numbers. It is illogical to have negative number of employment days. \n",
    "\n",
    "The reason for negative number appearing in the dataset is perhaps due to either a technical error in formating the table; it could be hitting a button that makes a number of rows negative in 'days_employed', or using the wrong date to subtract (start date - end date instead of the reversal) or human error in recording the data.\n",
    "\n",
    "The correct data should have no negative numbers, since negative numbers account for ~74% of the data, we cannot simply drop the rows. therefore the next step will be to absolute all of the values in 'days_employed'.\n",
    "\n",
    "Of course, there are still missing values, but I will deal with the negative numbers first."
   ]
  },
  {
   "cell_type": "code",
   "execution_count": 25,
   "metadata": {},
   "outputs": [],
   "source": [
    "# Address the problematic values - negative number\n",
    "\n",
    "score['days_employed'] = score['days_employed'].abs()"
   ]
  },
  {
   "cell_type": "code",
   "execution_count": 26,
   "metadata": {},
   "outputs": [
    {
     "name": "stdout",
     "output_type": "stream",
     "text": [
      "[8437.67302776 4024.80375385 5623.42261023 ... 2113.3468877  3112.4817052\n",
      " 1984.50758853]\n"
     ]
    }
   ],
   "source": [
    "# Check the result - make sure it's fixed\n",
    "\n",
    "print(score['days_employed'].unique())"
   ]
  },
  {
   "cell_type": "markdown",
   "metadata": {},
   "source": [
    "**Checking the 'dob_years' column.** "
   ]
  },
  {
   "cell_type": "code",
   "execution_count": 27,
   "metadata": {
    "scrolled": true
   },
   "outputs": [
    {
     "name": "stdout",
     "output_type": "stream",
     "text": [
      "[42 36 33 32 53 27 43 50 35 41 40 65 54 56 26 48 24 21 57 67 28 63 62 47\n",
      " 34 68 25 31 30 20 49 37 45 61 64 44 52 46 23 38 39 51  0 59 29 60 55 58\n",
      " 71 22 73 66 69 19 72 70 74 75]\n",
      "35    2.866434\n",
      "40    2.829268\n",
      "41    2.819977\n",
      "34    2.801394\n",
      "38    2.778165\n",
      "42    2.773519\n",
      "33    2.699187\n",
      "39    2.662021\n",
      "31    2.601626\n",
      "36    2.578397\n",
      "44    2.541231\n",
      "29    2.531940\n",
      "30    2.508711\n",
      "48    2.499419\n",
      "37    2.494774\n",
      "50    2.387921\n",
      "43    2.383275\n",
      "32    2.369338\n",
      "49    2.360046\n",
      "28    2.336818\n",
      "45    2.308943\n",
      "27    2.290360\n",
      "56    2.262485\n",
      "52    2.248548\n",
      "47    2.229965\n",
      "54    2.225319\n",
      "46    2.206736\n",
      "58    2.141696\n",
      "57    2.137050\n",
      "53    2.132404\n",
      "51    2.081301\n",
      "59    2.062718\n",
      "55    2.058072\n",
      "26    1.895470\n",
      "60    1.751452\n",
      "25    1.658537\n",
      "61    1.649245\n",
      "62    1.635308\n",
      "63    1.249710\n",
      "64    1.231127\n",
      "24    1.226481\n",
      "23    1.180023\n",
      "65    0.901278\n",
      "66    0.850174\n",
      "22    0.850174\n",
      "67    0.775842\n",
      "21    0.515679\n",
      "0     0.469222\n",
      "68    0.459930\n",
      "69    0.394890\n",
      "70    0.301974\n",
      "71    0.269454\n",
      "20    0.236934\n",
      "72    0.153310\n",
      "19    0.065041\n",
      "73    0.037166\n",
      "74    0.027875\n",
      "75    0.004646\n",
      "Name: dob_years, dtype: float64\n"
     ]
    }
   ],
   "source": [
    "# Check the `dob_years` for suspicious values and count the percentage\n",
    "\n",
    "print(score['dob_years'].unique())\n",
    "\n",
    "print(score['dob_years'].value_counts() / len(score['dob_years']) *100)"
   ]
  },
  {
   "cell_type": "markdown",
   "metadata": {},
   "source": [
    "The problem here is that \"0\" cannot be someone's age when they are trying to apply for a loan. \n",
    "However, the percentage of this problematic data is only 0.46%. I can either drop the problematic rows or attend to replace it with the most logical number, assuming is 30. I will replace it with 30 for now, as such a small percentage of data will be unlikely to impact the dataset and subsequent analyses."
   ]
  },
  {
   "cell_type": "code",
   "execution_count": 28,
   "metadata": {},
   "outputs": [],
   "source": [
    "# Address the issues in the `dob_years` column, if they exist\n",
    "\n",
    "score['dob_years'] = score['dob_years'].replace(0, 30)"
   ]
  },
  {
   "cell_type": "code",
   "execution_count": 29,
   "metadata": {},
   "outputs": [
    {
     "name": "stdout",
     "output_type": "stream",
     "text": [
      "[19, 20, 21, 22, 23, 24, 25, 26, 27, 28, 29, 30, 31, 32, 33, 34, 35, 36, 37, 38, 39, 40, 41, 42, 43, 44, 45, 46, 47, 48, 49, 50, 51, 52, 53, 54, 55, 56, 57, 58, 59, 60, 61, 62, 63, 64, 65, 66, 67, 68, 69, 70, 71, 72, 73, 74, 75]\n"
     ]
    }
   ],
   "source": [
    "# Check the result - make sure it's fixed\n",
    "\n",
    "print(sorted(score['dob_years'].unique()))"
   ]
  },
  {
   "cell_type": "markdown",
   "metadata": {},
   "source": [
    "\n",
    "\n",
    "**Checking the 'family_status' column.**"
   ]
  },
  {
   "cell_type": "code",
   "execution_count": 30,
   "metadata": {},
   "outputs": [
    {
     "name": "stdout",
     "output_type": "stream",
     "text": [
      "['married' 'civil partnership' 'widow / widower' 'divorced' 'unmarried']\n"
     ]
    }
   ],
   "source": [
    "# Let's see the values for the column\n",
    "\n",
    "print(score['family_status'].unique())"
   ]
  },
  {
   "cell_type": "markdown",
   "metadata": {},
   "source": [
    "For clarity, 'widow/widower' can be simpified to 'widowed', which 'civil partnership', 'widowed' and 'divorced' can both be 'unmarried', so I will change 'unmarried' to 'never married'. "
   ]
  },
  {
   "cell_type": "code",
   "execution_count": 31,
   "metadata": {},
   "outputs": [],
   "source": [
    "# Address the problematic values in `family_status`, if they exist\n",
    "\n",
    "score['family_status'] = score['family_status'].replace('widow / widower', 'widowed')\n",
    "\n",
    "score['family_status'] = score['family_status'].replace('unmarried', 'never married')"
   ]
  },
  {
   "cell_type": "code",
   "execution_count": 32,
   "metadata": {},
   "outputs": [
    {
     "name": "stdout",
     "output_type": "stream",
     "text": [
      "['married' 'civil partnership' 'widowed' 'divorced' 'never married']\n"
     ]
    }
   ],
   "source": [
    "# Check the result - make sure it's fixed\n",
    "\n",
    "print(score['family_status'].unique())"
   ]
  },
  {
   "cell_type": "markdown",
   "metadata": {},
   "source": [
    "\n",
    "**Checking the 'gender' column.**"
   ]
  },
  {
   "cell_type": "code",
   "execution_count": 33,
   "metadata": {
    "scrolled": false
   },
   "outputs": [
    {
     "name": "stdout",
     "output_type": "stream",
     "text": [
      "['F' 'M' 'XNA']\n",
      "F      14236\n",
      "M       7288\n",
      "XNA        1\n",
      "Name: gender, dtype: int64\n"
     ]
    }
   ],
   "source": [
    "# Let's see the values in the column\n",
    "\n",
    "print(score['gender'].unique())\n",
    "\n",
    "print(score['gender'].value_counts())"
   ]
  },
  {
   "cell_type": "markdown",
   "metadata": {},
   "source": [
    "Although there is the curious 'XNA', since it only accounts for a very small percentage of the dataset (~0.005%), it can be either dropped or ignored. I will drop the XNA since there is only 1 respondent with this answer, it will unlikely to impact the analyses. "
   ]
  },
  {
   "cell_type": "code",
   "execution_count": 34,
   "metadata": {},
   "outputs": [],
   "source": [
    "# Address the problematic values - dropping XNA\n",
    "\n",
    "score = score.loc[score['gender'] != 'XNA']"
   ]
  },
  {
   "cell_type": "code",
   "execution_count": 35,
   "metadata": {
    "scrolled": true
   },
   "outputs": [
    {
     "name": "stdout",
     "output_type": "stream",
     "text": [
      "['F' 'M']\n"
     ]
    }
   ],
   "source": [
    "# Check the result - make sure it's fixed\n",
    "\n",
    "print(score['gender'].unique())\n"
   ]
  },
  {
   "cell_type": "markdown",
   "metadata": {},
   "source": [
    "Down to two values!"
   ]
  },
  {
   "cell_type": "markdown",
   "metadata": {},
   "source": [
    "\n",
    "\n",
    "**Checking the 'income_type' column.**"
   ]
  },
  {
   "cell_type": "code",
   "execution_count": 36,
   "metadata": {
    "scrolled": true
   },
   "outputs": [
    {
     "name": "stdout",
     "output_type": "stream",
     "text": [
      "['employee' 'retiree' 'business' 'civil servant' 'unemployed'\n",
      " 'entrepreneur' 'student' 'paternity / maternity leave']\n",
      "employee                       11119\n",
      "business                        5084\n",
      "retiree                         3856\n",
      "civil servant                   1459\n",
      "unemployed                         2\n",
      "entrepreneur                       2\n",
      "student                            1\n",
      "paternity / maternity leave        1\n",
      "Name: income_type, dtype: int64\n"
     ]
    }
   ],
   "source": [
    "# Let's see the values in the column\n",
    "\n",
    "print(score['income_type'].unique())\n",
    "\n",
    "print(score['income_type'].value_counts())"
   ]
  },
  {
   "cell_type": "markdown",
   "metadata": {},
   "source": [
    "For clarity, 'entrepreneur' can be categorized under 'business' without the need of creating a new category. I am unsure of what paternity/maternity leave means in this case as whether they still has an income from employer, and what does student means, so I will leave those two be. "
   ]
  },
  {
   "cell_type": "code",
   "execution_count": 37,
   "metadata": {},
   "outputs": [],
   "source": [
    "# Address the problematic values\n",
    "\n",
    "score['income_type'] = score['income_type'].replace('entrepreneur', 'business')\n"
   ]
  },
  {
   "cell_type": "code",
   "execution_count": 38,
   "metadata": {},
   "outputs": [
    {
     "name": "stdout",
     "output_type": "stream",
     "text": [
      "['employee' 'retiree' 'business' 'civil servant' 'unemployed' 'student'\n",
      " 'paternity / maternity leave']\n"
     ]
    }
   ],
   "source": [
    "# Check the result - make sure it's fixed\n",
    "\n",
    "print(score['income_type'].unique())"
   ]
  },
  {
   "cell_type": "markdown",
   "metadata": {},
   "source": [
    "\n",
    "**Checking for duplicates.**"
   ]
  },
  {
   "cell_type": "code",
   "execution_count": 39,
   "metadata": {
    "scrolled": true
   },
   "outputs": [
    {
     "name": "stdout",
     "output_type": "stream",
     "text": [
      "       children  days_employed  dob_years            education  education_id  \\\n",
      "8853          1            NaN         23  secondary education             1   \n",
      "20297         1            NaN         23  secondary education             1   \n",
      "15892         0            NaN         23  secondary education             1   \n",
      "19321         0            NaN         23  secondary education             1   \n",
      "3452          0            NaN         29    bachelor's degree             0   \n",
      "...         ...            ...        ...                  ...           ...   \n",
      "5865          0            NaN         66  secondary education             1   \n",
      "9528          0            NaN         66  secondary education             1   \n",
      "6537          0            NaN         71  secondary education             1   \n",
      "7938          0            NaN         71  secondary education             1   \n",
      "9604          0            NaN         71  secondary education             1   \n",
      "\n",
      "           family_status  family_status_id gender income_type  debt  \\\n",
      "8853   civil partnership                 1      F    employee     0   \n",
      "20297  civil partnership                 1      F    employee     0   \n",
      "15892      never married                 4      F    employee     0   \n",
      "19321      never married                 4      F    employee     0   \n",
      "3452             married                 0      M    employee     0   \n",
      "...                  ...               ...    ...         ...   ...   \n",
      "5865             widowed                 2      F     retiree     0   \n",
      "9528             widowed                 2      F     retiree     0   \n",
      "6537   civil partnership                 1      F     retiree     0   \n",
      "7938   civil partnership                 1      F     retiree     0   \n",
      "9604   civil partnership                 1      F     retiree     0   \n",
      "\n",
      "       total_income                           purpose  \n",
      "8853            NaN                 to have a wedding  \n",
      "20297           NaN                 to have a wedding  \n",
      "15892           NaN          second-hand car purchase  \n",
      "19321           NaN          second-hand car purchase  \n",
      "3452            NaN       buy residential real estate  \n",
      "...             ...                               ...  \n",
      "5865            NaN  transactions with my real estate  \n",
      "9528            NaN  transactions with my real estate  \n",
      "6537            NaN                  having a wedding  \n",
      "7938            NaN                  having a wedding  \n",
      "9604            NaN                  having a wedding  \n",
      "\n",
      "[137 rows x 12 columns]\n",
      "137\n"
     ]
    }
   ],
   "source": [
    "# Checking duplicates\n",
    "\n",
    "print(score[score.duplicated(keep = False)].sort_values(by=['dob_years', 'education','family_status']))\n",
    "\n",
    "print(score.duplicated(keep = False).sum())\n"
   ]
  },
  {
   "cell_type": "markdown",
   "metadata": {},
   "source": [
    "There appeared to be 137 true duplicates, but since we are keeping the first entry of the duplicates, the number of duplicates drop will be different. Will proceed to remove the obvious duplicates, since this dataset does not have a column of IDs designated for each respondent, it would be hard to check whether there are other types of duplicates. "
   ]
  },
  {
   "cell_type": "code",
   "execution_count": 40,
   "metadata": {},
   "outputs": [],
   "source": [
    "# Address the duplicates,reset index and dropping the old index.\n",
    "\n",
    "score = score.drop_duplicates().reset_index(drop=True)"
   ]
  },
  {
   "cell_type": "code",
   "execution_count": 41,
   "metadata": {},
   "outputs": [
    {
     "name": "stdout",
     "output_type": "stream",
     "text": [
      "0\n"
     ]
    }
   ],
   "source": [
    "# Last check whether we have any duplicates\n",
    "\n",
    "print(score.duplicated().sum())\n"
   ]
  },
  {
   "cell_type": "code",
   "execution_count": 42,
   "metadata": {},
   "outputs": [
    {
     "name": "stdout",
     "output_type": "stream",
     "text": [
      "<class 'pandas.core.frame.DataFrame'>\n",
      "RangeIndex: 21453 entries, 0 to 21452\n",
      "Data columns (total 12 columns):\n",
      " #   Column            Non-Null Count  Dtype  \n",
      "---  ------            --------------  -----  \n",
      " 0   children          21453 non-null  int64  \n",
      " 1   days_employed     19350 non-null  float64\n",
      " 2   dob_years         21453 non-null  int64  \n",
      " 3   education         21453 non-null  object \n",
      " 4   education_id      21453 non-null  int64  \n",
      " 5   family_status     21453 non-null  object \n",
      " 6   family_status_id  21453 non-null  int64  \n",
      " 7   gender            21453 non-null  object \n",
      " 8   income_type       21453 non-null  object \n",
      " 9   debt              21453 non-null  int64  \n",
      " 10  total_income      19350 non-null  float64\n",
      " 11  purpose           21453 non-null  object \n",
      "dtypes: float64(2), int64(5), object(5)\n",
      "memory usage: 2.0+ MB\n",
      "None\n"
     ]
    }
   ],
   "source": [
    "# Check the size of the dataset that you now have after your first manipulations with it\n",
    "\n",
    "print(score.info())"
   ]
  },
  {
   "cell_type": "markdown",
   "metadata": {},
   "source": [
    "In conclusion, the 'education' column has been fixed, where strings are now identical by making them lowercase with str.lower(). \n",
    "\n",
    "The problematic entries -1 and 20 found in 'children' has been replaced with logical values. \n",
    "\n",
    "'days_employed' consisted of ~73% of negative values, which was problematic. An absoulte has been taken for the whole column, changing negative numbers to positive. \n",
    "\n",
    "The 0 found in 'dob_years' column has been replaced with a logical value of 30.\n",
    "\n",
    "Some registers under 'family_status' have been modified to make it more clear. \n",
    "\n",
    "One entry of 'XNA' found in 'gender' column has been removed.\n",
    "\n",
    "'entrepreneur' was merged with 'business' for better representaion in 'income_type' column. While leaving 'student', 'paternity/maternity leave' untouched as unsure of where they qualify. \n",
    "\n",
    "Finally, 71 obvious duplicates were found using .duplicated() and removed with drop_duplicates().\n",
    "\n",
    "Newly processed dataset now has 21453 rows, as compared to 21525 to begin with. So a total of 72 rows were removed, counting for roughly 0.3% of the dataset. \n"
   ]
  },
  {
   "cell_type": "markdown",
   "metadata": {},
   "source": [
    "## Stage 3. Working with missing values"
   ]
  },
  {
   "cell_type": "markdown",
   "metadata": {},
   "source": [
    "### Restoring missing values in `total_income`"
   ]
  },
  {
   "cell_type": "markdown",
   "metadata": {},
   "source": [
    "\n",
    "\n",
    "Missing values were identified in 'total_income' and 'days_employed'. I will first check the distribution of the data (done), to determine whether there are significant outliers present. If there are outliers then I will use median() to fill missing values and use mean() when there are no outliers. \n",
    "\n",
    "I will create a category for age based on the respondent's age. I used the increment of 10 for clarity and better representation. \n"
   ]
  },
  {
   "cell_type": "code",
   "execution_count": 44,
   "metadata": {},
   "outputs": [],
   "source": [
    "# A function that calculates the age category\n",
    "\n",
    "def age_category(age):\n",
    "    if age < 20:\n",
    "        return '<20'\n",
    "    if 20 <= age <= 29:\n",
    "        return '20-29'\n",
    "    if 30 <= age <= 39:\n",
    "        return '30-39'\n",
    "    if 40 <= age <= 49:\n",
    "        return '40-49'\n",
    "    if 50 <= age <= 59:\n",
    "        return '50-59'\n",
    "    if 60 <= age <= 69:\n",
    "        return '60-69'\n",
    "    if age >= 70:\n",
    "        return '70+'\n",
    "    "
   ]
  },
  {
   "cell_type": "code",
   "execution_count": 45,
   "metadata": {},
   "outputs": [
    {
     "name": "stdout",
     "output_type": "stream",
     "text": [
      "50-59\n",
      "<20\n",
      "30-39\n"
     ]
    }
   ],
   "source": [
    "# Test if the function works\n",
    "print(age_category(55))\n",
    "print(age_category(19))\n",
    "print(age_category(38))"
   ]
  },
  {
   "cell_type": "code",
   "execution_count": 46,
   "metadata": {},
   "outputs": [],
   "source": [
    "# Creating new column based on function\n",
    "\n",
    "score['age_category'] = score['dob_years'].apply(age_category)\n"
   ]
  },
  {
   "cell_type": "code",
   "execution_count": 47,
   "metadata": {
    "scrolled": true
   },
   "outputs": [
    {
     "name": "stdout",
     "output_type": "stream",
     "text": [
      "    children  days_employed  dob_years            education  education_id  \\\n",
      "0          1    8437.673028         42    bachelor's degree             0   \n",
      "1          1    4024.803754         36  secondary education             1   \n",
      "2          0    5623.422610         33  secondary education             1   \n",
      "3          3    4124.747207         32  secondary education             1   \n",
      "4          0  340266.072047         53  secondary education             1   \n",
      "5          0     926.185831         27    bachelor's degree             0   \n",
      "6          0    2879.202052         43    bachelor's degree             0   \n",
      "7          0     152.779569         50  secondary education             1   \n",
      "8          2    6929.865299         35    bachelor's degree             0   \n",
      "9          0    2188.756445         41  secondary education             1   \n",
      "10         2    4171.483647         36    bachelor's degree             0   \n",
      "11         0     792.701887         40  secondary education             1   \n",
      "12         0            NaN         65  secondary education             1   \n",
      "13         0    1846.641941         54         some college             2   \n",
      "14         0    1844.956182         56    bachelor's degree             0   \n",
      "15         1     972.364419         26  secondary education             1   \n",
      "16         0    1719.934226         35  secondary education             1   \n",
      "17         0    2369.999720         33    bachelor's degree             0   \n",
      "18         0  400281.136913         53  secondary education             1   \n",
      "19         0   10038.818549         48  secondary education             1   \n",
      "\n",
      "        family_status  family_status_id gender income_type  debt  \\\n",
      "0             married                 0      F    employee     0   \n",
      "1             married                 0      F    employee     0   \n",
      "2             married                 0      M    employee     0   \n",
      "3             married                 0      M    employee     0   \n",
      "4   civil partnership                 1      F     retiree     0   \n",
      "5   civil partnership                 1      M    business     0   \n",
      "6             married                 0      F    business     0   \n",
      "7             married                 0      M    employee     0   \n",
      "8   civil partnership                 1      F    employee     0   \n",
      "9             married                 0      M    employee     0   \n",
      "10            married                 0      M    business     0   \n",
      "11            married                 0      F    employee     0   \n",
      "12  civil partnership                 1      M     retiree     0   \n",
      "13            married                 0      F    employee     0   \n",
      "14  civil partnership                 1      F    business     1   \n",
      "15            married                 0      F    employee     0   \n",
      "16            married                 0      F    employee     0   \n",
      "17  civil partnership                 1      M    employee     0   \n",
      "18            widowed                 2      F     retiree     0   \n",
      "19           divorced                 3      F    employee     0   \n",
      "\n",
      "    total_income                              purpose age_category  \n",
      "0      40620.102                purchase of the house        40-49  \n",
      "1      17932.802                         car purchase        30-39  \n",
      "2      23341.752                purchase of the house        30-39  \n",
      "3      42820.568              supplementary education        30-39  \n",
      "4      25378.572                    to have a wedding        50-59  \n",
      "5      40922.170                purchase of the house        20-29  \n",
      "6      38484.156                 housing transactions        40-49  \n",
      "7      21731.829                            education        50-59  \n",
      "8      15337.093                     having a wedding        30-39  \n",
      "9      23108.150  purchase of the house for my family        40-49  \n",
      "10     18230.959                      buy real estate        30-39  \n",
      "11     12331.077           buy commercial real estate        40-49  \n",
      "12           NaN                    to have a wedding        60-69  \n",
      "13     20873.317                         car purchase        50-59  \n",
      "14     26420.466          buy residential real estate        50-59  \n",
      "15     18691.345         construction of own property        20-29  \n",
      "16     46272.433                             property        30-39  \n",
      "17     14465.694                  building a property        30-39  \n",
      "18      9091.804             buying a second-hand car        50-59  \n",
      "19     38852.977                    buying my own car        40-49  \n",
      "30-39    5763\n",
      "40-49    5354\n",
      "50-59    4657\n",
      "20-29    3165\n",
      "60-69    2331\n",
      "70+       169\n",
      "<20        14\n",
      "Name: age_category, dtype: int64\n"
     ]
    }
   ],
   "source": [
    "# Checking how values in the new column\n",
    "\n",
    "print(score.head(20))\n",
    "print(score['age_category'].value_counts())"
   ]
  },
  {
   "cell_type": "markdown",
   "metadata": {},
   "source": [
    "\n",
    "Income depends on multiple factors: experience (in this case that is related to days_employed and/or age), educational level and the type of jobs. \n",
    "\n",
    "Will proceed to check how different indicators affect the mean and median of total income. "
   ]
  },
  {
   "cell_type": "markdown",
   "metadata": {},
   "source": [
    "Creating a table with no missing values to to check the mean and median of income based on different indicators. "
   ]
  },
  {
   "cell_type": "code",
   "execution_count": 48,
   "metadata": {
    "scrolled": true
   },
   "outputs": [
    {
     "name": "stdout",
     "output_type": "stream",
     "text": [
      "    children  days_employed  dob_years            education  education_id  \\\n",
      "0          1    8437.673028         42    bachelor's degree             0   \n",
      "1          1    4024.803754         36  secondary education             1   \n",
      "2          0    5623.422610         33  secondary education             1   \n",
      "3          3    4124.747207         32  secondary education             1   \n",
      "4          0  340266.072047         53  secondary education             1   \n",
      "5          0     926.185831         27    bachelor's degree             0   \n",
      "6          0    2879.202052         43    bachelor's degree             0   \n",
      "7          0     152.779569         50  secondary education             1   \n",
      "8          2    6929.865299         35    bachelor's degree             0   \n",
      "9          0    2188.756445         41  secondary education             1   \n",
      "10         2    4171.483647         36    bachelor's degree             0   \n",
      "11         0     792.701887         40  secondary education             1   \n",
      "13         0    1846.641941         54         some college             2   \n",
      "14         0    1844.956182         56    bachelor's degree             0   \n",
      "15         1     972.364419         26  secondary education             1   \n",
      "\n",
      "        family_status  family_status_id gender income_type  debt  \\\n",
      "0             married                 0      F    employee     0   \n",
      "1             married                 0      F    employee     0   \n",
      "2             married                 0      M    employee     0   \n",
      "3             married                 0      M    employee     0   \n",
      "4   civil partnership                 1      F     retiree     0   \n",
      "5   civil partnership                 1      M    business     0   \n",
      "6             married                 0      F    business     0   \n",
      "7             married                 0      M    employee     0   \n",
      "8   civil partnership                 1      F    employee     0   \n",
      "9             married                 0      M    employee     0   \n",
      "10            married                 0      M    business     0   \n",
      "11            married                 0      F    employee     0   \n",
      "13            married                 0      F    employee     0   \n",
      "14  civil partnership                 1      F    business     1   \n",
      "15            married                 0      F    employee     0   \n",
      "\n",
      "    total_income                              purpose age_category  \n",
      "0      40620.102                purchase of the house        40-49  \n",
      "1      17932.802                         car purchase        30-39  \n",
      "2      23341.752                purchase of the house        30-39  \n",
      "3      42820.568              supplementary education        30-39  \n",
      "4      25378.572                    to have a wedding        50-59  \n",
      "5      40922.170                purchase of the house        20-29  \n",
      "6      38484.156                 housing transactions        40-49  \n",
      "7      21731.829                            education        50-59  \n",
      "8      15337.093                     having a wedding        30-39  \n",
      "9      23108.150  purchase of the house for my family        40-49  \n",
      "10     18230.959                      buy real estate        30-39  \n",
      "11     12331.077           buy commercial real estate        40-49  \n",
      "13     20873.317                         car purchase        50-59  \n",
      "14     26420.466          buy residential real estate        50-59  \n",
      "15     18691.345         construction of own property        20-29  \n"
     ]
    }
   ],
   "source": [
    "# Create a table without missing values and print a few of its rows to make sure it looks fine\n",
    "\n",
    "score_nomissing = score.dropna()\n",
    "print(score_nomissing.head(15))\n"
   ]
  },
  {
   "cell_type": "code",
   "execution_count": 49,
   "metadata": {},
   "outputs": [
    {
     "data": {
      "text/html": [
       "<div>\n",
       "<style scoped>\n",
       "    .dataframe tbody tr th:only-of-type {\n",
       "        vertical-align: middle;\n",
       "    }\n",
       "\n",
       "    .dataframe tbody tr th {\n",
       "        vertical-align: top;\n",
       "    }\n",
       "\n",
       "    .dataframe thead th {\n",
       "        text-align: right;\n",
       "    }\n",
       "</style>\n",
       "<table border=\"1\" class=\"dataframe\">\n",
       "  <thead>\n",
       "    <tr style=\"text-align: right;\">\n",
       "      <th></th>\n",
       "      <th>children</th>\n",
       "      <th>days_employed</th>\n",
       "      <th>dob_years</th>\n",
       "      <th>education_id</th>\n",
       "      <th>family_status_id</th>\n",
       "      <th>debt</th>\n",
       "      <th>total_income</th>\n",
       "    </tr>\n",
       "  </thead>\n",
       "  <tbody>\n",
       "    <tr>\n",
       "      <th>count</th>\n",
       "      <td>19350.000000</td>\n",
       "      <td>19350.000000</td>\n",
       "      <td>19350.000000</td>\n",
       "      <td>19350.000000</td>\n",
       "      <td>19350.000000</td>\n",
       "      <td>19350.000000</td>\n",
       "      <td>19350.000000</td>\n",
       "    </tr>\n",
       "    <tr>\n",
       "      <th>mean</th>\n",
       "      <td>0.479638</td>\n",
       "      <td>66918.065141</td>\n",
       "      <td>43.397416</td>\n",
       "      <td>0.819018</td>\n",
       "      <td>0.972248</td>\n",
       "      <td>0.081189</td>\n",
       "      <td>26787.266688</td>\n",
       "    </tr>\n",
       "    <tr>\n",
       "      <th>std</th>\n",
       "      <td>0.753906</td>\n",
       "      <td>139033.698578</td>\n",
       "      <td>12.256880</td>\n",
       "      <td>0.550053</td>\n",
       "      <td>1.420633</td>\n",
       "      <td>0.273132</td>\n",
       "      <td>16475.822926</td>\n",
       "    </tr>\n",
       "    <tr>\n",
       "      <th>min</th>\n",
       "      <td>0.000000</td>\n",
       "      <td>24.141633</td>\n",
       "      <td>19.000000</td>\n",
       "      <td>0.000000</td>\n",
       "      <td>0.000000</td>\n",
       "      <td>0.000000</td>\n",
       "      <td>3306.762000</td>\n",
       "    </tr>\n",
       "    <tr>\n",
       "      <th>25%</th>\n",
       "      <td>0.000000</td>\n",
       "      <td>926.990457</td>\n",
       "      <td>33.000000</td>\n",
       "      <td>1.000000</td>\n",
       "      <td>0.000000</td>\n",
       "      <td>0.000000</td>\n",
       "      <td>16486.515250</td>\n",
       "    </tr>\n",
       "    <tr>\n",
       "      <th>50%</th>\n",
       "      <td>0.000000</td>\n",
       "      <td>2194.218768</td>\n",
       "      <td>42.000000</td>\n",
       "      <td>1.000000</td>\n",
       "      <td>0.000000</td>\n",
       "      <td>0.000000</td>\n",
       "      <td>23201.873500</td>\n",
       "    </tr>\n",
       "    <tr>\n",
       "      <th>75%</th>\n",
       "      <td>1.000000</td>\n",
       "      <td>5538.423086</td>\n",
       "      <td>53.000000</td>\n",
       "      <td>1.000000</td>\n",
       "      <td>1.000000</td>\n",
       "      <td>0.000000</td>\n",
       "      <td>32547.910750</td>\n",
       "    </tr>\n",
       "    <tr>\n",
       "      <th>max</th>\n",
       "      <td>5.000000</td>\n",
       "      <td>401755.400475</td>\n",
       "      <td>75.000000</td>\n",
       "      <td>4.000000</td>\n",
       "      <td>4.000000</td>\n",
       "      <td>1.000000</td>\n",
       "      <td>362496.645000</td>\n",
       "    </tr>\n",
       "  </tbody>\n",
       "</table>\n",
       "</div>"
      ],
      "text/plain": [
       "           children  days_employed     dob_years  education_id  \\\n",
       "count  19350.000000   19350.000000  19350.000000  19350.000000   \n",
       "mean       0.479638   66918.065141     43.397416      0.819018   \n",
       "std        0.753906  139033.698578     12.256880      0.550053   \n",
       "min        0.000000      24.141633     19.000000      0.000000   \n",
       "25%        0.000000     926.990457     33.000000      1.000000   \n",
       "50%        0.000000    2194.218768     42.000000      1.000000   \n",
       "75%        1.000000    5538.423086     53.000000      1.000000   \n",
       "max        5.000000  401755.400475     75.000000      4.000000   \n",
       "\n",
       "       family_status_id          debt   total_income  \n",
       "count      19350.000000  19350.000000   19350.000000  \n",
       "mean           0.972248      0.081189   26787.266688  \n",
       "std            1.420633      0.273132   16475.822926  \n",
       "min            0.000000      0.000000    3306.762000  \n",
       "25%            0.000000      0.000000   16486.515250  \n",
       "50%            0.000000      0.000000   23201.873500  \n",
       "75%            1.000000      0.000000   32547.910750  \n",
       "max            4.000000      1.000000  362496.645000  "
      ]
     },
     "execution_count": 49,
     "metadata": {},
     "output_type": "execute_result"
    }
   ],
   "source": [
    "score_nomissing.describe()"
   ]
  },
  {
   "cell_type": "code",
   "execution_count": 50,
   "metadata": {},
   "outputs": [
    {
     "name": "stdout",
     "output_type": "stream",
     "text": [
      "age_category\n",
      "20-29    25570.172966\n",
      "30-39    28260.357840\n",
      "40-49    28551.375635\n",
      "50-59    25811.700327\n",
      "60-69    23242.812818\n",
      "70+      20125.658331\n",
      "<20      16993.942462\n",
      "Name: total_income, dtype: float64\n",
      "gender\n",
      "F    24655.604757\n",
      "M    30907.144369\n",
      "Name: total_income, dtype: float64\n",
      "debt\n",
      "0    26848.336178\n",
      "1    26096.143537\n",
      "Name: total_income, dtype: float64\n",
      "children\n",
      "0    26421.916832\n",
      "1    27368.627863\n",
      "2    27478.854282\n",
      "3    29322.623993\n",
      "4    27289.829647\n",
      "5    27268.847250\n",
      "Name: total_income, dtype: float64\n",
      "education\n",
      "bachelor's degree      33142.802434\n",
      "graduate degree        27960.024667\n",
      "primary education      21144.882211\n",
      "secondary education    24594.503037\n",
      "some college           29040.132990\n",
      "Name: total_income, dtype: float64\n",
      "family_status\n",
      "civil partnership    26692.840381\n",
      "divorced             27189.354550\n",
      "married              27041.784689\n",
      "never married        26934.069805\n",
      "widowed              22984.208556\n",
      "Name: total_income, dtype: float64\n"
     ]
    }
   ],
   "source": [
    "# Look at the mean values for income based on your identified factors\n",
    "\n",
    "#factors =  'gender', 'debt', 'age_category','children', 'family status', 'education'\n",
    "\n",
    "print(score_nomissing.groupby('age_category')['total_income'].mean())\n",
    "print(score_nomissing.groupby('gender')['total_income'].mean())\n",
    "print(score_nomissing.groupby('debt')['total_income'].mean())\n",
    "print(score_nomissing.groupby('children')['total_income'].mean())\n",
    "print(score_nomissing.groupby('education')['total_income'].mean())\n",
    "print(score_nomissing.groupby('family_status')['total_income'].mean())\n"
   ]
  },
  {
   "cell_type": "code",
   "execution_count": 51,
   "metadata": {
    "scrolled": true
   },
   "outputs": [
    {
     "name": "stdout",
     "output_type": "stream",
     "text": [
      "age_category\n",
      "20-29    22798.6650\n",
      "30-39    24664.8260\n",
      "40-49    24764.2290\n",
      "50-59    22203.0745\n",
      "60-69    19817.4400\n",
      "70+      18751.3240\n",
      "<20      14934.9010\n",
      "Name: total_income, dtype: float64\n",
      "gender\n",
      "F    21464.845\n",
      "M    26834.295\n",
      "Name: total_income, dtype: float64\n",
      "debt\n",
      "0    23225.474\n",
      "1    22928.480\n",
      "Name: total_income, dtype: float64\n",
      "children\n",
      "0    23027.3350\n",
      "1    23660.5630\n",
      "2    23136.1155\n",
      "3    25155.4480\n",
      "4    24981.6340\n",
      "5    29816.2255\n",
      "Name: total_income, dtype: float64\n",
      "education\n",
      "bachelor's degree      28054.5310\n",
      "graduate degree        25161.5835\n",
      "primary education      18741.9760\n",
      "secondary education    21836.5830\n",
      "some college           25608.7945\n",
      "Name: total_income, dtype: float64\n",
      "family_status\n",
      "civil partnership    23185.477\n",
      "divorced             23515.096\n",
      "married              23389.540\n",
      "never married        23149.028\n",
      "widowed              20514.190\n",
      "Name: total_income, dtype: float64\n"
     ]
    }
   ],
   "source": [
    "# Look at the median values for income based on your identified factors\n",
    "\n",
    "print(score_nomissing.groupby('age_category')['total_income'].median())\n",
    "print(score_nomissing.groupby('gender')['total_income'].median())\n",
    "print(score_nomissing.groupby('debt')['total_income'].median())\n",
    "print(score_nomissing.groupby('children')['total_income'].median())\n",
    "print(score_nomissing.groupby('education')['total_income'].median())\n",
    "print(score_nomissing.groupby('family_status')['total_income'].median())\n"
   ]
  },
  {
   "cell_type": "markdown",
   "metadata": {},
   "source": [
    "I looked at the following factors to check on their impact on total_income:  \n",
    "\n",
    "'gender', 'debt', 'age_category','children', 'family status', 'education level'\n",
    "\n",
    "There is a large difference in income between male and female. The different is subtle in debt. It appeared that the number of children also has an impact on the income but that could be due to the total number of respondent in each category since the number of people that has 3+ more kids are significantly less than others. Similar can be said for educcatioanl level. The difference in family status is also subtle. Therefore I feel that age group is a better representation since the number of people fit into the category is similarly distributed and it covers a wild range of age group. \n",
    "\n",
    "The presence of outlier in 'total_income' suggested using the median() to fill the missing values instead of mean(). Since median is more resilient to the presence of outlier. "
   ]
  },
  {
   "cell_type": "code",
   "execution_count": 52,
   "metadata": {},
   "outputs": [],
   "source": [
    "#  Write a function that we will use for filling in missing values\n",
    "\n",
    "def replacement(income):\n",
    "    income_med = score_nomissing['total_income'].median()\n",
    "    \n",
    "    if pd.isnull(income) == True:\n",
    "        return income_med\n",
    "    else:\n",
    "        return income\n",
    "    \n",
    "\n",
    "    "
   ]
  },
  {
   "cell_type": "code",
   "execution_count": 55,
   "metadata": {},
   "outputs": [
    {
     "name": "stdout",
     "output_type": "stream",
     "text": [
      "20\n"
     ]
    }
   ],
   "source": [
    "# Check if it works\n",
    "\n",
    "print(replacement(20))\n"
   ]
  },
  {
   "cell_type": "code",
   "execution_count": 56,
   "metadata": {},
   "outputs": [],
   "source": [
    "# Apply it to every row\n",
    "\n",
    "score['total_income'] = score['total_income'].apply(replacement)"
   ]
  },
  {
   "cell_type": "code",
   "execution_count": 57,
   "metadata": {},
   "outputs": [
    {
     "name": "stdout",
     "output_type": "stream",
     "text": [
      "    children  days_employed  dob_years            education  education_id  \\\n",
      "0          1    8437.673028         42    bachelor's degree             0   \n",
      "1          1    4024.803754         36  secondary education             1   \n",
      "2          0    5623.422610         33  secondary education             1   \n",
      "3          3    4124.747207         32  secondary education             1   \n",
      "4          0  340266.072047         53  secondary education             1   \n",
      "5          0     926.185831         27    bachelor's degree             0   \n",
      "6          0    2879.202052         43    bachelor's degree             0   \n",
      "7          0     152.779569         50  secondary education             1   \n",
      "8          2    6929.865299         35    bachelor's degree             0   \n",
      "9          0    2188.756445         41  secondary education             1   \n",
      "10         2    4171.483647         36    bachelor's degree             0   \n",
      "11         0     792.701887         40  secondary education             1   \n",
      "12         0            NaN         65  secondary education             1   \n",
      "\n",
      "        family_status  family_status_id gender income_type  debt  \\\n",
      "0             married                 0      F    employee     0   \n",
      "1             married                 0      F    employee     0   \n",
      "2             married                 0      M    employee     0   \n",
      "3             married                 0      M    employee     0   \n",
      "4   civil partnership                 1      F     retiree     0   \n",
      "5   civil partnership                 1      M    business     0   \n",
      "6             married                 0      F    business     0   \n",
      "7             married                 0      M    employee     0   \n",
      "8   civil partnership                 1      F    employee     0   \n",
      "9             married                 0      M    employee     0   \n",
      "10            married                 0      M    business     0   \n",
      "11            married                 0      F    employee     0   \n",
      "12  civil partnership                 1      M     retiree     0   \n",
      "\n",
      "    total_income                              purpose age_category  \n",
      "0     40620.1020                purchase of the house        40-49  \n",
      "1     17932.8020                         car purchase        30-39  \n",
      "2     23341.7520                purchase of the house        30-39  \n",
      "3     42820.5680              supplementary education        30-39  \n",
      "4     25378.5720                    to have a wedding        50-59  \n",
      "5     40922.1700                purchase of the house        20-29  \n",
      "6     38484.1560                 housing transactions        40-49  \n",
      "7     21731.8290                            education        50-59  \n",
      "8     15337.0930                     having a wedding        30-39  \n",
      "9     23108.1500  purchase of the house for my family        40-49  \n",
      "10    18230.9590                      buy real estate        30-39  \n",
      "11    12331.0770           buy commercial real estate        40-49  \n",
      "12    23201.8735                    to have a wedding        60-69  \n"
     ]
    }
   ],
   "source": [
    "# Check if we got any errors\n",
    "\n",
    "print(score.head(13))\n"
   ]
  },
  {
   "cell_type": "code",
   "execution_count": 58,
   "metadata": {},
   "outputs": [
    {
     "name": "stdout",
     "output_type": "stream",
     "text": [
      "<class 'pandas.core.frame.DataFrame'>\n",
      "RangeIndex: 21453 entries, 0 to 21452\n",
      "Data columns (total 13 columns):\n",
      " #   Column            Non-Null Count  Dtype  \n",
      "---  ------            --------------  -----  \n",
      " 0   children          21453 non-null  int64  \n",
      " 1   days_employed     19350 non-null  float64\n",
      " 2   dob_years         21453 non-null  int64  \n",
      " 3   education         21453 non-null  object \n",
      " 4   education_id      21453 non-null  int64  \n",
      " 5   family_status     21453 non-null  object \n",
      " 6   family_status_id  21453 non-null  int64  \n",
      " 7   gender            21453 non-null  object \n",
      " 8   income_type       21453 non-null  object \n",
      " 9   debt              21453 non-null  int64  \n",
      " 10  total_income      21453 non-null  float64\n",
      " 11  purpose           21453 non-null  object \n",
      " 12  age_category      21453 non-null  object \n",
      "dtypes: float64(2), int64(5), object(6)\n",
      "memory usage: 2.1+ MB\n",
      "None\n"
     ]
    }
   ],
   "source": [
    "# Checking the number of entries in the columns\n",
    "\n",
    "print(score.info())"
   ]
  },
  {
   "cell_type": "markdown",
   "metadata": {},
   "source": [
    "Missing values are filled with the median in total_income column."
   ]
  },
  {
   "cell_type": "markdown",
   "metadata": {},
   "source": [
    "###  Restoring values in `days_employed`"
   ]
  },
  {
   "cell_type": "markdown",
   "metadata": {},
   "source": [
    "I looked at the following factors to check on their impact on days_employed:  \n",
    "\n",
    "'gender', 'debt', 'age_category','children', 'family status', 'education level'\n",
    "\n",
    "With reasons similar to 'total_income'. "
   ]
  },
  {
   "cell_type": "code",
   "execution_count": 59,
   "metadata": {
    "pycharm": {
     "name": "#%%\n"
    }
   },
   "outputs": [
    {
     "name": "stdout",
     "output_type": "stream",
     "text": [
      "age_category\n",
      "20-29      1004.573780\n",
      "30-39      1606.283237\n",
      "40-49      2111.489906\n",
      "50-59      4796.767897\n",
      "60-69    354935.619093\n",
      "70+      361336.993449\n",
      "<20         724.492610\n",
      "Name: days_employed, dtype: float64\n",
      "gender\n",
      "F    2539.856894\n",
      "M    1662.370103\n",
      "Name: days_employed, dtype: float64\n",
      "debt\n",
      "0    2267.408539\n",
      "1    1498.192818\n",
      "Name: days_employed, dtype: float64\n",
      "children\n",
      "0    2625.852176\n",
      "1    1669.174020\n",
      "2    1678.132084\n",
      "3    1765.066044\n",
      "4    1905.879025\n",
      "5    1231.571486\n",
      "Name: days_employed, dtype: float64\n",
      "education\n",
      "bachelor's degree      1895.747795\n",
      "graduate degree        5660.057032\n",
      "primary education      3043.933615\n",
      "secondary education    2392.483500\n",
      "some college           1206.479128\n",
      "Name: days_employed, dtype: float64\n",
      "family_status\n",
      "civil partnership      1943.995523\n",
      "divorced               2401.954568\n",
      "married                2304.964439\n",
      "never married          1462.009287\n",
      "widowed              337017.713307\n",
      "Name: days_employed, dtype: float64\n"
     ]
    }
   ],
   "source": [
    "# Distribution of `days_employed` medians based on your identified parameters\n",
    "\n",
    "print(score_nomissing.groupby('age_category')['days_employed'].median())\n",
    "print(score_nomissing.groupby('gender')['days_employed'].median())\n",
    "print(score_nomissing.groupby('debt')['days_employed'].median())\n",
    "print(score_nomissing.groupby('children')['days_employed'].median())\n",
    "print(score_nomissing.groupby('education')['days_employed'].median())\n",
    "print(score_nomissing.groupby('family_status')['days_employed'].median())"
   ]
  },
  {
   "cell_type": "code",
   "execution_count": 60,
   "metadata": {},
   "outputs": [
    {
     "name": "stdout",
     "output_type": "stream",
     "text": [
      "age_category\n",
      "20-29      2088.960274\n",
      "30-39      5298.848078\n",
      "40-49     12383.580460\n",
      "50-59    132907.545543\n",
      "60-69    283926.481689\n",
      "70+      320819.151927\n",
      "<20         633.678086\n",
      "Name: days_employed, dtype: float64\n",
      "gender\n",
      "F    82397.770891\n",
      "M    37000.331325\n",
      "Name: days_employed, dtype: float64\n",
      "debt\n",
      "0    68946.730621\n",
      "1    43959.666946\n",
      "Name: days_employed, dtype: float64\n",
      "children\n",
      "0    92526.171104\n",
      "1    23454.811112\n",
      "2     6686.606176\n",
      "3     9338.376355\n",
      "4    13863.043444\n",
      "5     1432.348601\n",
      "Name: days_employed, dtype: float64\n",
      "education\n",
      "bachelor's degree       42375.409174\n",
      "graduate degree        121323.630206\n",
      "primary education      130340.426349\n",
      "secondary education     76413.822372\n",
      "some college            20683.780431\n",
      "Name: days_employed, dtype: float64\n",
      "family_status\n",
      "civil partnership     58411.268077\n",
      "divorced              68816.335483\n",
      "married               63312.782890\n",
      "never married         47072.691647\n",
      "widowed              205636.887848\n",
      "Name: days_employed, dtype: float64\n"
     ]
    }
   ],
   "source": [
    "# Distribution of `days_employed` means based on your identified parameters\n",
    "\n",
    "print(score_nomissing.groupby('age_category')['days_employed'].mean())\n",
    "print(score_nomissing.groupby('gender')['days_employed'].mean())\n",
    "print(score_nomissing.groupby('debt')['days_employed'].mean())\n",
    "print(score_nomissing.groupby('children')['days_employed'].mean())\n",
    "print(score_nomissing.groupby('education')['days_employed'].mean())\n",
    "print(score_nomissing.groupby('family_status')['days_employed'].mean())\n"
   ]
  },
  {
   "cell_type": "markdown",
   "metadata": {},
   "source": [
    "There is a large difference in days_employed between male and female (for unknown reason). The different is also large in debt. It appeared that the number of children also has an impact on the income but that could be due to the total number of respondent in each category since the number of people that has 3+ more kids are significantly less than others. Similar can be said for educcatioanllevel. the indicator family status returned some very interesting results that I don't think it will be good representation. Therefore I feel that age group is again, a better representation since the days_employed are often associated with the age of respondents. \n",
    "\n",
    "The presence of extreme outlier in 'days_employed' suggested using the median() to fill the missing values instead of mean(). Since median is more resilient to the presence of outlier."
   ]
  },
  {
   "cell_type": "code",
   "execution_count": 61,
   "metadata": {},
   "outputs": [],
   "source": [
    "# Let's write a function that calculates means or medians (depending on your decision) based on your identified parameter\n",
    "\n",
    "def fill(days):\n",
    "    days_mean = score_nomissing['days_employed'].mean()\n",
    "    \n",
    "    if pd.isnull(days) == True:\n",
    "        return days_mean\n",
    "    else:\n",
    "        return days\n",
    "    \n",
    "# Single line function:\n",
    "\n",
    "#score['days_employed'] = score['days_employed'].fillna(score_nomissing['days_employed'].median())"
   ]
  },
  {
   "cell_type": "code",
   "execution_count": 62,
   "metadata": {},
   "outputs": [
    {
     "name": "stdout",
     "output_type": "stream",
     "text": [
      "4349\n"
     ]
    }
   ],
   "source": [
    "# Check that the function works\n",
    "\n",
    "print(fill(4349))"
   ]
  },
  {
   "cell_type": "code",
   "execution_count": 63,
   "metadata": {},
   "outputs": [],
   "source": [
    "# Apply function to the income_type\n",
    "\n",
    "score['days_employed'] = score['days_employed'].apply(fill)"
   ]
  },
  {
   "cell_type": "code",
   "execution_count": 64,
   "metadata": {},
   "outputs": [
    {
     "name": "stdout",
     "output_type": "stream",
     "text": [
      "    children  days_employed  dob_years            education  education_id  \\\n",
      "0          1    8437.673028         42    bachelor's degree             0   \n",
      "1          1    4024.803754         36  secondary education             1   \n",
      "2          0    5623.422610         33  secondary education             1   \n",
      "3          3    4124.747207         32  secondary education             1   \n",
      "4          0  340266.072047         53  secondary education             1   \n",
      "5          0     926.185831         27    bachelor's degree             0   \n",
      "6          0    2879.202052         43    bachelor's degree             0   \n",
      "7          0     152.779569         50  secondary education             1   \n",
      "8          2    6929.865299         35    bachelor's degree             0   \n",
      "9          0    2188.756445         41  secondary education             1   \n",
      "10         2    4171.483647         36    bachelor's degree             0   \n",
      "11         0     792.701887         40  secondary education             1   \n",
      "12         0   66918.065141         65  secondary education             1   \n",
      "\n",
      "        family_status  family_status_id gender income_type  debt  \\\n",
      "0             married                 0      F    employee     0   \n",
      "1             married                 0      F    employee     0   \n",
      "2             married                 0      M    employee     0   \n",
      "3             married                 0      M    employee     0   \n",
      "4   civil partnership                 1      F     retiree     0   \n",
      "5   civil partnership                 1      M    business     0   \n",
      "6             married                 0      F    business     0   \n",
      "7             married                 0      M    employee     0   \n",
      "8   civil partnership                 1      F    employee     0   \n",
      "9             married                 0      M    employee     0   \n",
      "10            married                 0      M    business     0   \n",
      "11            married                 0      F    employee     0   \n",
      "12  civil partnership                 1      M     retiree     0   \n",
      "\n",
      "    total_income                              purpose age_category  \n",
      "0     40620.1020                purchase of the house        40-49  \n",
      "1     17932.8020                         car purchase        30-39  \n",
      "2     23341.7520                purchase of the house        30-39  \n",
      "3     42820.5680              supplementary education        30-39  \n",
      "4     25378.5720                    to have a wedding        50-59  \n",
      "5     40922.1700                purchase of the house        20-29  \n",
      "6     38484.1560                 housing transactions        40-49  \n",
      "7     21731.8290                            education        50-59  \n",
      "8     15337.0930                     having a wedding        30-39  \n",
      "9     23108.1500  purchase of the house for my family        40-49  \n",
      "10    18230.9590                      buy real estate        30-39  \n",
      "11    12331.0770           buy commercial real estate        40-49  \n",
      "12    23201.8735                    to have a wedding        60-69  \n"
     ]
    }
   ],
   "source": [
    "# Replacing missing values\n",
    "\n",
    "print(score.head(13))"
   ]
  },
  {
   "cell_type": "code",
   "execution_count": 65,
   "metadata": {
    "scrolled": true
   },
   "outputs": [
    {
     "name": "stdout",
     "output_type": "stream",
     "text": [
      "<class 'pandas.core.frame.DataFrame'>\n",
      "RangeIndex: 21453 entries, 0 to 21452\n",
      "Data columns (total 13 columns):\n",
      " #   Column            Non-Null Count  Dtype  \n",
      "---  ------            --------------  -----  \n",
      " 0   children          21453 non-null  int64  \n",
      " 1   days_employed     21453 non-null  float64\n",
      " 2   dob_years         21453 non-null  int64  \n",
      " 3   education         21453 non-null  object \n",
      " 4   education_id      21453 non-null  int64  \n",
      " 5   family_status     21453 non-null  object \n",
      " 6   family_status_id  21453 non-null  int64  \n",
      " 7   gender            21453 non-null  object \n",
      " 8   income_type       21453 non-null  object \n",
      " 9   debt              21453 non-null  int64  \n",
      " 10  total_income      21453 non-null  float64\n",
      " 11  purpose           21453 non-null  object \n",
      " 12  age_category      21453 non-null  object \n",
      "dtypes: float64(2), int64(5), object(6)\n",
      "memory usage: 2.1+ MB\n",
      "None\n"
     ]
    }
   ],
   "source": [
    "# Check the entries in all columns - make sure we fixed all missing values\n",
    "\n",
    "print(score.info())"
   ]
  },
  {
   "cell_type": "markdown",
   "metadata": {},
   "source": [
    "The total number of rows matched with others - all missing values have been filled."
   ]
  },
  {
   "cell_type": "markdown",
   "metadata": {},
   "source": [
    "## Stage 4. Categorization of data\n",
    "\n",
    "\n",
    "I chose three categorical column and one numerical to categorize. \n",
    "\n",
    "Recall the hypothesis:\n",
    "\n",
    "1. There is an association between having kids and repaying a loan on time. ('children', 'debt') \n",
    "2. There is an association between marital status and repaying a loan on time. ('family_status','debt')\n",
    "3. There is an association between income level and repaying a loan on time. ('total_income','debt')\n",
    "4. Different loan purposes affect on-time loan repayment ('purpose', 'debt')\n",
    "\n",
    "'children','family_status', and 'purpose' are categorical columns, while 'total_income' is numerical. Currently, there are multiple entries under each column, to get a better idea, they should be categorized into a clear, more representative way. 'debt' only has two registers, so I will leave it be. Detailed explanation will be found under each categorization. \n",
    "\n"
   ]
  },
  {
   "cell_type": "code",
   "execution_count": 66,
   "metadata": {
    "scrolled": true
   },
   "outputs": [
    {
     "name": "stdout",
     "output_type": "stream",
     "text": [
      "0        1\n",
      "1        1\n",
      "2        0\n",
      "3        3\n",
      "4        0\n",
      "        ..\n",
      "21448    1\n",
      "21449    0\n",
      "21450    1\n",
      "21451    3\n",
      "21452    2\n",
      "Name: children, Length: 21453, dtype: int64\n",
      "0                  married\n",
      "1                  married\n",
      "2                  married\n",
      "3                  married\n",
      "4        civil partnership\n",
      "               ...        \n",
      "21448    civil partnership\n",
      "21449              married\n",
      "21450    civil partnership\n",
      "21451              married\n",
      "21452              married\n",
      "Name: family_status, Length: 21453, dtype: object\n",
      "0          purchase of the house\n",
      "1                   car purchase\n",
      "2          purchase of the house\n",
      "3        supplementary education\n",
      "4              to have a wedding\n",
      "                  ...           \n",
      "21448       housing transactions\n",
      "21449          purchase of a car\n",
      "21450                   property\n",
      "21451          buying my own car\n",
      "21452               to buy a car\n",
      "Name: purpose, Length: 21453, dtype: object\n"
     ]
    }
   ],
   "source": [
    "# Print the values for your selected data for categorization\n",
    "\n",
    "print(score['children'])\n",
    "print(score['family_status'])\n",
    "print(score['purpose'])\n"
   ]
  },
  {
   "cell_type": "code",
   "execution_count": 67,
   "metadata": {},
   "outputs": [
    {
     "name": "stdout",
     "output_type": "stream",
     "text": [
      "[1 0 3 2 4 5]\n",
      "['married' 'civil partnership' 'widowed' 'divorced' 'never married']\n",
      "['purchase of the house' 'car purchase' 'supplementary education'\n",
      " 'to have a wedding' 'housing transactions' 'education' 'having a wedding'\n",
      " 'purchase of the house for my family' 'buy real estate'\n",
      " 'buy commercial real estate' 'buy residential real estate'\n",
      " 'construction of own property' 'property' 'building a property'\n",
      " 'buying a second-hand car' 'buying my own car'\n",
      " 'transactions with commercial real estate' 'building a real estate'\n",
      " 'housing' 'transactions with my real estate' 'cars' 'to become educated'\n",
      " 'second-hand car purchase' 'getting an education' 'car'\n",
      " 'wedding ceremony' 'to get a supplementary education'\n",
      " 'purchase of my own house' 'real estate transactions'\n",
      " 'getting higher education' 'to own a car' 'purchase of a car'\n",
      " 'profile education' 'university education'\n",
      " 'buying property for renting out' 'to buy a car' 'housing renovation'\n",
      " 'going to university']\n"
     ]
    }
   ],
   "source": [
    "# Check the unique values\n",
    "\n",
    "print(score['children'].unique())\n",
    "print(score['family_status'].unique())\n",
    "print(score['purpose'].unique())"
   ]
  },
  {
   "cell_type": "markdown",
   "metadata": {},
   "source": [
    "\n",
    "\n",
    "For 'children', since our hypothesis is to test whether having children affect repaying loan on time. This can be categorized into two groups, 0 = no children and 1, 2, 3, 4, and 5 = have children.\n",
    "\n",
    "For 'Family_status', since our hypothesis is to test whether family_status affect repaying loan on time. It is possible to categroize into two groups again, married and else. \n",
    "\n",
    "For 'purpose', since there are many different reason, I would categorize it based on the key terms, such as 'house', 'car', 'education' and 'wedding' to gain a better understanding of the correlation between purpose and default rate. \n",
    "\n",
    "For 'total_income', I will be categorize it into five major groups, 'low-income', 'low-medium income', 'medium-income', 'medium-high income', and finally 'high-income'. This grouping is similar to how income-level are determined in general. \n",
    "\n",
    "\n"
   ]
  },
  {
   "cell_type": "code",
   "execution_count": 68,
   "metadata": {},
   "outputs": [
    {
     "name": "stdout",
     "output_type": "stream",
     "text": [
      "have children\n"
     ]
    }
   ],
   "source": [
    "# Let's write a function to categorize the data based on common topics - children\n",
    "\n",
    "def number_children(children):\n",
    "    if children == 0:\n",
    "        return 'no children'\n",
    "    \n",
    "    if children >= 1:\n",
    "        return 'have children'\n",
    "\n",
    "print (number_children(4))"
   ]
  },
  {
   "cell_type": "code",
   "execution_count": 69,
   "metadata": {},
   "outputs": [
    {
     "name": "stdout",
     "output_type": "stream",
     "text": [
      "not-married\n"
     ]
    }
   ],
   "source": [
    "# Let's write a function to categorize the data based on common topics - family status\n",
    "\n",
    "def marriage(status):\n",
    "    if status == 'married':\n",
    "        return 'married'\n",
    "    else:\n",
    "        return 'not-married'\n",
    "print(marriage('widowed'))"
   ]
  },
  {
   "cell_type": "code",
   "execution_count": 70,
   "metadata": {},
   "outputs": [
    {
     "name": "stdout",
     "output_type": "stream",
     "text": [
      "education\n"
     ]
    }
   ],
   "source": [
    "# Let's write a function to categorize the data based on common topics - purpose\n",
    "\n",
    "def purpose(reason):\n",
    "    if 'house' in reason or 'estate' in reason or 'property' in reason or 'housing' in reason:\n",
    "        return 'housing'\n",
    "    elif 'wedding' in reason:\n",
    "        return 'wedding'\n",
    "    elif 'car' in reason or 'cars' in reason:\n",
    "        return 'car'\n",
    "    elif 'education' in reason or 'university' in reason:\n",
    "        return 'education'\n",
    "    \n",
    "print(purpose('getting higher education'))"
   ]
  },
  {
   "cell_type": "code",
   "execution_count": 71,
   "metadata": {},
   "outputs": [],
   "source": [
    "# Create a column with the categories and count the values for them\n",
    "\n",
    "score['children_status'] = score['children'].apply(number_children)\n",
    "score['marriage_status'] = score['family_status'].apply(marriage)\n",
    "score['purpose_of_loan'] = score['purpose'].apply(purpose)"
   ]
  },
  {
   "cell_type": "code",
   "execution_count": 72,
   "metadata": {},
   "outputs": [
    {
     "name": "stdout",
     "output_type": "stream",
     "text": [
      "[40620.102 17932.802 23341.752 ... 14347.61  39054.888 13127.587]\n"
     ]
    }
   ],
   "source": [
    "# Looking through all the numerical data in your selected column for categorization\n",
    "print(score['total_income'].unique())"
   ]
  },
  {
   "cell_type": "code",
   "execution_count": 73,
   "metadata": {},
   "outputs": [
    {
     "name": "stdout",
     "output_type": "stream",
     "text": [
      "no children      14090\n",
      "have children     7363\n",
      "Name: children_status, dtype: int64\n",
      "married        12339\n",
      "not-married     9114\n",
      "Name: marriage_status, dtype: int64\n",
      "housing      10810\n",
      "car           4306\n",
      "education     3605\n",
      "wedding       2324\n",
      "Name: purpose_of_loan, dtype: int64\n"
     ]
    }
   ],
   "source": [
    "# Getting summary statistics for the column\n",
    "\n",
    "print(score['children_status'].value_counts())\n",
    "print(score['marriage_status'].value_counts())\n",
    "print(score['purpose_of_loan'].value_counts())"
   ]
  },
  {
   "cell_type": "markdown",
   "metadata": {},
   "source": [
    "As mentioned before: for 'total_income', I will be categorize it into five major groups, 'low-income', 'low-medium income', 'medium-income', 'medium-high income', and finally 'high-income'. This grouping is similar to how income-level are determined in general and will provide a better representation of the group. \n"
   ]
  },
  {
   "cell_type": "code",
   "execution_count": 74,
   "metadata": {},
   "outputs": [
    {
     "name": "stdout",
     "output_type": "stream",
     "text": [
      "high-income\n"
     ]
    }
   ],
   "source": [
    "# Let's write a function to categorize numerical column - total income\n",
    "\n",
    "def income_range(income):\n",
    "    if income < 25000:\n",
    "        return 'low-income'\n",
    "    if 25000 <= income <= 49999:\n",
    "        return 'low-medium income'\n",
    "    if 50000 <= income <= 99999:\n",
    "        return 'medium income'\n",
    "    if 100000 <= income <= 249999:\n",
    "        return 'medium-high income'\n",
    "    if income >= 250000:\n",
    "        return 'high-income'\n",
    "    \n",
    "print(income_range(310231))"
   ]
  },
  {
   "cell_type": "code",
   "execution_count": 75,
   "metadata": {},
   "outputs": [],
   "source": [
    "# Creating column with categories\n",
    "\n",
    "score['income_status'] = score['total_income'].apply(income_range)\n"
   ]
  },
  {
   "cell_type": "code",
   "execution_count": 76,
   "metadata": {
    "scrolled": true
   },
   "outputs": [
    {
     "name": "stdout",
     "output_type": "stream",
     "text": [
      "low-income            12851\n",
      "low-medium income      7282\n",
      "medium income          1221\n",
      "medium-high income       93\n",
      "high-income               6\n",
      "Name: income_status, dtype: int64\n"
     ]
    }
   ],
   "source": [
    "# Count each categories values to see the distribution\n",
    "\n",
    "print(score['income_status'].value_counts())"
   ]
  },
  {
   "cell_type": "markdown",
   "metadata": {},
   "source": [
    "Now that several columns are grouped based *my* logical reasoning, we will be testing the hypothese in the next steps."
   ]
  },
  {
   "cell_type": "markdown",
   "metadata": {},
   "source": [
    "## Checking the Hypotheses\n"
   ]
  },
  {
   "cell_type": "markdown",
   "metadata": {},
   "source": [
    "**Is there a correlation between having children and paying back on time?**"
   ]
  },
  {
   "cell_type": "code",
   "execution_count": 77,
   "metadata": {},
   "outputs": [
    {
     "name": "stdout",
     "output_type": "stream",
     "text": [
      "children_status  debt\n",
      "have children    0        6685\n",
      "                 1         678\n",
      "no children      0       13027\n",
      "                 1        1063\n",
      "Name: debt, dtype: int64\n",
      "children_status\n",
      "have children    9.208203\n",
      "no children      7.544358\n",
      "Name: debt, dtype: float64\n",
      "children_status\n",
      "have children    38.943136\n",
      "no children      61.056864\n",
      "Name: debt, dtype: float64\n"
     ]
    }
   ],
   "source": [
    "# Check the children data and paying back on time\n",
    "\n",
    "print(score.groupby('children_status')['debt'].value_counts())\n",
    "\n",
    "# Total number of default in Children_status\n",
    "\n",
    "total_debt_c = score['children_status'][score['debt'] == 1].count()\n",
    "\n",
    "# Default rate by category\n",
    "\n",
    "print(score.groupby('children_status')['debt'].sum() / score.groupby('children_status')['debt'].size() *100)\n",
    "\n",
    "# True default rate\n",
    "\n",
    "print(score.groupby('children_status')['debt'].sum() / total_debt_c *100)\n"
   ]
  },
  {
   "cell_type": "markdown",
   "metadata": {},
   "source": [
    "**Conclusion**\n",
    "\n",
    "Default rate by category - which takes the number of defaults within each category and divided by the total of that category. Reflecting the percentage of default appearance within that specific category.\n",
    "\n",
    "True default rate - taking the number of defaults within each category and divided by the total defaults of *all* categories under this column. Reflecting the percentage of default appearance based on the category.\n",
    "\n",
    "Although we will need statistical analyses to determine whether the identified differences are significant, comments will be made towards the overall appearance of default based on this category. \n",
    "\n",
    "The difference between clients with children and with no children for default rate by category is subtle, suggesting that no group is more likely than other to have default within this specific category. \n",
    "\n",
    "However, the true default rate differs drastically between clients with children and no children. 23% more of client with no children have a default, making up 61% of the population that has default. \n",
    "\n",
    "Based on the data, we can conclude that there is a correlation between having children and pay back on time, although no group is more likely to have a default than others but clients with no children made up 61% of the population that has default. While clients with children made up 38%.\n"
   ]
  },
  {
   "cell_type": "markdown",
   "metadata": {},
   "source": [
    "**Is there a correlation between family status and paying back on time?**"
   ]
  },
  {
   "cell_type": "code",
   "execution_count": 78,
   "metadata": {},
   "outputs": [
    {
     "name": "stdout",
     "output_type": "stream",
     "text": [
      "marriage_status  debt\n",
      "married          0       11408\n",
      "                 1         931\n",
      "not-married      0        8304\n",
      "                 1         810\n",
      "Name: debt, dtype: int64\n",
      "marriage_status\n",
      "married        7.545182\n",
      "not-married    8.887426\n",
      "Name: debt, dtype: float64\n",
      "marriage_status\n",
      "married        53.475014\n",
      "not-married    46.524986\n",
      "Name: debt, dtype: float64\n"
     ]
    }
   ],
   "source": [
    "# Check the family status data and paying back on time\n",
    "\n",
    "print(score.groupby('marriage_status')['debt'].value_counts())\n",
    "\n",
    "# Total number of default in marriage_status\n",
    "\n",
    "total_debt_m = score['marriage_status'][score['debt'] == 1].count()\n",
    "\n",
    "# Default rate by category - marriage\n",
    "\n",
    "print(score.groupby('marriage_status')['debt'].sum() / score.groupby('marriage_status')['debt'].size() *100)\n",
    "\n",
    "# True default rate\n",
    "\n",
    "print(score.groupby('marriage_status')['debt'].sum() / total_debt_m *100)\n",
    "\n"
   ]
  },
  {
   "cell_type": "markdown",
   "metadata": {},
   "source": [
    "**Conclusion**\n",
    "\n",
    "Default rate by category - which takes the number of defaults within each category and divided by the total of that category. Reflecting the percentage of default appearance within that specific category.\n",
    "\n",
    "True default rate - taking the number of defaults within each category and divided by the total defaults of *all* categories under this column. Reflecting the percentage of default appearance based on the category.\n",
    "\n",
    "Although we will need statistical analyses to determine whether the identified differences are significant, comments will be made towards the overall appearance of default based on this category. \n",
    "\n",
    "The difference between clients that are married or not-married for default rate by category is subtle, suggesting that no group is more likely than other to have default within this specific category. \n",
    "\n",
    "However, the true default rate differs a bit more between married and not-married clients. married clients contribute ~7% more to the default population, making up 53% of the population that has default.\n",
    "\n",
    "Based on the data, we can conclude that there is a correlation (appeared smaller than children) between marraige_status and pay back on time, although no group is more likely to have a default than others but married clients made up 53% of the population that has default, while not-married clients at 46%. "
   ]
  },
  {
   "cell_type": "markdown",
   "metadata": {},
   "source": [
    "**Is there a correlation between income level and paying back on time?**"
   ]
  },
  {
   "cell_type": "code",
   "execution_count": 79,
   "metadata": {},
   "outputs": [
    {
     "name": "stdout",
     "output_type": "stream",
     "text": [
      "income_status       debt\n",
      "high-income         0           5\n",
      "                    1           1\n",
      "low-income          0       11785\n",
      "                    1        1066\n",
      "low-medium income   0        6699\n",
      "                    1         583\n",
      "medium income       0        1135\n",
      "                    1          86\n",
      "medium-high income  0          88\n",
      "                    1           5\n",
      "Name: debt, dtype: int64\n",
      "income_status\n",
      "high-income           16.666667\n",
      "low-income             8.295074\n",
      "low-medium income      8.006042\n",
      "medium income          7.043407\n",
      "medium-high income     5.376344\n",
      "Name: debt, dtype: float64\n",
      "income_status\n",
      "high-income            0.057438\n",
      "low-income            61.229179\n",
      "low-medium income     33.486502\n",
      "medium income          4.939690\n",
      "medium-high income     0.287191\n",
      "Name: debt, dtype: float64\n"
     ]
    }
   ],
   "source": [
    "# Check the income level data and paying back on time\n",
    "\n",
    "print(score.groupby('income_status')['debt'].value_counts())\n",
    "\n",
    "# Total number of default in income_status\n",
    "\n",
    "total_debt_i = score['income_status'][score['debt'] == 1].count()\n",
    "\n",
    "# Default rate by category - income\n",
    "\n",
    "print(score.groupby('income_status')['debt'].sum() / score.groupby('income_status')['debt'].size() *100)\n",
    "\n",
    "# True default rate\n",
    "\n",
    "print(score.groupby('income_status')['debt'].sum() / total_debt_i *100)\n",
    "\n",
    "\n",
    "\n"
   ]
  },
  {
   "cell_type": "markdown",
   "metadata": {},
   "source": [
    "**Conclusion**\n",
    "\n",
    "Default rate by category - which takes the number of defaults within each category and divided by the total of that category. Reflecting the percentage of default appearance within that specific category.\n",
    "\n",
    "True default rate - taking the number of defaults within each category and divided by the total defaults of *all* categories under this column. Reflecting the percentage of default appearance based on the category.\n",
    "\n",
    "Although we will need statistical analyses to determine whether the identified differences are significant, comments will be made towards the overall appearance of default based on this category. \n",
    "\n",
    "The difference between different income level for default rate by category is subtle except for high-income due to small sample sizes, suggesting that no group is more likely than other to have default within this specific category. \n",
    "\n",
    "However, the true default rate differs a bit more between different income levels. low-income and low-medium income made up ~94% of the total population with default. While three other levels contribute insignificantly to the total population.\n",
    "\n",
    "Based on the data, we can conclude that there is a correlation between income level and pay back on time, although no group is more likely to have a default than others but low-income and low-medium income clients made up ~94% of the population that has default, while others at 6%. "
   ]
  },
  {
   "cell_type": "markdown",
   "metadata": {},
   "source": [
    "**How does credit purpose affect the default rate?**"
   ]
  },
  {
   "cell_type": "code",
   "execution_count": 80,
   "metadata": {},
   "outputs": [
    {
     "name": "stdout",
     "output_type": "stream",
     "text": [
      "purpose_of_loan  debt\n",
      "car              0        3903\n",
      "                 1         403\n",
      "education        0        3274\n",
      "                 1         331\n",
      "housing          0       10028\n",
      "                 1         782\n",
      "wedding          0        2138\n",
      "                 1         186\n",
      "Name: debt, dtype: int64\n",
      "purpose_of_loan\n",
      "car          9.359034\n",
      "education    9.181692\n",
      "housing      7.234043\n",
      "wedding      8.003442\n",
      "Name: debt, dtype: float64\n",
      "purpose_of_loan\n",
      "car          23.678026\n",
      "education    19.447709\n",
      "housing      45.945946\n",
      "wedding      10.928320\n",
      "Name: debt, dtype: float64\n"
     ]
    }
   ],
   "source": [
    "# Check the percentages for default rate for each credit purpose \n",
    "\n",
    "print(score.groupby('purpose_of_loan')['debt'].value_counts())\n",
    "\n",
    "# Total number of default in purpose_of_loan\n",
    "\n",
    "total_debt_r = score['purpose_of_loan'][score['debt'] == 1].count()\n",
    "\n",
    "# Default rate by category - purpose\n",
    "\n",
    "print(score.groupby('purpose_of_loan')['debt'].sum() / score.groupby('purpose_of_loan')['debt'].size() *100)\n",
    "\n",
    "# True default rate\n",
    "\n",
    "print(score.groupby('purpose_of_loan')['debt'].sum() / total_debt_r *100)\n"
   ]
  },
  {
   "cell_type": "code",
   "execution_count": 86,
   "metadata": {},
   "outputs": [
    {
     "name": "stdout",
     "output_type": "stream",
     "text": [
      "                                                                        debt\n",
      "purpose_of_loan children_status income_status      marriage_status          \n",
      "car             have children   low-income         married          0.107492\n",
      "                                                   not-married      0.127193\n",
      "                                low-medium income  married          0.096354\n",
      "                                                   not-married      0.149606\n",
      "                                medium income      married          0.086420\n",
      "                                                   not-married      0.125000\n",
      "                                medium-high income married          0.000000\n",
      "                                                   not-married      0.000000\n",
      "                no children     low-income         married          0.073171\n",
      "                                                   not-married      0.103586\n",
      "                                low-medium income  married          0.065026\n",
      "                                                   not-married      0.113158\n",
      "                                medium income      married          0.108696\n",
      "                                                   not-married      0.049180\n",
      "                                medium-high income married          0.000000\n",
      "                                                   not-married      0.000000\n",
      "education       have children   high-income        not-married      0.000000\n",
      "                                low-income         married          0.091398\n",
      "                                                   not-married      0.146226\n",
      "                                low-medium income  married          0.087108\n",
      "                                                   not-married      0.094737\n",
      "                                medium income      married          0.105263\n",
      "                                                   not-married      0.000000\n",
      "                                medium-high income married          0.000000\n",
      "                no children     low-income         married          0.081515\n",
      "                                                   not-married      0.096610\n",
      "                                low-medium income  married          0.078947\n",
      "                                                   not-married      0.111111\n",
      "                                medium income      married          0.037037\n",
      "                                                   not-married      0.046512\n",
      "                                medium-high income married          0.166667\n",
      "                                                   not-married      1.000000\n",
      "housing         have children   high-income        married          1.000000\n",
      "                                low-income         married          0.078630\n",
      "                                                   not-married      0.090435\n",
      "                                low-medium income  married          0.071785\n",
      "                                                   not-married      0.121581\n",
      "                                medium income      married          0.058140\n",
      "                                                   not-married      0.125000\n",
      "                                medium-high income married          0.000000\n",
      "                                                   not-married      0.000000\n",
      "                no children     high-income        married          0.000000\n",
      "                                                   not-married      0.000000\n",
      "                                low-income         married          0.066191\n",
      "                                                   not-married      0.064723\n",
      "                                low-medium income  married          0.067586\n",
      "                                                   not-married      0.074737\n",
      "                                medium income      married          0.053061\n",
      "                                                   not-married      0.089172\n",
      "                                medium-high income married          0.058824\n",
      "                                                   not-married      0.076923\n",
      "wedding         have children   low-income         not-married      0.110417\n",
      "                                low-medium income  not-married      0.057692\n",
      "                                medium income      not-married      0.062500\n",
      "                                medium-high income not-married      0.000000\n",
      "                no children     high-income        not-married      0.000000\n",
      "                                low-income         not-married      0.086393\n",
      "                                low-medium income  not-married      0.059160\n",
      "                                medium income      not-married      0.052632\n",
      "                                medium-high income not-married      0.000000\n"
     ]
    }
   ],
   "source": [
    "default_pivot = score.pivot_table(\n",
    "index = ['purpose_of_loan', 'children_status', 'income_status','marriage_status'],\n",
    "values = 'debt',\n",
    "aggfunc = 'mean'\n",
    ")\n",
    "\n",
    "print(default_pivot)"
   ]
  },
  {
   "cell_type": "markdown",
   "metadata": {},
   "source": [
    "**Conclusion**\n",
    "\n",
    "Default rate by category - which takes the number of defaults within each category and divided by the total of that category. Reflecting the percentage of default appearance within that specific category.\n",
    "\n",
    "True default rate - taking the number of defaults within each category and divided by the total defaults of *all* categories under this column. Reflecting the percentage of default appearance based on the category.\n",
    "\n",
    "Although we will need statistical analyses to determine whether the identified differences are significant, comments will be made towards the overall appearance of default based on this category. \n",
    "\n",
    "The difference between different purpose for default rate by category is subtle, suggesting that no group is more likely than other to have default within this specific category. \n",
    "\n",
    "However, the true default rate differs a bit more between different the purpose of loan. housing made up about ~46% of the total population with default. Following by car at 23%, education at 19% and finally wedding at 10%.\n",
    "\n",
    "Based on the data, we can conclude that there is a correlation between purpose of loan and pay back on time, although no group is more likely to have a default than others but for house and car made up ~70% of the population that has default, while others at 30%. \n"
   ]
  },
  {
   "cell_type": "markdown",
   "metadata": {},
   "source": [
    "# General Conclusion \n",
    "\n",
    "Lastly, the dataset has been:\n",
    "\n",
    "1. preprocessed by fixing the 'education' column, where strings are now identical by making them lowercase with str.lower(). \n",
    "\n",
    "The problematic entries -1 and 20 found in 'children' has been replaced with logical values. \n",
    "\n",
    "'days_employed' consisted of ~73% of negative values, which was problematic. An absoulte has been taken for the whole column, changing negative numbers to positive. \n",
    "\n",
    "The 0 found in 'dob_years' column has been replaced with a logical value of 30.\n",
    "\n",
    "Some registers under 'family_status' have been modified to make it more clear. \n",
    "\n",
    "One entry of 'XNA' found in 'gender' column has been removed.\n",
    "\n",
    "'entrepreneur' was merged with 'business' for better representaion in 'income_type' column. While leaving 'student', 'paternity/maternity leave' untouched as unsure of where they qualify. \n",
    "\n",
    "71 obvious duplicates were found using .duplicated() and removed with drop_duplicates().\n",
    "\n",
    "Newly processed dataset now has 21453 rows, as compared to 21525 to begin with. So a total of 72 rows were removed, counting for roughly 0.3% of the dataset. \n",
    "\n",
    "2. Missing values in 'days_employed' and 'total_income' have been filled with median() due to the presence of outliers. \n",
    "\n",
    "3. Three categorical column and one numerical were chosen to categorize. \n",
    "\n",
    "Recall the hypothesis:\n",
    "\n",
    "    1. There is an association between having kids and repaying a loan on time. ('children', 'debt') \n",
    "    2. There is an association between marital status and repaying a loan on time. ('family_status','debt')\n",
    "    3. There is an association between income level and repaying a loan on time. ('total_income','debt')\n",
    "    4. Different loan purposes affect on-time loan repayment ('purpose', 'debt')\n",
    "\n",
    "'children','family_status', and 'purpose' are categorical columns, while 'total_income' is numerical. Currently, there are multiple entries under each column, to get a better idea, they should be categorized into a clear, more representative way.\n",
    "\n",
    "\n",
    "\n",
    "In general, there appeared to be an association between purpose of loan, income-level, having children, and marriage with defaults. Although no statistical analyses were performed to determine whether the identified differences are significant. We can conclude that:\n",
    "\n",
    "In a pool of people that have defaults, the characteristics are:\n",
    "\n",
    "The purpose of loan is likely to be for housing or car;\n",
    "or\n",
    "They do not have children;\n",
    "or\n",
    "They are married;\n",
    "or\n",
    "They have low- or low-medium income. \n",
    "\n",
    "From those charactersitics, income-level (90%) and purpose of loan (70%) appeared to be more representative even with more categories. \n",
    "\n"
   ]
  }
 ],
 "metadata": {
  "ExecuteTimeLog": [
   {
    "duration": 2741,
    "start_time": "2021-10-21T01:08:49.480Z"
   },
   {
    "duration": 52,
    "start_time": "2021-10-21T01:08:53.315Z"
   },
   {
    "duration": 49,
    "start_time": "2021-10-21T01:08:57.432Z"
   },
   {
    "duration": 70,
    "start_time": "2021-10-21T01:09:07.706Z"
   },
   {
    "duration": 569,
    "start_time": "2022-03-22T23:20:52.976Z"
   },
   {
    "duration": 22,
    "start_time": "2022-03-22T23:45:23.843Z"
   },
   {
    "duration": 23,
    "start_time": "2022-03-22T23:45:51.271Z"
   },
   {
    "duration": 14,
    "start_time": "2022-03-22T23:50:29.320Z"
   },
   {
    "duration": 12,
    "start_time": "2022-03-22T23:52:01.993Z"
   },
   {
    "duration": 18,
    "start_time": "2022-03-22T23:56:32.584Z"
   },
   {
    "duration": 105,
    "start_time": "2022-03-22T23:57:44.352Z"
   },
   {
    "duration": 10,
    "start_time": "2022-03-22T23:58:24.835Z"
   },
   {
    "duration": 4,
    "start_time": "2022-03-22T23:58:31.859Z"
   },
   {
    "duration": 4,
    "start_time": "2022-03-22T23:58:45.787Z"
   },
   {
    "duration": 13,
    "start_time": "2022-03-23T00:04:06.982Z"
   },
   {
    "duration": 8,
    "start_time": "2022-03-23T00:05:00.691Z"
   },
   {
    "duration": 7,
    "start_time": "2022-03-23T00:11:15.717Z"
   },
   {
    "duration": 12,
    "start_time": "2022-03-23T00:12:39.523Z"
   },
   {
    "duration": 7,
    "start_time": "2022-03-23T00:24:27.090Z"
   },
   {
    "duration": 7,
    "start_time": "2022-03-23T00:27:29.841Z"
   },
   {
    "duration": 97,
    "start_time": "2022-03-23T00:43:56.428Z"
   },
   {
    "duration": 6,
    "start_time": "2022-03-23T00:44:05.743Z"
   },
   {
    "duration": 11,
    "start_time": "2022-03-23T00:44:23.283Z"
   },
   {
    "duration": 6,
    "start_time": "2022-03-23T00:45:29.090Z"
   },
   {
    "duration": 10,
    "start_time": "2022-03-23T00:47:06.189Z"
   },
   {
    "duration": 6,
    "start_time": "2022-03-23T00:47:28.204Z"
   },
   {
    "duration": 9,
    "start_time": "2022-03-23T00:50:47.356Z"
   },
   {
    "duration": 23,
    "start_time": "2022-03-23T00:53:56.053Z"
   },
   {
    "duration": 9,
    "start_time": "2022-03-23T00:54:17.718Z"
   },
   {
    "duration": 15,
    "start_time": "2022-03-23T00:54:22.835Z"
   },
   {
    "duration": 9,
    "start_time": "2022-03-23T00:55:15.643Z"
   },
   {
    "duration": 109,
    "start_time": "2022-03-23T01:01:48.528Z"
   },
   {
    "duration": 21,
    "start_time": "2022-03-23T01:01:57.408Z"
   },
   {
    "duration": 8,
    "start_time": "2022-03-23T01:02:44.681Z"
   },
   {
    "duration": 16,
    "start_time": "2022-03-23T01:04:15.966Z"
   },
   {
    "duration": 8,
    "start_time": "2022-03-23T01:04:37.548Z"
   },
   {
    "duration": 12,
    "start_time": "2022-03-23T01:06:48.401Z"
   },
   {
    "duration": 17,
    "start_time": "2022-03-23T01:08:44.032Z"
   },
   {
    "duration": 12,
    "start_time": "2022-03-23T01:11:37.682Z"
   },
   {
    "duration": 32,
    "start_time": "2022-03-23T01:17:45.926Z"
   },
   {
    "duration": 113,
    "start_time": "2022-03-23T01:18:02.946Z"
   },
   {
    "duration": 8,
    "start_time": "2022-03-23T01:18:12.071Z"
   },
   {
    "duration": 7,
    "start_time": "2022-03-23T01:18:37.153Z"
   },
   {
    "duration": 1707,
    "start_time": "2022-03-23T01:28:04.071Z"
   },
   {
    "duration": 9,
    "start_time": "2022-03-23T01:28:48.380Z"
   },
   {
    "duration": 9,
    "start_time": "2022-03-23T01:30:05.261Z"
   },
   {
    "duration": 9,
    "start_time": "2022-03-23T01:36:41.028Z"
   },
   {
    "duration": 8,
    "start_time": "2022-03-23T01:37:28.055Z"
   },
   {
    "duration": 12,
    "start_time": "2022-03-23T01:39:07.950Z"
   },
   {
    "duration": 15,
    "start_time": "2022-03-23T01:39:55.138Z"
   },
   {
    "duration": 16,
    "start_time": "2022-03-23T01:40:28.338Z"
   },
   {
    "duration": 17,
    "start_time": "2022-03-23T01:41:01.011Z"
   },
   {
    "duration": 20,
    "start_time": "2022-03-23T01:41:19.977Z"
   },
   {
    "duration": 28,
    "start_time": "2022-03-23T01:41:31.656Z"
   },
   {
    "duration": 7,
    "start_time": "2022-03-23T01:41:51.836Z"
   },
   {
    "duration": 8,
    "start_time": "2022-03-23T01:49:31.086Z"
   },
   {
    "duration": 10,
    "start_time": "2022-03-23T02:01:41.098Z"
   },
   {
    "duration": 9,
    "start_time": "2022-03-23T02:03:18.381Z"
   },
   {
    "duration": 10,
    "start_time": "2022-03-23T02:03:35.558Z"
   },
   {
    "duration": 7,
    "start_time": "2022-03-23T02:04:37.336Z"
   },
   {
    "duration": 6,
    "start_time": "2022-03-23T02:05:07.960Z"
   },
   {
    "duration": 8,
    "start_time": "2022-03-23T02:05:58.685Z"
   },
   {
    "duration": 9,
    "start_time": "2022-03-23T02:07:06.369Z"
   },
   {
    "duration": 1838,
    "start_time": "2022-03-23T02:11:52.235Z"
   },
   {
    "duration": 21,
    "start_time": "2022-03-23T02:12:07.308Z"
   },
   {
    "duration": 0,
    "start_time": "2022-03-23T02:19:02.937Z"
   },
   {
    "duration": 10,
    "start_time": "2022-03-23T02:19:05.865Z"
   },
   {
    "duration": 10,
    "start_time": "2022-03-23T02:19:08.155Z"
   },
   {
    "duration": 17,
    "start_time": "2022-03-23T02:19:29.075Z"
   },
   {
    "duration": 17,
    "start_time": "2022-03-23T02:19:35.336Z"
   },
   {
    "duration": 56962,
    "start_time": "2022-03-23T02:21:41.321Z"
   },
   {
    "duration": 26,
    "start_time": "2022-03-23T02:23:08.897Z"
   },
   {
    "duration": 27,
    "start_time": "2022-03-23T02:28:25.036Z"
   },
   {
    "duration": 28,
    "start_time": "2022-03-23T02:28:31.801Z"
   },
   {
    "duration": 8,
    "start_time": "2022-03-23T02:29:15.775Z"
   },
   {
    "duration": 9,
    "start_time": "2022-03-23T02:29:31.126Z"
   },
   {
    "duration": 27,
    "start_time": "2022-03-23T02:32:55.686Z"
   },
   {
    "duration": 11,
    "start_time": "2022-03-23T02:33:58.077Z"
   },
   {
    "duration": 17,
    "start_time": "2022-03-23T02:34:27.091Z"
   },
   {
    "duration": 108,
    "start_time": "2022-03-23T02:39:03.986Z"
   },
   {
    "duration": 27,
    "start_time": "2022-03-23T02:39:13.476Z"
   },
   {
    "duration": 95,
    "start_time": "2022-03-23T02:39:40.728Z"
   },
   {
    "duration": 25,
    "start_time": "2022-03-23T02:39:45.280Z"
   },
   {
    "duration": 25,
    "start_time": "2022-03-23T02:39:56.128Z"
   },
   {
    "duration": 24,
    "start_time": "2022-03-23T02:39:59.005Z"
   },
   {
    "duration": 27,
    "start_time": "2022-03-23T02:40:59.595Z"
   },
   {
    "duration": 21,
    "start_time": "2022-03-23T02:46:18.414Z"
   },
   {
    "duration": 14,
    "start_time": "2022-03-23T02:51:23.756Z"
   },
   {
    "duration": 15,
    "start_time": "2022-03-23T02:51:34.908Z"
   },
   {
    "duration": 14,
    "start_time": "2022-03-23T02:55:39.083Z"
   },
   {
    "duration": 17,
    "start_time": "2022-03-23T14:20:05.739Z"
   },
   {
    "duration": 19,
    "start_time": "2022-03-23T14:21:29.409Z"
   },
   {
    "duration": 21,
    "start_time": "2022-03-23T14:22:22.479Z"
   },
   {
    "duration": 24,
    "start_time": "2022-03-23T14:23:53.547Z"
   },
   {
    "duration": 29,
    "start_time": "2022-03-23T14:27:15.234Z"
   },
   {
    "duration": 8,
    "start_time": "2022-03-23T14:35:20.686Z"
   },
   {
    "duration": 42,
    "start_time": "2022-03-23T14:36:32.578Z"
   },
   {
    "duration": 12,
    "start_time": "2022-03-23T14:36:43.770Z"
   },
   {
    "duration": 7,
    "start_time": "2022-03-23T14:37:11.335Z"
   },
   {
    "duration": 9,
    "start_time": "2022-03-23T14:38:22.979Z"
   },
   {
    "duration": 8,
    "start_time": "2022-03-23T14:39:30.768Z"
   },
   {
    "duration": 8,
    "start_time": "2022-03-23T14:40:10.553Z"
   },
   {
    "duration": 15,
    "start_time": "2022-03-23T14:43:39.431Z"
   },
   {
    "duration": 12,
    "start_time": "2022-03-23T14:43:44.247Z"
   },
   {
    "duration": 8,
    "start_time": "2022-03-23T14:44:04.060Z"
   },
   {
    "duration": 9,
    "start_time": "2022-03-23T14:45:04.029Z"
   },
   {
    "duration": 10,
    "start_time": "2022-03-23T14:47:14.664Z"
   },
   {
    "duration": 11,
    "start_time": "2022-03-23T14:50:11.538Z"
   },
   {
    "duration": 14,
    "start_time": "2022-03-23T14:51:16.626Z"
   },
   {
    "duration": 11,
    "start_time": "2022-03-23T14:51:43.769Z"
   },
   {
    "duration": 9710,
    "start_time": "2022-03-23T14:54:29.470Z"
   },
   {
    "duration": 27,
    "start_time": "2022-03-23T14:54:52.303Z"
   },
   {
    "duration": 10,
    "start_time": "2022-03-23T14:55:08.399Z"
   },
   {
    "duration": 15,
    "start_time": "2022-03-23T15:00:01.612Z"
   },
   {
    "duration": 23,
    "start_time": "2022-03-23T15:00:12.113Z"
   },
   {
    "duration": 2498,
    "start_time": "2022-03-23T15:00:50.824Z"
   },
   {
    "duration": 53,
    "start_time": "2022-03-23T15:03:20.964Z"
   },
   {
    "duration": 6,
    "start_time": "2022-03-23T15:04:24.677Z"
   },
   {
    "duration": 47,
    "start_time": "2022-03-23T15:04:29.873Z"
   },
   {
    "duration": 51,
    "start_time": "2022-03-23T15:04:55.346Z"
   },
   {
    "duration": 161,
    "start_time": "2022-03-23T15:05:38.162Z"
   },
   {
    "duration": 165,
    "start_time": "2022-03-23T15:05:43.855Z"
   },
   {
    "duration": 27,
    "start_time": "2022-03-23T15:05:51.273Z"
   },
   {
    "duration": 30,
    "start_time": "2022-03-23T15:06:11.363Z"
   },
   {
    "duration": 27,
    "start_time": "2022-03-23T15:06:30.995Z"
   },
   {
    "duration": 25,
    "start_time": "2022-03-23T15:07:18.648Z"
   },
   {
    "duration": 22,
    "start_time": "2022-03-23T15:07:23.242Z"
   },
   {
    "duration": 57,
    "start_time": "2022-03-23T15:13:30.011Z"
   },
   {
    "duration": 54,
    "start_time": "2022-03-23T15:14:03.362Z"
   },
   {
    "duration": 60,
    "start_time": "2022-03-23T15:14:43.229Z"
   },
   {
    "duration": 63,
    "start_time": "2022-03-23T15:15:33.484Z"
   },
   {
    "duration": 10,
    "start_time": "2022-03-23T16:08:47.408Z"
   },
   {
    "duration": 8,
    "start_time": "2022-03-23T16:09:29.390Z"
   },
   {
    "duration": 11,
    "start_time": "2022-03-23T16:19:29.473Z"
   },
   {
    "duration": 6,
    "start_time": "2022-03-23T16:20:33.856Z"
   },
   {
    "duration": 9,
    "start_time": "2022-03-23T16:28:08.370Z"
   },
   {
    "duration": 7,
    "start_time": "2022-03-23T16:28:30.616Z"
   },
   {
    "duration": 20,
    "start_time": "2022-03-23T16:32:44.845Z"
   },
   {
    "duration": 6,
    "start_time": "2022-03-23T16:32:48.004Z"
   },
   {
    "duration": 7,
    "start_time": "2022-03-23T16:33:04.585Z"
   },
   {
    "duration": 21,
    "start_time": "2022-03-23T16:33:33.438Z"
   },
   {
    "duration": 6,
    "start_time": "2022-03-23T16:33:36.990Z"
   },
   {
    "duration": 5,
    "start_time": "2022-03-23T16:34:01.586Z"
   },
   {
    "duration": 12,
    "start_time": "2022-03-23T16:39:44.239Z"
   },
   {
    "duration": 20,
    "start_time": "2022-03-23T16:42:53.701Z"
   },
   {
    "duration": 7,
    "start_time": "2022-03-23T16:42:56.726Z"
   },
   {
    "duration": 6,
    "start_time": "2022-03-23T16:44:49.856Z"
   },
   {
    "duration": 6,
    "start_time": "2022-03-23T17:41:45.276Z"
   },
   {
    "duration": 7,
    "start_time": "2022-03-23T17:42:18.142Z"
   },
   {
    "duration": 8,
    "start_time": "2022-03-23T17:42:35.166Z"
   },
   {
    "duration": 10,
    "start_time": "2022-03-23T17:49:28.606Z"
   },
   {
    "duration": 10,
    "start_time": "2022-03-23T17:51:05.961Z"
   },
   {
    "duration": 11,
    "start_time": "2022-03-23T17:51:34.058Z"
   },
   {
    "duration": 13,
    "start_time": "2022-03-23T17:51:48.092Z"
   },
   {
    "duration": 15,
    "start_time": "2022-03-23T17:52:43.388Z"
   },
   {
    "duration": 6,
    "start_time": "2022-03-23T17:53:14.303Z"
   },
   {
    "duration": 7,
    "start_time": "2022-03-23T17:56:33.903Z"
   },
   {
    "duration": 6,
    "start_time": "2022-03-23T17:56:49.221Z"
   },
   {
    "duration": 7,
    "start_time": "2022-03-23T17:58:27.484Z"
   },
   {
    "duration": 5,
    "start_time": "2022-03-23T18:11:40.996Z"
   },
   {
    "duration": 6,
    "start_time": "2022-03-23T18:11:50.571Z"
   },
   {
    "duration": 15,
    "start_time": "2022-03-23T18:16:11.443Z"
   },
   {
    "duration": 14,
    "start_time": "2022-03-23T18:16:43.443Z"
   },
   {
    "duration": 52,
    "start_time": "2022-03-23T18:17:11.480Z"
   },
   {
    "duration": 5,
    "start_time": "2022-03-23T18:17:11.535Z"
   },
   {
    "duration": 15,
    "start_time": "2022-03-23T18:17:11.542Z"
   },
   {
    "duration": 54,
    "start_time": "2022-03-23T18:17:11.560Z"
   },
   {
    "duration": 8,
    "start_time": "2022-03-23T18:17:11.617Z"
   },
   {
    "duration": 62,
    "start_time": "2022-03-23T18:17:11.627Z"
   },
   {
    "duration": 32,
    "start_time": "2022-03-23T18:17:11.693Z"
   },
   {
    "duration": 53,
    "start_time": "2022-03-23T18:17:11.729Z"
   },
   {
    "duration": 9,
    "start_time": "2022-03-23T18:17:11.785Z"
   },
   {
    "duration": 12,
    "start_time": "2022-03-23T18:17:11.801Z"
   },
   {
    "duration": 13,
    "start_time": "2022-03-23T18:17:11.816Z"
   },
   {
    "duration": 100,
    "start_time": "2022-03-23T18:17:11.883Z"
   },
   {
    "duration": 9,
    "start_time": "2022-03-23T18:17:11.986Z"
   },
   {
    "duration": 12,
    "start_time": "2022-03-23T18:17:11.997Z"
   },
   {
    "duration": 7,
    "start_time": "2022-03-23T18:17:12.011Z"
   },
   {
    "duration": 63,
    "start_time": "2022-03-23T18:17:12.020Z"
   },
   {
    "duration": 6,
    "start_time": "2022-03-23T18:17:12.086Z"
   },
   {
    "duration": 20,
    "start_time": "2022-03-23T18:17:12.095Z"
   },
   {
    "duration": 9,
    "start_time": "2022-03-23T18:17:12.117Z"
   },
   {
    "duration": 6,
    "start_time": "2022-03-23T18:17:12.128Z"
   },
   {
    "duration": 10,
    "start_time": "2022-03-23T18:17:12.136Z"
   },
   {
    "duration": 5,
    "start_time": "2022-03-23T18:17:12.182Z"
   },
   {
    "duration": 16,
    "start_time": "2022-03-23T18:17:12.190Z"
   },
   {
    "duration": 64,
    "start_time": "2022-03-23T18:17:12.208Z"
   },
   {
    "duration": 4,
    "start_time": "2022-03-23T18:17:12.282Z"
   },
   {
    "duration": 11,
    "start_time": "2022-03-23T18:17:12.287Z"
   },
   {
    "duration": 7,
    "start_time": "2022-03-23T18:17:12.300Z"
   },
   {
    "duration": 3,
    "start_time": "2022-03-23T18:17:12.314Z"
   },
   {
    "duration": 7,
    "start_time": "2022-03-23T18:17:12.319Z"
   },
   {
    "duration": 7,
    "start_time": "2022-03-23T18:17:12.328Z"
   },
   {
    "duration": 6,
    "start_time": "2022-03-23T18:17:12.338Z"
   },
   {
    "duration": 4,
    "start_time": "2022-03-23T18:17:12.382Z"
   },
   {
    "duration": 5,
    "start_time": "2022-03-23T18:17:12.388Z"
   },
   {
    "duration": 6,
    "start_time": "2022-03-23T18:17:12.396Z"
   },
   {
    "duration": 5,
    "start_time": "2022-03-23T18:17:12.405Z"
   },
   {
    "duration": 6,
    "start_time": "2022-03-23T18:17:12.412Z"
   },
   {
    "duration": 5,
    "start_time": "2022-03-23T18:17:12.420Z"
   },
   {
    "duration": 6,
    "start_time": "2022-03-23T18:17:12.428Z"
   },
   {
    "duration": 48,
    "start_time": "2022-03-23T18:17:12.436Z"
   },
   {
    "duration": 6,
    "start_time": "2022-03-23T18:17:12.487Z"
   },
   {
    "duration": 7,
    "start_time": "2022-03-23T18:17:12.495Z"
   },
   {
    "duration": 5,
    "start_time": "2022-03-23T18:17:12.505Z"
   },
   {
    "duration": 5,
    "start_time": "2022-03-23T18:17:12.512Z"
   },
   {
    "duration": 5,
    "start_time": "2022-03-23T18:17:12.519Z"
   },
   {
    "duration": 5,
    "start_time": "2022-03-23T18:17:12.527Z"
   },
   {
    "duration": 48,
    "start_time": "2022-03-23T18:17:12.535Z"
   },
   {
    "duration": 7,
    "start_time": "2022-03-23T18:17:12.585Z"
   },
   {
    "duration": 6,
    "start_time": "2022-03-23T18:17:12.594Z"
   },
   {
    "duration": 5,
    "start_time": "2022-03-23T18:17:12.602Z"
   },
   {
    "duration": 6,
    "start_time": "2022-03-23T18:17:12.610Z"
   },
   {
    "duration": 6,
    "start_time": "2022-03-23T18:17:12.618Z"
   },
   {
    "duration": 8,
    "start_time": "2022-03-23T18:17:12.626Z"
   },
   {
    "duration": 5,
    "start_time": "2022-03-23T18:17:12.636Z"
   },
   {
    "duration": 40,
    "start_time": "2022-03-23T18:17:12.643Z"
   },
   {
    "duration": 7,
    "start_time": "2022-03-23T18:17:12.685Z"
   },
   {
    "duration": 6,
    "start_time": "2022-03-23T18:17:12.694Z"
   },
   {
    "duration": 6,
    "start_time": "2022-03-23T18:17:12.702Z"
   },
   {
    "duration": 7,
    "start_time": "2022-03-23T18:17:12.710Z"
   },
   {
    "duration": 7,
    "start_time": "2022-03-23T18:17:12.719Z"
   },
   {
    "duration": 8,
    "start_time": "2022-03-23T18:17:12.728Z"
   },
   {
    "duration": 6,
    "start_time": "2022-03-23T18:17:12.738Z"
   },
   {
    "duration": 5,
    "start_time": "2022-03-23T18:17:12.746Z"
   },
   {
    "duration": 3,
    "start_time": "2022-03-23T18:17:12.783Z"
   },
   {
    "duration": 5,
    "start_time": "2022-03-23T18:17:12.788Z"
   },
   {
    "duration": 5,
    "start_time": "2022-03-23T18:17:12.795Z"
   },
   {
    "duration": 5,
    "start_time": "2022-03-23T18:17:12.802Z"
   },
   {
    "duration": 6,
    "start_time": "2022-03-23T18:17:12.809Z"
   },
   {
    "duration": 7,
    "start_time": "2022-03-23T18:17:12.817Z"
   },
   {
    "duration": 5,
    "start_time": "2022-03-23T18:17:12.826Z"
   },
   {
    "duration": 5,
    "start_time": "2022-03-23T18:17:12.833Z"
   },
   {
    "duration": 4,
    "start_time": "2022-03-23T18:17:12.883Z"
   },
   {
    "duration": 7,
    "start_time": "2022-03-23T18:17:12.889Z"
   },
   {
    "duration": 5,
    "start_time": "2022-03-23T18:17:12.899Z"
   },
   {
    "duration": 7,
    "start_time": "2022-03-23T18:17:12.906Z"
   },
   {
    "duration": 8,
    "start_time": "2022-03-23T18:17:12.915Z"
   },
   {
    "duration": 7,
    "start_time": "2022-03-23T18:17:12.925Z"
   },
   {
    "duration": 5,
    "start_time": "2022-03-23T18:17:12.934Z"
   },
   {
    "duration": 18,
    "start_time": "2022-03-23T18:17:35.477Z"
   },
   {
    "duration": 168,
    "start_time": "2022-03-23T18:18:40.257Z"
   },
   {
    "duration": 10,
    "start_time": "2022-03-23T18:19:05.177Z"
   },
   {
    "duration": 6,
    "start_time": "2022-03-23T18:20:04.489Z"
   },
   {
    "duration": 7,
    "start_time": "2022-03-23T18:20:06.800Z"
   },
   {
    "duration": 6,
    "start_time": "2022-03-23T18:25:16.730Z"
   },
   {
    "duration": 9,
    "start_time": "2022-03-23T18:26:07.796Z"
   },
   {
    "duration": 7,
    "start_time": "2022-03-23T18:27:55.732Z"
   },
   {
    "duration": 10,
    "start_time": "2022-03-23T18:28:14.693Z"
   },
   {
    "duration": 5,
    "start_time": "2022-03-23T18:35:42.868Z"
   },
   {
    "duration": 6,
    "start_time": "2022-03-23T18:35:52.666Z"
   },
   {
    "duration": 7,
    "start_time": "2022-03-23T18:37:09.111Z"
   },
   {
    "duration": 9,
    "start_time": "2022-03-23T18:43:38.007Z"
   },
   {
    "duration": 6,
    "start_time": "2022-03-23T18:43:45.762Z"
   },
   {
    "duration": 6,
    "start_time": "2022-03-23T18:44:26.973Z"
   },
   {
    "duration": 12,
    "start_time": "2022-03-23T18:45:30.135Z"
   },
   {
    "duration": 11,
    "start_time": "2022-03-23T18:52:49.234Z"
   },
   {
    "duration": 5,
    "start_time": "2022-03-23T18:55:35.175Z"
   },
   {
    "duration": 10,
    "start_time": "2022-03-23T18:56:13.762Z"
   },
   {
    "duration": 25,
    "start_time": "2022-03-23T18:57:51.678Z"
   },
   {
    "duration": 29,
    "start_time": "2022-03-23T19:00:37.686Z"
   },
   {
    "duration": 24,
    "start_time": "2022-03-23T19:00:55.339Z"
   },
   {
    "duration": 20,
    "start_time": "2022-03-23T19:01:40.803Z"
   },
   {
    "duration": 9,
    "start_time": "2022-03-23T19:09:59.010Z"
   },
   {
    "duration": 6,
    "start_time": "2022-03-23T19:10:09.319Z"
   },
   {
    "duration": 6,
    "start_time": "2022-03-23T19:16:54.598Z"
   },
   {
    "duration": 6,
    "start_time": "2022-03-23T19:17:04.076Z"
   },
   {
    "duration": 19,
    "start_time": "2022-03-23T19:17:50.019Z"
   },
   {
    "duration": 26,
    "start_time": "2022-03-23T19:19:49.673Z"
   },
   {
    "duration": 147,
    "start_time": "2022-03-23T19:38:52.385Z"
   },
   {
    "duration": 10,
    "start_time": "2022-03-23T19:44:21.658Z"
   },
   {
    "duration": 24,
    "start_time": "2022-03-23T19:44:25.687Z"
   },
   {
    "duration": 166,
    "start_time": "2022-03-23T19:44:42.805Z"
   },
   {
    "duration": 5,
    "start_time": "2022-03-23T19:44:42.973Z"
   },
   {
    "duration": 17,
    "start_time": "2022-03-23T19:44:42.980Z"
   },
   {
    "duration": 21,
    "start_time": "2022-03-23T19:44:43.000Z"
   },
   {
    "duration": 7,
    "start_time": "2022-03-23T19:44:43.023Z"
   },
   {
    "duration": 50,
    "start_time": "2022-03-23T19:44:43.032Z"
   },
   {
    "duration": 54,
    "start_time": "2022-03-23T19:44:43.084Z"
   },
   {
    "duration": 44,
    "start_time": "2022-03-23T19:44:43.140Z"
   },
   {
    "duration": 8,
    "start_time": "2022-03-23T19:44:43.187Z"
   },
   {
    "duration": 11,
    "start_time": "2022-03-23T19:44:43.199Z"
   },
   {
    "duration": 11,
    "start_time": "2022-03-23T19:44:43.213Z"
   },
   {
    "duration": 109,
    "start_time": "2022-03-23T19:44:43.226Z"
   },
   {
    "duration": 8,
    "start_time": "2022-03-23T19:44:43.338Z"
   },
   {
    "duration": 35,
    "start_time": "2022-03-23T19:44:43.349Z"
   },
   {
    "duration": 10,
    "start_time": "2022-03-23T19:44:43.386Z"
   },
   {
    "duration": 23,
    "start_time": "2022-03-23T19:44:43.398Z"
   },
   {
    "duration": 6,
    "start_time": "2022-03-23T19:44:43.423Z"
   },
   {
    "duration": 51,
    "start_time": "2022-03-23T19:44:43.431Z"
   },
   {
    "duration": 6,
    "start_time": "2022-03-23T19:44:43.484Z"
   },
   {
    "duration": 10,
    "start_time": "2022-03-23T19:44:43.492Z"
   },
   {
    "duration": 8,
    "start_time": "2022-03-23T19:44:43.505Z"
   },
   {
    "duration": 7,
    "start_time": "2022-03-23T19:44:43.516Z"
   },
   {
    "duration": 6,
    "start_time": "2022-03-23T19:44:43.525Z"
   },
   {
    "duration": 56,
    "start_time": "2022-03-23T19:44:43.534Z"
   },
   {
    "duration": 5,
    "start_time": "2022-03-23T19:44:43.592Z"
   },
   {
    "duration": 7,
    "start_time": "2022-03-23T19:44:43.599Z"
   },
   {
    "duration": 8,
    "start_time": "2022-03-23T19:44:43.609Z"
   },
   {
    "duration": 4,
    "start_time": "2022-03-23T19:44:43.623Z"
   },
   {
    "duration": 55,
    "start_time": "2022-03-23T19:44:43.629Z"
   },
   {
    "duration": 11,
    "start_time": "2022-03-23T19:44:43.686Z"
   },
   {
    "duration": 8,
    "start_time": "2022-03-23T19:44:43.699Z"
   },
   {
    "duration": 6,
    "start_time": "2022-03-23T19:44:43.709Z"
   },
   {
    "duration": 10,
    "start_time": "2022-03-23T19:44:43.717Z"
   },
   {
    "duration": 53,
    "start_time": "2022-03-23T19:44:43.730Z"
   },
   {
    "duration": 6,
    "start_time": "2022-03-23T19:44:43.785Z"
   },
   {
    "duration": 11,
    "start_time": "2022-03-23T19:44:43.794Z"
   },
   {
    "duration": 6,
    "start_time": "2022-03-23T19:44:43.807Z"
   },
   {
    "duration": 7,
    "start_time": "2022-03-23T19:44:43.815Z"
   },
   {
    "duration": 71,
    "start_time": "2022-03-23T19:44:43.824Z"
   },
   {
    "duration": 4,
    "start_time": "2022-03-23T19:44:43.897Z"
   },
   {
    "duration": 26,
    "start_time": "2022-03-23T19:44:43.903Z"
   },
   {
    "duration": 19,
    "start_time": "2022-03-23T19:44:43.931Z"
   },
   {
    "duration": 170,
    "start_time": "2022-03-23T19:44:43.952Z"
   },
   {
    "duration": 4,
    "start_time": "2022-03-23T19:44:44.124Z"
   },
   {
    "duration": 7,
    "start_time": "2022-03-23T19:44:44.130Z"
   },
   {
    "duration": 7,
    "start_time": "2022-03-23T19:44:44.139Z"
   },
   {
    "duration": 7,
    "start_time": "2022-03-23T19:44:44.148Z"
   },
   {
    "duration": 6,
    "start_time": "2022-03-23T19:44:44.157Z"
   },
   {
    "duration": 6,
    "start_time": "2022-03-23T19:44:44.165Z"
   },
   {
    "duration": 10,
    "start_time": "2022-03-23T19:44:44.173Z"
   },
   {
    "duration": 7,
    "start_time": "2022-03-23T19:44:44.185Z"
   },
   {
    "duration": 11,
    "start_time": "2022-03-23T19:44:44.194Z"
   },
   {
    "duration": 7,
    "start_time": "2022-03-23T19:44:44.207Z"
   },
   {
    "duration": 7,
    "start_time": "2022-03-23T19:44:44.216Z"
   },
   {
    "duration": 5,
    "start_time": "2022-03-23T19:44:44.225Z"
   },
   {
    "duration": 6,
    "start_time": "2022-03-23T19:44:44.232Z"
   },
   {
    "duration": 13,
    "start_time": "2022-03-23T19:44:44.240Z"
   },
   {
    "duration": 18,
    "start_time": "2022-03-23T19:44:44.256Z"
   },
   {
    "duration": 5,
    "start_time": "2022-03-23T19:44:44.276Z"
   },
   {
    "duration": 9,
    "start_time": "2022-03-23T19:44:44.283Z"
   },
   {
    "duration": 12,
    "start_time": "2022-03-23T19:44:44.294Z"
   },
   {
    "duration": 6,
    "start_time": "2022-03-23T19:44:44.308Z"
   },
   {
    "duration": 10,
    "start_time": "2022-03-23T19:44:44.316Z"
   },
   {
    "duration": 8,
    "start_time": "2022-03-23T19:44:44.329Z"
   },
   {
    "duration": 8,
    "start_time": "2022-03-23T19:44:44.340Z"
   },
   {
    "duration": 9,
    "start_time": "2022-03-23T19:44:44.350Z"
   },
   {
    "duration": 11,
    "start_time": "2022-03-23T19:44:44.361Z"
   },
   {
    "duration": 6,
    "start_time": "2022-03-23T19:44:44.374Z"
   },
   {
    "duration": 6,
    "start_time": "2022-03-23T19:44:44.383Z"
   },
   {
    "duration": 10,
    "start_time": "2022-03-23T19:44:44.392Z"
   },
   {
    "duration": 8,
    "start_time": "2022-03-23T19:44:44.404Z"
   },
   {
    "duration": 6,
    "start_time": "2022-03-23T19:44:44.414Z"
   },
   {
    "duration": 9,
    "start_time": "2022-03-23T19:44:44.422Z"
   },
   {
    "duration": 6,
    "start_time": "2022-03-23T19:44:44.433Z"
   },
   {
    "duration": 6,
    "start_time": "2022-03-23T19:44:44.441Z"
   },
   {
    "duration": 8,
    "start_time": "2022-03-23T19:44:44.449Z"
   },
   {
    "duration": 9,
    "start_time": "2022-03-23T19:44:44.459Z"
   },
   {
    "duration": 27,
    "start_time": "2022-03-23T19:45:32.311Z"
   },
   {
    "duration": 55,
    "start_time": "2022-03-23T19:46:26.381Z"
   },
   {
    "duration": 149,
    "start_time": "2022-03-23T19:46:58.964Z"
   },
   {
    "duration": 48,
    "start_time": "2022-03-23T19:47:08.236Z"
   },
   {
    "duration": 49,
    "start_time": "2022-03-23T19:47:45.840Z"
   },
   {
    "duration": 36,
    "start_time": "2022-03-23T19:48:47.441Z"
   },
   {
    "duration": 24,
    "start_time": "2022-03-23T19:48:49.886Z"
   },
   {
    "duration": 21,
    "start_time": "2022-03-23T19:48:52.018Z"
   },
   {
    "duration": 28,
    "start_time": "2022-03-23T19:49:42.542Z"
   },
   {
    "duration": 24,
    "start_time": "2022-03-23T19:49:44.887Z"
   },
   {
    "duration": 34,
    "start_time": "2022-03-23T19:49:50.565Z"
   },
   {
    "duration": 32,
    "start_time": "2022-03-23T19:49:52.596Z"
   },
   {
    "duration": 32,
    "start_time": "2022-03-23T19:50:32.259Z"
   },
   {
    "duration": 47,
    "start_time": "2022-03-23T19:50:53.826Z"
   },
   {
    "duration": 39,
    "start_time": "2022-03-23T19:51:01.863Z"
   },
   {
    "duration": 31,
    "start_time": "2022-03-23T19:51:16.802Z"
   },
   {
    "duration": 51,
    "start_time": "2022-03-23T19:51:30.482Z"
   },
   {
    "duration": 5,
    "start_time": "2022-03-23T19:51:30.536Z"
   },
   {
    "duration": 46,
    "start_time": "2022-03-23T19:51:30.543Z"
   },
   {
    "duration": 32,
    "start_time": "2022-03-23T19:51:30.592Z"
   },
   {
    "duration": 7,
    "start_time": "2022-03-23T19:51:30.626Z"
   },
   {
    "duration": 47,
    "start_time": "2022-03-23T19:51:30.635Z"
   },
   {
    "duration": 27,
    "start_time": "2022-03-23T19:51:30.684Z"
   },
   {
    "duration": 23,
    "start_time": "2022-03-23T19:51:30.713Z"
   },
   {
    "duration": 43,
    "start_time": "2022-03-23T19:51:30.739Z"
   },
   {
    "duration": 16,
    "start_time": "2022-03-23T19:51:30.789Z"
   },
   {
    "duration": 22,
    "start_time": "2022-03-23T19:51:30.808Z"
   },
   {
    "duration": 99,
    "start_time": "2022-03-23T19:51:30.832Z"
   },
   {
    "duration": 8,
    "start_time": "2022-03-23T19:51:30.933Z"
   },
   {
    "duration": 39,
    "start_time": "2022-03-23T19:51:30.943Z"
   },
   {
    "duration": 18,
    "start_time": "2022-03-23T19:51:30.984Z"
   },
   {
    "duration": 41,
    "start_time": "2022-03-23T19:51:31.004Z"
   },
   {
    "duration": 30,
    "start_time": "2022-03-23T19:51:31.048Z"
   },
   {
    "duration": 38,
    "start_time": "2022-03-23T19:51:31.081Z"
   },
   {
    "duration": 20,
    "start_time": "2022-03-23T19:51:31.122Z"
   },
   {
    "duration": 28,
    "start_time": "2022-03-23T19:51:31.146Z"
   },
   {
    "duration": 28,
    "start_time": "2022-03-23T19:51:31.177Z"
   },
   {
    "duration": 15,
    "start_time": "2022-03-23T19:51:31.208Z"
   },
   {
    "duration": 31,
    "start_time": "2022-03-23T19:51:31.225Z"
   },
   {
    "duration": 26,
    "start_time": "2022-03-23T19:51:31.259Z"
   },
   {
    "duration": 20,
    "start_time": "2022-03-23T19:51:31.287Z"
   },
   {
    "duration": 33,
    "start_time": "2022-03-23T19:51:31.309Z"
   },
   {
    "duration": 40,
    "start_time": "2022-03-23T19:51:31.344Z"
   },
   {
    "duration": 25,
    "start_time": "2022-03-23T19:51:31.391Z"
   },
   {
    "duration": 28,
    "start_time": "2022-03-23T19:51:31.418Z"
   },
   {
    "duration": 34,
    "start_time": "2022-03-23T19:51:31.448Z"
   },
   {
    "duration": 20,
    "start_time": "2022-03-23T19:51:31.485Z"
   },
   {
    "duration": 15,
    "start_time": "2022-03-23T19:51:31.507Z"
   },
   {
    "duration": 32,
    "start_time": "2022-03-23T19:51:31.524Z"
   },
   {
    "duration": 25,
    "start_time": "2022-03-23T19:51:31.558Z"
   },
   {
    "duration": 15,
    "start_time": "2022-03-23T19:51:31.585Z"
   },
   {
    "duration": 26,
    "start_time": "2022-03-23T19:51:31.602Z"
   },
   {
    "duration": 19,
    "start_time": "2022-03-23T19:51:31.631Z"
   },
   {
    "duration": 12,
    "start_time": "2022-03-23T19:51:31.652Z"
   },
   {
    "duration": 21,
    "start_time": "2022-03-23T19:51:31.667Z"
   },
   {
    "duration": 15,
    "start_time": "2022-03-23T19:51:31.691Z"
   },
   {
    "duration": 56,
    "start_time": "2022-03-23T19:51:31.708Z"
   },
   {
    "duration": 19,
    "start_time": "2022-03-23T19:51:31.766Z"
   },
   {
    "duration": 175,
    "start_time": "2022-03-23T19:51:31.787Z"
   },
   {
    "duration": 26,
    "start_time": "2022-03-23T19:51:31.965Z"
   },
   {
    "duration": 17,
    "start_time": "2022-03-23T19:51:31.994Z"
   },
   {
    "duration": 32,
    "start_time": "2022-03-23T19:51:32.013Z"
   },
   {
    "duration": 34,
    "start_time": "2022-03-23T19:51:32.047Z"
   },
   {
    "duration": 18,
    "start_time": "2022-03-23T19:51:32.083Z"
   },
   {
    "duration": 19,
    "start_time": "2022-03-23T19:51:32.103Z"
   },
   {
    "duration": 17,
    "start_time": "2022-03-23T19:51:32.125Z"
   },
   {
    "duration": 13,
    "start_time": "2022-03-23T19:51:32.147Z"
   },
   {
    "duration": 19,
    "start_time": "2022-03-23T19:51:32.162Z"
   },
   {
    "duration": 22,
    "start_time": "2022-03-23T19:51:32.183Z"
   },
   {
    "duration": 21,
    "start_time": "2022-03-23T19:51:32.208Z"
   },
   {
    "duration": 14,
    "start_time": "2022-03-23T19:51:32.232Z"
   },
   {
    "duration": 22,
    "start_time": "2022-03-23T19:51:32.249Z"
   },
   {
    "duration": 18,
    "start_time": "2022-03-23T19:51:32.274Z"
   },
   {
    "duration": 15,
    "start_time": "2022-03-23T19:51:32.294Z"
   },
   {
    "duration": 5,
    "start_time": "2022-03-23T19:51:32.313Z"
   },
   {
    "duration": 12,
    "start_time": "2022-03-23T19:51:32.320Z"
   },
   {
    "duration": 31,
    "start_time": "2022-03-23T19:51:32.335Z"
   },
   {
    "duration": 24,
    "start_time": "2022-03-23T19:51:32.368Z"
   },
   {
    "duration": 15,
    "start_time": "2022-03-23T19:51:32.394Z"
   },
   {
    "duration": 23,
    "start_time": "2022-03-23T19:51:32.412Z"
   },
   {
    "duration": 18,
    "start_time": "2022-03-23T19:51:32.438Z"
   },
   {
    "duration": 18,
    "start_time": "2022-03-23T19:51:32.459Z"
   },
   {
    "duration": 20,
    "start_time": "2022-03-23T19:51:32.480Z"
   },
   {
    "duration": 45,
    "start_time": "2022-03-23T19:51:32.502Z"
   },
   {
    "duration": 22,
    "start_time": "2022-03-23T19:51:32.550Z"
   },
   {
    "duration": 19,
    "start_time": "2022-03-23T19:51:32.574Z"
   },
   {
    "duration": 24,
    "start_time": "2022-03-23T19:51:32.595Z"
   },
   {
    "duration": 20,
    "start_time": "2022-03-23T19:51:32.621Z"
   },
   {
    "duration": 18,
    "start_time": "2022-03-23T19:51:32.643Z"
   },
   {
    "duration": 20,
    "start_time": "2022-03-23T19:51:32.664Z"
   },
   {
    "duration": 37,
    "start_time": "2022-03-23T19:51:32.687Z"
   },
   {
    "duration": 14,
    "start_time": "2022-03-23T19:51:32.727Z"
   },
   {
    "duration": 21,
    "start_time": "2022-03-23T19:51:32.743Z"
   },
   {
    "duration": 29,
    "start_time": "2022-03-23T19:52:01.760Z"
   },
   {
    "duration": 25,
    "start_time": "2022-03-23T19:52:21.537Z"
   },
   {
    "duration": 45,
    "start_time": "2022-03-23T19:52:29.387Z"
   },
   {
    "duration": 46,
    "start_time": "2022-03-23T19:52:32.536Z"
   },
   {
    "duration": 59,
    "start_time": "2022-03-23T19:52:43.432Z"
   },
   {
    "duration": 10,
    "start_time": "2022-03-23T19:54:10.957Z"
   },
   {
    "duration": 9,
    "start_time": "2022-03-23T19:54:33.320Z"
   },
   {
    "duration": 31,
    "start_time": "2022-03-23T19:55:01.323Z"
   },
   {
    "duration": 24,
    "start_time": "2022-03-23T19:55:03.239Z"
   },
   {
    "duration": 19,
    "start_time": "2022-03-23T19:55:06.016Z"
   },
   {
    "duration": 4,
    "start_time": "2022-03-23T19:59:36.841Z"
   },
   {
    "duration": 6,
    "start_time": "2022-03-23T20:07:58.045Z"
   },
   {
    "duration": 12,
    "start_time": "2022-03-23T20:08:10.791Z"
   },
   {
    "duration": 5,
    "start_time": "2022-03-23T20:08:18.366Z"
   },
   {
    "duration": 6,
    "start_time": "2022-03-23T20:08:34.183Z"
   },
   {
    "duration": 5,
    "start_time": "2022-03-23T20:08:47.530Z"
   },
   {
    "duration": 6,
    "start_time": "2022-03-23T20:08:49.985Z"
   },
   {
    "duration": 5,
    "start_time": "2022-03-23T20:09:08.697Z"
   },
   {
    "duration": 15,
    "start_time": "2022-03-23T20:09:19.326Z"
   },
   {
    "duration": 15,
    "start_time": "2022-03-23T20:09:35.136Z"
   },
   {
    "duration": 23,
    "start_time": "2022-03-23T20:11:26.462Z"
   },
   {
    "duration": 18,
    "start_time": "2022-03-23T20:16:36.258Z"
   },
   {
    "duration": 18,
    "start_time": "2022-03-23T20:16:49.907Z"
   },
   {
    "duration": 17,
    "start_time": "2022-03-23T20:20:11.845Z"
   },
   {
    "duration": 23,
    "start_time": "2022-03-23T20:21:17.122Z"
   },
   {
    "duration": 17,
    "start_time": "2022-03-23T20:21:38.898Z"
   },
   {
    "duration": 23,
    "start_time": "2022-03-23T20:29:26.950Z"
   },
   {
    "duration": 16,
    "start_time": "2022-03-23T20:36:06.258Z"
   },
   {
    "duration": 10,
    "start_time": "2022-03-23T20:36:16.270Z"
   },
   {
    "duration": 14,
    "start_time": "2022-03-23T20:36:28.108Z"
   },
   {
    "duration": 22,
    "start_time": "2022-03-23T20:37:03.227Z"
   },
   {
    "duration": 18,
    "start_time": "2022-03-23T20:38:26.758Z"
   },
   {
    "duration": 16,
    "start_time": "2022-03-23T20:38:47.654Z"
   },
   {
    "duration": 12,
    "start_time": "2022-03-23T20:39:16.230Z"
   },
   {
    "duration": 12,
    "start_time": "2022-03-23T20:43:07.845Z"
   },
   {
    "duration": 42,
    "start_time": "2022-03-23T20:44:05.991Z"
   },
   {
    "duration": 21,
    "start_time": "2022-03-23T20:45:17.937Z"
   },
   {
    "duration": 9,
    "start_time": "2022-03-23T20:46:59.606Z"
   },
   {
    "duration": 18,
    "start_time": "2022-03-23T20:49:23.447Z"
   },
   {
    "duration": 25,
    "start_time": "2022-03-23T20:49:33.339Z"
   },
   {
    "duration": 13,
    "start_time": "2022-03-23T20:50:34.499Z"
   },
   {
    "duration": 9,
    "start_time": "2022-03-23T20:51:11.236Z"
   },
   {
    "duration": 11,
    "start_time": "2022-03-23T20:51:18.766Z"
   },
   {
    "duration": 8,
    "start_time": "2022-03-23T20:51:22.737Z"
   },
   {
    "duration": 14,
    "start_time": "2022-03-23T20:51:36.047Z"
   },
   {
    "duration": 26,
    "start_time": "2022-03-23T20:52:12.527Z"
   },
   {
    "duration": 31,
    "start_time": "2022-03-23T20:53:57.297Z"
   },
   {
    "duration": 26,
    "start_time": "2022-03-23T20:57:07.261Z"
   },
   {
    "duration": 39,
    "start_time": "2022-03-23T20:57:28.742Z"
   },
   {
    "duration": 10,
    "start_time": "2022-03-23T21:12:29.247Z"
   },
   {
    "duration": 10,
    "start_time": "2022-03-23T21:17:51.854Z"
   },
   {
    "duration": 9,
    "start_time": "2022-03-23T21:18:27.982Z"
   },
   {
    "duration": 9,
    "start_time": "2022-03-23T21:18:38.252Z"
   },
   {
    "duration": 10,
    "start_time": "2022-03-23T21:19:07.467Z"
   },
   {
    "duration": 53,
    "start_time": "2022-03-23T23:09:16.608Z"
   },
   {
    "duration": 10,
    "start_time": "2022-03-23T23:10:40.310Z"
   },
   {
    "duration": 9,
    "start_time": "2022-03-23T23:12:23.202Z"
   },
   {
    "duration": 9,
    "start_time": "2022-03-23T23:13:40.490Z"
   },
   {
    "duration": 5,
    "start_time": "2022-03-23T23:14:14.485Z"
   },
   {
    "duration": 6,
    "start_time": "2022-03-23T23:14:45.489Z"
   },
   {
    "duration": 6,
    "start_time": "2022-03-23T23:15:28.971Z"
   },
   {
    "duration": 6,
    "start_time": "2022-03-23T23:15:31.325Z"
   },
   {
    "duration": 6,
    "start_time": "2022-03-23T23:15:34.420Z"
   },
   {
    "duration": 8,
    "start_time": "2022-03-23T23:16:32.587Z"
   },
   {
    "duration": 421,
    "start_time": "2022-03-23T23:16:42.623Z"
   },
   {
    "duration": 4,
    "start_time": "2022-03-23T23:16:43.046Z"
   },
   {
    "duration": 12,
    "start_time": "2022-03-23T23:16:43.052Z"
   },
   {
    "duration": 13,
    "start_time": "2022-03-23T23:16:43.067Z"
   },
   {
    "duration": 4,
    "start_time": "2022-03-23T23:16:43.082Z"
   },
   {
    "duration": 20,
    "start_time": "2022-03-23T23:16:43.087Z"
   },
   {
    "duration": 23,
    "start_time": "2022-03-23T23:16:43.109Z"
   },
   {
    "duration": 14,
    "start_time": "2022-03-23T23:16:43.134Z"
   },
   {
    "duration": 6,
    "start_time": "2022-03-23T23:16:43.149Z"
   },
   {
    "duration": 11,
    "start_time": "2022-03-23T23:16:43.159Z"
   },
   {
    "duration": 11,
    "start_time": "2022-03-23T23:16:43.202Z"
   },
   {
    "duration": 47,
    "start_time": "2022-03-23T23:16:43.214Z"
   },
   {
    "duration": 5,
    "start_time": "2022-03-23T23:16:43.263Z"
   },
   {
    "duration": 32,
    "start_time": "2022-03-23T23:16:43.269Z"
   },
   {
    "duration": 5,
    "start_time": "2022-03-23T23:16:43.303Z"
   },
   {
    "duration": 15,
    "start_time": "2022-03-23T23:16:43.310Z"
   },
   {
    "duration": 4,
    "start_time": "2022-03-23T23:16:43.326Z"
   },
   {
    "duration": 14,
    "start_time": "2022-03-23T23:16:43.331Z"
   },
   {
    "duration": 9,
    "start_time": "2022-03-23T23:16:43.346Z"
   },
   {
    "duration": 8,
    "start_time": "2022-03-23T23:16:43.356Z"
   },
   {
    "duration": 36,
    "start_time": "2022-03-23T23:16:43.365Z"
   },
   {
    "duration": 5,
    "start_time": "2022-03-23T23:16:43.403Z"
   },
   {
    "duration": 7,
    "start_time": "2022-03-23T23:16:43.409Z"
   },
   {
    "duration": 12,
    "start_time": "2022-03-23T23:16:43.418Z"
   },
   {
    "duration": 5,
    "start_time": "2022-03-23T23:16:43.432Z"
   },
   {
    "duration": 8,
    "start_time": "2022-03-23T23:16:43.439Z"
   },
   {
    "duration": 10,
    "start_time": "2022-03-23T23:16:43.449Z"
   },
   {
    "duration": 4,
    "start_time": "2022-03-23T23:16:43.463Z"
   },
   {
    "duration": 9,
    "start_time": "2022-03-23T23:16:43.468Z"
   },
   {
    "duration": 29,
    "start_time": "2022-03-23T23:16:43.478Z"
   },
   {
    "duration": 11,
    "start_time": "2022-03-23T23:16:43.508Z"
   },
   {
    "duration": 8,
    "start_time": "2022-03-23T23:16:43.520Z"
   },
   {
    "duration": 11,
    "start_time": "2022-03-23T23:16:43.529Z"
   },
   {
    "duration": 7,
    "start_time": "2022-03-23T23:16:43.542Z"
   },
   {
    "duration": 7,
    "start_time": "2022-03-23T23:16:43.550Z"
   },
   {
    "duration": 11,
    "start_time": "2022-03-23T23:16:43.558Z"
   },
   {
    "duration": 6,
    "start_time": "2022-03-23T23:16:43.571Z"
   },
   {
    "duration": 22,
    "start_time": "2022-03-23T23:16:43.579Z"
   },
   {
    "duration": 38,
    "start_time": "2022-03-23T23:16:43.603Z"
   },
   {
    "duration": 17,
    "start_time": "2022-03-23T23:16:43.643Z"
   },
   {
    "duration": 16,
    "start_time": "2022-03-23T23:16:43.661Z"
   },
   {
    "duration": 34,
    "start_time": "2022-03-23T23:16:43.679Z"
   },
   {
    "duration": 137,
    "start_time": "2022-03-23T23:16:43.715Z"
   },
   {
    "duration": 6,
    "start_time": "2022-03-23T23:16:43.853Z"
   },
   {
    "duration": 7,
    "start_time": "2022-03-23T23:16:43.861Z"
   },
   {
    "duration": 11,
    "start_time": "2022-03-23T23:16:43.869Z"
   },
   {
    "duration": 28,
    "start_time": "2022-03-23T23:16:43.882Z"
   },
   {
    "duration": 27,
    "start_time": "2022-03-23T23:16:43.912Z"
   },
   {
    "duration": 0,
    "start_time": "2022-03-23T23:16:43.941Z"
   },
   {
    "duration": 0,
    "start_time": "2022-03-23T23:16:43.943Z"
   },
   {
    "duration": 0,
    "start_time": "2022-03-23T23:16:43.944Z"
   },
   {
    "duration": 0,
    "start_time": "2022-03-23T23:16:43.945Z"
   },
   {
    "duration": 0,
    "start_time": "2022-03-23T23:16:43.946Z"
   },
   {
    "duration": 0,
    "start_time": "2022-03-23T23:16:43.947Z"
   },
   {
    "duration": 0,
    "start_time": "2022-03-23T23:16:43.948Z"
   },
   {
    "duration": 0,
    "start_time": "2022-03-23T23:16:43.950Z"
   },
   {
    "duration": 0,
    "start_time": "2022-03-23T23:16:43.951Z"
   },
   {
    "duration": 0,
    "start_time": "2022-03-23T23:16:43.952Z"
   },
   {
    "duration": 0,
    "start_time": "2022-03-23T23:16:43.953Z"
   },
   {
    "duration": 0,
    "start_time": "2022-03-23T23:16:43.954Z"
   },
   {
    "duration": 0,
    "start_time": "2022-03-23T23:16:43.956Z"
   },
   {
    "duration": 0,
    "start_time": "2022-03-23T23:16:43.957Z"
   },
   {
    "duration": 0,
    "start_time": "2022-03-23T23:16:43.958Z"
   },
   {
    "duration": 0,
    "start_time": "2022-03-23T23:16:43.960Z"
   },
   {
    "duration": 0,
    "start_time": "2022-03-23T23:16:43.961Z"
   },
   {
    "duration": 0,
    "start_time": "2022-03-23T23:16:44.001Z"
   },
   {
    "duration": 0,
    "start_time": "2022-03-23T23:16:44.003Z"
   },
   {
    "duration": 0,
    "start_time": "2022-03-23T23:16:44.004Z"
   },
   {
    "duration": 0,
    "start_time": "2022-03-23T23:16:44.005Z"
   },
   {
    "duration": 0,
    "start_time": "2022-03-23T23:16:44.007Z"
   },
   {
    "duration": 0,
    "start_time": "2022-03-23T23:16:44.008Z"
   },
   {
    "duration": 0,
    "start_time": "2022-03-23T23:16:44.010Z"
   },
   {
    "duration": 0,
    "start_time": "2022-03-23T23:16:44.011Z"
   },
   {
    "duration": 0,
    "start_time": "2022-03-23T23:16:44.013Z"
   },
   {
    "duration": 0,
    "start_time": "2022-03-23T23:16:44.014Z"
   },
   {
    "duration": 0,
    "start_time": "2022-03-23T23:16:44.016Z"
   },
   {
    "duration": 0,
    "start_time": "2022-03-23T23:16:44.017Z"
   },
   {
    "duration": 0,
    "start_time": "2022-03-23T23:16:44.019Z"
   },
   {
    "duration": 4,
    "start_time": "2022-03-23T23:16:51.265Z"
   },
   {
    "duration": 26,
    "start_time": "2022-03-23T23:17:10.325Z"
   },
   {
    "duration": 11,
    "start_time": "2022-03-23T23:17:29.354Z"
   },
   {
    "duration": 8,
    "start_time": "2022-03-23T23:18:26.531Z"
   },
   {
    "duration": 4,
    "start_time": "2022-03-23T23:18:28.711Z"
   },
   {
    "duration": 16,
    "start_time": "2022-03-23T23:18:36.564Z"
   },
   {
    "duration": 8,
    "start_time": "2022-03-23T23:18:38.739Z"
   },
   {
    "duration": 5,
    "start_time": "2022-03-23T23:18:59.263Z"
   },
   {
    "duration": 4,
    "start_time": "2022-03-23T23:19:01.144Z"
   },
   {
    "duration": 15,
    "start_time": "2022-03-23T23:19:03.784Z"
   },
   {
    "duration": 8,
    "start_time": "2022-03-23T23:19:05.908Z"
   },
   {
    "duration": 195,
    "start_time": "2022-03-23T23:21:01.096Z"
   },
   {
    "duration": 5,
    "start_time": "2022-03-23T23:21:39.210Z"
   },
   {
    "duration": 4,
    "start_time": "2022-03-23T23:21:41.704Z"
   },
   {
    "duration": 17,
    "start_time": "2022-03-23T23:21:44.171Z"
   },
   {
    "duration": 8,
    "start_time": "2022-03-23T23:21:46.576Z"
   },
   {
    "duration": 9,
    "start_time": "2022-03-23T23:23:00.893Z"
   },
   {
    "duration": 9,
    "start_time": "2022-03-23T23:23:10.915Z"
   },
   {
    "duration": 47,
    "start_time": "2022-03-23T23:23:17.064Z"
   },
   {
    "duration": 3,
    "start_time": "2022-03-23T23:23:17.114Z"
   },
   {
    "duration": 11,
    "start_time": "2022-03-23T23:23:17.119Z"
   },
   {
    "duration": 17,
    "start_time": "2022-03-23T23:23:17.133Z"
   },
   {
    "duration": 6,
    "start_time": "2022-03-23T23:23:17.151Z"
   },
   {
    "duration": 11,
    "start_time": "2022-03-23T23:23:17.201Z"
   },
   {
    "duration": 17,
    "start_time": "2022-03-23T23:23:17.214Z"
   },
   {
    "duration": 10,
    "start_time": "2022-03-23T23:23:17.233Z"
   },
   {
    "duration": 5,
    "start_time": "2022-03-23T23:23:17.245Z"
   },
   {
    "duration": 49,
    "start_time": "2022-03-23T23:23:17.254Z"
   },
   {
    "duration": 9,
    "start_time": "2022-03-23T23:23:17.305Z"
   },
   {
    "duration": 60,
    "start_time": "2022-03-23T23:23:17.316Z"
   },
   {
    "duration": 29,
    "start_time": "2022-03-23T23:23:17.377Z"
   },
   {
    "duration": 8,
    "start_time": "2022-03-23T23:23:17.408Z"
   },
   {
    "duration": 6,
    "start_time": "2022-03-23T23:23:17.418Z"
   },
   {
    "duration": 21,
    "start_time": "2022-03-23T23:23:17.426Z"
   },
   {
    "duration": 5,
    "start_time": "2022-03-23T23:23:17.450Z"
   },
   {
    "duration": 44,
    "start_time": "2022-03-23T23:23:17.457Z"
   },
   {
    "duration": 7,
    "start_time": "2022-03-23T23:23:17.504Z"
   },
   {
    "duration": 11,
    "start_time": "2022-03-23T23:23:17.513Z"
   },
   {
    "duration": 11,
    "start_time": "2022-03-23T23:23:17.525Z"
   },
   {
    "duration": 14,
    "start_time": "2022-03-23T23:23:17.538Z"
   },
   {
    "duration": 15,
    "start_time": "2022-03-23T23:23:17.554Z"
   },
   {
    "duration": 15,
    "start_time": "2022-03-23T23:23:17.571Z"
   },
   {
    "duration": 4,
    "start_time": "2022-03-23T23:23:17.587Z"
   },
   {
    "duration": 13,
    "start_time": "2022-03-23T23:23:17.593Z"
   },
   {
    "duration": 12,
    "start_time": "2022-03-23T23:23:17.607Z"
   },
   {
    "duration": 3,
    "start_time": "2022-03-23T23:23:17.623Z"
   },
   {
    "duration": 9,
    "start_time": "2022-03-23T23:23:17.627Z"
   },
   {
    "duration": 10,
    "start_time": "2022-03-23T23:23:17.637Z"
   },
   {
    "duration": 9,
    "start_time": "2022-03-23T23:23:17.649Z"
   },
   {
    "duration": 8,
    "start_time": "2022-03-23T23:23:17.660Z"
   },
   {
    "duration": 11,
    "start_time": "2022-03-23T23:23:17.670Z"
   },
   {
    "duration": 19,
    "start_time": "2022-03-23T23:23:17.683Z"
   },
   {
    "duration": 9,
    "start_time": "2022-03-23T23:23:17.703Z"
   },
   {
    "duration": 12,
    "start_time": "2022-03-23T23:23:17.714Z"
   },
   {
    "duration": 5,
    "start_time": "2022-03-23T23:23:17.728Z"
   },
   {
    "duration": 9,
    "start_time": "2022-03-23T23:23:17.735Z"
   },
   {
    "duration": 36,
    "start_time": "2022-03-23T23:23:17.746Z"
   },
   {
    "duration": 30,
    "start_time": "2022-03-23T23:23:17.784Z"
   },
   {
    "duration": 15,
    "start_time": "2022-03-23T23:23:17.816Z"
   },
   {
    "duration": 13,
    "start_time": "2022-03-23T23:23:17.833Z"
   },
   {
    "duration": 92,
    "start_time": "2022-03-23T23:23:17.848Z"
   },
   {
    "duration": 5,
    "start_time": "2022-03-23T23:23:17.941Z"
   },
   {
    "duration": 5,
    "start_time": "2022-03-23T23:23:17.948Z"
   },
   {
    "duration": 10,
    "start_time": "2022-03-23T23:23:17.955Z"
   },
   {
    "duration": 34,
    "start_time": "2022-03-23T23:23:17.967Z"
   },
   {
    "duration": 7,
    "start_time": "2022-03-23T23:23:18.003Z"
   },
   {
    "duration": 0,
    "start_time": "2022-03-23T23:23:18.011Z"
   },
   {
    "duration": 0,
    "start_time": "2022-03-23T23:23:18.013Z"
   },
   {
    "duration": 0,
    "start_time": "2022-03-23T23:23:18.014Z"
   },
   {
    "duration": 0,
    "start_time": "2022-03-23T23:23:18.015Z"
   },
   {
    "duration": 0,
    "start_time": "2022-03-23T23:23:18.016Z"
   },
   {
    "duration": 0,
    "start_time": "2022-03-23T23:23:18.017Z"
   },
   {
    "duration": 0,
    "start_time": "2022-03-23T23:23:18.019Z"
   },
   {
    "duration": 0,
    "start_time": "2022-03-23T23:23:18.020Z"
   },
   {
    "duration": 0,
    "start_time": "2022-03-23T23:23:18.021Z"
   },
   {
    "duration": 0,
    "start_time": "2022-03-23T23:23:18.022Z"
   },
   {
    "duration": 0,
    "start_time": "2022-03-23T23:23:18.023Z"
   },
   {
    "duration": 0,
    "start_time": "2022-03-23T23:23:18.024Z"
   },
   {
    "duration": 0,
    "start_time": "2022-03-23T23:23:18.025Z"
   },
   {
    "duration": 0,
    "start_time": "2022-03-23T23:23:18.026Z"
   },
   {
    "duration": 0,
    "start_time": "2022-03-23T23:23:18.027Z"
   },
   {
    "duration": 0,
    "start_time": "2022-03-23T23:23:18.028Z"
   },
   {
    "duration": 0,
    "start_time": "2022-03-23T23:23:18.029Z"
   },
   {
    "duration": 0,
    "start_time": "2022-03-23T23:23:18.030Z"
   },
   {
    "duration": 0,
    "start_time": "2022-03-23T23:23:18.031Z"
   },
   {
    "duration": 0,
    "start_time": "2022-03-23T23:23:18.033Z"
   },
   {
    "duration": 0,
    "start_time": "2022-03-23T23:23:18.034Z"
   },
   {
    "duration": 0,
    "start_time": "2022-03-23T23:23:18.035Z"
   },
   {
    "duration": 0,
    "start_time": "2022-03-23T23:23:18.036Z"
   },
   {
    "duration": 0,
    "start_time": "2022-03-23T23:23:18.037Z"
   },
   {
    "duration": 0,
    "start_time": "2022-03-23T23:23:18.038Z"
   },
   {
    "duration": 0,
    "start_time": "2022-03-23T23:23:18.039Z"
   },
   {
    "duration": 0,
    "start_time": "2022-03-23T23:23:18.040Z"
   },
   {
    "duration": 0,
    "start_time": "2022-03-23T23:23:18.041Z"
   },
   {
    "duration": 0,
    "start_time": "2022-03-23T23:23:18.101Z"
   },
   {
    "duration": 0,
    "start_time": "2022-03-23T23:23:18.102Z"
   },
   {
    "duration": 8,
    "start_time": "2022-03-23T23:23:22.347Z"
   },
   {
    "duration": 19,
    "start_time": "2022-03-23T23:23:55.726Z"
   },
   {
    "duration": 41,
    "start_time": "2022-03-23T23:24:00.673Z"
   },
   {
    "duration": 8,
    "start_time": "2022-03-23T23:24:04.949Z"
   },
   {
    "duration": 7,
    "start_time": "2022-03-23T23:24:13.175Z"
   },
   {
    "duration": 6,
    "start_time": "2022-03-23T23:25:12.270Z"
   },
   {
    "duration": 3,
    "start_time": "2022-03-23T23:25:14.509Z"
   },
   {
    "duration": 16,
    "start_time": "2022-03-23T23:25:25.300Z"
   },
   {
    "duration": 7,
    "start_time": "2022-03-23T23:25:27.520Z"
   },
   {
    "duration": 6,
    "start_time": "2022-03-23T23:28:30.535Z"
   },
   {
    "duration": 3,
    "start_time": "2022-03-23T23:28:33.003Z"
   },
   {
    "duration": 17,
    "start_time": "2022-03-23T23:28:35.454Z"
   },
   {
    "duration": 8,
    "start_time": "2022-03-23T23:28:37.453Z"
   },
   {
    "duration": 5,
    "start_time": "2022-03-23T23:34:47.255Z"
   },
   {
    "duration": 3,
    "start_time": "2022-03-23T23:34:49.297Z"
   },
   {
    "duration": 6,
    "start_time": "2022-03-23T23:37:59.479Z"
   },
   {
    "duration": 4,
    "start_time": "2022-03-23T23:38:01.779Z"
   },
   {
    "duration": 17,
    "start_time": "2022-03-23T23:38:06.133Z"
   },
   {
    "duration": 9,
    "start_time": "2022-03-23T23:38:11.030Z"
   },
   {
    "duration": 8,
    "start_time": "2022-03-23T23:38:45.474Z"
   },
   {
    "duration": 8,
    "start_time": "2022-03-23T23:38:51.733Z"
   },
   {
    "duration": 5,
    "start_time": "2022-03-23T23:41:08.026Z"
   },
   {
    "duration": 3,
    "start_time": "2022-03-23T23:41:10.645Z"
   },
   {
    "duration": 16,
    "start_time": "2022-03-23T23:41:12.815Z"
   },
   {
    "duration": 8,
    "start_time": "2022-03-23T23:41:14.610Z"
   },
   {
    "duration": 5,
    "start_time": "2022-03-23T23:41:23.543Z"
   },
   {
    "duration": 4,
    "start_time": "2022-03-23T23:41:26.821Z"
   },
   {
    "duration": 14,
    "start_time": "2022-03-23T23:41:28.629Z"
   },
   {
    "duration": 9,
    "start_time": "2022-03-23T23:41:30.257Z"
   },
   {
    "duration": 8,
    "start_time": "2022-03-23T23:45:21.449Z"
   },
   {
    "duration": 7,
    "start_time": "2022-03-23T23:46:10.638Z"
   },
   {
    "duration": 8,
    "start_time": "2022-03-23T23:46:19.274Z"
   },
   {
    "duration": 7,
    "start_time": "2022-03-23T23:46:25.163Z"
   },
   {
    "duration": 8815,
    "start_time": "2022-03-23T23:47:00.780Z"
   },
   {
    "duration": 8,
    "start_time": "2022-03-23T23:47:09.597Z"
   },
   {
    "duration": 6,
    "start_time": "2022-03-23T23:50:12.655Z"
   },
   {
    "duration": 9055,
    "start_time": "2022-03-23T23:50:18.537Z"
   },
   {
    "duration": 12,
    "start_time": "2022-03-23T23:50:27.594Z"
   },
   {
    "duration": 5,
    "start_time": "2022-03-23T23:51:24.721Z"
   },
   {
    "duration": 9042,
    "start_time": "2022-03-23T23:51:27.481Z"
   },
   {
    "duration": 9,
    "start_time": "2022-03-23T23:51:36.525Z"
   },
   {
    "duration": 19,
    "start_time": "2022-03-23T23:52:56.494Z"
   },
   {
    "duration": 19,
    "start_time": "2022-03-23T23:52:59.075Z"
   },
   {
    "duration": 2,
    "start_time": "2022-03-23T23:54:49.152Z"
   },
   {
    "duration": 43,
    "start_time": "2022-03-23T23:55:29.319Z"
   },
   {
    "duration": 425,
    "start_time": "2022-03-23T23:55:34.036Z"
   },
   {
    "duration": 4,
    "start_time": "2022-03-23T23:55:34.462Z"
   },
   {
    "duration": 50,
    "start_time": "2022-03-23T23:55:34.467Z"
   },
   {
    "duration": 25,
    "start_time": "2022-03-23T23:55:34.518Z"
   },
   {
    "duration": 37,
    "start_time": "2022-03-23T23:55:34.544Z"
   },
   {
    "duration": 8,
    "start_time": "2022-03-23T23:55:34.583Z"
   },
   {
    "duration": 16,
    "start_time": "2022-03-23T23:55:34.592Z"
   },
   {
    "duration": 8,
    "start_time": "2022-03-23T23:55:34.610Z"
   },
   {
    "duration": 5,
    "start_time": "2022-03-23T23:55:34.619Z"
   },
   {
    "duration": 6,
    "start_time": "2022-03-23T23:55:34.626Z"
   },
   {
    "duration": 7,
    "start_time": "2022-03-23T23:55:34.634Z"
   },
   {
    "duration": 66,
    "start_time": "2022-03-23T23:55:34.643Z"
   },
   {
    "duration": 6,
    "start_time": "2022-03-23T23:55:34.711Z"
   },
   {
    "duration": 7,
    "start_time": "2022-03-23T23:55:34.718Z"
   },
   {
    "duration": 4,
    "start_time": "2022-03-23T23:55:34.727Z"
   },
   {
    "duration": 16,
    "start_time": "2022-03-23T23:55:34.732Z"
   },
   {
    "duration": 4,
    "start_time": "2022-03-23T23:55:34.749Z"
   },
   {
    "duration": 13,
    "start_time": "2022-03-23T23:55:34.754Z"
   },
   {
    "duration": 33,
    "start_time": "2022-03-23T23:55:34.768Z"
   },
   {
    "duration": 3,
    "start_time": "2022-03-23T23:55:34.803Z"
   },
   {
    "duration": 5,
    "start_time": "2022-03-23T23:55:34.808Z"
   },
   {
    "duration": 8,
    "start_time": "2022-03-23T23:55:34.815Z"
   },
   {
    "duration": 19,
    "start_time": "2022-03-23T23:55:34.824Z"
   },
   {
    "duration": 12,
    "start_time": "2022-03-23T23:55:34.844Z"
   },
   {
    "duration": 5,
    "start_time": "2022-03-23T23:55:34.857Z"
   },
   {
    "duration": 10,
    "start_time": "2022-03-23T23:55:34.863Z"
   },
   {
    "duration": 10,
    "start_time": "2022-03-23T23:55:34.874Z"
   },
   {
    "duration": 13,
    "start_time": "2022-03-23T23:55:34.889Z"
   },
   {
    "duration": 3,
    "start_time": "2022-03-23T23:55:34.903Z"
   },
   {
    "duration": 9,
    "start_time": "2022-03-23T23:55:34.907Z"
   },
   {
    "duration": 9,
    "start_time": "2022-03-23T23:55:34.917Z"
   },
   {
    "duration": 8,
    "start_time": "2022-03-23T23:55:34.927Z"
   },
   {
    "duration": 11,
    "start_time": "2022-03-23T23:55:34.936Z"
   },
   {
    "duration": 8,
    "start_time": "2022-03-23T23:55:34.949Z"
   },
   {
    "duration": 9,
    "start_time": "2022-03-23T23:55:34.959Z"
   },
   {
    "duration": 19,
    "start_time": "2022-03-23T23:55:34.970Z"
   },
   {
    "duration": 11,
    "start_time": "2022-03-23T23:55:34.991Z"
   },
   {
    "duration": 4,
    "start_time": "2022-03-23T23:55:35.003Z"
   },
   {
    "duration": 52,
    "start_time": "2022-03-23T23:55:35.009Z"
   },
   {
    "duration": 18,
    "start_time": "2022-03-23T23:55:35.063Z"
   },
   {
    "duration": 27,
    "start_time": "2022-03-23T23:55:35.083Z"
   },
   {
    "duration": 15,
    "start_time": "2022-03-23T23:55:35.112Z"
   },
   {
    "duration": 85,
    "start_time": "2022-03-23T23:55:35.128Z"
   },
   {
    "duration": 4,
    "start_time": "2022-03-23T23:55:35.214Z"
   },
   {
    "duration": 5,
    "start_time": "2022-03-23T23:55:35.219Z"
   },
   {
    "duration": 10,
    "start_time": "2022-03-23T23:55:35.226Z"
   },
   {
    "duration": 11,
    "start_time": "2022-03-23T23:55:35.238Z"
   },
   {
    "duration": 18,
    "start_time": "2022-03-23T23:55:35.251Z"
   },
   {
    "duration": 27,
    "start_time": "2022-03-23T23:55:35.301Z"
   },
   {
    "duration": 19,
    "start_time": "2022-03-23T23:55:35.330Z"
   },
   {
    "duration": 20,
    "start_time": "2022-03-23T23:55:35.350Z"
   },
   {
    "duration": 29,
    "start_time": "2022-03-23T23:55:35.372Z"
   },
   {
    "duration": 4,
    "start_time": "2022-03-23T23:55:35.402Z"
   },
   {
    "duration": 7,
    "start_time": "2022-03-23T23:56:24.839Z"
   },
   {
    "duration": 3,
    "start_time": "2022-03-23T23:56:28.197Z"
   },
   {
    "duration": 40,
    "start_time": "2022-03-23T23:56:41.558Z"
   },
   {
    "duration": 6,
    "start_time": "2022-03-23T23:56:51.992Z"
   },
   {
    "duration": 5,
    "start_time": "2022-03-23T23:57:02.716Z"
   },
   {
    "duration": 476,
    "start_time": "2022-03-23T23:57:06.878Z"
   },
   {
    "duration": 3,
    "start_time": "2022-03-23T23:57:07.357Z"
   },
   {
    "duration": 93,
    "start_time": "2022-03-23T23:57:07.362Z"
   },
   {
    "duration": 42,
    "start_time": "2022-03-23T23:57:07.457Z"
   },
   {
    "duration": 42,
    "start_time": "2022-03-23T23:57:07.501Z"
   },
   {
    "duration": 26,
    "start_time": "2022-03-23T23:57:07.544Z"
   },
   {
    "duration": 26,
    "start_time": "2022-03-23T23:57:07.572Z"
   },
   {
    "duration": 40,
    "start_time": "2022-03-23T23:57:07.599Z"
   },
   {
    "duration": 14,
    "start_time": "2022-03-23T23:57:07.641Z"
   },
   {
    "duration": 31,
    "start_time": "2022-03-23T23:57:07.659Z"
   },
   {
    "duration": 14,
    "start_time": "2022-03-23T23:57:07.691Z"
   },
   {
    "duration": 73,
    "start_time": "2022-03-23T23:57:07.707Z"
   },
   {
    "duration": 7,
    "start_time": "2022-03-23T23:57:07.782Z"
   },
   {
    "duration": 13,
    "start_time": "2022-03-23T23:57:07.791Z"
   },
   {
    "duration": 34,
    "start_time": "2022-03-23T23:57:07.806Z"
   },
   {
    "duration": 22,
    "start_time": "2022-03-23T23:57:07.842Z"
   },
   {
    "duration": 16,
    "start_time": "2022-03-23T23:57:07.866Z"
   },
   {
    "duration": 22,
    "start_time": "2022-03-23T23:57:07.884Z"
   },
   {
    "duration": 41,
    "start_time": "2022-03-23T23:57:07.908Z"
   },
   {
    "duration": 20,
    "start_time": "2022-03-23T23:57:07.951Z"
   },
   {
    "duration": 28,
    "start_time": "2022-03-23T23:57:07.973Z"
   },
   {
    "duration": 13,
    "start_time": "2022-03-23T23:57:08.003Z"
   },
   {
    "duration": 38,
    "start_time": "2022-03-23T23:57:08.018Z"
   },
   {
    "duration": 32,
    "start_time": "2022-03-23T23:57:08.058Z"
   },
   {
    "duration": 16,
    "start_time": "2022-03-23T23:57:08.092Z"
   },
   {
    "duration": 27,
    "start_time": "2022-03-23T23:57:08.110Z"
   },
   {
    "duration": 18,
    "start_time": "2022-03-23T23:57:08.139Z"
   },
   {
    "duration": 26,
    "start_time": "2022-03-23T23:57:08.161Z"
   },
   {
    "duration": 9,
    "start_time": "2022-03-23T23:57:08.188Z"
   },
   {
    "duration": 37,
    "start_time": "2022-03-23T23:57:08.198Z"
   },
   {
    "duration": 23,
    "start_time": "2022-03-23T23:57:08.237Z"
   },
   {
    "duration": 21,
    "start_time": "2022-03-23T23:57:08.262Z"
   },
   {
    "duration": 29,
    "start_time": "2022-03-23T23:57:08.285Z"
   },
   {
    "duration": 20,
    "start_time": "2022-03-23T23:57:08.317Z"
   },
   {
    "duration": 25,
    "start_time": "2022-03-23T23:57:08.339Z"
   },
   {
    "duration": 32,
    "start_time": "2022-03-23T23:57:08.366Z"
   },
   {
    "duration": 24,
    "start_time": "2022-03-23T23:57:08.400Z"
   },
   {
    "duration": 21,
    "start_time": "2022-03-23T23:57:08.426Z"
   },
   {
    "duration": 63,
    "start_time": "2022-03-23T23:57:08.450Z"
   },
   {
    "duration": 16,
    "start_time": "2022-03-23T23:57:08.515Z"
   },
   {
    "duration": 13,
    "start_time": "2022-03-23T23:57:08.533Z"
   },
   {
    "duration": 24,
    "start_time": "2022-03-23T23:57:08.548Z"
   },
   {
    "duration": 99,
    "start_time": "2022-03-23T23:57:08.573Z"
   },
   {
    "duration": 186,
    "start_time": "2022-03-23T23:57:08.673Z"
   },
   {
    "duration": 48,
    "start_time": "2022-03-23T23:57:08.861Z"
   },
   {
    "duration": 24,
    "start_time": "2022-03-23T23:57:08.910Z"
   },
   {
    "duration": 34,
    "start_time": "2022-03-23T23:57:08.936Z"
   },
   {
    "duration": 24,
    "start_time": "2022-03-23T23:57:08.972Z"
   },
   {
    "duration": 28,
    "start_time": "2022-03-23T23:57:08.997Z"
   },
   {
    "duration": 20,
    "start_time": "2022-03-23T23:57:09.027Z"
   },
   {
    "duration": 22,
    "start_time": "2022-03-23T23:57:09.049Z"
   },
   {
    "duration": 4,
    "start_time": "2022-03-23T23:57:09.100Z"
   },
   {
    "duration": 28,
    "start_time": "2022-03-23T23:57:09.106Z"
   },
   {
    "duration": 0,
    "start_time": "2022-03-23T23:57:09.136Z"
   },
   {
    "duration": 0,
    "start_time": "2022-03-23T23:57:09.138Z"
   },
   {
    "duration": 0,
    "start_time": "2022-03-23T23:57:09.139Z"
   },
   {
    "duration": 0,
    "start_time": "2022-03-23T23:57:09.141Z"
   },
   {
    "duration": 0,
    "start_time": "2022-03-23T23:57:09.142Z"
   },
   {
    "duration": 0,
    "start_time": "2022-03-23T23:57:09.143Z"
   },
   {
    "duration": 0,
    "start_time": "2022-03-23T23:57:09.145Z"
   },
   {
    "duration": 0,
    "start_time": "2022-03-23T23:57:09.146Z"
   },
   {
    "duration": 0,
    "start_time": "2022-03-23T23:57:09.147Z"
   },
   {
    "duration": 0,
    "start_time": "2022-03-23T23:57:09.149Z"
   },
   {
    "duration": 0,
    "start_time": "2022-03-23T23:57:09.150Z"
   },
   {
    "duration": 0,
    "start_time": "2022-03-23T23:57:09.152Z"
   },
   {
    "duration": 0,
    "start_time": "2022-03-23T23:57:09.153Z"
   },
   {
    "duration": 0,
    "start_time": "2022-03-23T23:57:09.155Z"
   },
   {
    "duration": 1,
    "start_time": "2022-03-23T23:57:09.200Z"
   },
   {
    "duration": 0,
    "start_time": "2022-03-23T23:57:09.203Z"
   },
   {
    "duration": 0,
    "start_time": "2022-03-23T23:57:09.204Z"
   },
   {
    "duration": 0,
    "start_time": "2022-03-23T23:57:09.206Z"
   },
   {
    "duration": 0,
    "start_time": "2022-03-23T23:57:09.207Z"
   },
   {
    "duration": 0,
    "start_time": "2022-03-23T23:57:09.208Z"
   },
   {
    "duration": 0,
    "start_time": "2022-03-23T23:57:09.210Z"
   },
   {
    "duration": 0,
    "start_time": "2022-03-23T23:57:09.211Z"
   },
   {
    "duration": 0,
    "start_time": "2022-03-23T23:57:09.212Z"
   },
   {
    "duration": 0,
    "start_time": "2022-03-23T23:57:09.213Z"
   },
   {
    "duration": 0,
    "start_time": "2022-03-23T23:57:09.214Z"
   },
   {
    "duration": 782,
    "start_time": "2022-03-23T23:57:13.526Z"
   },
   {
    "duration": 4,
    "start_time": "2022-03-23T23:59:18.549Z"
   },
   {
    "duration": 8,
    "start_time": "2022-03-23T23:59:35.049Z"
   },
   {
    "duration": 12,
    "start_time": "2022-03-24T00:00:54.518Z"
   },
   {
    "duration": 14,
    "start_time": "2022-03-24T00:00:59.401Z"
   },
   {
    "duration": 18,
    "start_time": "2022-03-24T00:02:47.968Z"
   },
   {
    "duration": 20,
    "start_time": "2022-03-24T00:03:43.980Z"
   },
   {
    "duration": 4,
    "start_time": "2022-03-24T00:05:25.887Z"
   },
   {
    "duration": 14,
    "start_time": "2022-03-24T00:05:51.260Z"
   },
   {
    "duration": 3055,
    "start_time": "2022-03-24T00:15:55.386Z"
   },
   {
    "duration": 11,
    "start_time": "2022-03-24T00:16:05.197Z"
   },
   {
    "duration": 4,
    "start_time": "2022-03-24T00:16:13.249Z"
   },
   {
    "duration": 5,
    "start_time": "2022-03-24T00:17:01.205Z"
   },
   {
    "duration": 6,
    "start_time": "2022-03-24T00:17:42.704Z"
   },
   {
    "duration": 8,
    "start_time": "2022-03-24T00:18:06.167Z"
   },
   {
    "duration": 4,
    "start_time": "2022-03-24T00:19:54.951Z"
   },
   {
    "duration": 6,
    "start_time": "2022-03-24T00:20:17.868Z"
   },
   {
    "duration": 9,
    "start_time": "2022-03-24T00:29:19.075Z"
   },
   {
    "duration": 7,
    "start_time": "2022-03-24T00:39:34.601Z"
   },
   {
    "duration": 756,
    "start_time": "2022-03-24T00:39:41.730Z"
   },
   {
    "duration": 982,
    "start_time": "2022-03-24T00:40:54.773Z"
   },
   {
    "duration": 6,
    "start_time": "2022-03-24T00:42:10.734Z"
   },
   {
    "duration": 780,
    "start_time": "2022-03-24T00:42:12.907Z"
   },
   {
    "duration": 47,
    "start_time": "2022-03-24T00:42:17.291Z"
   },
   {
    "duration": 4,
    "start_time": "2022-03-24T00:42:17.340Z"
   },
   {
    "duration": 11,
    "start_time": "2022-03-24T00:42:17.345Z"
   },
   {
    "duration": 15,
    "start_time": "2022-03-24T00:42:17.358Z"
   },
   {
    "duration": 4,
    "start_time": "2022-03-24T00:42:17.375Z"
   },
   {
    "duration": 9,
    "start_time": "2022-03-24T00:42:17.400Z"
   },
   {
    "duration": 17,
    "start_time": "2022-03-24T00:42:17.411Z"
   },
   {
    "duration": 9,
    "start_time": "2022-03-24T00:42:17.430Z"
   },
   {
    "duration": 5,
    "start_time": "2022-03-24T00:42:17.440Z"
   },
   {
    "duration": 8,
    "start_time": "2022-03-24T00:42:17.448Z"
   },
   {
    "duration": 46,
    "start_time": "2022-03-24T00:42:17.458Z"
   },
   {
    "duration": 41,
    "start_time": "2022-03-24T00:42:17.506Z"
   },
   {
    "duration": 6,
    "start_time": "2022-03-24T00:42:17.549Z"
   },
   {
    "duration": 8,
    "start_time": "2022-03-24T00:42:17.556Z"
   },
   {
    "duration": 5,
    "start_time": "2022-03-24T00:42:17.601Z"
   },
   {
    "duration": 17,
    "start_time": "2022-03-24T00:42:17.608Z"
   },
   {
    "duration": 4,
    "start_time": "2022-03-24T00:42:17.627Z"
   },
   {
    "duration": 11,
    "start_time": "2022-03-24T00:42:17.632Z"
   },
   {
    "duration": 11,
    "start_time": "2022-03-24T00:42:17.644Z"
   },
   {
    "duration": 7,
    "start_time": "2022-03-24T00:42:17.656Z"
   },
   {
    "duration": 10,
    "start_time": "2022-03-24T00:42:17.665Z"
   },
   {
    "duration": 4,
    "start_time": "2022-03-24T00:42:17.701Z"
   },
   {
    "duration": 5,
    "start_time": "2022-03-24T00:42:17.707Z"
   },
   {
    "duration": 17,
    "start_time": "2022-03-24T00:42:17.713Z"
   },
   {
    "duration": 4,
    "start_time": "2022-03-24T00:42:17.732Z"
   },
   {
    "duration": 11,
    "start_time": "2022-03-24T00:42:17.737Z"
   },
   {
    "duration": 9,
    "start_time": "2022-03-24T00:42:17.753Z"
   },
   {
    "duration": 5,
    "start_time": "2022-03-24T00:42:17.763Z"
   },
   {
    "duration": 9,
    "start_time": "2022-03-24T00:42:17.770Z"
   },
   {
    "duration": 23,
    "start_time": "2022-03-24T00:42:17.780Z"
   },
   {
    "duration": 8,
    "start_time": "2022-03-24T00:42:17.805Z"
   },
   {
    "duration": 9,
    "start_time": "2022-03-24T00:42:17.814Z"
   },
   {
    "duration": 11,
    "start_time": "2022-03-24T00:42:17.825Z"
   },
   {
    "duration": 10,
    "start_time": "2022-03-24T00:42:17.838Z"
   },
   {
    "duration": 12,
    "start_time": "2022-03-24T00:42:17.850Z"
   },
   {
    "duration": 11,
    "start_time": "2022-03-24T00:42:17.863Z"
   },
   {
    "duration": 25,
    "start_time": "2022-03-24T00:42:17.876Z"
   },
   {
    "duration": 9,
    "start_time": "2022-03-24T00:42:17.903Z"
   },
   {
    "duration": 37,
    "start_time": "2022-03-24T00:42:17.914Z"
   },
   {
    "duration": 18,
    "start_time": "2022-03-24T00:42:17.953Z"
   },
   {
    "duration": 39,
    "start_time": "2022-03-24T00:42:17.973Z"
   },
   {
    "duration": 14,
    "start_time": "2022-03-24T00:42:18.014Z"
   },
   {
    "duration": 84,
    "start_time": "2022-03-24T00:42:18.029Z"
   },
   {
    "duration": 5,
    "start_time": "2022-03-24T00:42:18.115Z"
   },
   {
    "duration": 5,
    "start_time": "2022-03-24T00:42:18.122Z"
   },
   {
    "duration": 10,
    "start_time": "2022-03-24T00:42:18.129Z"
   },
   {
    "duration": 12,
    "start_time": "2022-03-24T00:42:18.140Z"
   },
   {
    "duration": 49,
    "start_time": "2022-03-24T00:42:18.153Z"
   },
   {
    "duration": 30,
    "start_time": "2022-03-24T00:42:18.203Z"
   },
   {
    "duration": 19,
    "start_time": "2022-03-24T00:42:18.235Z"
   },
   {
    "duration": 44,
    "start_time": "2022-03-24T00:42:18.257Z"
   },
   {
    "duration": 8,
    "start_time": "2022-03-24T00:42:18.303Z"
   },
   {
    "duration": 19,
    "start_time": "2022-03-24T00:42:18.313Z"
   },
   {
    "duration": 799,
    "start_time": "2022-03-24T00:42:18.334Z"
   },
   {
    "duration": 0,
    "start_time": "2022-03-24T00:42:19.135Z"
   },
   {
    "duration": 0,
    "start_time": "2022-03-24T00:42:19.136Z"
   },
   {
    "duration": 0,
    "start_time": "2022-03-24T00:42:19.137Z"
   },
   {
    "duration": 0,
    "start_time": "2022-03-24T00:42:19.138Z"
   },
   {
    "duration": 0,
    "start_time": "2022-03-24T00:42:19.138Z"
   },
   {
    "duration": 0,
    "start_time": "2022-03-24T00:42:19.139Z"
   },
   {
    "duration": 0,
    "start_time": "2022-03-24T00:42:19.140Z"
   },
   {
    "duration": 0,
    "start_time": "2022-03-24T00:42:19.141Z"
   },
   {
    "duration": 0,
    "start_time": "2022-03-24T00:42:19.141Z"
   },
   {
    "duration": 0,
    "start_time": "2022-03-24T00:42:19.142Z"
   },
   {
    "duration": 0,
    "start_time": "2022-03-24T00:42:19.143Z"
   },
   {
    "duration": 0,
    "start_time": "2022-03-24T00:42:19.145Z"
   },
   {
    "duration": 0,
    "start_time": "2022-03-24T00:42:19.146Z"
   },
   {
    "duration": 0,
    "start_time": "2022-03-24T00:42:19.146Z"
   },
   {
    "duration": 0,
    "start_time": "2022-03-24T00:42:19.147Z"
   },
   {
    "duration": 0,
    "start_time": "2022-03-24T00:42:19.148Z"
   },
   {
    "duration": 0,
    "start_time": "2022-03-24T00:42:19.149Z"
   },
   {
    "duration": 0,
    "start_time": "2022-03-24T00:42:19.150Z"
   },
   {
    "duration": 0,
    "start_time": "2022-03-24T00:42:19.151Z"
   },
   {
    "duration": 0,
    "start_time": "2022-03-24T00:42:19.189Z"
   },
   {
    "duration": 0,
    "start_time": "2022-03-24T00:42:19.190Z"
   },
   {
    "duration": 0,
    "start_time": "2022-03-24T00:42:19.191Z"
   },
   {
    "duration": 0,
    "start_time": "2022-03-24T00:42:19.192Z"
   },
   {
    "duration": 0,
    "start_time": "2022-03-24T00:42:19.193Z"
   },
   {
    "duration": 3,
    "start_time": "2022-03-24T00:43:03.024Z"
   },
   {
    "duration": 186,
    "start_time": "2022-03-24T00:43:37.118Z"
   },
   {
    "duration": 180,
    "start_time": "2022-03-24T00:43:49.733Z"
   },
   {
    "duration": 5,
    "start_time": "2022-03-24T00:44:07.598Z"
   },
   {
    "duration": 3,
    "start_time": "2022-03-24T00:44:10.473Z"
   },
   {
    "duration": 759,
    "start_time": "2022-03-24T00:44:14.550Z"
   },
   {
    "duration": 9,
    "start_time": "2022-03-24T00:47:08.777Z"
   },
   {
    "duration": 8,
    "start_time": "2022-03-24T00:47:12.293Z"
   },
   {
    "duration": 9,
    "start_time": "2022-03-24T00:47:14.375Z"
   },
   {
    "duration": 9,
    "start_time": "2022-03-24T00:47:24.168Z"
   },
   {
    "duration": 7,
    "start_time": "2022-03-24T00:47:28.418Z"
   },
   {
    "duration": 42,
    "start_time": "2022-03-24T00:47:33.371Z"
   },
   {
    "duration": 3,
    "start_time": "2022-03-24T00:47:33.415Z"
   },
   {
    "duration": 9,
    "start_time": "2022-03-24T00:47:33.419Z"
   },
   {
    "duration": 14,
    "start_time": "2022-03-24T00:47:33.429Z"
   },
   {
    "duration": 4,
    "start_time": "2022-03-24T00:47:33.444Z"
   },
   {
    "duration": 11,
    "start_time": "2022-03-24T00:47:33.449Z"
   },
   {
    "duration": 14,
    "start_time": "2022-03-24T00:47:33.462Z"
   },
   {
    "duration": 9,
    "start_time": "2022-03-24T00:47:33.500Z"
   },
   {
    "duration": 4,
    "start_time": "2022-03-24T00:47:33.511Z"
   },
   {
    "duration": 8,
    "start_time": "2022-03-24T00:47:33.517Z"
   },
   {
    "duration": 7,
    "start_time": "2022-03-24T00:47:33.527Z"
   },
   {
    "duration": 75,
    "start_time": "2022-03-24T00:47:33.536Z"
   },
   {
    "duration": 4,
    "start_time": "2022-03-24T00:47:33.613Z"
   },
   {
    "duration": 4,
    "start_time": "2022-03-24T00:47:33.619Z"
   },
   {
    "duration": 4,
    "start_time": "2022-03-24T00:47:33.625Z"
   },
   {
    "duration": 13,
    "start_time": "2022-03-24T00:47:33.630Z"
   },
   {
    "duration": 3,
    "start_time": "2022-03-24T00:47:33.645Z"
   },
   {
    "duration": 12,
    "start_time": "2022-03-24T00:47:33.650Z"
   },
   {
    "duration": 12,
    "start_time": "2022-03-24T00:47:33.663Z"
   },
   {
    "duration": 3,
    "start_time": "2022-03-24T00:47:33.701Z"
   },
   {
    "duration": 12,
    "start_time": "2022-03-24T00:47:33.705Z"
   },
   {
    "duration": 9,
    "start_time": "2022-03-24T00:47:33.719Z"
   },
   {
    "duration": 9,
    "start_time": "2022-03-24T00:47:33.729Z"
   },
   {
    "duration": 10,
    "start_time": "2022-03-24T00:47:33.740Z"
   },
   {
    "duration": 5,
    "start_time": "2022-03-24T00:47:33.752Z"
   },
   {
    "duration": 10,
    "start_time": "2022-03-24T00:47:33.758Z"
   },
   {
    "duration": 9,
    "start_time": "2022-03-24T00:47:33.769Z"
   },
   {
    "duration": 6,
    "start_time": "2022-03-24T00:47:33.780Z"
   },
   {
    "duration": 14,
    "start_time": "2022-03-24T00:47:33.787Z"
   },
   {
    "duration": 4,
    "start_time": "2022-03-24T00:47:33.802Z"
   },
   {
    "duration": 10,
    "start_time": "2022-03-24T00:47:33.807Z"
   },
   {
    "duration": 8,
    "start_time": "2022-03-24T00:47:33.819Z"
   },
   {
    "duration": 11,
    "start_time": "2022-03-24T00:47:33.829Z"
   },
   {
    "duration": 12,
    "start_time": "2022-03-24T00:47:33.842Z"
   },
   {
    "duration": 12,
    "start_time": "2022-03-24T00:47:33.855Z"
   },
   {
    "duration": 10,
    "start_time": "2022-03-24T00:47:33.868Z"
   },
   {
    "duration": 6,
    "start_time": "2022-03-24T00:47:33.879Z"
   },
   {
    "duration": 8,
    "start_time": "2022-03-24T00:47:33.887Z"
   },
   {
    "duration": 37,
    "start_time": "2022-03-24T00:47:33.896Z"
   },
   {
    "duration": 16,
    "start_time": "2022-03-24T00:47:33.935Z"
   },
   {
    "duration": 13,
    "start_time": "2022-03-24T00:47:33.952Z"
   },
   {
    "duration": 35,
    "start_time": "2022-03-24T00:47:33.967Z"
   },
   {
    "duration": 68,
    "start_time": "2022-03-24T00:47:34.003Z"
   },
   {
    "duration": 7,
    "start_time": "2022-03-24T00:47:34.072Z"
   },
   {
    "duration": 6,
    "start_time": "2022-03-24T00:47:34.080Z"
   },
   {
    "duration": 8,
    "start_time": "2022-03-24T00:47:34.101Z"
   },
   {
    "duration": 10,
    "start_time": "2022-03-24T00:47:34.113Z"
   },
   {
    "duration": 17,
    "start_time": "2022-03-24T00:47:34.125Z"
   },
   {
    "duration": 24,
    "start_time": "2022-03-24T00:47:34.144Z"
   },
   {
    "duration": 40,
    "start_time": "2022-03-24T00:47:34.169Z"
   },
   {
    "duration": 17,
    "start_time": "2022-03-24T00:47:34.211Z"
   },
   {
    "duration": 6,
    "start_time": "2022-03-24T00:47:34.229Z"
   },
   {
    "duration": 9,
    "start_time": "2022-03-24T00:47:34.236Z"
   },
   {
    "duration": 0,
    "start_time": "2022-03-24T00:47:34.246Z"
   },
   {
    "duration": 0,
    "start_time": "2022-03-24T00:47:34.247Z"
   },
   {
    "duration": 0,
    "start_time": "2022-03-24T00:47:34.249Z"
   },
   {
    "duration": 0,
    "start_time": "2022-03-24T00:47:34.250Z"
   },
   {
    "duration": 0,
    "start_time": "2022-03-24T00:47:34.251Z"
   },
   {
    "duration": 0,
    "start_time": "2022-03-24T00:47:34.252Z"
   },
   {
    "duration": 0,
    "start_time": "2022-03-24T00:47:34.253Z"
   },
   {
    "duration": 0,
    "start_time": "2022-03-24T00:47:34.254Z"
   },
   {
    "duration": 0,
    "start_time": "2022-03-24T00:47:34.254Z"
   },
   {
    "duration": 0,
    "start_time": "2022-03-24T00:47:34.255Z"
   },
   {
    "duration": 0,
    "start_time": "2022-03-24T00:47:34.257Z"
   },
   {
    "duration": 0,
    "start_time": "2022-03-24T00:47:34.258Z"
   },
   {
    "duration": 0,
    "start_time": "2022-03-24T00:47:34.259Z"
   },
   {
    "duration": 0,
    "start_time": "2022-03-24T00:47:34.260Z"
   },
   {
    "duration": 0,
    "start_time": "2022-03-24T00:47:34.301Z"
   },
   {
    "duration": 0,
    "start_time": "2022-03-24T00:47:34.302Z"
   },
   {
    "duration": 0,
    "start_time": "2022-03-24T00:47:34.303Z"
   },
   {
    "duration": 0,
    "start_time": "2022-03-24T00:47:34.304Z"
   },
   {
    "duration": 0,
    "start_time": "2022-03-24T00:47:34.305Z"
   },
   {
    "duration": 0,
    "start_time": "2022-03-24T00:47:34.306Z"
   },
   {
    "duration": 0,
    "start_time": "2022-03-24T00:47:34.307Z"
   },
   {
    "duration": 0,
    "start_time": "2022-03-24T00:47:34.308Z"
   },
   {
    "duration": 0,
    "start_time": "2022-03-24T00:47:34.309Z"
   },
   {
    "duration": 0,
    "start_time": "2022-03-24T00:47:34.310Z"
   },
   {
    "duration": 0,
    "start_time": "2022-03-24T00:47:34.311Z"
   },
   {
    "duration": 6,
    "start_time": "2022-03-24T00:48:07.602Z"
   },
   {
    "duration": 8,
    "start_time": "2022-03-24T00:48:12.165Z"
   },
   {
    "duration": 26,
    "start_time": "2022-03-24T00:48:38.217Z"
   },
   {
    "duration": 5,
    "start_time": "2022-03-24T00:56:40.335Z"
   },
   {
    "duration": 9,
    "start_time": "2022-03-24T01:05:22.957Z"
   },
   {
    "duration": 2,
    "start_time": "2022-03-24T01:14:05.039Z"
   },
   {
    "duration": 3,
    "start_time": "2022-03-24T01:14:06.855Z"
   },
   {
    "duration": 3,
    "start_time": "2022-03-24T01:14:08.680Z"
   },
   {
    "duration": 4,
    "start_time": "2022-03-24T01:14:10.779Z"
   },
   {
    "duration": 3,
    "start_time": "2022-03-24T01:14:48.639Z"
   },
   {
    "duration": 187,
    "start_time": "2022-03-24T01:15:14.179Z"
   },
   {
    "duration": 7,
    "start_time": "2022-03-24T01:15:49.295Z"
   },
   {
    "duration": 3,
    "start_time": "2022-03-24T01:16:07.065Z"
   },
   {
    "duration": 4,
    "start_time": "2022-03-24T01:16:26.138Z"
   },
   {
    "duration": 4,
    "start_time": "2022-03-24T01:17:04.292Z"
   },
   {
    "duration": 6,
    "start_time": "2022-03-24T01:18:29.000Z"
   },
   {
    "duration": 21,
    "start_time": "2022-03-24T01:19:53.191Z"
   },
   {
    "duration": 10,
    "start_time": "2022-03-24T01:20:48.172Z"
   },
   {
    "duration": 3,
    "start_time": "2022-03-24T01:21:36.929Z"
   },
   {
    "duration": 20,
    "start_time": "2022-03-24T01:21:39.838Z"
   },
   {
    "duration": 9,
    "start_time": "2022-03-24T01:21:42.483Z"
   },
   {
    "duration": 7,
    "start_time": "2022-03-24T01:26:14.034Z"
   },
   {
    "duration": 10,
    "start_time": "2022-03-24T01:26:21.543Z"
   },
   {
    "duration": 6,
    "start_time": "2022-03-24T01:27:01.151Z"
   },
   {
    "duration": 7,
    "start_time": "2022-03-24T01:27:40.293Z"
   },
   {
    "duration": 11,
    "start_time": "2022-03-24T01:28:05.707Z"
   },
   {
    "duration": 8,
    "start_time": "2022-03-24T01:29:24.294Z"
   },
   {
    "duration": 5,
    "start_time": "2022-03-24T01:29:29.641Z"
   },
   {
    "duration": 14,
    "start_time": "2022-03-24T01:29:33.269Z"
   },
   {
    "duration": 11,
    "start_time": "2022-03-24T01:29:37.300Z"
   },
   {
    "duration": 4,
    "start_time": "2022-03-24T01:29:40.156Z"
   },
   {
    "duration": 9,
    "start_time": "2022-03-24T01:29:42.266Z"
   },
   {
    "duration": 6,
    "start_time": "2022-03-24T01:30:00.442Z"
   },
   {
    "duration": 479,
    "start_time": "2022-03-24T13:58:51.045Z"
   },
   {
    "duration": 4,
    "start_time": "2022-03-24T13:58:51.527Z"
   },
   {
    "duration": 17,
    "start_time": "2022-03-24T13:58:51.533Z"
   },
   {
    "duration": 16,
    "start_time": "2022-03-24T13:58:51.553Z"
   },
   {
    "duration": 33,
    "start_time": "2022-03-24T13:58:51.571Z"
   },
   {
    "duration": 17,
    "start_time": "2022-03-24T13:58:51.606Z"
   },
   {
    "duration": 20,
    "start_time": "2022-03-24T13:58:51.625Z"
   },
   {
    "duration": 11,
    "start_time": "2022-03-24T13:58:51.646Z"
   },
   {
    "duration": 8,
    "start_time": "2022-03-24T13:58:51.659Z"
   },
   {
    "duration": 38,
    "start_time": "2022-03-24T13:58:51.671Z"
   },
   {
    "duration": 9,
    "start_time": "2022-03-24T13:58:51.711Z"
   },
   {
    "duration": 86,
    "start_time": "2022-03-24T13:58:51.722Z"
   },
   {
    "duration": 7,
    "start_time": "2022-03-24T13:58:51.810Z"
   },
   {
    "duration": 18,
    "start_time": "2022-03-24T13:58:51.818Z"
   },
   {
    "duration": 9,
    "start_time": "2022-03-24T13:58:51.838Z"
   },
   {
    "duration": 22,
    "start_time": "2022-03-24T13:58:51.848Z"
   },
   {
    "duration": 6,
    "start_time": "2022-03-24T13:58:51.872Z"
   },
   {
    "duration": 18,
    "start_time": "2022-03-24T13:58:51.879Z"
   },
   {
    "duration": 16,
    "start_time": "2022-03-24T13:58:51.899Z"
   },
   {
    "duration": 16,
    "start_time": "2022-03-24T13:58:51.917Z"
   },
   {
    "duration": 14,
    "start_time": "2022-03-24T13:58:51.934Z"
   },
   {
    "duration": 12,
    "start_time": "2022-03-24T13:58:51.950Z"
   },
   {
    "duration": 11,
    "start_time": "2022-03-24T13:58:51.963Z"
   },
   {
    "duration": 18,
    "start_time": "2022-03-24T13:58:51.976Z"
   },
   {
    "duration": 4,
    "start_time": "2022-03-24T13:58:51.996Z"
   },
   {
    "duration": 13,
    "start_time": "2022-03-24T13:58:52.002Z"
   },
   {
    "duration": 11,
    "start_time": "2022-03-24T13:58:52.017Z"
   },
   {
    "duration": 4,
    "start_time": "2022-03-24T13:58:52.033Z"
   },
   {
    "duration": 8,
    "start_time": "2022-03-24T13:58:52.039Z"
   },
   {
    "duration": 10,
    "start_time": "2022-03-24T13:58:52.049Z"
   },
   {
    "duration": 11,
    "start_time": "2022-03-24T13:58:52.061Z"
   },
   {
    "duration": 18,
    "start_time": "2022-03-24T13:58:52.074Z"
   },
   {
    "duration": 17,
    "start_time": "2022-03-24T13:58:52.094Z"
   },
   {
    "duration": 15,
    "start_time": "2022-03-24T13:58:52.113Z"
   },
   {
    "duration": 11,
    "start_time": "2022-03-24T13:58:52.129Z"
   },
   {
    "duration": 15,
    "start_time": "2022-03-24T13:58:52.142Z"
   },
   {
    "duration": 5,
    "start_time": "2022-03-24T13:58:52.159Z"
   },
   {
    "duration": 13,
    "start_time": "2022-03-24T13:58:52.165Z"
   },
   {
    "duration": 50,
    "start_time": "2022-03-24T13:58:52.180Z"
   },
   {
    "duration": 21,
    "start_time": "2022-03-24T13:58:52.231Z"
   },
   {
    "duration": 20,
    "start_time": "2022-03-24T13:58:52.255Z"
   },
   {
    "duration": 24,
    "start_time": "2022-03-24T13:58:52.277Z"
   },
   {
    "duration": 84,
    "start_time": "2022-03-24T13:58:52.303Z"
   },
   {
    "duration": 9,
    "start_time": "2022-03-24T13:58:52.389Z"
   },
   {
    "duration": 9,
    "start_time": "2022-03-24T13:58:52.400Z"
   },
   {
    "duration": 18,
    "start_time": "2022-03-24T13:58:52.411Z"
   },
   {
    "duration": 23,
    "start_time": "2022-03-24T13:58:52.431Z"
   },
   {
    "duration": 22,
    "start_time": "2022-03-24T13:58:52.456Z"
   },
   {
    "duration": 32,
    "start_time": "2022-03-24T13:58:52.480Z"
   },
   {
    "duration": 21,
    "start_time": "2022-03-24T13:58:52.514Z"
   },
   {
    "duration": 24,
    "start_time": "2022-03-24T13:58:52.538Z"
   },
   {
    "duration": 7,
    "start_time": "2022-03-24T13:58:52.563Z"
   },
   {
    "duration": 11,
    "start_time": "2022-03-24T13:58:52.571Z"
   },
   {
    "duration": 758,
    "start_time": "2022-03-24T13:58:52.584Z"
   },
   {
    "duration": 0,
    "start_time": "2022-03-24T13:58:53.344Z"
   },
   {
    "duration": 0,
    "start_time": "2022-03-24T13:58:53.345Z"
   },
   {
    "duration": 0,
    "start_time": "2022-03-24T13:58:53.347Z"
   },
   {
    "duration": 0,
    "start_time": "2022-03-24T13:58:53.348Z"
   },
   {
    "duration": 0,
    "start_time": "2022-03-24T13:58:53.349Z"
   },
   {
    "duration": 0,
    "start_time": "2022-03-24T13:58:53.351Z"
   },
   {
    "duration": 0,
    "start_time": "2022-03-24T13:58:53.352Z"
   },
   {
    "duration": 0,
    "start_time": "2022-03-24T13:58:53.353Z"
   },
   {
    "duration": 0,
    "start_time": "2022-03-24T13:58:53.354Z"
   },
   {
    "duration": 0,
    "start_time": "2022-03-24T13:58:53.355Z"
   },
   {
    "duration": 0,
    "start_time": "2022-03-24T13:58:53.358Z"
   },
   {
    "duration": 0,
    "start_time": "2022-03-24T13:58:53.359Z"
   },
   {
    "duration": 0,
    "start_time": "2022-03-24T13:58:53.360Z"
   },
   {
    "duration": 0,
    "start_time": "2022-03-24T13:58:53.363Z"
   },
   {
    "duration": 0,
    "start_time": "2022-03-24T13:58:53.364Z"
   },
   {
    "duration": 0,
    "start_time": "2022-03-24T13:58:53.365Z"
   },
   {
    "duration": 0,
    "start_time": "2022-03-24T13:58:53.367Z"
   },
   {
    "duration": 0,
    "start_time": "2022-03-24T13:58:53.368Z"
   },
   {
    "duration": 0,
    "start_time": "2022-03-24T13:58:53.369Z"
   },
   {
    "duration": 0,
    "start_time": "2022-03-24T13:58:53.370Z"
   },
   {
    "duration": 0,
    "start_time": "2022-03-24T13:58:53.372Z"
   },
   {
    "duration": 0,
    "start_time": "2022-03-24T13:58:53.373Z"
   },
   {
    "duration": 0,
    "start_time": "2022-03-24T13:58:53.374Z"
   },
   {
    "duration": 0,
    "start_time": "2022-03-24T13:58:53.375Z"
   },
   {
    "duration": 0,
    "start_time": "2022-03-24T13:58:53.377Z"
   },
   {
    "duration": 0,
    "start_time": "2022-03-24T13:58:53.378Z"
   },
   {
    "duration": 28,
    "start_time": "2022-03-24T13:59:23.377Z"
   },
   {
    "duration": 6,
    "start_time": "2022-03-24T14:00:18.252Z"
   },
   {
    "duration": 32,
    "start_time": "2022-03-24T14:00:20.564Z"
   },
   {
    "duration": 7,
    "start_time": "2022-03-24T14:00:50.018Z"
   },
   {
    "duration": 29,
    "start_time": "2022-03-24T14:00:52.477Z"
   },
   {
    "duration": 8,
    "start_time": "2022-03-24T14:04:31.194Z"
   },
   {
    "duration": 141,
    "start_time": "2022-03-24T14:07:38.385Z"
   },
   {
    "duration": 9,
    "start_time": "2022-03-24T14:07:43.144Z"
   },
   {
    "duration": 30,
    "start_time": "2022-03-24T14:08:02.892Z"
   },
   {
    "duration": 6,
    "start_time": "2022-03-24T14:09:16.814Z"
   },
   {
    "duration": 29,
    "start_time": "2022-03-24T14:09:20.275Z"
   },
   {
    "duration": 29,
    "start_time": "2022-03-24T14:09:32.529Z"
   },
   {
    "duration": 6,
    "start_time": "2022-03-24T14:11:25.503Z"
   },
   {
    "duration": 587,
    "start_time": "2022-03-24T14:11:31.884Z"
   },
   {
    "duration": 6,
    "start_time": "2022-03-24T14:13:12.919Z"
   },
   {
    "duration": 724,
    "start_time": "2022-03-24T14:13:17.202Z"
   },
   {
    "duration": 7,
    "start_time": "2022-03-24T14:16:52.320Z"
   },
   {
    "duration": 551,
    "start_time": "2022-03-24T14:16:56.070Z"
   },
   {
    "duration": 7,
    "start_time": "2022-03-24T14:20:23.919Z"
   },
   {
    "duration": 182,
    "start_time": "2022-03-24T14:20:30.658Z"
   },
   {
    "duration": 798,
    "start_time": "2022-03-24T14:20:32.729Z"
   },
   {
    "duration": 1414,
    "start_time": "2022-03-24T14:20:59.358Z"
   },
   {
    "duration": 8,
    "start_time": "2022-03-24T14:21:45.272Z"
   },
   {
    "duration": 32,
    "start_time": "2022-03-24T14:21:48.769Z"
   },
   {
    "duration": 3,
    "start_time": "2022-03-24T14:38:36.334Z"
   },
   {
    "duration": 4,
    "start_time": "2022-03-24T14:38:41.393Z"
   },
   {
    "duration": 4,
    "start_time": "2022-03-24T14:38:44.394Z"
   },
   {
    "duration": 26,
    "start_time": "2022-03-24T14:38:47.284Z"
   },
   {
    "duration": 5,
    "start_time": "2022-03-24T14:38:49.395Z"
   },
   {
    "duration": 15,
    "start_time": "2022-03-24T14:38:55.977Z"
   },
   {
    "duration": 4,
    "start_time": "2022-03-24T14:39:04.660Z"
   },
   {
    "duration": 11,
    "start_time": "2022-03-24T14:39:07.302Z"
   },
   {
    "duration": 7,
    "start_time": "2022-03-24T14:39:10.157Z"
   },
   {
    "duration": 9,
    "start_time": "2022-03-24T14:42:22.816Z"
   },
   {
    "duration": 158,
    "start_time": "2022-03-24T14:47:45.094Z"
   },
   {
    "duration": 16,
    "start_time": "2022-03-24T14:47:50.412Z"
   },
   {
    "duration": 17,
    "start_time": "2022-03-24T14:49:19.293Z"
   },
   {
    "duration": 849,
    "start_time": "2022-03-24T14:50:02.243Z"
   },
   {
    "duration": 9,
    "start_time": "2022-03-24T14:51:37.823Z"
   },
   {
    "duration": 14,
    "start_time": "2022-03-24T14:52:21.663Z"
   },
   {
    "duration": 10,
    "start_time": "2022-03-24T14:57:56.234Z"
   },
   {
    "duration": 10,
    "start_time": "2022-03-24T14:58:18.132Z"
   },
   {
    "duration": 18,
    "start_time": "2022-03-24T14:59:54.045Z"
   },
   {
    "duration": 17,
    "start_time": "2022-03-24T15:01:29.835Z"
   },
   {
    "duration": 21,
    "start_time": "2022-03-24T15:03:10.372Z"
   },
   {
    "duration": 12,
    "start_time": "2022-03-24T15:05:14.741Z"
   },
   {
    "duration": 15,
    "start_time": "2022-03-24T15:10:28.113Z"
   },
   {
    "duration": 16,
    "start_time": "2022-03-24T15:10:51.327Z"
   },
   {
    "duration": 16,
    "start_time": "2022-03-24T15:11:42.551Z"
   },
   {
    "duration": 19,
    "start_time": "2022-03-24T15:12:25.764Z"
   },
   {
    "duration": 17,
    "start_time": "2022-03-24T15:12:34.573Z"
   },
   {
    "duration": 14,
    "start_time": "2022-03-24T15:13:17.258Z"
   },
   {
    "duration": 19,
    "start_time": "2022-03-24T15:16:39.897Z"
   },
   {
    "duration": 17,
    "start_time": "2022-03-24T15:17:22.160Z"
   },
   {
    "duration": 20,
    "start_time": "2022-03-24T15:17:48.864Z"
   },
   {
    "duration": 19,
    "start_time": "2022-03-24T15:19:08.375Z"
   },
   {
    "duration": 5,
    "start_time": "2022-03-24T15:20:28.027Z"
   },
   {
    "duration": 9,
    "start_time": "2022-03-24T15:20:57.390Z"
   },
   {
    "duration": 20,
    "start_time": "2022-03-24T15:22:02.713Z"
   },
   {
    "duration": 20,
    "start_time": "2022-03-24T15:22:11.112Z"
   },
   {
    "duration": 11,
    "start_time": "2022-03-24T15:22:23.218Z"
   },
   {
    "duration": 17,
    "start_time": "2022-03-24T15:22:52.406Z"
   },
   {
    "duration": 20,
    "start_time": "2022-03-24T15:23:30.920Z"
   },
   {
    "duration": 32,
    "start_time": "2022-03-24T15:24:44.265Z"
   },
   {
    "duration": 20,
    "start_time": "2022-03-24T15:26:20.960Z"
   },
   {
    "duration": 14,
    "start_time": "2022-03-24T15:26:38.898Z"
   },
   {
    "duration": 20,
    "start_time": "2022-03-24T15:27:17.929Z"
   },
   {
    "duration": 4,
    "start_time": "2022-03-24T15:31:20.799Z"
   },
   {
    "duration": 11,
    "start_time": "2022-03-24T15:31:32.931Z"
   },
   {
    "duration": 11,
    "start_time": "2022-03-24T15:31:53.215Z"
   },
   {
    "duration": 614,
    "start_time": "2022-03-24T15:32:23.572Z"
   },
   {
    "duration": 4,
    "start_time": "2022-03-24T15:32:52.810Z"
   },
   {
    "duration": 12,
    "start_time": "2022-03-24T15:32:54.805Z"
   },
   {
    "duration": 600,
    "start_time": "2022-03-24T15:32:57.824Z"
   },
   {
    "duration": 63,
    "start_time": "2022-03-24T15:33:15.158Z"
   },
   {
    "duration": 4,
    "start_time": "2022-03-24T15:33:15.224Z"
   },
   {
    "duration": 15,
    "start_time": "2022-03-24T15:33:15.230Z"
   },
   {
    "duration": 53,
    "start_time": "2022-03-24T15:33:15.248Z"
   },
   {
    "duration": 8,
    "start_time": "2022-03-24T15:33:15.304Z"
   },
   {
    "duration": 18,
    "start_time": "2022-03-24T15:33:15.315Z"
   },
   {
    "duration": 18,
    "start_time": "2022-03-24T15:33:15.336Z"
   },
   {
    "duration": 53,
    "start_time": "2022-03-24T15:33:15.355Z"
   },
   {
    "duration": 7,
    "start_time": "2022-03-24T15:33:15.410Z"
   },
   {
    "duration": 12,
    "start_time": "2022-03-24T15:33:15.421Z"
   },
   {
    "duration": 10,
    "start_time": "2022-03-24T15:33:15.436Z"
   },
   {
    "duration": 95,
    "start_time": "2022-03-24T15:33:15.448Z"
   },
   {
    "duration": 8,
    "start_time": "2022-03-24T15:33:15.545Z"
   },
   {
    "duration": 8,
    "start_time": "2022-03-24T15:33:15.555Z"
   },
   {
    "duration": 6,
    "start_time": "2022-03-24T15:33:15.565Z"
   },
   {
    "duration": 17,
    "start_time": "2022-03-24T15:33:15.602Z"
   },
   {
    "duration": 11,
    "start_time": "2022-03-24T15:33:15.621Z"
   },
   {
    "duration": 11,
    "start_time": "2022-03-24T15:33:15.634Z"
   },
   {
    "duration": 9,
    "start_time": "2022-03-24T15:33:15.647Z"
   },
   {
    "duration": 7,
    "start_time": "2022-03-24T15:33:15.658Z"
   },
   {
    "duration": 35,
    "start_time": "2022-03-24T15:33:15.667Z"
   },
   {
    "duration": 6,
    "start_time": "2022-03-24T15:33:15.704Z"
   },
   {
    "duration": 9,
    "start_time": "2022-03-24T15:33:15.712Z"
   },
   {
    "duration": 11,
    "start_time": "2022-03-24T15:33:15.723Z"
   },
   {
    "duration": 4,
    "start_time": "2022-03-24T15:33:15.736Z"
   },
   {
    "duration": 14,
    "start_time": "2022-03-24T15:33:15.742Z"
   },
   {
    "duration": 12,
    "start_time": "2022-03-24T15:33:15.758Z"
   },
   {
    "duration": 4,
    "start_time": "2022-03-24T15:33:15.800Z"
   },
   {
    "duration": 9,
    "start_time": "2022-03-24T15:33:15.806Z"
   },
   {
    "duration": 12,
    "start_time": "2022-03-24T15:33:15.817Z"
   },
   {
    "duration": 13,
    "start_time": "2022-03-24T15:33:15.831Z"
   },
   {
    "duration": 13,
    "start_time": "2022-03-24T15:33:15.846Z"
   },
   {
    "duration": 17,
    "start_time": "2022-03-24T15:33:15.861Z"
   },
   {
    "duration": 24,
    "start_time": "2022-03-24T15:33:15.880Z"
   },
   {
    "duration": 9,
    "start_time": "2022-03-24T15:33:15.906Z"
   },
   {
    "duration": 18,
    "start_time": "2022-03-24T15:33:15.917Z"
   },
   {
    "duration": 17,
    "start_time": "2022-03-24T15:33:15.937Z"
   },
   {
    "duration": 10,
    "start_time": "2022-03-24T15:33:15.956Z"
   },
   {
    "duration": 61,
    "start_time": "2022-03-24T15:33:15.968Z"
   },
   {
    "duration": 21,
    "start_time": "2022-03-24T15:33:16.030Z"
   },
   {
    "duration": 19,
    "start_time": "2022-03-24T15:33:16.053Z"
   },
   {
    "duration": 41,
    "start_time": "2022-03-24T15:33:16.074Z"
   },
   {
    "duration": 100,
    "start_time": "2022-03-24T15:33:16.116Z"
   },
   {
    "duration": 8,
    "start_time": "2022-03-24T15:33:16.218Z"
   },
   {
    "duration": 8,
    "start_time": "2022-03-24T15:33:16.229Z"
   },
   {
    "duration": 13,
    "start_time": "2022-03-24T15:33:16.240Z"
   },
   {
    "duration": 17,
    "start_time": "2022-03-24T15:33:16.256Z"
   },
   {
    "duration": 24,
    "start_time": "2022-03-24T15:33:16.300Z"
   },
   {
    "duration": 32,
    "start_time": "2022-03-24T15:33:16.327Z"
   },
   {
    "duration": 51,
    "start_time": "2022-03-24T15:33:16.361Z"
   },
   {
    "duration": 25,
    "start_time": "2022-03-24T15:33:16.414Z"
   },
   {
    "duration": 4,
    "start_time": "2022-03-24T15:33:16.441Z"
   },
   {
    "duration": 17,
    "start_time": "2022-03-24T15:33:16.446Z"
   },
   {
    "duration": 0,
    "start_time": "2022-03-24T15:33:16.465Z"
   },
   {
    "duration": 0,
    "start_time": "2022-03-24T15:33:16.467Z"
   },
   {
    "duration": 0,
    "start_time": "2022-03-24T15:33:16.468Z"
   },
   {
    "duration": 0,
    "start_time": "2022-03-24T15:33:16.501Z"
   },
   {
    "duration": 0,
    "start_time": "2022-03-24T15:33:16.502Z"
   },
   {
    "duration": 0,
    "start_time": "2022-03-24T15:33:16.503Z"
   },
   {
    "duration": 0,
    "start_time": "2022-03-24T15:33:16.505Z"
   },
   {
    "duration": 0,
    "start_time": "2022-03-24T15:33:16.506Z"
   },
   {
    "duration": 0,
    "start_time": "2022-03-24T15:33:16.507Z"
   },
   {
    "duration": 0,
    "start_time": "2022-03-24T15:33:16.508Z"
   },
   {
    "duration": 0,
    "start_time": "2022-03-24T15:33:16.509Z"
   },
   {
    "duration": 0,
    "start_time": "2022-03-24T15:33:16.510Z"
   },
   {
    "duration": 0,
    "start_time": "2022-03-24T15:33:16.573Z"
   },
   {
    "duration": 0,
    "start_time": "2022-03-24T15:33:16.575Z"
   },
   {
    "duration": 0,
    "start_time": "2022-03-24T15:33:16.576Z"
   },
   {
    "duration": 0,
    "start_time": "2022-03-24T15:33:16.601Z"
   },
   {
    "duration": 0,
    "start_time": "2022-03-24T15:33:16.603Z"
   },
   {
    "duration": 0,
    "start_time": "2022-03-24T15:33:16.604Z"
   },
   {
    "duration": 0,
    "start_time": "2022-03-24T15:33:16.605Z"
   },
   {
    "duration": 0,
    "start_time": "2022-03-24T15:33:16.607Z"
   },
   {
    "duration": 0,
    "start_time": "2022-03-24T15:33:16.608Z"
   },
   {
    "duration": 0,
    "start_time": "2022-03-24T15:33:16.609Z"
   },
   {
    "duration": 0,
    "start_time": "2022-03-24T15:33:16.610Z"
   },
   {
    "duration": 0,
    "start_time": "2022-03-24T15:33:16.611Z"
   },
   {
    "duration": 0,
    "start_time": "2022-03-24T15:33:16.612Z"
   },
   {
    "duration": 0,
    "start_time": "2022-03-24T15:33:16.613Z"
   },
   {
    "duration": 0,
    "start_time": "2022-03-24T15:33:16.614Z"
   },
   {
    "duration": 9,
    "start_time": "2022-03-24T15:33:24.793Z"
   },
   {
    "duration": 593,
    "start_time": "2022-03-24T15:33:33.706Z"
   },
   {
    "duration": 4,
    "start_time": "2022-03-24T15:33:54.742Z"
   },
   {
    "duration": 19,
    "start_time": "2022-03-24T15:33:57.553Z"
   },
   {
    "duration": 730,
    "start_time": "2022-03-24T15:34:01.839Z"
   },
   {
    "duration": 4,
    "start_time": "2022-03-24T15:34:32.313Z"
   },
   {
    "duration": 5,
    "start_time": "2022-03-24T15:34:34.638Z"
   },
   {
    "duration": 10737,
    "start_time": "2022-03-24T15:34:39.610Z"
   },
   {
    "duration": 9,
    "start_time": "2022-03-24T15:34:52.971Z"
   },
   {
    "duration": 5,
    "start_time": "2022-03-24T15:35:15.639Z"
   },
   {
    "duration": 7,
    "start_time": "2022-03-24T15:35:21.363Z"
   },
   {
    "duration": 4,
    "start_time": "2022-03-24T15:35:39.749Z"
   },
   {
    "duration": 10522,
    "start_time": "2022-03-24T15:35:43.532Z"
   },
   {
    "duration": 9,
    "start_time": "2022-03-24T15:35:59.299Z"
   },
   {
    "duration": 8,
    "start_time": "2022-03-24T15:36:35.328Z"
   },
   {
    "duration": 7,
    "start_time": "2022-03-24T15:36:42.969Z"
   },
   {
    "duration": 4,
    "start_time": "2022-03-24T15:36:48.159Z"
   },
   {
    "duration": 5,
    "start_time": "2022-03-24T15:36:56.799Z"
   },
   {
    "duration": 5,
    "start_time": "2022-03-24T15:37:13.606Z"
   },
   {
    "duration": 8,
    "start_time": "2022-03-24T15:37:18.425Z"
   },
   {
    "duration": 5,
    "start_time": "2022-03-24T15:37:27.390Z"
   },
   {
    "duration": 4,
    "start_time": "2022-03-24T15:39:47.279Z"
   },
   {
    "duration": 4,
    "start_time": "2022-03-24T15:40:02.201Z"
   },
   {
    "duration": 4,
    "start_time": "2022-03-24T15:40:13.109Z"
   },
   {
    "duration": 9,
    "start_time": "2022-03-24T15:40:21.269Z"
   },
   {
    "duration": 4,
    "start_time": "2022-03-24T15:40:26.737Z"
   },
   {
    "duration": 4,
    "start_time": "2022-03-24T15:40:34.289Z"
   },
   {
    "duration": 1886,
    "start_time": "2022-03-24T15:41:22.015Z"
   },
   {
    "duration": 17,
    "start_time": "2022-03-24T15:42:23.928Z"
   },
   {
    "duration": 9,
    "start_time": "2022-03-24T15:42:28.101Z"
   },
   {
    "duration": 26,
    "start_time": "2022-03-24T15:43:11.548Z"
   },
   {
    "duration": 22,
    "start_time": "2022-03-24T15:43:18.794Z"
   },
   {
    "duration": 4,
    "start_time": "2022-03-24T15:44:06.291Z"
   },
   {
    "duration": 4,
    "start_time": "2022-03-24T15:44:27.586Z"
   },
   {
    "duration": 5,
    "start_time": "2022-03-24T15:45:10.301Z"
   },
   {
    "duration": 4,
    "start_time": "2022-03-24T15:45:17.554Z"
   },
   {
    "duration": 48,
    "start_time": "2022-03-24T15:45:20.669Z"
   },
   {
    "duration": 4,
    "start_time": "2022-03-24T15:45:20.719Z"
   },
   {
    "duration": 17,
    "start_time": "2022-03-24T15:45:20.725Z"
   },
   {
    "duration": 22,
    "start_time": "2022-03-24T15:45:20.744Z"
   },
   {
    "duration": 5,
    "start_time": "2022-03-24T15:45:20.768Z"
   },
   {
    "duration": 42,
    "start_time": "2022-03-24T15:45:20.774Z"
   },
   {
    "duration": 22,
    "start_time": "2022-03-24T15:45:20.818Z"
   },
   {
    "duration": 14,
    "start_time": "2022-03-24T15:45:20.842Z"
   },
   {
    "duration": 43,
    "start_time": "2022-03-24T15:45:20.858Z"
   },
   {
    "duration": 11,
    "start_time": "2022-03-24T15:45:20.906Z"
   },
   {
    "duration": 22,
    "start_time": "2022-03-24T15:45:20.919Z"
   },
   {
    "duration": 84,
    "start_time": "2022-03-24T15:45:20.943Z"
   },
   {
    "duration": 7,
    "start_time": "2022-03-24T15:45:21.030Z"
   },
   {
    "duration": 12,
    "start_time": "2022-03-24T15:45:21.039Z"
   },
   {
    "duration": 7,
    "start_time": "2022-03-24T15:45:21.054Z"
   },
   {
    "duration": 44,
    "start_time": "2022-03-24T15:45:21.063Z"
   },
   {
    "duration": 5,
    "start_time": "2022-03-24T15:45:21.109Z"
   },
   {
    "duration": 18,
    "start_time": "2022-03-24T15:45:21.116Z"
   },
   {
    "duration": 17,
    "start_time": "2022-03-24T15:45:21.136Z"
   },
   {
    "duration": 5,
    "start_time": "2022-03-24T15:45:21.156Z"
   },
   {
    "duration": 8,
    "start_time": "2022-03-24T15:45:21.163Z"
   },
   {
    "duration": 28,
    "start_time": "2022-03-24T15:45:21.173Z"
   },
   {
    "duration": 5,
    "start_time": "2022-03-24T15:45:21.204Z"
   },
   {
    "duration": 12,
    "start_time": "2022-03-24T15:45:21.211Z"
   },
   {
    "duration": 6,
    "start_time": "2022-03-24T15:45:21.225Z"
   },
   {
    "duration": 17,
    "start_time": "2022-03-24T15:45:21.233Z"
   },
   {
    "duration": 15,
    "start_time": "2022-03-24T15:45:21.252Z"
   },
   {
    "duration": 4,
    "start_time": "2022-03-24T15:45:21.273Z"
   },
   {
    "duration": 25,
    "start_time": "2022-03-24T15:45:21.278Z"
   },
   {
    "duration": 10,
    "start_time": "2022-03-24T15:45:21.306Z"
   },
   {
    "duration": 21,
    "start_time": "2022-03-24T15:45:21.318Z"
   },
   {
    "duration": 10,
    "start_time": "2022-03-24T15:45:21.342Z"
   },
   {
    "duration": 12,
    "start_time": "2022-03-24T15:45:21.354Z"
   },
   {
    "duration": 7,
    "start_time": "2022-03-24T15:45:21.368Z"
   },
   {
    "duration": 9,
    "start_time": "2022-03-24T15:45:21.377Z"
   },
   {
    "duration": 11,
    "start_time": "2022-03-24T15:45:21.400Z"
   },
   {
    "duration": 11,
    "start_time": "2022-03-24T15:45:21.414Z"
   },
   {
    "duration": 18,
    "start_time": "2022-03-24T15:45:21.427Z"
   },
   {
    "duration": 63,
    "start_time": "2022-03-24T15:45:21.447Z"
   },
   {
    "duration": 20,
    "start_time": "2022-03-24T15:45:21.512Z"
   },
   {
    "duration": 18,
    "start_time": "2022-03-24T15:45:21.534Z"
   },
   {
    "duration": 17,
    "start_time": "2022-03-24T15:45:21.554Z"
   },
   {
    "duration": 80,
    "start_time": "2022-03-24T15:45:21.602Z"
   },
   {
    "duration": 17,
    "start_time": "2022-03-24T15:45:21.684Z"
   },
   {
    "duration": 8,
    "start_time": "2022-03-24T15:45:21.703Z"
   },
   {
    "duration": 15,
    "start_time": "2022-03-24T15:45:21.713Z"
   },
   {
    "duration": 18,
    "start_time": "2022-03-24T15:45:21.730Z"
   },
   {
    "duration": 22,
    "start_time": "2022-03-24T15:45:21.750Z"
   },
   {
    "duration": 56,
    "start_time": "2022-03-24T15:45:21.775Z"
   },
   {
    "duration": 25,
    "start_time": "2022-03-24T15:45:21.833Z"
   },
   {
    "duration": 52,
    "start_time": "2022-03-24T15:45:21.860Z"
   },
   {
    "duration": 4,
    "start_time": "2022-03-24T15:45:21.914Z"
   },
   {
    "duration": 10,
    "start_time": "2022-03-24T15:45:21.919Z"
   },
   {
    "duration": 10906,
    "start_time": "2022-03-24T15:45:21.931Z"
   },
   {
    "duration": 9,
    "start_time": "2022-03-24T15:45:32.840Z"
   },
   {
    "duration": 13,
    "start_time": "2022-03-24T15:45:32.851Z"
   },
   {
    "duration": 33,
    "start_time": "2022-03-24T15:45:32.866Z"
   },
   {
    "duration": 26,
    "start_time": "2022-03-24T15:45:32.901Z"
   },
   {
    "duration": 22,
    "start_time": "2022-03-24T15:45:32.929Z"
   },
   {
    "duration": 4,
    "start_time": "2022-03-24T15:45:32.953Z"
   },
   {
    "duration": 1951,
    "start_time": "2022-03-24T15:45:32.977Z"
   },
   {
    "duration": 9,
    "start_time": "2022-03-24T15:45:34.930Z"
   },
   {
    "duration": 26,
    "start_time": "2022-03-24T15:45:34.941Z"
   },
   {
    "duration": 8,
    "start_time": "2022-03-24T15:45:34.970Z"
   },
   {
    "duration": 27,
    "start_time": "2022-03-24T15:45:34.980Z"
   },
   {
    "duration": 5,
    "start_time": "2022-03-24T15:45:35.009Z"
   },
   {
    "duration": 9,
    "start_time": "2022-03-24T15:45:35.016Z"
   },
   {
    "duration": 17,
    "start_time": "2022-03-24T15:45:35.026Z"
   },
   {
    "duration": 32,
    "start_time": "2022-03-24T15:45:35.044Z"
   },
   {
    "duration": 6,
    "start_time": "2022-03-24T15:45:35.079Z"
   },
   {
    "duration": 14,
    "start_time": "2022-03-24T15:45:35.101Z"
   },
   {
    "duration": 11,
    "start_time": "2022-03-24T15:45:35.117Z"
   },
   {
    "duration": 20,
    "start_time": "2022-03-24T15:45:35.130Z"
   },
   {
    "duration": 11,
    "start_time": "2022-03-24T15:45:35.153Z"
   },
   {
    "duration": 38,
    "start_time": "2022-03-24T15:45:35.166Z"
   },
   {
    "duration": 23,
    "start_time": "2022-03-24T15:45:35.206Z"
   },
   {
    "duration": 22,
    "start_time": "2022-03-24T15:45:35.230Z"
   },
   {
    "duration": 54,
    "start_time": "2022-03-24T15:45:35.254Z"
   },
   {
    "duration": 4,
    "start_time": "2022-03-24T15:45:35.313Z"
   },
   {
    "duration": 4,
    "start_time": "2022-03-24T15:45:52.443Z"
   },
   {
    "duration": 4,
    "start_time": "2022-03-24T15:45:57.542Z"
   },
   {
    "duration": 4,
    "start_time": "2022-03-24T15:46:14.158Z"
   },
   {
    "duration": 170,
    "start_time": "2022-03-24T17:27:25.962Z"
   },
   {
    "duration": 168,
    "start_time": "2022-03-24T17:27:30.863Z"
   },
   {
    "duration": 7,
    "start_time": "2022-03-24T17:27:42.439Z"
   },
   {
    "duration": 29,
    "start_time": "2022-03-24T17:27:49.455Z"
   },
   {
    "duration": 68,
    "start_time": "2022-03-24T17:29:10.425Z"
   },
   {
    "duration": 625,
    "start_time": "2022-03-24T17:29:52.743Z"
   },
   {
    "duration": 891,
    "start_time": "2022-03-24T17:30:08.439Z"
   },
   {
    "duration": 42,
    "start_time": "2022-03-24T17:31:07.576Z"
   },
   {
    "duration": 10,
    "start_time": "2022-03-24T17:37:52.854Z"
   },
   {
    "duration": 39,
    "start_time": "2022-03-24T17:37:58.275Z"
   },
   {
    "duration": 604,
    "start_time": "2022-03-24T17:38:32.281Z"
   },
   {
    "duration": 8,
    "start_time": "2022-03-24T17:40:55.047Z"
   },
   {
    "duration": 46,
    "start_time": "2022-03-24T17:41:07.054Z"
   },
   {
    "duration": 11,
    "start_time": "2022-03-24T17:41:39.228Z"
   },
   {
    "duration": 372079,
    "start_time": "2022-03-24T17:41:42.990Z"
   },
   {
    "duration": 8,
    "start_time": "2022-03-24T17:51:41.151Z"
   },
   {
    "duration": 39,
    "start_time": "2022-03-24T17:51:44.267Z"
   },
   {
    "duration": 9,
    "start_time": "2022-03-24T17:53:17.363Z"
   },
   {
    "duration": 40,
    "start_time": "2022-03-24T17:53:20.731Z"
   },
   {
    "duration": 684,
    "start_time": "2022-03-24T17:54:47.311Z"
   },
   {
    "duration": 573,
    "start_time": "2022-03-24T17:55:48.317Z"
   },
   {
    "duration": 10,
    "start_time": "2022-03-24T17:56:40.961Z"
   },
   {
    "duration": 707,
    "start_time": "2022-03-24T17:56:43.276Z"
   },
   {
    "duration": 617,
    "start_time": "2022-03-24T17:56:55.703Z"
   },
   {
    "duration": 39,
    "start_time": "2022-03-24T17:57:11.362Z"
   },
   {
    "duration": 6,
    "start_time": "2022-03-24T17:57:42.527Z"
   },
   {
    "duration": 37,
    "start_time": "2022-03-24T17:57:45.457Z"
   },
   {
    "duration": 627,
    "start_time": "2022-03-24T17:58:02.859Z"
   },
   {
    "duration": 16,
    "start_time": "2022-03-24T18:00:06.979Z"
   },
   {
    "duration": 40,
    "start_time": "2022-03-24T18:00:17.220Z"
   },
   {
    "duration": 7,
    "start_time": "2022-03-24T18:00:50.210Z"
   },
   {
    "duration": 38,
    "start_time": "2022-03-24T18:00:52.579Z"
   },
   {
    "duration": 147,
    "start_time": "2022-03-24T18:02:58.870Z"
   },
   {
    "duration": 7,
    "start_time": "2022-03-24T18:03:07.320Z"
   },
   {
    "duration": 54,
    "start_time": "2022-03-24T18:03:09.467Z"
   },
   {
    "duration": 10,
    "start_time": "2022-03-24T18:03:20.588Z"
   },
   {
    "duration": 360839,
    "start_time": "2022-03-24T18:03:23.282Z"
   },
   {
    "duration": 3,
    "start_time": "2022-03-24T19:43:23.467Z"
   },
   {
    "duration": 4,
    "start_time": "2022-03-24T19:45:09.867Z"
   },
   {
    "duration": 5,
    "start_time": "2022-03-24T19:45:12.867Z"
   },
   {
    "duration": 10832,
    "start_time": "2022-03-24T19:45:16.778Z"
   },
   {
    "duration": 9,
    "start_time": "2022-03-24T19:45:27.613Z"
   },
   {
    "duration": 45,
    "start_time": "2022-03-24T19:45:48.992Z"
   },
   {
    "duration": 3,
    "start_time": "2022-03-24T19:45:49.040Z"
   },
   {
    "duration": 15,
    "start_time": "2022-03-24T19:45:49.045Z"
   },
   {
    "duration": 49,
    "start_time": "2022-03-24T19:45:49.063Z"
   },
   {
    "duration": 6,
    "start_time": "2022-03-24T19:45:49.115Z"
   },
   {
    "duration": 12,
    "start_time": "2022-03-24T19:45:49.123Z"
   },
   {
    "duration": 64,
    "start_time": "2022-03-24T19:45:49.137Z"
   },
   {
    "duration": 12,
    "start_time": "2022-03-24T19:45:49.203Z"
   },
   {
    "duration": 12,
    "start_time": "2022-03-24T19:45:49.217Z"
   },
   {
    "duration": 18,
    "start_time": "2022-03-24T19:45:49.233Z"
   },
   {
    "duration": 21,
    "start_time": "2022-03-24T19:45:49.253Z"
   },
   {
    "duration": 73,
    "start_time": "2022-03-24T19:45:49.276Z"
   },
   {
    "duration": 6,
    "start_time": "2022-03-24T19:45:49.351Z"
   },
   {
    "duration": 19,
    "start_time": "2022-03-24T19:45:49.359Z"
   },
   {
    "duration": 22,
    "start_time": "2022-03-24T19:45:49.380Z"
   },
   {
    "duration": 21,
    "start_time": "2022-03-24T19:45:49.404Z"
   },
   {
    "duration": 10,
    "start_time": "2022-03-24T19:45:49.427Z"
   },
   {
    "duration": 13,
    "start_time": "2022-03-24T19:45:49.440Z"
   },
   {
    "duration": 10,
    "start_time": "2022-03-24T19:45:49.455Z"
   },
   {
    "duration": 9,
    "start_time": "2022-03-24T19:45:49.467Z"
   },
   {
    "duration": 7,
    "start_time": "2022-03-24T19:45:49.502Z"
   },
   {
    "duration": 12,
    "start_time": "2022-03-24T19:45:49.511Z"
   },
   {
    "duration": 11,
    "start_time": "2022-03-24T19:45:49.525Z"
   },
   {
    "duration": 15,
    "start_time": "2022-03-24T19:45:49.538Z"
   },
   {
    "duration": 10,
    "start_time": "2022-03-24T19:45:49.555Z"
   },
   {
    "duration": 18,
    "start_time": "2022-03-24T19:45:49.567Z"
   },
   {
    "duration": 24,
    "start_time": "2022-03-24T19:45:49.587Z"
   },
   {
    "duration": 6,
    "start_time": "2022-03-24T19:45:49.616Z"
   },
   {
    "duration": 17,
    "start_time": "2022-03-24T19:45:49.624Z"
   },
   {
    "duration": 17,
    "start_time": "2022-03-24T19:45:49.642Z"
   },
   {
    "duration": 16,
    "start_time": "2022-03-24T19:45:49.661Z"
   },
   {
    "duration": 14,
    "start_time": "2022-03-24T19:45:49.680Z"
   },
   {
    "duration": 11,
    "start_time": "2022-03-24T19:45:49.697Z"
   },
   {
    "duration": 25,
    "start_time": "2022-03-24T19:45:49.710Z"
   },
   {
    "duration": 24,
    "start_time": "2022-03-24T19:45:49.737Z"
   },
   {
    "duration": 23,
    "start_time": "2022-03-24T19:45:49.763Z"
   },
   {
    "duration": 16,
    "start_time": "2022-03-24T19:45:49.788Z"
   },
   {
    "duration": 13,
    "start_time": "2022-03-24T19:45:49.806Z"
   },
   {
    "duration": 52,
    "start_time": "2022-03-24T19:45:49.821Z"
   },
   {
    "duration": 26,
    "start_time": "2022-03-24T19:45:49.875Z"
   },
   {
    "duration": 18,
    "start_time": "2022-03-24T19:45:49.903Z"
   },
   {
    "duration": 17,
    "start_time": "2022-03-24T19:45:49.923Z"
   },
   {
    "duration": 106,
    "start_time": "2022-03-24T19:45:49.942Z"
   },
   {
    "duration": 35,
    "start_time": "2022-03-24T19:45:50.050Z"
   },
   {
    "duration": 22,
    "start_time": "2022-03-24T19:45:50.087Z"
   },
   {
    "duration": 25,
    "start_time": "2022-03-24T19:45:50.111Z"
   },
   {
    "duration": 19,
    "start_time": "2022-03-24T19:45:50.138Z"
   },
   {
    "duration": 30,
    "start_time": "2022-03-24T19:45:50.159Z"
   },
   {
    "duration": 33,
    "start_time": "2022-03-24T19:45:50.192Z"
   },
   {
    "duration": 24,
    "start_time": "2022-03-24T19:45:50.227Z"
   },
   {
    "duration": 51,
    "start_time": "2022-03-24T19:45:50.253Z"
   },
   {
    "duration": 4,
    "start_time": "2022-03-24T19:45:50.306Z"
   },
   {
    "duration": 22,
    "start_time": "2022-03-24T19:45:50.311Z"
   },
   {
    "duration": 35,
    "start_time": "2022-03-24T19:45:50.335Z"
   },
   {
    "duration": 17,
    "start_time": "2022-03-24T19:45:50.372Z"
   },
   {
    "duration": 11133,
    "start_time": "2022-03-24T19:45:50.390Z"
   },
   {
    "duration": 10,
    "start_time": "2022-03-24T19:46:01.526Z"
   },
   {
    "duration": 44,
    "start_time": "2022-03-24T19:46:01.539Z"
   },
   {
    "duration": 49,
    "start_time": "2022-03-24T19:46:01.586Z"
   },
   {
    "duration": 25,
    "start_time": "2022-03-24T19:46:01.638Z"
   },
   {
    "duration": 11,
    "start_time": "2022-03-24T19:46:01.666Z"
   },
   {
    "duration": 18,
    "start_time": "2022-03-24T19:46:01.680Z"
   },
   {
    "duration": 2053,
    "start_time": "2022-03-24T19:46:01.701Z"
   },
   {
    "duration": 9,
    "start_time": "2022-03-24T19:46:03.756Z"
   },
   {
    "duration": 25,
    "start_time": "2022-03-24T19:46:03.767Z"
   },
   {
    "duration": 7,
    "start_time": "2022-03-24T19:46:03.802Z"
   },
   {
    "duration": 15,
    "start_time": "2022-03-24T19:46:03.811Z"
   },
   {
    "duration": 5,
    "start_time": "2022-03-24T19:46:03.828Z"
   },
   {
    "duration": 13,
    "start_time": "2022-03-24T19:46:03.834Z"
   },
   {
    "duration": 9,
    "start_time": "2022-03-24T19:46:03.849Z"
   },
   {
    "duration": 23,
    "start_time": "2022-03-24T19:46:03.860Z"
   },
   {
    "duration": 6,
    "start_time": "2022-03-24T19:46:03.901Z"
   },
   {
    "duration": 17,
    "start_time": "2022-03-24T19:46:03.909Z"
   },
   {
    "duration": 7,
    "start_time": "2022-03-24T19:46:03.928Z"
   },
   {
    "duration": 17,
    "start_time": "2022-03-24T19:46:03.937Z"
   },
   {
    "duration": 20,
    "start_time": "2022-03-24T19:46:03.956Z"
   },
   {
    "duration": 38,
    "start_time": "2022-03-24T19:46:03.978Z"
   },
   {
    "duration": 23,
    "start_time": "2022-03-24T19:46:04.018Z"
   },
   {
    "duration": 57,
    "start_time": "2022-03-24T19:46:04.044Z"
   },
   {
    "duration": 23,
    "start_time": "2022-03-24T19:46:04.104Z"
   },
   {
    "duration": 655,
    "start_time": "2022-03-24T20:08:40.259Z"
   },
   {
    "duration": 5,
    "start_time": "2022-03-24T20:08:40.918Z"
   },
   {
    "duration": 20,
    "start_time": "2022-03-24T20:08:40.925Z"
   },
   {
    "duration": 53,
    "start_time": "2022-03-24T20:08:40.948Z"
   },
   {
    "duration": 12,
    "start_time": "2022-03-24T20:08:41.005Z"
   },
   {
    "duration": 26,
    "start_time": "2022-03-24T20:08:41.020Z"
   },
   {
    "duration": 57,
    "start_time": "2022-03-24T20:08:41.049Z"
   },
   {
    "duration": 16,
    "start_time": "2022-03-24T20:08:41.108Z"
   },
   {
    "duration": 8,
    "start_time": "2022-03-24T20:08:41.127Z"
   },
   {
    "duration": 54,
    "start_time": "2022-03-24T20:08:41.138Z"
   },
   {
    "duration": 19,
    "start_time": "2022-03-24T20:08:41.195Z"
   },
   {
    "duration": 111,
    "start_time": "2022-03-24T20:08:41.217Z"
   },
   {
    "duration": 10,
    "start_time": "2022-03-24T20:08:41.331Z"
   },
   {
    "duration": 11,
    "start_time": "2022-03-24T20:08:41.348Z"
   },
   {
    "duration": 14,
    "start_time": "2022-03-24T20:08:41.385Z"
   },
   {
    "duration": 30,
    "start_time": "2022-03-24T20:08:41.402Z"
   },
   {
    "duration": 6,
    "start_time": "2022-03-24T20:08:41.434Z"
   },
   {
    "duration": 45,
    "start_time": "2022-03-24T20:08:41.443Z"
   },
   {
    "duration": 39,
    "start_time": "2022-03-24T20:08:41.490Z"
   },
   {
    "duration": 6,
    "start_time": "2022-03-24T20:08:41.532Z"
   },
   {
    "duration": 13,
    "start_time": "2022-03-24T20:08:41.541Z"
   },
   {
    "duration": 9,
    "start_time": "2022-03-24T20:08:41.556Z"
   },
   {
    "duration": 11,
    "start_time": "2022-03-24T20:08:41.568Z"
   },
   {
    "duration": 37,
    "start_time": "2022-03-24T20:08:41.589Z"
   },
   {
    "duration": 27,
    "start_time": "2022-03-24T20:08:41.629Z"
   },
   {
    "duration": 10,
    "start_time": "2022-03-24T20:08:41.658Z"
   },
   {
    "duration": 10,
    "start_time": "2022-03-24T20:08:41.670Z"
   },
   {
    "duration": 8,
    "start_time": "2022-03-24T20:08:41.682Z"
   },
   {
    "duration": 18,
    "start_time": "2022-03-24T20:08:41.696Z"
   },
   {
    "duration": 9,
    "start_time": "2022-03-24T20:08:41.717Z"
   },
   {
    "duration": 15,
    "start_time": "2022-03-24T20:08:41.729Z"
   },
   {
    "duration": 12,
    "start_time": "2022-03-24T20:08:41.746Z"
   },
   {
    "duration": 25,
    "start_time": "2022-03-24T20:08:41.785Z"
   },
   {
    "duration": 17,
    "start_time": "2022-03-24T20:08:41.812Z"
   },
   {
    "duration": 12,
    "start_time": "2022-03-24T20:08:41.832Z"
   },
   {
    "duration": 12,
    "start_time": "2022-03-24T20:08:41.847Z"
   },
   {
    "duration": 31,
    "start_time": "2022-03-24T20:08:41.862Z"
   },
   {
    "duration": 17,
    "start_time": "2022-03-24T20:08:41.895Z"
   },
   {
    "duration": 84,
    "start_time": "2022-03-24T20:08:41.915Z"
   },
   {
    "duration": 37,
    "start_time": "2022-03-24T20:08:42.008Z"
   },
   {
    "duration": 42,
    "start_time": "2022-03-24T20:08:42.055Z"
   },
   {
    "duration": 27,
    "start_time": "2022-03-24T20:08:42.101Z"
   },
   {
    "duration": 212,
    "start_time": "2022-03-24T20:08:42.131Z"
   },
   {
    "duration": 6,
    "start_time": "2022-03-24T20:08:42.346Z"
   },
   {
    "duration": 34,
    "start_time": "2022-03-24T20:08:42.355Z"
   },
   {
    "duration": 28,
    "start_time": "2022-03-24T20:08:42.398Z"
   },
   {
    "duration": 24,
    "start_time": "2022-03-24T20:08:42.428Z"
   },
   {
    "duration": 45,
    "start_time": "2022-03-24T20:08:42.454Z"
   },
   {
    "duration": 60,
    "start_time": "2022-03-24T20:08:42.503Z"
   },
   {
    "duration": 56,
    "start_time": "2022-03-24T20:08:42.565Z"
   },
   {
    "duration": 73,
    "start_time": "2022-03-24T20:08:42.623Z"
   },
   {
    "duration": 7,
    "start_time": "2022-03-24T20:08:42.698Z"
   },
   {
    "duration": 11,
    "start_time": "2022-03-24T20:08:42.710Z"
   },
   {
    "duration": 10,
    "start_time": "2022-03-24T20:08:42.724Z"
   },
   {
    "duration": 7,
    "start_time": "2022-03-24T20:08:42.737Z"
   },
   {
    "duration": 17439,
    "start_time": "2022-03-24T20:08:42.747Z"
   },
   {
    "duration": 17,
    "start_time": "2022-03-24T20:09:00.189Z"
   },
   {
    "duration": 44,
    "start_time": "2022-03-24T20:09:00.208Z"
   },
   {
    "duration": 106,
    "start_time": "2022-03-24T20:09:00.255Z"
   },
   {
    "duration": 33,
    "start_time": "2022-03-24T20:09:00.364Z"
   },
   {
    "duration": 5,
    "start_time": "2022-03-24T20:09:00.401Z"
   },
   {
    "duration": 14,
    "start_time": "2022-03-24T20:09:00.410Z"
   },
   {
    "duration": 4303,
    "start_time": "2022-03-24T20:09:00.428Z"
   },
   {
    "duration": 17,
    "start_time": "2022-03-24T20:09:04.734Z"
   },
   {
    "duration": 60,
    "start_time": "2022-03-24T20:09:04.753Z"
   },
   {
    "duration": 11,
    "start_time": "2022-03-24T20:09:04.816Z"
   },
   {
    "duration": 22,
    "start_time": "2022-03-24T20:09:04.830Z"
   },
   {
    "duration": 7,
    "start_time": "2022-03-24T20:09:04.854Z"
   },
   {
    "duration": 50,
    "start_time": "2022-03-24T20:09:04.888Z"
   },
   {
    "duration": 17,
    "start_time": "2022-03-24T20:09:04.941Z"
   },
   {
    "duration": 42,
    "start_time": "2022-03-24T20:09:04.961Z"
   },
   {
    "duration": 30,
    "start_time": "2022-03-24T20:09:05.006Z"
   },
   {
    "duration": 28,
    "start_time": "2022-03-24T20:09:05.039Z"
   },
   {
    "duration": 7,
    "start_time": "2022-03-24T20:09:05.069Z"
   },
   {
    "duration": 30,
    "start_time": "2022-03-24T20:09:05.079Z"
   },
   {
    "duration": 21,
    "start_time": "2022-03-24T20:09:05.112Z"
   },
   {
    "duration": 42,
    "start_time": "2022-03-24T20:09:05.136Z"
   },
   {
    "duration": 41,
    "start_time": "2022-03-24T20:09:05.185Z"
   },
   {
    "duration": 28,
    "start_time": "2022-03-24T20:09:05.229Z"
   },
   {
    "duration": 58,
    "start_time": "2022-03-24T20:09:05.260Z"
   },
   {
    "duration": 190,
    "start_time": "2022-03-25T06:42:55.602Z"
   },
   {
    "duration": 464,
    "start_time": "2022-03-25T17:02:35.635Z"
   },
   {
    "duration": 4,
    "start_time": "2022-03-25T17:02:36.101Z"
   },
   {
    "duration": 37,
    "start_time": "2022-03-25T17:02:36.109Z"
   },
   {
    "duration": 21,
    "start_time": "2022-03-25T17:02:36.149Z"
   },
   {
    "duration": 5,
    "start_time": "2022-03-25T17:02:36.171Z"
   },
   {
    "duration": 12,
    "start_time": "2022-03-25T17:02:36.177Z"
   },
   {
    "duration": 21,
    "start_time": "2022-03-25T17:02:36.191Z"
   },
   {
    "duration": 10,
    "start_time": "2022-03-25T17:02:36.214Z"
   },
   {
    "duration": 6,
    "start_time": "2022-03-25T17:02:36.225Z"
   },
   {
    "duration": 7,
    "start_time": "2022-03-25T17:02:36.234Z"
   },
   {
    "duration": 8,
    "start_time": "2022-03-25T17:02:36.243Z"
   },
   {
    "duration": 78,
    "start_time": "2022-03-25T17:02:36.253Z"
   },
   {
    "duration": 5,
    "start_time": "2022-03-25T17:02:36.333Z"
   },
   {
    "duration": 7,
    "start_time": "2022-03-25T17:02:36.339Z"
   },
   {
    "duration": 8,
    "start_time": "2022-03-25T17:02:36.348Z"
   },
   {
    "duration": 16,
    "start_time": "2022-03-25T17:02:36.358Z"
   },
   {
    "duration": 34,
    "start_time": "2022-03-25T17:02:36.375Z"
   },
   {
    "duration": 9,
    "start_time": "2022-03-25T17:02:36.412Z"
   },
   {
    "duration": 11,
    "start_time": "2022-03-25T17:02:36.423Z"
   },
   {
    "duration": 4,
    "start_time": "2022-03-25T17:02:36.436Z"
   },
   {
    "duration": 6,
    "start_time": "2022-03-25T17:02:36.442Z"
   },
   {
    "duration": 5,
    "start_time": "2022-03-25T17:02:36.449Z"
   },
   {
    "duration": 5,
    "start_time": "2022-03-25T17:02:36.455Z"
   },
   {
    "duration": 9,
    "start_time": "2022-03-25T17:02:36.462Z"
   },
   {
    "duration": 38,
    "start_time": "2022-03-25T17:02:36.472Z"
   },
   {
    "duration": 6,
    "start_time": "2022-03-25T17:02:36.512Z"
   },
   {
    "duration": 6,
    "start_time": "2022-03-25T17:02:36.520Z"
   },
   {
    "duration": 6,
    "start_time": "2022-03-25T17:02:36.531Z"
   },
   {
    "duration": 5,
    "start_time": "2022-03-25T17:02:36.539Z"
   },
   {
    "duration": 5,
    "start_time": "2022-03-25T17:02:36.546Z"
   },
   {
    "duration": 8,
    "start_time": "2022-03-25T17:02:36.553Z"
   },
   {
    "duration": 5,
    "start_time": "2022-03-25T17:02:36.563Z"
   },
   {
    "duration": 40,
    "start_time": "2022-03-25T17:02:36.570Z"
   },
   {
    "duration": 6,
    "start_time": "2022-03-25T17:02:36.612Z"
   },
   {
    "duration": 17,
    "start_time": "2022-03-25T17:02:36.620Z"
   },
   {
    "duration": 8,
    "start_time": "2022-03-25T17:02:36.639Z"
   },
   {
    "duration": 4,
    "start_time": "2022-03-25T17:02:36.649Z"
   },
   {
    "duration": 5,
    "start_time": "2022-03-25T17:02:36.654Z"
   },
   {
    "duration": 52,
    "start_time": "2022-03-25T17:02:36.660Z"
   },
   {
    "duration": 18,
    "start_time": "2022-03-25T17:02:36.714Z"
   },
   {
    "duration": 16,
    "start_time": "2022-03-25T17:02:36.734Z"
   },
   {
    "duration": 14,
    "start_time": "2022-03-25T17:02:36.752Z"
   },
   {
    "duration": 104,
    "start_time": "2022-03-25T17:02:36.768Z"
   },
   {
    "duration": 4,
    "start_time": "2022-03-25T17:02:36.874Z"
   },
   {
    "duration": 7,
    "start_time": "2022-03-25T17:02:36.879Z"
   },
   {
    "duration": 29,
    "start_time": "2022-03-25T17:02:36.887Z"
   },
   {
    "duration": 12,
    "start_time": "2022-03-25T17:02:36.917Z"
   },
   {
    "duration": 22,
    "start_time": "2022-03-25T17:02:36.931Z"
   },
   {
    "duration": 29,
    "start_time": "2022-03-25T17:02:36.955Z"
   },
   {
    "duration": 37,
    "start_time": "2022-03-25T17:02:36.986Z"
   },
   {
    "duration": 20,
    "start_time": "2022-03-25T17:02:37.025Z"
   },
   {
    "duration": 4,
    "start_time": "2022-03-25T17:02:37.047Z"
   },
   {
    "duration": 6,
    "start_time": "2022-03-25T17:02:37.053Z"
   },
   {
    "duration": 8,
    "start_time": "2022-03-25T17:02:37.060Z"
   },
   {
    "duration": 7,
    "start_time": "2022-03-25T17:02:37.070Z"
   },
   {
    "duration": 10971,
    "start_time": "2022-03-25T17:02:37.079Z"
   },
   {
    "duration": 8,
    "start_time": "2022-03-25T17:02:48.051Z"
   },
   {
    "duration": 18,
    "start_time": "2022-03-25T17:02:48.060Z"
   },
   {
    "duration": 38,
    "start_time": "2022-03-25T17:02:48.080Z"
   },
   {
    "duration": 20,
    "start_time": "2022-03-25T17:02:48.120Z"
   },
   {
    "duration": 3,
    "start_time": "2022-03-25T17:02:48.142Z"
   },
   {
    "duration": 6,
    "start_time": "2022-03-25T17:02:48.146Z"
   },
   {
    "duration": 2189,
    "start_time": "2022-03-25T17:02:48.153Z"
   },
   {
    "duration": 7,
    "start_time": "2022-03-25T17:02:50.344Z"
   },
   {
    "duration": 18,
    "start_time": "2022-03-25T17:02:50.353Z"
   },
   {
    "duration": 6,
    "start_time": "2022-03-25T17:02:50.373Z"
   },
   {
    "duration": 12,
    "start_time": "2022-03-25T17:02:50.381Z"
   },
   {
    "duration": 3,
    "start_time": "2022-03-25T17:02:50.409Z"
   },
   {
    "duration": 17,
    "start_time": "2022-03-25T17:02:50.414Z"
   },
   {
    "duration": 6,
    "start_time": "2022-03-25T17:02:50.432Z"
   },
   {
    "duration": 17,
    "start_time": "2022-03-25T17:02:50.440Z"
   },
   {
    "duration": 4,
    "start_time": "2022-03-25T17:02:50.459Z"
   },
   {
    "duration": 13,
    "start_time": "2022-03-25T17:02:50.465Z"
   },
   {
    "duration": 30,
    "start_time": "2022-03-25T17:02:50.480Z"
   },
   {
    "duration": 14,
    "start_time": "2022-03-25T17:02:50.512Z"
   },
   {
    "duration": 17,
    "start_time": "2022-03-25T17:02:50.527Z"
   },
   {
    "duration": 29,
    "start_time": "2022-03-25T17:02:50.545Z"
   },
   {
    "duration": 19,
    "start_time": "2022-03-25T17:02:50.576Z"
   },
   {
    "duration": 29,
    "start_time": "2022-03-25T17:02:50.596Z"
   },
   {
    "duration": 19,
    "start_time": "2022-03-25T17:02:50.627Z"
   },
   {
    "duration": 0,
    "start_time": "2022-03-25T17:02:50.736Z"
   },
   {
    "duration": 23,
    "start_time": "2022-03-25T17:02:55.193Z"
   },
   {
    "duration": 22,
    "start_time": "2022-03-25T17:03:10.660Z"
   },
   {
    "duration": 26,
    "start_time": "2022-03-25T17:07:15.087Z"
   },
   {
    "duration": 25,
    "start_time": "2022-03-25T17:07:23.142Z"
   },
   {
    "duration": 24,
    "start_time": "2022-03-25T17:07:50.493Z"
   }
  ],
  "kernelspec": {
   "display_name": "Python 3 (ipykernel)",
   "language": "python",
   "name": "python3"
  },
  "language_info": {
   "codemirror_mode": {
    "name": "ipython",
    "version": 3
   },
   "file_extension": ".py",
   "mimetype": "text/x-python",
   "name": "python",
   "nbconvert_exporter": "python",
   "pygments_lexer": "ipython3",
   "version": "3.9.5"
  },
  "toc": {
   "base_numbering": 1,
   "nav_menu": {},
   "number_sections": true,
   "sideBar": true,
   "skip_h1_title": true,
   "title_cell": "Table of Contents",
   "title_sidebar": "Contents",
   "toc_cell": false,
   "toc_position": {},
   "toc_section_display": true,
   "toc_window_display": false
  }
 },
 "nbformat": 4,
 "nbformat_minor": 2
}
