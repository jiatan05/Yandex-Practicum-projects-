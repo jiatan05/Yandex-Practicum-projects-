{
 "cells": [
  {
   "cell_type": "markdown",
   "metadata": {},
   "source": [
    "**Review**\n",
    "\n",
    "Hi, my name is Dmitry and I will be reviewing your project.\n",
    "  \n",
    "You can find my comments in colored markdown cells:\n",
    "  \n",
    "<div class=\"alert alert-success\">\n",
    "  If everything is done successfully.\n",
    "</div>\n",
    "  \n",
    "<div class=\"alert alert-warning\">\n",
    "  If I have some (optional) suggestions, or questions to think about, or general comments.\n",
    "</div>\n",
    "  \n",
    "<div class=\"alert alert-danger\">\n",
    "  If a section requires some corrections. Work can't be accepted with red comments.\n",
    "</div>\n",
    "  \n",
    "Please don't remove my comments, as it will make further review iterations much harder for me.\n",
    "  \n",
    "Feel free to reply to my comments or ask questions using the following template:\n",
    "  \n",
    "<div class=\"alert alert-info\">\n",
    "  For your comments and questions.\n",
    "</div>\n",
    "  \n",
    "First of all, thank you for turning in the project! You did a great job! The project is accepted. Good luck on the next sprint!"
   ]
  },
  {
   "cell_type": "markdown",
   "metadata": {},
   "source": [
    "# Taxi Companies in Chicago"
   ]
  },
  {
   "cell_type": "markdown",
   "metadata": {},
   "source": [
    "As an analyst at Zuber, a new ride-sharing company locating in Chicago. The job is to analyze data on taxi rides in Chicago. "
   ]
  },
  {
   "cell_type": "markdown",
   "metadata": {},
   "source": [
    "##  Introduction\n",
    "Presented is an analysis of taxi ride data based on neighborhoods, trips, durations, and weather records. \n",
    "\n",
    "###  Goal:\n",
    "This report will focus on analyzing different factors and hope to identify patterns in passenger preferences for taxi service and whether external factors have impact on rides. This will allow us to adjust service and plan advertising campaigns accordingly.\n",
    "\n",
    "\n",
    "### Stages:\n",
    "This project will consist of the following stages:\n",
    "\n",
    "1. Introduction\n",
    "2. Data Initialization\n",
    "3. Exploratory Data Analysis\n",
    "    1. Data preprocessing\n",
    "    2. Top 10 drop-off neighborhoods\n",
    "        1. Graphical representation\n",
    "    3. Top companies based on number of trips\n",
    "        1. Graphical representation\n",
    "4. Test Statistical Hypothesis \n",
    "    1. The average duration of rides from the Loop to O'hare International Airport does not change on rainy Saturdays.\n",
    "5. Conclusion\n",
    "         "
   ]
  },
  {
   "cell_type": "markdown",
   "metadata": {},
   "source": [
    "## Data Initialization"
   ]
  },
  {
   "cell_type": "code",
   "execution_count": 1,
   "metadata": {
    "scrolled": true
   },
   "outputs": [
    {
     "name": "stdout",
     "output_type": "stream",
     "text": [
      "           Date and time Temperature       Description\n",
      "0    2017-11-01 00:00:00     276.150     broken clouds\n",
      "1    2017-11-01 01:00:00     275.700  scattered clouds\n",
      "2    2017-11-01 02:00:00     275.610   overcast clouds\n",
      "3    2017-11-01 03:00:00     275.350     broken clouds\n",
      "4    2017-11-01 04:00:00     275.240     broken clouds\n",
      "..                   ...         ...               ...\n",
      "692  2017-11-29 20:00:00     281.340        few clouds\n",
      "693  2017-11-29 21:00:00     281.690      sky is clear\n",
      "694  2017-11-29 22:00:00     281.070        few clouds\n",
      "695  2017-11-29 23:00:00     280.060      sky is clear\n",
      "696  2017-11-30 00:00:00     278.460      sky is clear\n",
      "\n",
      "[697 rows x 3 columns]\n"
     ]
    }
   ],
   "source": [
    "# SQL steps\n",
    "\n",
    "import pandas as pd\n",
    "import requests\n",
    "from bs4 import BeautifulSoup\n",
    "\n",
    "URL = 'https://code.s3.yandex.net/data-analyst-eng/chicago_weather_2017.html'\n",
    "req = requests.get(URL)\n",
    "soup = BeautifulSoup(req.text, 'lxml')\n",
    "table = soup.find('table', attrs={\"id\":\"weather_records\"})\n",
    "heading_table = []\n",
    "for row in table.find_all('th'):\n",
    "    heading_table.append(row.text)\n",
    "content = []\n",
    "for row in table.find_all('tr'):\n",
    "    if not row.find_all('th'):\n",
    "        content.append([element.text for element in row.find_all('td')])\n",
    "weather_records = pd.DataFrame(content, columns = heading_table)\n",
    "print(weather_records)\n"
   ]
  },
  {
   "cell_type": "code",
   "execution_count": null,
   "metadata": {},
   "outputs": [],
   "source": [
    "SELECT\n",
    "    trips.start_ts AS start_ts,\n",
    "    CASE WHEN weather_records.description LIKE '%rain%' OR weather_records.description LIKE '%storm%' THEN 'Bad'\n",
    "    ELSE 'Good'\n",
    "    END AS weather_condtions,\n",
    "    CAST(trips.duration_seconds AS real) AS duration_seconds\n",
    "FROM\n",
    "    trips\n",
    "    INNER JOIN weather_records ON weather_records.ts = trips.start_ts\n",
    "WHERE\n",
    "    trips.pickup_location_id = '50' \n",
    "    AND trips.dropoff_location_id = '63'\n",
    "    AND EXTRACT(DOW from trips.start_ts) = 6\n",
    "ORDER BY\n",
    "    trips.trip_id"
   ]
  },
  {
   "cell_type": "markdown",
   "metadata": {},
   "source": [
    "### Library and Dataset import"
   ]
  },
  {
   "cell_type": "code",
   "execution_count": 1,
   "metadata": {},
   "outputs": [],
   "source": [
    "# Loading all the libraries\n",
    "\n",
    "import pandas as pd\n",
    "import matplotlib.pyplot as plt\n",
    "import numpy as np\n",
    "from scipy import stats as st\n",
    "import functools as ft\n",
    "import seaborn as sns"
   ]
  },
  {
   "cell_type": "code",
   "execution_count": 3,
   "metadata": {},
   "outputs": [
    {
     "data": {
      "text/html": [
       "<div>\n",
       "<style scoped>\n",
       "    .dataframe tbody tr th:only-of-type {\n",
       "        vertical-align: middle;\n",
       "    }\n",
       "\n",
       "    .dataframe tbody tr th {\n",
       "        vertical-align: top;\n",
       "    }\n",
       "\n",
       "    .dataframe thead th {\n",
       "        text-align: right;\n",
       "    }\n",
       "</style>\n",
       "<table border=\"1\" class=\"dataframe\">\n",
       "  <thead>\n",
       "    <tr style=\"text-align: right;\">\n",
       "      <th></th>\n",
       "      <th>company_name</th>\n",
       "      <th>trips_amount</th>\n",
       "    </tr>\n",
       "  </thead>\n",
       "  <tbody>\n",
       "    <tr>\n",
       "      <th>0</th>\n",
       "      <td>Flash Cab</td>\n",
       "      <td>19558</td>\n",
       "    </tr>\n",
       "    <tr>\n",
       "      <th>1</th>\n",
       "      <td>Taxi Affiliation Services</td>\n",
       "      <td>11422</td>\n",
       "    </tr>\n",
       "    <tr>\n",
       "      <th>2</th>\n",
       "      <td>Medallion Leasing</td>\n",
       "      <td>10367</td>\n",
       "    </tr>\n",
       "    <tr>\n",
       "      <th>3</th>\n",
       "      <td>Yellow Cab</td>\n",
       "      <td>9888</td>\n",
       "    </tr>\n",
       "    <tr>\n",
       "      <th>4</th>\n",
       "      <td>Taxi Affiliation Service Yellow</td>\n",
       "      <td>9299</td>\n",
       "    </tr>\n",
       "  </tbody>\n",
       "</table>\n",
       "</div>"
      ],
      "text/plain": [
       "                      company_name  trips_amount\n",
       "0                        Flash Cab         19558\n",
       "1        Taxi Affiliation Services         11422\n",
       "2                Medallion Leasing         10367\n",
       "3                       Yellow Cab          9888\n",
       "4  Taxi Affiliation Service Yellow          9299"
      ]
     },
     "execution_count": 3,
     "metadata": {},
     "output_type": "execute_result"
    }
   ],
   "source": [
    "#import the first dataset, name as company\n",
    "company = pd.read_csv('/datasets/project_sql_result_01.csv')\n",
    "\n",
    "#checking the info in the dataset\n",
    "company.head()"
   ]
  },
  {
   "cell_type": "code",
   "execution_count": 4,
   "metadata": {},
   "outputs": [
    {
     "name": "stdout",
     "output_type": "stream",
     "text": [
      "<class 'pandas.core.frame.DataFrame'>\n",
      "RangeIndex: 64 entries, 0 to 63\n",
      "Data columns (total 2 columns):\n",
      " #   Column        Non-Null Count  Dtype \n",
      "---  ------        --------------  ----- \n",
      " 0   company_name  64 non-null     object\n",
      " 1   trips_amount  64 non-null     int64 \n",
      "dtypes: int64(1), object(1)\n",
      "memory usage: 1.1+ KB\n"
     ]
    }
   ],
   "source": [
    "# general information about this dataset\n",
    "\n",
    "company.info()"
   ]
  },
  {
   "cell_type": "markdown",
   "metadata": {},
   "source": [
    "We can see that this dataset contains the following information:\n",
    "- `company_name`: taxi company name\n",
    "- `trips_amount`: the number of rides for each taxi company on November 15-16, 2017.\n",
    "\n",
    "We observed that there are no missing values, and the datatype appeared to be correct. Let's move on to the next dataset."
   ]
  },
  {
   "cell_type": "code",
   "execution_count": 5,
   "metadata": {},
   "outputs": [
    {
     "data": {
      "text/html": [
       "<div>\n",
       "<style scoped>\n",
       "    .dataframe tbody tr th:only-of-type {\n",
       "        vertical-align: middle;\n",
       "    }\n",
       "\n",
       "    .dataframe tbody tr th {\n",
       "        vertical-align: top;\n",
       "    }\n",
       "\n",
       "    .dataframe thead th {\n",
       "        text-align: right;\n",
       "    }\n",
       "</style>\n",
       "<table border=\"1\" class=\"dataframe\">\n",
       "  <thead>\n",
       "    <tr style=\"text-align: right;\">\n",
       "      <th></th>\n",
       "      <th>dropoff_location_name</th>\n",
       "      <th>average_trips</th>\n",
       "    </tr>\n",
       "  </thead>\n",
       "  <tbody>\n",
       "    <tr>\n",
       "      <th>0</th>\n",
       "      <td>Loop</td>\n",
       "      <td>10727.466667</td>\n",
       "    </tr>\n",
       "    <tr>\n",
       "      <th>1</th>\n",
       "      <td>River North</td>\n",
       "      <td>9523.666667</td>\n",
       "    </tr>\n",
       "    <tr>\n",
       "      <th>2</th>\n",
       "      <td>Streeterville</td>\n",
       "      <td>6664.666667</td>\n",
       "    </tr>\n",
       "    <tr>\n",
       "      <th>3</th>\n",
       "      <td>West Loop</td>\n",
       "      <td>5163.666667</td>\n",
       "    </tr>\n",
       "    <tr>\n",
       "      <th>4</th>\n",
       "      <td>O'Hare</td>\n",
       "      <td>2546.900000</td>\n",
       "    </tr>\n",
       "  </tbody>\n",
       "</table>\n",
       "</div>"
      ],
      "text/plain": [
       "  dropoff_location_name  average_trips\n",
       "0                  Loop   10727.466667\n",
       "1           River North    9523.666667\n",
       "2         Streeterville    6664.666667\n",
       "3             West Loop    5163.666667\n",
       "4                O'Hare    2546.900000"
      ]
     },
     "execution_count": 5,
     "metadata": {},
     "output_type": "execute_result"
    }
   ],
   "source": [
    "# read the second dataset\n",
    "\n",
    "dropoff = pd.read_csv('/datasets/project_sql_result_04.csv')\n",
    "\n",
    "#checking the info of the dataset\n",
    "\n",
    "dropoff.head()"
   ]
  },
  {
   "cell_type": "code",
   "execution_count": 6,
   "metadata": {},
   "outputs": [
    {
     "name": "stdout",
     "output_type": "stream",
     "text": [
      "<class 'pandas.core.frame.DataFrame'>\n",
      "RangeIndex: 94 entries, 0 to 93\n",
      "Data columns (total 2 columns):\n",
      " #   Column                 Non-Null Count  Dtype  \n",
      "---  ------                 --------------  -----  \n",
      " 0   dropoff_location_name  94 non-null     object \n",
      " 1   average_trips          94 non-null     float64\n",
      "dtypes: float64(1), object(1)\n",
      "memory usage: 1.6+ KB\n"
     ]
    }
   ],
   "source": [
    "#general information\n",
    "\n",
    "dropoff.info()"
   ]
  },
  {
   "cell_type": "markdown",
   "metadata": {},
   "source": [
    "The dataset contains the following:\n",
    "- `dropoff_location_name`: Chicago neighborhoods where rides ended\n",
    "- `average_trips`: the average number of rides that ended in each neighborhood in November 2017.\n",
    "\n",
    "We see that 'average_trips' contains float type, we can change it to integer and round the number up if needed."
   ]
  },
  {
   "cell_type": "code",
   "execution_count": 7,
   "metadata": {},
   "outputs": [
    {
     "data": {
      "text/html": [
       "<div>\n",
       "<style scoped>\n",
       "    .dataframe tbody tr th:only-of-type {\n",
       "        vertical-align: middle;\n",
       "    }\n",
       "\n",
       "    .dataframe tbody tr th {\n",
       "        vertical-align: top;\n",
       "    }\n",
       "\n",
       "    .dataframe thead th {\n",
       "        text-align: right;\n",
       "    }\n",
       "</style>\n",
       "<table border=\"1\" class=\"dataframe\">\n",
       "  <thead>\n",
       "    <tr style=\"text-align: right;\">\n",
       "      <th></th>\n",
       "      <th>start_ts</th>\n",
       "      <th>weather_conditions</th>\n",
       "      <th>duration_seconds</th>\n",
       "    </tr>\n",
       "  </thead>\n",
       "  <tbody>\n",
       "    <tr>\n",
       "      <th>0</th>\n",
       "      <td>2017-11-25 16:00:00</td>\n",
       "      <td>Good</td>\n",
       "      <td>2410.0</td>\n",
       "    </tr>\n",
       "    <tr>\n",
       "      <th>1</th>\n",
       "      <td>2017-11-25 14:00:00</td>\n",
       "      <td>Good</td>\n",
       "      <td>1920.0</td>\n",
       "    </tr>\n",
       "    <tr>\n",
       "      <th>2</th>\n",
       "      <td>2017-11-25 12:00:00</td>\n",
       "      <td>Good</td>\n",
       "      <td>1543.0</td>\n",
       "    </tr>\n",
       "    <tr>\n",
       "      <th>3</th>\n",
       "      <td>2017-11-04 10:00:00</td>\n",
       "      <td>Good</td>\n",
       "      <td>2512.0</td>\n",
       "    </tr>\n",
       "    <tr>\n",
       "      <th>4</th>\n",
       "      <td>2017-11-11 07:00:00</td>\n",
       "      <td>Good</td>\n",
       "      <td>1440.0</td>\n",
       "    </tr>\n",
       "  </tbody>\n",
       "</table>\n",
       "</div>"
      ],
      "text/plain": [
       "              start_ts weather_conditions  duration_seconds\n",
       "0  2017-11-25 16:00:00               Good            2410.0\n",
       "1  2017-11-25 14:00:00               Good            1920.0\n",
       "2  2017-11-25 12:00:00               Good            1543.0\n",
       "3  2017-11-04 10:00:00               Good            2512.0\n",
       "4  2017-11-11 07:00:00               Good            1440.0"
      ]
     },
     "execution_count": 7,
     "metadata": {},
     "output_type": "execute_result"
    }
   ],
   "source": [
    "#import the last dataset\n",
    "\n",
    "rides = pd.read_csv('/datasets/project_sql_result_07.csv')\n",
    "\n",
    "rides.head()"
   ]
  },
  {
   "cell_type": "code",
   "execution_count": 8,
   "metadata": {},
   "outputs": [
    {
     "name": "stdout",
     "output_type": "stream",
     "text": [
      "<class 'pandas.core.frame.DataFrame'>\n",
      "RangeIndex: 1068 entries, 0 to 1067\n",
      "Data columns (total 3 columns):\n",
      " #   Column              Non-Null Count  Dtype  \n",
      "---  ------              --------------  -----  \n",
      " 0   start_ts            1068 non-null   object \n",
      " 1   weather_conditions  1068 non-null   object \n",
      " 2   duration_seconds    1068 non-null   float64\n",
      "dtypes: float64(1), object(2)\n",
      "memory usage: 25.2+ KB\n"
     ]
    }
   ],
   "source": [
    "#general information\n",
    "\n",
    "rides.info()"
   ]
  },
  {
   "cell_type": "markdown",
   "metadata": {},
   "source": [
    "The dataset contains the following:\n",
    "\n",
    "- `start_ts` — pickup date and time\n",
    "- `weather_conditions` — weather conditions at the moment the ride started\n",
    "- `duration_seconds` — ride duration in seconds\n",
    "\n",
    "No missing values, we need to convert the 'start_ts' to date-time format."
   ]
  },
  {
   "cell_type": "markdown",
   "metadata": {},
   "source": [
    "## Exploratory Data Analysis"
   ]
  },
  {
   "cell_type": "markdown",
   "metadata": {},
   "source": [
    "### Change datatype + round up values\n"
   ]
  },
  {
   "cell_type": "code",
   "execution_count": 13,
   "metadata": {},
   "outputs": [
    {
     "data": {
      "text/html": [
       "<div>\n",
       "<style scoped>\n",
       "    .dataframe tbody tr th:only-of-type {\n",
       "        vertical-align: middle;\n",
       "    }\n",
       "\n",
       "    .dataframe tbody tr th {\n",
       "        vertical-align: top;\n",
       "    }\n",
       "\n",
       "    .dataframe thead th {\n",
       "        text-align: right;\n",
       "    }\n",
       "</style>\n",
       "<table border=\"1\" class=\"dataframe\">\n",
       "  <thead>\n",
       "    <tr style=\"text-align: right;\">\n",
       "      <th></th>\n",
       "      <th>dropoff_location_name</th>\n",
       "      <th>average_trips</th>\n",
       "    </tr>\n",
       "  </thead>\n",
       "  <tbody>\n",
       "    <tr>\n",
       "      <th>0</th>\n",
       "      <td>Loop</td>\n",
       "      <td>10728</td>\n",
       "    </tr>\n",
       "    <tr>\n",
       "      <th>1</th>\n",
       "      <td>River North</td>\n",
       "      <td>9524</td>\n",
       "    </tr>\n",
       "    <tr>\n",
       "      <th>2</th>\n",
       "      <td>Streeterville</td>\n",
       "      <td>6665</td>\n",
       "    </tr>\n",
       "    <tr>\n",
       "      <th>3</th>\n",
       "      <td>West Loop</td>\n",
       "      <td>5164</td>\n",
       "    </tr>\n",
       "    <tr>\n",
       "      <th>4</th>\n",
       "      <td>O'Hare</td>\n",
       "      <td>2547</td>\n",
       "    </tr>\n",
       "  </tbody>\n",
       "</table>\n",
       "</div>"
      ],
      "text/plain": [
       "  dropoff_location_name  average_trips\n",
       "0                  Loop          10728\n",
       "1           River North           9524\n",
       "2         Streeterville           6665\n",
       "3             West Loop           5164\n",
       "4                O'Hare           2547"
      ]
     },
     "execution_count": 13,
     "metadata": {},
     "output_type": "execute_result"
    }
   ],
   "source": [
    "# for dropoff dataset\n",
    "\n",
    "dropoff['average_trips'] = np.ceil(dropoff['average_trips'])\n",
    "\n",
    "dropoff['average_trips'] = dropoff['average_trips'].astype('int')\n",
    "\n",
    "dropoff.head()"
   ]
  },
  {
   "cell_type": "code",
   "execution_count": 42,
   "metadata": {},
   "outputs": [
    {
     "name": "stdout",
     "output_type": "stream",
     "text": [
      "<class 'pandas.core.frame.DataFrame'>\n",
      "RangeIndex: 1068 entries, 0 to 1067\n",
      "Data columns (total 3 columns):\n",
      " #   Column              Non-Null Count  Dtype         \n",
      "---  ------              --------------  -----         \n",
      " 0   start_ts            1068 non-null   datetime64[ns]\n",
      " 1   weather_conditions  1068 non-null   object        \n",
      " 2   duration_seconds    1068 non-null   int64         \n",
      "dtypes: datetime64[ns](1), int64(1), object(1)\n",
      "memory usage: 25.2+ KB\n"
     ]
    }
   ],
   "source": [
    "#for rides\n",
    "\n",
    "rides['duration_seconds'] = rides['duration_seconds'].astype('int')\n",
    "\n",
    "rides['start_ts'] = pd.to_datetime(rides['start_ts'], format = '%Y-%m-%d %H:%M:%S')\n",
    "\n",
    "rides.info()"
   ]
  },
  {
   "cell_type": "markdown",
   "metadata": {},
   "source": [
    "### Top 10 drop-off neighborhoods"
   ]
  },
  {
   "cell_type": "markdown",
   "metadata": {},
   "source": [
    "We will determine the top 10 drop-off neighborhoods by sorting the dropoff dataset by descending order of the average_trips column."
   ]
  },
  {
   "cell_type": "code",
   "execution_count": 15,
   "metadata": {},
   "outputs": [
    {
     "data": {
      "text/html": [
       "<div>\n",
       "<style scoped>\n",
       "    .dataframe tbody tr th:only-of-type {\n",
       "        vertical-align: middle;\n",
       "    }\n",
       "\n",
       "    .dataframe tbody tr th {\n",
       "        vertical-align: top;\n",
       "    }\n",
       "\n",
       "    .dataframe thead th {\n",
       "        text-align: right;\n",
       "    }\n",
       "</style>\n",
       "<table border=\"1\" class=\"dataframe\">\n",
       "  <thead>\n",
       "    <tr style=\"text-align: right;\">\n",
       "      <th></th>\n",
       "      <th>dropoff_location_name</th>\n",
       "      <th>average_trips</th>\n",
       "    </tr>\n",
       "  </thead>\n",
       "  <tbody>\n",
       "    <tr>\n",
       "      <th>0</th>\n",
       "      <td>Loop</td>\n",
       "      <td>10728</td>\n",
       "    </tr>\n",
       "    <tr>\n",
       "      <th>1</th>\n",
       "      <td>River North</td>\n",
       "      <td>9524</td>\n",
       "    </tr>\n",
       "    <tr>\n",
       "      <th>2</th>\n",
       "      <td>Streeterville</td>\n",
       "      <td>6665</td>\n",
       "    </tr>\n",
       "    <tr>\n",
       "      <th>3</th>\n",
       "      <td>West Loop</td>\n",
       "      <td>5164</td>\n",
       "    </tr>\n",
       "    <tr>\n",
       "      <th>4</th>\n",
       "      <td>O'Hare</td>\n",
       "      <td>2547</td>\n",
       "    </tr>\n",
       "    <tr>\n",
       "      <th>5</th>\n",
       "      <td>Lake View</td>\n",
       "      <td>2421</td>\n",
       "    </tr>\n",
       "    <tr>\n",
       "      <th>6</th>\n",
       "      <td>Grant Park</td>\n",
       "      <td>2069</td>\n",
       "    </tr>\n",
       "    <tr>\n",
       "      <th>7</th>\n",
       "      <td>Museum Campus</td>\n",
       "      <td>1510</td>\n",
       "    </tr>\n",
       "    <tr>\n",
       "      <th>8</th>\n",
       "      <td>Gold Coast</td>\n",
       "      <td>1365</td>\n",
       "    </tr>\n",
       "    <tr>\n",
       "      <th>9</th>\n",
       "      <td>Sheffield &amp; DePaul</td>\n",
       "      <td>1260</td>\n",
       "    </tr>\n",
       "  </tbody>\n",
       "</table>\n",
       "</div>"
      ],
      "text/plain": [
       "  dropoff_location_name  average_trips\n",
       "0                  Loop          10728\n",
       "1           River North           9524\n",
       "2         Streeterville           6665\n",
       "3             West Loop           5164\n",
       "4                O'Hare           2547\n",
       "5             Lake View           2421\n",
       "6            Grant Park           2069\n",
       "7         Museum Campus           1510\n",
       "8            Gold Coast           1365\n",
       "9    Sheffield & DePaul           1260"
      ]
     },
     "execution_count": 15,
     "metadata": {},
     "output_type": "execute_result"
    }
   ],
   "source": [
    "#sort the dataset by descending order of 'average trips'\n",
    "top = dropoff.sort_values(by='average_trips', ascending = False)\n",
    "top_10 = top.head(10)\n",
    "\n",
    "top_10"
   ]
  },
  {
   "cell_type": "markdown",
   "metadata": {},
   "source": [
    "We will plot this by creating a bar plot."
   ]
  },
  {
   "cell_type": "code",
   "execution_count": 24,
   "metadata": {},
   "outputs": [
    {
     "data": {
      "image/png": "[encoded data removed]",
      "text/plain": [
       "<Figure size 864x720 with 1 Axes>"
      ]
     },
     "metadata": {},
     "output_type": "display_data"
    }
   ],
   "source": [
    "#bar plot\n",
    "\n",
    "ax = sns.barplot(x='dropoff_location_name', y='average_trips', data = top_10)\n",
    "ticks = ax.set_xticklabels(ax.get_xticklabels(),rotation=50)\n",
    "sns.set(rc={'figure.figsize':(12,10)})\n",
    "ax.set(xlabel='neighborhoods', ylabel='average trips', title = 'Top 10 Dropoff Neighborhoods')\n",
    "plt.show()"
   ]
  },
  {
   "cell_type": "markdown",
   "metadata": {},
   "source": [
    "We can see that the most popular dropoff neighborhood is the Loop, followed by River North, Streeterville, and West Loop. O'hare, Lake view and Grant Park appeared to be similar in terms of average trips. While Museum campus, Gold Coast and Sheffield & Depaul are similar in average trips. There is a large difference between the top 4 neighborhood and the rest. "
   ]
  },
  {
   "cell_type": "markdown",
   "metadata": {},
   "source": [
    "### Top taxi companies by number of trips"
   ]
  },
  {
   "cell_type": "markdown",
   "metadata": {},
   "source": [
    "Since we have 64 companies, let's select the top 20 by sorting them by trips_amount."
   ]
  },
  {
   "cell_type": "code",
   "execution_count": 30,
   "metadata": {},
   "outputs": [
    {
     "data": {
      "text/html": [
       "<div>\n",
       "<style scoped>\n",
       "    .dataframe tbody tr th:only-of-type {\n",
       "        vertical-align: middle;\n",
       "    }\n",
       "\n",
       "    .dataframe tbody tr th {\n",
       "        vertical-align: top;\n",
       "    }\n",
       "\n",
       "    .dataframe thead th {\n",
       "        text-align: right;\n",
       "    }\n",
       "</style>\n",
       "<table border=\"1\" class=\"dataframe\">\n",
       "  <thead>\n",
       "    <tr style=\"text-align: right;\">\n",
       "      <th></th>\n",
       "      <th>company_name</th>\n",
       "      <th>trips_amount</th>\n",
       "    </tr>\n",
       "  </thead>\n",
       "  <tbody>\n",
       "    <tr>\n",
       "      <th>0</th>\n",
       "      <td>Flash Cab</td>\n",
       "      <td>19558</td>\n",
       "    </tr>\n",
       "    <tr>\n",
       "      <th>1</th>\n",
       "      <td>Taxi Affiliation Services</td>\n",
       "      <td>11422</td>\n",
       "    </tr>\n",
       "    <tr>\n",
       "      <th>2</th>\n",
       "      <td>Medallion Leasing</td>\n",
       "      <td>10367</td>\n",
       "    </tr>\n",
       "    <tr>\n",
       "      <th>3</th>\n",
       "      <td>Yellow Cab</td>\n",
       "      <td>9888</td>\n",
       "    </tr>\n",
       "    <tr>\n",
       "      <th>4</th>\n",
       "      <td>Taxi Affiliation Service Yellow</td>\n",
       "      <td>9299</td>\n",
       "    </tr>\n",
       "    <tr>\n",
       "      <th>5</th>\n",
       "      <td>Chicago Carriage Cab Corp</td>\n",
       "      <td>9181</td>\n",
       "    </tr>\n",
       "    <tr>\n",
       "      <th>6</th>\n",
       "      <td>City Service</td>\n",
       "      <td>8448</td>\n",
       "    </tr>\n",
       "    <tr>\n",
       "      <th>7</th>\n",
       "      <td>Sun Taxi</td>\n",
       "      <td>7701</td>\n",
       "    </tr>\n",
       "    <tr>\n",
       "      <th>8</th>\n",
       "      <td>Star North Management LLC</td>\n",
       "      <td>7455</td>\n",
       "    </tr>\n",
       "    <tr>\n",
       "      <th>9</th>\n",
       "      <td>Blue Ribbon Taxi Association Inc.</td>\n",
       "      <td>5953</td>\n",
       "    </tr>\n",
       "    <tr>\n",
       "      <th>10</th>\n",
       "      <td>Choice Taxi Association</td>\n",
       "      <td>5015</td>\n",
       "    </tr>\n",
       "    <tr>\n",
       "      <th>11</th>\n",
       "      <td>Globe Taxi</td>\n",
       "      <td>4383</td>\n",
       "    </tr>\n",
       "    <tr>\n",
       "      <th>12</th>\n",
       "      <td>Dispatch Taxi Affiliation</td>\n",
       "      <td>3355</td>\n",
       "    </tr>\n",
       "    <tr>\n",
       "      <th>13</th>\n",
       "      <td>Nova Taxi Affiliation Llc</td>\n",
       "      <td>3175</td>\n",
       "    </tr>\n",
       "    <tr>\n",
       "      <th>14</th>\n",
       "      <td>Patriot Taxi Dba Peace Taxi Association</td>\n",
       "      <td>2235</td>\n",
       "    </tr>\n",
       "    <tr>\n",
       "      <th>15</th>\n",
       "      <td>Checker Taxi Affiliation</td>\n",
       "      <td>2216</td>\n",
       "    </tr>\n",
       "    <tr>\n",
       "      <th>16</th>\n",
       "      <td>Blue Diamond</td>\n",
       "      <td>2070</td>\n",
       "    </tr>\n",
       "    <tr>\n",
       "      <th>17</th>\n",
       "      <td>Chicago Medallion Management</td>\n",
       "      <td>1955</td>\n",
       "    </tr>\n",
       "    <tr>\n",
       "      <th>18</th>\n",
       "      <td>24 Seven Taxi</td>\n",
       "      <td>1775</td>\n",
       "    </tr>\n",
       "    <tr>\n",
       "      <th>19</th>\n",
       "      <td>Chicago Medallion Leasing INC</td>\n",
       "      <td>1607</td>\n",
       "    </tr>\n",
       "  </tbody>\n",
       "</table>\n",
       "</div>"
      ],
      "text/plain": [
       "                               company_name  trips_amount\n",
       "0                                 Flash Cab         19558\n",
       "1                 Taxi Affiliation Services         11422\n",
       "2                         Medallion Leasing         10367\n",
       "3                                Yellow Cab          9888\n",
       "4           Taxi Affiliation Service Yellow          9299\n",
       "5                 Chicago Carriage Cab Corp          9181\n",
       "6                              City Service          8448\n",
       "7                                  Sun Taxi          7701\n",
       "8                 Star North Management LLC          7455\n",
       "9         Blue Ribbon Taxi Association Inc.          5953\n",
       "10                  Choice Taxi Association          5015\n",
       "11                               Globe Taxi          4383\n",
       "12                Dispatch Taxi Affiliation          3355\n",
       "13                Nova Taxi Affiliation Llc          3175\n",
       "14  Patriot Taxi Dba Peace Taxi Association          2235\n",
       "15                 Checker Taxi Affiliation          2216\n",
       "16                             Blue Diamond          2070\n",
       "17             Chicago Medallion Management          1955\n",
       "18                            24 Seven Taxi          1775\n",
       "19            Chicago Medallion Leasing INC          1607"
      ]
     },
     "execution_count": 30,
     "metadata": {},
     "output_type": "execute_result"
    }
   ],
   "source": [
    "#Top 20 companies based on trips_amount\n",
    "\n",
    "company_top = company.sort_values(by='trips_amount', ascending = False)\n",
    "company_top_20 = company_top.head(20)\n",
    "company_top_20"
   ]
  },
  {
   "cell_type": "markdown",
   "metadata": {},
   "source": [
    "Let's plot this by using a bar plot."
   ]
  },
  {
   "cell_type": "code",
   "execution_count": 33,
   "metadata": {},
   "outputs": [
    {
     "data": {
      "image/png": "[encoded data removed]",
      "text/plain": [
       "<Figure size 864x720 with 1 Axes>"
      ]
     },
     "metadata": {},
     "output_type": "display_data"
    }
   ],
   "source": [
    "#bar plot\n",
    "\n",
    "ax1 = sns.barplot(x='trips_amount', y='company_name', data = company_top_20)\n",
    "sns.set(rc={'figure.figsize':(12,10)})\n",
    "ax1.set(xlabel='Total Trips', ylabel='Company', title = 'Top 20 Taxi Companies')\n",
    "plt.show()"
   ]
  },
  {
   "cell_type": "markdown",
   "metadata": {},
   "source": [
    "We can see that a lot more customers chose Flash Cab. Follow by Taxi Affliation Services to Star North Management LLC, the amount of customers choosing these companies are similar. While less people chose Blue Ribbon to Chicago medallion leasing INC of the top 20."
   ]
  },
  {
   "cell_type": "markdown",
   "metadata": {},
   "source": [
    "## Hypothesis Testing\n"
   ]
  },
  {
   "cell_type": "markdown",
   "metadata": {},
   "source": [
    "- `The null hypothesis`: the average duration of rides from the Loop to O'Hare International Airport does not change on rainy Saturdays.\n",
    "- `The alternative hypothesis`: the average duration of rides from the Loop to O'Hare International Airport changes on rainy Saturdays."
   ]
  },
  {
   "cell_type": "markdown",
   "metadata": {},
   "source": [
    "In order to test this hypothesis, we need to make two slices from our third dateset 'rides', one with weather_conditions = good, the other one with 'bad'."
   ]
  },
  {
   "cell_type": "code",
   "execution_count": 38,
   "metadata": {},
   "outputs": [
    {
     "name": "stdout",
     "output_type": "stream",
     "text": [
      "<class 'pandas.core.frame.DataFrame'>\n",
      "Int64Index: 888 entries, 0 to 1066\n",
      "Data columns (total 3 columns):\n",
      " #   Column              Non-Null Count  Dtype         \n",
      "---  ------              --------------  -----         \n",
      " 0   start_ts            888 non-null    datetime64[ns]\n",
      " 1   weather_conditions  888 non-null    object        \n",
      " 2   duration_seconds    888 non-null    int64         \n",
      "dtypes: datetime64[ns](1), int64(1), object(1)\n",
      "memory usage: 27.8+ KB\n"
     ]
    }
   ],
   "source": [
    "#good weather\n",
    "\n",
    "good_weather = rides.query('weather_conditions == \"Good\"')\n",
    "\n",
    "good_weather.info()"
   ]
  },
  {
   "cell_type": "code",
   "execution_count": 39,
   "metadata": {
    "scrolled": true
   },
   "outputs": [
    {
     "name": "stdout",
     "output_type": "stream",
     "text": [
      "<class 'pandas.core.frame.DataFrame'>\n",
      "Int64Index: 180 entries, 6 to 1067\n",
      "Data columns (total 3 columns):\n",
      " #   Column              Non-Null Count  Dtype         \n",
      "---  ------              --------------  -----         \n",
      " 0   start_ts            180 non-null    datetime64[ns]\n",
      " 1   weather_conditions  180 non-null    object        \n",
      " 2   duration_seconds    180 non-null    int64         \n",
      "dtypes: datetime64[ns](1), int64(1), object(1)\n",
      "memory usage: 5.6+ KB\n"
     ]
    }
   ],
   "source": [
    "#bad weather\n",
    "\n",
    "bad_weather = rides.query('weather_conditions == \"Bad\"')\n",
    "\n",
    "bad_weather.info()"
   ]
  },
  {
   "cell_type": "markdown",
   "metadata": {},
   "source": [
    "Before the hypothesis testing, lets use Levene's test to determine whether these two slices have equal variance."
   ]
  },
  {
   "cell_type": "code",
   "execution_count": 40,
   "metadata": {},
   "outputs": [
    {
     "name": "stdout",
     "output_type": "stream",
     "text": [
      "p-value: 0.3968505113995001\n",
      "The variances are most likely the same\n"
     ]
    }
   ],
   "source": [
    "#Levene's test\n",
    "#set alpha\n",
    "alpha = 0.05 \n",
    "\n",
    "result = st.levene(good_weather['duration_seconds'], bad_weather['duration_seconds'], center='mean')\n",
    "\n",
    "print('p-value:', result.pvalue)\n",
    "\n",
    "if result.pvalue > alpha:\n",
    "    print('The variances are most likely the same')\n",
    "else:\n",
    "    print('The variances are most likely not the same')"
   ]
  },
  {
   "cell_type": "code",
   "execution_count": 43,
   "metadata": {},
   "outputs": [
    {
     "name": "stdout",
     "output_type": "stream",
     "text": [
      "p-value: 6.517970327099473e-12\n",
      "We reject the null hypothesis\n"
     ]
    }
   ],
   "source": [
    "#Hypothesis testing\n",
    "#set alpha\n",
    "\n",
    "alpha = 0.05\n",
    "\n",
    "#test\n",
    "results = st.ttest_ind(good_weather['duration_seconds'], bad_weather['duration_seconds'], equal_var =True)\n",
    "\n",
    "print('p-value:', results.pvalue)\n",
    "\n",
    "#hypothesis testing\n",
    "\n",
    "if results.pvalue > alpha:\n",
    "    print('We fail to reject the null hypothesis')\n",
    "else:\n",
    "    print('We reject the null hypothesis')"
   ]
  },
  {
   "cell_type": "markdown",
   "metadata": {},
   "source": [
    "Based on our statstical analysis, we will reject he null hypothesis, thus accepting the alternative hypothesis: **the average duration of rides from the Loop to O'Hare International Airport changes on rainy Saturdays.**"
   ]
  },
  {
   "cell_type": "markdown",
   "metadata": {},
   "source": [
    "## Conclusion"
   ]
  },
  {
   "cell_type": "markdown",
   "metadata": {},
   "source": [
    "We have found the top 10 dropoff neighborhoods, with the Loops being the most popular neighborhood by far. We have also found that Flash Cab to be the most used taxi company. And by 95% confidence, we can conclude that the average duration of rides from the Loop to O'Hare International Airport changes on rainy Saturdays."
   ]
  }
 ],
 "metadata": {
  "ExecuteTimeLog": [
   {
    "duration": 1809,
    "start_time": "2022-06-02T19:02:44.168Z"
   },
   {
    "duration": 69,
    "start_time": "2022-06-02T19:03:42.736Z"
   },
   {
    "duration": 29,
    "start_time": "2022-06-02T19:04:10.620Z"
   },
   {
    "duration": 11,
    "start_time": "2022-06-02T19:04:45.305Z"
   },
   {
    "duration": 72,
    "start_time": "2022-06-02T19:11:37.228Z"
   },
   {
    "duration": 10,
    "start_time": "2022-06-02T19:12:09.309Z"
   },
   {
    "duration": 83,
    "start_time": "2022-06-02T19:29:21.978Z"
   },
   {
    "duration": 10,
    "start_time": "2022-06-02T19:29:36.451Z"
   },
   {
    "duration": 108,
    "start_time": "2022-06-02T19:34:08.760Z"
   },
   {
    "duration": 9,
    "start_time": "2022-06-02T19:35:57.695Z"
   },
   {
    "duration": 3,
    "start_time": "2022-06-02T19:36:24.766Z"
   },
   {
    "duration": 11,
    "start_time": "2022-06-02T19:37:05.618Z"
   },
   {
    "duration": 7,
    "start_time": "2022-06-02T19:37:12.156Z"
   },
   {
    "duration": 12,
    "start_time": "2022-06-02T19:38:18.159Z"
   },
   {
    "duration": 12,
    "start_time": "2022-06-02T19:40:48.296Z"
   },
   {
    "duration": 417,
    "start_time": "2022-06-02T19:46:51.254Z"
   },
   {
    "duration": 260,
    "start_time": "2022-06-02T19:47:59.165Z"
   },
   {
    "duration": 187,
    "start_time": "2022-06-02T19:48:15.256Z"
   },
   {
    "duration": 266,
    "start_time": "2022-06-02T19:48:22.640Z"
   },
   {
    "duration": 252,
    "start_time": "2022-06-02T19:48:34.021Z"
   },
   {
    "duration": 264,
    "start_time": "2022-06-02T19:51:10.103Z"
   },
   {
    "duration": 234,
    "start_time": "2022-06-02T19:51:23.729Z"
   },
   {
    "duration": 23,
    "start_time": "2022-06-02T19:52:52.485Z"
   },
   {
    "duration": 283,
    "start_time": "2022-06-02T19:53:07.052Z"
   },
   {
    "duration": 8,
    "start_time": "2022-06-02T19:59:18.429Z"
   },
   {
    "duration": 12,
    "start_time": "2022-06-02T19:59:32.650Z"
   },
   {
    "duration": 12,
    "start_time": "2022-06-02T20:01:18.195Z"
   },
   {
    "duration": 3,
    "start_time": "2022-06-02T20:01:22.027Z"
   },
   {
    "duration": 9,
    "start_time": "2022-06-02T20:01:26.661Z"
   },
   {
    "duration": 9,
    "start_time": "2022-06-02T20:01:45.652Z"
   },
   {
    "duration": 359,
    "start_time": "2022-06-02T20:03:02.804Z"
   },
   {
    "duration": 405,
    "start_time": "2022-06-02T20:03:17.217Z"
   },
   {
    "duration": 495,
    "start_time": "2022-06-02T20:03:28.395Z"
   },
   {
    "duration": 13,
    "start_time": "2022-06-02T20:12:10.596Z"
   },
   {
    "duration": 200,
    "start_time": "2022-06-02T20:12:21.563Z"
   },
   {
    "duration": 373,
    "start_time": "2022-06-02T20:13:00.232Z"
   },
   {
    "duration": 20,
    "start_time": "2022-06-02T20:13:15.872Z"
   },
   {
    "duration": 282,
    "start_time": "2022-06-02T20:14:55.933Z"
   },
   {
    "duration": 20,
    "start_time": "2022-06-02T20:15:37.775Z"
   },
   {
    "duration": 6,
    "start_time": "2022-06-02T20:17:45.915Z"
   },
   {
    "duration": 17,
    "start_time": "2022-06-02T20:18:31.380Z"
   },
   {
    "duration": 12,
    "start_time": "2022-06-02T20:18:37.511Z"
   },
   {
    "duration": 6,
    "start_time": "2022-06-02T20:20:01.222Z"
   }
  ],
  "kernelspec": {
   "display_name": "Python 3 (ipykernel)",
   "language": "python",
   "name": "python3"
  },
  "language_info": {
   "codemirror_mode": {
    "name": "ipython",
    "version": 3
   },
   "file_extension": ".py",
   "mimetype": "text/x-python",
   "name": "python",
   "nbconvert_exporter": "python",
   "pygments_lexer": "ipython3",
   "version": "3.9.5"
  },
  "toc": {
   "base_numbering": 1,
   "nav_menu": {},
   "number_sections": true,
   "sideBar": true,
   "skip_h1_title": true,
   "title_cell": "Table of Contents",
   "title_sidebar": "Contents",
   "toc_cell": false,
   "toc_position": {},
   "toc_section_display": true,
   "toc_window_display": false
  }
 },
 "nbformat": 4,
 "nbformat_minor": 2
}
