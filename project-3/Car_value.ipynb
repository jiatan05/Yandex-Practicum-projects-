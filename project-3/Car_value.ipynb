{
 "cells": [
  {
   "cell_type": "markdown",
   "metadata": {},
   "source": [
    "# What sells a car?\n",
    "\n",
    "As an analyst at Crankshaft List. Hundreds of free advertisements for vehicles are published on your site every day. We will study data collected over the last few years and determine which factors influence the price of a vehicle."
   ]
  },
  {
   "cell_type": "markdown",
   "metadata": {},
   "source": [
    "\n",
    "##  Introduction\n",
    "This report identified potential factors that influence the price of a vehicle based on the free advertisement data collected over the last few years on Crankshaft List. \n",
    "\n",
    "###  Goal:\n",
    "This report will test various factors that might influence car prices based on free advertisement data listed below:\n",
    "\n",
    "1. Model Year\n",
    "2. Model\n",
    "3. Condition\n",
    "4. Fuel Type\n",
    "5. Condition\n",
    "6. Odometer reading\n",
    "7. Transmission\n",
    "8. Paint color\n",
    "9. Whether the car is four-wheel drive\n",
    "\n",
    "\n",
    "### Stages:\n",
    "This project will consist of the following stages:\n",
    "\n",
    "1. Initialization\n",
    "2. Data Preprocessing\n",
    "    1. Missing Values\n",
    "    2. Data Types\n",
    "    3. Data Enrichment\n",
    "    4. Clean Data\n",
    "    \n",
    "3. Exploratory Data Analysis\n",
    "    1. Ads Lifetime\n",
    "    2. Average Price\n",
    "    3. Price Factors\n",
    "    4. Core Parameters\n",
    "    5. Outliers\n",
    "    6. Core Parameters without Outliers\n",
    "4. Conclusion\n",
    "         \n",
    "\n"
   ]
  },
  {
   "cell_type": "markdown",
   "metadata": {},
   "source": [
    "## Initialization"
   ]
  },
  {
   "cell_type": "code",
   "execution_count": 1,
   "metadata": {},
   "outputs": [],
   "source": [
    "# Loading all the libraries\n",
    "\n",
    "#importing pandas\n",
    "import pandas as pd\n",
    "\n",
    "#importing pyplot module\n",
    "import matplotlib.pyplot as plt\n"
   ]
  },
  {
   "cell_type": "markdown",
   "metadata": {},
   "source": [
    "### Load data"
   ]
  },
  {
   "cell_type": "code",
   "execution_count": 2,
   "metadata": {},
   "outputs": [],
   "source": [
    "# Load the data file into a DataFrame\n",
    "\n",
    "car = pd.read_csv('/datasets/vehicles_us.csv')\n"
   ]
  },
  {
   "cell_type": "markdown",
   "metadata": {},
   "source": [
    "### Explore initial data"
   ]
  },
  {
   "cell_type": "markdown",
   "metadata": {},
   "source": [
    "Reading the dataset and look at the general information.\n"
   ]
  },
  {
   "cell_type": "code",
   "execution_count": 3,
   "metadata": {},
   "outputs": [
    {
     "name": "stdout",
     "output_type": "stream",
     "text": [
      "<class 'pandas.core.frame.DataFrame'>\n",
      "RangeIndex: 51525 entries, 0 to 51524\n",
      "Data columns (total 13 columns):\n",
      " #   Column        Non-Null Count  Dtype  \n",
      "---  ------        --------------  -----  \n",
      " 0   price         51525 non-null  int64  \n",
      " 1   model_year    47906 non-null  float64\n",
      " 2   model         51525 non-null  object \n",
      " 3   condition     51525 non-null  object \n",
      " 4   cylinders     46265 non-null  float64\n",
      " 5   fuel          51525 non-null  object \n",
      " 6   odometer      43633 non-null  float64\n",
      " 7   transmission  51525 non-null  object \n",
      " 8   type          51525 non-null  object \n",
      " 9   paint_color   42258 non-null  object \n",
      " 10  is_4wd        25572 non-null  float64\n",
      " 11  date_posted   51525 non-null  object \n",
      " 12  days_listed   51525 non-null  int64  \n",
      "dtypes: float64(4), int64(2), object(7)\n",
      "memory usage: 5.1+ MB\n"
     ]
    }
   ],
   "source": [
    "#The general/summary information about the DataFrame\n",
    "\n",
    "car.info()"
   ]
  },
  {
   "cell_type": "markdown",
   "metadata": {},
   "source": [
    "The dataset contains the following fields:\n",
    "- `price`\n",
    "- `model_year`\n",
    "- `model`\n",
    "- `condition`\n",
    "- `cylinders`\n",
    "- `fuel` — gas, diesel, etc.\n",
    "- `odometer` — the vehicle's mileage when the ad was published\n",
    "- `transmission`\n",
    "- `paint_color`\n",
    "- `is_4wd` — whether the vehicle has 4-wheel drive (Boolean type)\n",
    "- `date_posted` — the date the ad was published\n",
    "- `days_listed` — from publication to removal\n",
    "\n",
    "\n",
    "    "
   ]
  },
  {
   "cell_type": "code",
   "execution_count": 4,
   "metadata": {
    "scrolled": true
   },
   "outputs": [
    {
     "data": {
      "text/html": [
       "<div>\n",
       "<style scoped>\n",
       "    .dataframe tbody tr th:only-of-type {\n",
       "        vertical-align: middle;\n",
       "    }\n",
       "\n",
       "    .dataframe tbody tr th {\n",
       "        vertical-align: top;\n",
       "    }\n",
       "\n",
       "    .dataframe thead th {\n",
       "        text-align: right;\n",
       "    }\n",
       "</style>\n",
       "<table border=\"1\" class=\"dataframe\">\n",
       "  <thead>\n",
       "    <tr style=\"text-align: right;\">\n",
       "      <th></th>\n",
       "      <th>price</th>\n",
       "      <th>model_year</th>\n",
       "      <th>model</th>\n",
       "      <th>condition</th>\n",
       "      <th>cylinders</th>\n",
       "      <th>fuel</th>\n",
       "      <th>odometer</th>\n",
       "      <th>transmission</th>\n",
       "      <th>type</th>\n",
       "      <th>paint_color</th>\n",
       "      <th>is_4wd</th>\n",
       "      <th>date_posted</th>\n",
       "      <th>days_listed</th>\n",
       "    </tr>\n",
       "  </thead>\n",
       "  <tbody>\n",
       "    <tr>\n",
       "      <th>0</th>\n",
       "      <td>9400</td>\n",
       "      <td>2011.0</td>\n",
       "      <td>bmw x5</td>\n",
       "      <td>good</td>\n",
       "      <td>6.0</td>\n",
       "      <td>gas</td>\n",
       "      <td>145000.0</td>\n",
       "      <td>automatic</td>\n",
       "      <td>SUV</td>\n",
       "      <td>NaN</td>\n",
       "      <td>1.0</td>\n",
       "      <td>2018-06-23</td>\n",
       "      <td>19</td>\n",
       "    </tr>\n",
       "    <tr>\n",
       "      <th>1</th>\n",
       "      <td>25500</td>\n",
       "      <td>NaN</td>\n",
       "      <td>ford f-150</td>\n",
       "      <td>good</td>\n",
       "      <td>6.0</td>\n",
       "      <td>gas</td>\n",
       "      <td>88705.0</td>\n",
       "      <td>automatic</td>\n",
       "      <td>pickup</td>\n",
       "      <td>white</td>\n",
       "      <td>1.0</td>\n",
       "      <td>2018-10-19</td>\n",
       "      <td>50</td>\n",
       "    </tr>\n",
       "    <tr>\n",
       "      <th>2</th>\n",
       "      <td>5500</td>\n",
       "      <td>2013.0</td>\n",
       "      <td>hyundai sonata</td>\n",
       "      <td>like new</td>\n",
       "      <td>4.0</td>\n",
       "      <td>gas</td>\n",
       "      <td>110000.0</td>\n",
       "      <td>automatic</td>\n",
       "      <td>sedan</td>\n",
       "      <td>red</td>\n",
       "      <td>NaN</td>\n",
       "      <td>2019-02-07</td>\n",
       "      <td>79</td>\n",
       "    </tr>\n",
       "    <tr>\n",
       "      <th>3</th>\n",
       "      <td>1500</td>\n",
       "      <td>2003.0</td>\n",
       "      <td>ford f-150</td>\n",
       "      <td>fair</td>\n",
       "      <td>8.0</td>\n",
       "      <td>gas</td>\n",
       "      <td>NaN</td>\n",
       "      <td>automatic</td>\n",
       "      <td>pickup</td>\n",
       "      <td>NaN</td>\n",
       "      <td>NaN</td>\n",
       "      <td>2019-03-22</td>\n",
       "      <td>9</td>\n",
       "    </tr>\n",
       "    <tr>\n",
       "      <th>4</th>\n",
       "      <td>14900</td>\n",
       "      <td>2017.0</td>\n",
       "      <td>chrysler 200</td>\n",
       "      <td>excellent</td>\n",
       "      <td>4.0</td>\n",
       "      <td>gas</td>\n",
       "      <td>80903.0</td>\n",
       "      <td>automatic</td>\n",
       "      <td>sedan</td>\n",
       "      <td>black</td>\n",
       "      <td>NaN</td>\n",
       "      <td>2019-04-02</td>\n",
       "      <td>28</td>\n",
       "    </tr>\n",
       "    <tr>\n",
       "      <th>5</th>\n",
       "      <td>14990</td>\n",
       "      <td>2014.0</td>\n",
       "      <td>chrysler 300</td>\n",
       "      <td>excellent</td>\n",
       "      <td>6.0</td>\n",
       "      <td>gas</td>\n",
       "      <td>57954.0</td>\n",
       "      <td>automatic</td>\n",
       "      <td>sedan</td>\n",
       "      <td>black</td>\n",
       "      <td>1.0</td>\n",
       "      <td>2018-06-20</td>\n",
       "      <td>15</td>\n",
       "    </tr>\n",
       "    <tr>\n",
       "      <th>6</th>\n",
       "      <td>12990</td>\n",
       "      <td>2015.0</td>\n",
       "      <td>toyota camry</td>\n",
       "      <td>excellent</td>\n",
       "      <td>4.0</td>\n",
       "      <td>gas</td>\n",
       "      <td>79212.0</td>\n",
       "      <td>automatic</td>\n",
       "      <td>sedan</td>\n",
       "      <td>white</td>\n",
       "      <td>NaN</td>\n",
       "      <td>2018-12-27</td>\n",
       "      <td>73</td>\n",
       "    </tr>\n",
       "    <tr>\n",
       "      <th>7</th>\n",
       "      <td>15990</td>\n",
       "      <td>2013.0</td>\n",
       "      <td>honda pilot</td>\n",
       "      <td>excellent</td>\n",
       "      <td>6.0</td>\n",
       "      <td>gas</td>\n",
       "      <td>109473.0</td>\n",
       "      <td>automatic</td>\n",
       "      <td>SUV</td>\n",
       "      <td>black</td>\n",
       "      <td>1.0</td>\n",
       "      <td>2019-01-07</td>\n",
       "      <td>68</td>\n",
       "    </tr>\n",
       "    <tr>\n",
       "      <th>8</th>\n",
       "      <td>11500</td>\n",
       "      <td>2012.0</td>\n",
       "      <td>kia sorento</td>\n",
       "      <td>excellent</td>\n",
       "      <td>4.0</td>\n",
       "      <td>gas</td>\n",
       "      <td>104174.0</td>\n",
       "      <td>automatic</td>\n",
       "      <td>SUV</td>\n",
       "      <td>NaN</td>\n",
       "      <td>1.0</td>\n",
       "      <td>2018-07-16</td>\n",
       "      <td>19</td>\n",
       "    </tr>\n",
       "    <tr>\n",
       "      <th>9</th>\n",
       "      <td>9200</td>\n",
       "      <td>2008.0</td>\n",
       "      <td>honda pilot</td>\n",
       "      <td>excellent</td>\n",
       "      <td>NaN</td>\n",
       "      <td>gas</td>\n",
       "      <td>147191.0</td>\n",
       "      <td>automatic</td>\n",
       "      <td>SUV</td>\n",
       "      <td>blue</td>\n",
       "      <td>1.0</td>\n",
       "      <td>2019-02-15</td>\n",
       "      <td>17</td>\n",
       "    </tr>\n",
       "  </tbody>\n",
       "</table>\n",
       "</div>"
      ],
      "text/plain": [
       "   price  model_year           model  condition  cylinders fuel  odometer  \\\n",
       "0   9400      2011.0          bmw x5       good        6.0  gas  145000.0   \n",
       "1  25500         NaN      ford f-150       good        6.0  gas   88705.0   \n",
       "2   5500      2013.0  hyundai sonata   like new        4.0  gas  110000.0   \n",
       "3   1500      2003.0      ford f-150       fair        8.0  gas       NaN   \n",
       "4  14900      2017.0    chrysler 200  excellent        4.0  gas   80903.0   \n",
       "5  14990      2014.0    chrysler 300  excellent        6.0  gas   57954.0   \n",
       "6  12990      2015.0    toyota camry  excellent        4.0  gas   79212.0   \n",
       "7  15990      2013.0     honda pilot  excellent        6.0  gas  109473.0   \n",
       "8  11500      2012.0     kia sorento  excellent        4.0  gas  104174.0   \n",
       "9   9200      2008.0     honda pilot  excellent        NaN  gas  147191.0   \n",
       "\n",
       "  transmission    type paint_color  is_4wd date_posted  days_listed  \n",
       "0    automatic     SUV         NaN     1.0  2018-06-23           19  \n",
       "1    automatic  pickup       white     1.0  2018-10-19           50  \n",
       "2    automatic   sedan         red     NaN  2019-02-07           79  \n",
       "3    automatic  pickup         NaN     NaN  2019-03-22            9  \n",
       "4    automatic   sedan       black     NaN  2019-04-02           28  \n",
       "5    automatic   sedan       black     1.0  2018-06-20           15  \n",
       "6    automatic   sedan       white     NaN  2018-12-27           73  \n",
       "7    automatic     SUV       black     1.0  2019-01-07           68  \n",
       "8    automatic     SUV         NaN     1.0  2018-07-16           19  \n",
       "9    automatic     SUV        blue     1.0  2019-02-15           17  "
      ]
     },
     "execution_count": 4,
     "metadata": {},
     "output_type": "execute_result"
    }
   ],
   "source": [
    "# print a sample of data\n",
    "\n",
    "car.head(10)\n"
   ]
  },
  {
   "cell_type": "markdown",
   "metadata": {},
   "source": [
    "This dataset contains 13 columns and 51525 rows. \n",
    "Few issues are present: \n",
    "1. Missing values in:\n",
    "    1. 'model_year'\n",
    "    2. 'cylinders'\n",
    "    3. 'odometer'\n",
    "    4. 'paint_color'\n",
    "    5. 'is_4wd'\n",
    "    \n",
    "Within all of the columns that contains missing values, 'is_4wd' appeared to contain the most missing values, followed by 'paint_color'.\n",
    "\n",
    "2. Wrong data type in:\n",
    "    1. 'date_posted'\n",
    "    2. 'is_4wd'\n",
    "    \n",
    "'date_posted' needs to be date/time instead of object. While 'is_4wd' needs to be boolean instead of float64. \n",
    "\n",
    "These will be addressed in the following steps. \n"
   ]
  },
  {
   "cell_type": "markdown",
   "metadata": {},
   "source": [
    "### Conclusions and further steps\n"
   ]
  },
  {
   "cell_type": "markdown",
   "metadata": {},
   "source": [
    "Based on the general infomation of the dataset, I have identified several issues. In the following steps, I will replace the missing values in the columns 'model_year', 'cylinders', 'odometer', 'paint_color', and 'is_4wd'. The correct data type will be assigned to 'is_4wd' and 'date_posted'. "
   ]
  },
  {
   "cell_type": "markdown",
   "metadata": {},
   "source": [
    "# Data Preprocessing"
   ]
  },
  {
   "cell_type": "markdown",
   "metadata": {},
   "source": [
    "## Treat missing values "
   ]
  },
  {
   "cell_type": "markdown",
   "metadata": {},
   "source": [
    "\n",
    "\n",
    "The following columns contain missing values: 'model_year', 'cylinders', 'odometer', 'paint_color' and 'is_4wd'. We will deal with the first four columns, and save 'is_4wd' for later steps. "
   ]
  },
  {
   "cell_type": "markdown",
   "metadata": {},
   "source": [
    "We will first deal with **model_year** column. Since it is a numerical column, we will use .describe() to get some basic information.\n",
    "\n",
    "The reason why I chose to work with 'model_year' first is that other columns with missing values, such as odometer will likely need this information to fill the missing values. "
   ]
  },
  {
   "cell_type": "code",
   "execution_count": 5,
   "metadata": {
    "scrolled": false
   },
   "outputs": [
    {
     "name": "stdout",
     "output_type": "stream",
     "text": [
      "count    47906.000000\n",
      "mean      2009.750470\n",
      "std          6.282065\n",
      "min       1908.000000\n",
      "25%       2006.000000\n",
      "50%       2011.000000\n",
      "75%       2014.000000\n",
      "max       2019.000000\n",
      "Name: model_year, dtype: float64\n"
     ]
    },
    {
     "data": {
      "image/png": "[encoded data removed]",
      "text/plain": [
       "<Figure size 432x288 with 1 Axes>"
      ]
     },
     "metadata": {
      "needs_background": "light"
     },
     "output_type": "display_data"
    }
   ],
   "source": [
    "#check description of this column\n",
    "\n",
    "print(car['model_year'].describe())\n",
    "car['model_year'].hist(bins = 20)\n",
    "plt.title('model_year')\n",
    "plt.xlabel('model_year')\n",
    "plt.ylabel('counts')\n",
    "plt.show()"
   ]
  },
  {
   "cell_type": "markdown",
   "metadata": {},
   "source": [
    "The standard deviation appeared to be 6 years, although the mean and median are not too different. The distribution appeared to be skewed, therefore we should use the median to fill our missing values.  \n",
    "\n",
    "Generally speaking, the model year can be inferred base on the model and condition. We could also use the odometer reading but since we have decided to use model-year for odometer missing values, we should fill model year first.  "
   ]
  },
  {
   "cell_type": "code",
   "execution_count": 6,
   "metadata": {
    "scrolled": true
   },
   "outputs": [
    {
     "data": {
      "text/html": [
       "<div>\n",
       "<style scoped>\n",
       "    .dataframe tbody tr th:only-of-type {\n",
       "        vertical-align: middle;\n",
       "    }\n",
       "\n",
       "    .dataframe tbody tr th {\n",
       "        vertical-align: top;\n",
       "    }\n",
       "\n",
       "    .dataframe thead th {\n",
       "        text-align: right;\n",
       "    }\n",
       "</style>\n",
       "<table border=\"1\" class=\"dataframe\">\n",
       "  <thead>\n",
       "    <tr style=\"text-align: right;\">\n",
       "      <th></th>\n",
       "      <th>price</th>\n",
       "      <th>model_year</th>\n",
       "      <th>model</th>\n",
       "      <th>condition</th>\n",
       "      <th>cylinders</th>\n",
       "      <th>fuel</th>\n",
       "      <th>odometer</th>\n",
       "      <th>transmission</th>\n",
       "      <th>type</th>\n",
       "      <th>paint_color</th>\n",
       "      <th>is_4wd</th>\n",
       "      <th>date_posted</th>\n",
       "      <th>days_listed</th>\n",
       "    </tr>\n",
       "  </thead>\n",
       "  <tbody>\n",
       "    <tr>\n",
       "      <th>0</th>\n",
       "      <td>9400</td>\n",
       "      <td>2011.0</td>\n",
       "      <td>bmw x5</td>\n",
       "      <td>good</td>\n",
       "      <td>6.0</td>\n",
       "      <td>gas</td>\n",
       "      <td>145000.0</td>\n",
       "      <td>automatic</td>\n",
       "      <td>SUV</td>\n",
       "      <td>NaN</td>\n",
       "      <td>1.0</td>\n",
       "      <td>2018-06-23</td>\n",
       "      <td>19</td>\n",
       "    </tr>\n",
       "    <tr>\n",
       "      <th>1</th>\n",
       "      <td>25500</td>\n",
       "      <td>2008.0</td>\n",
       "      <td>ford f-150</td>\n",
       "      <td>good</td>\n",
       "      <td>6.0</td>\n",
       "      <td>gas</td>\n",
       "      <td>88705.0</td>\n",
       "      <td>automatic</td>\n",
       "      <td>pickup</td>\n",
       "      <td>white</td>\n",
       "      <td>1.0</td>\n",
       "      <td>2018-10-19</td>\n",
       "      <td>50</td>\n",
       "    </tr>\n",
       "    <tr>\n",
       "      <th>2</th>\n",
       "      <td>5500</td>\n",
       "      <td>2013.0</td>\n",
       "      <td>hyundai sonata</td>\n",
       "      <td>like new</td>\n",
       "      <td>4.0</td>\n",
       "      <td>gas</td>\n",
       "      <td>110000.0</td>\n",
       "      <td>automatic</td>\n",
       "      <td>sedan</td>\n",
       "      <td>red</td>\n",
       "      <td>NaN</td>\n",
       "      <td>2019-02-07</td>\n",
       "      <td>79</td>\n",
       "    </tr>\n",
       "    <tr>\n",
       "      <th>3</th>\n",
       "      <td>1500</td>\n",
       "      <td>2003.0</td>\n",
       "      <td>ford f-150</td>\n",
       "      <td>fair</td>\n",
       "      <td>8.0</td>\n",
       "      <td>gas</td>\n",
       "      <td>NaN</td>\n",
       "      <td>automatic</td>\n",
       "      <td>pickup</td>\n",
       "      <td>NaN</td>\n",
       "      <td>NaN</td>\n",
       "      <td>2019-03-22</td>\n",
       "      <td>9</td>\n",
       "    </tr>\n",
       "    <tr>\n",
       "      <th>4</th>\n",
       "      <td>14900</td>\n",
       "      <td>2017.0</td>\n",
       "      <td>chrysler 200</td>\n",
       "      <td>excellent</td>\n",
       "      <td>4.0</td>\n",
       "      <td>gas</td>\n",
       "      <td>80903.0</td>\n",
       "      <td>automatic</td>\n",
       "      <td>sedan</td>\n",
       "      <td>black</td>\n",
       "      <td>NaN</td>\n",
       "      <td>2019-04-02</td>\n",
       "      <td>28</td>\n",
       "    </tr>\n",
       "    <tr>\n",
       "      <th>5</th>\n",
       "      <td>14990</td>\n",
       "      <td>2014.0</td>\n",
       "      <td>chrysler 300</td>\n",
       "      <td>excellent</td>\n",
       "      <td>6.0</td>\n",
       "      <td>gas</td>\n",
       "      <td>57954.0</td>\n",
       "      <td>automatic</td>\n",
       "      <td>sedan</td>\n",
       "      <td>black</td>\n",
       "      <td>1.0</td>\n",
       "      <td>2018-06-20</td>\n",
       "      <td>15</td>\n",
       "    </tr>\n",
       "    <tr>\n",
       "      <th>6</th>\n",
       "      <td>12990</td>\n",
       "      <td>2015.0</td>\n",
       "      <td>toyota camry</td>\n",
       "      <td>excellent</td>\n",
       "      <td>4.0</td>\n",
       "      <td>gas</td>\n",
       "      <td>79212.0</td>\n",
       "      <td>automatic</td>\n",
       "      <td>sedan</td>\n",
       "      <td>white</td>\n",
       "      <td>NaN</td>\n",
       "      <td>2018-12-27</td>\n",
       "      <td>73</td>\n",
       "    </tr>\n",
       "    <tr>\n",
       "      <th>7</th>\n",
       "      <td>15990</td>\n",
       "      <td>2013.0</td>\n",
       "      <td>honda pilot</td>\n",
       "      <td>excellent</td>\n",
       "      <td>6.0</td>\n",
       "      <td>gas</td>\n",
       "      <td>109473.0</td>\n",
       "      <td>automatic</td>\n",
       "      <td>SUV</td>\n",
       "      <td>black</td>\n",
       "      <td>1.0</td>\n",
       "      <td>2019-01-07</td>\n",
       "      <td>68</td>\n",
       "    </tr>\n",
       "    <tr>\n",
       "      <th>8</th>\n",
       "      <td>11500</td>\n",
       "      <td>2012.0</td>\n",
       "      <td>kia sorento</td>\n",
       "      <td>excellent</td>\n",
       "      <td>4.0</td>\n",
       "      <td>gas</td>\n",
       "      <td>104174.0</td>\n",
       "      <td>automatic</td>\n",
       "      <td>SUV</td>\n",
       "      <td>NaN</td>\n",
       "      <td>1.0</td>\n",
       "      <td>2018-07-16</td>\n",
       "      <td>19</td>\n",
       "    </tr>\n",
       "    <tr>\n",
       "      <th>9</th>\n",
       "      <td>9200</td>\n",
       "      <td>2008.0</td>\n",
       "      <td>honda pilot</td>\n",
       "      <td>excellent</td>\n",
       "      <td>NaN</td>\n",
       "      <td>gas</td>\n",
       "      <td>147191.0</td>\n",
       "      <td>automatic</td>\n",
       "      <td>SUV</td>\n",
       "      <td>blue</td>\n",
       "      <td>1.0</td>\n",
       "      <td>2019-02-15</td>\n",
       "      <td>17</td>\n",
       "    </tr>\n",
       "  </tbody>\n",
       "</table>\n",
       "</div>"
      ],
      "text/plain": [
       "   price  model_year           model  condition  cylinders fuel  odometer  \\\n",
       "0   9400      2011.0          bmw x5       good        6.0  gas  145000.0   \n",
       "1  25500      2008.0      ford f-150       good        6.0  gas   88705.0   \n",
       "2   5500      2013.0  hyundai sonata   like new        4.0  gas  110000.0   \n",
       "3   1500      2003.0      ford f-150       fair        8.0  gas       NaN   \n",
       "4  14900      2017.0    chrysler 200  excellent        4.0  gas   80903.0   \n",
       "5  14990      2014.0    chrysler 300  excellent        6.0  gas   57954.0   \n",
       "6  12990      2015.0    toyota camry  excellent        4.0  gas   79212.0   \n",
       "7  15990      2013.0     honda pilot  excellent        6.0  gas  109473.0   \n",
       "8  11500      2012.0     kia sorento  excellent        4.0  gas  104174.0   \n",
       "9   9200      2008.0     honda pilot  excellent        NaN  gas  147191.0   \n",
       "\n",
       "  transmission    type paint_color  is_4wd date_posted  days_listed  \n",
       "0    automatic     SUV         NaN     1.0  2018-06-23           19  \n",
       "1    automatic  pickup       white     1.0  2018-10-19           50  \n",
       "2    automatic   sedan         red     NaN  2019-02-07           79  \n",
       "3    automatic  pickup         NaN     NaN  2019-03-22            9  \n",
       "4    automatic   sedan       black     NaN  2019-04-02           28  \n",
       "5    automatic   sedan       black     1.0  2018-06-20           15  \n",
       "6    automatic   sedan       white     NaN  2018-12-27           73  \n",
       "7    automatic     SUV       black     1.0  2019-01-07           68  \n",
       "8    automatic     SUV         NaN     1.0  2018-07-16           19  \n",
       "9    automatic     SUV        blue     1.0  2019-02-15           17  "
      ]
     },
     "execution_count": 6,
     "metadata": {},
     "output_type": "execute_result"
    }
   ],
   "source": [
    "#group data by 'model' and 'condition', and calculate the median 'model_year'\n",
    "\n",
    "model_year_med = car.groupby(['model', 'condition'])['model_year'].median()\n",
    "\n",
    "#Create a function that takes 'row' as argument\n",
    "\n",
    "def fill_mod_yr(row):\n",
    "    \n",
    "    #if the value for model_year is missing\n",
    "    \n",
    "    if pd.isna(row['model_year']):\n",
    "        \n",
    "        #returns the median model_year value based on model and condition from model_year_med\n",
    "        \n",
    "        return model_year_med.get((row['model'], row['condition']))\n",
    "    \n",
    "    #if the value is not missing, then return the existing model_year value\n",
    "    else:\n",
    "        return row['model_year']\n",
    "    \n",
    "\n",
    "#applying the function to the model_year column\n",
    "\n",
    "car['model_year'] = car.apply(fill_mod_yr, axis =1)\n",
    "\n",
    "#checking to make sure the function has applied properly\n",
    "\n",
    "car.head(10)"
   ]
  },
  {
   "cell_type": "code",
   "execution_count": 7,
   "metadata": {},
   "outputs": [
    {
     "data": {
      "text/plain": [
       "6"
      ]
     },
     "execution_count": 7,
     "metadata": {},
     "output_type": "execute_result"
    }
   ],
   "source": [
    "#making sure all missing values in 'model_year' have been filled\n",
    "\n",
    "car['model_year'].isna().sum()"
   ]
  },
  {
   "cell_type": "markdown",
   "metadata": {},
   "source": [
    "It appeared that there are still 6 missing values, it is likely that since we are using the median value based on the grouping, the group only contains one value, therefore it cannot fill the missing value with the median of one value. However, we can fill those manually by using the median.  "
   ]
  },
  {
   "cell_type": "code",
   "execution_count": 8,
   "metadata": {},
   "outputs": [],
   "source": [
    "#fill remaining missing values manually\n",
    "\n",
    "car['model_year'] = car['model_year'].fillna(car['model_year'].median())"
   ]
  },
  {
   "cell_type": "code",
   "execution_count": 9,
   "metadata": {},
   "outputs": [
    {
     "name": "stdout",
     "output_type": "stream",
     "text": [
      "<class 'pandas.core.frame.DataFrame'>\n",
      "RangeIndex: 51525 entries, 0 to 51524\n",
      "Data columns (total 13 columns):\n",
      " #   Column        Non-Null Count  Dtype  \n",
      "---  ------        --------------  -----  \n",
      " 0   price         51525 non-null  int64  \n",
      " 1   model_year    51525 non-null  float64\n",
      " 2   model         51525 non-null  object \n",
      " 3   condition     51525 non-null  object \n",
      " 4   cylinders     46265 non-null  float64\n",
      " 5   fuel          51525 non-null  object \n",
      " 6   odometer      43633 non-null  float64\n",
      " 7   transmission  51525 non-null  object \n",
      " 8   type          51525 non-null  object \n",
      " 9   paint_color   42258 non-null  object \n",
      " 10  is_4wd        25572 non-null  float64\n",
      " 11  date_posted   51525 non-null  object \n",
      " 12  days_listed   51525 non-null  int64  \n",
      "dtypes: float64(4), int64(2), object(7)\n",
      "memory usage: 5.1+ MB\n"
     ]
    }
   ],
   "source": [
    "#making sure all missing values have been filled\n",
    "car.info()"
   ]
  },
  {
   "cell_type": "markdown",
   "metadata": {},
   "source": [
    "All missing values have been filled. "
   ]
  },
  {
   "cell_type": "markdown",
   "metadata": {},
   "source": [
    "Filling missing values in **odometer** column"
   ]
  },
  {
   "cell_type": "code",
   "execution_count": 10,
   "metadata": {
    "scrolled": false
   },
   "outputs": [
    {
     "name": "stdout",
     "output_type": "stream",
     "text": [
      "count     43633.000000\n",
      "mean     115553.461738\n",
      "std       65094.611341\n",
      "min           0.000000\n",
      "25%       70000.000000\n",
      "50%      113000.000000\n",
      "75%      155000.000000\n",
      "max      990000.000000\n",
      "Name: odometer, dtype: float64\n"
     ]
    },
    {
     "data": {
      "image/png": "[encoded data removed]",
      "text/plain": [
       "<Figure size 432x288 with 1 Axes>"
      ]
     },
     "metadata": {
      "needs_background": "light"
     },
     "output_type": "display_data"
    }
   ],
   "source": [
    "#check description of this column\n",
    "\n",
    "print(car['odometer'].describe())\n",
    "car['odometer'].hist(bins = 50)\n",
    "plt.title('odometer')\n",
    "plt.xlabel('mileage')\n",
    "plt.ylabel('counts')\n",
    "plt.show()"
   ]
  },
  {
   "cell_type": "markdown",
   "metadata": {},
   "source": [
    "The standard deviation appeared to be quite high (65094 miles), and the distribution appeared to be skewed, which push us towards filling missing values with the median. However, there is likely an association between the odometer reading, model year and the condition of the car. So we will take into consideration of the model year and the condition by grouping the data by these two columns and calculate the median mileage of each combination. And we have filled all missing values in model_year.\n"
   ]
  },
  {
   "cell_type": "code",
   "execution_count": 11,
   "metadata": {
    "scrolled": true
   },
   "outputs": [
    {
     "data": {
      "text/html": [
       "<div>\n",
       "<style scoped>\n",
       "    .dataframe tbody tr th:only-of-type {\n",
       "        vertical-align: middle;\n",
       "    }\n",
       "\n",
       "    .dataframe tbody tr th {\n",
       "        vertical-align: top;\n",
       "    }\n",
       "\n",
       "    .dataframe thead th {\n",
       "        text-align: right;\n",
       "    }\n",
       "</style>\n",
       "<table border=\"1\" class=\"dataframe\">\n",
       "  <thead>\n",
       "    <tr style=\"text-align: right;\">\n",
       "      <th></th>\n",
       "      <th>price</th>\n",
       "      <th>model_year</th>\n",
       "      <th>model</th>\n",
       "      <th>condition</th>\n",
       "      <th>cylinders</th>\n",
       "      <th>fuel</th>\n",
       "      <th>odometer</th>\n",
       "      <th>transmission</th>\n",
       "      <th>type</th>\n",
       "      <th>paint_color</th>\n",
       "      <th>is_4wd</th>\n",
       "      <th>date_posted</th>\n",
       "      <th>days_listed</th>\n",
       "    </tr>\n",
       "  </thead>\n",
       "  <tbody>\n",
       "    <tr>\n",
       "      <th>0</th>\n",
       "      <td>9400</td>\n",
       "      <td>2011.0</td>\n",
       "      <td>bmw x5</td>\n",
       "      <td>good</td>\n",
       "      <td>6.0</td>\n",
       "      <td>gas</td>\n",
       "      <td>145000.0</td>\n",
       "      <td>automatic</td>\n",
       "      <td>SUV</td>\n",
       "      <td>NaN</td>\n",
       "      <td>1.0</td>\n",
       "      <td>2018-06-23</td>\n",
       "      <td>19</td>\n",
       "    </tr>\n",
       "    <tr>\n",
       "      <th>1</th>\n",
       "      <td>25500</td>\n",
       "      <td>2008.0</td>\n",
       "      <td>ford f-150</td>\n",
       "      <td>good</td>\n",
       "      <td>6.0</td>\n",
       "      <td>gas</td>\n",
       "      <td>88705.0</td>\n",
       "      <td>automatic</td>\n",
       "      <td>pickup</td>\n",
       "      <td>white</td>\n",
       "      <td>1.0</td>\n",
       "      <td>2018-10-19</td>\n",
       "      <td>50</td>\n",
       "    </tr>\n",
       "    <tr>\n",
       "      <th>2</th>\n",
       "      <td>5500</td>\n",
       "      <td>2013.0</td>\n",
       "      <td>hyundai sonata</td>\n",
       "      <td>like new</td>\n",
       "      <td>4.0</td>\n",
       "      <td>gas</td>\n",
       "      <td>110000.0</td>\n",
       "      <td>automatic</td>\n",
       "      <td>sedan</td>\n",
       "      <td>red</td>\n",
       "      <td>NaN</td>\n",
       "      <td>2019-02-07</td>\n",
       "      <td>79</td>\n",
       "    </tr>\n",
       "    <tr>\n",
       "      <th>3</th>\n",
       "      <td>1500</td>\n",
       "      <td>2003.0</td>\n",
       "      <td>ford f-150</td>\n",
       "      <td>fair</td>\n",
       "      <td>8.0</td>\n",
       "      <td>gas</td>\n",
       "      <td>188000.0</td>\n",
       "      <td>automatic</td>\n",
       "      <td>pickup</td>\n",
       "      <td>NaN</td>\n",
       "      <td>NaN</td>\n",
       "      <td>2019-03-22</td>\n",
       "      <td>9</td>\n",
       "    </tr>\n",
       "    <tr>\n",
       "      <th>4</th>\n",
       "      <td>14900</td>\n",
       "      <td>2017.0</td>\n",
       "      <td>chrysler 200</td>\n",
       "      <td>excellent</td>\n",
       "      <td>4.0</td>\n",
       "      <td>gas</td>\n",
       "      <td>80903.0</td>\n",
       "      <td>automatic</td>\n",
       "      <td>sedan</td>\n",
       "      <td>black</td>\n",
       "      <td>NaN</td>\n",
       "      <td>2019-04-02</td>\n",
       "      <td>28</td>\n",
       "    </tr>\n",
       "    <tr>\n",
       "      <th>5</th>\n",
       "      <td>14990</td>\n",
       "      <td>2014.0</td>\n",
       "      <td>chrysler 300</td>\n",
       "      <td>excellent</td>\n",
       "      <td>6.0</td>\n",
       "      <td>gas</td>\n",
       "      <td>57954.0</td>\n",
       "      <td>automatic</td>\n",
       "      <td>sedan</td>\n",
       "      <td>black</td>\n",
       "      <td>1.0</td>\n",
       "      <td>2018-06-20</td>\n",
       "      <td>15</td>\n",
       "    </tr>\n",
       "    <tr>\n",
       "      <th>6</th>\n",
       "      <td>12990</td>\n",
       "      <td>2015.0</td>\n",
       "      <td>toyota camry</td>\n",
       "      <td>excellent</td>\n",
       "      <td>4.0</td>\n",
       "      <td>gas</td>\n",
       "      <td>79212.0</td>\n",
       "      <td>automatic</td>\n",
       "      <td>sedan</td>\n",
       "      <td>white</td>\n",
       "      <td>NaN</td>\n",
       "      <td>2018-12-27</td>\n",
       "      <td>73</td>\n",
       "    </tr>\n",
       "    <tr>\n",
       "      <th>7</th>\n",
       "      <td>15990</td>\n",
       "      <td>2013.0</td>\n",
       "      <td>honda pilot</td>\n",
       "      <td>excellent</td>\n",
       "      <td>6.0</td>\n",
       "      <td>gas</td>\n",
       "      <td>109473.0</td>\n",
       "      <td>automatic</td>\n",
       "      <td>SUV</td>\n",
       "      <td>black</td>\n",
       "      <td>1.0</td>\n",
       "      <td>2019-01-07</td>\n",
       "      <td>68</td>\n",
       "    </tr>\n",
       "    <tr>\n",
       "      <th>8</th>\n",
       "      <td>11500</td>\n",
       "      <td>2012.0</td>\n",
       "      <td>kia sorento</td>\n",
       "      <td>excellent</td>\n",
       "      <td>4.0</td>\n",
       "      <td>gas</td>\n",
       "      <td>104174.0</td>\n",
       "      <td>automatic</td>\n",
       "      <td>SUV</td>\n",
       "      <td>NaN</td>\n",
       "      <td>1.0</td>\n",
       "      <td>2018-07-16</td>\n",
       "      <td>19</td>\n",
       "    </tr>\n",
       "    <tr>\n",
       "      <th>9</th>\n",
       "      <td>9200</td>\n",
       "      <td>2008.0</td>\n",
       "      <td>honda pilot</td>\n",
       "      <td>excellent</td>\n",
       "      <td>NaN</td>\n",
       "      <td>gas</td>\n",
       "      <td>147191.0</td>\n",
       "      <td>automatic</td>\n",
       "      <td>SUV</td>\n",
       "      <td>blue</td>\n",
       "      <td>1.0</td>\n",
       "      <td>2019-02-15</td>\n",
       "      <td>17</td>\n",
       "    </tr>\n",
       "  </tbody>\n",
       "</table>\n",
       "</div>"
      ],
      "text/plain": [
       "   price  model_year           model  condition  cylinders fuel  odometer  \\\n",
       "0   9400      2011.0          bmw x5       good        6.0  gas  145000.0   \n",
       "1  25500      2008.0      ford f-150       good        6.0  gas   88705.0   \n",
       "2   5500      2013.0  hyundai sonata   like new        4.0  gas  110000.0   \n",
       "3   1500      2003.0      ford f-150       fair        8.0  gas  188000.0   \n",
       "4  14900      2017.0    chrysler 200  excellent        4.0  gas   80903.0   \n",
       "5  14990      2014.0    chrysler 300  excellent        6.0  gas   57954.0   \n",
       "6  12990      2015.0    toyota camry  excellent        4.0  gas   79212.0   \n",
       "7  15990      2013.0     honda pilot  excellent        6.0  gas  109473.0   \n",
       "8  11500      2012.0     kia sorento  excellent        4.0  gas  104174.0   \n",
       "9   9200      2008.0     honda pilot  excellent        NaN  gas  147191.0   \n",
       "\n",
       "  transmission    type paint_color  is_4wd date_posted  days_listed  \n",
       "0    automatic     SUV         NaN     1.0  2018-06-23           19  \n",
       "1    automatic  pickup       white     1.0  2018-10-19           50  \n",
       "2    automatic   sedan         red     NaN  2019-02-07           79  \n",
       "3    automatic  pickup         NaN     NaN  2019-03-22            9  \n",
       "4    automatic   sedan       black     NaN  2019-04-02           28  \n",
       "5    automatic   sedan       black     1.0  2018-06-20           15  \n",
       "6    automatic   sedan       white     NaN  2018-12-27           73  \n",
       "7    automatic     SUV       black     1.0  2019-01-07           68  \n",
       "8    automatic     SUV         NaN     1.0  2018-07-16           19  \n",
       "9    automatic     SUV        blue     1.0  2019-02-15           17  "
      ]
     },
     "execution_count": 11,
     "metadata": {},
     "output_type": "execute_result"
    }
   ],
   "source": [
    "#group data by 'model_year' and 'conditions', and calculate the median odometer based on the grouping\n",
    "\n",
    "mile = car.groupby(['model_year', 'condition'])['odometer'].median()\n",
    "\n",
    "\n",
    "#Create a function that takes 'row' as argument\n",
    "\n",
    "def fill_odo(row):\n",
    "    \n",
    "    #if there is a missing value in odometer\n",
    "    if pd.isna(row['odometer']):\n",
    "        \n",
    "        #return the median mileage based on model year and condition\n",
    "        \n",
    "        return mile.get((row['model_year'], row['condition']))\n",
    "    \n",
    "    #if no missing value, return the original odometer value\n",
    "    \n",
    "    else:\n",
    "        return row['odometer']\n",
    "    \n",
    "#applying the function to the column\n",
    "\n",
    "car['odometer'] = car.apply(fill_odo, axis =1)\n",
    "\n",
    "#check to see the function has applied correctly\n",
    "\n",
    "car.head(10)"
   ]
  },
  {
   "cell_type": "code",
   "execution_count": 12,
   "metadata": {},
   "outputs": [
    {
     "data": {
      "text/plain": [
       "7"
      ]
     },
     "execution_count": 12,
     "metadata": {},
     "output_type": "execute_result"
    }
   ],
   "source": [
    "#check to see if there is any missing values left over\n",
    "\n",
    "car['odometer'].isna().sum()"
   ]
  },
  {
   "cell_type": "markdown",
   "metadata": {},
   "source": [
    "There are 7 missing values left over, could be due to the same reason listed above. Will fill these manually. "
   ]
  },
  {
   "cell_type": "code",
   "execution_count": 13,
   "metadata": {},
   "outputs": [],
   "source": [
    "#fill remaining missing values manually\n",
    "\n",
    "car['odometer'] = car['odometer'].fillna(car['odometer'].median())"
   ]
  },
  {
   "cell_type": "code",
   "execution_count": 14,
   "metadata": {},
   "outputs": [
    {
     "name": "stdout",
     "output_type": "stream",
     "text": [
      "<class 'pandas.core.frame.DataFrame'>\n",
      "RangeIndex: 51525 entries, 0 to 51524\n",
      "Data columns (total 13 columns):\n",
      " #   Column        Non-Null Count  Dtype  \n",
      "---  ------        --------------  -----  \n",
      " 0   price         51525 non-null  int64  \n",
      " 1   model_year    51525 non-null  float64\n",
      " 2   model         51525 non-null  object \n",
      " 3   condition     51525 non-null  object \n",
      " 4   cylinders     46265 non-null  float64\n",
      " 5   fuel          51525 non-null  object \n",
      " 6   odometer      51525 non-null  float64\n",
      " 7   transmission  51525 non-null  object \n",
      " 8   type          51525 non-null  object \n",
      " 9   paint_color   42258 non-null  object \n",
      " 10  is_4wd        25572 non-null  float64\n",
      " 11  date_posted   51525 non-null  object \n",
      " 12  days_listed   51525 non-null  int64  \n",
      "dtypes: float64(4), int64(2), object(7)\n",
      "memory usage: 5.1+ MB\n"
     ]
    }
   ],
   "source": [
    "#To verify\n",
    "\n",
    "car.info()"
   ]
  },
  {
   "cell_type": "markdown",
   "metadata": {},
   "source": [
    "All missing values have been filled in 'odometer'."
   ]
  },
  {
   "cell_type": "markdown",
   "metadata": {},
   "source": [
    "Fill missing values in **cylinders** column."
   ]
  },
  {
   "cell_type": "code",
   "execution_count": 66,
   "metadata": {},
   "outputs": [
    {
     "data": {
      "image/png": "[encoded data removed]",
      "text/plain": [
       "<Figure size 432x288 with 1 Axes>"
      ]
     },
     "metadata": {
      "needs_background": "light"
     },
     "output_type": "display_data"
    }
   ],
   "source": [
    "#stats on this column\n",
    "\n",
    "cylinders_df = (\n",
    "    car['cylinders']\n",
    "    .value_counts()\n",
    "    .reset_index()\n",
    "    .rename(columns={'index': 'cylinders', 'cylinders': 'count'})\n",
    "    .sort_values(by='cylinders')\n",
    ")\n",
    "\n",
    "plt.bar(cylinders_df['cylinders'], cylinders_df['count'])\n",
    "\n",
    "plt.xlabel('cylinders')\n",
    "plt.ylabel('number of ads')\n",
    "plt.title('Distribution of cylinders')\n",
    "\n",
    "plt.show()"
   ]
  },
  {
   "cell_type": "markdown",
   "metadata": {},
   "source": [
    "There is no huge difference between the mean and the median, we will stick with median based on the distribution. Cylinders, like other columns with missing values, have association with other columns. This time it is 'model' and 'model_year'. So we will write a function that is similar to the ones that we used to fill other missing values. "
   ]
  },
  {
   "cell_type": "code",
   "execution_count": 16,
   "metadata": {
    "scrolled": true
   },
   "outputs": [
    {
     "data": {
      "text/html": [
       "<div>\n",
       "<style scoped>\n",
       "    .dataframe tbody tr th:only-of-type {\n",
       "        vertical-align: middle;\n",
       "    }\n",
       "\n",
       "    .dataframe tbody tr th {\n",
       "        vertical-align: top;\n",
       "    }\n",
       "\n",
       "    .dataframe thead th {\n",
       "        text-align: right;\n",
       "    }\n",
       "</style>\n",
       "<table border=\"1\" class=\"dataframe\">\n",
       "  <thead>\n",
       "    <tr style=\"text-align: right;\">\n",
       "      <th></th>\n",
       "      <th>price</th>\n",
       "      <th>model_year</th>\n",
       "      <th>model</th>\n",
       "      <th>condition</th>\n",
       "      <th>cylinders</th>\n",
       "      <th>fuel</th>\n",
       "      <th>odometer</th>\n",
       "      <th>transmission</th>\n",
       "      <th>type</th>\n",
       "      <th>paint_color</th>\n",
       "      <th>is_4wd</th>\n",
       "      <th>date_posted</th>\n",
       "      <th>days_listed</th>\n",
       "    </tr>\n",
       "  </thead>\n",
       "  <tbody>\n",
       "    <tr>\n",
       "      <th>0</th>\n",
       "      <td>9400</td>\n",
       "      <td>2011.0</td>\n",
       "      <td>bmw x5</td>\n",
       "      <td>good</td>\n",
       "      <td>6.0</td>\n",
       "      <td>gas</td>\n",
       "      <td>145000.0</td>\n",
       "      <td>automatic</td>\n",
       "      <td>SUV</td>\n",
       "      <td>NaN</td>\n",
       "      <td>1.0</td>\n",
       "      <td>2018-06-23</td>\n",
       "      <td>19</td>\n",
       "    </tr>\n",
       "    <tr>\n",
       "      <th>1</th>\n",
       "      <td>25500</td>\n",
       "      <td>2008.0</td>\n",
       "      <td>ford f-150</td>\n",
       "      <td>good</td>\n",
       "      <td>6.0</td>\n",
       "      <td>gas</td>\n",
       "      <td>88705.0</td>\n",
       "      <td>automatic</td>\n",
       "      <td>pickup</td>\n",
       "      <td>white</td>\n",
       "      <td>1.0</td>\n",
       "      <td>2018-10-19</td>\n",
       "      <td>50</td>\n",
       "    </tr>\n",
       "    <tr>\n",
       "      <th>2</th>\n",
       "      <td>5500</td>\n",
       "      <td>2013.0</td>\n",
       "      <td>hyundai sonata</td>\n",
       "      <td>like new</td>\n",
       "      <td>4.0</td>\n",
       "      <td>gas</td>\n",
       "      <td>110000.0</td>\n",
       "      <td>automatic</td>\n",
       "      <td>sedan</td>\n",
       "      <td>red</td>\n",
       "      <td>NaN</td>\n",
       "      <td>2019-02-07</td>\n",
       "      <td>79</td>\n",
       "    </tr>\n",
       "    <tr>\n",
       "      <th>3</th>\n",
       "      <td>1500</td>\n",
       "      <td>2003.0</td>\n",
       "      <td>ford f-150</td>\n",
       "      <td>fair</td>\n",
       "      <td>8.0</td>\n",
       "      <td>gas</td>\n",
       "      <td>188000.0</td>\n",
       "      <td>automatic</td>\n",
       "      <td>pickup</td>\n",
       "      <td>NaN</td>\n",
       "      <td>NaN</td>\n",
       "      <td>2019-03-22</td>\n",
       "      <td>9</td>\n",
       "    </tr>\n",
       "    <tr>\n",
       "      <th>4</th>\n",
       "      <td>14900</td>\n",
       "      <td>2017.0</td>\n",
       "      <td>chrysler 200</td>\n",
       "      <td>excellent</td>\n",
       "      <td>4.0</td>\n",
       "      <td>gas</td>\n",
       "      <td>80903.0</td>\n",
       "      <td>automatic</td>\n",
       "      <td>sedan</td>\n",
       "      <td>black</td>\n",
       "      <td>NaN</td>\n",
       "      <td>2019-04-02</td>\n",
       "      <td>28</td>\n",
       "    </tr>\n",
       "    <tr>\n",
       "      <th>5</th>\n",
       "      <td>14990</td>\n",
       "      <td>2014.0</td>\n",
       "      <td>chrysler 300</td>\n",
       "      <td>excellent</td>\n",
       "      <td>6.0</td>\n",
       "      <td>gas</td>\n",
       "      <td>57954.0</td>\n",
       "      <td>automatic</td>\n",
       "      <td>sedan</td>\n",
       "      <td>black</td>\n",
       "      <td>1.0</td>\n",
       "      <td>2018-06-20</td>\n",
       "      <td>15</td>\n",
       "    </tr>\n",
       "    <tr>\n",
       "      <th>6</th>\n",
       "      <td>12990</td>\n",
       "      <td>2015.0</td>\n",
       "      <td>toyota camry</td>\n",
       "      <td>excellent</td>\n",
       "      <td>4.0</td>\n",
       "      <td>gas</td>\n",
       "      <td>79212.0</td>\n",
       "      <td>automatic</td>\n",
       "      <td>sedan</td>\n",
       "      <td>white</td>\n",
       "      <td>NaN</td>\n",
       "      <td>2018-12-27</td>\n",
       "      <td>73</td>\n",
       "    </tr>\n",
       "    <tr>\n",
       "      <th>7</th>\n",
       "      <td>15990</td>\n",
       "      <td>2013.0</td>\n",
       "      <td>honda pilot</td>\n",
       "      <td>excellent</td>\n",
       "      <td>6.0</td>\n",
       "      <td>gas</td>\n",
       "      <td>109473.0</td>\n",
       "      <td>automatic</td>\n",
       "      <td>SUV</td>\n",
       "      <td>black</td>\n",
       "      <td>1.0</td>\n",
       "      <td>2019-01-07</td>\n",
       "      <td>68</td>\n",
       "    </tr>\n",
       "    <tr>\n",
       "      <th>8</th>\n",
       "      <td>11500</td>\n",
       "      <td>2012.0</td>\n",
       "      <td>kia sorento</td>\n",
       "      <td>excellent</td>\n",
       "      <td>4.0</td>\n",
       "      <td>gas</td>\n",
       "      <td>104174.0</td>\n",
       "      <td>automatic</td>\n",
       "      <td>SUV</td>\n",
       "      <td>NaN</td>\n",
       "      <td>1.0</td>\n",
       "      <td>2018-07-16</td>\n",
       "      <td>19</td>\n",
       "    </tr>\n",
       "    <tr>\n",
       "      <th>9</th>\n",
       "      <td>9200</td>\n",
       "      <td>2008.0</td>\n",
       "      <td>honda pilot</td>\n",
       "      <td>excellent</td>\n",
       "      <td>6.0</td>\n",
       "      <td>gas</td>\n",
       "      <td>147191.0</td>\n",
       "      <td>automatic</td>\n",
       "      <td>SUV</td>\n",
       "      <td>blue</td>\n",
       "      <td>1.0</td>\n",
       "      <td>2019-02-15</td>\n",
       "      <td>17</td>\n",
       "    </tr>\n",
       "  </tbody>\n",
       "</table>\n",
       "</div>"
      ],
      "text/plain": [
       "   price  model_year           model  condition  cylinders fuel  odometer  \\\n",
       "0   9400      2011.0          bmw x5       good        6.0  gas  145000.0   \n",
       "1  25500      2008.0      ford f-150       good        6.0  gas   88705.0   \n",
       "2   5500      2013.0  hyundai sonata   like new        4.0  gas  110000.0   \n",
       "3   1500      2003.0      ford f-150       fair        8.0  gas  188000.0   \n",
       "4  14900      2017.0    chrysler 200  excellent        4.0  gas   80903.0   \n",
       "5  14990      2014.0    chrysler 300  excellent        6.0  gas   57954.0   \n",
       "6  12990      2015.0    toyota camry  excellent        4.0  gas   79212.0   \n",
       "7  15990      2013.0     honda pilot  excellent        6.0  gas  109473.0   \n",
       "8  11500      2012.0     kia sorento  excellent        4.0  gas  104174.0   \n",
       "9   9200      2008.0     honda pilot  excellent        6.0  gas  147191.0   \n",
       "\n",
       "  transmission    type paint_color  is_4wd date_posted  days_listed  \n",
       "0    automatic     SUV         NaN     1.0  2018-06-23           19  \n",
       "1    automatic  pickup       white     1.0  2018-10-19           50  \n",
       "2    automatic   sedan         red     NaN  2019-02-07           79  \n",
       "3    automatic  pickup         NaN     NaN  2019-03-22            9  \n",
       "4    automatic   sedan       black     NaN  2019-04-02           28  \n",
       "5    automatic   sedan       black     1.0  2018-06-20           15  \n",
       "6    automatic   sedan       white     NaN  2018-12-27           73  \n",
       "7    automatic     SUV       black     1.0  2019-01-07           68  \n",
       "8    automatic     SUV         NaN     1.0  2018-07-16           19  \n",
       "9    automatic     SUV        blue     1.0  2019-02-15           17  "
      ]
     },
     "execution_count": 16,
     "metadata": {},
     "output_type": "execute_result"
    }
   ],
   "source": [
    "#group data by 'model_year' and 'model', and calculate the median cylinders based on the grouping\n",
    "\n",
    "cyns = car.groupby(['model_year', 'model'])['cylinders'].median()\n",
    "\n",
    "\n",
    "#Create a function that takes 'row' as argument\n",
    "\n",
    "def fill_cyn(row):\n",
    "    \n",
    "    #if there is a missing value in cylinders\n",
    "    if pd.isna(row['cylinders']):\n",
    "        \n",
    "        #return the median cylinders based on model year and model\n",
    "        \n",
    "        return cyns.get((row['model_year'], row['model']))\n",
    "    \n",
    "    #if no missing value, return the original cylinders value\n",
    "    \n",
    "    else:\n",
    "        return row['cylinders']\n",
    "    \n",
    "#applying the function to the column\n",
    "\n",
    "car['cylinders'] = car.apply(fill_cyn, axis =1)\n",
    "\n",
    "#check if missing values have been filled\n",
    "\n",
    "car.head(10)"
   ]
  },
  {
   "cell_type": "code",
   "execution_count": 17,
   "metadata": {},
   "outputs": [
    {
     "data": {
      "text/plain": [
       "29"
      ]
     },
     "execution_count": 17,
     "metadata": {},
     "output_type": "execute_result"
    }
   ],
   "source": [
    "#as always, check to see if there are missing values\n",
    "\n",
    "car['cylinders'].isna().sum()"
   ]
  },
  {
   "cell_type": "markdown",
   "metadata": {},
   "source": [
    "There are 29 missing values left over, could be due to the same reason listed above (only one value for a specific group). Will fill these manually. "
   ]
  },
  {
   "cell_type": "code",
   "execution_count": 18,
   "metadata": {},
   "outputs": [],
   "source": [
    "#fill remaining missing values manually\n",
    "\n",
    "car['cylinders'] = car['cylinders'].fillna(car['cylinders'].median())"
   ]
  },
  {
   "cell_type": "code",
   "execution_count": 19,
   "metadata": {},
   "outputs": [
    {
     "name": "stdout",
     "output_type": "stream",
     "text": [
      "<class 'pandas.core.frame.DataFrame'>\n",
      "RangeIndex: 51525 entries, 0 to 51524\n",
      "Data columns (total 13 columns):\n",
      " #   Column        Non-Null Count  Dtype  \n",
      "---  ------        --------------  -----  \n",
      " 0   price         51525 non-null  int64  \n",
      " 1   model_year    51525 non-null  float64\n",
      " 2   model         51525 non-null  object \n",
      " 3   condition     51525 non-null  object \n",
      " 4   cylinders     51525 non-null  float64\n",
      " 5   fuel          51525 non-null  object \n",
      " 6   odometer      51525 non-null  float64\n",
      " 7   transmission  51525 non-null  object \n",
      " 8   type          51525 non-null  object \n",
      " 9   paint_color   42258 non-null  object \n",
      " 10  is_4wd        25572 non-null  float64\n",
      " 11  date_posted   51525 non-null  object \n",
      " 12  days_listed   51525 non-null  int64  \n",
      "dtypes: float64(4), int64(2), object(7)\n",
      "memory usage: 5.1+ MB\n"
     ]
    }
   ],
   "source": [
    "#To verify\n",
    "\n",
    "car.info()"
   ]
  },
  {
   "cell_type": "markdown",
   "metadata": {},
   "source": [
    "All missing values have been filled!"
   ]
  },
  {
   "cell_type": "markdown",
   "metadata": {},
   "source": [
    "**The 'paint_color' column**"
   ]
  },
  {
   "cell_type": "code",
   "execution_count": 20,
   "metadata": {},
   "outputs": [
    {
     "data": {
      "text/plain": [
       "17.985443959243085"
      ]
     },
     "execution_count": 20,
     "metadata": {},
     "output_type": "execute_result"
    }
   ],
   "source": [
    "car['paint_color'].isna().sum() / len(car) *100"
   ]
  },
  {
   "cell_type": "markdown",
   "metadata": {},
   "source": [
    "This column appeared to be categorical, and no reference data available to fill the missing data in this column. \n",
    "\n",
    "By deleting all NaN in this column, we will lose 18% of the data (that includes other complete information where the only value missing is the paint color). The deletion of those rows could potentially skew the results of our exploratory data analysis. \n",
    "\n",
    "Therefore, I think it is best that we save those rows with NaN values. "
   ]
  },
  {
   "cell_type": "markdown",
   "metadata": {},
   "source": [
    "## Fix data types"
   ]
  },
  {
   "cell_type": "markdown",
   "metadata": {},
   "source": [
    "The column **'date_posted'** contains object type values, where it should contain date/time type.\n",
    "\n",
    "The format of the date are written in yyyy-mm-dd, therefore, changes will be made accordingly."
   ]
  },
  {
   "cell_type": "code",
   "execution_count": 21,
   "metadata": {},
   "outputs": [
    {
     "name": "stdout",
     "output_type": "stream",
     "text": [
      "<class 'pandas.core.frame.DataFrame'>\n",
      "RangeIndex: 51525 entries, 0 to 51524\n",
      "Data columns (total 13 columns):\n",
      " #   Column        Non-Null Count  Dtype         \n",
      "---  ------        --------------  -----         \n",
      " 0   price         51525 non-null  int64         \n",
      " 1   model_year    51525 non-null  float64       \n",
      " 2   model         51525 non-null  object        \n",
      " 3   condition     51525 non-null  object        \n",
      " 4   cylinders     51525 non-null  float64       \n",
      " 5   fuel          51525 non-null  object        \n",
      " 6   odometer      51525 non-null  float64       \n",
      " 7   transmission  51525 non-null  object        \n",
      " 8   type          51525 non-null  object        \n",
      " 9   paint_color   42258 non-null  object        \n",
      " 10  is_4wd        25572 non-null  float64       \n",
      " 11  date_posted   51525 non-null  datetime64[ns]\n",
      " 12  days_listed   51525 non-null  int64         \n",
      "dtypes: datetime64[ns](1), float64(4), int64(2), object(6)\n",
      "memory usage: 5.1+ MB\n"
     ]
    }
   ],
   "source": [
    "#change the datetype from object to date/time\n",
    "\n",
    "car['date_posted'] = pd.to_datetime(car['date_posted'], format = '%Y-%m-%d')\n",
    "\n",
    "car.info()"
   ]
  },
  {
   "cell_type": "markdown",
   "metadata": {},
   "source": [
    "The column **'is_4wd'** contains float64 type values, where it should contain boolean values (True or False), since the column is asking whether the car has four-wheel drive.\n",
    "This column also contains missing values, we will address it here as well. "
   ]
  },
  {
   "cell_type": "code",
   "execution_count": 22,
   "metadata": {},
   "outputs": [
    {
     "data": {
      "text/plain": [
       "array([ 1., nan])"
      ]
     },
     "execution_count": 22,
     "metadata": {},
     "output_type": "execute_result"
    }
   ],
   "source": [
    "#start by checking the unique values in this column\n",
    "\n",
    "car['is_4wd'].unique()"
   ]
  },
  {
   "cell_type": "markdown",
   "metadata": {},
   "source": [
    "The unique values are 1 and NaN. Since this column is tell us whether a specific car has four-wheel drive. We can assume that 1 means this car has four-wheel drive, so a \"True\" value should be assigned. While NaN will likely refer to 0 or a 'False' value. \n",
    "\n",
    "First we will fill NaN with the value '0', then the column will be converted to a boolean column. Where 1 = True, and 0 = False."
   ]
  },
  {
   "cell_type": "code",
   "execution_count": 23,
   "metadata": {},
   "outputs": [
    {
     "data": {
      "text/html": [
       "<div>\n",
       "<style scoped>\n",
       "    .dataframe tbody tr th:only-of-type {\n",
       "        vertical-align: middle;\n",
       "    }\n",
       "\n",
       "    .dataframe tbody tr th {\n",
       "        vertical-align: top;\n",
       "    }\n",
       "\n",
       "    .dataframe thead th {\n",
       "        text-align: right;\n",
       "    }\n",
       "</style>\n",
       "<table border=\"1\" class=\"dataframe\">\n",
       "  <thead>\n",
       "    <tr style=\"text-align: right;\">\n",
       "      <th></th>\n",
       "      <th>price</th>\n",
       "      <th>model_year</th>\n",
       "      <th>model</th>\n",
       "      <th>condition</th>\n",
       "      <th>cylinders</th>\n",
       "      <th>fuel</th>\n",
       "      <th>odometer</th>\n",
       "      <th>transmission</th>\n",
       "      <th>type</th>\n",
       "      <th>paint_color</th>\n",
       "      <th>is_4wd</th>\n",
       "      <th>date_posted</th>\n",
       "      <th>days_listed</th>\n",
       "      <th>has_4wd</th>\n",
       "    </tr>\n",
       "  </thead>\n",
       "  <tbody>\n",
       "    <tr>\n",
       "      <th>0</th>\n",
       "      <td>9400</td>\n",
       "      <td>2011.0</td>\n",
       "      <td>bmw x5</td>\n",
       "      <td>good</td>\n",
       "      <td>6.0</td>\n",
       "      <td>gas</td>\n",
       "      <td>145000.0</td>\n",
       "      <td>automatic</td>\n",
       "      <td>SUV</td>\n",
       "      <td>NaN</td>\n",
       "      <td>1.0</td>\n",
       "      <td>2018-06-23</td>\n",
       "      <td>19</td>\n",
       "      <td>True</td>\n",
       "    </tr>\n",
       "    <tr>\n",
       "      <th>1</th>\n",
       "      <td>25500</td>\n",
       "      <td>2008.0</td>\n",
       "      <td>ford f-150</td>\n",
       "      <td>good</td>\n",
       "      <td>6.0</td>\n",
       "      <td>gas</td>\n",
       "      <td>88705.0</td>\n",
       "      <td>automatic</td>\n",
       "      <td>pickup</td>\n",
       "      <td>white</td>\n",
       "      <td>1.0</td>\n",
       "      <td>2018-10-19</td>\n",
       "      <td>50</td>\n",
       "      <td>True</td>\n",
       "    </tr>\n",
       "    <tr>\n",
       "      <th>2</th>\n",
       "      <td>5500</td>\n",
       "      <td>2013.0</td>\n",
       "      <td>hyundai sonata</td>\n",
       "      <td>like new</td>\n",
       "      <td>4.0</td>\n",
       "      <td>gas</td>\n",
       "      <td>110000.0</td>\n",
       "      <td>automatic</td>\n",
       "      <td>sedan</td>\n",
       "      <td>red</td>\n",
       "      <td>0.0</td>\n",
       "      <td>2019-02-07</td>\n",
       "      <td>79</td>\n",
       "      <td>False</td>\n",
       "    </tr>\n",
       "    <tr>\n",
       "      <th>3</th>\n",
       "      <td>1500</td>\n",
       "      <td>2003.0</td>\n",
       "      <td>ford f-150</td>\n",
       "      <td>fair</td>\n",
       "      <td>8.0</td>\n",
       "      <td>gas</td>\n",
       "      <td>188000.0</td>\n",
       "      <td>automatic</td>\n",
       "      <td>pickup</td>\n",
       "      <td>NaN</td>\n",
       "      <td>0.0</td>\n",
       "      <td>2019-03-22</td>\n",
       "      <td>9</td>\n",
       "      <td>False</td>\n",
       "    </tr>\n",
       "    <tr>\n",
       "      <th>4</th>\n",
       "      <td>14900</td>\n",
       "      <td>2017.0</td>\n",
       "      <td>chrysler 200</td>\n",
       "      <td>excellent</td>\n",
       "      <td>4.0</td>\n",
       "      <td>gas</td>\n",
       "      <td>80903.0</td>\n",
       "      <td>automatic</td>\n",
       "      <td>sedan</td>\n",
       "      <td>black</td>\n",
       "      <td>0.0</td>\n",
       "      <td>2019-04-02</td>\n",
       "      <td>28</td>\n",
       "      <td>False</td>\n",
       "    </tr>\n",
       "    <tr>\n",
       "      <th>5</th>\n",
       "      <td>14990</td>\n",
       "      <td>2014.0</td>\n",
       "      <td>chrysler 300</td>\n",
       "      <td>excellent</td>\n",
       "      <td>6.0</td>\n",
       "      <td>gas</td>\n",
       "      <td>57954.0</td>\n",
       "      <td>automatic</td>\n",
       "      <td>sedan</td>\n",
       "      <td>black</td>\n",
       "      <td>1.0</td>\n",
       "      <td>2018-06-20</td>\n",
       "      <td>15</td>\n",
       "      <td>True</td>\n",
       "    </tr>\n",
       "    <tr>\n",
       "      <th>6</th>\n",
       "      <td>12990</td>\n",
       "      <td>2015.0</td>\n",
       "      <td>toyota camry</td>\n",
       "      <td>excellent</td>\n",
       "      <td>4.0</td>\n",
       "      <td>gas</td>\n",
       "      <td>79212.0</td>\n",
       "      <td>automatic</td>\n",
       "      <td>sedan</td>\n",
       "      <td>white</td>\n",
       "      <td>0.0</td>\n",
       "      <td>2018-12-27</td>\n",
       "      <td>73</td>\n",
       "      <td>False</td>\n",
       "    </tr>\n",
       "    <tr>\n",
       "      <th>7</th>\n",
       "      <td>15990</td>\n",
       "      <td>2013.0</td>\n",
       "      <td>honda pilot</td>\n",
       "      <td>excellent</td>\n",
       "      <td>6.0</td>\n",
       "      <td>gas</td>\n",
       "      <td>109473.0</td>\n",
       "      <td>automatic</td>\n",
       "      <td>SUV</td>\n",
       "      <td>black</td>\n",
       "      <td>1.0</td>\n",
       "      <td>2019-01-07</td>\n",
       "      <td>68</td>\n",
       "      <td>True</td>\n",
       "    </tr>\n",
       "    <tr>\n",
       "      <th>8</th>\n",
       "      <td>11500</td>\n",
       "      <td>2012.0</td>\n",
       "      <td>kia sorento</td>\n",
       "      <td>excellent</td>\n",
       "      <td>4.0</td>\n",
       "      <td>gas</td>\n",
       "      <td>104174.0</td>\n",
       "      <td>automatic</td>\n",
       "      <td>SUV</td>\n",
       "      <td>NaN</td>\n",
       "      <td>1.0</td>\n",
       "      <td>2018-07-16</td>\n",
       "      <td>19</td>\n",
       "      <td>True</td>\n",
       "    </tr>\n",
       "    <tr>\n",
       "      <th>9</th>\n",
       "      <td>9200</td>\n",
       "      <td>2008.0</td>\n",
       "      <td>honda pilot</td>\n",
       "      <td>excellent</td>\n",
       "      <td>6.0</td>\n",
       "      <td>gas</td>\n",
       "      <td>147191.0</td>\n",
       "      <td>automatic</td>\n",
       "      <td>SUV</td>\n",
       "      <td>blue</td>\n",
       "      <td>1.0</td>\n",
       "      <td>2019-02-15</td>\n",
       "      <td>17</td>\n",
       "      <td>True</td>\n",
       "    </tr>\n",
       "  </tbody>\n",
       "</table>\n",
       "</div>"
      ],
      "text/plain": [
       "   price  model_year           model  condition  cylinders fuel  odometer  \\\n",
       "0   9400      2011.0          bmw x5       good        6.0  gas  145000.0   \n",
       "1  25500      2008.0      ford f-150       good        6.0  gas   88705.0   \n",
       "2   5500      2013.0  hyundai sonata   like new        4.0  gas  110000.0   \n",
       "3   1500      2003.0      ford f-150       fair        8.0  gas  188000.0   \n",
       "4  14900      2017.0    chrysler 200  excellent        4.0  gas   80903.0   \n",
       "5  14990      2014.0    chrysler 300  excellent        6.0  gas   57954.0   \n",
       "6  12990      2015.0    toyota camry  excellent        4.0  gas   79212.0   \n",
       "7  15990      2013.0     honda pilot  excellent        6.0  gas  109473.0   \n",
       "8  11500      2012.0     kia sorento  excellent        4.0  gas  104174.0   \n",
       "9   9200      2008.0     honda pilot  excellent        6.0  gas  147191.0   \n",
       "\n",
       "  transmission    type paint_color  is_4wd date_posted  days_listed  has_4wd  \n",
       "0    automatic     SUV         NaN     1.0  2018-06-23           19     True  \n",
       "1    automatic  pickup       white     1.0  2018-10-19           50     True  \n",
       "2    automatic   sedan         red     0.0  2019-02-07           79    False  \n",
       "3    automatic  pickup         NaN     0.0  2019-03-22            9    False  \n",
       "4    automatic   sedan       black     0.0  2019-04-02           28    False  \n",
       "5    automatic   sedan       black     1.0  2018-06-20           15     True  \n",
       "6    automatic   sedan       white     0.0  2018-12-27           73    False  \n",
       "7    automatic     SUV       black     1.0  2019-01-07           68     True  \n",
       "8    automatic     SUV         NaN     1.0  2018-07-16           19     True  \n",
       "9    automatic     SUV        blue     1.0  2019-02-15           17     True  "
      ]
     },
     "execution_count": 23,
     "metadata": {},
     "output_type": "execute_result"
    }
   ],
   "source": [
    "#inputs 0 in the column where the value does not equal to 1.\n",
    "\n",
    "car['is_4wd'] = car['is_4wd'].where(car['is_4wd'] == 1, 0)\n",
    "\n",
    "#making a boolean column \n",
    "\n",
    "car['has_4wd'] = car['is_4wd'] == 1\n",
    "\n",
    "#checking to see 'has_4wd contains proper boolean values'\n",
    "\n",
    "car.head(10)"
   ]
  },
  {
   "cell_type": "markdown",
   "metadata": {},
   "source": [
    "'is_4wd' can also be changed to a boolean column directly by using .astype('bool') since all of the missing values have been filled with 0. However, I have created a new column to store the current information in case more changes need to be made further down the analysis.\n",
    "\n",
    "So far, all missing values have been filled, and although data type has not been changed for 'is_4wd', a new column 'has_4wd' contains boolean values that is based on 'is_4wd'."
   ]
  },
  {
   "cell_type": "markdown",
   "metadata": {},
   "source": [
    "**Conclusion**\n"
   ]
  },
  {
   "cell_type": "markdown",
   "metadata": {},
   "source": [
    "Up to this point, all missing values have been filled and columns have been changed to the appropriate types. \n",
    "\n",
    "1. Missing values in:\n",
    "    1. 'model_year'\n",
    "    2. 'cylinders'\n",
    "    3. 'odometer'\n",
    "    4. 'paint_color'\n",
    "    5. 'is_4wd'\n",
    "    \n",
    "Filled.\n",
    "\n",
    "2. Wrong data type in:\n",
    "    1. 'date_posted'\n",
    "    2. 'is_4wd'\n",
    "    \n",
    "Fixed."
   ]
  },
  {
   "cell_type": "markdown",
   "metadata": {},
   "source": [
    "## Enrich data"
   ]
  },
  {
   "cell_type": "markdown",
   "metadata": {},
   "source": [
    "To make the analysis easier, we want o insert the weekday, month, and year that ads were posted. **'date_posted'** has the complete information, we will start with this column to get what we are looking for. "
   ]
  },
  {
   "cell_type": "code",
   "execution_count": 24,
   "metadata": {
    "scrolled": false
   },
   "outputs": [
    {
     "data": {
      "text/html": [
       "<div>\n",
       "<style scoped>\n",
       "    .dataframe tbody tr th:only-of-type {\n",
       "        vertical-align: middle;\n",
       "    }\n",
       "\n",
       "    .dataframe tbody tr th {\n",
       "        vertical-align: top;\n",
       "    }\n",
       "\n",
       "    .dataframe thead th {\n",
       "        text-align: right;\n",
       "    }\n",
       "</style>\n",
       "<table border=\"1\" class=\"dataframe\">\n",
       "  <thead>\n",
       "    <tr style=\"text-align: right;\">\n",
       "      <th></th>\n",
       "      <th>price</th>\n",
       "      <th>model_year</th>\n",
       "      <th>model</th>\n",
       "      <th>condition</th>\n",
       "      <th>cylinders</th>\n",
       "      <th>fuel</th>\n",
       "      <th>odometer</th>\n",
       "      <th>transmission</th>\n",
       "      <th>type</th>\n",
       "      <th>paint_color</th>\n",
       "      <th>is_4wd</th>\n",
       "      <th>date_posted</th>\n",
       "      <th>days_listed</th>\n",
       "      <th>has_4wd</th>\n",
       "      <th>ad_day</th>\n",
       "      <th>ad_month</th>\n",
       "      <th>ad_year</th>\n",
       "    </tr>\n",
       "  </thead>\n",
       "  <tbody>\n",
       "    <tr>\n",
       "      <th>0</th>\n",
       "      <td>9400</td>\n",
       "      <td>2011.0</td>\n",
       "      <td>bmw x5</td>\n",
       "      <td>good</td>\n",
       "      <td>6.0</td>\n",
       "      <td>gas</td>\n",
       "      <td>145000.0</td>\n",
       "      <td>automatic</td>\n",
       "      <td>SUV</td>\n",
       "      <td>NaN</td>\n",
       "      <td>1.0</td>\n",
       "      <td>2018-06-23</td>\n",
       "      <td>19</td>\n",
       "      <td>True</td>\n",
       "      <td>Saturday</td>\n",
       "      <td>June</td>\n",
       "      <td>2018</td>\n",
       "    </tr>\n",
       "    <tr>\n",
       "      <th>1</th>\n",
       "      <td>25500</td>\n",
       "      <td>2008.0</td>\n",
       "      <td>ford f-150</td>\n",
       "      <td>good</td>\n",
       "      <td>6.0</td>\n",
       "      <td>gas</td>\n",
       "      <td>88705.0</td>\n",
       "      <td>automatic</td>\n",
       "      <td>pickup</td>\n",
       "      <td>white</td>\n",
       "      <td>1.0</td>\n",
       "      <td>2018-10-19</td>\n",
       "      <td>50</td>\n",
       "      <td>True</td>\n",
       "      <td>Friday</td>\n",
       "      <td>October</td>\n",
       "      <td>2018</td>\n",
       "    </tr>\n",
       "    <tr>\n",
       "      <th>2</th>\n",
       "      <td>5500</td>\n",
       "      <td>2013.0</td>\n",
       "      <td>hyundai sonata</td>\n",
       "      <td>like new</td>\n",
       "      <td>4.0</td>\n",
       "      <td>gas</td>\n",
       "      <td>110000.0</td>\n",
       "      <td>automatic</td>\n",
       "      <td>sedan</td>\n",
       "      <td>red</td>\n",
       "      <td>0.0</td>\n",
       "      <td>2019-02-07</td>\n",
       "      <td>79</td>\n",
       "      <td>False</td>\n",
       "      <td>Thursday</td>\n",
       "      <td>February</td>\n",
       "      <td>2019</td>\n",
       "    </tr>\n",
       "    <tr>\n",
       "      <th>3</th>\n",
       "      <td>1500</td>\n",
       "      <td>2003.0</td>\n",
       "      <td>ford f-150</td>\n",
       "      <td>fair</td>\n",
       "      <td>8.0</td>\n",
       "      <td>gas</td>\n",
       "      <td>188000.0</td>\n",
       "      <td>automatic</td>\n",
       "      <td>pickup</td>\n",
       "      <td>NaN</td>\n",
       "      <td>0.0</td>\n",
       "      <td>2019-03-22</td>\n",
       "      <td>9</td>\n",
       "      <td>False</td>\n",
       "      <td>Friday</td>\n",
       "      <td>March</td>\n",
       "      <td>2019</td>\n",
       "    </tr>\n",
       "    <tr>\n",
       "      <th>4</th>\n",
       "      <td>14900</td>\n",
       "      <td>2017.0</td>\n",
       "      <td>chrysler 200</td>\n",
       "      <td>excellent</td>\n",
       "      <td>4.0</td>\n",
       "      <td>gas</td>\n",
       "      <td>80903.0</td>\n",
       "      <td>automatic</td>\n",
       "      <td>sedan</td>\n",
       "      <td>black</td>\n",
       "      <td>0.0</td>\n",
       "      <td>2019-04-02</td>\n",
       "      <td>28</td>\n",
       "      <td>False</td>\n",
       "      <td>Tuesday</td>\n",
       "      <td>April</td>\n",
       "      <td>2019</td>\n",
       "    </tr>\n",
       "    <tr>\n",
       "      <th>5</th>\n",
       "      <td>14990</td>\n",
       "      <td>2014.0</td>\n",
       "      <td>chrysler 300</td>\n",
       "      <td>excellent</td>\n",
       "      <td>6.0</td>\n",
       "      <td>gas</td>\n",
       "      <td>57954.0</td>\n",
       "      <td>automatic</td>\n",
       "      <td>sedan</td>\n",
       "      <td>black</td>\n",
       "      <td>1.0</td>\n",
       "      <td>2018-06-20</td>\n",
       "      <td>15</td>\n",
       "      <td>True</td>\n",
       "      <td>Wednesday</td>\n",
       "      <td>June</td>\n",
       "      <td>2018</td>\n",
       "    </tr>\n",
       "    <tr>\n",
       "      <th>6</th>\n",
       "      <td>12990</td>\n",
       "      <td>2015.0</td>\n",
       "      <td>toyota camry</td>\n",
       "      <td>excellent</td>\n",
       "      <td>4.0</td>\n",
       "      <td>gas</td>\n",
       "      <td>79212.0</td>\n",
       "      <td>automatic</td>\n",
       "      <td>sedan</td>\n",
       "      <td>white</td>\n",
       "      <td>0.0</td>\n",
       "      <td>2018-12-27</td>\n",
       "      <td>73</td>\n",
       "      <td>False</td>\n",
       "      <td>Thursday</td>\n",
       "      <td>December</td>\n",
       "      <td>2018</td>\n",
       "    </tr>\n",
       "    <tr>\n",
       "      <th>7</th>\n",
       "      <td>15990</td>\n",
       "      <td>2013.0</td>\n",
       "      <td>honda pilot</td>\n",
       "      <td>excellent</td>\n",
       "      <td>6.0</td>\n",
       "      <td>gas</td>\n",
       "      <td>109473.0</td>\n",
       "      <td>automatic</td>\n",
       "      <td>SUV</td>\n",
       "      <td>black</td>\n",
       "      <td>1.0</td>\n",
       "      <td>2019-01-07</td>\n",
       "      <td>68</td>\n",
       "      <td>True</td>\n",
       "      <td>Monday</td>\n",
       "      <td>January</td>\n",
       "      <td>2019</td>\n",
       "    </tr>\n",
       "    <tr>\n",
       "      <th>8</th>\n",
       "      <td>11500</td>\n",
       "      <td>2012.0</td>\n",
       "      <td>kia sorento</td>\n",
       "      <td>excellent</td>\n",
       "      <td>4.0</td>\n",
       "      <td>gas</td>\n",
       "      <td>104174.0</td>\n",
       "      <td>automatic</td>\n",
       "      <td>SUV</td>\n",
       "      <td>NaN</td>\n",
       "      <td>1.0</td>\n",
       "      <td>2018-07-16</td>\n",
       "      <td>19</td>\n",
       "      <td>True</td>\n",
       "      <td>Monday</td>\n",
       "      <td>July</td>\n",
       "      <td>2018</td>\n",
       "    </tr>\n",
       "    <tr>\n",
       "      <th>9</th>\n",
       "      <td>9200</td>\n",
       "      <td>2008.0</td>\n",
       "      <td>honda pilot</td>\n",
       "      <td>excellent</td>\n",
       "      <td>6.0</td>\n",
       "      <td>gas</td>\n",
       "      <td>147191.0</td>\n",
       "      <td>automatic</td>\n",
       "      <td>SUV</td>\n",
       "      <td>blue</td>\n",
       "      <td>1.0</td>\n",
       "      <td>2019-02-15</td>\n",
       "      <td>17</td>\n",
       "      <td>True</td>\n",
       "      <td>Friday</td>\n",
       "      <td>February</td>\n",
       "      <td>2019</td>\n",
       "    </tr>\n",
       "  </tbody>\n",
       "</table>\n",
       "</div>"
      ],
      "text/plain": [
       "   price  model_year           model  condition  cylinders fuel  odometer  \\\n",
       "0   9400      2011.0          bmw x5       good        6.0  gas  145000.0   \n",
       "1  25500      2008.0      ford f-150       good        6.0  gas   88705.0   \n",
       "2   5500      2013.0  hyundai sonata   like new        4.0  gas  110000.0   \n",
       "3   1500      2003.0      ford f-150       fair        8.0  gas  188000.0   \n",
       "4  14900      2017.0    chrysler 200  excellent        4.0  gas   80903.0   \n",
       "5  14990      2014.0    chrysler 300  excellent        6.0  gas   57954.0   \n",
       "6  12990      2015.0    toyota camry  excellent        4.0  gas   79212.0   \n",
       "7  15990      2013.0     honda pilot  excellent        6.0  gas  109473.0   \n",
       "8  11500      2012.0     kia sorento  excellent        4.0  gas  104174.0   \n",
       "9   9200      2008.0     honda pilot  excellent        6.0  gas  147191.0   \n",
       "\n",
       "  transmission    type paint_color  is_4wd date_posted  days_listed  has_4wd  \\\n",
       "0    automatic     SUV         NaN     1.0  2018-06-23           19     True   \n",
       "1    automatic  pickup       white     1.0  2018-10-19           50     True   \n",
       "2    automatic   sedan         red     0.0  2019-02-07           79    False   \n",
       "3    automatic  pickup         NaN     0.0  2019-03-22            9    False   \n",
       "4    automatic   sedan       black     0.0  2019-04-02           28    False   \n",
       "5    automatic   sedan       black     1.0  2018-06-20           15     True   \n",
       "6    automatic   sedan       white     0.0  2018-12-27           73    False   \n",
       "7    automatic     SUV       black     1.0  2019-01-07           68     True   \n",
       "8    automatic     SUV         NaN     1.0  2018-07-16           19     True   \n",
       "9    automatic     SUV        blue     1.0  2019-02-15           17     True   \n",
       "\n",
       "      ad_day  ad_month  ad_year  \n",
       "0   Saturday      June     2018  \n",
       "1     Friday   October     2018  \n",
       "2   Thursday  February     2019  \n",
       "3     Friday     March     2019  \n",
       "4    Tuesday     April     2019  \n",
       "5  Wednesday      June     2018  \n",
       "6   Thursday  December     2018  \n",
       "7     Monday   January     2019  \n",
       "8     Monday      July     2018  \n",
       "9     Friday  February     2019  "
      ]
     },
     "execution_count": 24,
     "metadata": {},
     "output_type": "execute_result"
    }
   ],
   "source": [
    "# Add datetime values for when the ad was placed\n",
    "\n",
    "#weekday\n",
    "car['ad_day'] = car['date_posted'].dt.day_name()\n",
    "\n",
    "#month\n",
    "car['ad_month'] = car['date_posted'].dt.month_name()\n",
    "\n",
    "#year\n",
    "car['ad_year'] = car['date_posted'].dt.year\n",
    "\n",
    "#to check\n",
    "car.head(10)"
   ]
  },
  {
   "cell_type": "markdown",
   "metadata": {},
   "source": [
    "Next, we will work with the age of the car. \n",
    "\n",
    "**ad_year** and **model_year** contain the information that we need."
   ]
  },
  {
   "cell_type": "code",
   "execution_count": 25,
   "metadata": {
    "scrolled": false
   },
   "outputs": [
    {
     "data": {
      "text/html": [
       "<div>\n",
       "<style scoped>\n",
       "    .dataframe tbody tr th:only-of-type {\n",
       "        vertical-align: middle;\n",
       "    }\n",
       "\n",
       "    .dataframe tbody tr th {\n",
       "        vertical-align: top;\n",
       "    }\n",
       "\n",
       "    .dataframe thead th {\n",
       "        text-align: right;\n",
       "    }\n",
       "</style>\n",
       "<table border=\"1\" class=\"dataframe\">\n",
       "  <thead>\n",
       "    <tr style=\"text-align: right;\">\n",
       "      <th></th>\n",
       "      <th>price</th>\n",
       "      <th>model_year</th>\n",
       "      <th>model</th>\n",
       "      <th>condition</th>\n",
       "      <th>cylinders</th>\n",
       "      <th>fuel</th>\n",
       "      <th>odometer</th>\n",
       "      <th>transmission</th>\n",
       "      <th>type</th>\n",
       "      <th>paint_color</th>\n",
       "      <th>is_4wd</th>\n",
       "      <th>date_posted</th>\n",
       "      <th>days_listed</th>\n",
       "      <th>has_4wd</th>\n",
       "      <th>ad_day</th>\n",
       "      <th>ad_month</th>\n",
       "      <th>ad_year</th>\n",
       "      <th>car_age</th>\n",
       "    </tr>\n",
       "  </thead>\n",
       "  <tbody>\n",
       "    <tr>\n",
       "      <th>0</th>\n",
       "      <td>9400</td>\n",
       "      <td>2011.0</td>\n",
       "      <td>bmw x5</td>\n",
       "      <td>good</td>\n",
       "      <td>6.0</td>\n",
       "      <td>gas</td>\n",
       "      <td>145000.0</td>\n",
       "      <td>automatic</td>\n",
       "      <td>SUV</td>\n",
       "      <td>NaN</td>\n",
       "      <td>1.0</td>\n",
       "      <td>2018-06-23</td>\n",
       "      <td>19</td>\n",
       "      <td>True</td>\n",
       "      <td>Saturday</td>\n",
       "      <td>June</td>\n",
       "      <td>2018</td>\n",
       "      <td>7.0</td>\n",
       "    </tr>\n",
       "    <tr>\n",
       "      <th>1</th>\n",
       "      <td>25500</td>\n",
       "      <td>2008.0</td>\n",
       "      <td>ford f-150</td>\n",
       "      <td>good</td>\n",
       "      <td>6.0</td>\n",
       "      <td>gas</td>\n",
       "      <td>88705.0</td>\n",
       "      <td>automatic</td>\n",
       "      <td>pickup</td>\n",
       "      <td>white</td>\n",
       "      <td>1.0</td>\n",
       "      <td>2018-10-19</td>\n",
       "      <td>50</td>\n",
       "      <td>True</td>\n",
       "      <td>Friday</td>\n",
       "      <td>October</td>\n",
       "      <td>2018</td>\n",
       "      <td>10.0</td>\n",
       "    </tr>\n",
       "    <tr>\n",
       "      <th>2</th>\n",
       "      <td>5500</td>\n",
       "      <td>2013.0</td>\n",
       "      <td>hyundai sonata</td>\n",
       "      <td>like new</td>\n",
       "      <td>4.0</td>\n",
       "      <td>gas</td>\n",
       "      <td>110000.0</td>\n",
       "      <td>automatic</td>\n",
       "      <td>sedan</td>\n",
       "      <td>red</td>\n",
       "      <td>0.0</td>\n",
       "      <td>2019-02-07</td>\n",
       "      <td>79</td>\n",
       "      <td>False</td>\n",
       "      <td>Thursday</td>\n",
       "      <td>February</td>\n",
       "      <td>2019</td>\n",
       "      <td>6.0</td>\n",
       "    </tr>\n",
       "    <tr>\n",
       "      <th>3</th>\n",
       "      <td>1500</td>\n",
       "      <td>2003.0</td>\n",
       "      <td>ford f-150</td>\n",
       "      <td>fair</td>\n",
       "      <td>8.0</td>\n",
       "      <td>gas</td>\n",
       "      <td>188000.0</td>\n",
       "      <td>automatic</td>\n",
       "      <td>pickup</td>\n",
       "      <td>NaN</td>\n",
       "      <td>0.0</td>\n",
       "      <td>2019-03-22</td>\n",
       "      <td>9</td>\n",
       "      <td>False</td>\n",
       "      <td>Friday</td>\n",
       "      <td>March</td>\n",
       "      <td>2019</td>\n",
       "      <td>16.0</td>\n",
       "    </tr>\n",
       "    <tr>\n",
       "      <th>4</th>\n",
       "      <td>14900</td>\n",
       "      <td>2017.0</td>\n",
       "      <td>chrysler 200</td>\n",
       "      <td>excellent</td>\n",
       "      <td>4.0</td>\n",
       "      <td>gas</td>\n",
       "      <td>80903.0</td>\n",
       "      <td>automatic</td>\n",
       "      <td>sedan</td>\n",
       "      <td>black</td>\n",
       "      <td>0.0</td>\n",
       "      <td>2019-04-02</td>\n",
       "      <td>28</td>\n",
       "      <td>False</td>\n",
       "      <td>Tuesday</td>\n",
       "      <td>April</td>\n",
       "      <td>2019</td>\n",
       "      <td>2.0</td>\n",
       "    </tr>\n",
       "    <tr>\n",
       "      <th>5</th>\n",
       "      <td>14990</td>\n",
       "      <td>2014.0</td>\n",
       "      <td>chrysler 300</td>\n",
       "      <td>excellent</td>\n",
       "      <td>6.0</td>\n",
       "      <td>gas</td>\n",
       "      <td>57954.0</td>\n",
       "      <td>automatic</td>\n",
       "      <td>sedan</td>\n",
       "      <td>black</td>\n",
       "      <td>1.0</td>\n",
       "      <td>2018-06-20</td>\n",
       "      <td>15</td>\n",
       "      <td>True</td>\n",
       "      <td>Wednesday</td>\n",
       "      <td>June</td>\n",
       "      <td>2018</td>\n",
       "      <td>4.0</td>\n",
       "    </tr>\n",
       "    <tr>\n",
       "      <th>6</th>\n",
       "      <td>12990</td>\n",
       "      <td>2015.0</td>\n",
       "      <td>toyota camry</td>\n",
       "      <td>excellent</td>\n",
       "      <td>4.0</td>\n",
       "      <td>gas</td>\n",
       "      <td>79212.0</td>\n",
       "      <td>automatic</td>\n",
       "      <td>sedan</td>\n",
       "      <td>white</td>\n",
       "      <td>0.0</td>\n",
       "      <td>2018-12-27</td>\n",
       "      <td>73</td>\n",
       "      <td>False</td>\n",
       "      <td>Thursday</td>\n",
       "      <td>December</td>\n",
       "      <td>2018</td>\n",
       "      <td>3.0</td>\n",
       "    </tr>\n",
       "    <tr>\n",
       "      <th>7</th>\n",
       "      <td>15990</td>\n",
       "      <td>2013.0</td>\n",
       "      <td>honda pilot</td>\n",
       "      <td>excellent</td>\n",
       "      <td>6.0</td>\n",
       "      <td>gas</td>\n",
       "      <td>109473.0</td>\n",
       "      <td>automatic</td>\n",
       "      <td>SUV</td>\n",
       "      <td>black</td>\n",
       "      <td>1.0</td>\n",
       "      <td>2019-01-07</td>\n",
       "      <td>68</td>\n",
       "      <td>True</td>\n",
       "      <td>Monday</td>\n",
       "      <td>January</td>\n",
       "      <td>2019</td>\n",
       "      <td>6.0</td>\n",
       "    </tr>\n",
       "    <tr>\n",
       "      <th>8</th>\n",
       "      <td>11500</td>\n",
       "      <td>2012.0</td>\n",
       "      <td>kia sorento</td>\n",
       "      <td>excellent</td>\n",
       "      <td>4.0</td>\n",
       "      <td>gas</td>\n",
       "      <td>104174.0</td>\n",
       "      <td>automatic</td>\n",
       "      <td>SUV</td>\n",
       "      <td>NaN</td>\n",
       "      <td>1.0</td>\n",
       "      <td>2018-07-16</td>\n",
       "      <td>19</td>\n",
       "      <td>True</td>\n",
       "      <td>Monday</td>\n",
       "      <td>July</td>\n",
       "      <td>2018</td>\n",
       "      <td>6.0</td>\n",
       "    </tr>\n",
       "    <tr>\n",
       "      <th>9</th>\n",
       "      <td>9200</td>\n",
       "      <td>2008.0</td>\n",
       "      <td>honda pilot</td>\n",
       "      <td>excellent</td>\n",
       "      <td>6.0</td>\n",
       "      <td>gas</td>\n",
       "      <td>147191.0</td>\n",
       "      <td>automatic</td>\n",
       "      <td>SUV</td>\n",
       "      <td>blue</td>\n",
       "      <td>1.0</td>\n",
       "      <td>2019-02-15</td>\n",
       "      <td>17</td>\n",
       "      <td>True</td>\n",
       "      <td>Friday</td>\n",
       "      <td>February</td>\n",
       "      <td>2019</td>\n",
       "      <td>11.0</td>\n",
       "    </tr>\n",
       "  </tbody>\n",
       "</table>\n",
       "</div>"
      ],
      "text/plain": [
       "   price  model_year           model  condition  cylinders fuel  odometer  \\\n",
       "0   9400      2011.0          bmw x5       good        6.0  gas  145000.0   \n",
       "1  25500      2008.0      ford f-150       good        6.0  gas   88705.0   \n",
       "2   5500      2013.0  hyundai sonata   like new        4.0  gas  110000.0   \n",
       "3   1500      2003.0      ford f-150       fair        8.0  gas  188000.0   \n",
       "4  14900      2017.0    chrysler 200  excellent        4.0  gas   80903.0   \n",
       "5  14990      2014.0    chrysler 300  excellent        6.0  gas   57954.0   \n",
       "6  12990      2015.0    toyota camry  excellent        4.0  gas   79212.0   \n",
       "7  15990      2013.0     honda pilot  excellent        6.0  gas  109473.0   \n",
       "8  11500      2012.0     kia sorento  excellent        4.0  gas  104174.0   \n",
       "9   9200      2008.0     honda pilot  excellent        6.0  gas  147191.0   \n",
       "\n",
       "  transmission    type paint_color  is_4wd date_posted  days_listed  has_4wd  \\\n",
       "0    automatic     SUV         NaN     1.0  2018-06-23           19     True   \n",
       "1    automatic  pickup       white     1.0  2018-10-19           50     True   \n",
       "2    automatic   sedan         red     0.0  2019-02-07           79    False   \n",
       "3    automatic  pickup         NaN     0.0  2019-03-22            9    False   \n",
       "4    automatic   sedan       black     0.0  2019-04-02           28    False   \n",
       "5    automatic   sedan       black     1.0  2018-06-20           15     True   \n",
       "6    automatic   sedan       white     0.0  2018-12-27           73    False   \n",
       "7    automatic     SUV       black     1.0  2019-01-07           68     True   \n",
       "8    automatic     SUV         NaN     1.0  2018-07-16           19     True   \n",
       "9    automatic     SUV        blue     1.0  2019-02-15           17     True   \n",
       "\n",
       "      ad_day  ad_month  ad_year  car_age  \n",
       "0   Saturday      June     2018      7.0  \n",
       "1     Friday   October     2018     10.0  \n",
       "2   Thursday  February     2019      6.0  \n",
       "3     Friday     March     2019     16.0  \n",
       "4    Tuesday     April     2019      2.0  \n",
       "5  Wednesday      June     2018      4.0  \n",
       "6   Thursday  December     2018      3.0  \n",
       "7     Monday   January     2019      6.0  \n",
       "8     Monday      July     2018      6.0  \n",
       "9     Friday  February     2019     11.0  "
      ]
     },
     "execution_count": 25,
     "metadata": {},
     "output_type": "execute_result"
    }
   ],
   "source": [
    "# Add the vehicle's age when the ad was placed\n",
    "\n",
    "car['car_age'] = car['ad_year'] - car ['model_year']\n",
    "\n",
    "car.head(10)"
   ]
  },
  {
   "cell_type": "markdown",
   "metadata": {},
   "source": [
    "Next, we will make a column that contains the vehicle's average mileage per year. **car_age** and **odometer** contain the information that we need."
   ]
  },
  {
   "cell_type": "code",
   "execution_count": 26,
   "metadata": {},
   "outputs": [
    {
     "data": {
      "text/html": [
       "<div>\n",
       "<style scoped>\n",
       "    .dataframe tbody tr th:only-of-type {\n",
       "        vertical-align: middle;\n",
       "    }\n",
       "\n",
       "    .dataframe tbody tr th {\n",
       "        vertical-align: top;\n",
       "    }\n",
       "\n",
       "    .dataframe thead th {\n",
       "        text-align: right;\n",
       "    }\n",
       "</style>\n",
       "<table border=\"1\" class=\"dataframe\">\n",
       "  <thead>\n",
       "    <tr style=\"text-align: right;\">\n",
       "      <th></th>\n",
       "      <th>price</th>\n",
       "      <th>model_year</th>\n",
       "      <th>model</th>\n",
       "      <th>condition</th>\n",
       "      <th>cylinders</th>\n",
       "      <th>fuel</th>\n",
       "      <th>odometer</th>\n",
       "      <th>transmission</th>\n",
       "      <th>type</th>\n",
       "      <th>paint_color</th>\n",
       "      <th>is_4wd</th>\n",
       "      <th>date_posted</th>\n",
       "      <th>days_listed</th>\n",
       "      <th>has_4wd</th>\n",
       "      <th>ad_day</th>\n",
       "      <th>ad_month</th>\n",
       "      <th>ad_year</th>\n",
       "      <th>car_age</th>\n",
       "      <th>avg_year_mile</th>\n",
       "    </tr>\n",
       "  </thead>\n",
       "  <tbody>\n",
       "    <tr>\n",
       "      <th>0</th>\n",
       "      <td>9400</td>\n",
       "      <td>2011.0</td>\n",
       "      <td>bmw x5</td>\n",
       "      <td>good</td>\n",
       "      <td>6.0</td>\n",
       "      <td>gas</td>\n",
       "      <td>145000.0</td>\n",
       "      <td>automatic</td>\n",
       "      <td>SUV</td>\n",
       "      <td>NaN</td>\n",
       "      <td>1.0</td>\n",
       "      <td>2018-06-23</td>\n",
       "      <td>19</td>\n",
       "      <td>True</td>\n",
       "      <td>Saturday</td>\n",
       "      <td>June</td>\n",
       "      <td>2018</td>\n",
       "      <td>7.0</td>\n",
       "      <td>20714.285714</td>\n",
       "    </tr>\n",
       "    <tr>\n",
       "      <th>1</th>\n",
       "      <td>25500</td>\n",
       "      <td>2008.0</td>\n",
       "      <td>ford f-150</td>\n",
       "      <td>good</td>\n",
       "      <td>6.0</td>\n",
       "      <td>gas</td>\n",
       "      <td>88705.0</td>\n",
       "      <td>automatic</td>\n",
       "      <td>pickup</td>\n",
       "      <td>white</td>\n",
       "      <td>1.0</td>\n",
       "      <td>2018-10-19</td>\n",
       "      <td>50</td>\n",
       "      <td>True</td>\n",
       "      <td>Friday</td>\n",
       "      <td>October</td>\n",
       "      <td>2018</td>\n",
       "      <td>10.0</td>\n",
       "      <td>8870.500000</td>\n",
       "    </tr>\n",
       "    <tr>\n",
       "      <th>2</th>\n",
       "      <td>5500</td>\n",
       "      <td>2013.0</td>\n",
       "      <td>hyundai sonata</td>\n",
       "      <td>like new</td>\n",
       "      <td>4.0</td>\n",
       "      <td>gas</td>\n",
       "      <td>110000.0</td>\n",
       "      <td>automatic</td>\n",
       "      <td>sedan</td>\n",
       "      <td>red</td>\n",
       "      <td>0.0</td>\n",
       "      <td>2019-02-07</td>\n",
       "      <td>79</td>\n",
       "      <td>False</td>\n",
       "      <td>Thursday</td>\n",
       "      <td>February</td>\n",
       "      <td>2019</td>\n",
       "      <td>6.0</td>\n",
       "      <td>18333.333333</td>\n",
       "    </tr>\n",
       "    <tr>\n",
       "      <th>3</th>\n",
       "      <td>1500</td>\n",
       "      <td>2003.0</td>\n",
       "      <td>ford f-150</td>\n",
       "      <td>fair</td>\n",
       "      <td>8.0</td>\n",
       "      <td>gas</td>\n",
       "      <td>188000.0</td>\n",
       "      <td>automatic</td>\n",
       "      <td>pickup</td>\n",
       "      <td>NaN</td>\n",
       "      <td>0.0</td>\n",
       "      <td>2019-03-22</td>\n",
       "      <td>9</td>\n",
       "      <td>False</td>\n",
       "      <td>Friday</td>\n",
       "      <td>March</td>\n",
       "      <td>2019</td>\n",
       "      <td>16.0</td>\n",
       "      <td>11750.000000</td>\n",
       "    </tr>\n",
       "    <tr>\n",
       "      <th>4</th>\n",
       "      <td>14900</td>\n",
       "      <td>2017.0</td>\n",
       "      <td>chrysler 200</td>\n",
       "      <td>excellent</td>\n",
       "      <td>4.0</td>\n",
       "      <td>gas</td>\n",
       "      <td>80903.0</td>\n",
       "      <td>automatic</td>\n",
       "      <td>sedan</td>\n",
       "      <td>black</td>\n",
       "      <td>0.0</td>\n",
       "      <td>2019-04-02</td>\n",
       "      <td>28</td>\n",
       "      <td>False</td>\n",
       "      <td>Tuesday</td>\n",
       "      <td>April</td>\n",
       "      <td>2019</td>\n",
       "      <td>2.0</td>\n",
       "      <td>40451.500000</td>\n",
       "    </tr>\n",
       "    <tr>\n",
       "      <th>5</th>\n",
       "      <td>14990</td>\n",
       "      <td>2014.0</td>\n",
       "      <td>chrysler 300</td>\n",
       "      <td>excellent</td>\n",
       "      <td>6.0</td>\n",
       "      <td>gas</td>\n",
       "      <td>57954.0</td>\n",
       "      <td>automatic</td>\n",
       "      <td>sedan</td>\n",
       "      <td>black</td>\n",
       "      <td>1.0</td>\n",
       "      <td>2018-06-20</td>\n",
       "      <td>15</td>\n",
       "      <td>True</td>\n",
       "      <td>Wednesday</td>\n",
       "      <td>June</td>\n",
       "      <td>2018</td>\n",
       "      <td>4.0</td>\n",
       "      <td>14488.500000</td>\n",
       "    </tr>\n",
       "    <tr>\n",
       "      <th>6</th>\n",
       "      <td>12990</td>\n",
       "      <td>2015.0</td>\n",
       "      <td>toyota camry</td>\n",
       "      <td>excellent</td>\n",
       "      <td>4.0</td>\n",
       "      <td>gas</td>\n",
       "      <td>79212.0</td>\n",
       "      <td>automatic</td>\n",
       "      <td>sedan</td>\n",
       "      <td>white</td>\n",
       "      <td>0.0</td>\n",
       "      <td>2018-12-27</td>\n",
       "      <td>73</td>\n",
       "      <td>False</td>\n",
       "      <td>Thursday</td>\n",
       "      <td>December</td>\n",
       "      <td>2018</td>\n",
       "      <td>3.0</td>\n",
       "      <td>26404.000000</td>\n",
       "    </tr>\n",
       "    <tr>\n",
       "      <th>7</th>\n",
       "      <td>15990</td>\n",
       "      <td>2013.0</td>\n",
       "      <td>honda pilot</td>\n",
       "      <td>excellent</td>\n",
       "      <td>6.0</td>\n",
       "      <td>gas</td>\n",
       "      <td>109473.0</td>\n",
       "      <td>automatic</td>\n",
       "      <td>SUV</td>\n",
       "      <td>black</td>\n",
       "      <td>1.0</td>\n",
       "      <td>2019-01-07</td>\n",
       "      <td>68</td>\n",
       "      <td>True</td>\n",
       "      <td>Monday</td>\n",
       "      <td>January</td>\n",
       "      <td>2019</td>\n",
       "      <td>6.0</td>\n",
       "      <td>18245.500000</td>\n",
       "    </tr>\n",
       "    <tr>\n",
       "      <th>8</th>\n",
       "      <td>11500</td>\n",
       "      <td>2012.0</td>\n",
       "      <td>kia sorento</td>\n",
       "      <td>excellent</td>\n",
       "      <td>4.0</td>\n",
       "      <td>gas</td>\n",
       "      <td>104174.0</td>\n",
       "      <td>automatic</td>\n",
       "      <td>SUV</td>\n",
       "      <td>NaN</td>\n",
       "      <td>1.0</td>\n",
       "      <td>2018-07-16</td>\n",
       "      <td>19</td>\n",
       "      <td>True</td>\n",
       "      <td>Monday</td>\n",
       "      <td>July</td>\n",
       "      <td>2018</td>\n",
       "      <td>6.0</td>\n",
       "      <td>17362.333333</td>\n",
       "    </tr>\n",
       "    <tr>\n",
       "      <th>9</th>\n",
       "      <td>9200</td>\n",
       "      <td>2008.0</td>\n",
       "      <td>honda pilot</td>\n",
       "      <td>excellent</td>\n",
       "      <td>6.0</td>\n",
       "      <td>gas</td>\n",
       "      <td>147191.0</td>\n",
       "      <td>automatic</td>\n",
       "      <td>SUV</td>\n",
       "      <td>blue</td>\n",
       "      <td>1.0</td>\n",
       "      <td>2019-02-15</td>\n",
       "      <td>17</td>\n",
       "      <td>True</td>\n",
       "      <td>Friday</td>\n",
       "      <td>February</td>\n",
       "      <td>2019</td>\n",
       "      <td>11.0</td>\n",
       "      <td>13381.000000</td>\n",
       "    </tr>\n",
       "  </tbody>\n",
       "</table>\n",
       "</div>"
      ],
      "text/plain": [
       "   price  model_year           model  condition  cylinders fuel  odometer  \\\n",
       "0   9400      2011.0          bmw x5       good        6.0  gas  145000.0   \n",
       "1  25500      2008.0      ford f-150       good        6.0  gas   88705.0   \n",
       "2   5500      2013.0  hyundai sonata   like new        4.0  gas  110000.0   \n",
       "3   1500      2003.0      ford f-150       fair        8.0  gas  188000.0   \n",
       "4  14900      2017.0    chrysler 200  excellent        4.0  gas   80903.0   \n",
       "5  14990      2014.0    chrysler 300  excellent        6.0  gas   57954.0   \n",
       "6  12990      2015.0    toyota camry  excellent        4.0  gas   79212.0   \n",
       "7  15990      2013.0     honda pilot  excellent        6.0  gas  109473.0   \n",
       "8  11500      2012.0     kia sorento  excellent        4.0  gas  104174.0   \n",
       "9   9200      2008.0     honda pilot  excellent        6.0  gas  147191.0   \n",
       "\n",
       "  transmission    type paint_color  is_4wd date_posted  days_listed  has_4wd  \\\n",
       "0    automatic     SUV         NaN     1.0  2018-06-23           19     True   \n",
       "1    automatic  pickup       white     1.0  2018-10-19           50     True   \n",
       "2    automatic   sedan         red     0.0  2019-02-07           79    False   \n",
       "3    automatic  pickup         NaN     0.0  2019-03-22            9    False   \n",
       "4    automatic   sedan       black     0.0  2019-04-02           28    False   \n",
       "5    automatic   sedan       black     1.0  2018-06-20           15     True   \n",
       "6    automatic   sedan       white     0.0  2018-12-27           73    False   \n",
       "7    automatic     SUV       black     1.0  2019-01-07           68     True   \n",
       "8    automatic     SUV         NaN     1.0  2018-07-16           19     True   \n",
       "9    automatic     SUV        blue     1.0  2019-02-15           17     True   \n",
       "\n",
       "      ad_day  ad_month  ad_year  car_age  avg_year_mile  \n",
       "0   Saturday      June     2018      7.0   20714.285714  \n",
       "1     Friday   October     2018     10.0    8870.500000  \n",
       "2   Thursday  February     2019      6.0   18333.333333  \n",
       "3     Friday     March     2019     16.0   11750.000000  \n",
       "4    Tuesday     April     2019      2.0   40451.500000  \n",
       "5  Wednesday      June     2018      4.0   14488.500000  \n",
       "6   Thursday  December     2018      3.0   26404.000000  \n",
       "7     Monday   January     2019      6.0   18245.500000  \n",
       "8     Monday      July     2018      6.0   17362.333333  \n",
       "9     Friday  February     2019     11.0   13381.000000  "
      ]
     },
     "execution_count": 26,
     "metadata": {},
     "output_type": "execute_result"
    }
   ],
   "source": [
    "# Add the vehicle's average mileage per year\n",
    "\n",
    "car['avg_year_mile'] = car['odometer'] / car['car_age']\n",
    "\n",
    "car.head(10)"
   ]
  },
  {
   "cell_type": "markdown",
   "metadata": {},
   "source": [
    "To make the downstream analysis easier, we will change the values in the **'condition'** column. Where 'salvage' = 0, 'fair' = 1, 'good' = 2, 'excellent' = 3, 'like new' = 4, and 'new' = 5. For this, we can either write a function to replace all of the values in a separate column, or replace the values in the current column with where(). I will run a function and create a separate column. "
   ]
  },
  {
   "cell_type": "code",
   "execution_count": 27,
   "metadata": {},
   "outputs": [
    {
     "name": "stdout",
     "output_type": "stream",
     "text": [
      "4\n"
     ]
    },
    {
     "data": {
      "text/html": [
       "<div>\n",
       "<style scoped>\n",
       "    .dataframe tbody tr th:only-of-type {\n",
       "        vertical-align: middle;\n",
       "    }\n",
       "\n",
       "    .dataframe tbody tr th {\n",
       "        vertical-align: top;\n",
       "    }\n",
       "\n",
       "    .dataframe thead th {\n",
       "        text-align: right;\n",
       "    }\n",
       "</style>\n",
       "<table border=\"1\" class=\"dataframe\">\n",
       "  <thead>\n",
       "    <tr style=\"text-align: right;\">\n",
       "      <th></th>\n",
       "      <th>price</th>\n",
       "      <th>model_year</th>\n",
       "      <th>model</th>\n",
       "      <th>condition</th>\n",
       "      <th>cylinders</th>\n",
       "      <th>fuel</th>\n",
       "      <th>odometer</th>\n",
       "      <th>transmission</th>\n",
       "      <th>type</th>\n",
       "      <th>paint_color</th>\n",
       "      <th>is_4wd</th>\n",
       "      <th>date_posted</th>\n",
       "      <th>days_listed</th>\n",
       "      <th>has_4wd</th>\n",
       "      <th>ad_day</th>\n",
       "      <th>ad_month</th>\n",
       "      <th>ad_year</th>\n",
       "      <th>car_age</th>\n",
       "      <th>avg_year_mile</th>\n",
       "      <th>update_condition</th>\n",
       "    </tr>\n",
       "  </thead>\n",
       "  <tbody>\n",
       "    <tr>\n",
       "      <th>0</th>\n",
       "      <td>9400</td>\n",
       "      <td>2011.0</td>\n",
       "      <td>bmw x5</td>\n",
       "      <td>good</td>\n",
       "      <td>6.0</td>\n",
       "      <td>gas</td>\n",
       "      <td>145000.0</td>\n",
       "      <td>automatic</td>\n",
       "      <td>SUV</td>\n",
       "      <td>NaN</td>\n",
       "      <td>1.0</td>\n",
       "      <td>2018-06-23</td>\n",
       "      <td>19</td>\n",
       "      <td>True</td>\n",
       "      <td>Saturday</td>\n",
       "      <td>June</td>\n",
       "      <td>2018</td>\n",
       "      <td>7.0</td>\n",
       "      <td>20714.285714</td>\n",
       "      <td>2</td>\n",
       "    </tr>\n",
       "    <tr>\n",
       "      <th>1</th>\n",
       "      <td>25500</td>\n",
       "      <td>2008.0</td>\n",
       "      <td>ford f-150</td>\n",
       "      <td>good</td>\n",
       "      <td>6.0</td>\n",
       "      <td>gas</td>\n",
       "      <td>88705.0</td>\n",
       "      <td>automatic</td>\n",
       "      <td>pickup</td>\n",
       "      <td>white</td>\n",
       "      <td>1.0</td>\n",
       "      <td>2018-10-19</td>\n",
       "      <td>50</td>\n",
       "      <td>True</td>\n",
       "      <td>Friday</td>\n",
       "      <td>October</td>\n",
       "      <td>2018</td>\n",
       "      <td>10.0</td>\n",
       "      <td>8870.500000</td>\n",
       "      <td>2</td>\n",
       "    </tr>\n",
       "    <tr>\n",
       "      <th>2</th>\n",
       "      <td>5500</td>\n",
       "      <td>2013.0</td>\n",
       "      <td>hyundai sonata</td>\n",
       "      <td>like new</td>\n",
       "      <td>4.0</td>\n",
       "      <td>gas</td>\n",
       "      <td>110000.0</td>\n",
       "      <td>automatic</td>\n",
       "      <td>sedan</td>\n",
       "      <td>red</td>\n",
       "      <td>0.0</td>\n",
       "      <td>2019-02-07</td>\n",
       "      <td>79</td>\n",
       "      <td>False</td>\n",
       "      <td>Thursday</td>\n",
       "      <td>February</td>\n",
       "      <td>2019</td>\n",
       "      <td>6.0</td>\n",
       "      <td>18333.333333</td>\n",
       "      <td>4</td>\n",
       "    </tr>\n",
       "    <tr>\n",
       "      <th>3</th>\n",
       "      <td>1500</td>\n",
       "      <td>2003.0</td>\n",
       "      <td>ford f-150</td>\n",
       "      <td>fair</td>\n",
       "      <td>8.0</td>\n",
       "      <td>gas</td>\n",
       "      <td>188000.0</td>\n",
       "      <td>automatic</td>\n",
       "      <td>pickup</td>\n",
       "      <td>NaN</td>\n",
       "      <td>0.0</td>\n",
       "      <td>2019-03-22</td>\n",
       "      <td>9</td>\n",
       "      <td>False</td>\n",
       "      <td>Friday</td>\n",
       "      <td>March</td>\n",
       "      <td>2019</td>\n",
       "      <td>16.0</td>\n",
       "      <td>11750.000000</td>\n",
       "      <td>1</td>\n",
       "    </tr>\n",
       "    <tr>\n",
       "      <th>4</th>\n",
       "      <td>14900</td>\n",
       "      <td>2017.0</td>\n",
       "      <td>chrysler 200</td>\n",
       "      <td>excellent</td>\n",
       "      <td>4.0</td>\n",
       "      <td>gas</td>\n",
       "      <td>80903.0</td>\n",
       "      <td>automatic</td>\n",
       "      <td>sedan</td>\n",
       "      <td>black</td>\n",
       "      <td>0.0</td>\n",
       "      <td>2019-04-02</td>\n",
       "      <td>28</td>\n",
       "      <td>False</td>\n",
       "      <td>Tuesday</td>\n",
       "      <td>April</td>\n",
       "      <td>2019</td>\n",
       "      <td>2.0</td>\n",
       "      <td>40451.500000</td>\n",
       "      <td>3</td>\n",
       "    </tr>\n",
       "    <tr>\n",
       "      <th>5</th>\n",
       "      <td>14990</td>\n",
       "      <td>2014.0</td>\n",
       "      <td>chrysler 300</td>\n",
       "      <td>excellent</td>\n",
       "      <td>6.0</td>\n",
       "      <td>gas</td>\n",
       "      <td>57954.0</td>\n",
       "      <td>automatic</td>\n",
       "      <td>sedan</td>\n",
       "      <td>black</td>\n",
       "      <td>1.0</td>\n",
       "      <td>2018-06-20</td>\n",
       "      <td>15</td>\n",
       "      <td>True</td>\n",
       "      <td>Wednesday</td>\n",
       "      <td>June</td>\n",
       "      <td>2018</td>\n",
       "      <td>4.0</td>\n",
       "      <td>14488.500000</td>\n",
       "      <td>3</td>\n",
       "    </tr>\n",
       "    <tr>\n",
       "      <th>6</th>\n",
       "      <td>12990</td>\n",
       "      <td>2015.0</td>\n",
       "      <td>toyota camry</td>\n",
       "      <td>excellent</td>\n",
       "      <td>4.0</td>\n",
       "      <td>gas</td>\n",
       "      <td>79212.0</td>\n",
       "      <td>automatic</td>\n",
       "      <td>sedan</td>\n",
       "      <td>white</td>\n",
       "      <td>0.0</td>\n",
       "      <td>2018-12-27</td>\n",
       "      <td>73</td>\n",
       "      <td>False</td>\n",
       "      <td>Thursday</td>\n",
       "      <td>December</td>\n",
       "      <td>2018</td>\n",
       "      <td>3.0</td>\n",
       "      <td>26404.000000</td>\n",
       "      <td>3</td>\n",
       "    </tr>\n",
       "    <tr>\n",
       "      <th>7</th>\n",
       "      <td>15990</td>\n",
       "      <td>2013.0</td>\n",
       "      <td>honda pilot</td>\n",
       "      <td>excellent</td>\n",
       "      <td>6.0</td>\n",
       "      <td>gas</td>\n",
       "      <td>109473.0</td>\n",
       "      <td>automatic</td>\n",
       "      <td>SUV</td>\n",
       "      <td>black</td>\n",
       "      <td>1.0</td>\n",
       "      <td>2019-01-07</td>\n",
       "      <td>68</td>\n",
       "      <td>True</td>\n",
       "      <td>Monday</td>\n",
       "      <td>January</td>\n",
       "      <td>2019</td>\n",
       "      <td>6.0</td>\n",
       "      <td>18245.500000</td>\n",
       "      <td>3</td>\n",
       "    </tr>\n",
       "    <tr>\n",
       "      <th>8</th>\n",
       "      <td>11500</td>\n",
       "      <td>2012.0</td>\n",
       "      <td>kia sorento</td>\n",
       "      <td>excellent</td>\n",
       "      <td>4.0</td>\n",
       "      <td>gas</td>\n",
       "      <td>104174.0</td>\n",
       "      <td>automatic</td>\n",
       "      <td>SUV</td>\n",
       "      <td>NaN</td>\n",
       "      <td>1.0</td>\n",
       "      <td>2018-07-16</td>\n",
       "      <td>19</td>\n",
       "      <td>True</td>\n",
       "      <td>Monday</td>\n",
       "      <td>July</td>\n",
       "      <td>2018</td>\n",
       "      <td>6.0</td>\n",
       "      <td>17362.333333</td>\n",
       "      <td>3</td>\n",
       "    </tr>\n",
       "    <tr>\n",
       "      <th>9</th>\n",
       "      <td>9200</td>\n",
       "      <td>2008.0</td>\n",
       "      <td>honda pilot</td>\n",
       "      <td>excellent</td>\n",
       "      <td>6.0</td>\n",
       "      <td>gas</td>\n",
       "      <td>147191.0</td>\n",
       "      <td>automatic</td>\n",
       "      <td>SUV</td>\n",
       "      <td>blue</td>\n",
       "      <td>1.0</td>\n",
       "      <td>2019-02-15</td>\n",
       "      <td>17</td>\n",
       "      <td>True</td>\n",
       "      <td>Friday</td>\n",
       "      <td>February</td>\n",
       "      <td>2019</td>\n",
       "      <td>11.0</td>\n",
       "      <td>13381.000000</td>\n",
       "      <td>3</td>\n",
       "    </tr>\n",
       "  </tbody>\n",
       "</table>\n",
       "</div>"
      ],
      "text/plain": [
       "   price  model_year           model  condition  cylinders fuel  odometer  \\\n",
       "0   9400      2011.0          bmw x5       good        6.0  gas  145000.0   \n",
       "1  25500      2008.0      ford f-150       good        6.0  gas   88705.0   \n",
       "2   5500      2013.0  hyundai sonata   like new        4.0  gas  110000.0   \n",
       "3   1500      2003.0      ford f-150       fair        8.0  gas  188000.0   \n",
       "4  14900      2017.0    chrysler 200  excellent        4.0  gas   80903.0   \n",
       "5  14990      2014.0    chrysler 300  excellent        6.0  gas   57954.0   \n",
       "6  12990      2015.0    toyota camry  excellent        4.0  gas   79212.0   \n",
       "7  15990      2013.0     honda pilot  excellent        6.0  gas  109473.0   \n",
       "8  11500      2012.0     kia sorento  excellent        4.0  gas  104174.0   \n",
       "9   9200      2008.0     honda pilot  excellent        6.0  gas  147191.0   \n",
       "\n",
       "  transmission    type paint_color  is_4wd date_posted  days_listed  has_4wd  \\\n",
       "0    automatic     SUV         NaN     1.0  2018-06-23           19     True   \n",
       "1    automatic  pickup       white     1.0  2018-10-19           50     True   \n",
       "2    automatic   sedan         red     0.0  2019-02-07           79    False   \n",
       "3    automatic  pickup         NaN     0.0  2019-03-22            9    False   \n",
       "4    automatic   sedan       black     0.0  2019-04-02           28    False   \n",
       "5    automatic   sedan       black     1.0  2018-06-20           15     True   \n",
       "6    automatic   sedan       white     0.0  2018-12-27           73    False   \n",
       "7    automatic     SUV       black     1.0  2019-01-07           68     True   \n",
       "8    automatic     SUV         NaN     1.0  2018-07-16           19     True   \n",
       "9    automatic     SUV        blue     1.0  2019-02-15           17     True   \n",
       "\n",
       "      ad_day  ad_month  ad_year  car_age  avg_year_mile  update_condition  \n",
       "0   Saturday      June     2018      7.0   20714.285714                 2  \n",
       "1     Friday   October     2018     10.0    8870.500000                 2  \n",
       "2   Thursday  February     2019      6.0   18333.333333                 4  \n",
       "3     Friday     March     2019     16.0   11750.000000                 1  \n",
       "4    Tuesday     April     2019      2.0   40451.500000                 3  \n",
       "5  Wednesday      June     2018      4.0   14488.500000                 3  \n",
       "6   Thursday  December     2018      3.0   26404.000000                 3  \n",
       "7     Monday   January     2019      6.0   18245.500000                 3  \n",
       "8     Monday      July     2018      6.0   17362.333333                 3  \n",
       "9     Friday  February     2019     11.0   13381.000000                 3  "
      ]
     },
     "execution_count": 27,
     "metadata": {},
     "output_type": "execute_result"
    }
   ],
   "source": [
    "# replace the condition values with something that can be manipulated more easily\n",
    "\n",
    "def conditions(car_condi):\n",
    "    if 'salvage' in car_condi:\n",
    "        return 0\n",
    "    elif 'fair' in car_condi:\n",
    "        return 1\n",
    "    elif 'good' in car_condi:\n",
    "        return 2\n",
    "    elif 'excellent' in car_condi:\n",
    "        return 3\n",
    "    elif 'like new' in car_condi:\n",
    "        return 4\n",
    "    elif 'new' in car_condi:\n",
    "        return 5\n",
    "    \n",
    "print(conditions('like new'))\n",
    "\n",
    "car['update_condition'] = car['condition'].apply(conditions)\n",
    "\n",
    "car.head(10)"
   ]
  },
  {
   "cell_type": "markdown",
   "metadata": {},
   "source": [
    "## Check clean data"
   ]
  },
  {
   "cell_type": "markdown",
   "metadata": {},
   "source": [
    "Our data should be ready for further analysis, but let's take a final look."
   ]
  },
  {
   "cell_type": "code",
   "execution_count": 28,
   "metadata": {},
   "outputs": [
    {
     "name": "stdout",
     "output_type": "stream",
     "text": [
      "<class 'pandas.core.frame.DataFrame'>\n",
      "RangeIndex: 51525 entries, 0 to 51524\n",
      "Data columns (total 20 columns):\n",
      " #   Column            Non-Null Count  Dtype         \n",
      "---  ------            --------------  -----         \n",
      " 0   price             51525 non-null  int64         \n",
      " 1   model_year        51525 non-null  float64       \n",
      " 2   model             51525 non-null  object        \n",
      " 3   condition         51525 non-null  object        \n",
      " 4   cylinders         51525 non-null  float64       \n",
      " 5   fuel              51525 non-null  object        \n",
      " 6   odometer          51525 non-null  float64       \n",
      " 7   transmission      51525 non-null  object        \n",
      " 8   type              51525 non-null  object        \n",
      " 9   paint_color       42258 non-null  object        \n",
      " 10  is_4wd            51525 non-null  float64       \n",
      " 11  date_posted       51525 non-null  datetime64[ns]\n",
      " 12  days_listed       51525 non-null  int64         \n",
      " 13  has_4wd           51525 non-null  bool          \n",
      " 14  ad_day            51525 non-null  object        \n",
      " 15  ad_month          51525 non-null  object        \n",
      " 16  ad_year           51525 non-null  int64         \n",
      " 17  car_age           51525 non-null  float64       \n",
      " 18  avg_year_mile     51523 non-null  float64       \n",
      " 19  update_condition  51525 non-null  int64         \n",
      "dtypes: bool(1), datetime64[ns](1), float64(6), int64(4), object(8)\n",
      "memory usage: 7.5+ MB\n"
     ]
    }
   ],
   "source": [
    "# general/summary information about the our DataFrame\n",
    "\n",
    "car.info()"
   ]
  },
  {
   "cell_type": "code",
   "execution_count": 29,
   "metadata": {
    "scrolled": false
   },
   "outputs": [
    {
     "data": {
      "text/html": [
       "<div>\n",
       "<style scoped>\n",
       "    .dataframe tbody tr th:only-of-type {\n",
       "        vertical-align: middle;\n",
       "    }\n",
       "\n",
       "    .dataframe tbody tr th {\n",
       "        vertical-align: top;\n",
       "    }\n",
       "\n",
       "    .dataframe thead th {\n",
       "        text-align: right;\n",
       "    }\n",
       "</style>\n",
       "<table border=\"1\" class=\"dataframe\">\n",
       "  <thead>\n",
       "    <tr style=\"text-align: right;\">\n",
       "      <th></th>\n",
       "      <th>price</th>\n",
       "      <th>model_year</th>\n",
       "      <th>model</th>\n",
       "      <th>condition</th>\n",
       "      <th>cylinders</th>\n",
       "      <th>fuel</th>\n",
       "      <th>odometer</th>\n",
       "      <th>transmission</th>\n",
       "      <th>type</th>\n",
       "      <th>paint_color</th>\n",
       "      <th>is_4wd</th>\n",
       "      <th>date_posted</th>\n",
       "      <th>days_listed</th>\n",
       "      <th>has_4wd</th>\n",
       "      <th>ad_day</th>\n",
       "      <th>ad_month</th>\n",
       "      <th>ad_year</th>\n",
       "      <th>car_age</th>\n",
       "      <th>avg_year_mile</th>\n",
       "      <th>update_condition</th>\n",
       "    </tr>\n",
       "  </thead>\n",
       "  <tbody>\n",
       "    <tr>\n",
       "      <th>0</th>\n",
       "      <td>9400</td>\n",
       "      <td>2011.0</td>\n",
       "      <td>bmw x5</td>\n",
       "      <td>good</td>\n",
       "      <td>6.0</td>\n",
       "      <td>gas</td>\n",
       "      <td>145000.0</td>\n",
       "      <td>automatic</td>\n",
       "      <td>SUV</td>\n",
       "      <td>NaN</td>\n",
       "      <td>1.0</td>\n",
       "      <td>2018-06-23</td>\n",
       "      <td>19</td>\n",
       "      <td>True</td>\n",
       "      <td>Saturday</td>\n",
       "      <td>June</td>\n",
       "      <td>2018</td>\n",
       "      <td>7.0</td>\n",
       "      <td>20714.285714</td>\n",
       "      <td>2</td>\n",
       "    </tr>\n",
       "    <tr>\n",
       "      <th>1</th>\n",
       "      <td>25500</td>\n",
       "      <td>2008.0</td>\n",
       "      <td>ford f-150</td>\n",
       "      <td>good</td>\n",
       "      <td>6.0</td>\n",
       "      <td>gas</td>\n",
       "      <td>88705.0</td>\n",
       "      <td>automatic</td>\n",
       "      <td>pickup</td>\n",
       "      <td>white</td>\n",
       "      <td>1.0</td>\n",
       "      <td>2018-10-19</td>\n",
       "      <td>50</td>\n",
       "      <td>True</td>\n",
       "      <td>Friday</td>\n",
       "      <td>October</td>\n",
       "      <td>2018</td>\n",
       "      <td>10.0</td>\n",
       "      <td>8870.500000</td>\n",
       "      <td>2</td>\n",
       "    </tr>\n",
       "    <tr>\n",
       "      <th>2</th>\n",
       "      <td>5500</td>\n",
       "      <td>2013.0</td>\n",
       "      <td>hyundai sonata</td>\n",
       "      <td>like new</td>\n",
       "      <td>4.0</td>\n",
       "      <td>gas</td>\n",
       "      <td>110000.0</td>\n",
       "      <td>automatic</td>\n",
       "      <td>sedan</td>\n",
       "      <td>red</td>\n",
       "      <td>0.0</td>\n",
       "      <td>2019-02-07</td>\n",
       "      <td>79</td>\n",
       "      <td>False</td>\n",
       "      <td>Thursday</td>\n",
       "      <td>February</td>\n",
       "      <td>2019</td>\n",
       "      <td>6.0</td>\n",
       "      <td>18333.333333</td>\n",
       "      <td>4</td>\n",
       "    </tr>\n",
       "    <tr>\n",
       "      <th>3</th>\n",
       "      <td>1500</td>\n",
       "      <td>2003.0</td>\n",
       "      <td>ford f-150</td>\n",
       "      <td>fair</td>\n",
       "      <td>8.0</td>\n",
       "      <td>gas</td>\n",
       "      <td>188000.0</td>\n",
       "      <td>automatic</td>\n",
       "      <td>pickup</td>\n",
       "      <td>NaN</td>\n",
       "      <td>0.0</td>\n",
       "      <td>2019-03-22</td>\n",
       "      <td>9</td>\n",
       "      <td>False</td>\n",
       "      <td>Friday</td>\n",
       "      <td>March</td>\n",
       "      <td>2019</td>\n",
       "      <td>16.0</td>\n",
       "      <td>11750.000000</td>\n",
       "      <td>1</td>\n",
       "    </tr>\n",
       "    <tr>\n",
       "      <th>4</th>\n",
       "      <td>14900</td>\n",
       "      <td>2017.0</td>\n",
       "      <td>chrysler 200</td>\n",
       "      <td>excellent</td>\n",
       "      <td>4.0</td>\n",
       "      <td>gas</td>\n",
       "      <td>80903.0</td>\n",
       "      <td>automatic</td>\n",
       "      <td>sedan</td>\n",
       "      <td>black</td>\n",
       "      <td>0.0</td>\n",
       "      <td>2019-04-02</td>\n",
       "      <td>28</td>\n",
       "      <td>False</td>\n",
       "      <td>Tuesday</td>\n",
       "      <td>April</td>\n",
       "      <td>2019</td>\n",
       "      <td>2.0</td>\n",
       "      <td>40451.500000</td>\n",
       "      <td>3</td>\n",
       "    </tr>\n",
       "    <tr>\n",
       "      <th>5</th>\n",
       "      <td>14990</td>\n",
       "      <td>2014.0</td>\n",
       "      <td>chrysler 300</td>\n",
       "      <td>excellent</td>\n",
       "      <td>6.0</td>\n",
       "      <td>gas</td>\n",
       "      <td>57954.0</td>\n",
       "      <td>automatic</td>\n",
       "      <td>sedan</td>\n",
       "      <td>black</td>\n",
       "      <td>1.0</td>\n",
       "      <td>2018-06-20</td>\n",
       "      <td>15</td>\n",
       "      <td>True</td>\n",
       "      <td>Wednesday</td>\n",
       "      <td>June</td>\n",
       "      <td>2018</td>\n",
       "      <td>4.0</td>\n",
       "      <td>14488.500000</td>\n",
       "      <td>3</td>\n",
       "    </tr>\n",
       "    <tr>\n",
       "      <th>6</th>\n",
       "      <td>12990</td>\n",
       "      <td>2015.0</td>\n",
       "      <td>toyota camry</td>\n",
       "      <td>excellent</td>\n",
       "      <td>4.0</td>\n",
       "      <td>gas</td>\n",
       "      <td>79212.0</td>\n",
       "      <td>automatic</td>\n",
       "      <td>sedan</td>\n",
       "      <td>white</td>\n",
       "      <td>0.0</td>\n",
       "      <td>2018-12-27</td>\n",
       "      <td>73</td>\n",
       "      <td>False</td>\n",
       "      <td>Thursday</td>\n",
       "      <td>December</td>\n",
       "      <td>2018</td>\n",
       "      <td>3.0</td>\n",
       "      <td>26404.000000</td>\n",
       "      <td>3</td>\n",
       "    </tr>\n",
       "    <tr>\n",
       "      <th>7</th>\n",
       "      <td>15990</td>\n",
       "      <td>2013.0</td>\n",
       "      <td>honda pilot</td>\n",
       "      <td>excellent</td>\n",
       "      <td>6.0</td>\n",
       "      <td>gas</td>\n",
       "      <td>109473.0</td>\n",
       "      <td>automatic</td>\n",
       "      <td>SUV</td>\n",
       "      <td>black</td>\n",
       "      <td>1.0</td>\n",
       "      <td>2019-01-07</td>\n",
       "      <td>68</td>\n",
       "      <td>True</td>\n",
       "      <td>Monday</td>\n",
       "      <td>January</td>\n",
       "      <td>2019</td>\n",
       "      <td>6.0</td>\n",
       "      <td>18245.500000</td>\n",
       "      <td>3</td>\n",
       "    </tr>\n",
       "    <tr>\n",
       "      <th>8</th>\n",
       "      <td>11500</td>\n",
       "      <td>2012.0</td>\n",
       "      <td>kia sorento</td>\n",
       "      <td>excellent</td>\n",
       "      <td>4.0</td>\n",
       "      <td>gas</td>\n",
       "      <td>104174.0</td>\n",
       "      <td>automatic</td>\n",
       "      <td>SUV</td>\n",
       "      <td>NaN</td>\n",
       "      <td>1.0</td>\n",
       "      <td>2018-07-16</td>\n",
       "      <td>19</td>\n",
       "      <td>True</td>\n",
       "      <td>Monday</td>\n",
       "      <td>July</td>\n",
       "      <td>2018</td>\n",
       "      <td>6.0</td>\n",
       "      <td>17362.333333</td>\n",
       "      <td>3</td>\n",
       "    </tr>\n",
       "    <tr>\n",
       "      <th>9</th>\n",
       "      <td>9200</td>\n",
       "      <td>2008.0</td>\n",
       "      <td>honda pilot</td>\n",
       "      <td>excellent</td>\n",
       "      <td>6.0</td>\n",
       "      <td>gas</td>\n",
       "      <td>147191.0</td>\n",
       "      <td>automatic</td>\n",
       "      <td>SUV</td>\n",
       "      <td>blue</td>\n",
       "      <td>1.0</td>\n",
       "      <td>2019-02-15</td>\n",
       "      <td>17</td>\n",
       "      <td>True</td>\n",
       "      <td>Friday</td>\n",
       "      <td>February</td>\n",
       "      <td>2019</td>\n",
       "      <td>11.0</td>\n",
       "      <td>13381.000000</td>\n",
       "      <td>3</td>\n",
       "    </tr>\n",
       "  </tbody>\n",
       "</table>\n",
       "</div>"
      ],
      "text/plain": [
       "   price  model_year           model  condition  cylinders fuel  odometer  \\\n",
       "0   9400      2011.0          bmw x5       good        6.0  gas  145000.0   \n",
       "1  25500      2008.0      ford f-150       good        6.0  gas   88705.0   \n",
       "2   5500      2013.0  hyundai sonata   like new        4.0  gas  110000.0   \n",
       "3   1500      2003.0      ford f-150       fair        8.0  gas  188000.0   \n",
       "4  14900      2017.0    chrysler 200  excellent        4.0  gas   80903.0   \n",
       "5  14990      2014.0    chrysler 300  excellent        6.0  gas   57954.0   \n",
       "6  12990      2015.0    toyota camry  excellent        4.0  gas   79212.0   \n",
       "7  15990      2013.0     honda pilot  excellent        6.0  gas  109473.0   \n",
       "8  11500      2012.0     kia sorento  excellent        4.0  gas  104174.0   \n",
       "9   9200      2008.0     honda pilot  excellent        6.0  gas  147191.0   \n",
       "\n",
       "  transmission    type paint_color  is_4wd date_posted  days_listed  has_4wd  \\\n",
       "0    automatic     SUV         NaN     1.0  2018-06-23           19     True   \n",
       "1    automatic  pickup       white     1.0  2018-10-19           50     True   \n",
       "2    automatic   sedan         red     0.0  2019-02-07           79    False   \n",
       "3    automatic  pickup         NaN     0.0  2019-03-22            9    False   \n",
       "4    automatic   sedan       black     0.0  2019-04-02           28    False   \n",
       "5    automatic   sedan       black     1.0  2018-06-20           15     True   \n",
       "6    automatic   sedan       white     0.0  2018-12-27           73    False   \n",
       "7    automatic     SUV       black     1.0  2019-01-07           68     True   \n",
       "8    automatic     SUV         NaN     1.0  2018-07-16           19     True   \n",
       "9    automatic     SUV        blue     1.0  2019-02-15           17     True   \n",
       "\n",
       "      ad_day  ad_month  ad_year  car_age  avg_year_mile  update_condition  \n",
       "0   Saturday      June     2018      7.0   20714.285714                 2  \n",
       "1     Friday   October     2018     10.0    8870.500000                 2  \n",
       "2   Thursday  February     2019      6.0   18333.333333                 4  \n",
       "3     Friday     March     2019     16.0   11750.000000                 1  \n",
       "4    Tuesday     April     2019      2.0   40451.500000                 3  \n",
       "5  Wednesday      June     2018      4.0   14488.500000                 3  \n",
       "6   Thursday  December     2018      3.0   26404.000000                 3  \n",
       "7     Monday   January     2019      6.0   18245.500000                 3  \n",
       "8     Monday      July     2018      6.0   17362.333333                 3  \n",
       "9     Friday  February     2019     11.0   13381.000000                 3  "
      ]
     },
     "execution_count": 29,
     "metadata": {},
     "output_type": "execute_result"
    }
   ],
   "source": [
    "# A sample of our data\n",
    "\n",
    "car.head(10)"
   ]
  },
  {
   "cell_type": "markdown",
   "metadata": {},
   "source": [
    "All missing values have been filled accordingly, except for 'paint_color' as we decided that deleting all of the NaN (18%) might impact our data. Datatype have been changed to the appropriate ones.\n",
    "\n",
    "New columns have been added to clarity and easy accessibility:\n",
    "\n",
    "Separate columns for days, months, and years. Average mileage per year and the age of the car have been calculated.\n",
    "\n",
    "Finally, conditions have been assigned with corresponding numbers."
   ]
  },
  {
   "cell_type": "markdown",
   "metadata": {},
   "source": [
    "# Exploratory Data Analysis"
   ]
  },
  {
   "cell_type": "markdown",
   "metadata": {},
   "source": [
    "## Study core parameters\n",
    "\n",
    "We would like to study the below parameters, we will check for the presence of outliers. \n",
    "\n",
    "The parameters are\n",
    "- Price\n",
    "- The vehicle's age when the ad was placed\n",
    "- Mileage\n",
    "- Number of cylinders\n",
    "- Condition"
   ]
  },
  {
   "cell_type": "markdown",
   "metadata": {},
   "source": [
    "First we will look at all of the parameters at once to get an idea, then we will proceed with individual histogram."
   ]
  },
  {
   "cell_type": "code",
   "execution_count": 30,
   "metadata": {
    "scrolled": false
   },
   "outputs": [
    {
     "data": {
      "image/png": "[encoded data removed]",
      "text/plain": [
       "<Figure size 864x864 with 6 Axes>"
      ]
     },
     "metadata": {
      "needs_background": "light"
     },
     "output_type": "display_data"
    }
   ],
   "source": [
    "#Initial plotting of indicated parameters.\n",
    "\n",
    "car.hist(column = ['price', 'car_age','odometer','cylinders','update_condition'], figsize = (12,12))\n",
    "plt.show()"
   ]
  },
  {
   "cell_type": "markdown",
   "metadata": {},
   "source": [
    "We have gathered the basic information of all of the parameters. It is hard to see the details with default conditions, so we will adjust the histogram one by one with different conditions. "
   ]
  },
  {
   "cell_type": "code",
   "execution_count": 31,
   "metadata": {},
   "outputs": [
    {
     "data": {
      "text/html": [
       "<div>\n",
       "<style scoped>\n",
       "    .dataframe tbody tr th:only-of-type {\n",
       "        vertical-align: middle;\n",
       "    }\n",
       "\n",
       "    .dataframe tbody tr th {\n",
       "        vertical-align: top;\n",
       "    }\n",
       "\n",
       "    .dataframe thead th {\n",
       "        text-align: right;\n",
       "    }\n",
       "</style>\n",
       "<table border=\"1\" class=\"dataframe\">\n",
       "  <thead>\n",
       "    <tr style=\"text-align: right;\">\n",
       "      <th></th>\n",
       "      <th>price</th>\n",
       "      <th>model_year</th>\n",
       "      <th>cylinders</th>\n",
       "      <th>odometer</th>\n",
       "      <th>is_4wd</th>\n",
       "      <th>days_listed</th>\n",
       "      <th>ad_year</th>\n",
       "      <th>car_age</th>\n",
       "      <th>avg_year_mile</th>\n",
       "      <th>update_condition</th>\n",
       "    </tr>\n",
       "  </thead>\n",
       "  <tbody>\n",
       "    <tr>\n",
       "      <th>count</th>\n",
       "      <td>51525.000000</td>\n",
       "      <td>51525.000000</td>\n",
       "      <td>51525.000000</td>\n",
       "      <td>51525.000000</td>\n",
       "      <td>51525.000000</td>\n",
       "      <td>51525.00000</td>\n",
       "      <td>51525.000000</td>\n",
       "      <td>51525.000000</td>\n",
       "      <td>5.152300e+04</td>\n",
       "      <td>51525.000000</td>\n",
       "    </tr>\n",
       "    <tr>\n",
       "      <th>mean</th>\n",
       "      <td>12132.464920</td>\n",
       "      <td>2009.786240</td>\n",
       "      <td>6.119893</td>\n",
       "      <td>115215.748947</td>\n",
       "      <td>0.496303</td>\n",
       "      <td>39.55476</td>\n",
       "      <td>2018.307462</td>\n",
       "      <td>8.521223</td>\n",
       "      <td>inf</td>\n",
       "      <td>2.637535</td>\n",
       "    </tr>\n",
       "    <tr>\n",
       "      <th>std</th>\n",
       "      <td>10040.803015</td>\n",
       "      <td>6.129553</td>\n",
       "      <td>1.657107</td>\n",
       "      <td>62224.032004</td>\n",
       "      <td>0.499991</td>\n",
       "      <td>28.20427</td>\n",
       "      <td>0.461447</td>\n",
       "      <td>6.143264</td>\n",
       "      <td>NaN</td>\n",
       "      <td>0.712447</td>\n",
       "    </tr>\n",
       "    <tr>\n",
       "      <th>min</th>\n",
       "      <td>1.000000</td>\n",
       "      <td>1908.000000</td>\n",
       "      <td>3.000000</td>\n",
       "      <td>0.000000</td>\n",
       "      <td>0.000000</td>\n",
       "      <td>0.00000</td>\n",
       "      <td>2018.000000</td>\n",
       "      <td>0.000000</td>\n",
       "      <td>0.000000e+00</td>\n",
       "      <td>0.000000</td>\n",
       "    </tr>\n",
       "    <tr>\n",
       "      <th>25%</th>\n",
       "      <td>5000.000000</td>\n",
       "      <td>2006.000000</td>\n",
       "      <td>4.000000</td>\n",
       "      <td>73036.000000</td>\n",
       "      <td>0.000000</td>\n",
       "      <td>19.00000</td>\n",
       "      <td>2018.000000</td>\n",
       "      <td>4.000000</td>\n",
       "      <td>1.107692e+04</td>\n",
       "      <td>2.000000</td>\n",
       "    </tr>\n",
       "    <tr>\n",
       "      <th>50%</th>\n",
       "      <td>9000.000000</td>\n",
       "      <td>2011.000000</td>\n",
       "      <td>6.000000</td>\n",
       "      <td>114671.000000</td>\n",
       "      <td>0.000000</td>\n",
       "      <td>33.00000</td>\n",
       "      <td>2018.000000</td>\n",
       "      <td>7.000000</td>\n",
       "      <td>1.551193e+04</td>\n",
       "      <td>3.000000</td>\n",
       "    </tr>\n",
       "    <tr>\n",
       "      <th>75%</th>\n",
       "      <td>16839.000000</td>\n",
       "      <td>2014.000000</td>\n",
       "      <td>8.000000</td>\n",
       "      <td>152381.000000</td>\n",
       "      <td>1.000000</td>\n",
       "      <td>53.00000</td>\n",
       "      <td>2019.000000</td>\n",
       "      <td>12.000000</td>\n",
       "      <td>2.225000e+04</td>\n",
       "      <td>3.000000</td>\n",
       "    </tr>\n",
       "    <tr>\n",
       "      <th>max</th>\n",
       "      <td>375000.000000</td>\n",
       "      <td>2019.000000</td>\n",
       "      <td>12.000000</td>\n",
       "      <td>990000.000000</td>\n",
       "      <td>1.000000</td>\n",
       "      <td>271.00000</td>\n",
       "      <td>2019.000000</td>\n",
       "      <td>110.000000</td>\n",
       "      <td>inf</td>\n",
       "      <td>5.000000</td>\n",
       "    </tr>\n",
       "  </tbody>\n",
       "</table>\n",
       "</div>"
      ],
      "text/plain": [
       "               price    model_year     cylinders       odometer        is_4wd  \\\n",
       "count   51525.000000  51525.000000  51525.000000   51525.000000  51525.000000   \n",
       "mean    12132.464920   2009.786240      6.119893  115215.748947      0.496303   \n",
       "std     10040.803015      6.129553      1.657107   62224.032004      0.499991   \n",
       "min         1.000000   1908.000000      3.000000       0.000000      0.000000   \n",
       "25%      5000.000000   2006.000000      4.000000   73036.000000      0.000000   \n",
       "50%      9000.000000   2011.000000      6.000000  114671.000000      0.000000   \n",
       "75%     16839.000000   2014.000000      8.000000  152381.000000      1.000000   \n",
       "max    375000.000000   2019.000000     12.000000  990000.000000      1.000000   \n",
       "\n",
       "       days_listed       ad_year       car_age  avg_year_mile  \\\n",
       "count  51525.00000  51525.000000  51525.000000   5.152300e+04   \n",
       "mean      39.55476   2018.307462      8.521223            inf   \n",
       "std       28.20427      0.461447      6.143264            NaN   \n",
       "min        0.00000   2018.000000      0.000000   0.000000e+00   \n",
       "25%       19.00000   2018.000000      4.000000   1.107692e+04   \n",
       "50%       33.00000   2018.000000      7.000000   1.551193e+04   \n",
       "75%       53.00000   2019.000000     12.000000   2.225000e+04   \n",
       "max      271.00000   2019.000000    110.000000            inf   \n",
       "\n",
       "       update_condition  \n",
       "count      51525.000000  \n",
       "mean           2.637535  \n",
       "std            0.712447  \n",
       "min            0.000000  \n",
       "25%            2.000000  \n",
       "50%            3.000000  \n",
       "75%            3.000000  \n",
       "max            5.000000  "
      ]
     },
     "execution_count": 31,
     "metadata": {},
     "output_type": "execute_result"
    }
   ],
   "source": [
    "car.describe()"
   ]
  },
  {
   "cell_type": "markdown",
   "metadata": {},
   "source": [
    "**price**"
   ]
  },
  {
   "cell_type": "code",
   "execution_count": 32,
   "metadata": {},
   "outputs": [
    {
     "data": {
      "image/png": "[encoded data removed]",
      "text/plain": [
       "<Figure size 432x288 with 1 Axes>"
      ]
     },
     "metadata": {
      "needs_background": "light"
     },
     "output_type": "display_data"
    }
   ],
   "source": [
    "#histogram for 'price'\n",
    "\n",
    "car['price'].hist(bins = 50, range = (0,70000))\n",
    "plt.title('price')\n",
    "plt.show()\n"
   ]
  },
  {
   "cell_type": "markdown",
   "metadata": {},
   "source": [
    "After setting conditions, the histogram for price showed a peak at arond 4000-6000, and there is a steady decrease, a few smaller peaks appeared at 18000 and 240000. The tail starts at around 400000. \n",
    "\n"
   ]
  },
  {
   "cell_type": "markdown",
   "metadata": {},
   "source": [
    "**car_age**"
   ]
  },
  {
   "cell_type": "code",
   "execution_count": 33,
   "metadata": {
    "scrolled": true
   },
   "outputs": [
    {
     "data": {
      "image/png": "[encoded data removed]",
      "text/plain": [
       "<Figure size 432x288 with 1 Axes>"
      ]
     },
     "metadata": {
      "needs_background": "light"
     },
     "output_type": "display_data"
    }
   ],
   "source": [
    "#histogram for car_age\n",
    "\n",
    "car['car_age'].hist(bins = 50, range = (0,60))\n",
    "plt.title('car_age')\n",
    "plt.show()\n",
    "\n"
   ]
  },
  {
   "cell_type": "markdown",
   "metadata": {},
   "source": [
    "The histogram for car_age shows a peak at around 0 year (possible a new car), 8 years, and 12 years. The tail starts at around 30 years."
   ]
  },
  {
   "cell_type": "markdown",
   "metadata": {},
   "source": [
    "**odometer**"
   ]
  },
  {
   "cell_type": "code",
   "execution_count": 34,
   "metadata": {},
   "outputs": [
    {
     "data": {
      "image/png": "[encoded data removed]",
      "text/plain": [
       "<Figure size 432x288 with 1 Axes>"
      ]
     },
     "metadata": {
      "needs_background": "light"
     },
     "output_type": "display_data"
    }
   ],
   "source": [
    "#histogram for 'odometer'\n",
    "\n",
    "car['odometer'].hist(bins = 50, range = (0,400000))\n",
    "plt.title('odometer')\n",
    "plt.show()\n"
   ]
  },
  {
   "cell_type": "markdown",
   "metadata": {},
   "source": [
    "The histogram for odometer showed a peak at around 130000 miles. And the tail starts at around 300000 miles."
   ]
  },
  {
   "cell_type": "markdown",
   "metadata": {},
   "source": [
    "**cylinders**"
   ]
  },
  {
   "cell_type": "code",
   "execution_count": 35,
   "metadata": {},
   "outputs": [
    {
     "data": {
      "image/png": "[encoded data removed]",
      "text/plain": [
       "<Figure size 432x288 with 1 Axes>"
      ]
     },
     "metadata": {
      "needs_background": "light"
     },
     "output_type": "display_data"
    }
   ],
   "source": [
    "#histogram for the number of cylinders\n",
    "\n",
    "car['cylinders'].hist(bins = 5)\n",
    "plt.title('cylinders')\n",
    "plt.show()\n",
    "\n",
    "\n"
   ]
  },
  {
   "cell_type": "markdown",
   "metadata": {},
   "source": [
    "The cylinders looks okay, no obvious outliers."
   ]
  },
  {
   "cell_type": "markdown",
   "metadata": {},
   "source": [
    "**update_conditions**"
   ]
  },
  {
   "cell_type": "code",
   "execution_count": 36,
   "metadata": {},
   "outputs": [
    {
     "data": {
      "image/png": "[encoded data removed]",
      "text/plain": [
       "<Figure size 432x288 with 1 Axes>"
      ]
     },
     "metadata": {
      "needs_background": "light"
     },
     "output_type": "display_data"
    }
   ],
   "source": [
    "#histogram for the update-conditions\n",
    "\n",
    "car['update_condition'].hist(bins = 6, range = (0,6))\n",
    "plt.title('condition')\n",
    "plt.show()\n",
    "\n",
    "\n"
   ]
  },
  {
   "cell_type": "markdown",
   "metadata": {},
   "source": [
    "The update conditions also look fine, no real outliers based on the histogram."
   ]
  },
  {
   "cell_type": "markdown",
   "metadata": {},
   "source": [
    "## Study and treat outliers\n",
    "\n",
    "Given the results above, we have determined that 'price', 'car_age' and 'odometer' likely contain outliers, so we will maunaly check by setting upper and lower limits for those columns."
   ]
  },
  {
   "cell_type": "code",
   "execution_count": 37,
   "metadata": {},
   "outputs": [
    {
     "name": "stdout",
     "output_type": "stream",
     "text": [
      "-12758.5\n",
      "34597.5\n"
     ]
    }
   ],
   "source": [
    "# upper and lower limit for car price\n",
    "\n",
    "price_q1 = car['price'].quantile(0.25)\n",
    "price_q3 = car['price'].quantile(0.75)\n",
    "price_iqr = price_q3-price_q1\n",
    "price_lower_limit = price_q1 - 1.5*price_iqr\n",
    "price_upper_limit = price_q3 + 1.5*price_iqr\n",
    "print(price_lower_limit)\n",
    "print(price_upper_limit)\n"
   ]
  },
  {
   "cell_type": "code",
   "execution_count": 38,
   "metadata": {},
   "outputs": [
    {
     "name": "stdout",
     "output_type": "stream",
     "text": [
      "-8.0\n",
      "24.0\n"
     ]
    }
   ],
   "source": [
    "#car_age upper and lower limits\n",
    "\n",
    "age_q1 = car['car_age'].quantile(0.25)\n",
    "age_q3 = car['car_age'].quantile(0.75)\n",
    "age_iqr = age_q3 - age_q1\n",
    "age_lower = age_q1 - age_iqr*1.5\n",
    "age_upper = age_q3 + age_iqr*1.5\n",
    "\n",
    "print(age_lower)\n",
    "print(age_upper)"
   ]
  },
  {
   "cell_type": "code",
   "execution_count": 39,
   "metadata": {
    "scrolled": true
   },
   "outputs": [
    {
     "name": "stdout",
     "output_type": "stream",
     "text": [
      "-45981.5\n",
      "271398.5\n"
     ]
    }
   ],
   "source": [
    "# odometer upper and lower limits\n",
    "\n",
    "\n",
    "odo_q1 = car['odometer'].quantile(0.25)\n",
    "odo_q3 = car['odometer'].quantile(0.75)\n",
    "odo_iqr = odo_q3 - odo_q1\n",
    "odo_lower = odo_q1 - odo_iqr*1.5\n",
    "odo_upper = odo_q3 + odo_iqr*1.5\n",
    "\n",
    "print(odo_lower)\n",
    "print(odo_upper)\n"
   ]
  },
  {
   "cell_type": "markdown",
   "metadata": {},
   "source": [
    "Since we have determined that there are no real outliers in 'update_condition' and 'cylinders'. We will proceed with the above limits. "
   ]
  },
  {
   "cell_type": "code",
   "execution_count": 40,
   "metadata": {
    "scrolled": false
   },
   "outputs": [
    {
     "name": "stdout",
     "output_type": "stream",
     "text": [
      "<class 'pandas.core.frame.DataFrame'>\n",
      "Int64Index: 48634 entries, 0 to 51524\n",
      "Data columns (total 20 columns):\n",
      " #   Column            Non-Null Count  Dtype         \n",
      "---  ------            --------------  -----         \n",
      " 0   price             48634 non-null  int64         \n",
      " 1   model_year        48634 non-null  float64       \n",
      " 2   model             48634 non-null  object        \n",
      " 3   condition         48634 non-null  object        \n",
      " 4   cylinders         48634 non-null  float64       \n",
      " 5   fuel              48634 non-null  object        \n",
      " 6   odometer          48634 non-null  float64       \n",
      " 7   transmission      48634 non-null  object        \n",
      " 8   type              48634 non-null  object        \n",
      " 9   paint_color       39878 non-null  object        \n",
      " 10  is_4wd            48634 non-null  float64       \n",
      " 11  date_posted       48634 non-null  datetime64[ns]\n",
      " 12  days_listed       48634 non-null  int64         \n",
      " 13  has_4wd           48634 non-null  bool          \n",
      " 14  ad_day            48634 non-null  object        \n",
      " 15  ad_month          48634 non-null  object        \n",
      " 16  ad_year           48634 non-null  int64         \n",
      " 17  car_age           48634 non-null  float64       \n",
      " 18  avg_year_mile     48633 non-null  float64       \n",
      " 19  update_condition  48634 non-null  int64         \n",
      "dtypes: bool(1), datetime64[ns](1), float64(6), int64(4), object(8)\n",
      "memory usage: 7.5+ MB\n"
     ]
    },
    {
     "data": {
      "text/html": [
       "<div>\n",
       "<style scoped>\n",
       "    .dataframe tbody tr th:only-of-type {\n",
       "        vertical-align: middle;\n",
       "    }\n",
       "\n",
       "    .dataframe tbody tr th {\n",
       "        vertical-align: top;\n",
       "    }\n",
       "\n",
       "    .dataframe thead th {\n",
       "        text-align: right;\n",
       "    }\n",
       "</style>\n",
       "<table border=\"1\" class=\"dataframe\">\n",
       "  <thead>\n",
       "    <tr style=\"text-align: right;\">\n",
       "      <th></th>\n",
       "      <th>price</th>\n",
       "      <th>model_year</th>\n",
       "      <th>model</th>\n",
       "      <th>condition</th>\n",
       "      <th>cylinders</th>\n",
       "      <th>fuel</th>\n",
       "      <th>odometer</th>\n",
       "      <th>transmission</th>\n",
       "      <th>type</th>\n",
       "      <th>paint_color</th>\n",
       "      <th>is_4wd</th>\n",
       "      <th>date_posted</th>\n",
       "      <th>days_listed</th>\n",
       "      <th>has_4wd</th>\n",
       "      <th>ad_day</th>\n",
       "      <th>ad_month</th>\n",
       "      <th>ad_year</th>\n",
       "      <th>car_age</th>\n",
       "      <th>avg_year_mile</th>\n",
       "      <th>update_condition</th>\n",
       "    </tr>\n",
       "  </thead>\n",
       "  <tbody>\n",
       "    <tr>\n",
       "      <th>0</th>\n",
       "      <td>9400</td>\n",
       "      <td>2011.0</td>\n",
       "      <td>bmw x5</td>\n",
       "      <td>good</td>\n",
       "      <td>6.0</td>\n",
       "      <td>gas</td>\n",
       "      <td>145000.0</td>\n",
       "      <td>automatic</td>\n",
       "      <td>SUV</td>\n",
       "      <td>NaN</td>\n",
       "      <td>1.0</td>\n",
       "      <td>2018-06-23</td>\n",
       "      <td>19</td>\n",
       "      <td>True</td>\n",
       "      <td>Saturday</td>\n",
       "      <td>June</td>\n",
       "      <td>2018</td>\n",
       "      <td>7.0</td>\n",
       "      <td>20714.285714</td>\n",
       "      <td>2</td>\n",
       "    </tr>\n",
       "    <tr>\n",
       "      <th>1</th>\n",
       "      <td>25500</td>\n",
       "      <td>2008.0</td>\n",
       "      <td>ford f-150</td>\n",
       "      <td>good</td>\n",
       "      <td>6.0</td>\n",
       "      <td>gas</td>\n",
       "      <td>88705.0</td>\n",
       "      <td>automatic</td>\n",
       "      <td>pickup</td>\n",
       "      <td>white</td>\n",
       "      <td>1.0</td>\n",
       "      <td>2018-10-19</td>\n",
       "      <td>50</td>\n",
       "      <td>True</td>\n",
       "      <td>Friday</td>\n",
       "      <td>October</td>\n",
       "      <td>2018</td>\n",
       "      <td>10.0</td>\n",
       "      <td>8870.500000</td>\n",
       "      <td>2</td>\n",
       "    </tr>\n",
       "    <tr>\n",
       "      <th>2</th>\n",
       "      <td>5500</td>\n",
       "      <td>2013.0</td>\n",
       "      <td>hyundai sonata</td>\n",
       "      <td>like new</td>\n",
       "      <td>4.0</td>\n",
       "      <td>gas</td>\n",
       "      <td>110000.0</td>\n",
       "      <td>automatic</td>\n",
       "      <td>sedan</td>\n",
       "      <td>red</td>\n",
       "      <td>0.0</td>\n",
       "      <td>2019-02-07</td>\n",
       "      <td>79</td>\n",
       "      <td>False</td>\n",
       "      <td>Thursday</td>\n",
       "      <td>February</td>\n",
       "      <td>2019</td>\n",
       "      <td>6.0</td>\n",
       "      <td>18333.333333</td>\n",
       "      <td>4</td>\n",
       "    </tr>\n",
       "    <tr>\n",
       "      <th>3</th>\n",
       "      <td>1500</td>\n",
       "      <td>2003.0</td>\n",
       "      <td>ford f-150</td>\n",
       "      <td>fair</td>\n",
       "      <td>8.0</td>\n",
       "      <td>gas</td>\n",
       "      <td>188000.0</td>\n",
       "      <td>automatic</td>\n",
       "      <td>pickup</td>\n",
       "      <td>NaN</td>\n",
       "      <td>0.0</td>\n",
       "      <td>2019-03-22</td>\n",
       "      <td>9</td>\n",
       "      <td>False</td>\n",
       "      <td>Friday</td>\n",
       "      <td>March</td>\n",
       "      <td>2019</td>\n",
       "      <td>16.0</td>\n",
       "      <td>11750.000000</td>\n",
       "      <td>1</td>\n",
       "    </tr>\n",
       "    <tr>\n",
       "      <th>4</th>\n",
       "      <td>14900</td>\n",
       "      <td>2017.0</td>\n",
       "      <td>chrysler 200</td>\n",
       "      <td>excellent</td>\n",
       "      <td>4.0</td>\n",
       "      <td>gas</td>\n",
       "      <td>80903.0</td>\n",
       "      <td>automatic</td>\n",
       "      <td>sedan</td>\n",
       "      <td>black</td>\n",
       "      <td>0.0</td>\n",
       "      <td>2019-04-02</td>\n",
       "      <td>28</td>\n",
       "      <td>False</td>\n",
       "      <td>Tuesday</td>\n",
       "      <td>April</td>\n",
       "      <td>2019</td>\n",
       "      <td>2.0</td>\n",
       "      <td>40451.500000</td>\n",
       "      <td>3</td>\n",
       "    </tr>\n",
       "    <tr>\n",
       "      <th>5</th>\n",
       "      <td>14990</td>\n",
       "      <td>2014.0</td>\n",
       "      <td>chrysler 300</td>\n",
       "      <td>excellent</td>\n",
       "      <td>6.0</td>\n",
       "      <td>gas</td>\n",
       "      <td>57954.0</td>\n",
       "      <td>automatic</td>\n",
       "      <td>sedan</td>\n",
       "      <td>black</td>\n",
       "      <td>1.0</td>\n",
       "      <td>2018-06-20</td>\n",
       "      <td>15</td>\n",
       "      <td>True</td>\n",
       "      <td>Wednesday</td>\n",
       "      <td>June</td>\n",
       "      <td>2018</td>\n",
       "      <td>4.0</td>\n",
       "      <td>14488.500000</td>\n",
       "      <td>3</td>\n",
       "    </tr>\n",
       "    <tr>\n",
       "      <th>6</th>\n",
       "      <td>12990</td>\n",
       "      <td>2015.0</td>\n",
       "      <td>toyota camry</td>\n",
       "      <td>excellent</td>\n",
       "      <td>4.0</td>\n",
       "      <td>gas</td>\n",
       "      <td>79212.0</td>\n",
       "      <td>automatic</td>\n",
       "      <td>sedan</td>\n",
       "      <td>white</td>\n",
       "      <td>0.0</td>\n",
       "      <td>2018-12-27</td>\n",
       "      <td>73</td>\n",
       "      <td>False</td>\n",
       "      <td>Thursday</td>\n",
       "      <td>December</td>\n",
       "      <td>2018</td>\n",
       "      <td>3.0</td>\n",
       "      <td>26404.000000</td>\n",
       "      <td>3</td>\n",
       "    </tr>\n",
       "    <tr>\n",
       "      <th>7</th>\n",
       "      <td>15990</td>\n",
       "      <td>2013.0</td>\n",
       "      <td>honda pilot</td>\n",
       "      <td>excellent</td>\n",
       "      <td>6.0</td>\n",
       "      <td>gas</td>\n",
       "      <td>109473.0</td>\n",
       "      <td>automatic</td>\n",
       "      <td>SUV</td>\n",
       "      <td>black</td>\n",
       "      <td>1.0</td>\n",
       "      <td>2019-01-07</td>\n",
       "      <td>68</td>\n",
       "      <td>True</td>\n",
       "      <td>Monday</td>\n",
       "      <td>January</td>\n",
       "      <td>2019</td>\n",
       "      <td>6.0</td>\n",
       "      <td>18245.500000</td>\n",
       "      <td>3</td>\n",
       "    </tr>\n",
       "    <tr>\n",
       "      <th>8</th>\n",
       "      <td>11500</td>\n",
       "      <td>2012.0</td>\n",
       "      <td>kia sorento</td>\n",
       "      <td>excellent</td>\n",
       "      <td>4.0</td>\n",
       "      <td>gas</td>\n",
       "      <td>104174.0</td>\n",
       "      <td>automatic</td>\n",
       "      <td>SUV</td>\n",
       "      <td>NaN</td>\n",
       "      <td>1.0</td>\n",
       "      <td>2018-07-16</td>\n",
       "      <td>19</td>\n",
       "      <td>True</td>\n",
       "      <td>Monday</td>\n",
       "      <td>July</td>\n",
       "      <td>2018</td>\n",
       "      <td>6.0</td>\n",
       "      <td>17362.333333</td>\n",
       "      <td>3</td>\n",
       "    </tr>\n",
       "    <tr>\n",
       "      <th>9</th>\n",
       "      <td>9200</td>\n",
       "      <td>2008.0</td>\n",
       "      <td>honda pilot</td>\n",
       "      <td>excellent</td>\n",
       "      <td>6.0</td>\n",
       "      <td>gas</td>\n",
       "      <td>147191.0</td>\n",
       "      <td>automatic</td>\n",
       "      <td>SUV</td>\n",
       "      <td>blue</td>\n",
       "      <td>1.0</td>\n",
       "      <td>2019-02-15</td>\n",
       "      <td>17</td>\n",
       "      <td>True</td>\n",
       "      <td>Friday</td>\n",
       "      <td>February</td>\n",
       "      <td>2019</td>\n",
       "      <td>11.0</td>\n",
       "      <td>13381.000000</td>\n",
       "      <td>3</td>\n",
       "    </tr>\n",
       "  </tbody>\n",
       "</table>\n",
       "</div>"
      ],
      "text/plain": [
       "   price  model_year           model  condition  cylinders fuel  odometer  \\\n",
       "0   9400      2011.0          bmw x5       good        6.0  gas  145000.0   \n",
       "1  25500      2008.0      ford f-150       good        6.0  gas   88705.0   \n",
       "2   5500      2013.0  hyundai sonata   like new        4.0  gas  110000.0   \n",
       "3   1500      2003.0      ford f-150       fair        8.0  gas  188000.0   \n",
       "4  14900      2017.0    chrysler 200  excellent        4.0  gas   80903.0   \n",
       "5  14990      2014.0    chrysler 300  excellent        6.0  gas   57954.0   \n",
       "6  12990      2015.0    toyota camry  excellent        4.0  gas   79212.0   \n",
       "7  15990      2013.0     honda pilot  excellent        6.0  gas  109473.0   \n",
       "8  11500      2012.0     kia sorento  excellent        4.0  gas  104174.0   \n",
       "9   9200      2008.0     honda pilot  excellent        6.0  gas  147191.0   \n",
       "\n",
       "  transmission    type paint_color  is_4wd date_posted  days_listed  has_4wd  \\\n",
       "0    automatic     SUV         NaN     1.0  2018-06-23           19     True   \n",
       "1    automatic  pickup       white     1.0  2018-10-19           50     True   \n",
       "2    automatic   sedan         red     0.0  2019-02-07           79    False   \n",
       "3    automatic  pickup         NaN     0.0  2019-03-22            9    False   \n",
       "4    automatic   sedan       black     0.0  2019-04-02           28    False   \n",
       "5    automatic   sedan       black     1.0  2018-06-20           15     True   \n",
       "6    automatic   sedan       white     0.0  2018-12-27           73    False   \n",
       "7    automatic     SUV       black     1.0  2019-01-07           68     True   \n",
       "8    automatic     SUV         NaN     1.0  2018-07-16           19     True   \n",
       "9    automatic     SUV        blue     1.0  2019-02-15           17     True   \n",
       "\n",
       "      ad_day  ad_month  ad_year  car_age  avg_year_mile  update_condition  \n",
       "0   Saturday      June     2018      7.0   20714.285714                 2  \n",
       "1     Friday   October     2018     10.0    8870.500000                 2  \n",
       "2   Thursday  February     2019      6.0   18333.333333                 4  \n",
       "3     Friday     March     2019     16.0   11750.000000                 1  \n",
       "4    Tuesday     April     2019      2.0   40451.500000                 3  \n",
       "5  Wednesday      June     2018      4.0   14488.500000                 3  \n",
       "6   Thursday  December     2018      3.0   26404.000000                 3  \n",
       "7     Monday   January     2019      6.0   18245.500000                 3  \n",
       "8     Monday      July     2018      6.0   17362.333333                 3  \n",
       "9     Friday  February     2019     11.0   13381.000000                 3  "
      ]
     },
     "execution_count": 40,
     "metadata": {},
     "output_type": "execute_result"
    }
   ],
   "source": [
    "# Store data without outliers in a separate DataFrame\n",
    "\n",
    "#creating slice based on conditions\n",
    "filtered_car = car.query('price < 35000 & car_age < 24 & odometer < 275000')\n",
    "\n",
    "#checking new dataframe\n",
    "filtered_car.info()\n",
    "filtered_car.head(10)"
   ]
  },
  {
   "cell_type": "markdown",
   "metadata": {},
   "source": [
    "After filtering the three columns with the determined limits, we now have 48634 rows left. "
   ]
  },
  {
   "cell_type": "markdown",
   "metadata": {},
   "source": [
    "## Study core parameters without outliers"
   ]
  },
  {
   "cell_type": "markdown",
   "metadata": {},
   "source": [
    "We will now plot the new columns without outliers. "
   ]
  },
  {
   "cell_type": "code",
   "execution_count": 41,
   "metadata": {},
   "outputs": [
    {
     "data": {
      "image/png": "[encoded data removed]",
      "text/plain": [
       "<Figure size 432x288 with 1 Axes>"
      ]
     },
     "metadata": {
      "needs_background": "light"
     },
     "output_type": "display_data"
    },
    {
     "data": {
      "image/png": "[encoded data removed]",
      "text/plain": [
       "<Figure size 432x288 with 1 Axes>"
      ]
     },
     "metadata": {
      "needs_background": "light"
     },
     "output_type": "display_data"
    },
    {
     "data": {
      "image/png": "[encoded data removed]",
      "text/plain": [
       "<Figure size 432x288 with 1 Axes>"
      ]
     },
     "metadata": {
      "needs_background": "light"
     },
     "output_type": "display_data"
    },
    {
     "data": {
      "image/png": "[encoded data removed]",
      "text/plain": [
       "<Figure size 432x288 with 1 Axes>"
      ]
     },
     "metadata": {
      "needs_background": "light"
     },
     "output_type": "display_data"
    },
    {
     "data": {
      "image/png": "[encoded data removed]",
      "text/plain": [
       "<Figure size 432x288 with 1 Axes>"
      ]
     },
     "metadata": {
      "needs_background": "light"
     },
     "output_type": "display_data"
    }
   ],
   "source": [
    "filtered_car['price'].hist(bins = 30, range = (0,40000))\n",
    "plt.title('price')\n",
    "plt.show()\n",
    "\n",
    "filtered_car['car_age'].hist(bins = 30, range = (0,30))\n",
    "plt.title('car_age')\n",
    "plt.show()\n",
    "\n",
    "filtered_car['odometer'].hist(bins = 50, range = (0,300000))\n",
    "plt.title('odometer')\n",
    "plt.show()\n",
    "\n",
    "filtered_car['cylinders'].hist(bins = 5, range = (2, 12))\n",
    "plt.title('cylinders')\n",
    "plt.show()\n",
    "\n",
    "filtered_car['update_condition'].hist(bins = 6, range = (0,6))\n",
    "plt.title('condition')\n",
    "plt.show()"
   ]
  },
  {
   "cell_type": "markdown",
   "metadata": {},
   "source": [
    "The car price still peaks at 4000-6000, while there are various smaller peaks at 12000, 19000, and 23000. \n",
    "\n",
    "The car age histogram showed a peak at 6, and a smaller peak at 11. the big peak observed at 7 years in the original is now smaller. \n",
    "\n",
    "The new odometer histogram now look more evenly distributed. Peaking at around 900000 and 1350000. \n",
    "\n",
    "The main difference between the filtered data and original is that tails are gone, and they look more evenly distributed. "
   ]
  },
  {
   "cell_type": "markdown",
   "metadata": {},
   "source": [
    "## Ads lifetime\n",
    "\n",
    "We will look at **'days_listed'** for more information on how long a typical ad stays on the website."
   ]
  },
  {
   "cell_type": "code",
   "execution_count": 42,
   "metadata": {},
   "outputs": [
    {
     "data": {
      "text/plain": [
       "count    48634.000000\n",
       "mean        39.538142\n",
       "std         28.197552\n",
       "min          0.000000\n",
       "25%         19.000000\n",
       "50%         33.000000\n",
       "75%         53.000000\n",
       "max        271.000000\n",
       "Name: days_listed, dtype: float64"
      ]
     },
     "execution_count": 42,
     "metadata": {},
     "output_type": "execute_result"
    }
   ],
   "source": [
    "#general information about this column\n",
    "\n",
    "filtered_car['days_listed'].describe()"
   ]
  },
  {
   "cell_type": "markdown",
   "metadata": {},
   "source": [
    "The mean for days_listed is about 39-40 days, while the median is 33 days. "
   ]
  },
  {
   "cell_type": "code",
   "execution_count": 43,
   "metadata": {},
   "outputs": [
    {
     "data": {
      "image/png": "[encoded data removed]",
      "text/plain": [
       "<Figure size 432x288 with 1 Axes>"
      ]
     },
     "metadata": {
      "needs_background": "light"
     },
     "output_type": "display_data"
    }
   ],
   "source": [
    "#plotting histogram\n",
    "\n",
    "filtered_car['days_listed'].hist(bins = 30, range = (0, 250))\n",
    "plt.title('days_listed')\n",
    "plt.show()"
   ]
  },
  {
   "cell_type": "code",
   "execution_count": 44,
   "metadata": {
    "scrolled": false
   },
   "outputs": [
    {
     "name": "stdout",
     "output_type": "stream",
     "text": [
      "19.0\n",
      "53.0\n",
      "104.0\n"
     ]
    },
    {
     "data": {
      "image/png": "[encoded data removed]",
      "text/plain": [
       "<Figure size 576x576 with 1 Axes>"
      ]
     },
     "metadata": {
      "needs_background": "light"
     },
     "output_type": "display_data"
    }
   ],
   "source": [
    "#25% quantile\n",
    "ad_q1 = filtered_car['days_listed'].quantile(0.25)\n",
    "\n",
    "#75% quantile\n",
    "ad_q3 = filtered_car['days_listed'].quantile(0.75)\n",
    "\n",
    "#interquartile ranges\n",
    "ad_iqr = ad_q3 - ad_q1\n",
    "\n",
    "#theoretical value\n",
    "\n",
    "ad_upper = ad_q3+1.5*ad_iqr\n",
    "\n",
    "print(ad_q1)\n",
    "print(ad_q3)\n",
    "print(ad_upper)\n",
    "\n",
    "#to check the typical lifetime of an ad\n",
    "\n",
    "filtered_car.plot(y = 'days_listed', kind = 'box', grid = True, figsize = (8,8))\n",
    "plt.hlines(y=[ad_q1,ad_q3], xmin = 0.9, xmax=1.1, color = 'red')\n",
    "plt.show()"
   ]
  },
  {
   "cell_type": "markdown",
   "metadata": {},
   "source": [
    "Based on the plot and the calculations, a typical ad lasts between 19 and 53 days. Anything that is less than 19 days would be considered as taken down too quickly. While ads that listed longer than 104 days (above the theoretical threshold, calculated by q3 + 1.5 x iqr) would be considered abnormally long."
   ]
  },
  {
   "cell_type": "markdown",
   "metadata": {},
   "source": [
    "## Average price per each type of vehicle"
   ]
  },
  {
   "cell_type": "markdown",
   "metadata": {},
   "source": [
    "Next, we will analyze the number of ads and the average price for each type of vehicle by plotting a graph showing the dependence of the number of ads on the vehicle type. Two types with the greatest number of ads will be selected for the next step."
   ]
  },
  {
   "cell_type": "code",
   "execution_count": 45,
   "metadata": {},
   "outputs": [
    {
     "name": "stdout",
     "output_type": "stream",
     "text": [
      "                    price\n",
      "type                     \n",
      "SUV          10502.186486\n",
      "bus          18107.428571\n",
      "convertible  13077.485207\n",
      "coupe        13599.034774\n",
      "hatchback     6835.383698\n",
      "mini-van      8046.564080\n",
      "offroad      14456.650273\n",
      "other        10542.137339\n",
      "pickup       15161.584448\n",
      "sedan         6971.998920\n",
      "truck        15248.566307\n",
      "van          10531.702400\n",
      "wagon         9002.566225\n"
     ]
    }
   ],
   "source": [
    "#making a pivot table for average price based on type\n",
    "\n",
    "type_price = filtered_car.pivot_table(index = 'type', values = 'price', aggfunc = 'mean')\n",
    "\n",
    "print(type_price)"
   ]
  },
  {
   "cell_type": "code",
   "execution_count": 46,
   "metadata": {
    "scrolled": true
   },
   "outputs": [
    {
     "name": "stdout",
     "output_type": "stream",
     "text": [
      "sedan          12034\n",
      "SUV            11958\n",
      "truck          11213\n",
      "pickup          6353\n",
      "coupe           2013\n",
      "wagon           1510\n",
      "mini-van        1147\n",
      "hatchback       1006\n",
      "van              625\n",
      "convertible      338\n",
      "other            233\n",
      "offroad          183\n",
      "bus               21\n",
      "Name: type, dtype: int64\n"
     ]
    }
   ],
   "source": [
    "#the number of ads based on the type of the car\n",
    "\n",
    "type_ad = filtered_car['type'].value_counts()\n",
    "print(type_ad)"
   ]
  },
  {
   "cell_type": "code",
   "execution_count": 47,
   "metadata": {
    "scrolled": true
   },
   "outputs": [
    {
     "name": "stdout",
     "output_type": "stream",
     "text": [
      "                    price    ads\n",
      "type                            \n",
      "sedan         6971.998920  12034\n",
      "SUV          10502.186486  11958\n",
      "truck        15248.566307  11213\n",
      "pickup       15161.584448   6353\n",
      "coupe        13599.034774   2013\n",
      "wagon         9002.566225   1510\n",
      "mini-van      8046.564080   1147\n",
      "hatchback     6835.383698   1006\n",
      "van          10531.702400    625\n",
      "convertible  13077.485207    338\n",
      "other        10542.137339    233\n",
      "offroad      14456.650273    183\n",
      "bus          18107.428571     21\n"
     ]
    }
   ],
   "source": [
    "#joining two tables\n",
    "\n",
    "type_price_ad = type_price.join(type_ad)\n",
    "\n",
    "#renaming columns\n",
    "\n",
    "type_price_ad.columns = ['price', 'ads']\n",
    "\n",
    "#sort the table\n",
    "\n",
    "type_price_ad =type_price_ad.sort_values('ads', ascending = False)\n",
    "\n",
    "print(type_price_ad)"
   ]
  },
  {
   "cell_type": "markdown",
   "metadata": {},
   "source": [
    "Based on the combined table, sedan and SUV are the most popular types of vehicle. "
   ]
  },
  {
   "cell_type": "markdown",
   "metadata": {},
   "source": [
    "## Price factors"
   ]
  },
  {
   "cell_type": "markdown",
   "metadata": {},
   "source": [
    "What factors impact the price most? We will analyze sedan and suvs identified as popular type at the previous stage and study whether the price depends on age, mileage, condition, transmission type, and color. For categorical variables (transmission type and color), we will plot box-and-whisker charts, and create scatterplots for the rest."
   ]
  },
  {
   "cell_type": "markdown",
   "metadata": {},
   "source": [
    "We will start with **sedan**."
   ]
  },
  {
   "cell_type": "code",
   "execution_count": 48,
   "metadata": {
    "scrolled": true
   },
   "outputs": [
    {
     "name": "stdout",
     "output_type": "stream",
     "text": [
      "   price  car_age  odometer  update_condition transmission paint_color\n",
      "0   5500      6.0  110000.0                 4    automatic         red\n",
      "1  14900      2.0   80903.0                 3    automatic       black\n",
      "2  14990      4.0   57954.0                 3    automatic       black\n",
      "3  12990      3.0   79212.0                 3    automatic       white\n",
      "4   8990      7.0  111142.0                 3    automatic        grey\n",
      "5  16500      1.0   22104.0                 3    automatic      silver\n",
      "6  13990      0.0   31932.0                 3    automatic         red\n",
      "7   3950      9.0  128000.0                 3    automatic         red\n",
      "8  11499      1.0   39500.0                 4    automatic         NaN\n",
      "9   8499      4.0   79523.0                 4    automatic         red\n"
     ]
    }
   ],
   "source": [
    "#make a slice of sedan only\n",
    "\n",
    "sedan = filtered_car.query('type == \"sedan\"')\n",
    "\n",
    "#keeping the columns of interest\n",
    "\n",
    "sedan = sedan[['price', 'car_age', 'odometer', 'update_condition', 'transmission','paint_color']]\n",
    "\n",
    "#reset index\n",
    "\n",
    "sedan = sedan.reset_index(drop = True)\n",
    "\n",
    "print(sedan.head(10))"
   ]
  },
  {
   "cell_type": "markdown",
   "metadata": {},
   "source": [
    "For categorical columns, a box plot will be used to check for associations. For numerical columns, a scatterplot will be used. "
   ]
  },
  {
   "cell_type": "code",
   "execution_count": 49,
   "metadata": {
    "scrolled": false
   },
   "outputs": [
    {
     "data": {
      "image/png": "[encoded data removed]",
      "text/plain": [
       "<Figure size 720x576 with 1 Axes>"
      ]
     },
     "metadata": {
      "needs_background": "light"
     },
     "output_type": "display_data"
    },
    {
     "data": {
      "image/png": "[encoded data removed]",
      "text/plain": [
       "<Figure size 720x576 with 1 Axes>"
      ]
     },
     "metadata": {
      "needs_background": "light"
     },
     "output_type": "display_data"
    },
    {
     "data": {
      "image/png": "[encoded data removed]",
      "text/plain": [
       "<Figure size 720x576 with 1 Axes>"
      ]
     },
     "metadata": {
      "needs_background": "light"
     },
     "output_type": "display_data"
    },
    {
     "data": {
      "image/png": "[encoded data removed]",
      "text/plain": [
       "<Figure size 720x576 with 1 Axes>"
      ]
     },
     "metadata": {
      "needs_background": "light"
     },
     "output_type": "display_data"
    },
    {
     "data": {
      "image/png": "[encoded data removed]",
      "text/plain": [
       "<Figure size 720x576 with 1 Axes>"
      ]
     },
     "metadata": {
      "needs_background": "light"
     },
     "output_type": "display_data"
    },
    {
     "data": {
      "image/png": "[encoded data removed]",
      "text/plain": [
       "<Figure size 720x576 with 1 Axes>"
      ]
     },
     "metadata": {
      "needs_background": "light"
     },
     "output_type": "display_data"
    }
   ],
   "source": [
    "#creating a loop\n",
    "\n",
    "#looping over columns in sedan\n",
    "for columns in sedan:\n",
    "    \n",
    "    #if the column is transmission or paint color:\n",
    "    if (columns == 'transmission') | (columns == 'paint_color'):\n",
    "        \n",
    "        #create a box plot \n",
    "        \n",
    "        sedan.boxplot(column = 'price', by = columns, figsize = (10,8))\n",
    "        \n",
    "        plt.show()\n",
    "        \n",
    "    #everything else:    \n",
    "    else:\n",
    "        \n",
    "        #create a scatterplot:\n",
    "        \n",
    "        sedan.plot(x = columns, y = 'price', kind = 'scatter', figsize = (10,8))\n",
    "        plt.show()\n",
    "        "
   ]
  },
  {
   "cell_type": "code",
   "execution_count": 50,
   "metadata": {},
   "outputs": [
    {
     "name": "stdout",
     "output_type": "stream",
     "text": [
      "                     price   car_age  odometer  update_condition\n",
      "price             1.000000 -0.620150 -0.563393          0.293813\n",
      "car_age          -0.620150  1.000000  0.627049         -0.319534\n",
      "odometer         -0.563393  0.627049  1.000000         -0.341125\n",
      "update_condition  0.293813 -0.319534 -0.341125          1.000000\n"
     ]
    }
   ],
   "source": [
    "#correlation matrix\n",
    "\n",
    "print(sedan.corr())"
   ]
  },
  {
   "cell_type": "markdown",
   "metadata": {},
   "source": [
    "Based on the correlation matrix and the plots, it appeared that car_age has the strongest association with car price, followed by the odometer readings. For car age, since there is a negative correlation which suggest that as the age decreases the price increases or vice versa. Meaning that newer cars will likely be sold at a higher price than older cars. Same for odometer readings, cars with less miles will be sold at a higher price than cars with more miles. \n",
    "\n",
    "conditions does not seem to have a strong impact on car prices at least it cannot be explained by a linear relationship, but it should be taken into consideration with other factors such as car age and odometer. \n",
    "\n",
    "According to the box plots, sedan with automatic transimissiong are being sold at a higher average price compared to other types. While orange sedans are being sold at a higher average price compared to other types followed by white, grey and black. This could be due to the fact that less orange cars were sold, and the ones sold were listed for a higher price, therefore affecting the average price. This suspicion is confirmed by checking the total number of ads (below). When there are less than 50 ads, we should not consider this categorical value. Therefore, the colors with the highest average listing price are white, grey, and black. "
   ]
  },
  {
   "cell_type": "code",
   "execution_count": 51,
   "metadata": {},
   "outputs": [
    {
     "name": "stdout",
     "output_type": "stream",
     "text": [
      "silver    2038\n",
      "black     1759\n",
      "grey      1615\n",
      "white     1492\n",
      "blue      1220\n",
      "red        936\n",
      "custom     297\n",
      "brown      254\n",
      "green      203\n",
      "purple      24\n",
      "yellow      21\n",
      "orange       9\n",
      "Name: paint_color, dtype: int64\n"
     ]
    }
   ],
   "source": [
    "print(sedan['paint_color'].value_counts())"
   ]
  },
  {
   "cell_type": "markdown",
   "metadata": {},
   "source": [
    "Next, we will analyze **SUV**"
   ]
  },
  {
   "cell_type": "code",
   "execution_count": 52,
   "metadata": {
    "scrolled": true
   },
   "outputs": [
    {
     "name": "stdout",
     "output_type": "stream",
     "text": [
      "   price  car_age  odometer  update_condition transmission paint_color\n",
      "0   9400      7.0  145000.0                 2    automatic         NaN\n",
      "1  15990      6.0  109473.0                 3    automatic       black\n",
      "2  11500      6.0  104174.0                 3    automatic         NaN\n",
      "3   9200     11.0  147191.0                 3    automatic        blue\n",
      "4  12990     10.0  132285.0                 3    automatic       black\n",
      "5  13990      4.0  100669.0                 3    automatic         red\n",
      "6  12500      6.0  128325.0                 3    automatic       white\n",
      "7   6990      8.0  147485.0                 3    automatic      silver\n",
      "8   5250     11.0  154000.0                 2    automatic         NaN\n",
      "9   7500     14.0  164620.0                 2    automatic         red\n"
     ]
    }
   ],
   "source": [
    "#make a slice of suv only\n",
    "\n",
    "suv = filtered_car.query('type == \"SUV\"')\n",
    "\n",
    "#keeping the columns of interest\n",
    "\n",
    "suv = suv[['price', 'car_age', 'odometer', 'update_condition', 'transmission','paint_color']]\n",
    "\n",
    "#reset index\n",
    "\n",
    "suv = suv.reset_index(drop = True)\n",
    "\n",
    "print(suv.head(10))"
   ]
  },
  {
   "cell_type": "code",
   "execution_count": 53,
   "metadata": {
    "scrolled": false
   },
   "outputs": [
    {
     "data": {
      "image/png": "[encoded data removed]",
      "text/plain": [
       "<Figure size 720x576 with 1 Axes>"
      ]
     },
     "metadata": {
      "needs_background": "light"
     },
     "output_type": "display_data"
    },
    {
     "data": {
      "image/png": "[encoded data removed]",
      "text/plain": [
       "<Figure size 720x576 with 1 Axes>"
      ]
     },
     "metadata": {
      "needs_background": "light"
     },
     "output_type": "display_data"
    },
    {
     "data": {
      "image/png": "[encoded data removed]",
      "text/plain": [
       "<Figure size 720x576 with 1 Axes>"
      ]
     },
     "metadata": {
      "needs_background": "light"
     },
     "output_type": "display_data"
    },
    {
     "data": {
      "image/png": "[encoded data removed]",
      "text/plain": [
       "<Figure size 720x576 with 1 Axes>"
      ]
     },
     "metadata": {
      "needs_background": "light"
     },
     "output_type": "display_data"
    },
    {
     "data": {
      "image/png": "[encoded data removed]",
      "text/plain": [
       "<Figure size 720x576 with 1 Axes>"
      ]
     },
     "metadata": {
      "needs_background": "light"
     },
     "output_type": "display_data"
    },
    {
     "data": {
      "image/png": "[encoded data removed]",
      "text/plain": [
       "<Figure size 720x576 with 1 Axes>"
      ]
     },
     "metadata": {
      "needs_background": "light"
     },
     "output_type": "display_data"
    }
   ],
   "source": [
    "#creating a loop\n",
    "\n",
    "#looping over columns in suv\n",
    "for columns in suv:\n",
    "    \n",
    "    #if the column is transmission or paint color:\n",
    "    if (columns == 'transmission') | (columns == 'paint_color'):\n",
    "        \n",
    "        #create a box plot \n",
    "        \n",
    "        suv.boxplot(column = 'price', by = columns, figsize = (10,8))\n",
    "        \n",
    "        plt.show()\n",
    "        \n",
    "    #everything else:    \n",
    "    else:\n",
    "        \n",
    "        #create a scatterplot:\n",
    "        \n",
    "        suv.plot(x = columns, y = 'price', kind = 'scatter', figsize = (10,8))\n",
    "        plt.show()"
   ]
  },
  {
   "cell_type": "code",
   "execution_count": 54,
   "metadata": {
    "scrolled": true
   },
   "outputs": [
    {
     "name": "stdout",
     "output_type": "stream",
     "text": [
      "                     price   car_age  odometer  update_condition\n",
      "price             1.000000 -0.578964 -0.524866          0.261146\n",
      "car_age          -0.578964  1.000000  0.636572         -0.333274\n",
      "odometer         -0.524866  0.636572  1.000000         -0.342765\n",
      "update_condition  0.261146 -0.333274 -0.342765          1.000000\n"
     ]
    }
   ],
   "source": [
    "#correlation matrix\n",
    "\n",
    "print(suv.corr())\n"
   ]
  },
  {
   "cell_type": "markdown",
   "metadata": {},
   "source": [
    "Similar to what we observed in sedans, it appeared that car_age has the strongest association with car price, followed by the odometer readings. For car age, since there is a negative correlation which suggest that as the age decreases the price increases or vice versa. Meaning that newer cars will likely be sold at a higher price than older cars. Same for odometer readings, cars with less miles will be sold at a higher price than cars with more miles. \n",
    "\n",
    "conditions does not seem to have a strong impact on car prices at least it cannot be explained by a linear relationship, but it should be taken into consideration with other factors such as car age and odometer. \n",
    "\n",
    "According to the box plots, suvs with manual transmission are being sold at a higher average price compared to other types. While orange suvs again are being sold at a higher average price compared to other types followed by yellow, white, grey and black. This could be due to the fact that less orange cars were sold, and the ones sold were listed for a higher price, therefore affecting the average price. By checking the total number of ads (below), although there are a lot less orange suvs listed, the total number of ads is more than 50. Therefore orange suvs tend to have a higher average price than other colors. While yellow cars have less than 50 ads. So we will not count this color among the high-price cars."
   ]
  },
  {
   "cell_type": "code",
   "execution_count": 55,
   "metadata": {},
   "outputs": [
    {
     "name": "stdout",
     "output_type": "stream",
     "text": [
      "black     2103\n",
      "white     1880\n",
      "silver    1536\n",
      "grey      1152\n",
      "blue      1017\n",
      "red        875\n",
      "green      422\n",
      "brown      355\n",
      "custom     300\n",
      "orange      81\n",
      "yellow      45\n",
      "purple      39\n",
      "Name: paint_color, dtype: int64\n"
     ]
    }
   ],
   "source": [
    "print(suv['paint_color'].value_counts())"
   ]
  },
  {
   "cell_type": "markdown",
   "metadata": {},
   "source": [
    "# General conclusion\n"
   ]
  },
  {
   "cell_type": "markdown",
   "metadata": {},
   "source": [
    "We have identified several issues with the dataset by checking the general information. All of the issues have been addressed, including replacing the missing values in the columns 'model_year', 'cylinders', 'odometer', 'paint_color', and 'is_4wd' and changing the  data type of 'is_4wd' and 'date_posted' columns.\n",
    "\n",
    "All missing values were filled accordingly, except for 'paint_color' as we decided that deleting all of the NaN (18%) might impact our data. Datatype have been changed to the appropriate ones.\n",
    "\n",
    "New columns have been added to clarity and easy accessibility:\n",
    "\n",
    "Separate columns for days, months, and years. Average mileage per year and the age of the car have been calculated.\n",
    "\n",
    "Finally, conditions have been assigned with corresponding numbers.\n",
    "\n",
    "In the following steps, we checked for outliers in 'price', 'car age', 'odometer', 'cylinders' and 'conditions'. \n",
    "\n",
    "Based on the histograms, it was determined that  'price', 'car_age' and 'odometer' likely contain outliers. And the presence of outliers were confirmed by checking the upper and lower limits of those columns. After applying filter conditions, we now have 48634 rows left.The main difference between the filtered data and original is that in histograms, the tails are gone, and they look more evenly distributed. \n",
    "\n",
    "We then look at the average lifetime for a car ad. Based on the plot and the calculations, a typical ad lasts between 19 and 53 days. Anything that is less than 19 days would be considered as taken down too quickly. While ads that listed longer than 104 days (above the theoretical threshold, calculated by q3 + 1.5 x iqr) would be considered abnormally long.\n",
    "\n",
    "We also looked at the average price per type of vehicle and the total number of ads per type. We have determined that sedan and SUV are the most popular types of vehicle. We created box plot and scatterplots for each of the vehicle type. From those, we concluded that car age was the factor that impacts price the most, follow by odometer readings. \n",
    "\n",
    "For car age, since there is a negative correlation which suggest that as the age decreases the price increases or vice versa. Meaning that newer cars will likely be sold at a higher price than older cars. Same for odometer readings, cars with less miles will be sold at a higher price than cars with more miles. \n",
    "\n",
    "conditions does not seem to have a strong impact on car prices at least it cannot be explained by a linear relationship, but it should be taken into consideration with other factors such as car age and odometer. \n",
    "\n",
    "According to the box plots, suvs with manual and sedan with automatic transmission are being sold at a higher average price compared to other types. While orange suvs and sedans  are being sold at a higher average price compared to other types followed by white, grey and black. The total number of ads for orange is more than 50 for suv but not sedan. Therefore we conclude that orange suvs tend to have a higher average price than other colors, but the same conclusion cannot be made for sedans. Black, white and grey cars are among the top priced cars for both suvs and sedans. "
   ]
  }
 ],
 "metadata": {
  "ExecuteTimeLog": [
   {
    "duration": 828,
    "start_time": "2021-11-16T09:21:11.304Z"
   },
   {
    "duration": 893,
    "start_time": "2021-11-16T09:21:17.728Z"
   },
   {
    "duration": 1150,
    "start_time": "2021-11-16T09:21:29.568Z"
   },
   {
    "duration": 3,
    "start_time": "2021-11-16T09:24:14.495Z"
   },
   {
    "duration": 120,
    "start_time": "2021-11-16T09:24:46.630Z"
   },
   {
    "duration": 3,
    "start_time": "2021-11-16T09:28:27.882Z"
   },
   {
    "duration": 4,
    "start_time": "2021-11-16T09:29:54.281Z"
   },
   {
    "duration": 3,
    "start_time": "2021-11-16T09:30:45.936Z"
   },
   {
    "duration": 4,
    "start_time": "2021-11-16T09:31:06.300Z"
   },
   {
    "duration": 113,
    "start_time": "2021-11-16T09:31:37.208Z"
   },
   {
    "duration": 143,
    "start_time": "2021-11-16T09:31:48.656Z"
   },
   {
    "duration": 98,
    "start_time": "2021-11-16T09:31:55.678Z"
   },
   {
    "duration": 3,
    "start_time": "2021-11-16T09:32:08.535Z"
   },
   {
    "duration": 111,
    "start_time": "2021-11-16T09:32:10.120Z"
   },
   {
    "duration": 3,
    "start_time": "2021-11-16T09:32:15.732Z"
   },
   {
    "duration": 4,
    "start_time": "2021-11-16T09:32:29.423Z"
   },
   {
    "duration": 3,
    "start_time": "2021-11-16T10:03:03.074Z"
   },
   {
    "duration": 3,
    "start_time": "2021-11-16T10:10:01.288Z"
   },
   {
    "duration": 3,
    "start_time": "2021-11-16T10:10:46.923Z"
   },
   {
    "duration": 121,
    "start_time": "2021-11-16T10:37:46.494Z"
   },
   {
    "duration": 125,
    "start_time": "2021-11-16T10:38:20.632Z"
   },
   {
    "duration": 112,
    "start_time": "2021-11-16T10:46:53.001Z"
   },
   {
    "duration": 110,
    "start_time": "2021-11-16T10:48:25.775Z"
   },
   {
    "duration": 3,
    "start_time": "2021-11-16T10:50:18.720Z"
   },
   {
    "duration": 4,
    "start_time": "2021-11-16T10:50:37.649Z"
   },
   {
    "duration": 2,
    "start_time": "2021-11-16T10:50:51.884Z"
   },
   {
    "duration": 3,
    "start_time": "2021-11-16T10:51:56.237Z"
   },
   {
    "duration": 101,
    "start_time": "2021-11-16T10:53:13.791Z"
   },
   {
    "duration": 3,
    "start_time": "2021-11-16T10:55:59.186Z"
   },
   {
    "duration": 3,
    "start_time": "2021-11-16T10:56:10.751Z"
   },
   {
    "duration": 3,
    "start_time": "2021-11-16T10:56:49.038Z"
   },
   {
    "duration": 3,
    "start_time": "2021-11-16T10:56:49.174Z"
   },
   {
    "duration": 4,
    "start_time": "2021-11-16T10:56:49.414Z"
   },
   {
    "duration": 3,
    "start_time": "2021-11-16T10:56:49.680Z"
   },
   {
    "duration": 3,
    "start_time": "2021-11-16T10:56:50.370Z"
   },
   {
    "duration": 114,
    "start_time": "2021-11-16T10:59:34.518Z"
   },
   {
    "duration": 3,
    "start_time": "2021-11-16T11:01:41.201Z"
   },
   {
    "duration": 116,
    "start_time": "2021-11-16T11:01:48.754Z"
   },
   {
    "duration": 3,
    "start_time": "2021-11-16T11:02:16.685Z"
   },
   {
    "duration": 3,
    "start_time": "2021-11-16T11:02:19.479Z"
   },
   {
    "duration": 3,
    "start_time": "2021-11-16T11:02:47.067Z"
   },
   {
    "duration": 3,
    "start_time": "2021-11-16T11:02:49.353Z"
   },
   {
    "duration": 3,
    "start_time": "2021-11-16T11:03:07.835Z"
   },
   {
    "duration": 3,
    "start_time": "2021-11-16T11:03:07.953Z"
   },
   {
    "duration": 112,
    "start_time": "2021-11-16T11:07:52.072Z"
   },
   {
    "duration": 187,
    "start_time": "2021-11-16T11:09:23.468Z"
   },
   {
    "duration": 4,
    "start_time": "2021-11-16T11:10:01.455Z"
   },
   {
    "duration": 3,
    "start_time": "2021-11-16T11:10:05.069Z"
   },
   {
    "duration": 4,
    "start_time": "2021-11-16T11:10:13.376Z"
   },
   {
    "duration": 3,
    "start_time": "2021-11-16T11:10:14.434Z"
   },
   {
    "duration": 3,
    "start_time": "2021-11-16T11:10:22.853Z"
   },
   {
    "duration": 4,
    "start_time": "2021-11-16T11:27:29.279Z"
   },
   {
    "duration": 4,
    "start_time": "2021-11-16T11:29:08.919Z"
   },
   {
    "duration": 118,
    "start_time": "2021-11-16T11:29:46.703Z"
   },
   {
    "duration": 437,
    "start_time": "2021-11-16T11:36:02.181Z"
   },
   {
    "duration": 157,
    "start_time": "2021-11-16T11:36:14.388Z"
   },
   {
    "duration": 207,
    "start_time": "2021-11-16T11:47:15.898Z"
   },
   {
    "duration": 3,
    "start_time": "2021-11-16T11:53:52.092Z"
   },
   {
    "duration": 3,
    "start_time": "2021-11-16T11:53:52.236Z"
   },
   {
    "duration": 3,
    "start_time": "2021-11-16T11:59:12.005Z"
   },
   {
    "duration": 112,
    "start_time": "2021-11-16T12:00:33.446Z"
   },
   {
    "duration": 3,
    "start_time": "2021-11-16T12:02:14.453Z"
   },
   {
    "duration": 3,
    "start_time": "2021-11-16T12:02:39.512Z"
   },
   {
    "duration": 106,
    "start_time": "2021-11-16T12:03:03.460Z"
   },
   {
    "duration": 420,
    "start_time": "2022-04-11T17:44:08.509Z"
   },
   {
    "duration": 106,
    "start_time": "2022-04-11T17:45:39.825Z"
   },
   {
    "duration": 319,
    "start_time": "2022-04-11T17:45:54.938Z"
   },
   {
    "duration": 398,
    "start_time": "2022-04-11T17:46:36.436Z"
   },
   {
    "duration": 28,
    "start_time": "2022-04-11T17:47:37.666Z"
   },
   {
    "duration": 21,
    "start_time": "2022-04-11T17:54:29.171Z"
   },
   {
    "duration": 16,
    "start_time": "2022-04-11T19:57:09.649Z"
   },
   {
    "duration": 32,
    "start_time": "2022-04-11T19:57:20.021Z"
   },
   {
    "duration": 5,
    "start_time": "2022-04-11T20:00:17.574Z"
   },
   {
    "duration": 6,
    "start_time": "2022-04-11T20:05:20.203Z"
   },
   {
    "duration": 6,
    "start_time": "2022-04-11T20:10:56.999Z"
   },
   {
    "duration": 19,
    "start_time": "2022-04-11T20:11:05.296Z"
   },
   {
    "duration": 43,
    "start_time": "2022-04-11T20:19:23.728Z"
   },
   {
    "duration": 12,
    "start_time": "2022-04-11T20:23:03.323Z"
   },
   {
    "duration": 10,
    "start_time": "2022-04-11T20:25:34.032Z"
   },
   {
    "duration": 18,
    "start_time": "2022-04-11T20:43:21.108Z"
   },
   {
    "duration": 8,
    "start_time": "2022-04-11T20:43:36.983Z"
   },
   {
    "duration": 12,
    "start_time": "2022-04-11T20:43:46.169Z"
   },
   {
    "duration": 27,
    "start_time": "2022-04-11T20:44:06.415Z"
   },
   {
    "duration": 1421,
    "start_time": "2022-04-11T20:45:30.435Z"
   },
   {
    "duration": 817,
    "start_time": "2022-04-11T20:45:52.390Z"
   },
   {
    "duration": 11,
    "start_time": "2022-04-11T20:49:28.687Z"
   },
   {
    "duration": 140,
    "start_time": "2022-04-11T20:54:27.461Z"
   },
   {
    "duration": 183,
    "start_time": "2022-04-11T20:54:54.920Z"
   },
   {
    "duration": 130,
    "start_time": "2022-04-11T20:55:11.309Z"
   },
   {
    "duration": 257,
    "start_time": "2022-04-11T20:55:19.666Z"
   },
   {
    "duration": 126,
    "start_time": "2022-04-11T20:55:56.904Z"
   },
   {
    "duration": 153,
    "start_time": "2022-04-11T20:56:01.627Z"
   },
   {
    "duration": 131,
    "start_time": "2022-04-11T20:56:10.184Z"
   },
   {
    "duration": 151,
    "start_time": "2022-04-11T20:56:14.330Z"
   },
   {
    "duration": 188,
    "start_time": "2022-04-11T20:56:19.060Z"
   },
   {
    "duration": 2,
    "start_time": "2022-04-11T20:59:16.709Z"
   },
   {
    "duration": 720,
    "start_time": "2022-04-11T21:01:56.441Z"
   },
   {
    "duration": 710,
    "start_time": "2022-04-11T21:02:19.454Z"
   },
   {
    "duration": 70,
    "start_time": "2022-04-12T13:18:10.720Z"
   },
   {
    "duration": 1139,
    "start_time": "2022-04-12T13:18:17.568Z"
   },
   {
    "duration": 985,
    "start_time": "2022-04-12T13:18:18.710Z"
   },
   {
    "duration": 34,
    "start_time": "2022-04-12T13:18:19.697Z"
   },
   {
    "duration": 29,
    "start_time": "2022-04-12T13:18:19.734Z"
   },
   {
    "duration": 291,
    "start_time": "2022-04-12T13:18:19.765Z"
   },
   {
    "duration": 955,
    "start_time": "2022-04-12T13:18:20.059Z"
   },
   {
    "duration": 34,
    "start_time": "2022-04-12T13:18:21.017Z"
   },
   {
    "duration": 310,
    "start_time": "2022-04-12T13:18:21.054Z"
   },
   {
    "duration": 1241,
    "start_time": "2022-04-12T13:18:21.366Z"
   },
   {
    "duration": 45,
    "start_time": "2022-04-12T13:18:22.610Z"
   },
   {
    "duration": 38,
    "start_time": "2022-04-12T13:18:22.657Z"
   },
   {
    "duration": 35,
    "start_time": "2022-04-12T13:18:22.697Z"
   },
   {
    "duration": 3,
    "start_time": "2022-04-12T13:18:22.734Z"
   },
   {
    "duration": 11,
    "start_time": "2022-04-12T13:18:22.739Z"
   },
   {
    "duration": 9,
    "start_time": "2022-04-12T13:18:22.752Z"
   },
   {
    "duration": 30,
    "start_time": "2022-04-12T13:18:22.763Z"
   },
   {
    "duration": 7,
    "start_time": "2022-04-12T13:18:22.796Z"
   },
   {
    "duration": 10,
    "start_time": "2022-04-12T13:18:22.806Z"
   },
   {
    "duration": 6,
    "start_time": "2022-04-12T13:18:22.819Z"
   },
   {
    "duration": 5,
    "start_time": "2022-04-12T13:18:22.827Z"
   },
   {
    "duration": 7,
    "start_time": "2022-04-12T13:18:22.834Z"
   },
   {
    "duration": 8,
    "start_time": "2022-04-12T13:18:22.843Z"
   },
   {
    "duration": 8,
    "start_time": "2022-04-12T13:18:22.854Z"
   },
   {
    "duration": 30,
    "start_time": "2022-04-12T13:18:22.864Z"
   },
   {
    "duration": 8,
    "start_time": "2022-04-12T13:18:22.897Z"
   },
   {
    "duration": 7,
    "start_time": "2022-04-12T13:18:22.907Z"
   },
   {
    "duration": 6,
    "start_time": "2022-04-12T13:18:22.916Z"
   },
   {
    "duration": 54,
    "start_time": "2022-04-12T13:18:51.001Z"
   },
   {
    "duration": 8,
    "start_time": "2022-04-12T13:19:21.672Z"
   },
   {
    "duration": 1148,
    "start_time": "2022-04-12T13:19:40.571Z"
   },
   {
    "duration": 8,
    "start_time": "2022-04-12T13:19:45.202Z"
   },
   {
    "duration": 1056,
    "start_time": "2022-04-12T13:20:14.345Z"
   },
   {
    "duration": 7,
    "start_time": "2022-04-12T13:20:19.630Z"
   },
   {
    "duration": 4,
    "start_time": "2022-04-12T13:22:57.999Z"
   },
   {
    "duration": 1136,
    "start_time": "2022-04-12T13:23:14.893Z"
   },
   {
    "duration": 7,
    "start_time": "2022-04-12T13:23:21.473Z"
   },
   {
    "duration": 1083,
    "start_time": "2022-04-12T13:23:44.548Z"
   },
   {
    "duration": 8,
    "start_time": "2022-04-12T13:23:48.538Z"
   },
   {
    "duration": 7,
    "start_time": "2022-04-12T13:26:39.564Z"
   },
   {
    "duration": 6,
    "start_time": "2022-04-12T13:26:54.109Z"
   },
   {
    "duration": 230,
    "start_time": "2022-04-12T13:27:29.079Z"
   },
   {
    "duration": 278,
    "start_time": "2022-04-12T13:27:37.952Z"
   },
   {
    "duration": 228,
    "start_time": "2022-04-12T13:27:46.419Z"
   },
   {
    "duration": 230,
    "start_time": "2022-04-12T13:27:54.744Z"
   },
   {
    "duration": 291,
    "start_time": "2022-04-12T13:28:17.844Z"
   },
   {
    "duration": 7,
    "start_time": "2022-04-12T13:28:32.923Z"
   },
   {
    "duration": 888,
    "start_time": "2022-04-12T13:31:40.132Z"
   },
   {
    "duration": 10,
    "start_time": "2022-04-12T13:32:36.531Z"
   },
   {
    "duration": 30,
    "start_time": "2022-04-12T13:33:41.341Z"
   },
   {
    "duration": 7,
    "start_time": "2022-04-12T13:34:02.921Z"
   },
   {
    "duration": 11,
    "start_time": "2022-04-12T13:34:31.356Z"
   },
   {
    "duration": 13,
    "start_time": "2022-04-12T13:34:38.285Z"
   },
   {
    "duration": 6,
    "start_time": "2022-04-12T13:35:06.896Z"
   },
   {
    "duration": 14,
    "start_time": "2022-04-12T13:35:11.107Z"
   },
   {
    "duration": 8,
    "start_time": "2022-04-12T13:35:32.713Z"
   },
   {
    "duration": 31,
    "start_time": "2022-04-12T13:36:49.638Z"
   },
   {
    "duration": 111,
    "start_time": "2022-04-12T13:40:05.857Z"
   },
   {
    "duration": 34,
    "start_time": "2022-04-12T13:40:07.947Z"
   },
   {
    "duration": 23,
    "start_time": "2022-04-12T13:40:12.242Z"
   },
   {
    "duration": 236,
    "start_time": "2022-04-12T13:40:22.268Z"
   },
   {
    "duration": 1048,
    "start_time": "2022-04-12T13:40:27.229Z"
   },
   {
    "duration": 8,
    "start_time": "2022-04-12T13:40:36.199Z"
   },
   {
    "duration": 6,
    "start_time": "2022-04-12T13:40:38.898Z"
   },
   {
    "duration": 30,
    "start_time": "2022-04-12T13:40:40.629Z"
   },
   {
    "duration": 271,
    "start_time": "2022-04-12T13:40:45.758Z"
   },
   {
    "duration": 1153,
    "start_time": "2022-04-12T13:40:57.091Z"
   },
   {
    "duration": 31,
    "start_time": "2022-04-12T13:41:18.621Z"
   },
   {
    "duration": 9,
    "start_time": "2022-04-12T13:53:06.001Z"
   },
   {
    "duration": 6,
    "start_time": "2022-04-12T13:56:08.443Z"
   },
   {
    "duration": 9,
    "start_time": "2022-04-12T13:56:23.143Z"
   },
   {
    "duration": 3086,
    "start_time": "2022-04-12T13:57:09.231Z"
   },
   {
    "duration": 12,
    "start_time": "2022-04-12T13:58:06.637Z"
   },
   {
    "duration": 29,
    "start_time": "2022-04-12T13:58:17.020Z"
   },
   {
    "duration": 125,
    "start_time": "2022-04-12T13:59:39.578Z"
   },
   {
    "duration": 31,
    "start_time": "2022-04-12T13:59:42.331Z"
   },
   {
    "duration": 24,
    "start_time": "2022-04-12T13:59:45.868Z"
   },
   {
    "duration": 341,
    "start_time": "2022-04-12T13:59:50.268Z"
   },
   {
    "duration": 1786,
    "start_time": "2022-04-12T13:59:54.683Z"
   },
   {
    "duration": 6,
    "start_time": "2022-04-12T14:00:01.279Z"
   },
   {
    "duration": 38,
    "start_time": "2022-04-12T14:01:15.822Z"
   },
   {
    "duration": 1086,
    "start_time": "2022-04-12T14:02:50.281Z"
   },
   {
    "duration": 8,
    "start_time": "2022-04-12T14:02:59.257Z"
   },
   {
    "duration": 844,
    "start_time": "2022-04-12T14:04:27.249Z"
   },
   {
    "duration": 8,
    "start_time": "2022-04-12T14:04:33.489Z"
   },
   {
    "duration": 1328,
    "start_time": "2022-04-12T14:04:46.536Z"
   },
   {
    "duration": 7,
    "start_time": "2022-04-12T14:04:58.561Z"
   },
   {
    "duration": 1283,
    "start_time": "2022-04-12T14:05:04.541Z"
   },
   {
    "duration": 7,
    "start_time": "2022-04-12T14:05:09.409Z"
   },
   {
    "duration": 4,
    "start_time": "2022-04-12T14:05:18.523Z"
   },
   {
    "duration": 184,
    "start_time": "2022-04-12T14:05:18.530Z"
   },
   {
    "duration": 34,
    "start_time": "2022-04-12T14:05:18.716Z"
   },
   {
    "duration": 46,
    "start_time": "2022-04-12T14:05:18.754Z"
   },
   {
    "duration": 263,
    "start_time": "2022-04-12T14:05:18.802Z"
   },
   {
    "duration": 1045,
    "start_time": "2022-04-12T14:05:19.067Z"
   },
   {
    "duration": 7,
    "start_time": "2022-04-12T14:05:20.114Z"
   },
   {
    "duration": 10,
    "start_time": "2022-04-12T14:05:20.123Z"
   },
   {
    "duration": 33,
    "start_time": "2022-04-12T14:05:20.137Z"
   },
   {
    "duration": 401,
    "start_time": "2022-04-12T14:05:20.172Z"
   },
   {
    "duration": 1651,
    "start_time": "2022-04-12T14:05:20.576Z"
   },
   {
    "duration": 27,
    "start_time": "2022-04-12T14:05:22.230Z"
   },
   {
    "duration": 65,
    "start_time": "2022-04-12T14:05:22.259Z"
   },
   {
    "duration": 7,
    "start_time": "2022-04-12T14:05:22.327Z"
   },
   {
    "duration": 74,
    "start_time": "2022-04-12T14:05:22.337Z"
   },
   {
    "duration": 3,
    "start_time": "2022-04-12T14:05:22.414Z"
   },
   {
    "duration": 19,
    "start_time": "2022-04-12T14:05:22.419Z"
   },
   {
    "duration": 12,
    "start_time": "2022-04-12T14:05:22.442Z"
   },
   {
    "duration": 13,
    "start_time": "2022-04-12T14:05:22.458Z"
   },
   {
    "duration": 15,
    "start_time": "2022-04-12T14:05:22.474Z"
   },
   {
    "duration": 16,
    "start_time": "2022-04-12T14:05:22.492Z"
   },
   {
    "duration": 13,
    "start_time": "2022-04-12T14:05:22.511Z"
   },
   {
    "duration": 18,
    "start_time": "2022-04-12T14:05:22.526Z"
   },
   {
    "duration": 16,
    "start_time": "2022-04-12T14:05:22.548Z"
   },
   {
    "duration": 16,
    "start_time": "2022-04-12T14:05:22.566Z"
   },
   {
    "duration": 18,
    "start_time": "2022-04-12T14:05:22.584Z"
   },
   {
    "duration": 23,
    "start_time": "2022-04-12T14:05:22.605Z"
   },
   {
    "duration": 14,
    "start_time": "2022-04-12T14:05:22.630Z"
   },
   {
    "duration": 19,
    "start_time": "2022-04-12T14:05:22.646Z"
   },
   {
    "duration": 17,
    "start_time": "2022-04-12T14:05:22.667Z"
   },
   {
    "duration": 5,
    "start_time": "2022-04-12T14:08:00.494Z"
   },
   {
    "duration": 179,
    "start_time": "2022-04-12T14:08:00.503Z"
   },
   {
    "duration": 33,
    "start_time": "2022-04-12T14:08:00.684Z"
   },
   {
    "duration": 30,
    "start_time": "2022-04-12T14:08:00.721Z"
   },
   {
    "duration": 334,
    "start_time": "2022-04-12T14:08:00.754Z"
   },
   {
    "duration": 1512,
    "start_time": "2022-04-12T14:08:01.091Z"
   },
   {
    "duration": 8,
    "start_time": "2022-04-12T14:08:02.606Z"
   },
   {
    "duration": 11,
    "start_time": "2022-04-12T14:08:02.616Z"
   },
   {
    "duration": 62,
    "start_time": "2022-04-12T14:08:02.631Z"
   },
   {
    "duration": 298,
    "start_time": "2022-04-12T14:08:02.695Z"
   },
   {
    "duration": 1549,
    "start_time": "2022-04-12T14:08:02.995Z"
   },
   {
    "duration": 56,
    "start_time": "2022-04-12T14:08:04.546Z"
   },
   {
    "duration": 6,
    "start_time": "2022-04-12T14:08:04.605Z"
   },
   {
    "duration": 34,
    "start_time": "2022-04-12T14:08:04.613Z"
   },
   {
    "duration": 4,
    "start_time": "2022-04-12T14:08:04.650Z"
   },
   {
    "duration": 6,
    "start_time": "2022-04-12T14:08:04.656Z"
   },
   {
    "duration": 4,
    "start_time": "2022-04-12T14:08:04.692Z"
   },
   {
    "duration": 6,
    "start_time": "2022-04-12T14:08:04.699Z"
   },
   {
    "duration": 9,
    "start_time": "2022-04-12T14:08:04.707Z"
   },
   {
    "duration": 6,
    "start_time": "2022-04-12T14:08:04.719Z"
   },
   {
    "duration": 11,
    "start_time": "2022-04-12T14:08:04.727Z"
   },
   {
    "duration": 21,
    "start_time": "2022-04-12T14:08:04.740Z"
   },
   {
    "duration": 14,
    "start_time": "2022-04-12T14:08:04.763Z"
   },
   {
    "duration": 22,
    "start_time": "2022-04-12T14:08:04.783Z"
   },
   {
    "duration": 28,
    "start_time": "2022-04-12T14:08:04.808Z"
   },
   {
    "duration": 18,
    "start_time": "2022-04-12T14:08:04.838Z"
   },
   {
    "duration": 14,
    "start_time": "2022-04-12T14:08:04.859Z"
   },
   {
    "duration": 11,
    "start_time": "2022-04-12T14:08:04.875Z"
   },
   {
    "duration": 8,
    "start_time": "2022-04-12T14:08:04.888Z"
   },
   {
    "duration": 7,
    "start_time": "2022-04-12T14:08:37.560Z"
   },
   {
    "duration": 8,
    "start_time": "2022-04-12T14:09:44.662Z"
   },
   {
    "duration": 41,
    "start_time": "2022-04-12T14:10:03.130Z"
   },
   {
    "duration": 3282,
    "start_time": "2022-04-12T14:11:42.661Z"
   },
   {
    "duration": 224,
    "start_time": "2022-04-12T14:12:03.661Z"
   },
   {
    "duration": 233,
    "start_time": "2022-04-12T14:13:07.042Z"
   },
   {
    "duration": 219,
    "start_time": "2022-04-12T14:13:12.585Z"
   },
   {
    "duration": 1394,
    "start_time": "2022-04-12T14:16:59.979Z"
   },
   {
    "duration": 1015,
    "start_time": "2022-04-12T14:17:25.042Z"
   },
   {
    "duration": 1091,
    "start_time": "2022-04-12T14:17:30.203Z"
   },
   {
    "duration": 1021,
    "start_time": "2022-04-12T14:18:01.637Z"
   },
   {
    "duration": 4,
    "start_time": "2022-04-12T14:18:08.839Z"
   },
   {
    "duration": 147,
    "start_time": "2022-04-12T14:18:08.846Z"
   },
   {
    "duration": 33,
    "start_time": "2022-04-12T14:18:08.995Z"
   },
   {
    "duration": 23,
    "start_time": "2022-04-12T14:18:09.030Z"
   },
   {
    "duration": 266,
    "start_time": "2022-04-12T14:18:09.056Z"
   },
   {
    "duration": 993,
    "start_time": "2022-04-12T14:18:09.324Z"
   },
   {
    "duration": 5,
    "start_time": "2022-04-12T14:18:10.320Z"
   },
   {
    "duration": 9,
    "start_time": "2022-04-12T14:18:10.327Z"
   },
   {
    "duration": 56,
    "start_time": "2022-04-12T14:18:10.338Z"
   },
   {
    "duration": 297,
    "start_time": "2022-04-12T14:18:10.396Z"
   },
   {
    "duration": 1208,
    "start_time": "2022-04-12T14:18:10.697Z"
   },
   {
    "duration": 7,
    "start_time": "2022-04-12T14:18:11.907Z"
   },
   {
    "duration": 12,
    "start_time": "2022-04-12T14:18:11.916Z"
   },
   {
    "duration": 33,
    "start_time": "2022-04-12T14:18:11.930Z"
   },
   {
    "duration": 305,
    "start_time": "2022-04-12T14:18:11.993Z"
   },
   {
    "duration": 1093,
    "start_time": "2022-04-12T14:18:12.301Z"
   },
   {
    "duration": 42,
    "start_time": "2022-04-12T14:18:13.396Z"
   },
   {
    "duration": 7,
    "start_time": "2022-04-12T14:18:13.440Z"
   },
   {
    "duration": 59,
    "start_time": "2022-04-12T14:18:13.449Z"
   },
   {
    "duration": 4,
    "start_time": "2022-04-12T14:18:13.510Z"
   },
   {
    "duration": 7,
    "start_time": "2022-04-12T14:18:13.516Z"
   },
   {
    "duration": 9,
    "start_time": "2022-04-12T14:18:13.525Z"
   },
   {
    "duration": 5,
    "start_time": "2022-04-12T14:18:13.536Z"
   },
   {
    "duration": 12,
    "start_time": "2022-04-12T14:18:13.543Z"
   },
   {
    "duration": 6,
    "start_time": "2022-04-12T14:18:13.558Z"
   },
   {
    "duration": 4,
    "start_time": "2022-04-12T14:18:13.594Z"
   },
   {
    "duration": 7,
    "start_time": "2022-04-12T14:18:13.601Z"
   },
   {
    "duration": 7,
    "start_time": "2022-04-12T14:18:13.610Z"
   },
   {
    "duration": 3,
    "start_time": "2022-04-12T14:18:13.623Z"
   },
   {
    "duration": 4,
    "start_time": "2022-04-12T14:18:13.629Z"
   },
   {
    "duration": 6,
    "start_time": "2022-04-12T14:18:13.635Z"
   },
   {
    "duration": 50,
    "start_time": "2022-04-12T14:18:13.643Z"
   },
   {
    "duration": 6,
    "start_time": "2022-04-12T14:18:13.695Z"
   },
   {
    "duration": 13,
    "start_time": "2022-04-12T14:18:13.704Z"
   },
   {
    "duration": 7,
    "start_time": "2022-04-12T14:19:17.312Z"
   },
   {
    "duration": 6,
    "start_time": "2022-04-12T14:20:29.496Z"
   },
   {
    "duration": 49,
    "start_time": "2022-04-12T14:20:43.231Z"
   },
   {
    "duration": 9,
    "start_time": "2022-04-12T14:32:46.020Z"
   },
   {
    "duration": 9,
    "start_time": "2022-04-12T14:33:57.330Z"
   },
   {
    "duration": 11,
    "start_time": "2022-04-12T14:40:45.154Z"
   },
   {
    "duration": 35,
    "start_time": "2022-04-12T14:41:01.287Z"
   },
   {
    "duration": 11,
    "start_time": "2022-04-12T14:41:13.596Z"
   },
   {
    "duration": 10,
    "start_time": "2022-04-12T14:41:26.026Z"
   },
   {
    "duration": 10,
    "start_time": "2022-04-12T14:42:03.611Z"
   },
   {
    "duration": 29,
    "start_time": "2022-04-12T14:42:34.158Z"
   },
   {
    "duration": 56,
    "start_time": "2022-04-12T14:43:10.085Z"
   },
   {
    "duration": 77,
    "start_time": "2022-04-12T14:43:40.659Z"
   },
   {
    "duration": 94,
    "start_time": "2022-04-12T14:44:11.055Z"
   },
   {
    "duration": 31,
    "start_time": "2022-04-12T14:46:28.207Z"
   },
   {
    "duration": 48,
    "start_time": "2022-04-12T14:49:54.070Z"
   },
   {
    "duration": 18,
    "start_time": "2022-04-12T14:59:38.023Z"
   },
   {
    "duration": 7,
    "start_time": "2022-04-12T14:59:45.596Z"
   },
   {
    "duration": 34,
    "start_time": "2022-04-12T15:00:34.986Z"
   },
   {
    "duration": 62,
    "start_time": "2022-04-12T15:00:42.279Z"
   },
   {
    "duration": 39,
    "start_time": "2022-04-12T15:01:42.994Z"
   },
   {
    "duration": 32,
    "start_time": "2022-04-12T15:01:52.669Z"
   },
   {
    "duration": 20,
    "start_time": "2022-04-12T15:18:16.039Z"
   },
   {
    "duration": 649,
    "start_time": "2022-04-12T15:18:39.017Z"
   },
   {
    "duration": 911,
    "start_time": "2022-04-12T15:19:37.323Z"
   },
   {
    "duration": 1494,
    "start_time": "2022-04-12T15:19:52.450Z"
   },
   {
    "duration": 253,
    "start_time": "2022-04-12T15:24:02.230Z"
   },
   {
    "duration": 365,
    "start_time": "2022-04-12T15:24:12.777Z"
   },
   {
    "duration": 240,
    "start_time": "2022-04-12T15:24:19.405Z"
   },
   {
    "duration": 239,
    "start_time": "2022-04-12T15:24:50.436Z"
   },
   {
    "duration": 981,
    "start_time": "2022-04-12T15:25:06.725Z"
   },
   {
    "duration": 68,
    "start_time": "2022-04-12T15:26:12.020Z"
   },
   {
    "duration": 277,
    "start_time": "2022-04-12T15:26:25.480Z"
   },
   {
    "duration": 241,
    "start_time": "2022-04-12T15:26:32.364Z"
   },
   {
    "duration": 247,
    "start_time": "2022-04-12T15:26:52.120Z"
   },
   {
    "duration": 230,
    "start_time": "2022-04-12T15:27:10.114Z"
   },
   {
    "duration": 260,
    "start_time": "2022-04-12T15:29:01.263Z"
   },
   {
    "duration": 239,
    "start_time": "2022-04-12T15:29:12.669Z"
   },
   {
    "duration": 408,
    "start_time": "2022-04-12T15:29:24.269Z"
   },
   {
    "duration": 260,
    "start_time": "2022-04-12T15:29:29.770Z"
   },
   {
    "duration": 300,
    "start_time": "2022-04-12T15:29:34.876Z"
   },
   {
    "duration": 274,
    "start_time": "2022-04-12T15:29:46.931Z"
   },
   {
    "duration": 432,
    "start_time": "2022-04-12T15:31:06.680Z"
   },
   {
    "duration": 292,
    "start_time": "2022-04-12T15:31:29.857Z"
   },
   {
    "duration": 414,
    "start_time": "2022-04-12T15:31:36.543Z"
   },
   {
    "duration": 445,
    "start_time": "2022-04-12T15:31:41.302Z"
   },
   {
    "duration": 272,
    "start_time": "2022-04-12T15:32:31.601Z"
   },
   {
    "duration": 213,
    "start_time": "2022-04-12T15:32:45.975Z"
   },
   {
    "duration": 211,
    "start_time": "2022-04-12T15:33:04.989Z"
   },
   {
    "duration": 298,
    "start_time": "2022-04-12T15:34:21.595Z"
   },
   {
    "duration": 786,
    "start_time": "2022-04-13T13:32:38.104Z"
   },
   {
    "duration": 121,
    "start_time": "2022-04-13T13:32:38.892Z"
   },
   {
    "duration": 22,
    "start_time": "2022-04-13T13:32:39.014Z"
   },
   {
    "duration": 19,
    "start_time": "2022-04-13T13:32:39.038Z"
   },
   {
    "duration": 164,
    "start_time": "2022-04-13T13:32:39.058Z"
   },
   {
    "duration": 529,
    "start_time": "2022-04-13T13:32:39.223Z"
   },
   {
    "duration": 6,
    "start_time": "2022-04-13T13:32:39.754Z"
   },
   {
    "duration": 9,
    "start_time": "2022-04-13T13:32:39.761Z"
   },
   {
    "duration": 22,
    "start_time": "2022-04-13T13:32:39.771Z"
   },
   {
    "duration": 178,
    "start_time": "2022-04-13T13:32:39.796Z"
   },
   {
    "duration": 648,
    "start_time": "2022-04-13T13:32:39.976Z"
   },
   {
    "duration": 5,
    "start_time": "2022-04-13T13:32:40.626Z"
   },
   {
    "duration": 8,
    "start_time": "2022-04-13T13:32:40.633Z"
   },
   {
    "duration": 24,
    "start_time": "2022-04-13T13:32:40.643Z"
   },
   {
    "duration": 171,
    "start_time": "2022-04-13T13:32:40.668Z"
   },
   {
    "duration": 577,
    "start_time": "2022-04-13T13:32:40.840Z"
   },
   {
    "duration": 5,
    "start_time": "2022-04-13T13:32:41.422Z"
   },
   {
    "duration": 7,
    "start_time": "2022-04-13T13:32:41.429Z"
   },
   {
    "duration": 19,
    "start_time": "2022-04-13T13:32:41.437Z"
   },
   {
    "duration": 6,
    "start_time": "2022-04-13T13:32:41.457Z"
   },
   {
    "duration": 95,
    "start_time": "2022-04-13T13:32:41.465Z"
   },
   {
    "duration": 5,
    "start_time": "2022-04-13T13:32:41.561Z"
   },
   {
    "duration": 25,
    "start_time": "2022-04-13T13:32:41.567Z"
   },
   {
    "duration": 66,
    "start_time": "2022-04-13T13:32:41.593Z"
   },
   {
    "duration": 18,
    "start_time": "2022-04-13T13:32:41.661Z"
   },
   {
    "duration": 25,
    "start_time": "2022-04-13T13:32:41.681Z"
   },
   {
    "duration": 50,
    "start_time": "2022-04-13T13:32:41.707Z"
   },
   {
    "duration": 22,
    "start_time": "2022-04-13T13:32:41.760Z"
   },
   {
    "duration": 45,
    "start_time": "2022-04-13T13:32:41.783Z"
   },
   {
    "duration": 885,
    "start_time": "2022-04-13T13:32:41.829Z"
   },
   {
    "duration": 51,
    "start_time": "2022-04-13T13:32:42.717Z"
   },
   {
    "duration": 182,
    "start_time": "2022-04-13T13:32:42.770Z"
   },
   {
    "duration": 163,
    "start_time": "2022-04-13T13:32:42.954Z"
   },
   {
    "duration": 172,
    "start_time": "2022-04-13T13:32:43.123Z"
   },
   {
    "duration": 122,
    "start_time": "2022-04-13T13:32:43.296Z"
   },
   {
    "duration": 118,
    "start_time": "2022-04-13T13:32:43.424Z"
   },
   {
    "duration": 3,
    "start_time": "2022-04-13T13:32:43.543Z"
   },
   {
    "duration": 30,
    "start_time": "2022-04-13T13:32:43.547Z"
   },
   {
    "duration": 28,
    "start_time": "2022-04-13T13:32:43.579Z"
   },
   {
    "duration": 6,
    "start_time": "2022-04-13T13:48:49.296Z"
   },
   {
    "duration": 5,
    "start_time": "2022-04-13T13:49:04.393Z"
   },
   {
    "duration": 6,
    "start_time": "2022-04-13T13:49:58.987Z"
   },
   {
    "duration": 6,
    "start_time": "2022-04-13T13:50:13.044Z"
   },
   {
    "duration": 7,
    "start_time": "2022-04-13T13:50:19.284Z"
   },
   {
    "duration": 7,
    "start_time": "2022-04-13T13:51:00.689Z"
   },
   {
    "duration": 2,
    "start_time": "2022-04-13T13:51:22.934Z"
   },
   {
    "duration": 7,
    "start_time": "2022-04-13T13:53:12.098Z"
   },
   {
    "duration": 3,
    "start_time": "2022-04-13T13:53:29.052Z"
   },
   {
    "duration": 7,
    "start_time": "2022-04-13T13:56:13.842Z"
   },
   {
    "duration": 7,
    "start_time": "2022-04-13T13:56:36.664Z"
   },
   {
    "duration": 8,
    "start_time": "2022-04-13T13:58:01.641Z"
   },
   {
    "duration": 49,
    "start_time": "2022-04-13T14:01:33.719Z"
   },
   {
    "duration": 754,
    "start_time": "2022-04-13T14:09:47.097Z"
   },
   {
    "duration": 600,
    "start_time": "2022-04-13T14:10:25.676Z"
   },
   {
    "duration": 684,
    "start_time": "2022-04-13T14:10:42.659Z"
   },
   {
    "duration": 611,
    "start_time": "2022-04-13T14:10:55.199Z"
   },
   {
    "duration": 9,
    "start_time": "2022-04-13T14:20:25.975Z"
   },
   {
    "duration": 9,
    "start_time": "2022-04-13T14:21:08.596Z"
   },
   {
    "duration": 145,
    "start_time": "2022-04-13T14:22:54.207Z"
   },
   {
    "duration": 140,
    "start_time": "2022-04-13T14:23:01.796Z"
   },
   {
    "duration": 306,
    "start_time": "2022-04-13T14:23:25.438Z"
   },
   {
    "duration": 219,
    "start_time": "2022-04-13T14:23:30.734Z"
   },
   {
    "duration": 141,
    "start_time": "2022-04-13T14:23:45.146Z"
   },
   {
    "duration": 8,
    "start_time": "2022-04-13T14:25:11.313Z"
   },
   {
    "duration": 134,
    "start_time": "2022-04-13T14:25:19.801Z"
   },
   {
    "duration": 216,
    "start_time": "2022-04-13T14:26:45.607Z"
   },
   {
    "duration": 94,
    "start_time": "2022-04-13T14:26:55.500Z"
   },
   {
    "duration": 102,
    "start_time": "2022-04-13T15:50:51.083Z"
   },
   {
    "duration": 96,
    "start_time": "2022-04-13T15:52:07.145Z"
   },
   {
    "duration": 103,
    "start_time": "2022-04-13T15:54:39.453Z"
   },
   {
    "duration": 110,
    "start_time": "2022-04-13T15:56:32.220Z"
   },
   {
    "duration": 99,
    "start_time": "2022-04-13T15:59:47.854Z"
   },
   {
    "duration": 168,
    "start_time": "2022-04-13T15:59:59.359Z"
   },
   {
    "duration": 512,
    "start_time": "2022-04-13T16:00:19.805Z"
   },
   {
    "duration": 7,
    "start_time": "2022-04-13T16:08:23.475Z"
   },
   {
    "duration": 13,
    "start_time": "2022-04-13T16:08:30.081Z"
   },
   {
    "duration": 14,
    "start_time": "2022-04-13T16:08:47.673Z"
   },
   {
    "duration": 7,
    "start_time": "2022-04-13T16:12:09.951Z"
   },
   {
    "duration": 9,
    "start_time": "2022-04-13T16:14:22.040Z"
   },
   {
    "duration": 8,
    "start_time": "2022-04-13T16:20:33.797Z"
   },
   {
    "duration": 7,
    "start_time": "2022-04-13T16:20:57.620Z"
   },
   {
    "duration": 7,
    "start_time": "2022-04-13T16:23:12.172Z"
   },
   {
    "duration": 6,
    "start_time": "2022-04-13T16:27:12.656Z"
   },
   {
    "duration": 7,
    "start_time": "2022-04-13T16:27:42.195Z"
   },
   {
    "duration": 8,
    "start_time": "2022-04-13T16:28:12.253Z"
   },
   {
    "duration": 3,
    "start_time": "2022-04-13T16:28:33.514Z"
   },
   {
    "duration": 80,
    "start_time": "2022-04-13T16:28:33.519Z"
   },
   {
    "duration": 32,
    "start_time": "2022-04-13T16:28:33.600Z"
   },
   {
    "duration": 15,
    "start_time": "2022-04-13T16:28:33.633Z"
   },
   {
    "duration": 158,
    "start_time": "2022-04-13T16:28:33.649Z"
   },
   {
    "duration": 542,
    "start_time": "2022-04-13T16:28:33.808Z"
   },
   {
    "duration": 4,
    "start_time": "2022-04-13T16:28:34.352Z"
   },
   {
    "duration": 6,
    "start_time": "2022-04-13T16:28:34.358Z"
   },
   {
    "duration": 20,
    "start_time": "2022-04-13T16:28:34.365Z"
   },
   {
    "duration": 173,
    "start_time": "2022-04-13T16:28:34.386Z"
   },
   {
    "duration": 594,
    "start_time": "2022-04-13T16:28:34.562Z"
   },
   {
    "duration": 4,
    "start_time": "2022-04-13T16:28:35.158Z"
   },
   {
    "duration": 5,
    "start_time": "2022-04-13T16:28:35.164Z"
   },
   {
    "duration": 21,
    "start_time": "2022-04-13T16:28:35.170Z"
   },
   {
    "duration": 133,
    "start_time": "2022-04-13T16:28:35.193Z"
   },
   {
    "duration": 550,
    "start_time": "2022-04-13T16:28:35.328Z"
   },
   {
    "duration": 4,
    "start_time": "2022-04-13T16:28:35.880Z"
   },
   {
    "duration": 5,
    "start_time": "2022-04-13T16:28:35.886Z"
   },
   {
    "duration": 40,
    "start_time": "2022-04-13T16:28:35.892Z"
   },
   {
    "duration": 5,
    "start_time": "2022-04-13T16:28:35.934Z"
   },
   {
    "duration": 25,
    "start_time": "2022-04-13T16:28:35.941Z"
   },
   {
    "duration": 5,
    "start_time": "2022-04-13T16:28:35.968Z"
   },
   {
    "duration": 17,
    "start_time": "2022-04-13T16:28:35.975Z"
   },
   {
    "duration": 77,
    "start_time": "2022-04-13T16:28:35.993Z"
   },
   {
    "duration": 19,
    "start_time": "2022-04-13T16:28:36.072Z"
   },
   {
    "duration": 42,
    "start_time": "2022-04-13T16:28:36.093Z"
   },
   {
    "duration": 37,
    "start_time": "2022-04-13T16:28:36.137Z"
   },
   {
    "duration": 23,
    "start_time": "2022-04-13T16:28:36.176Z"
   },
   {
    "duration": 37,
    "start_time": "2022-04-13T16:28:36.202Z"
   },
   {
    "duration": 537,
    "start_time": "2022-04-13T16:28:36.241Z"
   },
   {
    "duration": 54,
    "start_time": "2022-04-13T16:28:36.780Z"
   },
   {
    "duration": 162,
    "start_time": "2022-04-13T16:28:36.836Z"
   },
   {
    "duration": 367,
    "start_time": "2022-04-13T16:28:37.000Z"
   },
   {
    "duration": 164,
    "start_time": "2022-04-13T16:28:37.370Z"
   },
   {
    "duration": 116,
    "start_time": "2022-04-13T16:28:37.536Z"
   },
   {
    "duration": 127,
    "start_time": "2022-04-13T16:28:37.654Z"
   },
   {
    "duration": 8,
    "start_time": "2022-04-13T16:28:37.783Z"
   },
   {
    "duration": 12,
    "start_time": "2022-04-13T16:28:37.792Z"
   },
   {
    "duration": 22,
    "start_time": "2022-04-13T16:28:37.806Z"
   },
   {
    "duration": 47,
    "start_time": "2022-04-13T16:28:37.829Z"
   },
   {
    "duration": 653,
    "start_time": "2022-04-13T16:28:37.878Z"
   },
   {
    "duration": 9,
    "start_time": "2022-04-13T16:28:38.533Z"
   },
   {
    "duration": 147,
    "start_time": "2022-04-13T16:28:38.543Z"
   },
   {
    "duration": 207,
    "start_time": "2022-04-13T16:28:38.691Z"
   },
   {
    "duration": 13,
    "start_time": "2022-04-13T16:28:38.899Z"
   },
   {
    "duration": 15,
    "start_time": "2022-04-13T16:28:38.913Z"
   },
   {
    "duration": 8,
    "start_time": "2022-04-13T16:28:38.929Z"
   },
   {
    "duration": 18,
    "start_time": "2022-04-13T16:28:38.939Z"
   },
   {
    "duration": 14,
    "start_time": "2022-04-13T16:28:50.343Z"
   },
   {
    "duration": 812,
    "start_time": "2022-04-13T16:41:36.591Z"
   },
   {
    "duration": 800,
    "start_time": "2022-04-13T16:43:25.286Z"
   },
   {
    "duration": 10,
    "start_time": "2022-04-13T16:43:51.441Z"
   },
   {
    "duration": 843,
    "start_time": "2022-04-13T16:44:28.812Z"
   },
   {
    "duration": 1355,
    "start_time": "2022-04-13T16:47:27.036Z"
   },
   {
    "duration": 989,
    "start_time": "2022-04-13T16:49:54.801Z"
   },
   {
    "duration": 944,
    "start_time": "2022-04-13T16:50:11.544Z"
   },
   {
    "duration": 864,
    "start_time": "2022-04-13T16:50:39.626Z"
   },
   {
    "duration": 922,
    "start_time": "2022-04-13T16:51:04.531Z"
   },
   {
    "duration": 10,
    "start_time": "2022-04-13T17:00:08.583Z"
   },
   {
    "duration": 1032,
    "start_time": "2022-04-13T17:02:19.771Z"
   },
   {
    "duration": 15,
    "start_time": "2022-04-13T17:10:57.460Z"
   },
   {
    "duration": 1022,
    "start_time": "2022-04-13T17:13:22.913Z"
   },
   {
    "duration": 6,
    "start_time": "2022-04-13T17:14:33.022Z"
   },
   {
    "duration": 6,
    "start_time": "2022-04-13T17:14:45.058Z"
   },
   {
    "duration": 5,
    "start_time": "2022-04-13T17:19:54.347Z"
   },
   {
    "duration": 5,
    "start_time": "2022-04-13T17:21:56.157Z"
   },
   {
    "duration": 98,
    "start_time": "2022-04-13T17:25:54.827Z"
   },
   {
    "duration": 150,
    "start_time": "2022-04-13T17:26:11.888Z"
   },
   {
    "duration": 1508,
    "start_time": "2022-04-14T11:52:05.998Z"
   },
   {
    "duration": 813,
    "start_time": "2022-04-14T11:52:07.509Z"
   },
   {
    "duration": 110,
    "start_time": "2022-04-14T11:52:08.325Z"
   },
   {
    "duration": 154,
    "start_time": "2022-04-14T11:52:08.439Z"
   },
   {
    "duration": 726,
    "start_time": "2022-04-14T11:52:08.596Z"
   },
   {
    "duration": 915,
    "start_time": "2022-04-14T11:52:09.324Z"
   },
   {
    "duration": 6,
    "start_time": "2022-04-14T11:52:10.241Z"
   },
   {
    "duration": 21,
    "start_time": "2022-04-14T11:52:10.249Z"
   },
   {
    "duration": 42,
    "start_time": "2022-04-14T11:52:10.272Z"
   },
   {
    "duration": 282,
    "start_time": "2022-04-14T11:52:10.318Z"
   },
   {
    "duration": 1247,
    "start_time": "2022-04-14T11:52:10.602Z"
   },
   {
    "duration": 6,
    "start_time": "2022-04-14T11:52:11.851Z"
   },
   {
    "duration": 9,
    "start_time": "2022-04-14T11:52:11.859Z"
   },
   {
    "duration": 53,
    "start_time": "2022-04-14T11:52:11.871Z"
   },
   {
    "duration": 211,
    "start_time": "2022-04-14T11:52:11.927Z"
   },
   {
    "duration": 1028,
    "start_time": "2022-04-14T11:52:12.140Z"
   },
   {
    "duration": 7,
    "start_time": "2022-04-14T11:52:13.170Z"
   },
   {
    "duration": 7,
    "start_time": "2022-04-14T11:52:13.193Z"
   },
   {
    "duration": 32,
    "start_time": "2022-04-14T11:52:13.202Z"
   },
   {
    "duration": 9,
    "start_time": "2022-04-14T11:52:13.237Z"
   },
   {
    "duration": 122,
    "start_time": "2022-04-14T11:52:13.248Z"
   },
   {
    "duration": 6,
    "start_time": "2022-04-14T11:52:13.372Z"
   },
   {
    "duration": 34,
    "start_time": "2022-04-14T11:52:13.393Z"
   },
   {
    "duration": 101,
    "start_time": "2022-04-14T11:52:13.429Z"
   },
   {
    "duration": 31,
    "start_time": "2022-04-14T11:52:13.533Z"
   },
   {
    "duration": 51,
    "start_time": "2022-04-14T11:52:13.566Z"
   },
   {
    "duration": 60,
    "start_time": "2022-04-14T11:52:13.619Z"
   },
   {
    "duration": 36,
    "start_time": "2022-04-14T11:52:13.697Z"
   },
   {
    "duration": 31,
    "start_time": "2022-04-14T11:52:13.735Z"
   },
   {
    "duration": 943,
    "start_time": "2022-04-14T11:52:13.768Z"
   },
   {
    "duration": 79,
    "start_time": "2022-04-14T11:52:14.714Z"
   },
   {
    "duration": 280,
    "start_time": "2022-04-14T11:52:14.795Z"
   },
   {
    "duration": 312,
    "start_time": "2022-04-14T11:52:15.078Z"
   },
   {
    "duration": 301,
    "start_time": "2022-04-14T11:52:15.392Z"
   },
   {
    "duration": 206,
    "start_time": "2022-04-14T11:52:15.695Z"
   },
   {
    "duration": 193,
    "start_time": "2022-04-14T11:52:15.903Z"
   },
   {
    "duration": 9,
    "start_time": "2022-04-14T11:52:16.098Z"
   },
   {
    "duration": 11,
    "start_time": "2022-04-14T11:52:16.109Z"
   },
   {
    "duration": 10,
    "start_time": "2022-04-14T11:52:16.122Z"
   },
   {
    "duration": 116,
    "start_time": "2022-04-14T11:52:16.134Z"
   },
   {
    "duration": 1194,
    "start_time": "2022-04-14T11:52:16.252Z"
   },
   {
    "duration": 12,
    "start_time": "2022-04-14T11:52:17.449Z"
   },
   {
    "duration": 255,
    "start_time": "2022-04-14T11:52:17.464Z"
   },
   {
    "duration": 317,
    "start_time": "2022-04-14T11:52:17.721Z"
   },
   {
    "duration": 0,
    "start_time": "2022-04-14T11:52:18.041Z"
   },
   {
    "duration": 0,
    "start_time": "2022-04-14T11:52:18.043Z"
   },
   {
    "duration": 0,
    "start_time": "2022-04-14T11:52:18.045Z"
   },
   {
    "duration": 0,
    "start_time": "2022-04-14T11:52:18.047Z"
   },
   {
    "duration": 0,
    "start_time": "2022-04-14T11:52:18.049Z"
   },
   {
    "duration": 0,
    "start_time": "2022-04-14T11:52:18.050Z"
   },
   {
    "duration": 0,
    "start_time": "2022-04-14T11:52:18.051Z"
   },
   {
    "duration": 0,
    "start_time": "2022-04-14T11:52:18.053Z"
   },
   {
    "duration": 0,
    "start_time": "2022-04-14T11:52:18.054Z"
   },
   {
    "duration": 0,
    "start_time": "2022-04-14T11:52:18.056Z"
   },
   {
    "duration": 0,
    "start_time": "2022-04-14T11:52:18.057Z"
   },
   {
    "duration": 104,
    "start_time": "2022-04-14T15:44:19.222Z"
   },
   {
    "duration": 104,
    "start_time": "2022-04-14T15:44:23.663Z"
   },
   {
    "duration": 44,
    "start_time": "2022-04-14T15:45:13.846Z"
   },
   {
    "duration": 879,
    "start_time": "2022-04-14T15:45:18.958Z"
   },
   {
    "duration": 83,
    "start_time": "2022-04-14T15:45:19.839Z"
   },
   {
    "duration": 25,
    "start_time": "2022-04-14T15:45:19.924Z"
   },
   {
    "duration": 30,
    "start_time": "2022-04-14T15:45:19.951Z"
   },
   {
    "duration": 176,
    "start_time": "2022-04-14T15:45:19.983Z"
   },
   {
    "duration": 546,
    "start_time": "2022-04-14T15:45:20.160Z"
   },
   {
    "duration": 4,
    "start_time": "2022-04-14T15:45:20.708Z"
   },
   {
    "duration": 10,
    "start_time": "2022-04-14T15:45:20.714Z"
   },
   {
    "duration": 27,
    "start_time": "2022-04-14T15:45:20.726Z"
   },
   {
    "duration": 181,
    "start_time": "2022-04-14T15:45:20.772Z"
   },
   {
    "duration": 735,
    "start_time": "2022-04-14T15:45:20.955Z"
   },
   {
    "duration": 5,
    "start_time": "2022-04-14T15:45:21.692Z"
   },
   {
    "duration": 8,
    "start_time": "2022-04-14T15:45:21.699Z"
   },
   {
    "duration": 28,
    "start_time": "2022-04-14T15:45:21.709Z"
   },
   {
    "duration": 144,
    "start_time": "2022-04-14T15:45:21.738Z"
   },
   {
    "duration": 674,
    "start_time": "2022-04-14T15:45:21.883Z"
   },
   {
    "duration": 4,
    "start_time": "2022-04-14T15:45:22.559Z"
   },
   {
    "duration": 5,
    "start_time": "2022-04-14T15:45:22.573Z"
   },
   {
    "duration": 33,
    "start_time": "2022-04-14T15:45:22.580Z"
   },
   {
    "duration": 14,
    "start_time": "2022-04-14T15:45:22.615Z"
   },
   {
    "duration": 107,
    "start_time": "2022-04-14T15:45:22.630Z"
   },
   {
    "duration": 4,
    "start_time": "2022-04-14T15:45:22.739Z"
   },
   {
    "duration": 34,
    "start_time": "2022-04-14T15:45:22.745Z"
   },
   {
    "duration": 55,
    "start_time": "2022-04-14T15:45:22.780Z"
   },
   {
    "duration": 41,
    "start_time": "2022-04-14T15:45:22.837Z"
   },
   {
    "duration": 25,
    "start_time": "2022-04-14T15:45:22.879Z"
   },
   {
    "duration": 43,
    "start_time": "2022-04-14T15:45:22.905Z"
   },
   {
    "duration": 31,
    "start_time": "2022-04-14T15:45:22.972Z"
   },
   {
    "duration": 22,
    "start_time": "2022-04-14T15:45:23.004Z"
   },
   {
    "duration": 631,
    "start_time": "2022-04-14T15:45:23.027Z"
   },
   {
    "duration": 60,
    "start_time": "2022-04-14T15:45:23.660Z"
   },
   {
    "duration": 196,
    "start_time": "2022-04-14T15:45:23.722Z"
   },
   {
    "duration": 193,
    "start_time": "2022-04-14T15:45:23.920Z"
   },
   {
    "duration": 195,
    "start_time": "2022-04-14T15:45:24.115Z"
   },
   {
    "duration": 135,
    "start_time": "2022-04-14T15:45:24.312Z"
   },
   {
    "duration": 121,
    "start_time": "2022-04-14T15:45:24.449Z"
   },
   {
    "duration": 8,
    "start_time": "2022-04-14T15:45:24.572Z"
   },
   {
    "duration": 7,
    "start_time": "2022-04-14T15:45:24.581Z"
   },
   {
    "duration": 7,
    "start_time": "2022-04-14T15:45:24.590Z"
   },
   {
    "duration": 75,
    "start_time": "2022-04-14T15:45:24.599Z"
   },
   {
    "duration": 811,
    "start_time": "2022-04-14T15:45:24.676Z"
   },
   {
    "duration": 9,
    "start_time": "2022-04-14T15:45:25.489Z"
   },
   {
    "duration": 166,
    "start_time": "2022-04-14T15:45:25.500Z"
   },
   {
    "duration": 170,
    "start_time": "2022-04-14T15:45:25.667Z"
   },
   {
    "duration": 0,
    "start_time": "2022-04-14T15:45:25.838Z"
   },
   {
    "duration": 0,
    "start_time": "2022-04-14T15:45:25.840Z"
   },
   {
    "duration": 0,
    "start_time": "2022-04-14T15:45:25.841Z"
   },
   {
    "duration": 0,
    "start_time": "2022-04-14T15:45:25.842Z"
   },
   {
    "duration": 0,
    "start_time": "2022-04-14T15:45:25.843Z"
   },
   {
    "duration": 0,
    "start_time": "2022-04-14T15:45:25.844Z"
   },
   {
    "duration": 0,
    "start_time": "2022-04-14T15:45:25.845Z"
   },
   {
    "duration": 0,
    "start_time": "2022-04-14T15:45:25.846Z"
   },
   {
    "duration": 0,
    "start_time": "2022-04-14T15:45:25.847Z"
   },
   {
    "duration": 0,
    "start_time": "2022-04-14T15:45:25.848Z"
   },
   {
    "duration": 0,
    "start_time": "2022-04-14T15:45:25.849Z"
   },
   {
    "duration": 151,
    "start_time": "2022-04-14T15:46:58.357Z"
   },
   {
    "duration": 152,
    "start_time": "2022-04-14T15:47:14.300Z"
   },
   {
    "duration": 148,
    "start_time": "2022-04-14T15:47:47.616Z"
   },
   {
    "duration": 160,
    "start_time": "2022-04-14T15:48:05.785Z"
   },
   {
    "duration": 164,
    "start_time": "2022-04-14T15:48:15.920Z"
   },
   {
    "duration": 189,
    "start_time": "2022-04-14T15:49:00.553Z"
   },
   {
    "duration": 766,
    "start_time": "2022-04-14T16:03:25.627Z"
   },
   {
    "duration": 104,
    "start_time": "2022-04-14T16:03:26.395Z"
   },
   {
    "duration": 26,
    "start_time": "2022-04-14T16:03:26.501Z"
   },
   {
    "duration": 22,
    "start_time": "2022-04-14T16:03:26.530Z"
   },
   {
    "duration": 202,
    "start_time": "2022-04-14T16:03:26.554Z"
   },
   {
    "duration": 593,
    "start_time": "2022-04-14T16:03:26.758Z"
   },
   {
    "duration": 5,
    "start_time": "2022-04-14T16:03:27.353Z"
   },
   {
    "duration": 16,
    "start_time": "2022-04-14T16:03:27.359Z"
   },
   {
    "duration": 24,
    "start_time": "2022-04-14T16:03:27.376Z"
   },
   {
    "duration": 204,
    "start_time": "2022-04-14T16:03:27.403Z"
   },
   {
    "duration": 762,
    "start_time": "2022-04-14T16:03:27.609Z"
   },
   {
    "duration": 4,
    "start_time": "2022-04-14T16:03:28.373Z"
   },
   {
    "duration": 9,
    "start_time": "2022-04-14T16:03:28.378Z"
   },
   {
    "duration": 26,
    "start_time": "2022-04-14T16:03:28.389Z"
   },
   {
    "duration": 739,
    "start_time": "2022-04-14T16:10:10.658Z"
   },
   {
    "duration": 101,
    "start_time": "2022-04-14T16:10:11.399Z"
   },
   {
    "duration": 27,
    "start_time": "2022-04-14T16:10:11.502Z"
   },
   {
    "duration": 21,
    "start_time": "2022-04-14T16:10:11.531Z"
   },
   {
    "duration": 195,
    "start_time": "2022-04-14T16:10:11.554Z"
   },
   {
    "duration": 565,
    "start_time": "2022-04-14T16:10:11.751Z"
   },
   {
    "duration": 5,
    "start_time": "2022-04-14T16:10:12.317Z"
   },
   {
    "duration": 8,
    "start_time": "2022-04-14T16:10:12.324Z"
   },
   {
    "duration": 43,
    "start_time": "2022-04-14T16:10:12.334Z"
   },
   {
    "duration": 201,
    "start_time": "2022-04-14T16:10:12.380Z"
   },
   {
    "duration": 744,
    "start_time": "2022-04-14T16:10:12.583Z"
   },
   {
    "duration": 5,
    "start_time": "2022-04-14T16:10:13.329Z"
   },
   {
    "duration": 14,
    "start_time": "2022-04-14T16:10:13.336Z"
   },
   {
    "duration": 32,
    "start_time": "2022-04-14T16:10:13.352Z"
   },
   {
    "duration": 737,
    "start_time": "2022-04-14T16:12:01.354Z"
   },
   {
    "duration": 100,
    "start_time": "2022-04-14T16:12:02.093Z"
   },
   {
    "duration": 26,
    "start_time": "2022-04-14T16:12:02.195Z"
   },
   {
    "duration": 28,
    "start_time": "2022-04-14T16:12:02.224Z"
   },
   {
    "duration": 247,
    "start_time": "2022-04-14T16:12:02.254Z"
   },
   {
    "duration": 571,
    "start_time": "2022-04-14T16:12:02.503Z"
   },
   {
    "duration": 5,
    "start_time": "2022-04-14T16:12:03.076Z"
   },
   {
    "duration": 17,
    "start_time": "2022-04-14T16:12:03.082Z"
   },
   {
    "duration": 40,
    "start_time": "2022-04-14T16:12:03.101Z"
   },
   {
    "duration": 183,
    "start_time": "2022-04-14T16:12:03.144Z"
   },
   {
    "duration": 762,
    "start_time": "2022-04-14T16:12:03.329Z"
   },
   {
    "duration": 4,
    "start_time": "2022-04-14T16:12:04.093Z"
   },
   {
    "duration": 12,
    "start_time": "2022-04-14T16:12:04.099Z"
   },
   {
    "duration": 24,
    "start_time": "2022-04-14T16:12:04.113Z"
   },
   {
    "duration": 9,
    "start_time": "2022-04-14T16:12:04.139Z"
   },
   {
    "duration": 690,
    "start_time": "2022-04-14T16:12:04.150Z"
   },
   {
    "duration": 4,
    "start_time": "2022-04-14T16:12:04.842Z"
   },
   {
    "duration": 7,
    "start_time": "2022-04-14T16:12:04.848Z"
   },
   {
    "duration": 36,
    "start_time": "2022-04-14T16:12:04.856Z"
   },
   {
    "duration": 7,
    "start_time": "2022-04-14T16:12:04.894Z"
   },
   {
    "duration": 33,
    "start_time": "2022-04-14T16:12:04.902Z"
   },
   {
    "duration": 4,
    "start_time": "2022-04-14T16:12:04.937Z"
   },
   {
    "duration": 30,
    "start_time": "2022-04-14T16:12:04.943Z"
   },
   {
    "duration": 62,
    "start_time": "2022-04-14T16:12:04.975Z"
   },
   {
    "duration": 22,
    "start_time": "2022-04-14T16:12:05.039Z"
   },
   {
    "duration": 30,
    "start_time": "2022-04-14T16:12:05.063Z"
   },
   {
    "duration": 43,
    "start_time": "2022-04-14T16:12:05.095Z"
   },
   {
    "duration": 37,
    "start_time": "2022-04-14T16:12:05.141Z"
   },
   {
    "duration": 22,
    "start_time": "2022-04-14T16:12:05.180Z"
   },
   {
    "duration": 799,
    "start_time": "2022-04-14T16:12:05.204Z"
   },
   {
    "duration": 70,
    "start_time": "2022-04-14T16:12:06.005Z"
   },
   {
    "duration": 197,
    "start_time": "2022-04-14T16:12:06.077Z"
   },
   {
    "duration": 193,
    "start_time": "2022-04-14T16:12:06.276Z"
   },
   {
    "duration": 193,
    "start_time": "2022-04-14T16:12:06.471Z"
   },
   {
    "duration": 132,
    "start_time": "2022-04-14T16:12:06.665Z"
   },
   {
    "duration": 130,
    "start_time": "2022-04-14T16:12:06.798Z"
   },
   {
    "duration": 9,
    "start_time": "2022-04-14T16:12:06.929Z"
   },
   {
    "duration": 10,
    "start_time": "2022-04-14T16:12:06.940Z"
   },
   {
    "duration": 28,
    "start_time": "2022-04-14T16:12:06.952Z"
   },
   {
    "duration": 61,
    "start_time": "2022-04-14T16:12:06.982Z"
   },
   {
    "duration": 852,
    "start_time": "2022-04-14T16:12:07.045Z"
   },
   {
    "duration": 11,
    "start_time": "2022-04-14T16:12:07.899Z"
   },
   {
    "duration": 179,
    "start_time": "2022-04-14T16:12:07.912Z"
   },
   {
    "duration": 137,
    "start_time": "2022-04-14T16:12:08.094Z"
   },
   {
    "duration": 18,
    "start_time": "2022-04-14T16:12:08.233Z"
   },
   {
    "duration": 27,
    "start_time": "2022-04-14T16:12:08.252Z"
   },
   {
    "duration": 13,
    "start_time": "2022-04-14T16:12:08.280Z"
   },
   {
    "duration": 19,
    "start_time": "2022-04-14T16:12:08.295Z"
   },
   {
    "duration": 1240,
    "start_time": "2022-04-14T16:12:08.315Z"
   },
   {
    "duration": 7,
    "start_time": "2022-04-14T16:12:09.557Z"
   },
   {
    "duration": 13,
    "start_time": "2022-04-14T16:12:09.573Z"
   },
   {
    "duration": 17,
    "start_time": "2022-04-14T16:12:09.588Z"
   },
   {
    "duration": 1113,
    "start_time": "2022-04-14T16:12:09.606Z"
   },
   {
    "duration": 8,
    "start_time": "2022-04-14T16:12:10.721Z"
   },
   {
    "duration": 8,
    "start_time": "2022-04-14T16:12:10.731Z"
   },
   {
    "duration": 697,
    "start_time": "2022-04-14T16:15:36.905Z"
   },
   {
    "duration": 101,
    "start_time": "2022-04-14T16:15:37.605Z"
   },
   {
    "duration": 26,
    "start_time": "2022-04-14T16:15:37.708Z"
   },
   {
    "duration": 21,
    "start_time": "2022-04-14T16:15:37.737Z"
   },
   {
    "duration": 185,
    "start_time": "2022-04-14T16:15:37.773Z"
   },
   {
    "duration": 552,
    "start_time": "2022-04-14T16:15:37.960Z"
   },
   {
    "duration": 6,
    "start_time": "2022-04-14T16:15:38.514Z"
   },
   {
    "duration": 6,
    "start_time": "2022-04-14T16:15:38.522Z"
   },
   {
    "duration": 46,
    "start_time": "2022-04-14T16:15:38.530Z"
   },
   {
    "duration": 188,
    "start_time": "2022-04-14T16:15:38.579Z"
   },
   {
    "duration": 716,
    "start_time": "2022-04-14T16:15:38.772Z"
   },
   {
    "duration": 4,
    "start_time": "2022-04-14T16:15:39.490Z"
   },
   {
    "duration": 10,
    "start_time": "2022-04-14T16:15:39.496Z"
   },
   {
    "duration": 26,
    "start_time": "2022-04-14T16:15:39.508Z"
   },
   {
    "duration": 704,
    "start_time": "2022-04-14T16:16:12.974Z"
   },
   {
    "duration": 92,
    "start_time": "2022-04-14T16:16:13.680Z"
   },
   {
    "duration": 27,
    "start_time": "2022-04-14T16:16:13.774Z"
   },
   {
    "duration": 21,
    "start_time": "2022-04-14T16:16:13.803Z"
   },
   {
    "duration": 202,
    "start_time": "2022-04-14T16:16:13.825Z"
   },
   {
    "duration": 573,
    "start_time": "2022-04-14T16:16:14.028Z"
   },
   {
    "duration": 5,
    "start_time": "2022-04-14T16:16:14.603Z"
   },
   {
    "duration": 8,
    "start_time": "2022-04-14T16:16:14.609Z"
   },
   {
    "duration": 26,
    "start_time": "2022-04-14T16:16:14.618Z"
   },
   {
    "duration": 217,
    "start_time": "2022-04-14T16:16:14.647Z"
   },
   {
    "duration": 761,
    "start_time": "2022-04-14T16:16:14.866Z"
   },
   {
    "duration": 5,
    "start_time": "2022-04-14T16:16:15.630Z"
   },
   {
    "duration": 10,
    "start_time": "2022-04-14T16:16:15.636Z"
   },
   {
    "duration": 39,
    "start_time": "2022-04-14T16:16:15.648Z"
   },
   {
    "duration": 10,
    "start_time": "2022-04-14T16:16:15.689Z"
   },
   {
    "duration": 707,
    "start_time": "2022-04-14T16:16:15.701Z"
   },
   {
    "duration": 5,
    "start_time": "2022-04-14T16:16:16.410Z"
   },
   {
    "duration": 16,
    "start_time": "2022-04-14T16:16:16.416Z"
   },
   {
    "duration": 28,
    "start_time": "2022-04-14T16:16:16.434Z"
   },
   {
    "duration": 8,
    "start_time": "2022-04-14T16:16:16.472Z"
   },
   {
    "duration": 45,
    "start_time": "2022-04-14T16:16:16.481Z"
   },
   {
    "duration": 5,
    "start_time": "2022-04-14T16:16:16.528Z"
   },
   {
    "duration": 38,
    "start_time": "2022-04-14T16:16:16.535Z"
   },
   {
    "duration": 60,
    "start_time": "2022-04-14T16:16:16.575Z"
   },
   {
    "duration": 41,
    "start_time": "2022-04-14T16:16:16.637Z"
   },
   {
    "duration": 39,
    "start_time": "2022-04-14T16:16:16.680Z"
   },
   {
    "duration": 64,
    "start_time": "2022-04-14T16:16:16.721Z"
   },
   {
    "duration": 30,
    "start_time": "2022-04-14T16:16:16.790Z"
   },
   {
    "duration": 23,
    "start_time": "2022-04-14T16:16:16.822Z"
   },
   {
    "duration": 733,
    "start_time": "2022-04-14T16:16:16.847Z"
   },
   {
    "duration": 53,
    "start_time": "2022-04-14T16:16:17.582Z"
   },
   {
    "duration": 204,
    "start_time": "2022-04-14T16:16:17.637Z"
   },
   {
    "duration": 219,
    "start_time": "2022-04-14T16:16:17.842Z"
   },
   {
    "duration": 204,
    "start_time": "2022-04-14T16:16:18.063Z"
   },
   {
    "duration": 138,
    "start_time": "2022-04-14T16:16:18.269Z"
   },
   {
    "duration": 144,
    "start_time": "2022-04-14T16:16:18.409Z"
   },
   {
    "duration": 18,
    "start_time": "2022-04-14T16:16:18.555Z"
   },
   {
    "duration": 9,
    "start_time": "2022-04-14T16:16:18.575Z"
   },
   {
    "duration": 9,
    "start_time": "2022-04-14T16:16:18.585Z"
   },
   {
    "duration": 87,
    "start_time": "2022-04-14T16:16:18.596Z"
   },
   {
    "duration": 873,
    "start_time": "2022-04-14T16:16:18.685Z"
   },
   {
    "duration": 19,
    "start_time": "2022-04-14T16:16:19.560Z"
   },
   {
    "duration": 168,
    "start_time": "2022-04-14T16:16:19.580Z"
   },
   {
    "duration": 137,
    "start_time": "2022-04-14T16:16:19.750Z"
   },
   {
    "duration": 16,
    "start_time": "2022-04-14T16:16:19.888Z"
   },
   {
    "duration": 8,
    "start_time": "2022-04-14T16:16:19.906Z"
   },
   {
    "duration": 10,
    "start_time": "2022-04-14T16:16:19.916Z"
   },
   {
    "duration": 45,
    "start_time": "2022-04-14T16:16:19.928Z"
   },
   {
    "duration": 1287,
    "start_time": "2022-04-14T16:16:19.975Z"
   },
   {
    "duration": 12,
    "start_time": "2022-04-14T16:16:21.264Z"
   },
   {
    "duration": 13,
    "start_time": "2022-04-14T16:16:21.278Z"
   },
   {
    "duration": 21,
    "start_time": "2022-04-14T16:16:21.293Z"
   },
   {
    "duration": 1159,
    "start_time": "2022-04-14T16:16:21.316Z"
   },
   {
    "duration": 7,
    "start_time": "2022-04-14T16:16:22.477Z"
   },
   {
    "duration": 6,
    "start_time": "2022-04-14T16:16:22.486Z"
   },
   {
    "duration": 702,
    "start_time": "2022-04-14T16:22:23.135Z"
   },
   {
    "duration": 90,
    "start_time": "2022-04-14T16:22:23.838Z"
   },
   {
    "duration": 25,
    "start_time": "2022-04-14T16:22:23.930Z"
   },
   {
    "duration": 30,
    "start_time": "2022-04-14T16:22:23.957Z"
   },
   {
    "duration": 185,
    "start_time": "2022-04-14T16:22:23.988Z"
   },
   {
    "duration": 529,
    "start_time": "2022-04-14T16:22:24.174Z"
   },
   {
    "duration": 4,
    "start_time": "2022-04-14T16:22:24.705Z"
   },
   {
    "duration": 13,
    "start_time": "2022-04-14T16:22:24.710Z"
   },
   {
    "duration": 28,
    "start_time": "2022-04-14T16:22:24.724Z"
   },
   {
    "duration": 188,
    "start_time": "2022-04-14T16:22:24.754Z"
   },
   {
    "duration": 701,
    "start_time": "2022-04-14T16:22:24.944Z"
   },
   {
    "duration": 4,
    "start_time": "2022-04-14T16:22:25.647Z"
   },
   {
    "duration": 10,
    "start_time": "2022-04-14T16:22:25.653Z"
   },
   {
    "duration": 30,
    "start_time": "2022-04-14T16:22:25.672Z"
   },
   {
    "duration": 132,
    "start_time": "2022-04-14T16:22:25.704Z"
   },
   {
    "duration": 641,
    "start_time": "2022-04-14T16:22:25.837Z"
   },
   {
    "duration": 5,
    "start_time": "2022-04-14T16:22:26.479Z"
   },
   {
    "duration": 7,
    "start_time": "2022-04-14T16:22:26.485Z"
   },
   {
    "duration": 27,
    "start_time": "2022-04-14T16:22:26.494Z"
   },
   {
    "duration": 7,
    "start_time": "2022-04-14T16:22:26.522Z"
   },
   {
    "duration": 51,
    "start_time": "2022-04-14T16:22:26.530Z"
   },
   {
    "duration": 4,
    "start_time": "2022-04-14T16:22:26.583Z"
   },
   {
    "duration": 99,
    "start_time": "2022-04-14T16:22:26.589Z"
   },
   {
    "duration": 56,
    "start_time": "2022-04-14T16:22:26.689Z"
   },
   {
    "duration": 34,
    "start_time": "2022-04-14T16:22:26.747Z"
   },
   {
    "duration": 21,
    "start_time": "2022-04-14T16:22:26.783Z"
   },
   {
    "duration": 40,
    "start_time": "2022-04-14T16:22:26.806Z"
   },
   {
    "duration": 43,
    "start_time": "2022-04-14T16:22:26.850Z"
   },
   {
    "duration": 21,
    "start_time": "2022-04-14T16:22:26.894Z"
   },
   {
    "duration": 625,
    "start_time": "2022-04-14T16:22:26.916Z"
   },
   {
    "duration": 58,
    "start_time": "2022-04-14T16:22:27.543Z"
   },
   {
    "duration": 184,
    "start_time": "2022-04-14T16:22:27.603Z"
   },
   {
    "duration": 191,
    "start_time": "2022-04-14T16:22:27.789Z"
   },
   {
    "duration": 195,
    "start_time": "2022-04-14T16:22:27.982Z"
   },
   {
    "duration": 131,
    "start_time": "2022-04-14T16:22:28.178Z"
   },
   {
    "duration": 127,
    "start_time": "2022-04-14T16:22:28.311Z"
   },
   {
    "duration": 7,
    "start_time": "2022-04-14T16:22:28.440Z"
   },
   {
    "duration": 8,
    "start_time": "2022-04-14T16:22:28.449Z"
   },
   {
    "duration": 8,
    "start_time": "2022-04-14T16:22:28.473Z"
   },
   {
    "duration": 56,
    "start_time": "2022-04-14T16:22:28.483Z"
   },
   {
    "duration": 813,
    "start_time": "2022-04-14T16:22:28.541Z"
   },
   {
    "duration": 18,
    "start_time": "2022-04-14T16:22:29.356Z"
   },
   {
    "duration": 157,
    "start_time": "2022-04-14T16:22:29.375Z"
   },
   {
    "duration": 122,
    "start_time": "2022-04-14T16:22:29.533Z"
   },
   {
    "duration": 24,
    "start_time": "2022-04-14T16:22:29.656Z"
   },
   {
    "duration": 7,
    "start_time": "2022-04-14T16:22:29.682Z"
   },
   {
    "duration": 10,
    "start_time": "2022-04-14T16:22:29.691Z"
   },
   {
    "duration": 17,
    "start_time": "2022-04-14T16:22:29.703Z"
   },
   {
    "duration": 1232,
    "start_time": "2022-04-14T16:22:29.721Z"
   },
   {
    "duration": 18,
    "start_time": "2022-04-14T16:22:30.955Z"
   },
   {
    "duration": 7,
    "start_time": "2022-04-14T16:22:30.975Z"
   },
   {
    "duration": 25,
    "start_time": "2022-04-14T16:22:30.983Z"
   },
   {
    "duration": 1134,
    "start_time": "2022-04-14T16:22:31.010Z"
   },
   {
    "duration": 8,
    "start_time": "2022-04-14T16:22:32.145Z"
   },
   {
    "duration": 19,
    "start_time": "2022-04-14T16:22:32.155Z"
   },
   {
    "duration": 142,
    "start_time": "2022-04-14T16:23:30.106Z"
   },
   {
    "duration": 139,
    "start_time": "2022-04-14T16:23:38.183Z"
   },
   {
    "duration": 138,
    "start_time": "2022-04-14T16:24:48.229Z"
   },
   {
    "duration": 279,
    "start_time": "2022-04-14T16:27:43.514Z"
   },
   {
    "duration": 149,
    "start_time": "2022-04-14T16:28:02.291Z"
   },
   {
    "duration": 15,
    "start_time": "2022-04-14T16:29:10.794Z"
   },
   {
    "duration": 16,
    "start_time": "2022-04-14T16:29:17.364Z"
   },
   {
    "duration": 135,
    "start_time": "2022-04-14T16:29:26.693Z"
   },
   {
    "duration": 131,
    "start_time": "2022-04-14T16:30:32.712Z"
   },
   {
    "duration": 149,
    "start_time": "2022-04-14T16:33:09.521Z"
   },
   {
    "duration": 9,
    "start_time": "2022-04-14T16:33:46.530Z"
   },
   {
    "duration": 134,
    "start_time": "2022-04-14T16:34:02.526Z"
   },
   {
    "duration": 143,
    "start_time": "2022-04-14T16:35:02.682Z"
   },
   {
    "duration": 132,
    "start_time": "2022-04-14T16:35:24.860Z"
   },
   {
    "duration": 129,
    "start_time": "2022-04-14T16:35:42.670Z"
   },
   {
    "duration": 5,
    "start_time": "2022-04-14T16:36:58.196Z"
   },
   {
    "duration": 130,
    "start_time": "2022-04-14T16:37:18.199Z"
   },
   {
    "duration": 5,
    "start_time": "2022-04-14T16:37:33.652Z"
   },
   {
    "duration": 138,
    "start_time": "2022-04-14T16:42:58.041Z"
   },
   {
    "duration": 242,
    "start_time": "2022-04-14T16:43:04.246Z"
   },
   {
    "duration": 121,
    "start_time": "2022-04-14T16:43:10.844Z"
   },
   {
    "duration": 120,
    "start_time": "2022-04-14T16:44:29.316Z"
   },
   {
    "duration": 110,
    "start_time": "2022-04-14T16:45:09.293Z"
   },
   {
    "duration": 122,
    "start_time": "2022-04-14T16:45:59.079Z"
   },
   {
    "duration": 632,
    "start_time": "2022-04-15T16:48:07.773Z"
   },
   {
    "duration": 425,
    "start_time": "2022-04-15T16:48:08.407Z"
   },
   {
    "duration": 23,
    "start_time": "2022-04-15T16:48:08.833Z"
   },
   {
    "duration": 66,
    "start_time": "2022-04-15T16:48:08.858Z"
   },
   {
    "duration": 382,
    "start_time": "2022-04-15T16:48:08.925Z"
   },
   {
    "duration": 920,
    "start_time": "2022-04-15T16:48:09.309Z"
   },
   {
    "duration": 5,
    "start_time": "2022-04-15T16:48:10.230Z"
   },
   {
    "duration": 10,
    "start_time": "2022-04-15T16:48:10.236Z"
   },
   {
    "duration": 31,
    "start_time": "2022-04-15T16:48:10.247Z"
   },
   {
    "duration": 198,
    "start_time": "2022-04-15T16:48:10.280Z"
   },
   {
    "duration": 737,
    "start_time": "2022-04-15T16:48:10.479Z"
   },
   {
    "duration": 4,
    "start_time": "2022-04-15T16:48:11.217Z"
   },
   {
    "duration": 9,
    "start_time": "2022-04-15T16:48:11.223Z"
   },
   {
    "duration": 23,
    "start_time": "2022-04-15T16:48:11.234Z"
   },
   {
    "duration": 143,
    "start_time": "2022-04-15T16:48:11.258Z"
   },
   {
    "duration": 677,
    "start_time": "2022-04-15T16:48:11.407Z"
   },
   {
    "duration": 4,
    "start_time": "2022-04-15T16:48:12.086Z"
   },
   {
    "duration": 15,
    "start_time": "2022-04-15T16:48:12.092Z"
   },
   {
    "duration": 24,
    "start_time": "2022-04-15T16:48:12.109Z"
   },
   {
    "duration": 7,
    "start_time": "2022-04-15T16:48:12.134Z"
   },
   {
    "duration": 104,
    "start_time": "2022-04-15T16:48:12.142Z"
   },
   {
    "duration": 5,
    "start_time": "2022-04-15T16:48:12.247Z"
   },
   {
    "duration": 28,
    "start_time": "2022-04-15T16:48:12.253Z"
   },
   {
    "duration": 70,
    "start_time": "2022-04-15T16:48:12.282Z"
   },
   {
    "duration": 21,
    "start_time": "2022-04-15T16:48:12.353Z"
   },
   {
    "duration": 41,
    "start_time": "2022-04-15T16:48:12.375Z"
   },
   {
    "duration": 41,
    "start_time": "2022-04-15T16:48:12.417Z"
   },
   {
    "duration": 33,
    "start_time": "2022-04-15T16:48:12.461Z"
   },
   {
    "duration": 21,
    "start_time": "2022-04-15T16:48:12.507Z"
   },
   {
    "duration": 625,
    "start_time": "2022-04-15T16:48:12.529Z"
   },
   {
    "duration": 55,
    "start_time": "2022-04-15T16:48:13.156Z"
   },
   {
    "duration": 194,
    "start_time": "2022-04-15T16:48:13.213Z"
   },
   {
    "duration": 194,
    "start_time": "2022-04-15T16:48:13.409Z"
   },
   {
    "duration": 190,
    "start_time": "2022-04-15T16:48:13.606Z"
   },
   {
    "duration": 130,
    "start_time": "2022-04-15T16:48:13.797Z"
   },
   {
    "duration": 126,
    "start_time": "2022-04-15T16:48:13.929Z"
   },
   {
    "duration": 7,
    "start_time": "2022-04-15T16:48:14.057Z"
   },
   {
    "duration": 9,
    "start_time": "2022-04-15T16:48:14.066Z"
   },
   {
    "duration": 31,
    "start_time": "2022-04-15T16:48:14.077Z"
   },
   {
    "duration": 55,
    "start_time": "2022-04-15T16:48:14.110Z"
   },
   {
    "duration": 840,
    "start_time": "2022-04-15T16:48:14.167Z"
   },
   {
    "duration": 8,
    "start_time": "2022-04-15T16:48:15.009Z"
   },
   {
    "duration": 170,
    "start_time": "2022-04-15T16:48:15.019Z"
   },
   {
    "duration": 126,
    "start_time": "2022-04-15T16:48:15.191Z"
   },
   {
    "duration": 16,
    "start_time": "2022-04-15T16:48:15.318Z"
   },
   {
    "duration": 7,
    "start_time": "2022-04-15T16:48:15.336Z"
   },
   {
    "duration": 10,
    "start_time": "2022-04-15T16:48:15.345Z"
   },
   {
    "duration": 19,
    "start_time": "2022-04-15T16:48:15.357Z"
   },
   {
    "duration": 1228,
    "start_time": "2022-04-15T16:48:15.377Z"
   },
   {
    "duration": 8,
    "start_time": "2022-04-15T16:48:16.607Z"
   },
   {
    "duration": 9,
    "start_time": "2022-04-15T16:48:16.616Z"
   },
   {
    "duration": 16,
    "start_time": "2022-04-15T16:48:16.626Z"
   },
   {
    "duration": 1152,
    "start_time": "2022-04-15T16:48:16.644Z"
   },
   {
    "duration": 13,
    "start_time": "2022-04-15T16:48:17.797Z"
   },
   {
    "duration": 6,
    "start_time": "2022-04-15T16:48:17.811Z"
   },
   {
    "duration": 7,
    "start_time": "2022-04-15T16:49:15.829Z"
   },
   {
    "duration": 71,
    "start_time": "2022-04-15T16:49:25.377Z"
   },
   {
    "duration": 9,
    "start_time": "2022-04-15T16:49:47.990Z"
   },
   {
    "duration": 10,
    "start_time": "2022-04-15T16:51:30.125Z"
   },
   {
    "duration": 112,
    "start_time": "2022-04-15T16:51:54.095Z"
   },
   {
    "duration": 170,
    "start_time": "2022-04-15T16:52:10.126Z"
   },
   {
    "duration": 104,
    "start_time": "2022-04-15T16:52:39.759Z"
   },
   {
    "duration": 107,
    "start_time": "2022-04-15T16:52:54.562Z"
   },
   {
    "duration": 115,
    "start_time": "2022-04-15T16:53:01.034Z"
   },
   {
    "duration": 109,
    "start_time": "2022-04-15T16:53:55.850Z"
   },
   {
    "duration": 125,
    "start_time": "2022-04-15T16:54:45.140Z"
   }
  ],
  "kernelspec": {
   "display_name": "Python 3 (ipykernel)",
   "language": "python",
   "name": "python3"
  },
  "language_info": {
   "codemirror_mode": {
    "name": "ipython",
    "version": 3
   },
   "file_extension": ".py",
   "mimetype": "text/x-python",
   "name": "python",
   "nbconvert_exporter": "python",
   "pygments_lexer": "ipython3",
   "version": "3.9.5"
  },
  "toc": {
   "base_numbering": 1,
   "nav_menu": {},
   "number_sections": true,
   "sideBar": true,
   "skip_h1_title": false,
   "title_cell": "Table of Contents",
   "title_sidebar": "Contents",
   "toc_cell": false,
   "toc_position": {
    "height": "486.667px",
    "left": "114px",
    "top": "141.007px",
    "width": "192.792px"
   },
   "toc_section_display": true,
   "toc_window_display": true
  }
 },
 "nbformat": 4,
 "nbformat_minor": 2
}
