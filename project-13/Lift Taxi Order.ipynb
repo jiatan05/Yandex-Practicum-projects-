{
 "cells": [
  {
   "cell_type": "markdown",
   "metadata": {},
   "source": [
    "# Project description\n",
    "\n",
    "Sweet Lift Taxi company has collected historical data on taxi orders at airports. To attract more drivers during peak hours, we need to predict the amount of taxi orders for the next hour. Build a model for such a prediction.\n",
    "\n",
    "The RMSE metric on the test set should not be more than 48.\n",
    "\n",
    "## Project instructions\n",
    "\n",
    "1. Download the data and resample it by one hour.\n",
    "2. Analyze the data.\n",
    "3. Train different models with different hyperparameters. The test sample should be 10% of the initial dataset. \n",
    "4. Test the data using the test sample and provide a conclusion.\n",
    "\n",
    "## Data description\n",
    "\n",
    "The data is stored in file `taxi.csv`. The number of orders is in the '*num_orders*' column."
   ]
  },
  {
   "cell_type": "markdown",
   "metadata": {},
   "source": [
    "## Preparation"
   ]
  },
  {
   "cell_type": "code",
   "execution_count": 24,
   "metadata": {},
   "outputs": [],
   "source": [
    "#import all modules and libraries\n",
    "\n",
    "import pandas as pd\n",
    "import numpy as np\n",
    "\n",
    "from statsmodels.tsa.seasonal import seasonal_decompose\n",
    "\n",
    "import matplotlib.pyplot as plt\n",
    "\n",
    "from sklearn.linear_model import LinearRegression\n",
    "from sklearn.metrics import mean_squared_error\n",
    "from sklearn.metrics import make_scorer\n",
    "from sklearn.model_selection import cross_val_score\n",
    "from sklearn.model_selection import GridSearchCV\n",
    "from sklearn.model_selection import train_test_split\n",
    "from sklearn.ensemble import RandomForestRegressor\n",
    "from sklearn.model_selection import TimeSeriesSplit\n",
    "\n",
    "from lightgbm import LGBMRegressor\n",
    "\n",
    "import warnings\n",
    "warnings.filterwarnings('ignore')"
   ]
  },
  {
   "cell_type": "code",
   "execution_count": 11,
   "metadata": {},
   "outputs": [
    {
     "name": "stdout",
     "output_type": "stream",
     "text": [
      "True\n",
      "                     num_orders\n",
      "datetime                       \n",
      "2018-03-01 00:00:00           9\n",
      "2018-03-01 00:10:00          14\n",
      "2018-03-01 00:20:00          28\n",
      "2018-03-01 00:30:00          20\n",
      "2018-03-01 00:40:00          32\n",
      "<class 'pandas.core.frame.DataFrame'>\n",
      "DatetimeIndex: 26496 entries, 2018-03-01 00:00:00 to 2018-08-31 23:50:00\n",
      "Data columns (total 1 columns):\n",
      " #   Column      Non-Null Count  Dtype\n",
      "---  ------      --------------  -----\n",
      " 0   num_orders  26496 non-null  int64\n",
      "dtypes: int64(1)\n",
      "memory usage: 414.0 KB\n"
     ]
    }
   ],
   "source": [
    "#load the data, making datetime column the index, convert to datetime type\n",
    "\n",
    "data = pd.read_csv('/datasets/taxi.csv',index_col=[0], parse_dates=[0])\n",
    "\n",
    "#to check if data is sorted\n",
    "print(data.index.is_monotonic)\n",
    "\n",
    "print(data.head())\n",
    "data.info()"
   ]
  },
  {
   "cell_type": "markdown",
   "metadata": {},
   "source": [
    "Our dataset look pretty good. only thing we need to do is to resample our data by hour. "
   ]
  },
  {
   "cell_type": "code",
   "execution_count": 12,
   "metadata": {},
   "outputs": [
    {
     "data": {
      "text/html": [
       "<div>\n",
       "<style scoped>\n",
       "    .dataframe tbody tr th:only-of-type {\n",
       "        vertical-align: middle;\n",
       "    }\n",
       "\n",
       "    .dataframe tbody tr th {\n",
       "        vertical-align: top;\n",
       "    }\n",
       "\n",
       "    .dataframe thead th {\n",
       "        text-align: right;\n",
       "    }\n",
       "</style>\n",
       "<table border=\"1\" class=\"dataframe\">\n",
       "  <thead>\n",
       "    <tr style=\"text-align: right;\">\n",
       "      <th></th>\n",
       "      <th>num_orders</th>\n",
       "    </tr>\n",
       "    <tr>\n",
       "      <th>datetime</th>\n",
       "      <th></th>\n",
       "    </tr>\n",
       "  </thead>\n",
       "  <tbody>\n",
       "    <tr>\n",
       "      <th>2018-03-01 00:00:00</th>\n",
       "      <td>124</td>\n",
       "    </tr>\n",
       "    <tr>\n",
       "      <th>2018-03-01 01:00:00</th>\n",
       "      <td>85</td>\n",
       "    </tr>\n",
       "    <tr>\n",
       "      <th>2018-03-01 02:00:00</th>\n",
       "      <td>71</td>\n",
       "    </tr>\n",
       "    <tr>\n",
       "      <th>2018-03-01 03:00:00</th>\n",
       "      <td>66</td>\n",
       "    </tr>\n",
       "    <tr>\n",
       "      <th>2018-03-01 04:00:00</th>\n",
       "      <td>43</td>\n",
       "    </tr>\n",
       "  </tbody>\n",
       "</table>\n",
       "</div>"
      ],
      "text/plain": [
       "                     num_orders\n",
       "datetime                       \n",
       "2018-03-01 00:00:00         124\n",
       "2018-03-01 01:00:00          85\n",
       "2018-03-01 02:00:00          71\n",
       "2018-03-01 03:00:00          66\n",
       "2018-03-01 04:00:00          43"
      ]
     },
     "execution_count": 12,
     "metadata": {},
     "output_type": "execute_result"
    }
   ],
   "source": [
    "#resample by hour\n",
    "\n",
    "data = data.resample('1H').sum()\n",
    "data.head()"
   ]
  },
  {
   "cell_type": "markdown",
   "metadata": {},
   "source": [
    "We can start analyzing our data. "
   ]
  },
  {
   "cell_type": "markdown",
   "metadata": {},
   "source": [
    "## Analysis"
   ]
  },
  {
   "cell_type": "markdown",
   "metadata": {},
   "source": [
    "Let's analyze the trends and seasonality in different time frames. Residual graph does not tell us much, so we will use a small slice of dates instead."
   ]
  },
  {
   "cell_type": "code",
   "execution_count": 13,
   "metadata": {},
   "outputs": [
    {
     "data": {
      "image/png": "[encoded data removed]",
      "text/plain": [
       "<Figure size 720x1080 with 3 Axes>"
      ]
     },
     "metadata": {
      "needs_background": "light"
     },
     "output_type": "display_data"
    }
   ],
   "source": [
    "#decompose our data\n",
    "decomposed = seasonal_decompose(data)\n",
    "\n",
    "plt.figure(figsize = (10,15))\n",
    "\n",
    "#trend graph\n",
    "plt.subplot(311)\n",
    "decomposed.trend.plot(ax=plt.gca())\n",
    "plt.title('Trend')\n",
    "plt.xlabel('Month')\n",
    "plt.ylabel('Number of Orders')\n",
    "\n",
    "#seasonality graph\n",
    "plt.subplot(312)\n",
    "decomposed.seasonal.plot(ax=plt.gca())\n",
    "plt.title('Seasonality')\n",
    "plt.xlabel('Month')\n",
    "plt.ylabel('Number of Orders')\n",
    "\n",
    "#small slice\n",
    "\n",
    "plt.subplot(313)\n",
    "decomposed.seasonal['2018-07-01 00:00:00': '2018-07-15 00:00:00'].plot(ax=plt.gca())\n",
    "plt.title('Seasonal')\n",
    "plt.xlabel('Month')\n",
    "plt.ylabel('Number of Orders')\n",
    "\n",
    "\n",
    "plt.tight_layout(h_pad=7)\n",
    "plt.show()"
   ]
  },
  {
   "cell_type": "markdown",
   "metadata": {},
   "source": [
    "Our trend graph showed that the growth is relatively linear between March to August, with the number of orders ranging from 40 - 180.\n",
    "\n",
    "As we can see, the first seasonality graph is not very clear, after we took a small slice, we got a more clear seasonality graph. We see that the amplitude of the peaks are between -60 and 60, the pattern is repeating daily. Therefore it suggest that we can determine the customer trends by the hour, because that the peak hours occurs about the same time everyday. "
   ]
  },
  {
   "cell_type": "markdown",
   "metadata": {},
   "source": [
    "## Training"
   ]
  },
  {
   "cell_type": "markdown",
   "metadata": {},
   "source": [
    "Now we train a model to predict the number of customers in the next hour, we will need to add more features. \n",
    "\n",
    " We will use the shift method. \n",
    "\n",
    "We will make features by month, day, hour, and dayofweek. "
   ]
  },
  {
   "cell_type": "code",
   "execution_count": 14,
   "metadata": {},
   "outputs": [
    {
     "data": {
      "text/html": [
       "<div>\n",
       "<style scoped>\n",
       "    .dataframe tbody tr th:only-of-type {\n",
       "        vertical-align: middle;\n",
       "    }\n",
       "\n",
       "    .dataframe tbody tr th {\n",
       "        vertical-align: top;\n",
       "    }\n",
       "\n",
       "    .dataframe thead th {\n",
       "        text-align: right;\n",
       "    }\n",
       "</style>\n",
       "<table border=\"1\" class=\"dataframe\">\n",
       "  <thead>\n",
       "    <tr style=\"text-align: right;\">\n",
       "      <th></th>\n",
       "      <th>num_orders</th>\n",
       "      <th>month</th>\n",
       "      <th>day</th>\n",
       "      <th>dayofweek</th>\n",
       "      <th>hour</th>\n",
       "      <th>lag_1</th>\n",
       "      <th>lag_2</th>\n",
       "      <th>lag_3</th>\n",
       "      <th>lag_4</th>\n",
       "      <th>lag_5</th>\n",
       "      <th>lag_6</th>\n",
       "      <th>lag_7</th>\n",
       "      <th>roll_mean</th>\n",
       "    </tr>\n",
       "    <tr>\n",
       "      <th>datetime</th>\n",
       "      <th></th>\n",
       "      <th></th>\n",
       "      <th></th>\n",
       "      <th></th>\n",
       "      <th></th>\n",
       "      <th></th>\n",
       "      <th></th>\n",
       "      <th></th>\n",
       "      <th></th>\n",
       "      <th></th>\n",
       "      <th></th>\n",
       "      <th></th>\n",
       "      <th></th>\n",
       "    </tr>\n",
       "  </thead>\n",
       "  <tbody>\n",
       "    <tr>\n",
       "      <th>2018-03-02 00:00:00</th>\n",
       "      <td>90</td>\n",
       "      <td>3</td>\n",
       "      <td>2</td>\n",
       "      <td>4</td>\n",
       "      <td>0</td>\n",
       "      <td>58.0</td>\n",
       "      <td>113.0</td>\n",
       "      <td>66.0</td>\n",
       "      <td>61.0</td>\n",
       "      <td>45.0</td>\n",
       "      <td>73.0</td>\n",
       "      <td>44.0</td>\n",
       "      <td>56.833333</td>\n",
       "    </tr>\n",
       "    <tr>\n",
       "      <th>2018-03-02 01:00:00</th>\n",
       "      <td>120</td>\n",
       "      <td>3</td>\n",
       "      <td>2</td>\n",
       "      <td>4</td>\n",
       "      <td>1</td>\n",
       "      <td>90.0</td>\n",
       "      <td>58.0</td>\n",
       "      <td>113.0</td>\n",
       "      <td>66.0</td>\n",
       "      <td>61.0</td>\n",
       "      <td>45.0</td>\n",
       "      <td>73.0</td>\n",
       "      <td>55.416667</td>\n",
       "    </tr>\n",
       "    <tr>\n",
       "      <th>2018-03-02 02:00:00</th>\n",
       "      <td>75</td>\n",
       "      <td>3</td>\n",
       "      <td>2</td>\n",
       "      <td>4</td>\n",
       "      <td>2</td>\n",
       "      <td>120.0</td>\n",
       "      <td>90.0</td>\n",
       "      <td>58.0</td>\n",
       "      <td>113.0</td>\n",
       "      <td>66.0</td>\n",
       "      <td>61.0</td>\n",
       "      <td>45.0</td>\n",
       "      <td>56.875000</td>\n",
       "    </tr>\n",
       "    <tr>\n",
       "      <th>2018-03-02 03:00:00</th>\n",
       "      <td>64</td>\n",
       "      <td>3</td>\n",
       "      <td>2</td>\n",
       "      <td>4</td>\n",
       "      <td>3</td>\n",
       "      <td>75.0</td>\n",
       "      <td>120.0</td>\n",
       "      <td>90.0</td>\n",
       "      <td>58.0</td>\n",
       "      <td>113.0</td>\n",
       "      <td>66.0</td>\n",
       "      <td>61.0</td>\n",
       "      <td>57.041667</td>\n",
       "    </tr>\n",
       "    <tr>\n",
       "      <th>2018-03-02 04:00:00</th>\n",
       "      <td>20</td>\n",
       "      <td>3</td>\n",
       "      <td>2</td>\n",
       "      <td>4</td>\n",
       "      <td>4</td>\n",
       "      <td>64.0</td>\n",
       "      <td>75.0</td>\n",
       "      <td>120.0</td>\n",
       "      <td>90.0</td>\n",
       "      <td>58.0</td>\n",
       "      <td>113.0</td>\n",
       "      <td>66.0</td>\n",
       "      <td>56.958333</td>\n",
       "    </tr>\n",
       "  </tbody>\n",
       "</table>\n",
       "</div>"
      ],
      "text/plain": [
       "                     num_orders  month  day  dayofweek  hour  lag_1  lag_2  \\\n",
       "datetime                                                                     \n",
       "2018-03-02 00:00:00          90      3    2          4     0   58.0  113.0   \n",
       "2018-03-02 01:00:00         120      3    2          4     1   90.0   58.0   \n",
       "2018-03-02 02:00:00          75      3    2          4     2  120.0   90.0   \n",
       "2018-03-02 03:00:00          64      3    2          4     3   75.0  120.0   \n",
       "2018-03-02 04:00:00          20      3    2          4     4   64.0   75.0   \n",
       "\n",
       "                     lag_3  lag_4  lag_5  lag_6  lag_7  roll_mean  \n",
       "datetime                                                           \n",
       "2018-03-02 00:00:00   66.0   61.0   45.0   73.0   44.0  56.833333  \n",
       "2018-03-02 01:00:00  113.0   66.0   61.0   45.0   73.0  55.416667  \n",
       "2018-03-02 02:00:00   58.0  113.0   66.0   61.0   45.0  56.875000  \n",
       "2018-03-02 03:00:00   90.0   58.0  113.0   66.0   61.0  57.041667  \n",
       "2018-03-02 04:00:00  120.0   90.0   58.0  113.0   66.0  56.958333  "
      ]
     },
     "execution_count": 14,
     "metadata": {},
     "output_type": "execute_result"
    }
   ],
   "source": [
    "#make features\n",
    "\n",
    "def make_features(data, max_lag, roll_mean_size):\n",
    "    data['month'] = data.index.month\n",
    "    data['day'] = data.index.day\n",
    "    data['dayofweek'] = data.index.dayofweek\n",
    "    data['hour'] = data.index.hour\n",
    "    \n",
    "    #data['previous_day'] = data['num_orders'].shift(24)\n",
    "    for lag in range(1, max_lag + 1):\n",
    "        data['lag_{}'.format(lag)] = data['num_orders'].shift(lag)\n",
    "        \n",
    "    data['roll_mean']=data['num_orders'].shift().rolling(roll_mean_size).mean()\n",
    "    #data['next_hour_order'] = data['num_orders'].shift(-1)\n",
    "    \n",
    "    data = data.dropna()\n",
    "    return data\n",
    "\n",
    "new_data = make_features(data,7,24)\n",
    "\n",
    "new_data.head()\n"
   ]
  },
  {
   "cell_type": "markdown",
   "metadata": {},
   "source": [
    "## Testing"
   ]
  },
  {
   "cell_type": "markdown",
   "metadata": {},
   "source": [
    "First, let's create features and targets"
   ]
  },
  {
   "cell_type": "code",
   "execution_count": 15,
   "metadata": {},
   "outputs": [
    {
     "name": "stdout",
     "output_type": "stream",
     "text": [
      "features_train size: (3952, 12)\n",
      "features_test size: (440, 12)\n",
      "target_train size: (3952,)\n",
      "target_test size: (440,)\n"
     ]
    }
   ],
   "source": [
    "#train, test set split.\n",
    "\n",
    "features = new_data.drop('num_orders', axis = 1)\n",
    "target = new_data['num_orders']\n",
    "\n",
    "\n",
    "f_train, f_test, t_train, t_test = train_test_split(features, target, shuffle = False, test_size = 0.1)\n",
    "\n",
    "#check size\n",
    "print('features_train size:', f_train.shape)\n",
    "print('features_test size:', f_test.shape)\n",
    "print('target_train size:', t_train.shape)\n",
    "print('target_test size:', t_test.shape)"
   ]
  },
  {
   "cell_type": "markdown",
   "metadata": {},
   "source": [
    "### Linear Regression"
   ]
  },
  {
   "cell_type": "markdown",
   "metadata": {},
   "source": [
    "We will use linear regression as cross-validation"
   ]
  },
  {
   "cell_type": "code",
   "execution_count": 31,
   "metadata": {},
   "outputs": [
    {
     "name": "stdout",
     "output_type": "stream",
     "text": [
      "-32.4496207960866\n"
     ]
    }
   ],
   "source": [
    "#cross-validate\n",
    "tscv = TimeSeriesSplit(n_splits=3)\n",
    "\n",
    "model_lr = LinearRegression()\n",
    "score_lr = cross_val_score(model_lr, f_train, t_train, scoring = 'neg_root_mean_squared_error', cv=tscv)\n",
    "print(score_lr.mean())"
   ]
  },
  {
   "cell_type": "markdown",
   "metadata": {},
   "source": [
    "### Random Forest"
   ]
  },
  {
   "cell_type": "markdown",
   "metadata": {},
   "source": [
    "We will test random forest next."
   ]
  },
  {
   "cell_type": "code",
   "execution_count": 32,
   "metadata": {},
   "outputs": [
    {
     "name": "stdout",
     "output_type": "stream",
     "text": [
      "max_depth =  1 rmse = -37.96121668739068\n",
      "max_depth =  2 rmse = -36.02973975497702\n",
      "max_depth =  3 rmse = -33.83209450986561\n",
      "max_depth =  4 rmse = -32.46853831339006\n",
      "max_depth =  5 rmse = -31.159370955726928\n",
      "max_depth =  6 rmse = -30.10482125959801\n",
      "max_depth =  7 rmse = -29.171303944344658\n",
      "max_depth =  8 rmse = -28.519787224187173\n",
      "max_depth =  9 rmse = -27.91979131759659\n",
      "max_depth =  10 rmse = -27.67602358328916\n"
     ]
    }
   ],
   "source": [
    "#cross-validate & hyperparameter tuning\n",
    "\n",
    "for depth in range(1, 11):\n",
    "    model_rf = RandomForestRegressor(n_estimators = 40, max_depth = depth, random_state = 12345)\n",
    "    score_rf = cross_val_score(model_rf, f_train, t_train, scoring = 'neg_root_mean_squared_error', cv=tscv)\n",
    "    print('max_depth = ', depth, 'rmse =', score_rf.mean())"
   ]
  },
  {
   "cell_type": "markdown",
   "metadata": {},
   "source": [
    "### Light GBM"
   ]
  },
  {
   "cell_type": "code",
   "execution_count": 33,
   "metadata": {},
   "outputs": [
    {
     "name": "stdout",
     "output_type": "stream",
     "text": [
      "best_score = -26.983131716806213\n",
      "best_parameters = {'learning_rate': 0.5, 'n_estimators': 20, 'num_leaves': 10, 'objective': 'rmse', 'random_state': 123456}\n"
     ]
    }
   ],
   "source": [
    "#cross_validate and hyperparameter tuning\n",
    "\n",
    "model_lgbm=LGBMRegressor()\n",
    "parameters={'num_leaves': [10, 20, 30],\n",
    "           'learning_rate': [0.5, 0.1],\n",
    "           'n_estimators': [10, 20],\n",
    "           'random_state': [123456],\n",
    "           'objective': ['rmse']}\n",
    "grid=GridSearchCV(estimator=model_lgbm, param_grid=parameters, scoring='neg_root_mean_squared_error', cv=tscv, n_jobs=-1)\n",
    "grid.fit(f_train, t_train)\n",
    "best_param = grid.best_params_\n",
    "best_score = grid.best_score_\n",
    "\n",
    "print('best_score =', best_score)\n",
    "print('best_parameters =', best_param)"
   ]
  },
  {
   "cell_type": "code",
   "execution_count": 34,
   "metadata": {},
   "outputs": [
    {
     "data": {
      "text/html": [
       "<div>\n",
       "<style scoped>\n",
       "    .dataframe tbody tr th:only-of-type {\n",
       "        vertical-align: middle;\n",
       "    }\n",
       "\n",
       "    .dataframe tbody tr th {\n",
       "        vertical-align: top;\n",
       "    }\n",
       "\n",
       "    .dataframe thead th {\n",
       "        text-align: right;\n",
       "    }\n",
       "</style>\n",
       "<table border=\"1\" class=\"dataframe\">\n",
       "  <thead>\n",
       "    <tr style=\"text-align: right;\">\n",
       "      <th></th>\n",
       "      <th>Cross-val Score</th>\n",
       "    </tr>\n",
       "  </thead>\n",
       "  <tbody>\n",
       "    <tr>\n",
       "      <th>LinearRegression</th>\n",
       "      <td>-32.449621</td>\n",
       "    </tr>\n",
       "    <tr>\n",
       "      <th>RandomForest</th>\n",
       "      <td>-27.676020</td>\n",
       "    </tr>\n",
       "    <tr>\n",
       "      <th>Light GBM</th>\n",
       "      <td>-26.983132</td>\n",
       "    </tr>\n",
       "  </tbody>\n",
       "</table>\n",
       "</div>"
      ],
      "text/plain": [
       "                  Cross-val Score\n",
       "LinearRegression       -32.449621\n",
       "RandomForest           -27.676020\n",
       "Light GBM              -26.983132"
      ]
     },
     "execution_count": 34,
     "metadata": {},
     "output_type": "execute_result"
    }
   ],
   "source": [
    "# to summarize\n",
    "\n",
    "validation = pd.DataFrame(index=['LinearRegression', 'RandomForest',  'Light GBM'],\n",
    "                     data={'Cross-val Score':[score_lr.mean(), -27.67602, best_score]})\n",
    "validation"
   ]
  },
  {
   "cell_type": "markdown",
   "metadata": {},
   "source": [
    "Based on our cross-validation scores, LightGBM appeared to be the best. "
   ]
  },
  {
   "cell_type": "markdown",
   "metadata": {},
   "source": [
    "### Model Training\n"
   ]
  },
  {
   "cell_type": "code",
   "execution_count": 40,
   "metadata": {
    "scrolled": true
   },
   "outputs": [
    {
     "name": "stdout",
     "output_type": "stream",
     "text": [
      "number of orders 78.0\n",
      "RMSE: 46.23858888056269\n"
     ]
    }
   ],
   "source": [
    "#baseline model training\n",
    "\n",
    "print('number of orders', new_data['num_orders'].median())\n",
    "\n",
    "train_1, test_1= train_test_split(new_data, shuffle = False, test_size = 0.1)\n",
    "pred_previous = test_1.shift()\n",
    "pred_previous.iloc[0] = train_1.iloc[-1]\n",
    "print('RMSE:', mean_squared_error(test_1, pred_previous) **0.5)"
   ]
  },
  {
   "cell_type": "code",
   "execution_count": 35,
   "metadata": {},
   "outputs": [
    {
     "name": "stdout",
     "output_type": "stream",
     "text": [
      "43.902326116879145\n"
     ]
    }
   ],
   "source": [
    "#model training\n",
    "\n",
    "model_lgbm = LGBMRegressor(learning_rate = best_param['learning_rate'],\n",
    "                  n_estimators = best_param['n_estimators'],\n",
    "                  num_leaves = best_param['num_leaves'],\n",
    "                  objective = 'rmse', random_state = 12345)\n",
    "\n",
    "model_lgbm.fit(f_train, t_train)\n",
    "predict_lgbm=model_lgbm.predict(f_test)\n",
    "rmse_lgbm=mean_squared_error(t_test, predict_lgbm) **0.5\n",
    "print(rmse_lgbm)"
   ]
  },
  {
   "cell_type": "code",
   "execution_count": 42,
   "metadata": {},
   "outputs": [
    {
     "data": {
      "text/html": [
       "<div>\n",
       "<style scoped>\n",
       "    .dataframe tbody tr th:only-of-type {\n",
       "        vertical-align: middle;\n",
       "    }\n",
       "\n",
       "    .dataframe tbody tr th {\n",
       "        vertical-align: top;\n",
       "    }\n",
       "\n",
       "    .dataframe thead th {\n",
       "        text-align: right;\n",
       "    }\n",
       "</style>\n",
       "<table border=\"1\" class=\"dataframe\">\n",
       "  <thead>\n",
       "    <tr style=\"text-align: right;\">\n",
       "      <th></th>\n",
       "      <th>RMSE</th>\n",
       "    </tr>\n",
       "  </thead>\n",
       "  <tbody>\n",
       "    <tr>\n",
       "      <th>Baseline with previous value</th>\n",
       "      <td>46.238589</td>\n",
       "    </tr>\n",
       "    <tr>\n",
       "      <th>Light GBM</th>\n",
       "      <td>43.902326</td>\n",
       "    </tr>\n",
       "  </tbody>\n",
       "</table>\n",
       "</div>"
      ],
      "text/plain": [
       "                                   RMSE\n",
       "Baseline with previous value  46.238589\n",
       "Light GBM                     43.902326"
      ]
     },
     "execution_count": 42,
     "metadata": {},
     "output_type": "execute_result"
    }
   ],
   "source": [
    "# to summarize\n",
    "\n",
    "summary = pd.DataFrame(index=['Baseline with previous value', 'Light GBM'],\n",
    "                     data={'RMSE':[mean_squared_error(test_1, pred_previous) **0.5, mean_squared_error(t_test, predict_lgbm) **0.5]})\n",
    "summary"
   ]
  },
  {
   "cell_type": "markdown",
   "metadata": {},
   "source": [
    "LightGBM gave a lower RMSE score than our baseline RMSE with previous value, and it is lower than our threshold of 48."
   ]
  },
  {
   "cell_type": "markdown",
   "metadata": {},
   "source": [
    "## Conclusion"
   ]
  },
  {
   "cell_type": "markdown",
   "metadata": {},
   "source": [
    "Based on our calculated RMSE, it seems that Light GBM provided the lowest RMSE, randomForest is also lower than our threshold. So LightGBM will be the recommendation."
   ]
  }
 ],
 "metadata": {
  "ExecuteTimeLog": [
   {
    "duration": 1722,
    "start_time": "2022-09-10T22:44:20.958Z"
   },
   {
    "duration": 145,
    "start_time": "2022-09-10T22:46:08.185Z"
   },
   {
    "duration": 55,
    "start_time": "2022-09-10T22:46:14.470Z"
   },
   {
    "duration": 61,
    "start_time": "2022-09-10T22:46:20.860Z"
   },
   {
    "duration": 57,
    "start_time": "2022-09-10T22:46:32.633Z"
   },
   {
    "duration": 56,
    "start_time": "2022-09-10T22:49:13.568Z"
   },
   {
    "duration": 13,
    "start_time": "2022-09-10T23:15:06.176Z"
   },
   {
    "duration": 695,
    "start_time": "2022-09-10T23:23:44.520Z"
   },
   {
    "duration": 712,
    "start_time": "2022-09-10T23:25:04.329Z"
   },
   {
    "duration": 838,
    "start_time": "2022-09-10T23:26:17.517Z"
   },
   {
    "duration": 1005,
    "start_time": "2022-09-10T23:26:31.884Z"
   },
   {
    "duration": 132,
    "start_time": "2022-09-10T23:36:41.670Z"
   },
   {
    "duration": 845,
    "start_time": "2022-09-10T23:36:48.838Z"
   },
   {
    "duration": 237,
    "start_time": "2022-09-11T00:09:42.894Z"
   },
   {
    "duration": 387,
    "start_time": "2022-09-11T00:09:59.992Z"
   },
   {
    "duration": 416,
    "start_time": "2022-09-11T00:10:11.795Z"
   },
   {
    "duration": 506,
    "start_time": "2022-09-11T00:10:25.113Z"
   },
   {
    "duration": 428,
    "start_time": "2022-09-11T00:12:37.565Z"
   },
   {
    "duration": 602,
    "start_time": "2022-09-11T00:12:49.570Z"
   },
   {
    "duration": 261,
    "start_time": "2022-09-11T00:17:14.277Z"
   },
   {
    "duration": 263,
    "start_time": "2022-09-11T00:18:54.767Z"
   },
   {
    "duration": 20,
    "start_time": "2022-09-11T00:19:08.151Z"
   },
   {
    "duration": 183,
    "start_time": "2022-09-11T00:19:35.558Z"
   },
   {
    "duration": 160,
    "start_time": "2022-09-11T00:19:46.556Z"
   },
   {
    "duration": 170,
    "start_time": "2022-09-11T00:20:17.328Z"
   },
   {
    "duration": 32,
    "start_time": "2022-09-11T00:29:52.410Z"
   },
   {
    "duration": 78,
    "start_time": "2022-09-11T00:34:36.962Z"
   },
   {
    "duration": 15,
    "start_time": "2022-09-11T00:34:52.719Z"
   },
   {
    "duration": 9,
    "start_time": "2022-09-11T00:35:02.228Z"
   },
   {
    "duration": 10,
    "start_time": "2022-09-11T00:38:08.440Z"
   },
   {
    "duration": 5,
    "start_time": "2022-09-11T00:38:33.608Z"
   },
   {
    "duration": 4,
    "start_time": "2022-09-11T00:38:38.882Z"
   },
   {
    "duration": 10,
    "start_time": "2022-09-11T00:40:08.238Z"
   },
   {
    "duration": 3,
    "start_time": "2022-09-11T00:40:21.287Z"
   },
   {
    "duration": 201,
    "start_time": "2022-09-11T00:40:25.498Z"
   },
   {
    "duration": 18,
    "start_time": "2022-09-11T00:42:24.271Z"
   },
   {
    "duration": 11,
    "start_time": "2022-09-11T00:42:31.410Z"
   },
   {
    "duration": 31,
    "start_time": "2022-09-11T00:43:44.241Z"
   },
   {
    "duration": 16,
    "start_time": "2022-09-11T00:45:54.606Z"
   },
   {
    "duration": 45010,
    "start_time": "2022-09-11T00:46:04.581Z"
   },
   {
    "duration": 12,
    "start_time": "2022-09-11T00:47:39.812Z"
   },
   {
    "duration": 5987,
    "start_time": "2022-09-11T00:47:43.864Z"
   },
   {
    "duration": 8179,
    "start_time": "2022-09-11T00:47:58.671Z"
   },
   {
    "duration": 12,
    "start_time": "2022-09-11T00:48:52.705Z"
   },
   {
    "duration": 497,
    "start_time": "2022-09-11T00:48:57.752Z"
   },
   {
    "duration": 72,
    "start_time": "2022-09-11T00:52:29.954Z"
   },
   {
    "duration": 12,
    "start_time": "2022-09-11T00:52:47.908Z"
   },
   {
    "duration": 131256,
    "start_time": "2022-09-11T00:52:57.443Z"
   },
   {
    "duration": 294,
    "start_time": "2022-09-11T00:57:05.512Z"
   },
   {
    "duration": 145,
    "start_time": "2022-09-11T00:57:16.155Z"
   },
   {
    "duration": 1205,
    "start_time": "2022-09-11T01:00:47.736Z"
   },
   {
    "duration": 29,
    "start_time": "2022-09-11T01:02:18.176Z"
   },
   {
    "duration": 4,
    "start_time": "2022-09-11T01:02:30.545Z"
   },
   {
    "duration": 74,
    "start_time": "2022-09-11T01:02:30.551Z"
   },
   {
    "duration": 12,
    "start_time": "2022-09-11T01:02:30.627Z"
   },
   {
    "duration": 1022,
    "start_time": "2022-09-11T01:02:30.641Z"
   },
   {
    "duration": 875,
    "start_time": "2022-09-11T01:02:31.665Z"
   },
   {
    "duration": 399,
    "start_time": "2022-09-11T01:02:32.542Z"
   },
   {
    "duration": 606,
    "start_time": "2022-09-11T01:02:32.943Z"
   },
   {
    "duration": 294,
    "start_time": "2022-09-11T01:02:33.551Z"
   },
   {
    "duration": 34,
    "start_time": "2022-09-11T01:02:38.986Z"
   },
   {
    "duration": 28,
    "start_time": "2022-09-11T01:03:00.374Z"
   },
   {
    "duration": 29,
    "start_time": "2022-09-11T01:03:14.064Z"
   },
   {
    "duration": 4,
    "start_time": "2022-09-11T01:03:18.911Z"
   },
   {
    "duration": 68,
    "start_time": "2022-09-11T01:03:18.917Z"
   },
   {
    "duration": 12,
    "start_time": "2022-09-11T01:03:18.986Z"
   },
   {
    "duration": 885,
    "start_time": "2022-09-11T01:03:19.000Z"
   },
   {
    "duration": 868,
    "start_time": "2022-09-11T01:03:19.888Z"
   },
   {
    "duration": 415,
    "start_time": "2022-09-11T01:03:20.758Z"
   },
   {
    "duration": 770,
    "start_time": "2022-09-11T01:03:21.175Z"
   },
   {
    "duration": 197,
    "start_time": "2022-09-11T01:03:21.948Z"
   },
   {
    "duration": 34,
    "start_time": "2022-09-11T01:03:26.840Z"
   },
   {
    "duration": 16,
    "start_time": "2022-09-11T01:04:46.646Z"
   },
   {
    "duration": 10,
    "start_time": "2022-09-11T01:05:05.701Z"
   },
   {
    "duration": 3,
    "start_time": "2022-09-11T01:05:08.580Z"
   },
   {
    "duration": 143,
    "start_time": "2022-09-11T01:05:11.052Z"
   },
   {
    "duration": 12,
    "start_time": "2022-09-11T01:05:13.251Z"
   },
   {
    "duration": 8116,
    "start_time": "2022-09-11T01:05:16.405Z"
   },
   {
    "duration": 579,
    "start_time": "2022-09-11T01:05:30.740Z"
   },
   {
    "duration": 5941,
    "start_time": "2022-09-11T01:05:35.157Z"
   },
   {
    "duration": 52,
    "start_time": "2022-09-11T01:05:45.846Z"
   },
   {
    "duration": 4,
    "start_time": "2022-09-11T01:07:14.844Z"
   },
   {
    "duration": 326,
    "start_time": "2022-09-11T01:07:17.177Z"
   },
   {
    "duration": 22,
    "start_time": "2022-09-11T01:07:19.552Z"
   },
   {
    "duration": 3,
    "start_time": "2022-09-11T01:08:14.696Z"
   },
   {
    "duration": 10,
    "start_time": "2022-09-11T01:08:19.080Z"
   },
   {
    "duration": 8185,
    "start_time": "2022-09-11T01:08:22.814Z"
   },
   {
    "duration": 571,
    "start_time": "2022-09-11T01:08:34.393Z"
   },
   {
    "duration": 6001,
    "start_time": "2022-09-11T01:08:37.091Z"
   },
   {
    "duration": 26,
    "start_time": "2022-09-11T01:08:48.066Z"
   },
   {
    "duration": 30,
    "start_time": "2022-09-11T01:11:20.089Z"
   },
   {
    "duration": 5,
    "start_time": "2022-09-11T01:11:28.028Z"
   },
   {
    "duration": 77,
    "start_time": "2022-09-11T01:11:28.036Z"
   },
   {
    "duration": 12,
    "start_time": "2022-09-11T01:11:28.115Z"
   },
   {
    "duration": 852,
    "start_time": "2022-09-11T01:11:28.128Z"
   },
   {
    "duration": 859,
    "start_time": "2022-09-11T01:11:28.982Z"
   },
   {
    "duration": 426,
    "start_time": "2022-09-11T01:11:29.843Z"
   },
   {
    "duration": 739,
    "start_time": "2022-09-11T01:11:30.272Z"
   },
   {
    "duration": 196,
    "start_time": "2022-09-11T01:11:31.013Z"
   },
   {
    "duration": 32,
    "start_time": "2022-09-11T01:11:36.915Z"
   },
   {
    "duration": 25,
    "start_time": "2022-09-11T01:11:55.392Z"
   },
   {
    "duration": 4,
    "start_time": "2022-09-11T01:11:58.477Z"
   },
   {
    "duration": 99,
    "start_time": "2022-09-11T01:11:58.484Z"
   },
   {
    "duration": 10,
    "start_time": "2022-09-11T01:11:58.585Z"
   },
   {
    "duration": 870,
    "start_time": "2022-09-11T01:11:58.597Z"
   },
   {
    "duration": 852,
    "start_time": "2022-09-11T01:11:59.469Z"
   },
   {
    "duration": 408,
    "start_time": "2022-09-11T01:12:00.323Z"
   },
   {
    "duration": 739,
    "start_time": "2022-09-11T01:12:00.733Z"
   },
   {
    "duration": 189,
    "start_time": "2022-09-11T01:12:01.474Z"
   },
   {
    "duration": 33,
    "start_time": "2022-09-11T01:12:04.517Z"
   },
   {
    "duration": 9,
    "start_time": "2022-09-11T01:12:29.992Z"
   },
   {
    "duration": 3,
    "start_time": "2022-09-11T01:12:38.529Z"
   },
   {
    "duration": 131,
    "start_time": "2022-09-11T01:12:40.764Z"
   },
   {
    "duration": 10,
    "start_time": "2022-09-11T01:12:45.240Z"
   },
   {
    "duration": 8196,
    "start_time": "2022-09-11T01:13:00.818Z"
   },
   {
    "duration": 3,
    "start_time": "2022-09-11T01:13:27.277Z"
   },
   {
    "duration": 299,
    "start_time": "2022-09-11T01:13:29.505Z"
   },
   {
    "duration": 11,
    "start_time": "2022-09-11T01:13:31.709Z"
   },
   {
    "duration": 622,
    "start_time": "2022-09-11T01:13:42.602Z"
   },
   {
    "duration": 5876,
    "start_time": "2022-09-11T01:14:02.825Z"
   },
   {
    "duration": 109,
    "start_time": "2022-09-11T01:14:12.491Z"
   },
   {
    "duration": 8,
    "start_time": "2022-09-11T01:16:07.365Z"
   },
   {
    "duration": 1607,
    "start_time": "2022-09-12T16:30:19.027Z"
   },
   {
    "duration": 198,
    "start_time": "2022-09-12T16:30:20.637Z"
   },
   {
    "duration": 15,
    "start_time": "2022-09-12T16:30:20.837Z"
   },
   {
    "duration": 848,
    "start_time": "2022-09-12T16:30:20.854Z"
   },
   {
    "duration": 658,
    "start_time": "2022-09-12T16:30:30.312Z"
   },
   {
    "duration": 814,
    "start_time": "2022-09-12T16:30:59.406Z"
   },
   {
    "duration": 1093,
    "start_time": "2022-09-12T16:31:38.530Z"
   },
   {
    "duration": 766,
    "start_time": "2022-09-12T16:34:41.545Z"
   },
   {
    "duration": 9,
    "start_time": "2022-09-12T16:50:41.064Z"
   },
   {
    "duration": 4,
    "start_time": "2022-09-12T16:50:49.376Z"
   },
   {
    "duration": 63,
    "start_time": "2022-09-12T16:50:49.384Z"
   },
   {
    "duration": 10,
    "start_time": "2022-09-12T16:50:49.493Z"
   },
   {
    "duration": 726,
    "start_time": "2022-09-12T16:50:49.507Z"
   },
   {
    "duration": 138,
    "start_time": "2022-09-12T16:50:50.235Z"
   },
   {
    "duration": 7,
    "start_time": "2022-09-12T16:50:50.375Z"
   },
   {
    "duration": 8,
    "start_time": "2022-09-12T16:50:50.384Z"
   },
   {
    "duration": 176,
    "start_time": "2022-09-12T16:51:08.671Z"
   },
   {
    "duration": 7198,
    "start_time": "2022-09-12T16:51:46.155Z"
   },
   {
    "duration": 5450,
    "start_time": "2022-09-12T17:24:20.191Z"
   },
   {
    "duration": 7,
    "start_time": "2022-09-12T17:28:21.357Z"
   },
   {
    "duration": 89,
    "start_time": "2022-09-12T17:30:09.260Z"
   },
   {
    "duration": 97,
    "start_time": "2022-09-12T17:30:39.843Z"
   },
   {
    "duration": 47,
    "start_time": "2022-09-12T17:31:05.795Z"
   },
   {
    "duration": 3,
    "start_time": "2022-09-12T17:32:40.510Z"
   },
   {
    "duration": 28,
    "start_time": "2022-09-12T19:02:59.518Z"
   },
   {
    "duration": 11,
    "start_time": "2022-09-12T19:03:08.531Z"
   },
   {
    "duration": 4115,
    "start_time": "2022-09-12T19:03:15.463Z"
   },
   {
    "duration": 4335,
    "start_time": "2022-09-12T19:04:09.610Z"
   },
   {
    "duration": 7,
    "start_time": "2022-09-12T19:04:30.387Z"
   },
   {
    "duration": 264,
    "start_time": "2022-09-12T19:04:38.177Z"
   },
   {
    "duration": 34,
    "start_time": "2022-09-12T19:09:02.711Z"
   },
   {
    "duration": 6243,
    "start_time": "2022-09-12T19:09:06.551Z"
   },
   {
    "duration": 5693,
    "start_time": "2022-09-12T19:09:18.453Z"
   },
   {
    "duration": 8,
    "start_time": "2022-09-12T19:09:35.333Z"
   },
   {
    "duration": 20,
    "start_time": "2022-09-12T19:09:39.326Z"
   },
   {
    "duration": 11,
    "start_time": "2022-09-12T19:17:43.810Z"
   },
   {
    "duration": 14,
    "start_time": "2022-09-12T19:19:37.113Z"
   },
   {
    "duration": 17,
    "start_time": "2022-09-12T19:19:47.594Z"
   },
   {
    "duration": 12,
    "start_time": "2022-09-12T19:19:56.699Z"
   },
   {
    "duration": 11,
    "start_time": "2022-09-12T19:20:24.789Z"
   },
   {
    "duration": 10,
    "start_time": "2022-09-12T19:21:42.722Z"
   },
   {
    "duration": 10,
    "start_time": "2022-09-12T19:22:19.886Z"
   }
  ],
  "kernelspec": {
   "display_name": "Python 3 (ipykernel)",
   "language": "python",
   "name": "python3"
  },
  "language_info": {
   "codemirror_mode": {
    "name": "ipython",
    "version": 3
   },
   "file_extension": ".py",
   "mimetype": "text/x-python",
   "name": "python",
   "nbconvert_exporter": "python",
   "pygments_lexer": "ipython3",
   "version": "3.9.5"
  },
  "toc": {
   "base_numbering": 1,
   "nav_menu": {},
   "number_sections": true,
   "sideBar": true,
   "skip_h1_title": true,
   "title_cell": "Table of Contents",
   "title_sidebar": "Contents",
   "toc_cell": false,
   "toc_position": {},
   "toc_section_display": true,
   "toc_window_display": false
  }
 },
 "nbformat": 4,
 "nbformat_minor": 2
}
