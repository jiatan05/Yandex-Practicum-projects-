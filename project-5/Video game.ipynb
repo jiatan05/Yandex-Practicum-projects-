{
 "cells": [
  {
   "cell_type": "markdown",
   "metadata": {},
   "source": [
    "# What Makes a Game Successful?"
   ]
  },
  {
   "cell_type": "markdown",
   "metadata": {},
   "source": [
    "As an analyst at Ice, an online store that sells video games all over the world. The job is to analyze data obtain in 2016 and plan a campaign for 2017. "
   ]
  },
  {
   "cell_type": "markdown",
   "metadata": {},
   "source": [
    "##  Introduction\n",
    "Presented is an analysis of video game data based on expert reviews, genres, age rating, platforms, and historical data on game sales. \n",
    "\n",
    "###  Goal:\n",
    "This report will focus on analyzing different factors and hope to identify patterns that determine whether a game succeed or not. This will allow us to spot potential big winners and plan advertising campaigns.\n",
    "\n",
    "\n",
    "### Stages:\n",
    "This project will consist of the following stages:\n",
    "\n",
    "1. Introduction\n",
    "2. Data Initialization\n",
    "3. Data Preprocessing\n",
    "    1. Replace column names\n",
    "    2. Data types\n",
    "    3. Missing values\n",
    "    4. Total sales\n",
    "4. Game data analysis\n",
    "    1. Years\n",
    "    2. Platform\n",
    "    3. Total Sales\n",
    "    4. Reviews\n",
    "    5. Genre\n",
    "5. User profile based on region\n",
    "6. Test Statistical Hypotheses \n",
    "    1. The average user ratings of the Xbox One and PC platforms is the same.\n",
    "    2. The average user ratings for the Action and Sports genres is different.\n",
    "7. Conclusion\n",
    "         "
   ]
  },
  {
   "cell_type": "markdown",
   "metadata": {},
   "source": [
    "## Data Initialization"
   ]
  },
  {
   "cell_type": "markdown",
   "metadata": {},
   "source": [
    "Importing all necessary libraries for this project."
   ]
  },
  {
   "cell_type": "code",
   "execution_count": 20,
   "metadata": {},
   "outputs": [],
   "source": [
    "# Loading all the libraries\n",
    "\n",
    "import pandas as pd\n",
    "import matplotlib.pyplot as plt\n",
    "import numpy as np\n",
    "from scipy import stats as st\n",
    "import functools as ft\n",
    "import seaborn as sns"
   ]
  },
  {
   "cell_type": "markdown",
   "metadata": {},
   "source": [
    "Import the dataset."
   ]
  },
  {
   "cell_type": "code",
   "execution_count": 21,
   "metadata": {},
   "outputs": [],
   "source": [
    "# Importing the dataset\n",
    "\n",
    "game = pd.read_csv('/datasets/games.csv')"
   ]
  },
  {
   "cell_type": "markdown",
   "metadata": {},
   "source": [
    "We will take a look at the dataset and determine what needs to be done. "
   ]
  },
  {
   "cell_type": "code",
   "execution_count": 22,
   "metadata": {},
   "outputs": [
    {
     "name": "stdout",
     "output_type": "stream",
     "text": [
      "<class 'pandas.core.frame.DataFrame'>\n",
      "RangeIndex: 16715 entries, 0 to 16714\n",
      "Data columns (total 11 columns):\n",
      " #   Column           Non-Null Count  Dtype  \n",
      "---  ------           --------------  -----  \n",
      " 0   Name             16713 non-null  object \n",
      " 1   Platform         16715 non-null  object \n",
      " 2   Year_of_Release  16446 non-null  float64\n",
      " 3   Genre            16713 non-null  object \n",
      " 4   NA_sales         16715 non-null  float64\n",
      " 5   EU_sales         16715 non-null  float64\n",
      " 6   JP_sales         16715 non-null  float64\n",
      " 7   Other_sales      16715 non-null  float64\n",
      " 8   Critic_Score     8137 non-null   float64\n",
      " 9   User_Score       10014 non-null  object \n",
      " 10  Rating           9949 non-null   object \n",
      "dtypes: float64(6), object(5)\n",
      "memory usage: 1.4+ MB\n"
     ]
    }
   ],
   "source": [
    "#general information of our dataframe\n",
    "\n",
    "game.info()"
   ]
  },
  {
   "cell_type": "markdown",
   "metadata": {},
   "source": [
    "The dataframe consist of the following categories:\n",
    "\n",
    "- `Name`\n",
    "- `Platform`\n",
    "- `Year_of_Release`\n",
    "- `Genre`\n",
    "- `NA_sales` (North American sales in USD million)\n",
    "- `EU_sales` (sales in Europe in USD million)\n",
    "- `JP_sales` (sales in Japan in USD million)\n",
    "- `Other_sales` (sales in other countries in USD million)\n",
    "- `Critic_Score` (maximum of 100)\n",
    "- `User_Score` (maximum of 10)\n",
    "- `Rating` (ESRB)"
   ]
  },
  {
   "cell_type": "code",
   "execution_count": 23,
   "metadata": {},
   "outputs": [
    {
     "data": {
      "text/html": [
       "<div>\n",
       "<style scoped>\n",
       "    .dataframe tbody tr th:only-of-type {\n",
       "        vertical-align: middle;\n",
       "    }\n",
       "\n",
       "    .dataframe tbody tr th {\n",
       "        vertical-align: top;\n",
       "    }\n",
       "\n",
       "    .dataframe thead th {\n",
       "        text-align: right;\n",
       "    }\n",
       "</style>\n",
       "<table border=\"1\" class=\"dataframe\">\n",
       "  <thead>\n",
       "    <tr style=\"text-align: right;\">\n",
       "      <th></th>\n",
       "      <th>Name</th>\n",
       "      <th>Platform</th>\n",
       "      <th>Year_of_Release</th>\n",
       "      <th>Genre</th>\n",
       "      <th>NA_sales</th>\n",
       "      <th>EU_sales</th>\n",
       "      <th>JP_sales</th>\n",
       "      <th>Other_sales</th>\n",
       "      <th>Critic_Score</th>\n",
       "      <th>User_Score</th>\n",
       "      <th>Rating</th>\n",
       "    </tr>\n",
       "  </thead>\n",
       "  <tbody>\n",
       "    <tr>\n",
       "      <th>0</th>\n",
       "      <td>Wii Sports</td>\n",
       "      <td>Wii</td>\n",
       "      <td>2006.0</td>\n",
       "      <td>Sports</td>\n",
       "      <td>41.36</td>\n",
       "      <td>28.96</td>\n",
       "      <td>3.77</td>\n",
       "      <td>8.45</td>\n",
       "      <td>76.0</td>\n",
       "      <td>8</td>\n",
       "      <td>E</td>\n",
       "    </tr>\n",
       "    <tr>\n",
       "      <th>1</th>\n",
       "      <td>Super Mario Bros.</td>\n",
       "      <td>NES</td>\n",
       "      <td>1985.0</td>\n",
       "      <td>Platform</td>\n",
       "      <td>29.08</td>\n",
       "      <td>3.58</td>\n",
       "      <td>6.81</td>\n",
       "      <td>0.77</td>\n",
       "      <td>NaN</td>\n",
       "      <td>NaN</td>\n",
       "      <td>NaN</td>\n",
       "    </tr>\n",
       "    <tr>\n",
       "      <th>2</th>\n",
       "      <td>Mario Kart Wii</td>\n",
       "      <td>Wii</td>\n",
       "      <td>2008.0</td>\n",
       "      <td>Racing</td>\n",
       "      <td>15.68</td>\n",
       "      <td>12.76</td>\n",
       "      <td>3.79</td>\n",
       "      <td>3.29</td>\n",
       "      <td>82.0</td>\n",
       "      <td>8.3</td>\n",
       "      <td>E</td>\n",
       "    </tr>\n",
       "    <tr>\n",
       "      <th>3</th>\n",
       "      <td>Wii Sports Resort</td>\n",
       "      <td>Wii</td>\n",
       "      <td>2009.0</td>\n",
       "      <td>Sports</td>\n",
       "      <td>15.61</td>\n",
       "      <td>10.93</td>\n",
       "      <td>3.28</td>\n",
       "      <td>2.95</td>\n",
       "      <td>80.0</td>\n",
       "      <td>8</td>\n",
       "      <td>E</td>\n",
       "    </tr>\n",
       "    <tr>\n",
       "      <th>4</th>\n",
       "      <td>Pokemon Red/Pokemon Blue</td>\n",
       "      <td>GB</td>\n",
       "      <td>1996.0</td>\n",
       "      <td>Role-Playing</td>\n",
       "      <td>11.27</td>\n",
       "      <td>8.89</td>\n",
       "      <td>10.22</td>\n",
       "      <td>1.00</td>\n",
       "      <td>NaN</td>\n",
       "      <td>NaN</td>\n",
       "      <td>NaN</td>\n",
       "    </tr>\n",
       "  </tbody>\n",
       "</table>\n",
       "</div>"
      ],
      "text/plain": [
       "                       Name Platform  Year_of_Release         Genre  NA_sales  \\\n",
       "0                Wii Sports      Wii           2006.0        Sports     41.36   \n",
       "1         Super Mario Bros.      NES           1985.0      Platform     29.08   \n",
       "2            Mario Kart Wii      Wii           2008.0        Racing     15.68   \n",
       "3         Wii Sports Resort      Wii           2009.0        Sports     15.61   \n",
       "4  Pokemon Red/Pokemon Blue       GB           1996.0  Role-Playing     11.27   \n",
       "\n",
       "   EU_sales  JP_sales  Other_sales  Critic_Score User_Score Rating  \n",
       "0     28.96      3.77         8.45          76.0          8      E  \n",
       "1      3.58      6.81         0.77           NaN        NaN    NaN  \n",
       "2     12.76      3.79         3.29          82.0        8.3      E  \n",
       "3     10.93      3.28         2.95          80.0          8      E  \n",
       "4      8.89     10.22         1.00           NaN        NaN    NaN  "
      ]
     },
     "execution_count": 23,
     "metadata": {},
     "output_type": "execute_result"
    }
   ],
   "source": [
    "# get a sample of the df\n",
    "\n",
    "game.head()"
   ]
  },
  {
   "cell_type": "markdown",
   "metadata": {},
   "source": [
    "- One problem that we immediately noticed is the inconsistency in column names, some are capitalized and some are not. We will make them all lowercase to be consistent. \n",
    "\n",
    "- The **name** column has 2 missing values, we will check later and decide what to do with it. \n",
    "\n",
    "- The **Year of Release** is a float type column, we should change it to integers. In addition, there are >250 missing values in this column, we will need to check later and decide whether to fill it manually or by other factors or remove them.\n",
    "\n",
    "- **Genre** also has 2 missing values, likely associated with the missing names. We will check later.\n",
    "\n",
    "- **Critic Score** has missing values.\n",
    "\n",
    "- **User_Score** will probably need to convert to float, unless we want specify what each value means. We will fill the missing values.\n",
    "\n",
    "- **Rating**, missing values. We will look at the column more to determine how to fill those missing values.\n",
    "\n",
    "After preprocessing the data, a new column for 'total_sales' will be added for each game."
   ]
  },
  {
   "cell_type": "markdown",
   "metadata": {},
   "source": [
    "## Data Preprocessing"
   ]
  },
  {
   "cell_type": "markdown",
   "metadata": {},
   "source": [
    "### lowercase"
   ]
  },
  {
   "cell_type": "markdown",
   "metadata": {},
   "source": [
    "We will convert all column names to lowercase."
   ]
  },
  {
   "cell_type": "code",
   "execution_count": 24,
   "metadata": {},
   "outputs": [
    {
     "name": "stdout",
     "output_type": "stream",
     "text": [
      "<class 'pandas.core.frame.DataFrame'>\n",
      "RangeIndex: 16715 entries, 0 to 16714\n",
      "Data columns (total 11 columns):\n",
      " #   Column           Non-Null Count  Dtype  \n",
      "---  ------           --------------  -----  \n",
      " 0   name             16713 non-null  object \n",
      " 1   platform         16715 non-null  object \n",
      " 2   year_of_release  16446 non-null  float64\n",
      " 3   genre            16713 non-null  object \n",
      " 4   na_sales         16715 non-null  float64\n",
      " 5   eu_sales         16715 non-null  float64\n",
      " 6   jp_sales         16715 non-null  float64\n",
      " 7   other_sales      16715 non-null  float64\n",
      " 8   critic_score     8137 non-null   float64\n",
      " 9   user_score       10014 non-null  object \n",
      " 10  rating           9949 non-null   object \n",
      "dtypes: float64(6), object(5)\n",
      "memory usage: 1.4+ MB\n"
     ]
    }
   ],
   "source": [
    "#making column names lowercase\n",
    "game.columns = game.columns.str.lower()\n",
    "\n",
    "#to check\n",
    "game.info()"
   ]
  },
  {
   "cell_type": "markdown",
   "metadata": {},
   "source": [
    "### 'name' column"
   ]
  },
  {
   "cell_type": "code",
   "execution_count": 25,
   "metadata": {
    "scrolled": false
   },
   "outputs": [
    {
     "data": {
      "text/html": [
       "<div>\n",
       "<style scoped>\n",
       "    .dataframe tbody tr th:only-of-type {\n",
       "        vertical-align: middle;\n",
       "    }\n",
       "\n",
       "    .dataframe tbody tr th {\n",
       "        vertical-align: top;\n",
       "    }\n",
       "\n",
       "    .dataframe thead th {\n",
       "        text-align: right;\n",
       "    }\n",
       "</style>\n",
       "<table border=\"1\" class=\"dataframe\">\n",
       "  <thead>\n",
       "    <tr style=\"text-align: right;\">\n",
       "      <th></th>\n",
       "      <th>name</th>\n",
       "      <th>platform</th>\n",
       "      <th>year_of_release</th>\n",
       "      <th>genre</th>\n",
       "      <th>na_sales</th>\n",
       "      <th>eu_sales</th>\n",
       "      <th>jp_sales</th>\n",
       "      <th>other_sales</th>\n",
       "      <th>critic_score</th>\n",
       "      <th>user_score</th>\n",
       "      <th>rating</th>\n",
       "    </tr>\n",
       "  </thead>\n",
       "  <tbody>\n",
       "    <tr>\n",
       "      <th>659</th>\n",
       "      <td>NaN</td>\n",
       "      <td>GEN</td>\n",
       "      <td>1993.0</td>\n",
       "      <td>NaN</td>\n",
       "      <td>1.78</td>\n",
       "      <td>0.53</td>\n",
       "      <td>0.00</td>\n",
       "      <td>0.08</td>\n",
       "      <td>NaN</td>\n",
       "      <td>NaN</td>\n",
       "      <td>NaN</td>\n",
       "    </tr>\n",
       "    <tr>\n",
       "      <th>14244</th>\n",
       "      <td>NaN</td>\n",
       "      <td>GEN</td>\n",
       "      <td>1993.0</td>\n",
       "      <td>NaN</td>\n",
       "      <td>0.00</td>\n",
       "      <td>0.00</td>\n",
       "      <td>0.03</td>\n",
       "      <td>0.00</td>\n",
       "      <td>NaN</td>\n",
       "      <td>NaN</td>\n",
       "      <td>NaN</td>\n",
       "    </tr>\n",
       "  </tbody>\n",
       "</table>\n",
       "</div>"
      ],
      "text/plain": [
       "      name platform  year_of_release genre  na_sales  eu_sales  jp_sales  \\\n",
       "659    NaN      GEN           1993.0   NaN      1.78      0.53      0.00   \n",
       "14244  NaN      GEN           1993.0   NaN      0.00      0.00      0.03   \n",
       "\n",
       "       other_sales  critic_score user_score rating  \n",
       "659           0.08           NaN        NaN    NaN  \n",
       "14244         0.00           NaN        NaN    NaN  "
      ]
     },
     "execution_count": 25,
     "metadata": {},
     "output_type": "execute_result"
    }
   ],
   "source": [
    "#check a sample of this column\n",
    "game['name'].head(10)\n",
    "\n",
    "#lets look at the two missing values\n",
    "\n",
    "game.loc[game['name'].isna()]"
   ]
  },
  {
   "cell_type": "markdown",
   "metadata": {},
   "source": [
    "No way of knowing what the names of those games are, despite they have entries in other columns, so we should remove them. but let's wait and see these are the same missing values in the 'genre' as well."
   ]
  },
  {
   "cell_type": "markdown",
   "metadata": {},
   "source": [
    "### year of release"
   ]
  },
  {
   "cell_type": "markdown",
   "metadata": {},
   "source": [
    "Let's look at the **'year of release** column. Since there is only a small amount of data missing (~270), it would be better to drop them. We should also convert the column to integer. "
   ]
  },
  {
   "cell_type": "code",
   "execution_count": 26,
   "metadata": {},
   "outputs": [
    {
     "name": "stdout",
     "output_type": "stream",
     "text": [
      "<class 'pandas.core.frame.DataFrame'>\n",
      "Int64Index: 16446 entries, 0 to 16714\n",
      "Data columns (total 11 columns):\n",
      " #   Column           Non-Null Count  Dtype  \n",
      "---  ------           --------------  -----  \n",
      " 0   name             16444 non-null  object \n",
      " 1   platform         16446 non-null  object \n",
      " 2   year_of_release  16446 non-null  float64\n",
      " 3   genre            16444 non-null  object \n",
      " 4   na_sales         16446 non-null  float64\n",
      " 5   eu_sales         16446 non-null  float64\n",
      " 6   jp_sales         16446 non-null  float64\n",
      " 7   other_sales      16446 non-null  float64\n",
      " 8   critic_score     7983 non-null   float64\n",
      " 9   user_score       9839 non-null   object \n",
      " 10  rating           9768 non-null   object \n",
      "dtypes: float64(6), object(5)\n",
      "memory usage: 1.5+ MB\n"
     ]
    }
   ],
   "source": [
    "#to drop all of the missing values\n",
    "\n",
    "game = game.dropna(subset = ['year_of_release'])\n",
    "\n",
    "#checking\n",
    "game.info()"
   ]
  },
  {
   "cell_type": "code",
   "execution_count": 27,
   "metadata": {
    "scrolled": false
   },
   "outputs": [
    {
     "name": "stdout",
     "output_type": "stream",
     "text": [
      "<class 'pandas.core.frame.DataFrame'>\n",
      "Int64Index: 16446 entries, 0 to 16714\n",
      "Data columns (total 11 columns):\n",
      " #   Column           Non-Null Count  Dtype  \n",
      "---  ------           --------------  -----  \n",
      " 0   name             16444 non-null  object \n",
      " 1   platform         16446 non-null  object \n",
      " 2   year_of_release  16446 non-null  int64  \n",
      " 3   genre            16444 non-null  object \n",
      " 4   na_sales         16446 non-null  float64\n",
      " 5   eu_sales         16446 non-null  float64\n",
      " 6   jp_sales         16446 non-null  float64\n",
      " 7   other_sales      16446 non-null  float64\n",
      " 8   critic_score     7983 non-null   float64\n",
      " 9   user_score       9839 non-null   object \n",
      " 10  rating           9768 non-null   object \n",
      "dtypes: float64(5), int64(1), object(5)\n",
      "memory usage: 1.5+ MB\n"
     ]
    }
   ],
   "source": [
    "#Change data type to integer\n",
    "\n",
    "game['year_of_release'] = game['year_of_release'].astype('int')\n",
    "\n",
    "#check\n",
    "\n",
    "game.info()"
   ]
  },
  {
   "cell_type": "markdown",
   "metadata": {},
   "source": [
    "### Genre column"
   ]
  },
  {
   "cell_type": "markdown",
   "metadata": {},
   "source": [
    "Now, let's look at the **genre** column. We can find the two missing values, if they have a name, we can potential fill the missing genre by referencing to this game on other platform. "
   ]
  },
  {
   "cell_type": "code",
   "execution_count": 28,
   "metadata": {
    "scrolled": true
   },
   "outputs": [
    {
     "data": {
      "text/html": [
       "<div>\n",
       "<style scoped>\n",
       "    .dataframe tbody tr th:only-of-type {\n",
       "        vertical-align: middle;\n",
       "    }\n",
       "\n",
       "    .dataframe tbody tr th {\n",
       "        vertical-align: top;\n",
       "    }\n",
       "\n",
       "    .dataframe thead th {\n",
       "        text-align: right;\n",
       "    }\n",
       "</style>\n",
       "<table border=\"1\" class=\"dataframe\">\n",
       "  <thead>\n",
       "    <tr style=\"text-align: right;\">\n",
       "      <th></th>\n",
       "      <th>name</th>\n",
       "      <th>platform</th>\n",
       "      <th>year_of_release</th>\n",
       "      <th>genre</th>\n",
       "      <th>na_sales</th>\n",
       "      <th>eu_sales</th>\n",
       "      <th>jp_sales</th>\n",
       "      <th>other_sales</th>\n",
       "      <th>critic_score</th>\n",
       "      <th>user_score</th>\n",
       "      <th>rating</th>\n",
       "    </tr>\n",
       "  </thead>\n",
       "  <tbody>\n",
       "    <tr>\n",
       "      <th>659</th>\n",
       "      <td>NaN</td>\n",
       "      <td>GEN</td>\n",
       "      <td>1993</td>\n",
       "      <td>NaN</td>\n",
       "      <td>1.78</td>\n",
       "      <td>0.53</td>\n",
       "      <td>0.00</td>\n",
       "      <td>0.08</td>\n",
       "      <td>NaN</td>\n",
       "      <td>NaN</td>\n",
       "      <td>NaN</td>\n",
       "    </tr>\n",
       "    <tr>\n",
       "      <th>14244</th>\n",
       "      <td>NaN</td>\n",
       "      <td>GEN</td>\n",
       "      <td>1993</td>\n",
       "      <td>NaN</td>\n",
       "      <td>0.00</td>\n",
       "      <td>0.00</td>\n",
       "      <td>0.03</td>\n",
       "      <td>0.00</td>\n",
       "      <td>NaN</td>\n",
       "      <td>NaN</td>\n",
       "      <td>NaN</td>\n",
       "    </tr>\n",
       "  </tbody>\n",
       "</table>\n",
       "</div>"
      ],
      "text/plain": [
       "      name platform  year_of_release genre  na_sales  eu_sales  jp_sales  \\\n",
       "659    NaN      GEN             1993   NaN      1.78      0.53      0.00   \n",
       "14244  NaN      GEN             1993   NaN      0.00      0.00      0.03   \n",
       "\n",
       "       other_sales  critic_score user_score rating  \n",
       "659           0.08           NaN        NaN    NaN  \n",
       "14244         0.00           NaN        NaN    NaN  "
      ]
     },
     "execution_count": 28,
     "metadata": {},
     "output_type": "execute_result"
    }
   ],
   "source": [
    "# get the two rows\n",
    "\n",
    "game.loc[game['genre'].isna()]"
   ]
  },
  {
   "cell_type": "markdown",
   "metadata": {},
   "source": [
    "Still the same 659 and 14244, we will remove them. As there is no way of knowing the name nor the genre of these two games."
   ]
  },
  {
   "cell_type": "code",
   "execution_count": 29,
   "metadata": {},
   "outputs": [
    {
     "name": "stdout",
     "output_type": "stream",
     "text": [
      "<class 'pandas.core.frame.DataFrame'>\n",
      "Int64Index: 16444 entries, 0 to 16714\n",
      "Data columns (total 11 columns):\n",
      " #   Column           Non-Null Count  Dtype  \n",
      "---  ------           --------------  -----  \n",
      " 0   name             16444 non-null  object \n",
      " 1   platform         16444 non-null  object \n",
      " 2   year_of_release  16444 non-null  int64  \n",
      " 3   genre            16444 non-null  object \n",
      " 4   na_sales         16444 non-null  float64\n",
      " 5   eu_sales         16444 non-null  float64\n",
      " 6   jp_sales         16444 non-null  float64\n",
      " 7   other_sales      16444 non-null  float64\n",
      " 8   critic_score     7983 non-null   float64\n",
      " 9   user_score       9839 non-null   object \n",
      " 10  rating           9768 non-null   object \n",
      "dtypes: float64(5), int64(1), object(5)\n",
      "memory usage: 1.5+ MB\n"
     ]
    }
   ],
   "source": [
    "#drop those two\n",
    "game = game.dropna(subset = ['genre'])\n",
    "\n",
    "#checking\n",
    "game.info()"
   ]
  },
  {
   "cell_type": "markdown",
   "metadata": {},
   "source": [
    "### Critic score column"
   ]
  },
  {
   "cell_type": "markdown",
   "metadata": {},
   "source": [
    "Next, let's look at the **'critic_score'** column. since there are a lot of missing values (>50% of the dataset), we cannot simply remove them. We can attend to fill it with the global median, however, it would not be very representative of the dataset. We fill the missing values with an unreal value, this will save the original properties of our data. "
   ]
  },
  {
   "cell_type": "code",
   "execution_count": 30,
   "metadata": {
    "scrolled": false
   },
   "outputs": [
    {
     "name": "stdout",
     "output_type": "stream",
     "text": [
      "<class 'pandas.core.frame.DataFrame'>\n",
      "Int64Index: 16444 entries, 0 to 16714\n",
      "Data columns (total 11 columns):\n",
      " #   Column           Non-Null Count  Dtype  \n",
      "---  ------           --------------  -----  \n",
      " 0   name             16444 non-null  object \n",
      " 1   platform         16444 non-null  object \n",
      " 2   year_of_release  16444 non-null  int64  \n",
      " 3   genre            16444 non-null  object \n",
      " 4   na_sales         16444 non-null  float64\n",
      " 5   eu_sales         16444 non-null  float64\n",
      " 6   jp_sales         16444 non-null  float64\n",
      " 7   other_sales      16444 non-null  float64\n",
      " 8   critic_score     15333 non-null  float64\n",
      " 9   user_score       9839 non-null   object \n",
      " 10  rating           9768 non-null   object \n",
      "dtypes: float64(5), int64(1), object(5)\n",
      "memory usage: 1.5+ MB\n"
     ]
    }
   ],
   "source": [
    "#filling critic score\n",
    "\n",
    "med_score_1 = game.groupby(['platform','genre'])['critic_score'].median()\n",
    "\n",
    "def fill_score_1(row):\n",
    "    if pd.isna(row['critic_score']):\n",
    "        return med_score_1.get((row['platform'], row['genre']))\n",
    "    else:\n",
    "        return row['critic_score']\n",
    "\n",
    "game['critic_score'] = game.apply(fill_score_1, axis = 1)\n",
    "\n",
    "#checking\n",
    "\n",
    "game.info()\n"
   ]
  },
  {
   "cell_type": "markdown",
   "metadata": {},
   "source": [
    "Noticed that this method did not fill all of the missing values, so we will attempt to fill with genre only. "
   ]
  },
  {
   "cell_type": "code",
   "execution_count": 31,
   "metadata": {},
   "outputs": [
    {
     "name": "stdout",
     "output_type": "stream",
     "text": [
      "<class 'pandas.core.frame.DataFrame'>\n",
      "Int64Index: 16444 entries, 0 to 16714\n",
      "Data columns (total 11 columns):\n",
      " #   Column           Non-Null Count  Dtype  \n",
      "---  ------           --------------  -----  \n",
      " 0   name             16444 non-null  object \n",
      " 1   platform         16444 non-null  object \n",
      " 2   year_of_release  16444 non-null  int64  \n",
      " 3   genre            16444 non-null  object \n",
      " 4   na_sales         16444 non-null  float64\n",
      " 5   eu_sales         16444 non-null  float64\n",
      " 6   jp_sales         16444 non-null  float64\n",
      " 7   other_sales      16444 non-null  float64\n",
      " 8   critic_score     16444 non-null  float64\n",
      " 9   user_score       9839 non-null   object \n",
      " 10  rating           9768 non-null   object \n",
      "dtypes: float64(5), int64(1), object(5)\n",
      "memory usage: 1.5+ MB\n"
     ]
    }
   ],
   "source": [
    "#filling critic score\n",
    "\n",
    "med_score = game.groupby('genre')['critic_score'].median()\n",
    "\n",
    "def fill_score(row):\n",
    "    if pd.isna(row['critic_score']):\n",
    "        return med_score.get(row['genre'])\n",
    "    else:\n",
    "        return row['critic_score']\n",
    "\n",
    "game['critic_score'] = game.apply(fill_score, axis = 1)\n",
    "\n",
    "#checking\n",
    "\n",
    "game.info()"
   ]
  },
  {
   "cell_type": "markdown",
   "metadata": {},
   "source": [
    "### User_score column"
   ]
  },
  {
   "cell_type": "markdown",
   "metadata": {},
   "source": [
    "Next we have the **'user_score'** column, lets first take a look at what the score look like."
   ]
  },
  {
   "cell_type": "code",
   "execution_count": 32,
   "metadata": {},
   "outputs": [
    {
     "data": {
      "text/plain": [
       "tbd    2376\n",
       "7.8     322\n",
       "8       285\n",
       "8.2     276\n",
       "8.3     252\n",
       "       ... \n",
       "0.5       2\n",
       "0.6       2\n",
       "1         2\n",
       "0         1\n",
       "9.7       1\n",
       "Name: user_score, Length: 96, dtype: int64"
      ]
     },
     "execution_count": 32,
     "metadata": {},
     "output_type": "execute_result"
    }
   ],
   "source": [
    "#using value_counts()\n",
    "\n",
    "game['user_score'].value_counts()"
   ]
  },
  {
   "cell_type": "markdown",
   "metadata": {},
   "source": [
    "We see that tbd or 'To Be Determined' has appeared 2424 times, it means that an user_score was not available at the time of data collection. We can attempt to replace these with mean/median values, but first we will need to treat them as missing values. "
   ]
  },
  {
   "cell_type": "code",
   "execution_count": 33,
   "metadata": {},
   "outputs": [
    {
     "name": "stdout",
     "output_type": "stream",
     "text": [
      "<class 'pandas.core.frame.DataFrame'>\n",
      "Int64Index: 16444 entries, 0 to 16714\n",
      "Data columns (total 11 columns):\n",
      " #   Column           Non-Null Count  Dtype  \n",
      "---  ------           --------------  -----  \n",
      " 0   name             16444 non-null  object \n",
      " 1   platform         16444 non-null  object \n",
      " 2   year_of_release  16444 non-null  int64  \n",
      " 3   genre            16444 non-null  object \n",
      " 4   na_sales         16444 non-null  float64\n",
      " 5   eu_sales         16444 non-null  float64\n",
      " 6   jp_sales         16444 non-null  float64\n",
      " 7   other_sales      16444 non-null  float64\n",
      " 8   critic_score     16444 non-null  float64\n",
      " 9   user_score       7463 non-null   float64\n",
      " 10  rating           9768 non-null   object \n",
      "dtypes: float64(6), int64(1), object(4)\n",
      "memory usage: 1.5+ MB\n"
     ]
    }
   ],
   "source": [
    "#replace 'tbd' with NaN value.\n",
    "\n",
    "game['user_score'] = game['user_score'].replace({'tbd' : np.nan})\n",
    "\n",
    "#change it to float type\n",
    "\n",
    "game['user_score'] = game['user_score'].astype('float')\n",
    "\n",
    "#check\n",
    "\n",
    "game.info()"
   ]
  },
  {
   "cell_type": "markdown",
   "metadata": {},
   "source": [
    "Now that our 'tbd' are NaN, we can proceed to fill those 'missing values' the same way as we did for 'critic score'."
   ]
  },
  {
   "cell_type": "code",
   "execution_count": 34,
   "metadata": {},
   "outputs": [
    {
     "name": "stdout",
     "output_type": "stream",
     "text": [
      "<class 'pandas.core.frame.DataFrame'>\n",
      "Int64Index: 16444 entries, 0 to 16714\n",
      "Data columns (total 11 columns):\n",
      " #   Column           Non-Null Count  Dtype  \n",
      "---  ------           --------------  -----  \n",
      " 0   name             16444 non-null  object \n",
      " 1   platform         16444 non-null  object \n",
      " 2   year_of_release  16444 non-null  int64  \n",
      " 3   genre            16444 non-null  object \n",
      " 4   na_sales         16444 non-null  float64\n",
      " 5   eu_sales         16444 non-null  float64\n",
      " 6   jp_sales         16444 non-null  float64\n",
      " 7   other_sales      16444 non-null  float64\n",
      " 8   critic_score     16444 non-null  float64\n",
      " 9   user_score       15340 non-null  float64\n",
      " 10  rating           9768 non-null   object \n",
      "dtypes: float64(6), int64(1), object(4)\n",
      "memory usage: 1.5+ MB\n"
     ]
    }
   ],
   "source": [
    "#filling user score\n",
    "\n",
    "score = game.groupby(['platform','genre'])['user_score'].mean()\n",
    "\n",
    "def fill_score_user(row):\n",
    "    if pd.isna(row['user_score']):\n",
    "        return score.get((row['platform'], row['genre']))\n",
    "    else:\n",
    "        return row['user_score']\n",
    "\n",
    "game['user_score'] = game.apply(fill_score_user, axis = 1)\n",
    "\n",
    "#checking\n",
    "\n",
    "game.info()\n"
   ]
  },
  {
   "cell_type": "markdown",
   "metadata": {},
   "source": [
    "Same thing happened with user_score, we will fill with genre only."
   ]
  },
  {
   "cell_type": "code",
   "execution_count": 35,
   "metadata": {},
   "outputs": [
    {
     "name": "stdout",
     "output_type": "stream",
     "text": [
      "<class 'pandas.core.frame.DataFrame'>\n",
      "Int64Index: 16444 entries, 0 to 16714\n",
      "Data columns (total 11 columns):\n",
      " #   Column           Non-Null Count  Dtype  \n",
      "---  ------           --------------  -----  \n",
      " 0   name             16444 non-null  object \n",
      " 1   platform         16444 non-null  object \n",
      " 2   year_of_release  16444 non-null  int64  \n",
      " 3   genre            16444 non-null  object \n",
      " 4   na_sales         16444 non-null  float64\n",
      " 5   eu_sales         16444 non-null  float64\n",
      " 6   jp_sales         16444 non-null  float64\n",
      " 7   other_sales      16444 non-null  float64\n",
      " 8   critic_score     16444 non-null  float64\n",
      " 9   user_score       16444 non-null  float64\n",
      " 10  rating           9768 non-null   object \n",
      "dtypes: float64(6), int64(1), object(4)\n",
      "memory usage: 1.5+ MB\n"
     ]
    }
   ],
   "source": [
    "#filling user score\n",
    "\n",
    "score_1 = game.groupby('genre')['user_score'].mean()\n",
    "\n",
    "def fill_score_user_1(row):\n",
    "    if pd.isna(row['user_score']):\n",
    "        return score_1.get(row['genre'])\n",
    "    else:\n",
    "        return row['user_score']\n",
    "\n",
    "game['user_score'] = game.apply(fill_score_user_1, axis = 1)\n",
    "\n",
    "#checking\n",
    "\n",
    "game.info()\n"
   ]
  },
  {
   "cell_type": "markdown",
   "metadata": {},
   "source": [
    "### Rating column"
   ]
  },
  {
   "cell_type": "markdown",
   "metadata": {},
   "source": [
    "Now we need to look at the **'rating'** column."
   ]
  },
  {
   "cell_type": "code",
   "execution_count": 36,
   "metadata": {},
   "outputs": [
    {
     "data": {
      "text/plain": [
       "array(['E', nan, 'M', 'T', 'E10+', 'K-A', 'AO', 'EC', 'RP'], dtype=object)"
      ]
     },
     "execution_count": 36,
     "metadata": {},
     "output_type": "execute_result"
    }
   ],
   "source": [
    "#checking all ratings in this column\n",
    "\n",
    "game['rating'].unique()"
   ]
  },
  {
   "cell_type": "markdown",
   "metadata": {},
   "source": [
    "We see that there missing values in the rating. Let's look at those missing values."
   ]
  },
  {
   "cell_type": "code",
   "execution_count": 37,
   "metadata": {},
   "outputs": [
    {
     "data": {
      "text/html": [
       "<div>\n",
       "<style scoped>\n",
       "    .dataframe tbody tr th:only-of-type {\n",
       "        vertical-align: middle;\n",
       "    }\n",
       "\n",
       "    .dataframe tbody tr th {\n",
       "        vertical-align: top;\n",
       "    }\n",
       "\n",
       "    .dataframe thead th {\n",
       "        text-align: right;\n",
       "    }\n",
       "</style>\n",
       "<table border=\"1\" class=\"dataframe\">\n",
       "  <thead>\n",
       "    <tr style=\"text-align: right;\">\n",
       "      <th></th>\n",
       "      <th>name</th>\n",
       "      <th>platform</th>\n",
       "      <th>year_of_release</th>\n",
       "      <th>genre</th>\n",
       "      <th>na_sales</th>\n",
       "      <th>eu_sales</th>\n",
       "      <th>jp_sales</th>\n",
       "      <th>other_sales</th>\n",
       "      <th>critic_score</th>\n",
       "      <th>user_score</th>\n",
       "      <th>rating</th>\n",
       "    </tr>\n",
       "  </thead>\n",
       "  <tbody>\n",
       "    <tr>\n",
       "      <th>1</th>\n",
       "      <td>Super Mario Bros.</td>\n",
       "      <td>NES</td>\n",
       "      <td>1985</td>\n",
       "      <td>Platform</td>\n",
       "      <td>29.08</td>\n",
       "      <td>3.58</td>\n",
       "      <td>6.81</td>\n",
       "      <td>0.77</td>\n",
       "      <td>71.0</td>\n",
       "      <td>7.407677</td>\n",
       "      <td>NaN</td>\n",
       "    </tr>\n",
       "    <tr>\n",
       "      <th>4</th>\n",
       "      <td>Pokemon Red/Pokemon Blue</td>\n",
       "      <td>GB</td>\n",
       "      <td>1996</td>\n",
       "      <td>Role-Playing</td>\n",
       "      <td>11.27</td>\n",
       "      <td>8.89</td>\n",
       "      <td>10.22</td>\n",
       "      <td>1.00</td>\n",
       "      <td>72.0</td>\n",
       "      <td>7.674664</td>\n",
       "      <td>NaN</td>\n",
       "    </tr>\n",
       "    <tr>\n",
       "      <th>5</th>\n",
       "      <td>Tetris</td>\n",
       "      <td>GB</td>\n",
       "      <td>1989</td>\n",
       "      <td>Puzzle</td>\n",
       "      <td>23.20</td>\n",
       "      <td>2.26</td>\n",
       "      <td>4.22</td>\n",
       "      <td>0.58</td>\n",
       "      <td>69.0</td>\n",
       "      <td>7.209083</td>\n",
       "      <td>NaN</td>\n",
       "    </tr>\n",
       "    <tr>\n",
       "      <th>9</th>\n",
       "      <td>Duck Hunt</td>\n",
       "      <td>NES</td>\n",
       "      <td>1984</td>\n",
       "      <td>Shooter</td>\n",
       "      <td>26.93</td>\n",
       "      <td>0.63</td>\n",
       "      <td>0.28</td>\n",
       "      <td>0.47</td>\n",
       "      <td>72.0</td>\n",
       "      <td>7.107555</td>\n",
       "      <td>NaN</td>\n",
       "    </tr>\n",
       "    <tr>\n",
       "      <th>10</th>\n",
       "      <td>Nintendogs</td>\n",
       "      <td>DS</td>\n",
       "      <td>2005</td>\n",
       "      <td>Simulation</td>\n",
       "      <td>9.05</td>\n",
       "      <td>10.95</td>\n",
       "      <td>1.93</td>\n",
       "      <td>2.74</td>\n",
       "      <td>65.5</td>\n",
       "      <td>6.708511</td>\n",
       "      <td>NaN</td>\n",
       "    </tr>\n",
       "    <tr>\n",
       "      <th>...</th>\n",
       "      <td>...</td>\n",
       "      <td>...</td>\n",
       "      <td>...</td>\n",
       "      <td>...</td>\n",
       "      <td>...</td>\n",
       "      <td>...</td>\n",
       "      <td>...</td>\n",
       "      <td>...</td>\n",
       "      <td>...</td>\n",
       "      <td>...</td>\n",
       "      <td>...</td>\n",
       "    </tr>\n",
       "    <tr>\n",
       "      <th>16710</th>\n",
       "      <td>Samurai Warriors: Sanada Maru</td>\n",
       "      <td>PS3</td>\n",
       "      <td>2016</td>\n",
       "      <td>Action</td>\n",
       "      <td>0.00</td>\n",
       "      <td>0.00</td>\n",
       "      <td>0.01</td>\n",
       "      <td>0.00</td>\n",
       "      <td>71.0</td>\n",
       "      <td>6.901550</td>\n",
       "      <td>NaN</td>\n",
       "    </tr>\n",
       "    <tr>\n",
       "      <th>16711</th>\n",
       "      <td>LMA Manager 2007</td>\n",
       "      <td>X360</td>\n",
       "      <td>2006</td>\n",
       "      <td>Sports</td>\n",
       "      <td>0.00</td>\n",
       "      <td>0.01</td>\n",
       "      <td>0.00</td>\n",
       "      <td>0.00</td>\n",
       "      <td>73.0</td>\n",
       "      <td>6.291463</td>\n",
       "      <td>NaN</td>\n",
       "    </tr>\n",
       "    <tr>\n",
       "      <th>16712</th>\n",
       "      <td>Haitaka no Psychedelica</td>\n",
       "      <td>PSV</td>\n",
       "      <td>2016</td>\n",
       "      <td>Adventure</td>\n",
       "      <td>0.00</td>\n",
       "      <td>0.00</td>\n",
       "      <td>0.01</td>\n",
       "      <td>0.00</td>\n",
       "      <td>72.0</td>\n",
       "      <td>7.775000</td>\n",
       "      <td>NaN</td>\n",
       "    </tr>\n",
       "    <tr>\n",
       "      <th>16713</th>\n",
       "      <td>Spirits &amp; Spells</td>\n",
       "      <td>GBA</td>\n",
       "      <td>2003</td>\n",
       "      <td>Platform</td>\n",
       "      <td>0.01</td>\n",
       "      <td>0.00</td>\n",
       "      <td>0.00</td>\n",
       "      <td>0.00</td>\n",
       "      <td>71.0</td>\n",
       "      <td>7.686000</td>\n",
       "      <td>NaN</td>\n",
       "    </tr>\n",
       "    <tr>\n",
       "      <th>16714</th>\n",
       "      <td>Winning Post 8 2016</td>\n",
       "      <td>PSV</td>\n",
       "      <td>2016</td>\n",
       "      <td>Simulation</td>\n",
       "      <td>0.00</td>\n",
       "      <td>0.00</td>\n",
       "      <td>0.01</td>\n",
       "      <td>0.00</td>\n",
       "      <td>65.5</td>\n",
       "      <td>7.116343</td>\n",
       "      <td>NaN</td>\n",
       "    </tr>\n",
       "  </tbody>\n",
       "</table>\n",
       "<p>6676 rows × 11 columns</p>\n",
       "</div>"
      ],
      "text/plain": [
       "                                name platform  year_of_release         genre  \\\n",
       "1                  Super Mario Bros.      NES             1985      Platform   \n",
       "4           Pokemon Red/Pokemon Blue       GB             1996  Role-Playing   \n",
       "5                             Tetris       GB             1989        Puzzle   \n",
       "9                          Duck Hunt      NES             1984       Shooter   \n",
       "10                        Nintendogs       DS             2005    Simulation   \n",
       "...                              ...      ...              ...           ...   \n",
       "16710  Samurai Warriors: Sanada Maru      PS3             2016        Action   \n",
       "16711               LMA Manager 2007     X360             2006        Sports   \n",
       "16712        Haitaka no Psychedelica      PSV             2016     Adventure   \n",
       "16713               Spirits & Spells      GBA             2003      Platform   \n",
       "16714            Winning Post 8 2016      PSV             2016    Simulation   \n",
       "\n",
       "       na_sales  eu_sales  jp_sales  other_sales  critic_score  user_score  \\\n",
       "1         29.08      3.58      6.81         0.77          71.0    7.407677   \n",
       "4         11.27      8.89     10.22         1.00          72.0    7.674664   \n",
       "5         23.20      2.26      4.22         0.58          69.0    7.209083   \n",
       "9         26.93      0.63      0.28         0.47          72.0    7.107555   \n",
       "10         9.05     10.95      1.93         2.74          65.5    6.708511   \n",
       "...         ...       ...       ...          ...           ...         ...   \n",
       "16710      0.00      0.00      0.01         0.00          71.0    6.901550   \n",
       "16711      0.00      0.01      0.00         0.00          73.0    6.291463   \n",
       "16712      0.00      0.00      0.01         0.00          72.0    7.775000   \n",
       "16713      0.01      0.00      0.00         0.00          71.0    7.686000   \n",
       "16714      0.00      0.00      0.01         0.00          65.5    7.116343   \n",
       "\n",
       "      rating  \n",
       "1        NaN  \n",
       "4        NaN  \n",
       "5        NaN  \n",
       "9        NaN  \n",
       "10       NaN  \n",
       "...      ...  \n",
       "16710    NaN  \n",
       "16711    NaN  \n",
       "16712    NaN  \n",
       "16713    NaN  \n",
       "16714    NaN  \n",
       "\n",
       "[6676 rows x 11 columns]"
      ]
     },
     "execution_count": 37,
     "metadata": {},
     "output_type": "execute_result"
    }
   ],
   "source": [
    "game.loc[game['rating'].isna()]"
   ]
  },
  {
   "cell_type": "markdown",
   "metadata": {},
   "source": [
    "We see that most games with a missing rating appeared to have missing critic_score and user_score as well. "
   ]
  },
  {
   "cell_type": "code",
   "execution_count": 38,
   "metadata": {},
   "outputs": [
    {
     "name": "stdout",
     "output_type": "stream",
     "text": [
      "<class 'pandas.core.frame.DataFrame'>\n",
      "Int64Index: 16444 entries, 0 to 16714\n",
      "Data columns (total 11 columns):\n",
      " #   Column           Non-Null Count  Dtype  \n",
      "---  ------           --------------  -----  \n",
      " 0   name             16444 non-null  object \n",
      " 1   platform         16444 non-null  object \n",
      " 2   year_of_release  16444 non-null  int64  \n",
      " 3   genre            16444 non-null  object \n",
      " 4   na_sales         16444 non-null  float64\n",
      " 5   eu_sales         16444 non-null  float64\n",
      " 6   jp_sales         16444 non-null  float64\n",
      " 7   other_sales      16444 non-null  float64\n",
      " 8   critic_score     16444 non-null  float64\n",
      " 9   user_score       16444 non-null  float64\n",
      " 10  rating           16444 non-null  object \n",
      "dtypes: float64(6), int64(1), object(4)\n",
      "memory usage: 1.5+ MB\n"
     ]
    },
    {
     "data": {
      "text/html": [
       "<div>\n",
       "<style scoped>\n",
       "    .dataframe tbody tr th:only-of-type {\n",
       "        vertical-align: middle;\n",
       "    }\n",
       "\n",
       "    .dataframe tbody tr th {\n",
       "        vertical-align: top;\n",
       "    }\n",
       "\n",
       "    .dataframe thead th {\n",
       "        text-align: right;\n",
       "    }\n",
       "</style>\n",
       "<table border=\"1\" class=\"dataframe\">\n",
       "  <thead>\n",
       "    <tr style=\"text-align: right;\">\n",
       "      <th></th>\n",
       "      <th>name</th>\n",
       "      <th>platform</th>\n",
       "      <th>year_of_release</th>\n",
       "      <th>genre</th>\n",
       "      <th>na_sales</th>\n",
       "      <th>eu_sales</th>\n",
       "      <th>jp_sales</th>\n",
       "      <th>other_sales</th>\n",
       "      <th>critic_score</th>\n",
       "      <th>user_score</th>\n",
       "      <th>rating</th>\n",
       "    </tr>\n",
       "  </thead>\n",
       "  <tbody>\n",
       "    <tr>\n",
       "      <th>0</th>\n",
       "      <td>Wii Sports</td>\n",
       "      <td>Wii</td>\n",
       "      <td>2006</td>\n",
       "      <td>Sports</td>\n",
       "      <td>41.36</td>\n",
       "      <td>28.96</td>\n",
       "      <td>3.77</td>\n",
       "      <td>8.45</td>\n",
       "      <td>76.0</td>\n",
       "      <td>8.000000</td>\n",
       "      <td>E</td>\n",
       "    </tr>\n",
       "    <tr>\n",
       "      <th>1</th>\n",
       "      <td>Super Mario Bros.</td>\n",
       "      <td>NES</td>\n",
       "      <td>1985</td>\n",
       "      <td>Platform</td>\n",
       "      <td>29.08</td>\n",
       "      <td>3.58</td>\n",
       "      <td>6.81</td>\n",
       "      <td>0.77</td>\n",
       "      <td>71.0</td>\n",
       "      <td>7.407677</td>\n",
       "      <td>E</td>\n",
       "    </tr>\n",
       "    <tr>\n",
       "      <th>2</th>\n",
       "      <td>Mario Kart Wii</td>\n",
       "      <td>Wii</td>\n",
       "      <td>2008</td>\n",
       "      <td>Racing</td>\n",
       "      <td>15.68</td>\n",
       "      <td>12.76</td>\n",
       "      <td>3.79</td>\n",
       "      <td>3.29</td>\n",
       "      <td>82.0</td>\n",
       "      <td>8.300000</td>\n",
       "      <td>E</td>\n",
       "    </tr>\n",
       "    <tr>\n",
       "      <th>3</th>\n",
       "      <td>Wii Sports Resort</td>\n",
       "      <td>Wii</td>\n",
       "      <td>2009</td>\n",
       "      <td>Sports</td>\n",
       "      <td>15.61</td>\n",
       "      <td>10.93</td>\n",
       "      <td>3.28</td>\n",
       "      <td>2.95</td>\n",
       "      <td>80.0</td>\n",
       "      <td>8.000000</td>\n",
       "      <td>E</td>\n",
       "    </tr>\n",
       "    <tr>\n",
       "      <th>4</th>\n",
       "      <td>Pokemon Red/Pokemon Blue</td>\n",
       "      <td>GB</td>\n",
       "      <td>1996</td>\n",
       "      <td>Role-Playing</td>\n",
       "      <td>11.27</td>\n",
       "      <td>8.89</td>\n",
       "      <td>10.22</td>\n",
       "      <td>1.00</td>\n",
       "      <td>72.0</td>\n",
       "      <td>7.674664</td>\n",
       "      <td>T</td>\n",
       "    </tr>\n",
       "  </tbody>\n",
       "</table>\n",
       "</div>"
      ],
      "text/plain": [
       "                       name platform  year_of_release         genre  na_sales  \\\n",
       "0                Wii Sports      Wii             2006        Sports     41.36   \n",
       "1         Super Mario Bros.      NES             1985      Platform     29.08   \n",
       "2            Mario Kart Wii      Wii             2008        Racing     15.68   \n",
       "3         Wii Sports Resort      Wii             2009        Sports     15.61   \n",
       "4  Pokemon Red/Pokemon Blue       GB             1996  Role-Playing     11.27   \n",
       "\n",
       "   eu_sales  jp_sales  other_sales  critic_score  user_score rating  \n",
       "0     28.96      3.77         8.45          76.0    8.000000      E  \n",
       "1      3.58      6.81         0.77          71.0    7.407677      E  \n",
       "2     12.76      3.79         3.29          82.0    8.300000      E  \n",
       "3     10.93      3.28         2.95          80.0    8.000000      E  \n",
       "4      8.89     10.22         1.00          72.0    7.674664      T  "
      ]
     },
     "execution_count": 38,
     "metadata": {},
     "output_type": "execute_result"
    }
   ],
   "source": [
    "#filling by using mode.\n",
    "\n",
    "rating = game.groupby('genre')['rating'].agg(pd.Series.mode)\n",
    "\n",
    "def fill_rating(row):\n",
    "    if pd.isna(row['rating']):\n",
    "        return rating.get(row['genre'])\n",
    "    else:\n",
    "        return row['rating']\n",
    "    \n",
    "game['rating'] = game.apply(fill_rating, axis = 1)\n",
    "\n",
    "game.info()\n",
    "game.head()\n"
   ]
  },
  {
   "cell_type": "markdown",
   "metadata": {},
   "source": [
    "All missing values have been filled. Now we will calculate total sales and add a new column to our dataframe."
   ]
  },
  {
   "cell_type": "markdown",
   "metadata": {},
   "source": [
    "### Total Sale"
   ]
  },
  {
   "cell_type": "code",
   "execution_count": 39,
   "metadata": {},
   "outputs": [
    {
     "name": "stdout",
     "output_type": "stream",
     "text": [
      "<class 'pandas.core.frame.DataFrame'>\n",
      "Int64Index: 16444 entries, 0 to 16714\n",
      "Data columns (total 12 columns):\n",
      " #   Column           Non-Null Count  Dtype  \n",
      "---  ------           --------------  -----  \n",
      " 0   name             16444 non-null  object \n",
      " 1   platform         16444 non-null  object \n",
      " 2   year_of_release  16444 non-null  int64  \n",
      " 3   genre            16444 non-null  object \n",
      " 4   na_sales         16444 non-null  float64\n",
      " 5   eu_sales         16444 non-null  float64\n",
      " 6   jp_sales         16444 non-null  float64\n",
      " 7   other_sales      16444 non-null  float64\n",
      " 8   critic_score     16444 non-null  float64\n",
      " 9   user_score       16444 non-null  float64\n",
      " 10  rating           16444 non-null  object \n",
      " 11  total_sale       16444 non-null  float64\n",
      "dtypes: float64(7), int64(1), object(4)\n",
      "memory usage: 1.6+ MB\n"
     ]
    },
    {
     "data": {
      "text/html": [
       "<div>\n",
       "<style scoped>\n",
       "    .dataframe tbody tr th:only-of-type {\n",
       "        vertical-align: middle;\n",
       "    }\n",
       "\n",
       "    .dataframe tbody tr th {\n",
       "        vertical-align: top;\n",
       "    }\n",
       "\n",
       "    .dataframe thead th {\n",
       "        text-align: right;\n",
       "    }\n",
       "</style>\n",
       "<table border=\"1\" class=\"dataframe\">\n",
       "  <thead>\n",
       "    <tr style=\"text-align: right;\">\n",
       "      <th></th>\n",
       "      <th>name</th>\n",
       "      <th>platform</th>\n",
       "      <th>year_of_release</th>\n",
       "      <th>genre</th>\n",
       "      <th>na_sales</th>\n",
       "      <th>eu_sales</th>\n",
       "      <th>jp_sales</th>\n",
       "      <th>other_sales</th>\n",
       "      <th>critic_score</th>\n",
       "      <th>user_score</th>\n",
       "      <th>rating</th>\n",
       "      <th>total_sale</th>\n",
       "    </tr>\n",
       "  </thead>\n",
       "  <tbody>\n",
       "    <tr>\n",
       "      <th>0</th>\n",
       "      <td>Wii Sports</td>\n",
       "      <td>Wii</td>\n",
       "      <td>2006</td>\n",
       "      <td>Sports</td>\n",
       "      <td>41.36</td>\n",
       "      <td>28.96</td>\n",
       "      <td>3.77</td>\n",
       "      <td>8.45</td>\n",
       "      <td>76.0</td>\n",
       "      <td>8.000000</td>\n",
       "      <td>E</td>\n",
       "      <td>82.54</td>\n",
       "    </tr>\n",
       "    <tr>\n",
       "      <th>1</th>\n",
       "      <td>Super Mario Bros.</td>\n",
       "      <td>NES</td>\n",
       "      <td>1985</td>\n",
       "      <td>Platform</td>\n",
       "      <td>29.08</td>\n",
       "      <td>3.58</td>\n",
       "      <td>6.81</td>\n",
       "      <td>0.77</td>\n",
       "      <td>71.0</td>\n",
       "      <td>7.407677</td>\n",
       "      <td>E</td>\n",
       "      <td>40.24</td>\n",
       "    </tr>\n",
       "    <tr>\n",
       "      <th>2</th>\n",
       "      <td>Mario Kart Wii</td>\n",
       "      <td>Wii</td>\n",
       "      <td>2008</td>\n",
       "      <td>Racing</td>\n",
       "      <td>15.68</td>\n",
       "      <td>12.76</td>\n",
       "      <td>3.79</td>\n",
       "      <td>3.29</td>\n",
       "      <td>82.0</td>\n",
       "      <td>8.300000</td>\n",
       "      <td>E</td>\n",
       "      <td>35.52</td>\n",
       "    </tr>\n",
       "    <tr>\n",
       "      <th>3</th>\n",
       "      <td>Wii Sports Resort</td>\n",
       "      <td>Wii</td>\n",
       "      <td>2009</td>\n",
       "      <td>Sports</td>\n",
       "      <td>15.61</td>\n",
       "      <td>10.93</td>\n",
       "      <td>3.28</td>\n",
       "      <td>2.95</td>\n",
       "      <td>80.0</td>\n",
       "      <td>8.000000</td>\n",
       "      <td>E</td>\n",
       "      <td>32.77</td>\n",
       "    </tr>\n",
       "    <tr>\n",
       "      <th>4</th>\n",
       "      <td>Pokemon Red/Pokemon Blue</td>\n",
       "      <td>GB</td>\n",
       "      <td>1996</td>\n",
       "      <td>Role-Playing</td>\n",
       "      <td>11.27</td>\n",
       "      <td>8.89</td>\n",
       "      <td>10.22</td>\n",
       "      <td>1.00</td>\n",
       "      <td>72.0</td>\n",
       "      <td>7.674664</td>\n",
       "      <td>T</td>\n",
       "      <td>31.38</td>\n",
       "    </tr>\n",
       "  </tbody>\n",
       "</table>\n",
       "</div>"
      ],
      "text/plain": [
       "                       name platform  year_of_release         genre  na_sales  \\\n",
       "0                Wii Sports      Wii             2006        Sports     41.36   \n",
       "1         Super Mario Bros.      NES             1985      Platform     29.08   \n",
       "2            Mario Kart Wii      Wii             2008        Racing     15.68   \n",
       "3         Wii Sports Resort      Wii             2009        Sports     15.61   \n",
       "4  Pokemon Red/Pokemon Blue       GB             1996  Role-Playing     11.27   \n",
       "\n",
       "   eu_sales  jp_sales  other_sales  critic_score  user_score rating  \\\n",
       "0     28.96      3.77         8.45          76.0    8.000000      E   \n",
       "1      3.58      6.81         0.77          71.0    7.407677      E   \n",
       "2     12.76      3.79         3.29          82.0    8.300000      E   \n",
       "3     10.93      3.28         2.95          80.0    8.000000      E   \n",
       "4      8.89     10.22         1.00          72.0    7.674664      T   \n",
       "\n",
       "   total_sale  \n",
       "0       82.54  \n",
       "1       40.24  \n",
       "2       35.52  \n",
       "3       32.77  \n",
       "4       31.38  "
      ]
     },
     "execution_count": 39,
     "metadata": {},
     "output_type": "execute_result"
    }
   ],
   "source": [
    "#add all sales and create a new column.\n",
    "\n",
    "game['total_sale'] = game['na_sales'] + game['eu_sales'] + game['jp_sales'] + game['other_sales']\n",
    "\n",
    "#check\n",
    "\n",
    "\n",
    "game.info()\n",
    "game.head()"
   ]
  },
  {
   "cell_type": "markdown",
   "metadata": {},
   "source": [
    "In this preprocessing step, we have successfully making all column names lowercase, changed the datatype, filled all missing values and added a new column that indicates the total sale of a game. "
   ]
  },
  {
   "cell_type": "markdown",
   "metadata": {},
   "source": [
    "## Game Data Analysis"
   ]
  },
  {
   "cell_type": "markdown",
   "metadata": {},
   "source": [
    "### Games released by year"
   ]
  },
  {
   "cell_type": "markdown",
   "metadata": {},
   "source": [
    "We will first look at how many games have been released in a given year. We will do this by grouping the games by year_of_release. "
   ]
  },
  {
   "cell_type": "code",
   "execution_count": 40,
   "metadata": {},
   "outputs": [
    {
     "data": {
      "text/plain": [
       "year_of_release\n",
       "1980       9\n",
       "1981      46\n",
       "1982      36\n",
       "1983      17\n",
       "1984      14\n",
       "1985      14\n",
       "1986      21\n",
       "1987      16\n",
       "1988      15\n",
       "1989      17\n",
       "1990      16\n",
       "1991      41\n",
       "1992      43\n",
       "1993      60\n",
       "1994     121\n",
       "1995     219\n",
       "1996     263\n",
       "1997     289\n",
       "1998     379\n",
       "1999     338\n",
       "2000     350\n",
       "2001     482\n",
       "2002     829\n",
       "2003     775\n",
       "2004     762\n",
       "2005     939\n",
       "2006    1006\n",
       "2007    1197\n",
       "2008    1427\n",
       "2009    1426\n",
       "2010    1255\n",
       "2011    1136\n",
       "2012     653\n",
       "2013     544\n",
       "2014     581\n",
       "2015     606\n",
       "2016     502\n",
       "Name: name, dtype: int64"
      ]
     },
     "execution_count": 40,
     "metadata": {},
     "output_type": "execute_result"
    }
   ],
   "source": [
    "#groupby\n",
    "\n",
    "game_by_year = game.groupby('year_of_release')['name'].count()\n",
    "\n",
    "game_by_year"
   ]
  },
  {
   "cell_type": "markdown",
   "metadata": {},
   "source": [
    "Let's plot a bar chart for this data. "
   ]
  },
  {
   "cell_type": "code",
   "execution_count": 41,
   "metadata": {},
   "outputs": [
    {
     "data": {
      "image/png": "[encoded data removed]",
      "text/plain": [
       "<Figure size 1296x720 with 1 Axes>"
      ]
     },
     "metadata": {
      "needs_background": "light"
     },
     "output_type": "display_data"
    }
   ],
   "source": [
    "#bar chart\n",
    "\n",
    "game_by_year.plot(kind = 'bar', figsize = (18,10))\n",
    "\n",
    "plt.title('Number of game released by year')\n",
    "plt.xlabel('Year')\n",
    "plt.ylabel('Counts')\n",
    "plt.show()\n"
   ]
  },
  {
   "cell_type": "markdown",
   "metadata": {},
   "source": [
    "As suggested by the bar graph, the number of games released prior 1994 was <200. Whereas 1995-2001 were <600. We see around 800 - 1000 games gets released from 2002-2007. While the most amount (>1400) of games released from 2008-2009. 2008 to present (2016), it varies from <600 to >1200."
   ]
  },
  {
   "cell_type": "markdown",
   "metadata": {},
   "source": [
    "### Platform data"
   ]
  },
  {
   "cell_type": "markdown",
   "metadata": {},
   "source": [
    "Let's look at how sales varied across platforms. "
   ]
  },
  {
   "cell_type": "code",
   "execution_count": 42,
   "metadata": {},
   "outputs": [
    {
     "data": {
      "text/plain": [
       "platform\n",
       "PS2     1233.56\n",
       "X360     961.24\n",
       "PS3      931.34\n",
       "Wii      891.18\n",
       "DS       802.78\n",
       "PS       727.58\n",
       "PS4      314.14\n",
       "GBA      312.88\n",
       "PSP      289.53\n",
       "3DS      257.81\n",
       "PC       255.76\n",
       "GB       254.43\n",
       "XB       251.57\n",
       "NES      251.05\n",
       "N64      218.01\n",
       "SNES     200.04\n",
       "GC       196.73\n",
       "XOne     159.32\n",
       "2600      86.48\n",
       "WiiU      82.19\n",
       "PSV       53.81\n",
       "SAT       33.59\n",
       "GEN       28.35\n",
       "DC        15.95\n",
       "SCD        1.86\n",
       "NG         1.44\n",
       "WS         1.42\n",
       "TG16       0.16\n",
       "3DO        0.10\n",
       "GG         0.04\n",
       "PCFX       0.03\n",
       "Name: total_sale, dtype: float64"
      ]
     },
     "execution_count": 42,
     "metadata": {},
     "output_type": "execute_result"
    }
   ],
   "source": [
    "#groupby total_sales by platform.\n",
    "\n",
    "platform_sale = game.groupby('platform')['total_sale'].sum().sort_values(ascending = False)\n",
    "\n",
    "platform_sale"
   ]
  },
  {
   "cell_type": "markdown",
   "metadata": {},
   "source": [
    "It appears that PS2 is leading in sale, followed by Xbox360, PS3, Wii, DS and PS. We will focus on these platforms and plot a bar plot showing the total sales in each year. "
   ]
  },
  {
   "cell_type": "code",
   "execution_count": 43,
   "metadata": {
    "scrolled": false
   },
   "outputs": [
    {
     "data": {
      "image/png": "[encoded data removed]",
      "text/plain": [
       "<Figure size 1296x720 with 1 Axes>"
      ]
     },
     "metadata": {
      "needs_background": "light"
     },
     "output_type": "display_data"
    },
    {
     "name": "stdout",
     "output_type": "stream",
     "text": [
      "\n"
     ]
    },
    {
     "data": {
      "image/png": "[encoded data removed]",
      "text/plain": [
       "<Figure size 1296x720 with 1 Axes>"
      ]
     },
     "metadata": {
      "needs_background": "light"
     },
     "output_type": "display_data"
    },
    {
     "name": "stdout",
     "output_type": "stream",
     "text": [
      "\n"
     ]
    },
    {
     "data": {
      "image/png": "[encoded data removed]",
      "text/plain": [
       "<Figure size 1296x720 with 1 Axes>"
      ]
     },
     "metadata": {
      "needs_background": "light"
     },
     "output_type": "display_data"
    },
    {
     "name": "stdout",
     "output_type": "stream",
     "text": [
      "\n"
     ]
    },
    {
     "data": {
      "image/png": "[encoded data removed]",
      "text/plain": [
       "<Figure size 1296x720 with 1 Axes>"
      ]
     },
     "metadata": {
      "needs_background": "light"
     },
     "output_type": "display_data"
    },
    {
     "name": "stdout",
     "output_type": "stream",
     "text": [
      "\n"
     ]
    },
    {
     "data": {
      "image/png": "[encoded data removed]",
      "text/plain": [
       "<Figure size 1296x720 with 1 Axes>"
      ]
     },
     "metadata": {
      "needs_background": "light"
     },
     "output_type": "display_data"
    },
    {
     "name": "stdout",
     "output_type": "stream",
     "text": [
      "\n"
     ]
    },
    {
     "data": {
      "image/png": "[encoded data removed]",
      "text/plain": [
       "<Figure size 1296x720 with 1 Axes>"
      ]
     },
     "metadata": {
      "needs_background": "light"
     },
     "output_type": "display_data"
    },
    {
     "name": "stdout",
     "output_type": "stream",
     "text": [
      "\n"
     ]
    }
   ],
   "source": [
    "#top platforms\n",
    "\n",
    "platform_sale_6 = platform_sale.head(6)\n",
    "\n",
    "\n",
    "#looping through top 6 platform\n",
    "for platforms in platform_sale_6.index: \n",
    "    \n",
    "    #creates a slice of rows from game table for top platforms\n",
    "    top_p=game.query('platform == @platforms')\n",
    "    \n",
    "    #groups the slice by year of release and sum the sales, and plot a bar plot\n",
    "    top_p.groupby('year_of_release')['total_sale'].sum().plot(kind = 'bar', figsize=(18, 10))\n",
    "    \n",
    "    #plots\n",
    "    plt.title('{} sales'.format(platforms))\n",
    "    plt.xlabel('year')\n",
    "    plt.ylabel('sales')\n",
    "    plt.show()\n",
    "    print('')"
   ]
  },
  {
   "cell_type": "markdown",
   "metadata": {},
   "source": [
    "Interestingly, PS2 started in 2000 and increased popularity for the next couple years before phasing out after 2010. Xbox360 started in 2005, and increased popularity for the next decade, we see a dramatic decrease in 2016. PS3 came later in 2006, there is also a dramatic decrease in 2016. Wii started in 2006, and peaked in 2009. The sale gradually decrease starting from 2011, finally phasing out after 2014. DS starts early and maintained a steady sale until 2013. PS started in 1994, and phasing out after 2002. \n",
    "\n",
    "It appears that it usually takes a platform that used to be popular 7-10 years to fade out of the market. Take PS, PS2 and PS3 into consideration, PS appears in 1994, PS2 in 2000 and PS3 in 2006. The observation is that it takes 4-6 years for a new platform to appear and gradually replace the previous generation of console. \n",
    "\n",
    "In order to determine the relevancy of dat for our analysis for 2017, we should compare the top sales in all time vs various timepoints. Let's start with data since 2006 (-10 years), and compare it with data within the past 5 years (2011) to get a better idea on what to use and what to disregard."
   ]
  },
  {
   "cell_type": "markdown",
   "metadata": {},
   "source": [
    "### Sale since 2006"
   ]
  },
  {
   "cell_type": "code",
   "execution_count": 44,
   "metadata": {},
   "outputs": [
    {
     "data": {
      "text/plain": [
       "platform\n",
       "X360    952.99\n",
       "PS3     931.34\n",
       "Wii     891.18\n",
       "DS      655.35\n",
       "PS4     314.14\n",
       "PS2     265.80\n",
       "3DS     257.81\n",
       "PSP     238.63\n",
       "PC      163.42\n",
       "XOne    159.32\n",
       "WiiU     82.19\n",
       "PSV      53.81\n",
       "GC       11.53\n",
       "XB       10.77\n",
       "GBA       8.68\n",
       "DC        0.06\n",
       "Name: total_sale, dtype: float64"
      ]
     },
     "execution_count": 44,
     "metadata": {},
     "output_type": "execute_result"
    }
   ],
   "source": [
    "#create a slice\n",
    "\n",
    "sale_since = game.query('year_of_release >= 2006')\n",
    "\n",
    "sale_since_2006 = sale_since.groupby('platform')['total_sale'].sum().sort_values(ascending = False)\n",
    "\n",
    "sale_since_2006"
   ]
  },
  {
   "cell_type": "markdown",
   "metadata": {},
   "source": [
    "Xbox360 leads in sale since 2006, follow by PS3, Wii, DS , PS4. When we compare with the previous groups, we see that several platforms have moved to the top of the list. First is PS4, follow by 3DS, PSP, PC, XOne and WiiU. Now let's look at sales since 2011."
   ]
  },
  {
   "cell_type": "markdown",
   "metadata": {},
   "source": [
    "### Sales since 2011"
   ]
  },
  {
   "cell_type": "code",
   "execution_count": 45,
   "metadata": {},
   "outputs": [
    {
     "data": {
      "text/plain": [
       "platform\n",
       "PS3     445.57\n",
       "X360    380.38\n",
       "PS4     314.14\n",
       "3DS     257.81\n",
       "XOne    159.32\n",
       "PC       97.68\n",
       "Wii      95.02\n",
       "WiiU     82.19\n",
       "PSV      53.81\n",
       "DS       38.73\n",
       "PSP      29.01\n",
       "PS2       0.45\n",
       "Name: total_sale, dtype: float64"
      ]
     },
     "execution_count": 45,
     "metadata": {},
     "output_type": "execute_result"
    }
   ],
   "source": [
    "#create a slice\n",
    "\n",
    "sale_since_2011 = game.query('year_of_release >= 2011')\n",
    "\n",
    "sale_since_2011_top = sale_since_2011.groupby('platform')['total_sale'].sum().sort_values(ascending = False)\n",
    "\n",
    "sale_since_2011_top"
   ]
  },
  {
   "cell_type": "markdown",
   "metadata": {},
   "source": [
    "In this case, PS3 leads in total sales, follow by Xbox360, PS4, 3DS, XboxOne, PC. We can see a clear trend of what has become popular for the period of 2006-present and 2011-present. It appears that Wii and PS2 has really phased out, majority of sales were made during 2006-2011. For this reason, I have decided to use 2011-present data because it is most relevant."
   ]
  },
  {
   "cell_type": "code",
   "execution_count": 46,
   "metadata": {
    "scrolled": false
   },
   "outputs": [
    {
     "data": {
      "image/png": "[encoded data removed]",
      "text/plain": [
       "<Figure size 1296x720 with 1 Axes>"
      ]
     },
     "metadata": {
      "needs_background": "light"
     },
     "output_type": "display_data"
    },
    {
     "name": "stdout",
     "output_type": "stream",
     "text": [
      "\n"
     ]
    },
    {
     "data": {
      "image/png": "[encoded data removed]",
      "text/plain": [
       "<Figure size 1296x720 with 1 Axes>"
      ]
     },
     "metadata": {
      "needs_background": "light"
     },
     "output_type": "display_data"
    },
    {
     "name": "stdout",
     "output_type": "stream",
     "text": [
      "\n"
     ]
    },
    {
     "data": {
      "image/png": "[encoded data removed]",
      "text/plain": [
       "<Figure size 1296x720 with 1 Axes>"
      ]
     },
     "metadata": {
      "needs_background": "light"
     },
     "output_type": "display_data"
    },
    {
     "name": "stdout",
     "output_type": "stream",
     "text": [
      "\n"
     ]
    },
    {
     "data": {
      "image/png": "[encoded data removed]",
      "text/plain": [
       "<Figure size 1296x720 with 1 Axes>"
      ]
     },
     "metadata": {
      "needs_background": "light"
     },
     "output_type": "display_data"
    },
    {
     "name": "stdout",
     "output_type": "stream",
     "text": [
      "\n"
     ]
    },
    {
     "data": {
      "image/png": "[encoded data removed]",
      "text/plain": [
       "<Figure size 1296x720 with 1 Axes>"
      ]
     },
     "metadata": {
      "needs_background": "light"
     },
     "output_type": "display_data"
    },
    {
     "name": "stdout",
     "output_type": "stream",
     "text": [
      "\n"
     ]
    },
    {
     "data": {
      "image/png": "[encoded data removed]",
      "text/plain": [
       "<Figure size 1296x720 with 1 Axes>"
      ]
     },
     "metadata": {
      "needs_background": "light"
     },
     "output_type": "display_data"
    },
    {
     "name": "stdout",
     "output_type": "stream",
     "text": [
      "\n"
     ]
    },
    {
     "data": {
      "image/png": "[encoded data removed]",
      "text/plain": [
       "<Figure size 1296x720 with 1 Axes>"
      ]
     },
     "metadata": {
      "needs_background": "light"
     },
     "output_type": "display_data"
    },
    {
     "name": "stdout",
     "output_type": "stream",
     "text": [
      "\n"
     ]
    },
    {
     "data": {
      "image/png": "[encoded data removed]",
      "text/plain": [
       "<Figure size 1296x720 with 1 Axes>"
      ]
     },
     "metadata": {
      "needs_background": "light"
     },
     "output_type": "display_data"
    },
    {
     "name": "stdout",
     "output_type": "stream",
     "text": [
      "\n"
     ]
    },
    {
     "data": {
      "image/png": "[encoded data removed]",
      "text/plain": [
       "<Figure size 1296x720 with 1 Axes>"
      ]
     },
     "metadata": {
      "needs_background": "light"
     },
     "output_type": "display_data"
    },
    {
     "name": "stdout",
     "output_type": "stream",
     "text": [
      "\n"
     ]
    },
    {
     "data": {
      "image/png": "[encoded data removed]",
      "text/plain": [
       "<Figure size 1296x720 with 1 Axes>"
      ]
     },
     "metadata": {
      "needs_background": "light"
     },
     "output_type": "display_data"
    },
    {
     "name": "stdout",
     "output_type": "stream",
     "text": [
      "\n"
     ]
    },
    {
     "data": {
      "image/png": "[encoded data removed]",
      "text/plain": [
       "<Figure size 1296x720 with 1 Axes>"
      ]
     },
     "metadata": {
      "needs_background": "light"
     },
     "output_type": "display_data"
    },
    {
     "name": "stdout",
     "output_type": "stream",
     "text": [
      "\n"
     ]
    },
    {
     "data": {
      "image/png": "[encoded data removed]",
      "text/plain": [
       "<Figure size 1296x720 with 1 Axes>"
      ]
     },
     "metadata": {
      "needs_background": "light"
     },
     "output_type": "display_data"
    },
    {
     "name": "stdout",
     "output_type": "stream",
     "text": [
      "\n"
     ]
    }
   ],
   "source": [
    "#looping through top 6 platform\n",
    "for platforms in sale_since_2011_top.index: \n",
    "    \n",
    "    #creates a slice of rows from game table for top platforms\n",
    "    top_platform = sale_since_2011.query('platform == @platforms')\n",
    "    \n",
    "    #groups the slice by year of release and sum the sales, and plot a bar plot\n",
    "    top_platform.groupby('year_of_release')['total_sale'].sum().plot(kind = 'bar', figsize=(18, 10))\n",
    "    \n",
    "    #plots\n",
    "    plt.title('{} sales'.format(platforms))\n",
    "    plt.xlabel('year')\n",
    "    plt.ylabel('sales')\n",
    "    plt.show()\n",
    "    print('')"
   ]
  },
  {
   "cell_type": "markdown",
   "metadata": {},
   "source": [
    "Here, based on the bar plots, we can easily differentiate the growing platforms from the shrinking ones. \n",
    "Since 2011:\n",
    "\n",
    "**PS3**: Shrinking, almost phased out in 2016. Unlikely to be a profitable platform in 2017.\n",
    "\n",
    "**Xbox360**: popular from 2011-2013, almost phased out in 2016. Unlikely to be profitable in 2017.\n",
    "\n",
    "**PS4**: Started in 2013, sales steady. Likely to be profitable in 2017.\n",
    "\n",
    "**3DS**: although sale have decreased in 2016, overall steady sale trend. More likely to be profitable in 2017 than non-profitable.\n",
    "\n",
    "**XboxOne**: started in 2013, more sales in 2016 than its released year, sales steady. Likely to be profitable in 2017.\n",
    "\n",
    "**PC**: Decreasing sales but overall steady sales. More likely to be profitable in 2017 than no-profit. \n",
    "\n",
    "**Wii**: Almost phased out in 2016. Unlikely to be profitable in 2017.\n",
    "\n",
    "**WiiU**: Sale decreased in 2016, but overall steady sales. Therefore more likely to be profitable in 2017 than non-profitable.\n",
    "\n",
    "**PSV**: similar to PC, likely to be profitable in 2017 than non-profitable. \n",
    "\n",
    "**DS**: No sale recorded past 2013. Non-profitable in 2017.\n",
    "\n",
    "**PSP**: No sale recorded past 2015. Non-profitable in 2017.\n",
    "\n",
    "**PS2**: No sale recorded past 2011. Non-profitable in 2017.\n",
    "\n",
    "In conclusion, the potentially proftiable platforms for 2017 are PS4, XboxOne, PC, 3DS, WiiU and PSV. "
   ]
  },
  {
   "cell_type": "markdown",
   "metadata": {},
   "source": [
    "### Global sales of all games by platform"
   ]
  },
  {
   "cell_type": "markdown",
   "metadata": {},
   "source": [
    "Next, we will look at the sales of all games based on the platforms that we have selected in the previous steps: PS4, XboxOne, PC, 3DS, WiiU and PSV. "
   ]
  },
  {
   "cell_type": "code",
   "execution_count": 47,
   "metadata": {
    "scrolled": false
   },
   "outputs": [
    {
     "data": {
      "image/png": "[encoded data removed]",
      "text/plain": [
       "<Figure size 432x288 with 1 Axes>"
      ]
     },
     "metadata": {
      "needs_background": "light"
     },
     "output_type": "display_data"
    }
   ],
   "source": [
    "global_platforms = sale_since_2011.query('platform == \"XOne\" | platform == \"PS4\" | platform == \"3DS\" | platform == \"WiiU\" | platform == \"PC\" | platform == \"PSV\"')\n",
    "\n",
    "ax = sns.boxplot(x='platform', y='total_sale', data=global_platforms)\n",
    "\n",
    "ax.set_title('Global sale since 2011 by platform')\n",
    "\n",
    "ticks = ax.set_xticklabels(ax.get_xticklabels(),rotation=30)\n",
    "\n",
    "sns.set(rc={'figure.figsize':(12,10)})"
   ]
  },
  {
   "cell_type": "markdown",
   "metadata": {},
   "source": [
    "While there are no prominent difference observed in the median between PS4, XboxOne and WiiU, the median sale for 3DS, PC and PSV appeared to be lower. PS4 and 3DS has more outliers that falls beyond the upper limit, with highest one that is ~14.5 million. \n",
    "\n",
    "The initial observation is that **XboxOne** and **PS4** seems to be good platforms to release game on in 2017. Bar plot shows their sale in 2016 is recovering and box plot is showing that they have a higher median sale than other platforms. But we will focus on one platform in the next analysis, we will choose PS4.  "
   ]
  },
  {
   "cell_type": "markdown",
   "metadata": {},
   "source": [
    "### User and professional reviews on sales"
   ]
  },
  {
   "cell_type": "markdown",
   "metadata": {},
   "source": [
    "We will focus on PS4 platform and check if there is an association between user/professional reviews and total sales. "
   ]
  },
  {
   "cell_type": "code",
   "execution_count": 48,
   "metadata": {},
   "outputs": [
    {
     "data": {
      "image/png": "[encoded data removed]",
      "text/plain": [
       "<Figure size 864x720 with 1 Axes>"
      ]
     },
     "metadata": {},
     "output_type": "display_data"
    },
    {
     "data": {
      "image/png": "[encoded data removed]",
      "text/plain": [
       "<Figure size 864x720 with 1 Axes>"
      ]
     },
     "metadata": {},
     "output_type": "display_data"
    }
   ],
   "source": [
    "#create a slice with PS4 data\n",
    "\n",
    "ps4_data = sale_since_2011.query('platform == \"PS4\"')\n",
    "\n",
    "#write a loop for both reviews\n",
    "\n",
    "cols = ['critic_score', 'user_score']\n",
    "\n",
    "for column in cols:\n",
    "    ps4_data.plot(x=column, y ='total_sale', kind = 'scatter', c='blue')\n",
    "    plt.title('how {}s affect PS4 total sale'.format(column))\n",
    "    plt.show()"
   ]
  },
  {
   "cell_type": "markdown",
   "metadata": {},
   "source": [
    "From the graph, it seems there might be a positive correlation between both user/professional reviews and total sale. But we cannot be sure, so let's find the correlation coefficients. "
   ]
  },
  {
   "cell_type": "code",
   "execution_count": 49,
   "metadata": {
    "scrolled": true
   },
   "outputs": [
    {
     "name": "stdout",
     "output_type": "stream",
     "text": [
      "the correlation coefficient between critic scores and total sale is: 0.3347689328109687\n",
      "the correlation coefficient between user scores and total sale is: -0.05366322650258684\n"
     ]
    }
   ],
   "source": [
    "print('the correlation coefficient between critic scores and total sale is:', ps4_data['critic_score'].corr(ps4_data['total_sale']))\n",
    "\n",
    "print('the correlation coefficient between user scores and total sale is:', ps4_data['user_score'].corr(ps4_data['total_sale']))"
   ]
  },
  {
   "cell_type": "markdown",
   "metadata": {},
   "source": [
    "It appears that there are little to no linear correlation between either critic scores or user scores and total sales. Sometimes higher ratings amount critics and users does not guarantee a bigger profit.."
   ]
  },
  {
   "cell_type": "markdown",
   "metadata": {},
   "source": [
    "### Will a game does better on one platform than the other?"
   ]
  },
  {
   "cell_type": "markdown",
   "metadata": {},
   "source": [
    "Since we had two choice of platforms (XboxOne and PS4) for our two profitable platforms, let's look at the games that are on both platforms and compare their sales. "
   ]
  },
  {
   "cell_type": "code",
   "execution_count": 50,
   "metadata": {},
   "outputs": [
    {
     "data": {
      "text/html": [
       "<div>\n",
       "<style scoped>\n",
       "    .dataframe tbody tr th:only-of-type {\n",
       "        vertical-align: middle;\n",
       "    }\n",
       "\n",
       "    .dataframe tbody tr th {\n",
       "        vertical-align: top;\n",
       "    }\n",
       "\n",
       "    .dataframe thead th {\n",
       "        text-align: right;\n",
       "    }\n",
       "</style>\n",
       "<table border=\"1\" class=\"dataframe\">\n",
       "  <thead>\n",
       "    <tr style=\"text-align: right;\">\n",
       "      <th></th>\n",
       "      <th>name</th>\n",
       "      <th>platform</th>\n",
       "      <th>year_of_release</th>\n",
       "      <th>genre</th>\n",
       "      <th>na_sales</th>\n",
       "      <th>eu_sales</th>\n",
       "      <th>jp_sales</th>\n",
       "      <th>other_sales</th>\n",
       "      <th>critic_score</th>\n",
       "      <th>user_score</th>\n",
       "      <th>rating</th>\n",
       "      <th>total_sale</th>\n",
       "    </tr>\n",
       "  </thead>\n",
       "  <tbody>\n",
       "    <tr>\n",
       "      <th>9197</th>\n",
       "      <td>7 Days to Die</td>\n",
       "      <td>PS4</td>\n",
       "      <td>2016</td>\n",
       "      <td>Action</td>\n",
       "      <td>0.04</td>\n",
       "      <td>0.08</td>\n",
       "      <td>0.00</td>\n",
       "      <td>0.02</td>\n",
       "      <td>45.0</td>\n",
       "      <td>5.900000</td>\n",
       "      <td>M</td>\n",
       "      <td>0.14</td>\n",
       "    </tr>\n",
       "    <tr>\n",
       "      <th>12863</th>\n",
       "      <td>7 Days to Die</td>\n",
       "      <td>XOne</td>\n",
       "      <td>2016</td>\n",
       "      <td>Action</td>\n",
       "      <td>0.03</td>\n",
       "      <td>0.02</td>\n",
       "      <td>0.00</td>\n",
       "      <td>0.00</td>\n",
       "      <td>35.0</td>\n",
       "      <td>5.200000</td>\n",
       "      <td>M</td>\n",
       "      <td>0.05</td>\n",
       "    </tr>\n",
       "    <tr>\n",
       "      <th>12920</th>\n",
       "      <td>Adventure Time: Finn &amp; Jake Investigations</td>\n",
       "      <td>XOne</td>\n",
       "      <td>2015</td>\n",
       "      <td>Action</td>\n",
       "      <td>0.03</td>\n",
       "      <td>0.02</td>\n",
       "      <td>0.00</td>\n",
       "      <td>0.00</td>\n",
       "      <td>74.0</td>\n",
       "      <td>6.708475</td>\n",
       "      <td>T</td>\n",
       "      <td>0.05</td>\n",
       "    </tr>\n",
       "    <tr>\n",
       "      <th>10893</th>\n",
       "      <td>Adventure Time: Finn &amp; Jake Investigations</td>\n",
       "      <td>PS4</td>\n",
       "      <td>2015</td>\n",
       "      <td>Action</td>\n",
       "      <td>0.03</td>\n",
       "      <td>0.05</td>\n",
       "      <td>0.00</td>\n",
       "      <td>0.02</td>\n",
       "      <td>73.0</td>\n",
       "      <td>6.932955</td>\n",
       "      <td>T</td>\n",
       "      <td>0.10</td>\n",
       "    </tr>\n",
       "    <tr>\n",
       "      <th>14940</th>\n",
       "      <td>Agatha Christie's The ABC Murders</td>\n",
       "      <td>PS4</td>\n",
       "      <td>2016</td>\n",
       "      <td>Adventure</td>\n",
       "      <td>0.01</td>\n",
       "      <td>0.01</td>\n",
       "      <td>0.00</td>\n",
       "      <td>0.00</td>\n",
       "      <td>67.0</td>\n",
       "      <td>6.200000</td>\n",
       "      <td>T</td>\n",
       "      <td>0.02</td>\n",
       "    </tr>\n",
       "    <tr>\n",
       "      <th>...</th>\n",
       "      <td>...</td>\n",
       "      <td>...</td>\n",
       "      <td>...</td>\n",
       "      <td>...</td>\n",
       "      <td>...</td>\n",
       "      <td>...</td>\n",
       "      <td>...</td>\n",
       "      <td>...</td>\n",
       "      <td>...</td>\n",
       "      <td>...</td>\n",
       "      <td>...</td>\n",
       "      <td>...</td>\n",
       "    </tr>\n",
       "    <tr>\n",
       "      <th>9117</th>\n",
       "      <td>XCOM 2</td>\n",
       "      <td>PS4</td>\n",
       "      <td>2016</td>\n",
       "      <td>Strategy</td>\n",
       "      <td>0.04</td>\n",
       "      <td>0.08</td>\n",
       "      <td>0.00</td>\n",
       "      <td>0.02</td>\n",
       "      <td>88.0</td>\n",
       "      <td>8.000000</td>\n",
       "      <td>T</td>\n",
       "      <td>0.14</td>\n",
       "    </tr>\n",
       "    <tr>\n",
       "      <th>16645</th>\n",
       "      <td>ZombiU</td>\n",
       "      <td>XOne</td>\n",
       "      <td>2016</td>\n",
       "      <td>Action</td>\n",
       "      <td>0.00</td>\n",
       "      <td>0.01</td>\n",
       "      <td>0.00</td>\n",
       "      <td>0.00</td>\n",
       "      <td>74.0</td>\n",
       "      <td>6.708475</td>\n",
       "      <td>T</td>\n",
       "      <td>0.01</td>\n",
       "    </tr>\n",
       "    <tr>\n",
       "      <th>12761</th>\n",
       "      <td>ZombiU</td>\n",
       "      <td>PS4</td>\n",
       "      <td>2016</td>\n",
       "      <td>Action</td>\n",
       "      <td>0.00</td>\n",
       "      <td>0.04</td>\n",
       "      <td>0.01</td>\n",
       "      <td>0.01</td>\n",
       "      <td>73.0</td>\n",
       "      <td>6.932955</td>\n",
       "      <td>T</td>\n",
       "      <td>0.06</td>\n",
       "    </tr>\n",
       "    <tr>\n",
       "      <th>7539</th>\n",
       "      <td>Zombie Army Trilogy</td>\n",
       "      <td>PS4</td>\n",
       "      <td>2015</td>\n",
       "      <td>Shooter</td>\n",
       "      <td>0.05</td>\n",
       "      <td>0.12</td>\n",
       "      <td>0.00</td>\n",
       "      <td>0.03</td>\n",
       "      <td>62.0</td>\n",
       "      <td>6.800000</td>\n",
       "      <td>M</td>\n",
       "      <td>0.20</td>\n",
       "    </tr>\n",
       "    <tr>\n",
       "      <th>10316</th>\n",
       "      <td>Zombie Army Trilogy</td>\n",
       "      <td>XOne</td>\n",
       "      <td>2015</td>\n",
       "      <td>Shooter</td>\n",
       "      <td>0.05</td>\n",
       "      <td>0.05</td>\n",
       "      <td>0.00</td>\n",
       "      <td>0.01</td>\n",
       "      <td>62.0</td>\n",
       "      <td>7.200000</td>\n",
       "      <td>M</td>\n",
       "      <td>0.11</td>\n",
       "    </tr>\n",
       "  </tbody>\n",
       "</table>\n",
       "<p>434 rows × 12 columns</p>\n",
       "</div>"
      ],
      "text/plain": [
       "                                             name platform  year_of_release  \\\n",
       "9197                                7 Days to Die      PS4             2016   \n",
       "12863                               7 Days to Die     XOne             2016   \n",
       "12920  Adventure Time: Finn & Jake Investigations     XOne             2015   \n",
       "10893  Adventure Time: Finn & Jake Investigations      PS4             2015   \n",
       "14940           Agatha Christie's The ABC Murders      PS4             2016   \n",
       "...                                           ...      ...              ...   \n",
       "9117                                       XCOM 2      PS4             2016   \n",
       "16645                                      ZombiU     XOne             2016   \n",
       "12761                                      ZombiU      PS4             2016   \n",
       "7539                          Zombie Army Trilogy      PS4             2015   \n",
       "10316                         Zombie Army Trilogy     XOne             2015   \n",
       "\n",
       "           genre  na_sales  eu_sales  jp_sales  other_sales  critic_score  \\\n",
       "9197      Action      0.04      0.08      0.00         0.02          45.0   \n",
       "12863     Action      0.03      0.02      0.00         0.00          35.0   \n",
       "12920     Action      0.03      0.02      0.00         0.00          74.0   \n",
       "10893     Action      0.03      0.05      0.00         0.02          73.0   \n",
       "14940  Adventure      0.01      0.01      0.00         0.00          67.0   \n",
       "...          ...       ...       ...       ...          ...           ...   \n",
       "9117    Strategy      0.04      0.08      0.00         0.02          88.0   \n",
       "16645     Action      0.00      0.01      0.00         0.00          74.0   \n",
       "12761     Action      0.00      0.04      0.01         0.01          73.0   \n",
       "7539     Shooter      0.05      0.12      0.00         0.03          62.0   \n",
       "10316    Shooter      0.05      0.05      0.00         0.01          62.0   \n",
       "\n",
       "       user_score rating  total_sale  \n",
       "9197     5.900000      M        0.14  \n",
       "12863    5.200000      M        0.05  \n",
       "12920    6.708475      T        0.05  \n",
       "10893    6.932955      T        0.10  \n",
       "14940    6.200000      T        0.02  \n",
       "...           ...    ...         ...  \n",
       "9117     8.000000      T        0.14  \n",
       "16645    6.708475      T        0.01  \n",
       "12761    6.932955      T        0.06  \n",
       "7539     6.800000      M        0.20  \n",
       "10316    7.200000      M        0.11  \n",
       "\n",
       "[434 rows x 12 columns]"
      ]
     },
     "execution_count": 50,
     "metadata": {},
     "output_type": "execute_result"
    }
   ],
   "source": [
    "#create a slice with both xboxone and ps4\n",
    "\n",
    "platform_game = sale_since_2011.query('platform == \"PS4\" | platform == \"XOne\"')\n",
    "\n",
    "#Identify duplicates and sort by name\n",
    "\n",
    "names_plat_game = platform_game['name']\n",
    "\n",
    "duplicates_names = platform_game[names_plat_game.isin(names_plat_game[names_plat_game.duplicated()])].sort_values('name')\n",
    "\n",
    "duplicates_names"
   ]
  },
  {
   "cell_type": "code",
   "execution_count": 51,
   "metadata": {
    "scrolled": false
   },
   "outputs": [
    {
     "data": {
      "text/html": [
       "<div>\n",
       "<style scoped>\n",
       "    .dataframe tbody tr th:only-of-type {\n",
       "        vertical-align: middle;\n",
       "    }\n",
       "\n",
       "    .dataframe tbody tr th {\n",
       "        vertical-align: top;\n",
       "    }\n",
       "\n",
       "    .dataframe thead th {\n",
       "        text-align: right;\n",
       "    }\n",
       "</style>\n",
       "<table border=\"1\" class=\"dataframe\">\n",
       "  <thead>\n",
       "    <tr style=\"text-align: right;\">\n",
       "      <th>platform</th>\n",
       "      <th>PS4</th>\n",
       "      <th>XOne</th>\n",
       "    </tr>\n",
       "    <tr>\n",
       "      <th>name</th>\n",
       "      <th></th>\n",
       "      <th></th>\n",
       "    </tr>\n",
       "  </thead>\n",
       "  <tbody>\n",
       "    <tr>\n",
       "      <th>7 Days to Die</th>\n",
       "      <td>0.14</td>\n",
       "      <td>0.05</td>\n",
       "    </tr>\n",
       "    <tr>\n",
       "      <th>Adventure Time: Finn &amp; Jake Investigations</th>\n",
       "      <td>0.10</td>\n",
       "      <td>0.05</td>\n",
       "    </tr>\n",
       "    <tr>\n",
       "      <th>Agatha Christie's The ABC Murders</th>\n",
       "      <td>0.02</td>\n",
       "      <td>0.01</td>\n",
       "    </tr>\n",
       "    <tr>\n",
       "      <th>Alien: Isolation</th>\n",
       "      <td>1.12</td>\n",
       "      <td>0.50</td>\n",
       "    </tr>\n",
       "    <tr>\n",
       "      <th>Angry Birds Star Wars</th>\n",
       "      <td>0.22</td>\n",
       "      <td>0.17</td>\n",
       "    </tr>\n",
       "    <tr>\n",
       "      <th>...</th>\n",
       "      <td>...</td>\n",
       "      <td>...</td>\n",
       "    </tr>\n",
       "    <tr>\n",
       "      <th>Wolfenstein: The Old Blood</th>\n",
       "      <td>0.43</td>\n",
       "      <td>0.15</td>\n",
       "    </tr>\n",
       "    <tr>\n",
       "      <th>Worms: WMD</th>\n",
       "      <td>0.03</td>\n",
       "      <td>0.01</td>\n",
       "    </tr>\n",
       "    <tr>\n",
       "      <th>XCOM 2</th>\n",
       "      <td>0.14</td>\n",
       "      <td>0.04</td>\n",
       "    </tr>\n",
       "    <tr>\n",
       "      <th>ZombiU</th>\n",
       "      <td>0.06</td>\n",
       "      <td>0.01</td>\n",
       "    </tr>\n",
       "    <tr>\n",
       "      <th>Zombie Army Trilogy</th>\n",
       "      <td>0.20</td>\n",
       "      <td>0.11</td>\n",
       "    </tr>\n",
       "  </tbody>\n",
       "</table>\n",
       "<p>217 rows × 2 columns</p>\n",
       "</div>"
      ],
      "text/plain": [
       "platform                                     PS4  XOne\n",
       "name                                                  \n",
       "7 Days to Die                               0.14  0.05\n",
       "Adventure Time: Finn & Jake Investigations  0.10  0.05\n",
       "Agatha Christie's The ABC Murders           0.02  0.01\n",
       "Alien: Isolation                            1.12  0.50\n",
       "Angry Birds Star Wars                       0.22  0.17\n",
       "...                                          ...   ...\n",
       "Wolfenstein: The Old Blood                  0.43  0.15\n",
       "Worms: WMD                                  0.03  0.01\n",
       "XCOM 2                                      0.14  0.04\n",
       "ZombiU                                      0.06  0.01\n",
       "Zombie Army Trilogy                         0.20  0.11\n",
       "\n",
       "[217 rows x 2 columns]"
      ]
     },
     "execution_count": 51,
     "metadata": {},
     "output_type": "execute_result"
    }
   ],
   "source": [
    "#put everything into a table\n",
    "duplicate_names_sales = duplicates_names.pivot_table(index = 'name', columns = 'platform', values = 'total_sale')\n",
    "\n",
    "duplicate_names_sales"
   ]
  },
  {
   "cell_type": "markdown",
   "metadata": {},
   "source": [
    "Let's calculate the mean and median difference"
   ]
  },
  {
   "cell_type": "code",
   "execution_count": 52,
   "metadata": {},
   "outputs": [
    {
     "name": "stdout",
     "output_type": "stream",
     "text": [
      "the mean difference between the sales on PS4 and XboxOne is: 585207.3732718894\n",
      "the median difference between the sales on PS4 and XboxOne is: 210000.00000000003\n"
     ]
    }
   ],
   "source": [
    "sale_diff = duplicate_names_sales['PS4'] - duplicate_names_sales['XOne']\n",
    "\n",
    "mean = sale_diff.mean()\n",
    "median = sale_diff.median()\n",
    "\n",
    "print('the mean difference between the sales on PS4 and XboxOne is:', mean *1000000)\n",
    "print('the median difference between the sales on PS4 and XboxOne is:', median*1000000)"
   ]
  },
  {
   "cell_type": "markdown",
   "metadata": {},
   "source": [
    "It appears that games sold on PS4 averaging an approximate $585,207 more in total sales than on XboxOne. Which supports our decision of picking PS4 over XboxOne."
   ]
  },
  {
   "cell_type": "markdown",
   "metadata": {},
   "source": [
    "### Most profitable genre"
   ]
  },
  {
   "cell_type": "markdown",
   "metadata": {},
   "source": [
    "Next, we will look at which genre appears to be the most profitable."
   ]
  },
  {
   "cell_type": "markdown",
   "metadata": {},
   "source": [
    "**Since 2011**"
   ]
  },
  {
   "cell_type": "code",
   "execution_count": 53,
   "metadata": {
    "scrolled": true
   },
   "outputs": [
    {
     "data": {
      "text/plain": [
       "genre\n",
       "Action          557.80\n",
       "Shooter         402.91\n",
       "Role-Playing    245.63\n",
       "Sports          237.15\n",
       "Misc            139.42\n",
       "Platform         88.68\n",
       "Racing           88.31\n",
       "Fighting         66.90\n",
       "Simulation       50.26\n",
       "Adventure        45.04\n",
       "Strategy         22.16\n",
       "Puzzle            9.85\n",
       "Name: total_sale, dtype: float64"
      ]
     },
     "execution_count": 53,
     "metadata": {},
     "output_type": "execute_result"
    }
   ],
   "source": [
    "#groupby\n",
    "\n",
    "genre_sale = sale_since_2011.groupby('genre')['total_sale'].sum().sort_values(ascending =False)\n",
    "\n",
    "genre_sale"
   ]
  },
  {
   "cell_type": "markdown",
   "metadata": {},
   "source": [
    "Since 2011, the most profitable genre appeared to be Action, follow by shooter, role-playing and sports. Let's check the distribution."
   ]
  },
  {
   "cell_type": "code",
   "execution_count": 54,
   "metadata": {},
   "outputs": [
    {
     "data": {
      "image/png": "[encoded data removed]",
      "text/plain": [
       "<Figure size 864x720 with 1 Axes>"
      ]
     },
     "metadata": {},
     "output_type": "display_data"
    }
   ],
   "source": [
    "#boxplot\n",
    "yx = sns.boxplot(x='genre', y='total_sale', data=sale_since_2011)\n",
    "\n",
    "yx.set_title('total_sale_by_genre')\n",
    "\n",
    "ticks = yx.set_xticklabels(yx.get_xticklabels(),rotation=30)\n",
    "\n"
   ]
  },
  {
   "cell_type": "markdown",
   "metadata": {},
   "source": [
    "Although action appeared to have a higher total_sale, shooter has a higher median, follow by racing, sports and fighting. Let's look at the bar graph."
   ]
  },
  {
   "cell_type": "code",
   "execution_count": 55,
   "metadata": {},
   "outputs": [
    {
     "data": {
      "image/png": "[encoded data removed]",
      "text/plain": [
       "<Figure size 1296x720 with 1 Axes>"
      ]
     },
     "metadata": {},
     "output_type": "display_data"
    }
   ],
   "source": [
    "#bar plot\n",
    "\n",
    "genre_sale.plot(kind = 'bar', figsize = (18,10))\n",
    "\n",
    "plt.title('revenue by genre')\n",
    "plt.xlabel('genre')\n",
    "plt.ylabel('total_sale')\n",
    "plt.show()"
   ]
  },
  {
   "cell_type": "markdown",
   "metadata": {},
   "source": [
    "I believe that the most profitable genre for 2017 are potentially action, shooter, role playing and sports. "
   ]
  },
  {
   "cell_type": "markdown",
   "metadata": {},
   "source": [
    "## User profile based on region"
   ]
  },
  {
   "cell_type": "markdown",
   "metadata": {},
   "source": [
    "### NA users"
   ]
  },
  {
   "cell_type": "code",
   "execution_count": 56,
   "metadata": {},
   "outputs": [
    {
     "name": "stdout",
     "output_type": "stream",
     "text": [
      "platform\n",
      "X360    226.80\n",
      "PS3     168.26\n",
      "PS4     108.74\n",
      "XOne     93.12\n",
      "3DS      82.65\n",
      "Name: na_sales, dtype: float64\n",
      "genre\n",
      "Action          230.92\n",
      "Shooter         194.43\n",
      "Sports          108.70\n",
      "Role-Playing     83.78\n",
      "Misc             69.69\n",
      "Name: na_sales, dtype: float64\n",
      "rating\n",
      "M       328.79\n",
      "E       210.95\n",
      "T       171.88\n",
      "E10+    117.72\n",
      "EC        0.42\n",
      "Name: na_sales, dtype: float64\n"
     ]
    }
   ],
   "source": [
    "#find top 5 platform, genre and rating.\n",
    "\n",
    "cols  = ['platform', 'genre', 'rating']\n",
    "\n",
    "for column in cols:\n",
    "    na_users = sale_since_2011.groupby(column)['na_sales'].sum().sort_values(ascending = False)\n",
    "    \n",
    "    print(na_users.head())"
   ]
  },
  {
   "cell_type": "markdown",
   "metadata": {},
   "source": [
    "For NA users, the top 5 platform are X360, PS3, PS4, XOne, and 3DS. The top 5 genre are action, shooter, sport, role playing and miscellanous. While the rating are Mature, E for everyone, unkown (without ratings), Everyone 10+, Teen. "
   ]
  },
  {
   "cell_type": "markdown",
   "metadata": {},
   "source": [
    "### EU users"
   ]
  },
  {
   "cell_type": "code",
   "execution_count": 57,
   "metadata": {
    "scrolled": false
   },
   "outputs": [
    {
     "name": "stdout",
     "output_type": "stream",
     "text": [
      "platform\n",
      "PS3     163.10\n",
      "PS4     141.09\n",
      "X360    117.10\n",
      "3DS      61.27\n",
      "PC       56.70\n",
      "Name: eu_sales, dtype: float64\n",
      "genre\n",
      "Action          199.12\n",
      "Shooter         148.02\n",
      "Sports           88.48\n",
      "Role-Playing     62.30\n",
      "Racing           40.58\n",
      "Name: eu_sales, dtype: float64\n",
      "rating\n",
      "M       267.78\n",
      "E       194.93\n",
      "T       129.05\n",
      "E10+     78.00\n",
      "RP        0.03\n",
      "Name: eu_sales, dtype: float64\n"
     ]
    }
   ],
   "source": [
    "#Top 5 platform, genre and rating\n",
    "cols  = ['platform', 'genre', 'rating']\n",
    "\n",
    "for column in cols:\n",
    "    eu_users = sale_since_2011.groupby(column)['eu_sales'].sum().sort_values(ascending = False)\n",
    "    \n",
    "    print(eu_users.head())"
   ]
  },
  {
   "cell_type": "markdown",
   "metadata": {},
   "source": [
    "For EU users, the top 5 platform are PS3, PS4, X360, 3DS, and PC. The top 5 genre are action, shooter, sport, role playing and racing. While the rating are Mature, E for everyone, Unknown(not rating), Teen, Everyone 10+. "
   ]
  },
  {
   "cell_type": "markdown",
   "metadata": {},
   "source": [
    "### JP users"
   ]
  },
  {
   "cell_type": "code",
   "execution_count": 58,
   "metadata": {},
   "outputs": [
    {
     "name": "stdout",
     "output_type": "stream",
     "text": [
      "platform\n",
      "3DS    100.62\n",
      "PS3     49.39\n",
      "PSP     24.04\n",
      "PSV     21.84\n",
      "PS4     15.96\n",
      "Name: jp_sales, dtype: float64\n",
      "genre\n",
      "Role-Playing    79.87\n",
      "Action          63.62\n",
      "Misc            17.60\n",
      "Fighting        12.38\n",
      "Platform        12.13\n",
      "Name: jp_sales, dtype: float64\n",
      "rating\n",
      "T       134.34\n",
      "E        72.76\n",
      "M        27.32\n",
      "E10+     11.23\n",
      "EC        0.00\n",
      "Name: jp_sales, dtype: float64\n"
     ]
    }
   ],
   "source": [
    "#find top 5 platform, genre and rating.\n",
    "\n",
    "cols  = ['platform', 'genre', 'rating']\n",
    "\n",
    "for column in cols:\n",
    "    jp_users = sale_since_2011.groupby(column)['jp_sales'].sum().sort_values(ascending = False)\n",
    "    \n",
    "    print(jp_users.head())"
   ]
  },
  {
   "cell_type": "markdown",
   "metadata": {},
   "source": [
    "For JP users, the top 5 platform are 3DS, PS3, PSP, PSV, and PS4. The top 5 genre are role-playing, action, miscellnous, fighting and platform. While the rating are Unkown, E for everyone, Teen, Mature, Everyone 10+. "
   ]
  },
  {
   "cell_type": "markdown",
   "metadata": {},
   "source": [
    "**User profile by region conclusion**"
   ]
  },
  {
   "cell_type": "markdown",
   "metadata": {},
   "source": [
    "It appears that NA users prefer consoles such as PS3, 4, Xbox, similar to EU users. While JP users prefer protable consoles such as 3DS and the playstation console series. In terms of genres, both NA and EU users favorite shooting, action, sports and role-playing. Whereas JP users prefers role-playing, action, miscellnous, fighting and platform. Both NA and EU players favorites Mature games following by E for everyone. JP users, since the ESRB system is created for western games, it is no surprise that JP users prefer games that are not made in the west, thus having unknown ratings. They also prefer E for everyone, then teen games. In general, EU and NA users shares a similar profile in terms of platform, genre and rating preferences. JP differs from the other two regions.  "
   ]
  },
  {
   "cell_type": "markdown",
   "metadata": {},
   "source": [
    "## Test Statistical Hypotheses"
   ]
  },
  {
   "cell_type": "markdown",
   "metadata": {},
   "source": [
    "- `The null hypothesis`: the average user ratings of the Xbox One and PC platforms is the same.\n",
    "- `The alternative hypothesis`: the average user ratings of the Xbox One and PC platforms is not the same."
   ]
  },
  {
   "cell_type": "code",
   "execution_count": 59,
   "metadata": {
    "scrolled": true
   },
   "outputs": [
    {
     "name": "stdout",
     "output_type": "stream",
     "text": [
      "p-value: 0.00015634561980809922\n",
      "The variances are most likely not the same\n"
     ]
    }
   ],
   "source": [
    "# create slices for Xbox One and PC\n",
    "\n",
    "xone_data = sale_since_2011.query('platform == \"XOne\"')\n",
    "\n",
    "pc_data = sale_since_2011.query('platform == \"PC\"')\n",
    "\n",
    "\n",
    "#Levene's test\n",
    "#set alpha\n",
    "alpha = 0.05 \n",
    "\n",
    "result = st.levene(xone_data['user_score'], pc_data['user_score'], center='mean')\n",
    "\n",
    "print('p-value:', result.pvalue)\n",
    "\n",
    "if result.pvalue > alpha:\n",
    "    print('The variances are most likely the same')\n",
    "else:\n",
    "    print('The variances are most likely not the same')\n",
    "   "
   ]
  },
  {
   "cell_type": "code",
   "execution_count": 60,
   "metadata": {},
   "outputs": [
    {
     "name": "stdout",
     "output_type": "stream",
     "text": [
      "p-value: 0.8050807489161735\n",
      "We fail to reject the null hypothesis\n"
     ]
    }
   ],
   "source": [
    "#set alpha\n",
    "\n",
    "alpha = 0.05\n",
    "\n",
    "#test\n",
    "results = st.ttest_ind(xone_data['user_score'], pc_data['user_score'], equal_var =True)\n",
    "\n",
    "print('p-value:', results.pvalue)\n",
    "\n",
    "#hypothesis testing\n",
    "\n",
    "if results.pvalue > alpha:\n",
    "    print('We fail to reject the null hypothesis')\n",
    "else:\n",
    "    print('We reject the null hypothesis')"
   ]
  },
  {
   "cell_type": "markdown",
   "metadata": {},
   "source": [
    "Based on our statstical analysis, we fail to reject he null hypothesis, thus: **the average user ratings of the Xbox One and PC platforms is the same.**"
   ]
  },
  {
   "cell_type": "markdown",
   "metadata": {},
   "source": [
    "- `The null hypothesis`: The average user ratings for the Action and Sports genres is the same.\n",
    "- `The alternative hypothesis`:The average user ratings for the Action and Sports genres is different."
   ]
  },
  {
   "cell_type": "code",
   "execution_count": 61,
   "metadata": {},
   "outputs": [
    {
     "name": "stdout",
     "output_type": "stream",
     "text": [
      "p-value: 3.58315130974606e-17\n",
      "The variances are most likely not the same\n"
     ]
    }
   ],
   "source": [
    "# create a slice for action and sports genre\n",
    "\n",
    "action_data = sale_since_2011.query('genre == \"Action\"')\n",
    "\n",
    "sports_data = sale_since_2011.query('genre == \"Sports\"')\n",
    "\n",
    "\n",
    "#Levene's test\n",
    "#set alpha\n",
    "alpha = 0.05 \n",
    "\n",
    "result = st.levene(action_data['user_score'], sports_data['user_score'], center='mean')\n",
    "\n",
    "print('p-value:', result.pvalue)\n",
    "\n",
    "if result.pvalue > alpha:\n",
    "    print('The variances are most likely the same')\n",
    "else:\n",
    "    print('The variances are most likely not the same')\n",
    "   "
   ]
  },
  {
   "cell_type": "code",
   "execution_count": 62,
   "metadata": {},
   "outputs": [
    {
     "name": "stdout",
     "output_type": "stream",
     "text": [
      "p-value: 8.018544662580917e-28\n",
      "We reject the null hypothesis\n"
     ]
    }
   ],
   "source": [
    "#set alpha\n",
    "\n",
    "alpha = 0.05\n",
    "\n",
    "#test\n",
    "results = st.ttest_ind(action_data['user_score'], sports_data['user_score'], equal_var=False)\n",
    "\n",
    "print('p-value:', results.pvalue)\n",
    "\n",
    "#hypothesis testing\n",
    "\n",
    "if results.pvalue > alpha:\n",
    "    print('We fail to reject the null hypothesis')\n",
    "else:\n",
    "    print('We reject the null hypothesis')"
   ]
  },
  {
   "cell_type": "markdown",
   "metadata": {},
   "source": [
    "Based on our statistical analysis, we reject the null hypothesis, thus: **The average user ratings for the Action and Sports genres is not the same.**"
   ]
  },
  {
   "cell_type": "markdown",
   "metadata": {},
   "source": [
    "## Conclusion"
   ]
  },
  {
   "cell_type": "markdown",
   "metadata": {},
   "source": [
    "In this project, we first successfully made all column names lowercase, changed the datatype, filled all missing values based on appropriate factors and added a new column that indicates the total sale of a game. \n",
    "\n",
    "In the subsequent analysis steps, we have investigated our data on various aspects. \n",
    "We looked at the distribution of games released by year, where we found that the peak of video game industry really starts in 2002, where > 800 games gets released and continues to rise before stabilizes in 2012. \n",
    "\n",
    "We saw that it usually takes a platform that used to be popular 7-10 years to fade out of the market. And 4-6 years for a new platform to appear and gradually replace the previous generation of console.\n",
    "\n",
    "We then determined that the potentially proftiable platforms for 2017 are PS4, XboxOne, PC, 3DS, WiiU and PSV. Based on our filtered data (game sale since 2011). Where PS4 and Xbox One are two most promising platforms. We proceed with PS4 because it appears that games sold on PS4 averaging an approximate $585,207 more in total sales than on XboxOne.\n",
    "\n",
    "We tested wether user/professional ratings have an effect on total revenue, and there are little to no linear correlation between either critic scores or user scores and total sales. Sometimes higher ratings amount critics and users does not guarantee a bigger profit..\n",
    "\n",
    "Based on our analysis, we believe that the most profitable genre for 2017 are potentially action, shooter, role playing and sports. \n",
    "\n",
    "The user_profile by region suggested that EU and NA users shares a similar profile in terms of platform, genre and rating preferences. Where JP users differs from the other two regions.  \n",
    "\n",
    "Finally, with 95% confidence, we can conclude that \"The average user ratings for the Action and Sports genres is the same\" and \"the average user ratings of the Xbox One and PC platforms is the same.\" And this is potentially due to large portion of the data were missing and we had to fill with extreme values. \n",
    "\n"
   ]
  },
  {
   "cell_type": "code",
   "execution_count": 63,
   "metadata": {},
   "outputs": [
    {
     "data": {
      "text/html": [
       "<div>\n",
       "<style scoped>\n",
       "    .dataframe tbody tr th:only-of-type {\n",
       "        vertical-align: middle;\n",
       "    }\n",
       "\n",
       "    .dataframe tbody tr th {\n",
       "        vertical-align: top;\n",
       "    }\n",
       "\n",
       "    .dataframe thead th {\n",
       "        text-align: right;\n",
       "    }\n",
       "</style>\n",
       "<table border=\"1\" class=\"dataframe\">\n",
       "  <thead>\n",
       "    <tr style=\"text-align: right;\">\n",
       "      <th></th>\n",
       "      <th></th>\n",
       "      <th>rating</th>\n",
       "    </tr>\n",
       "    <tr>\n",
       "      <th>name</th>\n",
       "      <th>platform</th>\n",
       "      <th></th>\n",
       "    </tr>\n",
       "  </thead>\n",
       "  <tbody>\n",
       "    <tr>\n",
       "      <th>Beyblade Burst</th>\n",
       "      <th>3DS</th>\n",
       "      <td>T</td>\n",
       "    </tr>\n",
       "    <tr>\n",
       "      <th>Fire Emblem Fates</th>\n",
       "      <th>3DS</th>\n",
       "      <td>T</td>\n",
       "    </tr>\n",
       "    <tr>\n",
       "      <th rowspan=\"2\" valign=\"top\">Frozen: Olaf's Quest</th>\n",
       "      <th>3DS</th>\n",
       "      <td>E</td>\n",
       "    </tr>\n",
       "    <tr>\n",
       "      <th>DS</th>\n",
       "      <td>E</td>\n",
       "    </tr>\n",
       "    <tr>\n",
       "      <th>Haikyu!! Cross Team Match!</th>\n",
       "      <th>3DS</th>\n",
       "      <td>E</td>\n",
       "    </tr>\n",
       "    <tr>\n",
       "      <th>...</th>\n",
       "      <th>...</th>\n",
       "      <td>...</td>\n",
       "    </tr>\n",
       "    <tr>\n",
       "      <th>thinkSMART: Chess for Kids</th>\n",
       "      <th>DS</th>\n",
       "      <td>E</td>\n",
       "    </tr>\n",
       "    <tr>\n",
       "      <th>uDraw Studio</th>\n",
       "      <th>Wii</th>\n",
       "      <td>E</td>\n",
       "    </tr>\n",
       "    <tr>\n",
       "      <th rowspan=\"2\" valign=\"top\">uDraw Studio: Instant Artist</th>\n",
       "      <th>Wii</th>\n",
       "      <td>E</td>\n",
       "    </tr>\n",
       "    <tr>\n",
       "      <th>X360</th>\n",
       "      <td>E</td>\n",
       "    </tr>\n",
       "    <tr>\n",
       "      <th>¡Shin Chan Flipa en colores!</th>\n",
       "      <th>DS</th>\n",
       "      <td>E</td>\n",
       "    </tr>\n",
       "  </tbody>\n",
       "</table>\n",
       "<p>16441 rows × 1 columns</p>\n",
       "</div>"
      ],
      "text/plain": [
       "                                      rating\n",
       "name                         platform       \n",
       " Beyblade Burst              3DS           T\n",
       " Fire Emblem Fates           3DS           T\n",
       " Frozen: Olaf's Quest        3DS           E\n",
       "                             DS            E\n",
       " Haikyu!! Cross Team Match!  3DS           E\n",
       "...                                      ...\n",
       "thinkSMART: Chess for Kids   DS            E\n",
       "uDraw Studio                 Wii           E\n",
       "uDraw Studio: Instant Artist Wii           E\n",
       "                             X360          E\n",
       "¡Shin Chan Flipa en colores! DS            E\n",
       "\n",
       "[16441 rows x 1 columns]"
      ]
     },
     "execution_count": 63,
     "metadata": {},
     "output_type": "execute_result"
    }
   ],
   "source": [
    "pd.pivot_table(game, values='rating', index=['name', 'platform'], aggfunc='first')"
   ]
  }
 ],
 "metadata": {
  "ExecuteTimeLog": [
   {
    "duration": 1508,
    "start_time": "2022-05-11T14:11:53.930Z"
   },
   {
    "duration": 69,
    "start_time": "2022-05-11T14:13:10.719Z"
   },
   {
    "duration": 98,
    "start_time": "2022-05-11T14:14:25.142Z"
   },
   {
    "duration": 17,
    "start_time": "2022-05-11T14:14:30.392Z"
   },
   {
    "duration": 1431,
    "start_time": "2022-05-12T14:11:04.900Z"
   },
   {
    "duration": 48,
    "start_time": "2022-05-12T14:11:06.333Z"
   },
   {
    "duration": 17,
    "start_time": "2022-05-12T14:11:06.382Z"
   },
   {
    "duration": 26,
    "start_time": "2022-05-12T14:13:26.610Z"
   },
   {
    "duration": 400,
    "start_time": "2022-05-12T14:26:55.172Z"
   },
   {
    "duration": 17,
    "start_time": "2022-05-12T14:27:15.333Z"
   },
   {
    "duration": 5,
    "start_time": "2022-05-12T14:29:52.789Z"
   },
   {
    "duration": 6,
    "start_time": "2022-05-12T14:30:14.387Z"
   },
   {
    "duration": 5,
    "start_time": "2022-05-12T14:30:35.942Z"
   },
   {
    "duration": 7,
    "start_time": "2022-05-12T14:32:18.842Z"
   },
   {
    "duration": 7,
    "start_time": "2022-05-12T14:32:30.729Z"
   },
   {
    "duration": 12,
    "start_time": "2022-05-12T14:32:42.039Z"
   },
   {
    "duration": 12,
    "start_time": "2022-05-12T14:32:56.164Z"
   },
   {
    "duration": 12,
    "start_time": "2022-05-12T14:33:02.365Z"
   },
   {
    "duration": 16,
    "start_time": "2022-05-12T14:33:28.626Z"
   },
   {
    "duration": 7,
    "start_time": "2022-05-12T14:35:42.924Z"
   },
   {
    "duration": 9,
    "start_time": "2022-05-12T14:38:00.919Z"
   },
   {
    "duration": 7,
    "start_time": "2022-05-12T14:40:42.809Z"
   },
   {
    "duration": 11,
    "start_time": "2022-05-12T14:40:47.805Z"
   },
   {
    "duration": 8,
    "start_time": "2022-05-12T14:43:17.267Z"
   },
   {
    "duration": 28,
    "start_time": "2022-05-12T14:44:40.264Z"
   },
   {
    "duration": 8,
    "start_time": "2022-05-12T14:46:52.128Z"
   },
   {
    "duration": 25,
    "start_time": "2022-05-12T14:47:09.551Z"
   },
   {
    "duration": 14,
    "start_time": "2022-05-12T14:48:02.390Z"
   },
   {
    "duration": 14,
    "start_time": "2022-05-12T14:48:42.767Z"
   },
   {
    "duration": 31,
    "start_time": "2022-05-12T14:49:20.253Z"
   },
   {
    "duration": 1072,
    "start_time": "2022-05-12T14:55:08.921Z"
   },
   {
    "duration": 17,
    "start_time": "2022-05-12T14:55:19.019Z"
   },
   {
    "duration": 5,
    "start_time": "2022-05-12T14:55:22.848Z"
   },
   {
    "duration": 16,
    "start_time": "2022-05-12T14:55:53.243Z"
   },
   {
    "duration": 14,
    "start_time": "2022-05-12T14:57:12.936Z"
   },
   {
    "duration": 16,
    "start_time": "2022-05-12T14:59:21.456Z"
   },
   {
    "duration": 11,
    "start_time": "2022-05-12T15:01:41.311Z"
   },
   {
    "duration": 70,
    "start_time": "2022-05-12T15:02:01.934Z"
   },
   {
    "duration": 12,
    "start_time": "2022-05-12T15:02:05.880Z"
   },
   {
    "duration": 8,
    "start_time": "2022-05-12T15:02:26.552Z"
   },
   {
    "duration": 21,
    "start_time": "2022-05-12T15:03:06.543Z"
   },
   {
    "duration": 12,
    "start_time": "2022-05-12T15:03:34.669Z"
   },
   {
    "duration": 10,
    "start_time": "2022-05-12T15:03:40.556Z"
   },
   {
    "duration": 8,
    "start_time": "2022-05-12T15:03:50.271Z"
   },
   {
    "duration": 9,
    "start_time": "2022-05-12T15:03:54.133Z"
   },
   {
    "duration": 8,
    "start_time": "2022-05-12T15:03:57.487Z"
   },
   {
    "duration": 7,
    "start_time": "2022-05-12T15:03:59.555Z"
   },
   {
    "duration": 17,
    "start_time": "2022-05-12T15:04:08.904Z"
   },
   {
    "duration": 10,
    "start_time": "2022-05-12T15:06:14.773Z"
   },
   {
    "duration": 13,
    "start_time": "2022-05-12T15:06:28.228Z"
   },
   {
    "duration": 10,
    "start_time": "2022-05-12T15:10:25.658Z"
   },
   {
    "duration": 16,
    "start_time": "2022-05-12T15:13:22.759Z"
   },
   {
    "duration": 75,
    "start_time": "2022-05-12T15:18:34.981Z"
   },
   {
    "duration": 173,
    "start_time": "2022-05-12T15:18:47.325Z"
   },
   {
    "duration": 181,
    "start_time": "2022-05-12T15:19:09.720Z"
   },
   {
    "duration": 20,
    "start_time": "2022-05-12T15:20:01.580Z"
   },
   {
    "duration": 9,
    "start_time": "2022-05-12T15:20:27.171Z"
   },
   {
    "duration": 16,
    "start_time": "2022-05-12T15:22:02.718Z"
   },
   {
    "duration": 13,
    "start_time": "2022-05-12T15:25:00.791Z"
   },
   {
    "duration": 19,
    "start_time": "2022-05-12T15:26:27.513Z"
   },
   {
    "duration": 3,
    "start_time": "2022-05-12T15:28:14.000Z"
   },
   {
    "duration": 41,
    "start_time": "2022-05-12T15:28:14.005Z"
   },
   {
    "duration": 15,
    "start_time": "2022-05-12T15:28:14.048Z"
   },
   {
    "duration": 14,
    "start_time": "2022-05-12T15:28:14.065Z"
   },
   {
    "duration": 35,
    "start_time": "2022-05-12T15:28:14.082Z"
   },
   {
    "duration": 15,
    "start_time": "2022-05-12T15:28:14.119Z"
   },
   {
    "duration": 201,
    "start_time": "2022-05-12T15:28:14.136Z"
   },
   {
    "duration": 16,
    "start_time": "2022-05-12T15:28:14.339Z"
   },
   {
    "duration": 14,
    "start_time": "2022-05-12T15:28:14.357Z"
   },
   {
    "duration": 42,
    "start_time": "2022-05-12T15:28:14.373Z"
   },
   {
    "duration": 334,
    "start_time": "2022-05-12T15:35:10.705Z"
   },
   {
    "duration": 196,
    "start_time": "2022-05-12T15:36:06.181Z"
   },
   {
    "duration": 193,
    "start_time": "2022-05-12T15:37:01.328Z"
   },
   {
    "duration": 180,
    "start_time": "2022-05-12T15:37:23.323Z"
   },
   {
    "duration": 8,
    "start_time": "2022-05-12T15:40:43.514Z"
   },
   {
    "duration": 65,
    "start_time": "2022-05-12T17:49:20.792Z"
   },
   {
    "duration": 18,
    "start_time": "2022-05-12T17:49:58.175Z"
   },
   {
    "duration": 3,
    "start_time": "2022-05-12T17:54:58.600Z"
   },
   {
    "duration": 39,
    "start_time": "2022-05-12T17:54:58.605Z"
   },
   {
    "duration": 21,
    "start_time": "2022-05-12T17:54:58.647Z"
   },
   {
    "duration": 15,
    "start_time": "2022-05-12T17:54:58.670Z"
   },
   {
    "duration": 33,
    "start_time": "2022-05-12T17:54:58.688Z"
   },
   {
    "duration": 20,
    "start_time": "2022-05-12T17:54:58.723Z"
   },
   {
    "duration": 235,
    "start_time": "2022-05-12T17:54:58.745Z"
   },
   {
    "duration": 25,
    "start_time": "2022-05-12T17:54:58.982Z"
   },
   {
    "duration": 15,
    "start_time": "2022-05-12T17:54:59.009Z"
   },
   {
    "duration": 23,
    "start_time": "2022-05-12T17:54:59.026Z"
   },
   {
    "duration": 351,
    "start_time": "2022-05-12T17:54:59.053Z"
   },
   {
    "duration": 174,
    "start_time": "2022-05-12T17:54:59.406Z"
   },
   {
    "duration": 7,
    "start_time": "2022-05-12T17:54:59.581Z"
   },
   {
    "duration": 31,
    "start_time": "2022-05-12T17:54:59.590Z"
   },
   {
    "duration": 182,
    "start_time": "2022-05-12T17:54:59.622Z"
   },
   {
    "duration": 3,
    "start_time": "2022-05-12T17:55:48.630Z"
   },
   {
    "duration": 37,
    "start_time": "2022-05-12T17:55:48.635Z"
   },
   {
    "duration": 15,
    "start_time": "2022-05-12T17:55:48.674Z"
   },
   {
    "duration": 13,
    "start_time": "2022-05-12T17:55:48.691Z"
   },
   {
    "duration": 16,
    "start_time": "2022-05-12T17:55:48.707Z"
   },
   {
    "duration": 14,
    "start_time": "2022-05-12T17:55:48.724Z"
   },
   {
    "duration": 196,
    "start_time": "2022-05-12T17:55:48.740Z"
   },
   {
    "duration": 16,
    "start_time": "2022-05-12T17:55:48.938Z"
   },
   {
    "duration": 14,
    "start_time": "2022-05-12T17:55:48.956Z"
   },
   {
    "duration": 45,
    "start_time": "2022-05-12T17:55:48.972Z"
   },
   {
    "duration": 338,
    "start_time": "2022-05-12T17:55:49.019Z"
   },
   {
    "duration": 184,
    "start_time": "2022-05-12T17:55:49.359Z"
   },
   {
    "duration": 7,
    "start_time": "2022-05-12T17:55:49.546Z"
   },
   {
    "duration": 17,
    "start_time": "2022-05-12T17:55:49.555Z"
   },
   {
    "duration": 346,
    "start_time": "2022-05-12T17:55:49.574Z"
   },
   {
    "duration": 3,
    "start_time": "2022-05-12T17:57:11.402Z"
   },
   {
    "duration": 39,
    "start_time": "2022-05-12T17:57:11.408Z"
   },
   {
    "duration": 14,
    "start_time": "2022-05-12T17:57:11.449Z"
   },
   {
    "duration": 15,
    "start_time": "2022-05-12T17:57:11.465Z"
   },
   {
    "duration": 34,
    "start_time": "2022-05-12T17:57:11.481Z"
   },
   {
    "duration": 15,
    "start_time": "2022-05-12T17:57:11.516Z"
   },
   {
    "duration": 196,
    "start_time": "2022-05-12T17:57:11.533Z"
   },
   {
    "duration": 15,
    "start_time": "2022-05-12T17:57:11.731Z"
   },
   {
    "duration": 14,
    "start_time": "2022-05-12T17:57:11.748Z"
   },
   {
    "duration": 19,
    "start_time": "2022-05-12T17:57:11.764Z"
   },
   {
    "duration": 334,
    "start_time": "2022-05-12T17:57:11.808Z"
   },
   {
    "duration": 7,
    "start_time": "2022-05-12T17:57:12.144Z"
   },
   {
    "duration": 20,
    "start_time": "2022-05-12T17:57:12.153Z"
   },
   {
    "duration": 357,
    "start_time": "2022-05-12T17:57:12.175Z"
   },
   {
    "duration": 5,
    "start_time": "2022-05-12T17:58:26.504Z"
   },
   {
    "duration": 22,
    "start_time": "2022-05-12T18:00:00.038Z"
   },
   {
    "duration": 196,
    "start_time": "2022-05-12T18:19:18.046Z"
   },
   {
    "duration": 190,
    "start_time": "2022-05-12T18:19:23.155Z"
   },
   {
    "duration": 11,
    "start_time": "2022-05-12T18:20:31.651Z"
   },
   {
    "duration": 62,
    "start_time": "2022-05-12T18:21:04.306Z"
   },
   {
    "duration": 103,
    "start_time": "2022-05-12T18:21:22.148Z"
   },
   {
    "duration": 76,
    "start_time": "2022-05-12T18:21:49.536Z"
   },
   {
    "duration": 1388,
    "start_time": "2022-05-12T18:21:54.759Z"
   },
   {
    "duration": 16,
    "start_time": "2022-05-12T18:22:24.600Z"
   },
   {
    "duration": 1014,
    "start_time": "2022-05-12T18:22:52.834Z"
   },
   {
    "duration": 16759,
    "start_time": "2022-05-12T18:24:59.571Z"
   },
   {
    "duration": 134,
    "start_time": "2022-05-12T18:25:38.762Z"
   },
   {
    "duration": 116,
    "start_time": "2022-05-12T18:26:01.660Z"
   },
   {
    "duration": 567,
    "start_time": "2022-05-12T18:27:01.765Z"
   },
   {
    "duration": 554,
    "start_time": "2022-05-12T18:27:40.017Z"
   },
   {
    "duration": 112,
    "start_time": "2022-05-12T18:28:04.000Z"
   },
   {
    "duration": 3068,
    "start_time": "2022-05-12T18:29:17.865Z"
   },
   {
    "duration": 3,
    "start_time": "2022-05-12T18:29:47.417Z"
   },
   {
    "duration": 45,
    "start_time": "2022-05-12T18:29:47.423Z"
   },
   {
    "duration": 17,
    "start_time": "2022-05-12T18:29:47.469Z"
   },
   {
    "duration": 33,
    "start_time": "2022-05-12T18:29:47.488Z"
   },
   {
    "duration": 18,
    "start_time": "2022-05-12T18:29:47.522Z"
   },
   {
    "duration": 14,
    "start_time": "2022-05-12T18:29:47.542Z"
   },
   {
    "duration": 211,
    "start_time": "2022-05-12T18:29:47.557Z"
   },
   {
    "duration": 16,
    "start_time": "2022-05-12T18:29:47.770Z"
   },
   {
    "duration": 32,
    "start_time": "2022-05-12T18:29:47.788Z"
   },
   {
    "duration": 23,
    "start_time": "2022-05-12T18:29:47.822Z"
   },
   {
    "duration": 360,
    "start_time": "2022-05-12T18:29:47.847Z"
   },
   {
    "duration": 8,
    "start_time": "2022-05-12T18:29:48.209Z"
   },
   {
    "duration": 22,
    "start_time": "2022-05-12T18:29:48.219Z"
   },
   {
    "duration": 349,
    "start_time": "2022-05-12T18:29:48.243Z"
   },
   {
    "duration": 5,
    "start_time": "2022-05-12T18:29:48.594Z"
   },
   {
    "duration": 31,
    "start_time": "2022-05-12T18:29:48.608Z"
   },
   {
    "duration": 16485,
    "start_time": "2022-05-12T18:29:48.641Z"
   },
   {
    "duration": 242,
    "start_time": "2022-05-12T18:31:15.495Z"
   },
   {
    "duration": 188,
    "start_time": "2022-05-12T18:32:20.638Z"
   },
   {
    "duration": 175,
    "start_time": "2022-05-12T18:32:37.502Z"
   },
   {
    "duration": 196,
    "start_time": "2022-05-12T18:33:00.703Z"
   },
   {
    "duration": 201,
    "start_time": "2022-05-12T18:34:05.208Z"
   },
   {
    "duration": 105,
    "start_time": "2022-05-12T18:34:14.412Z"
   },
   {
    "duration": 179,
    "start_time": "2022-05-12T18:34:31.385Z"
   },
   {
    "duration": 217,
    "start_time": "2022-05-12T18:34:49.783Z"
   },
   {
    "duration": 195,
    "start_time": "2022-05-12T18:35:28.151Z"
   },
   {
    "duration": 3294,
    "start_time": "2022-05-12T18:35:48.545Z"
   },
   {
    "duration": 4,
    "start_time": "2022-05-12T18:36:02.819Z"
   },
   {
    "duration": 42,
    "start_time": "2022-05-12T18:36:02.826Z"
   },
   {
    "duration": 16,
    "start_time": "2022-05-12T18:36:02.870Z"
   },
   {
    "duration": 26,
    "start_time": "2022-05-12T18:36:02.890Z"
   },
   {
    "duration": 23,
    "start_time": "2022-05-12T18:36:02.918Z"
   },
   {
    "duration": 16,
    "start_time": "2022-05-12T18:36:02.943Z"
   },
   {
    "duration": 236,
    "start_time": "2022-05-12T18:36:02.961Z"
   },
   {
    "duration": 22,
    "start_time": "2022-05-12T18:36:03.199Z"
   },
   {
    "duration": 15,
    "start_time": "2022-05-12T18:36:03.225Z"
   },
   {
    "duration": 20,
    "start_time": "2022-05-12T18:36:03.243Z"
   },
   {
    "duration": 412,
    "start_time": "2022-05-12T18:36:03.265Z"
   },
   {
    "duration": 210,
    "start_time": "2022-05-12T18:36:03.678Z"
   },
   {
    "duration": 8,
    "start_time": "2022-05-12T18:36:03.889Z"
   },
   {
    "duration": 33,
    "start_time": "2022-05-12T18:36:03.898Z"
   },
   {
    "duration": 403,
    "start_time": "2022-05-12T18:36:03.933Z"
   },
   {
    "duration": 209,
    "start_time": "2022-05-12T18:36:04.338Z"
   },
   {
    "duration": 6,
    "start_time": "2022-05-12T18:36:04.548Z"
   },
   {
    "duration": 26,
    "start_time": "2022-05-12T18:36:04.556Z"
   },
   {
    "duration": 241,
    "start_time": "2022-05-12T18:36:04.584Z"
   },
   {
    "duration": 184,
    "start_time": "2022-05-12T18:37:25.621Z"
   },
   {
    "duration": 21,
    "start_time": "2022-05-12T18:40:15.836Z"
   },
   {
    "duration": 25,
    "start_time": "2022-05-12T18:40:33.010Z"
   },
   {
    "duration": 10,
    "start_time": "2022-05-12T18:49:04.986Z"
   },
   {
    "duration": 5,
    "start_time": "2022-05-12T18:52:34.846Z"
   },
   {
    "duration": 8,
    "start_time": "2022-05-12T18:52:45.904Z"
   },
   {
    "duration": 368,
    "start_time": "2022-05-12T18:53:24.178Z"
   },
   {
    "duration": 197,
    "start_time": "2022-05-12T18:54:20.675Z"
   },
   {
    "duration": 345,
    "start_time": "2022-05-12T18:54:38.302Z"
   },
   {
    "duration": 421,
    "start_time": "2022-05-12T18:55:25.550Z"
   },
   {
    "duration": 13,
    "start_time": "2022-05-12T19:02:15.325Z"
   },
   {
    "duration": 8,
    "start_time": "2022-05-12T19:02:38.499Z"
   },
   {
    "duration": 9,
    "start_time": "2022-05-12T19:03:01.538Z"
   },
   {
    "duration": 1854,
    "start_time": "2022-05-16T13:00:16.929Z"
   },
   {
    "duration": 687,
    "start_time": "2022-05-16T13:00:18.786Z"
   },
   {
    "duration": 22,
    "start_time": "2022-05-16T13:00:19.475Z"
   },
   {
    "duration": 36,
    "start_time": "2022-05-16T13:00:19.500Z"
   },
   {
    "duration": 21,
    "start_time": "2022-05-16T13:00:19.538Z"
   },
   {
    "duration": 26,
    "start_time": "2022-05-16T13:00:19.561Z"
   },
   {
    "duration": 344,
    "start_time": "2022-05-16T13:00:19.589Z"
   },
   {
    "duration": 23,
    "start_time": "2022-05-16T13:00:19.935Z"
   },
   {
    "duration": 20,
    "start_time": "2022-05-16T13:00:19.960Z"
   },
   {
    "duration": 67,
    "start_time": "2022-05-16T13:00:19.984Z"
   },
   {
    "duration": 628,
    "start_time": "2022-05-16T13:00:20.053Z"
   },
   {
    "duration": 304,
    "start_time": "2022-05-16T13:00:20.683Z"
   },
   {
    "duration": 10,
    "start_time": "2022-05-16T13:00:20.990Z"
   },
   {
    "duration": 44,
    "start_time": "2022-05-16T13:00:21.003Z"
   },
   {
    "duration": 613,
    "start_time": "2022-05-16T13:00:21.050Z"
   },
   {
    "duration": 293,
    "start_time": "2022-05-16T13:00:21.666Z"
   },
   {
    "duration": 7,
    "start_time": "2022-05-16T13:00:21.961Z"
   },
   {
    "duration": 47,
    "start_time": "2022-05-16T13:00:21.970Z"
   },
   {
    "duration": 339,
    "start_time": "2022-05-16T13:00:22.024Z"
   },
   {
    "duration": 36,
    "start_time": "2022-05-16T13:00:22.365Z"
   },
   {
    "duration": 28,
    "start_time": "2022-05-16T13:00:22.403Z"
   },
   {
    "duration": 593,
    "start_time": "2022-05-16T13:00:22.433Z"
   },
   {
    "duration": 12,
    "start_time": "2022-05-16T13:00:23.028Z"
   },
   {
    "duration": 11,
    "start_time": "2022-05-16T13:13:38.530Z"
   },
   {
    "duration": 161,
    "start_time": "2022-05-16T13:28:17.715Z"
   },
   {
    "duration": 556,
    "start_time": "2022-05-16T13:28:26.494Z"
   },
   {
    "duration": 657,
    "start_time": "2022-05-16T13:29:18.128Z"
   },
   {
    "duration": 552,
    "start_time": "2022-05-16T13:31:37.745Z"
   },
   {
    "duration": 667,
    "start_time": "2022-05-16T13:33:47.296Z"
   },
   {
    "duration": 476,
    "start_time": "2022-05-16T13:34:55.427Z"
   },
   {
    "duration": 8,
    "start_time": "2022-05-16T13:35:28.911Z"
   },
   {
    "duration": 493,
    "start_time": "2022-05-16T13:37:06.663Z"
   },
   {
    "duration": 773,
    "start_time": "2022-05-16T13:37:45.709Z"
   },
   {
    "duration": 291,
    "start_time": "2022-05-16T13:38:24.229Z"
   },
   {
    "duration": 461,
    "start_time": "2022-05-16T13:38:38.253Z"
   },
   {
    "duration": 1812,
    "start_time": "2022-05-16T13:38:58.283Z"
   },
   {
    "duration": 1821,
    "start_time": "2022-05-16T13:40:02.069Z"
   },
   {
    "duration": 2200,
    "start_time": "2022-05-16T13:41:15.075Z"
   },
   {
    "duration": 22,
    "start_time": "2022-05-16T14:00:01.747Z"
   },
   {
    "duration": 18,
    "start_time": "2022-05-16T14:00:06.927Z"
   },
   {
    "duration": 14,
    "start_time": "2022-05-16T16:53:26.393Z"
   },
   {
    "duration": 3976,
    "start_time": "2022-05-16T16:59:19.398Z"
   },
   {
    "duration": 4336,
    "start_time": "2022-05-16T17:02:15.692Z"
   },
   {
    "duration": 15,
    "start_time": "2022-05-16T17:03:28.419Z"
   },
   {
    "duration": 3897,
    "start_time": "2022-05-16T17:03:45.855Z"
   },
   {
    "duration": 285,
    "start_time": "2022-05-16T17:29:33.354Z"
   },
   {
    "duration": 140,
    "start_time": "2022-05-16T17:30:41.986Z"
   },
   {
    "duration": 1357,
    "start_time": "2022-05-16T17:30:47.238Z"
   },
   {
    "duration": 280,
    "start_time": "2022-05-16T17:31:26.245Z"
   },
   {
    "duration": 293,
    "start_time": "2022-05-16T17:35:37.221Z"
   },
   {
    "duration": 390,
    "start_time": "2022-05-16T17:35:52.458Z"
   },
   {
    "duration": 402,
    "start_time": "2022-05-16T17:36:00.662Z"
   },
   {
    "duration": 2879,
    "start_time": "2022-05-16T17:53:22.488Z"
   },
   {
    "duration": 729,
    "start_time": "2022-05-16T17:53:38.755Z"
   },
   {
    "duration": 744,
    "start_time": "2022-05-16T17:57:20.458Z"
   },
   {
    "duration": 1103,
    "start_time": "2022-05-16T17:57:29.512Z"
   },
   {
    "duration": 1851,
    "start_time": "2022-05-16T17:59:51.424Z"
   },
   {
    "duration": 8,
    "start_time": "2022-05-16T18:00:00.886Z"
   },
   {
    "duration": 107,
    "start_time": "2022-05-16T18:03:07.538Z"
   },
   {
    "duration": 219,
    "start_time": "2022-05-16T18:03:20.861Z"
   },
   {
    "duration": 7,
    "start_time": "2022-05-16T18:03:23.905Z"
   },
   {
    "duration": 20,
    "start_time": "2022-05-16T18:18:41.938Z"
   },
   {
    "duration": 55,
    "start_time": "2022-05-16T18:18:50.983Z"
   },
   {
    "duration": 43,
    "start_time": "2022-05-16T18:21:07.067Z"
   },
   {
    "duration": 12,
    "start_time": "2022-05-16T18:23:56.338Z"
   },
   {
    "duration": 29,
    "start_time": "2022-05-16T18:24:08.190Z"
   },
   {
    "duration": 7,
    "start_time": "2022-05-16T18:27:54.893Z"
   },
   {
    "duration": 6,
    "start_time": "2022-05-16T18:28:16.739Z"
   },
   {
    "duration": 6,
    "start_time": "2022-05-16T18:33:00.118Z"
   },
   {
    "duration": 6,
    "start_time": "2022-05-16T18:33:19.514Z"
   },
   {
    "duration": 7,
    "start_time": "2022-05-16T18:33:28.006Z"
   },
   {
    "duration": 7,
    "start_time": "2022-05-16T18:33:52.674Z"
   },
   {
    "duration": 5,
    "start_time": "2022-05-16T18:33:59.469Z"
   },
   {
    "duration": 57,
    "start_time": "2022-05-16T18:33:59.477Z"
   },
   {
    "duration": 20,
    "start_time": "2022-05-16T18:33:59.537Z"
   },
   {
    "duration": 20,
    "start_time": "2022-05-16T18:33:59.560Z"
   },
   {
    "duration": 66,
    "start_time": "2022-05-16T18:33:59.583Z"
   },
   {
    "duration": 31,
    "start_time": "2022-05-16T18:33:59.651Z"
   },
   {
    "duration": 322,
    "start_time": "2022-05-16T18:33:59.684Z"
   },
   {
    "duration": 33,
    "start_time": "2022-05-16T18:34:00.008Z"
   },
   {
    "duration": 20,
    "start_time": "2022-05-16T18:34:00.043Z"
   },
   {
    "duration": 27,
    "start_time": "2022-05-16T18:34:00.066Z"
   },
   {
    "duration": 635,
    "start_time": "2022-05-16T18:34:00.131Z"
   },
   {
    "duration": 328,
    "start_time": "2022-05-16T18:34:00.769Z"
   },
   {
    "duration": 12,
    "start_time": "2022-05-16T18:34:01.099Z"
   },
   {
    "duration": 34,
    "start_time": "2022-05-16T18:34:01.126Z"
   },
   {
    "duration": 676,
    "start_time": "2022-05-16T18:34:01.163Z"
   },
   {
    "duration": 317,
    "start_time": "2022-05-16T18:34:01.842Z"
   },
   {
    "duration": 8,
    "start_time": "2022-05-16T18:34:02.162Z"
   },
   {
    "duration": 59,
    "start_time": "2022-05-16T18:34:02.173Z"
   },
   {
    "duration": 362,
    "start_time": "2022-05-16T18:34:02.234Z"
   },
   {
    "duration": 57,
    "start_time": "2022-05-16T18:34:02.599Z"
   },
   {
    "duration": 11,
    "start_time": "2022-05-16T18:34:02.658Z"
   },
   {
    "duration": 769,
    "start_time": "2022-05-16T18:34:02.671Z"
   },
   {
    "duration": 12,
    "start_time": "2022-05-16T18:34:03.442Z"
   },
   {
    "duration": 2643,
    "start_time": "2022-05-16T18:34:03.456Z"
   },
   {
    "duration": 42,
    "start_time": "2022-05-16T18:34:06.101Z"
   },
   {
    "duration": 15,
    "start_time": "2022-05-16T18:34:06.146Z"
   },
   {
    "duration": 4320,
    "start_time": "2022-05-16T18:34:06.163Z"
   },
   {
    "duration": 424,
    "start_time": "2022-05-16T18:34:10.485Z"
   },
   {
    "duration": 863,
    "start_time": "2022-05-16T18:34:10.913Z"
   },
   {
    "duration": 9,
    "start_time": "2022-05-16T18:34:11.778Z"
   },
   {
    "duration": 65,
    "start_time": "2022-05-16T18:34:11.789Z"
   },
   {
    "duration": 27,
    "start_time": "2022-05-16T18:34:11.856Z"
   },
   {
    "duration": 7,
    "start_time": "2022-05-16T18:34:11.885Z"
   },
   {
    "duration": 7,
    "start_time": "2022-05-16T18:36:59.202Z"
   },
   {
    "duration": 15,
    "start_time": "2022-05-16T18:41:06.608Z"
   },
   {
    "duration": 6,
    "start_time": "2022-05-16T18:41:13.443Z"
   },
   {
    "duration": 9,
    "start_time": "2022-05-16T18:41:21.890Z"
   },
   {
    "duration": 10,
    "start_time": "2022-05-16T18:42:23.008Z"
   },
   {
    "duration": 578,
    "start_time": "2022-05-16T18:47:17.539Z"
   },
   {
    "duration": 610,
    "start_time": "2022-05-16T18:52:48.114Z"
   },
   {
    "duration": 788,
    "start_time": "2022-05-16T18:52:56.461Z"
   },
   {
    "duration": 423,
    "start_time": "2022-05-16T18:53:14.854Z"
   },
   {
    "duration": 13,
    "start_time": "2022-05-16T19:01:14.468Z"
   },
   {
    "duration": 15,
    "start_time": "2022-05-16T19:01:25.563Z"
   },
   {
    "duration": 16,
    "start_time": "2022-05-16T19:06:35.001Z"
   },
   {
    "duration": 15,
    "start_time": "2022-05-16T19:08:42.259Z"
   },
   {
    "duration": 14,
    "start_time": "2022-05-16T19:38:59.452Z"
   },
   {
    "duration": 22,
    "start_time": "2022-05-16T19:40:44.779Z"
   },
   {
    "duration": 33,
    "start_time": "2022-05-16T19:41:12.662Z"
   },
   {
    "duration": 15,
    "start_time": "2022-05-16T19:42:36.685Z"
   },
   {
    "duration": 14,
    "start_time": "2022-05-16T19:42:43.916Z"
   },
   {
    "duration": 15,
    "start_time": "2022-05-16T19:42:53.769Z"
   },
   {
    "duration": 16,
    "start_time": "2022-05-16T19:44:17.938Z"
   },
   {
    "duration": 14,
    "start_time": "2022-05-16T19:49:33.741Z"
   },
   {
    "duration": 14,
    "start_time": "2022-05-16T19:50:01.322Z"
   },
   {
    "duration": 14,
    "start_time": "2022-05-16T19:51:11.922Z"
   },
   {
    "duration": 21,
    "start_time": "2022-05-16T19:51:26.540Z"
   },
   {
    "duration": 19,
    "start_time": "2022-05-16T19:52:08.729Z"
   },
   {
    "duration": 15,
    "start_time": "2022-05-16T19:52:15.081Z"
   },
   {
    "duration": 7,
    "start_time": "2022-05-16T19:54:33.063Z"
   },
   {
    "duration": 6,
    "start_time": "2022-05-16T19:58:15.274Z"
   },
   {
    "duration": 7,
    "start_time": "2022-05-16T19:58:33.380Z"
   },
   {
    "duration": 9,
    "start_time": "2022-05-16T19:59:07.579Z"
   },
   {
    "duration": 13,
    "start_time": "2022-05-16T19:59:26.393Z"
   },
   {
    "duration": 16,
    "start_time": "2022-05-16T19:59:31.107Z"
   },
   {
    "duration": 7,
    "start_time": "2022-05-16T20:17:32.941Z"
   },
   {
    "duration": 15,
    "start_time": "2022-05-16T20:19:01.501Z"
   },
   {
    "duration": 15,
    "start_time": "2022-05-16T20:19:51.684Z"
   },
   {
    "duration": 7,
    "start_time": "2022-05-16T20:19:55.251Z"
   },
   {
    "duration": 1543,
    "start_time": "2022-05-17T05:37:36.938Z"
   },
   {
    "duration": 54,
    "start_time": "2022-05-17T05:37:38.484Z"
   },
   {
    "duration": 24,
    "start_time": "2022-05-17T05:37:38.540Z"
   },
   {
    "duration": 30,
    "start_time": "2022-05-17T05:37:38.567Z"
   },
   {
    "duration": 44,
    "start_time": "2022-05-17T05:37:38.601Z"
   },
   {
    "duration": 21,
    "start_time": "2022-05-17T05:37:38.648Z"
   },
   {
    "duration": 343,
    "start_time": "2022-05-17T05:37:38.671Z"
   },
   {
    "duration": 28,
    "start_time": "2022-05-17T05:37:39.016Z"
   },
   {
    "duration": 20,
    "start_time": "2022-05-17T05:37:39.046Z"
   },
   {
    "duration": 30,
    "start_time": "2022-05-17T05:37:39.068Z"
   },
   {
    "duration": 626,
    "start_time": "2022-05-17T05:37:39.130Z"
   },
   {
    "duration": 322,
    "start_time": "2022-05-17T05:37:39.759Z"
   },
   {
    "duration": 10,
    "start_time": "2022-05-17T05:37:40.084Z"
   },
   {
    "duration": 54,
    "start_time": "2022-05-17T05:37:40.099Z"
   },
   {
    "duration": 764,
    "start_time": "2022-05-17T05:37:40.155Z"
   },
   {
    "duration": 317,
    "start_time": "2022-05-17T05:37:40.923Z"
   },
   {
    "duration": 7,
    "start_time": "2022-05-17T05:37:41.243Z"
   },
   {
    "duration": 35,
    "start_time": "2022-05-17T05:37:41.252Z"
   },
   {
    "duration": 376,
    "start_time": "2022-05-17T05:37:41.289Z"
   },
   {
    "duration": 38,
    "start_time": "2022-05-17T05:37:41.667Z"
   },
   {
    "duration": 11,
    "start_time": "2022-05-17T05:37:41.725Z"
   },
   {
    "duration": 637,
    "start_time": "2022-05-17T05:37:41.739Z"
   },
   {
    "duration": 12,
    "start_time": "2022-05-17T05:37:42.378Z"
   },
   {
    "duration": 2439,
    "start_time": "2022-05-17T05:37:42.392Z"
   },
   {
    "duration": 19,
    "start_time": "2022-05-17T05:37:44.834Z"
   },
   {
    "duration": 14,
    "start_time": "2022-05-17T05:37:44.855Z"
   },
   {
    "duration": 4079,
    "start_time": "2022-05-17T05:37:44.871Z"
   },
   {
    "duration": 312,
    "start_time": "2022-05-17T05:37:48.952Z"
   },
   {
    "duration": 790,
    "start_time": "2022-05-17T05:37:49.266Z"
   },
   {
    "duration": 10,
    "start_time": "2022-05-17T05:37:50.058Z"
   },
   {
    "duration": 73,
    "start_time": "2022-05-17T05:37:50.071Z"
   },
   {
    "duration": 29,
    "start_time": "2022-05-17T05:37:50.146Z"
   },
   {
    "duration": 13,
    "start_time": "2022-05-17T05:37:50.177Z"
   },
   {
    "duration": 42,
    "start_time": "2022-05-17T05:37:50.192Z"
   },
   {
    "duration": 539,
    "start_time": "2022-05-17T05:37:50.237Z"
   },
   {
    "duration": 459,
    "start_time": "2022-05-17T05:37:50.778Z"
   },
   {
    "duration": 15,
    "start_time": "2022-05-17T05:37:51.240Z"
   },
   {
    "duration": 17,
    "start_time": "2022-05-17T05:37:51.257Z"
   },
   {
    "duration": 15,
    "start_time": "2022-05-17T05:37:51.276Z"
   },
   {
    "duration": 16,
    "start_time": "2022-05-17T05:37:51.328Z"
   },
   {
    "duration": 13,
    "start_time": "2022-05-17T05:37:51.349Z"
   },
   {
    "duration": 18,
    "start_time": "2022-05-17T05:37:51.364Z"
   },
   {
    "duration": 10,
    "start_time": "2022-05-17T05:37:51.384Z"
   },
   {
    "duration": 114,
    "start_time": "2022-05-17T05:56:29.065Z"
   },
   {
    "duration": 148,
    "start_time": "2022-05-17T17:24:36.770Z"
   },
   {
    "duration": 1842,
    "start_time": "2022-05-17T17:38:02.852Z"
   },
   {
    "duration": 53,
    "start_time": "2022-05-17T17:38:08.717Z"
   },
   {
    "duration": 21,
    "start_time": "2022-05-17T17:38:10.798Z"
   },
   {
    "duration": 24,
    "start_time": "2022-05-17T17:38:17.870Z"
   },
   {
    "duration": 20,
    "start_time": "2022-05-17T17:38:25.477Z"
   },
   {
    "duration": 21,
    "start_time": "2022-05-17T17:38:32.187Z"
   },
   {
    "duration": 28,
    "start_time": "2022-05-17T17:38:37.281Z"
   },
   {
    "duration": 21,
    "start_time": "2022-05-17T17:38:55.378Z"
   },
   {
    "duration": 19,
    "start_time": "2022-05-17T17:38:59.950Z"
   },
   {
    "duration": 25,
    "start_time": "2022-05-17T17:39:02.916Z"
   },
   {
    "duration": 31,
    "start_time": "2022-05-17T17:42:27.667Z"
   },
   {
    "duration": 3,
    "start_time": "2022-05-17T17:42:54.504Z"
   },
   {
    "duration": 3,
    "start_time": "2022-05-17T17:42:59.572Z"
   },
   {
    "duration": 3,
    "start_time": "2022-05-17T17:44:07.317Z"
   },
   {
    "duration": 3,
    "start_time": "2022-05-17T17:44:20.950Z"
   },
   {
    "duration": 10,
    "start_time": "2022-05-17T17:44:56.311Z"
   },
   {
    "duration": 27,
    "start_time": "2022-05-17T17:45:02.452Z"
   },
   {
    "duration": 30,
    "start_time": "2022-05-17T17:45:20.562Z"
   },
   {
    "duration": 8,
    "start_time": "2022-05-17T17:45:44.827Z"
   },
   {
    "duration": 32,
    "start_time": "2022-05-17T17:45:47.131Z"
   },
   {
    "duration": 3,
    "start_time": "2022-05-17T17:48:00.988Z"
   },
   {
    "duration": 138,
    "start_time": "2022-05-17T17:48:45.851Z"
   },
   {
    "duration": 22,
    "start_time": "2022-05-17T17:48:59.068Z"
   },
   {
    "duration": 39,
    "start_time": "2022-05-17T17:49:24.811Z"
   },
   {
    "duration": 10,
    "start_time": "2022-05-17T17:49:52.977Z"
   },
   {
    "duration": 636,
    "start_time": "2022-05-17T17:49:56.645Z"
   },
   {
    "duration": 13,
    "start_time": "2022-05-17T17:50:00.668Z"
   },
   {
    "duration": 2146,
    "start_time": "2022-05-17T17:50:05.553Z"
   },
   {
    "duration": 16,
    "start_time": "2022-05-17T17:50:11.281Z"
   },
   {
    "duration": 14,
    "start_time": "2022-05-17T17:50:14.214Z"
   },
   {
    "duration": 3779,
    "start_time": "2022-05-17T17:50:22.351Z"
   },
   {
    "duration": 264,
    "start_time": "2022-05-17T17:50:33.535Z"
   },
   {
    "duration": 682,
    "start_time": "2022-05-17T17:50:41.777Z"
   },
   {
    "duration": 7,
    "start_time": "2022-05-17T17:50:57.254Z"
   },
   {
    "duration": 315,
    "start_time": "2022-05-17T17:51:39.841Z"
   },
   {
    "duration": 21,
    "start_time": "2022-05-17T17:52:25.950Z"
   },
   {
    "duration": 22,
    "start_time": "2022-05-17T17:52:32.472Z"
   },
   {
    "duration": 8,
    "start_time": "2022-05-17T17:52:37.619Z"
   },
   {
    "duration": 14,
    "start_time": "2022-05-17T17:52:39.596Z"
   },
   {
    "duration": 12,
    "start_time": "2022-05-17T17:53:07.913Z"
   },
   {
    "duration": 22,
    "start_time": "2022-05-17T17:53:14.240Z"
   },
   {
    "duration": 63,
    "start_time": "2022-05-17T17:53:25.667Z"
   },
   {
    "duration": 32,
    "start_time": "2022-05-17T17:53:27.983Z"
   },
   {
    "duration": 21,
    "start_time": "2022-05-17T17:53:36.380Z"
   },
   {
    "duration": 20,
    "start_time": "2022-05-17T17:53:39.220Z"
   },
   {
    "duration": 21,
    "start_time": "2022-05-17T17:53:41.768Z"
   },
   {
    "duration": 24,
    "start_time": "2022-05-17T17:53:44.578Z"
   },
   {
    "duration": 21,
    "start_time": "2022-05-17T17:53:48.593Z"
   },
   {
    "duration": 19,
    "start_time": "2022-05-17T17:53:51.066Z"
   },
   {
    "duration": 28,
    "start_time": "2022-05-17T17:53:52.921Z"
   },
   {
    "duration": 20,
    "start_time": "2022-05-17T17:53:57.424Z"
   },
   {
    "duration": 10,
    "start_time": "2022-05-17T17:54:01.842Z"
   },
   {
    "duration": 26,
    "start_time": "2022-05-17T17:54:06.057Z"
   },
   {
    "duration": 21,
    "start_time": "2022-05-17T17:54:08.934Z"
   },
   {
    "duration": 6,
    "start_time": "2022-05-17T17:54:12.469Z"
   },
   {
    "duration": 30,
    "start_time": "2022-05-17T17:54:14.532Z"
   },
   {
    "duration": 21,
    "start_time": "2022-05-17T17:54:22.437Z"
   },
   {
    "duration": 38,
    "start_time": "2022-05-17T17:54:26.487Z"
   },
   {
    "duration": 10,
    "start_time": "2022-05-17T17:54:33.493Z"
   },
   {
    "duration": 725,
    "start_time": "2022-05-17T17:54:37.072Z"
   },
   {
    "duration": 12,
    "start_time": "2022-05-17T17:54:41.598Z"
   },
   {
    "duration": 2511,
    "start_time": "2022-05-17T17:54:44.993Z"
   },
   {
    "duration": 17,
    "start_time": "2022-05-17T17:54:55.020Z"
   },
   {
    "duration": 16,
    "start_time": "2022-05-17T17:54:56.967Z"
   },
   {
    "duration": 4177,
    "start_time": "2022-05-17T17:55:04.752Z"
   },
   {
    "duration": 380,
    "start_time": "2022-05-17T17:55:12.134Z"
   },
   {
    "duration": 668,
    "start_time": "2022-05-17T17:55:23.184Z"
   },
   {
    "duration": 9,
    "start_time": "2022-05-17T17:55:31.052Z"
   },
   {
    "duration": 39,
    "start_time": "2022-05-17T17:55:36.763Z"
   },
   {
    "duration": 29,
    "start_time": "2022-05-17T17:55:40.301Z"
   },
   {
    "duration": 11,
    "start_time": "2022-05-17T17:55:44.053Z"
   },
   {
    "duration": 11,
    "start_time": "2022-05-17T17:55:48.162Z"
   },
   {
    "duration": 504,
    "start_time": "2022-05-17T17:55:50.706Z"
   },
   {
    "duration": 551,
    "start_time": "2022-05-17T17:55:54.177Z"
   },
   {
    "duration": 15,
    "start_time": "2022-05-17T17:55:57.957Z"
   },
   {
    "duration": 16,
    "start_time": "2022-05-17T17:56:37.090Z"
   },
   {
    "duration": 16,
    "start_time": "2022-05-17T17:57:07.027Z"
   },
   {
    "duration": 14,
    "start_time": "2022-05-17T17:58:55.297Z"
   },
   {
    "duration": 7,
    "start_time": "2022-05-17T17:59:02.717Z"
   },
   {
    "duration": 17,
    "start_time": "2022-05-17T17:59:11.863Z"
   },
   {
    "duration": 8,
    "start_time": "2022-05-17T17:59:15.147Z"
   },
   {
    "duration": 35,
    "start_time": "2022-05-18T04:53:37.084Z"
   },
   {
    "duration": 33,
    "start_time": "2022-05-18T04:53:45.643Z"
   }
  ],
  "kernelspec": {
   "display_name": "Python 3 (ipykernel)",
   "language": "python",
   "name": "python3"
  },
  "language_info": {
   "codemirror_mode": {
    "name": "ipython",
    "version": 3
   },
   "file_extension": ".py",
   "mimetype": "text/x-python",
   "name": "python",
   "nbconvert_exporter": "python",
   "pygments_lexer": "ipython3",
   "version": "3.9.5"
  },
  "toc": {
   "base_numbering": 1,
   "nav_menu": {},
   "number_sections": true,
   "sideBar": true,
   "skip_h1_title": true,
   "title_cell": "Table of Contents",
   "title_sidebar": "Contents",
   "toc_cell": false,
   "toc_position": {},
   "toc_section_display": true,
   "toc_window_display": false
  }
 },
 "nbformat": 4,
 "nbformat_minor": 2
}
