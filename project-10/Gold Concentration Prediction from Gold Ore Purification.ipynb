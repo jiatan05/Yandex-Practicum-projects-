{
 "cells": [
  {
   "cell_type": "markdown",
   "metadata": {},
   "source": [
    "# Gold Concentration Prediction from Gold Ore Purification"
   ]
  },
  {
   "cell_type": "markdown",
   "metadata": {},
   "source": [
    "Zyfra will need a prototype machine learning model to predict the gold concentration from gold ore purification."
   ]
  },
  {
   "cell_type": "markdown",
   "metadata": {},
   "source": [
    "##  Introduction\n",
    "Presented is a prototype machine learning model that will predict the amount of gold recoverd from gold ore. \n",
    "\n",
    "###  Goal:\n",
    "This model will help to optimize the production and eliminate unprofitable parameters for gold purification process.\n",
    "\n",
    "\n",
    "### Stages:\n",
    "This project will consist of the following stages:\n",
    "\n",
    "1. Introduction\n",
    "2. General Information\n",
    "3. Data Preparation\n",
    "    1. Datetime Conversion\n",
    "    2. Missing Value\n",
    "    3. Missing features\n",
    "    4. MAE and Recovery\n",
    "4. Data Analysis\n",
    "    1. Metal Concentration per Stage\n",
    "    2. Feed Particle Size Distribution\n",
    "    3. Total Concentration per Stage\n",
    "5. Model Development and Training\n",
    "    1. sMAPE function\n",
    "    2. Model Training \n",
    "6. Conclusion"
   ]
  },
  {
   "cell_type": "markdown",
   "metadata": {},
   "source": [
    "## General Information"
   ]
  },
  {
   "cell_type": "markdown",
   "metadata": {},
   "source": [
    "Importing all libraries and modules"
   ]
  },
  {
   "cell_type": "code",
   "execution_count": 133,
   "metadata": {},
   "outputs": [],
   "source": [
    "#import all necessary libraries and modules\n",
    "\n",
    "import pandas as pd\n",
    "import numpy as np\n",
    "import matplotlib.pyplot as plt\n",
    "\n",
    "from sklearn.ensemble import RandomForestRegressor\n",
    "from sklearn.linear_model import LinearRegression\n",
    "from sklearn.tree import DecisionTreeRegressor\n",
    "from sklearn.metrics import make_scorer\n",
    "from sklearn.metrics import mean_absolute_error\n",
    "from sklearn.model_selection import cross_val_score\n",
    "from sklearn.preprocessing import StandardScaler\n"
   ]
  },
  {
   "cell_type": "markdown",
   "metadata": {},
   "source": [
    "Next, we will import all files."
   ]
  },
  {
   "cell_type": "code",
   "execution_count": 134,
   "metadata": {},
   "outputs": [],
   "source": [
    "#importing all three files\n",
    "\n",
    "train = pd.read_csv('/datasets/gold_recovery_train.csv')\n",
    "\n",
    "test = pd.read_csv('/datasets/gold_recovery_test.csv')\n",
    "\n",
    "full = pd.read_csv('/datasets/gold_recovery_full.csv')"
   ]
  },
  {
   "cell_type": "code",
   "execution_count": 135,
   "metadata": {
    "scrolled": true
   },
   "outputs": [
    {
     "name": "stdout",
     "output_type": "stream",
     "text": [
      "<class 'pandas.core.frame.DataFrame'>\n",
      "RangeIndex: 16860 entries, 0 to 16859\n",
      "Data columns (total 87 columns):\n",
      " #   Column                                              Non-Null Count  Dtype  \n",
      "---  ------                                              --------------  -----  \n",
      " 0   date                                                16860 non-null  object \n",
      " 1   final.output.concentrate_ag                         16788 non-null  float64\n",
      " 2   final.output.concentrate_pb                         16788 non-null  float64\n",
      " 3   final.output.concentrate_sol                        16490 non-null  float64\n",
      " 4   final.output.concentrate_au                         16789 non-null  float64\n",
      " 5   final.output.recovery                               15339 non-null  float64\n",
      " 6   final.output.tail_ag                                16794 non-null  float64\n",
      " 7   final.output.tail_pb                                16677 non-null  float64\n",
      " 8   final.output.tail_sol                               16715 non-null  float64\n",
      " 9   final.output.tail_au                                16794 non-null  float64\n",
      " 10  primary_cleaner.input.sulfate                       15553 non-null  float64\n",
      " 11  primary_cleaner.input.depressant                    15598 non-null  float64\n",
      " 12  primary_cleaner.input.feed_size                     16860 non-null  float64\n",
      " 13  primary_cleaner.input.xanthate                      15875 non-null  float64\n",
      " 14  primary_cleaner.output.concentrate_ag               16778 non-null  float64\n",
      " 15  primary_cleaner.output.concentrate_pb               16502 non-null  float64\n",
      " 16  primary_cleaner.output.concentrate_sol              16224 non-null  float64\n",
      " 17  primary_cleaner.output.concentrate_au               16778 non-null  float64\n",
      " 18  primary_cleaner.output.tail_ag                      16777 non-null  float64\n",
      " 19  primary_cleaner.output.tail_pb                      16761 non-null  float64\n",
      " 20  primary_cleaner.output.tail_sol                     16579 non-null  float64\n",
      " 21  primary_cleaner.output.tail_au                      16777 non-null  float64\n",
      " 22  primary_cleaner.state.floatbank8_a_air              16820 non-null  float64\n",
      " 23  primary_cleaner.state.floatbank8_a_level            16827 non-null  float64\n",
      " 24  primary_cleaner.state.floatbank8_b_air              16820 non-null  float64\n",
      " 25  primary_cleaner.state.floatbank8_b_level            16833 non-null  float64\n",
      " 26  primary_cleaner.state.floatbank8_c_air              16822 non-null  float64\n",
      " 27  primary_cleaner.state.floatbank8_c_level            16833 non-null  float64\n",
      " 28  primary_cleaner.state.floatbank8_d_air              16821 non-null  float64\n",
      " 29  primary_cleaner.state.floatbank8_d_level            16833 non-null  float64\n",
      " 30  rougher.calculation.sulfate_to_au_concentrate       16833 non-null  float64\n",
      " 31  rougher.calculation.floatbank10_sulfate_to_au_feed  16833 non-null  float64\n",
      " 32  rougher.calculation.floatbank11_sulfate_to_au_feed  16833 non-null  float64\n",
      " 33  rougher.calculation.au_pb_ratio                     15618 non-null  float64\n",
      " 34  rougher.input.feed_ag                               16778 non-null  float64\n",
      " 35  rougher.input.feed_pb                               16632 non-null  float64\n",
      " 36  rougher.input.feed_rate                             16347 non-null  float64\n",
      " 37  rougher.input.feed_size                             16443 non-null  float64\n",
      " 38  rougher.input.feed_sol                              16568 non-null  float64\n",
      " 39  rougher.input.feed_au                               16777 non-null  float64\n",
      " 40  rougher.input.floatbank10_sulfate                   15816 non-null  float64\n",
      " 41  rougher.input.floatbank10_xanthate                  16514 non-null  float64\n",
      " 42  rougher.input.floatbank11_sulfate                   16237 non-null  float64\n",
      " 43  rougher.input.floatbank11_xanthate                  14956 non-null  float64\n",
      " 44  rougher.output.concentrate_ag                       16778 non-null  float64\n",
      " 45  rougher.output.concentrate_pb                       16778 non-null  float64\n",
      " 46  rougher.output.concentrate_sol                      16698 non-null  float64\n",
      " 47  rougher.output.concentrate_au                       16778 non-null  float64\n",
      " 48  rougher.output.recovery                             14287 non-null  float64\n",
      " 49  rougher.output.tail_ag                              14610 non-null  float64\n",
      " 50  rougher.output.tail_pb                              16778 non-null  float64\n",
      " 51  rougher.output.tail_sol                             14611 non-null  float64\n",
      " 52  rougher.output.tail_au                              14611 non-null  float64\n",
      " 53  rougher.state.floatbank10_a_air                     16807 non-null  float64\n",
      " 54  rougher.state.floatbank10_a_level                   16807 non-null  float64\n",
      " 55  rougher.state.floatbank10_b_air                     16807 non-null  float64\n",
      " 56  rougher.state.floatbank10_b_level                   16807 non-null  float64\n",
      " 57  rougher.state.floatbank10_c_air                     16807 non-null  float64\n",
      " 58  rougher.state.floatbank10_c_level                   16814 non-null  float64\n",
      " 59  rougher.state.floatbank10_d_air                     16802 non-null  float64\n",
      " 60  rougher.state.floatbank10_d_level                   16809 non-null  float64\n",
      " 61  rougher.state.floatbank10_e_air                     16257 non-null  float64\n",
      " 62  rougher.state.floatbank10_e_level                   16809 non-null  float64\n",
      " 63  rougher.state.floatbank10_f_air                     16802 non-null  float64\n",
      " 64  rougher.state.floatbank10_f_level                   16802 non-null  float64\n",
      " 65  secondary_cleaner.output.tail_ag                    16776 non-null  float64\n",
      " 66  secondary_cleaner.output.tail_pb                    16764 non-null  float64\n",
      " 67  secondary_cleaner.output.tail_sol                   14874 non-null  float64\n",
      " 68  secondary_cleaner.output.tail_au                    16778 non-null  float64\n",
      " 69  secondary_cleaner.state.floatbank2_a_air            16497 non-null  float64\n",
      " 70  secondary_cleaner.state.floatbank2_a_level          16751 non-null  float64\n",
      " 71  secondary_cleaner.state.floatbank2_b_air            16705 non-null  float64\n",
      " 72  secondary_cleaner.state.floatbank2_b_level          16748 non-null  float64\n",
      " 73  secondary_cleaner.state.floatbank3_a_air            16763 non-null  float64\n",
      " 74  secondary_cleaner.state.floatbank3_a_level          16747 non-null  float64\n",
      " 75  secondary_cleaner.state.floatbank3_b_air            16752 non-null  float64\n",
      " 76  secondary_cleaner.state.floatbank3_b_level          16750 non-null  float64\n",
      " 77  secondary_cleaner.state.floatbank4_a_air            16731 non-null  float64\n",
      " 78  secondary_cleaner.state.floatbank4_a_level          16747 non-null  float64\n",
      " 79  secondary_cleaner.state.floatbank4_b_air            16768 non-null  float64\n",
      " 80  secondary_cleaner.state.floatbank4_b_level          16767 non-null  float64\n",
      " 81  secondary_cleaner.state.floatbank5_a_air            16775 non-null  float64\n",
      " 82  secondary_cleaner.state.floatbank5_a_level          16775 non-null  float64\n",
      " 83  secondary_cleaner.state.floatbank5_b_air            16775 non-null  float64\n",
      " 84  secondary_cleaner.state.floatbank5_b_level          16776 non-null  float64\n",
      " 85  secondary_cleaner.state.floatbank6_a_air            16757 non-null  float64\n",
      " 86  secondary_cleaner.state.floatbank6_a_level          16775 non-null  float64\n",
      "dtypes: float64(86), object(1)\n",
      "memory usage: 11.2+ MB\n"
     ]
    },
    {
     "data": {
      "text/html": [
       "<div>\n",
       "<style scoped>\n",
       "    .dataframe tbody tr th:only-of-type {\n",
       "        vertical-align: middle;\n",
       "    }\n",
       "\n",
       "    .dataframe tbody tr th {\n",
       "        vertical-align: top;\n",
       "    }\n",
       "\n",
       "    .dataframe thead th {\n",
       "        text-align: right;\n",
       "    }\n",
       "</style>\n",
       "<table border=\"1\" class=\"dataframe\">\n",
       "  <thead>\n",
       "    <tr style=\"text-align: right;\">\n",
       "      <th></th>\n",
       "      <th>date</th>\n",
       "      <th>final.output.concentrate_ag</th>\n",
       "      <th>final.output.concentrate_pb</th>\n",
       "      <th>final.output.concentrate_sol</th>\n",
       "      <th>final.output.concentrate_au</th>\n",
       "      <th>final.output.recovery</th>\n",
       "      <th>final.output.tail_ag</th>\n",
       "      <th>final.output.tail_pb</th>\n",
       "      <th>final.output.tail_sol</th>\n",
       "      <th>final.output.tail_au</th>\n",
       "      <th>...</th>\n",
       "      <th>secondary_cleaner.state.floatbank4_a_air</th>\n",
       "      <th>secondary_cleaner.state.floatbank4_a_level</th>\n",
       "      <th>secondary_cleaner.state.floatbank4_b_air</th>\n",
       "      <th>secondary_cleaner.state.floatbank4_b_level</th>\n",
       "      <th>secondary_cleaner.state.floatbank5_a_air</th>\n",
       "      <th>secondary_cleaner.state.floatbank5_a_level</th>\n",
       "      <th>secondary_cleaner.state.floatbank5_b_air</th>\n",
       "      <th>secondary_cleaner.state.floatbank5_b_level</th>\n",
       "      <th>secondary_cleaner.state.floatbank6_a_air</th>\n",
       "      <th>secondary_cleaner.state.floatbank6_a_level</th>\n",
       "    </tr>\n",
       "  </thead>\n",
       "  <tbody>\n",
       "    <tr>\n",
       "      <th>0</th>\n",
       "      <td>2016-01-15 00:00:00</td>\n",
       "      <td>6.055403</td>\n",
       "      <td>9.889648</td>\n",
       "      <td>5.507324</td>\n",
       "      <td>42.192020</td>\n",
       "      <td>70.541216</td>\n",
       "      <td>10.411962</td>\n",
       "      <td>0.895447</td>\n",
       "      <td>16.904297</td>\n",
       "      <td>2.143149</td>\n",
       "      <td>...</td>\n",
       "      <td>14.016835</td>\n",
       "      <td>-502.488007</td>\n",
       "      <td>12.099931</td>\n",
       "      <td>-504.715942</td>\n",
       "      <td>9.925633</td>\n",
       "      <td>-498.310211</td>\n",
       "      <td>8.079666</td>\n",
       "      <td>-500.470978</td>\n",
       "      <td>14.151341</td>\n",
       "      <td>-605.841980</td>\n",
       "    </tr>\n",
       "    <tr>\n",
       "      <th>1</th>\n",
       "      <td>2016-01-15 01:00:00</td>\n",
       "      <td>6.029369</td>\n",
       "      <td>9.968944</td>\n",
       "      <td>5.257781</td>\n",
       "      <td>42.701629</td>\n",
       "      <td>69.266198</td>\n",
       "      <td>10.462676</td>\n",
       "      <td>0.927452</td>\n",
       "      <td>16.634514</td>\n",
       "      <td>2.224930</td>\n",
       "      <td>...</td>\n",
       "      <td>13.992281</td>\n",
       "      <td>-505.503262</td>\n",
       "      <td>11.950531</td>\n",
       "      <td>-501.331529</td>\n",
       "      <td>10.039245</td>\n",
       "      <td>-500.169983</td>\n",
       "      <td>7.984757</td>\n",
       "      <td>-500.582168</td>\n",
       "      <td>13.998353</td>\n",
       "      <td>-599.787184</td>\n",
       "    </tr>\n",
       "    <tr>\n",
       "      <th>2</th>\n",
       "      <td>2016-01-15 02:00:00</td>\n",
       "      <td>6.055926</td>\n",
       "      <td>10.213995</td>\n",
       "      <td>5.383759</td>\n",
       "      <td>42.657501</td>\n",
       "      <td>68.116445</td>\n",
       "      <td>10.507046</td>\n",
       "      <td>0.953716</td>\n",
       "      <td>16.208849</td>\n",
       "      <td>2.257889</td>\n",
       "      <td>...</td>\n",
       "      <td>14.015015</td>\n",
       "      <td>-502.520901</td>\n",
       "      <td>11.912783</td>\n",
       "      <td>-501.133383</td>\n",
       "      <td>10.070913</td>\n",
       "      <td>-500.129135</td>\n",
       "      <td>8.013877</td>\n",
       "      <td>-500.517572</td>\n",
       "      <td>14.028663</td>\n",
       "      <td>-601.427363</td>\n",
       "    </tr>\n",
       "    <tr>\n",
       "      <th>3</th>\n",
       "      <td>2016-01-15 03:00:00</td>\n",
       "      <td>6.047977</td>\n",
       "      <td>9.977019</td>\n",
       "      <td>4.858634</td>\n",
       "      <td>42.689819</td>\n",
       "      <td>68.347543</td>\n",
       "      <td>10.422762</td>\n",
       "      <td>0.883763</td>\n",
       "      <td>16.532835</td>\n",
       "      <td>2.146849</td>\n",
       "      <td>...</td>\n",
       "      <td>14.036510</td>\n",
       "      <td>-500.857308</td>\n",
       "      <td>11.999550</td>\n",
       "      <td>-501.193686</td>\n",
       "      <td>9.970366</td>\n",
       "      <td>-499.201640</td>\n",
       "      <td>7.977324</td>\n",
       "      <td>-500.255908</td>\n",
       "      <td>14.005551</td>\n",
       "      <td>-599.996129</td>\n",
       "    </tr>\n",
       "    <tr>\n",
       "      <th>4</th>\n",
       "      <td>2016-01-15 04:00:00</td>\n",
       "      <td>6.148599</td>\n",
       "      <td>10.142511</td>\n",
       "      <td>4.939416</td>\n",
       "      <td>42.774141</td>\n",
       "      <td>66.927016</td>\n",
       "      <td>10.360302</td>\n",
       "      <td>0.792826</td>\n",
       "      <td>16.525686</td>\n",
       "      <td>2.055292</td>\n",
       "      <td>...</td>\n",
       "      <td>14.027298</td>\n",
       "      <td>-499.838632</td>\n",
       "      <td>11.953070</td>\n",
       "      <td>-501.053894</td>\n",
       "      <td>9.925709</td>\n",
       "      <td>-501.686727</td>\n",
       "      <td>7.894242</td>\n",
       "      <td>-500.356035</td>\n",
       "      <td>13.996647</td>\n",
       "      <td>-601.496691</td>\n",
       "    </tr>\n",
       "  </tbody>\n",
       "</table>\n",
       "<p>5 rows × 87 columns</p>\n",
       "</div>"
      ],
      "text/plain": [
       "                  date  final.output.concentrate_ag  \\\n",
       "0  2016-01-15 00:00:00                     6.055403   \n",
       "1  2016-01-15 01:00:00                     6.029369   \n",
       "2  2016-01-15 02:00:00                     6.055926   \n",
       "3  2016-01-15 03:00:00                     6.047977   \n",
       "4  2016-01-15 04:00:00                     6.148599   \n",
       "\n",
       "   final.output.concentrate_pb  final.output.concentrate_sol  \\\n",
       "0                     9.889648                      5.507324   \n",
       "1                     9.968944                      5.257781   \n",
       "2                    10.213995                      5.383759   \n",
       "3                     9.977019                      4.858634   \n",
       "4                    10.142511                      4.939416   \n",
       "\n",
       "   final.output.concentrate_au  final.output.recovery  final.output.tail_ag  \\\n",
       "0                    42.192020              70.541216             10.411962   \n",
       "1                    42.701629              69.266198             10.462676   \n",
       "2                    42.657501              68.116445             10.507046   \n",
       "3                    42.689819              68.347543             10.422762   \n",
       "4                    42.774141              66.927016             10.360302   \n",
       "\n",
       "   final.output.tail_pb  final.output.tail_sol  final.output.tail_au  ...  \\\n",
       "0              0.895447              16.904297              2.143149  ...   \n",
       "1              0.927452              16.634514              2.224930  ...   \n",
       "2              0.953716              16.208849              2.257889  ...   \n",
       "3              0.883763              16.532835              2.146849  ...   \n",
       "4              0.792826              16.525686              2.055292  ...   \n",
       "\n",
       "   secondary_cleaner.state.floatbank4_a_air  \\\n",
       "0                                 14.016835   \n",
       "1                                 13.992281   \n",
       "2                                 14.015015   \n",
       "3                                 14.036510   \n",
       "4                                 14.027298   \n",
       "\n",
       "   secondary_cleaner.state.floatbank4_a_level  \\\n",
       "0                                 -502.488007   \n",
       "1                                 -505.503262   \n",
       "2                                 -502.520901   \n",
       "3                                 -500.857308   \n",
       "4                                 -499.838632   \n",
       "\n",
       "   secondary_cleaner.state.floatbank4_b_air  \\\n",
       "0                                 12.099931   \n",
       "1                                 11.950531   \n",
       "2                                 11.912783   \n",
       "3                                 11.999550   \n",
       "4                                 11.953070   \n",
       "\n",
       "   secondary_cleaner.state.floatbank4_b_level  \\\n",
       "0                                 -504.715942   \n",
       "1                                 -501.331529   \n",
       "2                                 -501.133383   \n",
       "3                                 -501.193686   \n",
       "4                                 -501.053894   \n",
       "\n",
       "   secondary_cleaner.state.floatbank5_a_air  \\\n",
       "0                                  9.925633   \n",
       "1                                 10.039245   \n",
       "2                                 10.070913   \n",
       "3                                  9.970366   \n",
       "4                                  9.925709   \n",
       "\n",
       "   secondary_cleaner.state.floatbank5_a_level  \\\n",
       "0                                 -498.310211   \n",
       "1                                 -500.169983   \n",
       "2                                 -500.129135   \n",
       "3                                 -499.201640   \n",
       "4                                 -501.686727   \n",
       "\n",
       "   secondary_cleaner.state.floatbank5_b_air  \\\n",
       "0                                  8.079666   \n",
       "1                                  7.984757   \n",
       "2                                  8.013877   \n",
       "3                                  7.977324   \n",
       "4                                  7.894242   \n",
       "\n",
       "   secondary_cleaner.state.floatbank5_b_level  \\\n",
       "0                                 -500.470978   \n",
       "1                                 -500.582168   \n",
       "2                                 -500.517572   \n",
       "3                                 -500.255908   \n",
       "4                                 -500.356035   \n",
       "\n",
       "   secondary_cleaner.state.floatbank6_a_air  \\\n",
       "0                                 14.151341   \n",
       "1                                 13.998353   \n",
       "2                                 14.028663   \n",
       "3                                 14.005551   \n",
       "4                                 13.996647   \n",
       "\n",
       "   secondary_cleaner.state.floatbank6_a_level  \n",
       "0                                 -605.841980  \n",
       "1                                 -599.787184  \n",
       "2                                 -601.427363  \n",
       "3                                 -599.996129  \n",
       "4                                 -601.496691  \n",
       "\n",
       "[5 rows x 87 columns]"
      ]
     },
     "execution_count": 135,
     "metadata": {},
     "output_type": "execute_result"
    }
   ],
   "source": [
    "#checking the general information for train\n",
    "\n",
    "train.info()\n",
    "train.head()"
   ]
  },
  {
   "cell_type": "code",
   "execution_count": 136,
   "metadata": {},
   "outputs": [
    {
     "name": "stdout",
     "output_type": "stream",
     "text": [
      "<class 'pandas.core.frame.DataFrame'>\n",
      "RangeIndex: 5856 entries, 0 to 5855\n",
      "Data columns (total 53 columns):\n",
      " #   Column                                      Non-Null Count  Dtype  \n",
      "---  ------                                      --------------  -----  \n",
      " 0   date                                        5856 non-null   object \n",
      " 1   primary_cleaner.input.sulfate               5554 non-null   float64\n",
      " 2   primary_cleaner.input.depressant            5572 non-null   float64\n",
      " 3   primary_cleaner.input.feed_size             5856 non-null   float64\n",
      " 4   primary_cleaner.input.xanthate              5690 non-null   float64\n",
      " 5   primary_cleaner.state.floatbank8_a_air      5840 non-null   float64\n",
      " 6   primary_cleaner.state.floatbank8_a_level    5840 non-null   float64\n",
      " 7   primary_cleaner.state.floatbank8_b_air      5840 non-null   float64\n",
      " 8   primary_cleaner.state.floatbank8_b_level    5840 non-null   float64\n",
      " 9   primary_cleaner.state.floatbank8_c_air      5840 non-null   float64\n",
      " 10  primary_cleaner.state.floatbank8_c_level    5840 non-null   float64\n",
      " 11  primary_cleaner.state.floatbank8_d_air      5840 non-null   float64\n",
      " 12  primary_cleaner.state.floatbank8_d_level    5840 non-null   float64\n",
      " 13  rougher.input.feed_ag                       5840 non-null   float64\n",
      " 14  rougher.input.feed_pb                       5840 non-null   float64\n",
      " 15  rougher.input.feed_rate                     5816 non-null   float64\n",
      " 16  rougher.input.feed_size                     5834 non-null   float64\n",
      " 17  rougher.input.feed_sol                      5789 non-null   float64\n",
      " 18  rougher.input.feed_au                       5840 non-null   float64\n",
      " 19  rougher.input.floatbank10_sulfate           5599 non-null   float64\n",
      " 20  rougher.input.floatbank10_xanthate          5733 non-null   float64\n",
      " 21  rougher.input.floatbank11_sulfate           5801 non-null   float64\n",
      " 22  rougher.input.floatbank11_xanthate          5503 non-null   float64\n",
      " 23  rougher.state.floatbank10_a_air             5839 non-null   float64\n",
      " 24  rougher.state.floatbank10_a_level           5840 non-null   float64\n",
      " 25  rougher.state.floatbank10_b_air             5839 non-null   float64\n",
      " 26  rougher.state.floatbank10_b_level           5840 non-null   float64\n",
      " 27  rougher.state.floatbank10_c_air             5839 non-null   float64\n",
      " 28  rougher.state.floatbank10_c_level           5840 non-null   float64\n",
      " 29  rougher.state.floatbank10_d_air             5839 non-null   float64\n",
      " 30  rougher.state.floatbank10_d_level           5840 non-null   float64\n",
      " 31  rougher.state.floatbank10_e_air             5839 non-null   float64\n",
      " 32  rougher.state.floatbank10_e_level           5840 non-null   float64\n",
      " 33  rougher.state.floatbank10_f_air             5839 non-null   float64\n",
      " 34  rougher.state.floatbank10_f_level           5840 non-null   float64\n",
      " 35  secondary_cleaner.state.floatbank2_a_air    5836 non-null   float64\n",
      " 36  secondary_cleaner.state.floatbank2_a_level  5840 non-null   float64\n",
      " 37  secondary_cleaner.state.floatbank2_b_air    5833 non-null   float64\n",
      " 38  secondary_cleaner.state.floatbank2_b_level  5840 non-null   float64\n",
      " 39  secondary_cleaner.state.floatbank3_a_air    5822 non-null   float64\n",
      " 40  secondary_cleaner.state.floatbank3_a_level  5840 non-null   float64\n",
      " 41  secondary_cleaner.state.floatbank3_b_air    5840 non-null   float64\n",
      " 42  secondary_cleaner.state.floatbank3_b_level  5840 non-null   float64\n",
      " 43  secondary_cleaner.state.floatbank4_a_air    5840 non-null   float64\n",
      " 44  secondary_cleaner.state.floatbank4_a_level  5840 non-null   float64\n",
      " 45  secondary_cleaner.state.floatbank4_b_air    5840 non-null   float64\n",
      " 46  secondary_cleaner.state.floatbank4_b_level  5840 non-null   float64\n",
      " 47  secondary_cleaner.state.floatbank5_a_air    5840 non-null   float64\n",
      " 48  secondary_cleaner.state.floatbank5_a_level  5840 non-null   float64\n",
      " 49  secondary_cleaner.state.floatbank5_b_air    5840 non-null   float64\n",
      " 50  secondary_cleaner.state.floatbank5_b_level  5840 non-null   float64\n",
      " 51  secondary_cleaner.state.floatbank6_a_air    5840 non-null   float64\n",
      " 52  secondary_cleaner.state.floatbank6_a_level  5840 non-null   float64\n",
      "dtypes: float64(52), object(1)\n",
      "memory usage: 2.4+ MB\n"
     ]
    },
    {
     "data": {
      "text/html": [
       "<div>\n",
       "<style scoped>\n",
       "    .dataframe tbody tr th:only-of-type {\n",
       "        vertical-align: middle;\n",
       "    }\n",
       "\n",
       "    .dataframe tbody tr th {\n",
       "        vertical-align: top;\n",
       "    }\n",
       "\n",
       "    .dataframe thead th {\n",
       "        text-align: right;\n",
       "    }\n",
       "</style>\n",
       "<table border=\"1\" class=\"dataframe\">\n",
       "  <thead>\n",
       "    <tr style=\"text-align: right;\">\n",
       "      <th></th>\n",
       "      <th>date</th>\n",
       "      <th>primary_cleaner.input.sulfate</th>\n",
       "      <th>primary_cleaner.input.depressant</th>\n",
       "      <th>primary_cleaner.input.feed_size</th>\n",
       "      <th>primary_cleaner.input.xanthate</th>\n",
       "      <th>primary_cleaner.state.floatbank8_a_air</th>\n",
       "      <th>primary_cleaner.state.floatbank8_a_level</th>\n",
       "      <th>primary_cleaner.state.floatbank8_b_air</th>\n",
       "      <th>primary_cleaner.state.floatbank8_b_level</th>\n",
       "      <th>primary_cleaner.state.floatbank8_c_air</th>\n",
       "      <th>...</th>\n",
       "      <th>secondary_cleaner.state.floatbank4_a_air</th>\n",
       "      <th>secondary_cleaner.state.floatbank4_a_level</th>\n",
       "      <th>secondary_cleaner.state.floatbank4_b_air</th>\n",
       "      <th>secondary_cleaner.state.floatbank4_b_level</th>\n",
       "      <th>secondary_cleaner.state.floatbank5_a_air</th>\n",
       "      <th>secondary_cleaner.state.floatbank5_a_level</th>\n",
       "      <th>secondary_cleaner.state.floatbank5_b_air</th>\n",
       "      <th>secondary_cleaner.state.floatbank5_b_level</th>\n",
       "      <th>secondary_cleaner.state.floatbank6_a_air</th>\n",
       "      <th>secondary_cleaner.state.floatbank6_a_level</th>\n",
       "    </tr>\n",
       "  </thead>\n",
       "  <tbody>\n",
       "    <tr>\n",
       "      <th>0</th>\n",
       "      <td>2016-09-01 00:59:59</td>\n",
       "      <td>210.800909</td>\n",
       "      <td>14.993118</td>\n",
       "      <td>8.080000</td>\n",
       "      <td>1.005021</td>\n",
       "      <td>1398.981301</td>\n",
       "      <td>-500.225577</td>\n",
       "      <td>1399.144926</td>\n",
       "      <td>-499.919735</td>\n",
       "      <td>1400.102998</td>\n",
       "      <td>...</td>\n",
       "      <td>12.023554</td>\n",
       "      <td>-497.795834</td>\n",
       "      <td>8.016656</td>\n",
       "      <td>-501.289139</td>\n",
       "      <td>7.946562</td>\n",
       "      <td>-432.317850</td>\n",
       "      <td>4.872511</td>\n",
       "      <td>-500.037437</td>\n",
       "      <td>26.705889</td>\n",
       "      <td>-499.709414</td>\n",
       "    </tr>\n",
       "    <tr>\n",
       "      <th>1</th>\n",
       "      <td>2016-09-01 01:59:59</td>\n",
       "      <td>215.392455</td>\n",
       "      <td>14.987471</td>\n",
       "      <td>8.080000</td>\n",
       "      <td>0.990469</td>\n",
       "      <td>1398.777912</td>\n",
       "      <td>-500.057435</td>\n",
       "      <td>1398.055362</td>\n",
       "      <td>-499.778182</td>\n",
       "      <td>1396.151033</td>\n",
       "      <td>...</td>\n",
       "      <td>12.058140</td>\n",
       "      <td>-498.695773</td>\n",
       "      <td>8.130979</td>\n",
       "      <td>-499.634209</td>\n",
       "      <td>7.958270</td>\n",
       "      <td>-525.839648</td>\n",
       "      <td>4.878850</td>\n",
       "      <td>-500.162375</td>\n",
       "      <td>25.019940</td>\n",
       "      <td>-499.819438</td>\n",
       "    </tr>\n",
       "    <tr>\n",
       "      <th>2</th>\n",
       "      <td>2016-09-01 02:59:59</td>\n",
       "      <td>215.259946</td>\n",
       "      <td>12.884934</td>\n",
       "      <td>7.786667</td>\n",
       "      <td>0.996043</td>\n",
       "      <td>1398.493666</td>\n",
       "      <td>-500.868360</td>\n",
       "      <td>1398.860436</td>\n",
       "      <td>-499.764529</td>\n",
       "      <td>1398.075709</td>\n",
       "      <td>...</td>\n",
       "      <td>11.962366</td>\n",
       "      <td>-498.767484</td>\n",
       "      <td>8.096893</td>\n",
       "      <td>-500.827423</td>\n",
       "      <td>8.071056</td>\n",
       "      <td>-500.801673</td>\n",
       "      <td>4.905125</td>\n",
       "      <td>-499.828510</td>\n",
       "      <td>24.994862</td>\n",
       "      <td>-500.622559</td>\n",
       "    </tr>\n",
       "    <tr>\n",
       "      <th>3</th>\n",
       "      <td>2016-09-01 03:59:59</td>\n",
       "      <td>215.336236</td>\n",
       "      <td>12.006805</td>\n",
       "      <td>7.640000</td>\n",
       "      <td>0.863514</td>\n",
       "      <td>1399.618111</td>\n",
       "      <td>-498.863574</td>\n",
       "      <td>1397.440120</td>\n",
       "      <td>-499.211024</td>\n",
       "      <td>1400.129303</td>\n",
       "      <td>...</td>\n",
       "      <td>12.033091</td>\n",
       "      <td>-498.350935</td>\n",
       "      <td>8.074946</td>\n",
       "      <td>-499.474407</td>\n",
       "      <td>7.897085</td>\n",
       "      <td>-500.868509</td>\n",
       "      <td>4.931400</td>\n",
       "      <td>-499.963623</td>\n",
       "      <td>24.948919</td>\n",
       "      <td>-498.709987</td>\n",
       "    </tr>\n",
       "    <tr>\n",
       "      <th>4</th>\n",
       "      <td>2016-09-01 04:59:59</td>\n",
       "      <td>199.099327</td>\n",
       "      <td>10.682530</td>\n",
       "      <td>7.530000</td>\n",
       "      <td>0.805575</td>\n",
       "      <td>1401.268123</td>\n",
       "      <td>-500.808305</td>\n",
       "      <td>1398.128818</td>\n",
       "      <td>-499.504543</td>\n",
       "      <td>1402.172226</td>\n",
       "      <td>...</td>\n",
       "      <td>12.025367</td>\n",
       "      <td>-500.786497</td>\n",
       "      <td>8.054678</td>\n",
       "      <td>-500.397500</td>\n",
       "      <td>8.107890</td>\n",
       "      <td>-509.526725</td>\n",
       "      <td>4.957674</td>\n",
       "      <td>-500.360026</td>\n",
       "      <td>25.003331</td>\n",
       "      <td>-500.856333</td>\n",
       "    </tr>\n",
       "  </tbody>\n",
       "</table>\n",
       "<p>5 rows × 53 columns</p>\n",
       "</div>"
      ],
      "text/plain": [
       "                  date  primary_cleaner.input.sulfate  \\\n",
       "0  2016-09-01 00:59:59                     210.800909   \n",
       "1  2016-09-01 01:59:59                     215.392455   \n",
       "2  2016-09-01 02:59:59                     215.259946   \n",
       "3  2016-09-01 03:59:59                     215.336236   \n",
       "4  2016-09-01 04:59:59                     199.099327   \n",
       "\n",
       "   primary_cleaner.input.depressant  primary_cleaner.input.feed_size  \\\n",
       "0                         14.993118                         8.080000   \n",
       "1                         14.987471                         8.080000   \n",
       "2                         12.884934                         7.786667   \n",
       "3                         12.006805                         7.640000   \n",
       "4                         10.682530                         7.530000   \n",
       "\n",
       "   primary_cleaner.input.xanthate  primary_cleaner.state.floatbank8_a_air  \\\n",
       "0                        1.005021                             1398.981301   \n",
       "1                        0.990469                             1398.777912   \n",
       "2                        0.996043                             1398.493666   \n",
       "3                        0.863514                             1399.618111   \n",
       "4                        0.805575                             1401.268123   \n",
       "\n",
       "   primary_cleaner.state.floatbank8_a_level  \\\n",
       "0                               -500.225577   \n",
       "1                               -500.057435   \n",
       "2                               -500.868360   \n",
       "3                               -498.863574   \n",
       "4                               -500.808305   \n",
       "\n",
       "   primary_cleaner.state.floatbank8_b_air  \\\n",
       "0                             1399.144926   \n",
       "1                             1398.055362   \n",
       "2                             1398.860436   \n",
       "3                             1397.440120   \n",
       "4                             1398.128818   \n",
       "\n",
       "   primary_cleaner.state.floatbank8_b_level  \\\n",
       "0                               -499.919735   \n",
       "1                               -499.778182   \n",
       "2                               -499.764529   \n",
       "3                               -499.211024   \n",
       "4                               -499.504543   \n",
       "\n",
       "   primary_cleaner.state.floatbank8_c_air  ...  \\\n",
       "0                             1400.102998  ...   \n",
       "1                             1396.151033  ...   \n",
       "2                             1398.075709  ...   \n",
       "3                             1400.129303  ...   \n",
       "4                             1402.172226  ...   \n",
       "\n",
       "   secondary_cleaner.state.floatbank4_a_air  \\\n",
       "0                                 12.023554   \n",
       "1                                 12.058140   \n",
       "2                                 11.962366   \n",
       "3                                 12.033091   \n",
       "4                                 12.025367   \n",
       "\n",
       "   secondary_cleaner.state.floatbank4_a_level  \\\n",
       "0                                 -497.795834   \n",
       "1                                 -498.695773   \n",
       "2                                 -498.767484   \n",
       "3                                 -498.350935   \n",
       "4                                 -500.786497   \n",
       "\n",
       "   secondary_cleaner.state.floatbank4_b_air  \\\n",
       "0                                  8.016656   \n",
       "1                                  8.130979   \n",
       "2                                  8.096893   \n",
       "3                                  8.074946   \n",
       "4                                  8.054678   \n",
       "\n",
       "   secondary_cleaner.state.floatbank4_b_level  \\\n",
       "0                                 -501.289139   \n",
       "1                                 -499.634209   \n",
       "2                                 -500.827423   \n",
       "3                                 -499.474407   \n",
       "4                                 -500.397500   \n",
       "\n",
       "   secondary_cleaner.state.floatbank5_a_air  \\\n",
       "0                                  7.946562   \n",
       "1                                  7.958270   \n",
       "2                                  8.071056   \n",
       "3                                  7.897085   \n",
       "4                                  8.107890   \n",
       "\n",
       "   secondary_cleaner.state.floatbank5_a_level  \\\n",
       "0                                 -432.317850   \n",
       "1                                 -525.839648   \n",
       "2                                 -500.801673   \n",
       "3                                 -500.868509   \n",
       "4                                 -509.526725   \n",
       "\n",
       "   secondary_cleaner.state.floatbank5_b_air  \\\n",
       "0                                  4.872511   \n",
       "1                                  4.878850   \n",
       "2                                  4.905125   \n",
       "3                                  4.931400   \n",
       "4                                  4.957674   \n",
       "\n",
       "   secondary_cleaner.state.floatbank5_b_level  \\\n",
       "0                                 -500.037437   \n",
       "1                                 -500.162375   \n",
       "2                                 -499.828510   \n",
       "3                                 -499.963623   \n",
       "4                                 -500.360026   \n",
       "\n",
       "   secondary_cleaner.state.floatbank6_a_air  \\\n",
       "0                                 26.705889   \n",
       "1                                 25.019940   \n",
       "2                                 24.994862   \n",
       "3                                 24.948919   \n",
       "4                                 25.003331   \n",
       "\n",
       "   secondary_cleaner.state.floatbank6_a_level  \n",
       "0                                 -499.709414  \n",
       "1                                 -499.819438  \n",
       "2                                 -500.622559  \n",
       "3                                 -498.709987  \n",
       "4                                 -500.856333  \n",
       "\n",
       "[5 rows x 53 columns]"
      ]
     },
     "execution_count": 136,
     "metadata": {},
     "output_type": "execute_result"
    }
   ],
   "source": [
    "#General information for test\n",
    "\n",
    "test.info()\n",
    "test.head()"
   ]
  },
  {
   "cell_type": "code",
   "execution_count": 137,
   "metadata": {},
   "outputs": [
    {
     "name": "stdout",
     "output_type": "stream",
     "text": [
      "<class 'pandas.core.frame.DataFrame'>\n",
      "RangeIndex: 22716 entries, 0 to 22715\n",
      "Data columns (total 87 columns):\n",
      " #   Column                                              Non-Null Count  Dtype  \n",
      "---  ------                                              --------------  -----  \n",
      " 0   date                                                22716 non-null  object \n",
      " 1   final.output.concentrate_ag                         22627 non-null  float64\n",
      " 2   final.output.concentrate_pb                         22629 non-null  float64\n",
      " 3   final.output.concentrate_sol                        22331 non-null  float64\n",
      " 4   final.output.concentrate_au                         22630 non-null  float64\n",
      " 5   final.output.recovery                               20753 non-null  float64\n",
      " 6   final.output.tail_ag                                22633 non-null  float64\n",
      " 7   final.output.tail_pb                                22516 non-null  float64\n",
      " 8   final.output.tail_sol                               22445 non-null  float64\n",
      " 9   final.output.tail_au                                22635 non-null  float64\n",
      " 10  primary_cleaner.input.sulfate                       21107 non-null  float64\n",
      " 11  primary_cleaner.input.depressant                    21170 non-null  float64\n",
      " 12  primary_cleaner.input.feed_size                     22716 non-null  float64\n",
      " 13  primary_cleaner.input.xanthate                      21565 non-null  float64\n",
      " 14  primary_cleaner.output.concentrate_ag               22618 non-null  float64\n",
      " 15  primary_cleaner.output.concentrate_pb               22268 non-null  float64\n",
      " 16  primary_cleaner.output.concentrate_sol              21918 non-null  float64\n",
      " 17  primary_cleaner.output.concentrate_au               22618 non-null  float64\n",
      " 18  primary_cleaner.output.tail_ag                      22614 non-null  float64\n",
      " 19  primary_cleaner.output.tail_pb                      22594 non-null  float64\n",
      " 20  primary_cleaner.output.tail_sol                     22365 non-null  float64\n",
      " 21  primary_cleaner.output.tail_au                      22617 non-null  float64\n",
      " 22  primary_cleaner.state.floatbank8_a_air              22660 non-null  float64\n",
      " 23  primary_cleaner.state.floatbank8_a_level            22667 non-null  float64\n",
      " 24  primary_cleaner.state.floatbank8_b_air              22660 non-null  float64\n",
      " 25  primary_cleaner.state.floatbank8_b_level            22673 non-null  float64\n",
      " 26  primary_cleaner.state.floatbank8_c_air              22662 non-null  float64\n",
      " 27  primary_cleaner.state.floatbank8_c_level            22673 non-null  float64\n",
      " 28  primary_cleaner.state.floatbank8_d_air              22661 non-null  float64\n",
      " 29  primary_cleaner.state.floatbank8_d_level            22673 non-null  float64\n",
      " 30  rougher.calculation.sulfate_to_au_concentrate       22672 non-null  float64\n",
      " 31  rougher.calculation.floatbank10_sulfate_to_au_feed  22672 non-null  float64\n",
      " 32  rougher.calculation.floatbank11_sulfate_to_au_feed  22672 non-null  float64\n",
      " 33  rougher.calculation.au_pb_ratio                     21089 non-null  float64\n",
      " 34  rougher.input.feed_ag                               22618 non-null  float64\n",
      " 35  rougher.input.feed_pb                               22472 non-null  float64\n",
      " 36  rougher.input.feed_rate                             22163 non-null  float64\n",
      " 37  rougher.input.feed_size                             22277 non-null  float64\n",
      " 38  rougher.input.feed_sol                              22357 non-null  float64\n",
      " 39  rougher.input.feed_au                               22617 non-null  float64\n",
      " 40  rougher.input.floatbank10_sulfate                   21415 non-null  float64\n",
      " 41  rougher.input.floatbank10_xanthate                  22247 non-null  float64\n",
      " 42  rougher.input.floatbank11_sulfate                   22038 non-null  float64\n",
      " 43  rougher.input.floatbank11_xanthate                  20459 non-null  float64\n",
      " 44  rougher.output.concentrate_ag                       22618 non-null  float64\n",
      " 45  rougher.output.concentrate_pb                       22618 non-null  float64\n",
      " 46  rougher.output.concentrate_sol                      22526 non-null  float64\n",
      " 47  rougher.output.concentrate_au                       22618 non-null  float64\n",
      " 48  rougher.output.recovery                             19597 non-null  float64\n",
      " 49  rougher.output.tail_ag                              19979 non-null  float64\n",
      " 50  rougher.output.tail_pb                              22618 non-null  float64\n",
      " 51  rougher.output.tail_sol                             19980 non-null  float64\n",
      " 52  rougher.output.tail_au                              19980 non-null  float64\n",
      " 53  rougher.state.floatbank10_a_air                     22646 non-null  float64\n",
      " 54  rougher.state.floatbank10_a_level                   22647 non-null  float64\n",
      " 55  rougher.state.floatbank10_b_air                     22646 non-null  float64\n",
      " 56  rougher.state.floatbank10_b_level                   22647 non-null  float64\n",
      " 57  rougher.state.floatbank10_c_air                     22646 non-null  float64\n",
      " 58  rougher.state.floatbank10_c_level                   22654 non-null  float64\n",
      " 59  rougher.state.floatbank10_d_air                     22641 non-null  float64\n",
      " 60  rougher.state.floatbank10_d_level                   22649 non-null  float64\n",
      " 61  rougher.state.floatbank10_e_air                     22096 non-null  float64\n",
      " 62  rougher.state.floatbank10_e_level                   22649 non-null  float64\n",
      " 63  rougher.state.floatbank10_f_air                     22641 non-null  float64\n",
      " 64  rougher.state.floatbank10_f_level                   22642 non-null  float64\n",
      " 65  secondary_cleaner.output.tail_ag                    22616 non-null  float64\n",
      " 66  secondary_cleaner.output.tail_pb                    22600 non-null  float64\n",
      " 67  secondary_cleaner.output.tail_sol                   20501 non-null  float64\n",
      " 68  secondary_cleaner.output.tail_au                    22618 non-null  float64\n",
      " 69  secondary_cleaner.state.floatbank2_a_air            22333 non-null  float64\n",
      " 70  secondary_cleaner.state.floatbank2_a_level          22591 non-null  float64\n",
      " 71  secondary_cleaner.state.floatbank2_b_air            22538 non-null  float64\n",
      " 72  secondary_cleaner.state.floatbank2_b_level          22588 non-null  float64\n",
      " 73  secondary_cleaner.state.floatbank3_a_air            22585 non-null  float64\n",
      " 74  secondary_cleaner.state.floatbank3_a_level          22587 non-null  float64\n",
      " 75  secondary_cleaner.state.floatbank3_b_air            22592 non-null  float64\n",
      " 76  secondary_cleaner.state.floatbank3_b_level          22590 non-null  float64\n",
      " 77  secondary_cleaner.state.floatbank4_a_air            22571 non-null  float64\n",
      " 78  secondary_cleaner.state.floatbank4_a_level          22587 non-null  float64\n",
      " 79  secondary_cleaner.state.floatbank4_b_air            22608 non-null  float64\n",
      " 80  secondary_cleaner.state.floatbank4_b_level          22607 non-null  float64\n",
      " 81  secondary_cleaner.state.floatbank5_a_air            22615 non-null  float64\n",
      " 82  secondary_cleaner.state.floatbank5_a_level          22615 non-null  float64\n",
      " 83  secondary_cleaner.state.floatbank5_b_air            22615 non-null  float64\n",
      " 84  secondary_cleaner.state.floatbank5_b_level          22616 non-null  float64\n",
      " 85  secondary_cleaner.state.floatbank6_a_air            22597 non-null  float64\n",
      " 86  secondary_cleaner.state.floatbank6_a_level          22615 non-null  float64\n",
      "dtypes: float64(86), object(1)\n",
      "memory usage: 15.1+ MB\n"
     ]
    }
   ],
   "source": [
    "#Gerenal information for full\n",
    "\n",
    "full.head()\n",
    "full.info()"
   ]
  },
  {
   "cell_type": "markdown",
   "metadata": {},
   "source": [
    "After looking at the general information about those datasets, we can do a couple of things to prepare the data for further analysis and model training:\n",
    "\n",
    "1. forward fill missing values in the dataset\n",
    "\n",
    "2. Check to see whether there are some features not available in the test set\n",
    "\n",
    "3. Convert date column to datetime objects\n",
    "\n",
    "4. Create the targets. We will need rougher.output.recovery and final.output.recovery to determine the final sMAPE."
   ]
  },
  {
   "cell_type": "markdown",
   "metadata": {},
   "source": [
    "## Data Preparation"
   ]
  },
  {
   "cell_type": "markdown",
   "metadata": {},
   "source": [
    "### Datetime conversion"
   ]
  },
  {
   "cell_type": "markdown",
   "metadata": {},
   "source": [
    "We will start with converting 'date' column to datetime objects."
   ]
  },
  {
   "cell_type": "code",
   "execution_count": 138,
   "metadata": {},
   "outputs": [
    {
     "name": "stdout",
     "output_type": "stream",
     "text": [
      "datetime64[ns]\n",
      "datetime64[ns]\n",
      "datetime64[ns]\n"
     ]
    }
   ],
   "source": [
    "#convert to datetime\n",
    "\n",
    "train['date'] = pd.to_datetime(train['date'])\n",
    "test['date'] = pd.to_datetime(test['date'])\n",
    "full['date'] = pd.to_datetime(full['date'])\n",
    "\n",
    "#to check\n",
    "\n",
    "print(train['date'].dtypes)\n",
    "print(test['date'].dtypes)\n",
    "print(full['date'].dtypes)"
   ]
  },
  {
   "cell_type": "markdown",
   "metadata": {},
   "source": [
    "### Missing values"
   ]
  },
  {
   "cell_type": "markdown",
   "metadata": {},
   "source": [
    "Next, we will forward fill all of the missing values. As we will need all of the values for the model, they appear to be similar. Since test do not have our target columns, we will fill on the original dataset while creating a new df for train and full. "
   ]
  },
  {
   "cell_type": "code",
   "execution_count": 139,
   "metadata": {},
   "outputs": [
    {
     "name": "stdout",
     "output_type": "stream",
     "text": [
      "0\n",
      "0\n",
      "0\n"
     ]
    }
   ],
   "source": [
    "#forward filling all NAs\n",
    "\n",
    "train = train.dropna()\n",
    "test = test.dropna()\n",
    "full = full.dropna()\n",
    "\n",
    "#to check\n",
    "\n",
    "print(train.isna().sum().sum())\n",
    "print(test.isna().sum().sum())\n",
    "print(full.isna().sum().sum())\n",
    "\n",
    "\n"
   ]
  },
  {
   "cell_type": "markdown",
   "metadata": {},
   "source": [
    "### Missing Features"
   ]
  },
  {
   "cell_type": "markdown",
   "metadata": {},
   "source": [
    "Next, we will check for features that might be missing in the test set. "
   ]
  },
  {
   "cell_type": "code",
   "execution_count": 140,
   "metadata": {
    "scrolled": true
   },
   "outputs": [
    {
     "name": "stdout",
     "output_type": "stream",
     "text": [
      "<class 'pandas.core.frame.DataFrame'>\n",
      "Int64Index: 11017 entries, 0 to 16859\n",
      "Data columns (total 34 columns):\n",
      " #   Column                                              Non-Null Count  Dtype  \n",
      "---  ------                                              --------------  -----  \n",
      " 0   final.output.concentrate_ag                         11017 non-null  float64\n",
      " 1   final.output.concentrate_pb                         11017 non-null  float64\n",
      " 2   final.output.concentrate_sol                        11017 non-null  float64\n",
      " 3   final.output.concentrate_au                         11017 non-null  float64\n",
      " 4   final.output.recovery                               11017 non-null  float64\n",
      " 5   final.output.tail_ag                                11017 non-null  float64\n",
      " 6   final.output.tail_pb                                11017 non-null  float64\n",
      " 7   final.output.tail_sol                               11017 non-null  float64\n",
      " 8   final.output.tail_au                                11017 non-null  float64\n",
      " 9   primary_cleaner.output.concentrate_ag               11017 non-null  float64\n",
      " 10  primary_cleaner.output.concentrate_pb               11017 non-null  float64\n",
      " 11  primary_cleaner.output.concentrate_sol              11017 non-null  float64\n",
      " 12  primary_cleaner.output.concentrate_au               11017 non-null  float64\n",
      " 13  primary_cleaner.output.tail_ag                      11017 non-null  float64\n",
      " 14  primary_cleaner.output.tail_pb                      11017 non-null  float64\n",
      " 15  primary_cleaner.output.tail_sol                     11017 non-null  float64\n",
      " 16  primary_cleaner.output.tail_au                      11017 non-null  float64\n",
      " 17  rougher.calculation.sulfate_to_au_concentrate       11017 non-null  float64\n",
      " 18  rougher.calculation.floatbank10_sulfate_to_au_feed  11017 non-null  float64\n",
      " 19  rougher.calculation.floatbank11_sulfate_to_au_feed  11017 non-null  float64\n",
      " 20  rougher.calculation.au_pb_ratio                     11017 non-null  float64\n",
      " 21  rougher.output.concentrate_ag                       11017 non-null  float64\n",
      " 22  rougher.output.concentrate_pb                       11017 non-null  float64\n",
      " 23  rougher.output.concentrate_sol                      11017 non-null  float64\n",
      " 24  rougher.output.concentrate_au                       11017 non-null  float64\n",
      " 25  rougher.output.recovery                             11017 non-null  float64\n",
      " 26  rougher.output.tail_ag                              11017 non-null  float64\n",
      " 27  rougher.output.tail_pb                              11017 non-null  float64\n",
      " 28  rougher.output.tail_sol                             11017 non-null  float64\n",
      " 29  rougher.output.tail_au                              11017 non-null  float64\n",
      " 30  secondary_cleaner.output.tail_ag                    11017 non-null  float64\n",
      " 31  secondary_cleaner.output.tail_pb                    11017 non-null  float64\n",
      " 32  secondary_cleaner.output.tail_sol                   11017 non-null  float64\n",
      " 33  secondary_cleaner.output.tail_au                    11017 non-null  float64\n",
      "dtypes: float64(34)\n",
      "memory usage: 2.9 MB\n"
     ]
    }
   ],
   "source": [
    "#Create a loop\n",
    "\n",
    "missing_cols = pd.DataFrame()\n",
    "for col in list(train.columns):\n",
    "    if col not in list(test.columns):\n",
    "        missing_cols[col]=train[col]\n",
    "missing_cols.info()"
   ]
  },
  {
   "cell_type": "markdown",
   "metadata": {},
   "source": [
    "We can see that 34 of the columns that are present in the train set are not in the test set. In more detail, the test set is lacking 13 parameters from the rougher stage, 8 parameters from the primary cleaner stage, 4 parameters from the secondary cleaner stage, and 9 from the final stage."
   ]
  },
  {
   "cell_type": "markdown",
   "metadata": {},
   "source": [
    "### MAE and Recovery"
   ]
  },
  {
   "cell_type": "markdown",
   "metadata": {},
   "source": [
    "Next, we will check whether the recovery is calculated correctly using the formula provided in the project description. We will do this on the training set. We will find the MAE between our calculation and the feature values."
   ]
  },
  {
   "cell_type": "code",
   "execution_count": 141,
   "metadata": {},
   "outputs": [
    {
     "name": "stdout",
     "output_type": "stream",
     "text": [
      "0    87.107763\n",
      "1    86.843261\n",
      "2    86.842308\n",
      "3    87.226430\n",
      "4    86.688794\n",
      "dtype: float64\n",
      "Mean Absolute Error is: 9.460144184559453e-15\n"
     ]
    }
   ],
   "source": [
    "#to calculate recovery rate\n",
    "\n",
    "C = train['rougher.output.concentrate_au']\n",
    "F = train['rougher.input.feed_au']\n",
    "T = train['rougher.output.tail_au']\n",
    "recovery = train['rougher.output.recovery']\n",
    "\n",
    "def recovery_calc(C, F, T):\n",
    "    recovery = ((C * (F - T)) / ((F * (C - T)))) * 100\n",
    "    print(recovery.head())\n",
    "    return recovery\n",
    "\n",
    "calculated_recovery = recovery_calc(C, F, T)\n",
    "\n",
    "MAE = mean_absolute_error(recovery, calculated_recovery)\n",
    "\n",
    "print(\"Mean Absolute Error is:\", MAE)"
   ]
  },
  {
   "cell_type": "markdown",
   "metadata": {},
   "source": [
    "The mean absolute error is insignificant, therefore the rougher.output.recovery values are correct."
   ]
  },
  {
   "cell_type": "markdown",
   "metadata": {},
   "source": [
    "## Data Analysis"
   ]
  },
  {
   "cell_type": "markdown",
   "metadata": {},
   "source": [
    "### Metal Concentration per Stage"
   ]
  },
  {
   "cell_type": "markdown",
   "metadata": {},
   "source": [
    "We will first look at how the concentrations of metals (Au, Ag, Pb) changed depending on the purification stage. "
   ]
  },
  {
   "cell_type": "code",
   "execution_count": 142,
   "metadata": {},
   "outputs": [],
   "source": [
    "#we will create a function so we won't need to repeat the same steps multiple times\n",
    "\n",
    "def plot_pur_stage(data, stage_list):\n",
    "    for stage in stage_list:\n",
    "        data[stage].plot(kind = 'hist', bins = 100, figsize= (8,6), legend = True, alpha = 0.5)\n",
    "        plt.xlabel('Metal Concentration')\n",
    "        "
   ]
  },
  {
   "cell_type": "code",
   "execution_count": 143,
   "metadata": {
    "scrolled": true
   },
   "outputs": [
    {
     "data": {
      "image/png": "[encoded data removed]",
      "text/plain": [
       "<Figure size 576x432 with 1 Axes>"
      ]
     },
     "metadata": {
      "needs_background": "light"
     },
     "output_type": "display_data"
    }
   ],
   "source": [
    "# for Au\n",
    "\n",
    "au = ['rougher.input.feed_au', 'rougher.output.concentrate_au', 'primary_cleaner.output.concentrate_au','secondary_cleaner.output.tail_au','final.output.concentrate_au']\n",
    "plot_pur_stage(train, au)"
   ]
  },
  {
   "cell_type": "code",
   "execution_count": 144,
   "metadata": {},
   "outputs": [
    {
     "data": {
      "image/png": "[encoded data removed]",
      "text/plain": [
       "<Figure size 576x432 with 1 Axes>"
      ]
     },
     "metadata": {
      "needs_background": "light"
     },
     "output_type": "display_data"
    }
   ],
   "source": [
    "# for Ag\n",
    "\n",
    "ag = ['rougher.input.feed_ag', 'rougher.output.concentrate_ag', 'primary_cleaner.output.concentrate_ag','secondary_cleaner.output.tail_ag','final.output.concentrate_ag']\n",
    "plot_pur_stage(train, ag)"
   ]
  },
  {
   "cell_type": "code",
   "execution_count": 145,
   "metadata": {
    "scrolled": true
   },
   "outputs": [
    {
     "data": {
      "image/png": "[encoded data removed]",
      "text/plain": [
       "<Figure size 576x432 with 1 Axes>"
      ]
     },
     "metadata": {
      "needs_background": "light"
     },
     "output_type": "display_data"
    }
   ],
   "source": [
    "#for Pb\n",
    "\n",
    "pb = ['rougher.input.feed_pb', 'rougher.output.concentrate_pb', 'primary_cleaner.output.concentrate_pb','secondary_cleaner.output.tail_pb','final.output.concentrate_pb']\n",
    "plot_pur_stage(train, pb)"
   ]
  },
  {
   "cell_type": "markdown",
   "metadata": {},
   "source": [
    "We can see from the three graphs, the concentration for Gold (Au) gradually increased as it moved towards the final stage of the purification process. Which is what we expected and hoped to see. \n",
    "\n",
    "For silver (Ag) we can see the concentration gradually decreased as the purification process progresses. \n",
    "\n",
    "For lead (Pb), we observe that it has about the same concentration in the final output as compared to the rougher & primary stage. "
   ]
  },
  {
   "cell_type": "markdown",
   "metadata": {},
   "source": [
    "### Feed Particle Size Distribution"
   ]
  },
  {
   "cell_type": "code",
   "execution_count": 146,
   "metadata": {},
   "outputs": [
    {
     "data": {
      "image/png": "[encoded data removed]",
      "text/plain": [
       "<Figure size 432x288 with 1 Axes>"
      ]
     },
     "metadata": {
      "needs_background": "light"
     },
     "output_type": "display_data"
    },
    {
     "name": "stdout",
     "output_type": "stream",
     "text": [
      "The average feed size for train data is: 57.215127655531404\n",
      "The average feed size for test data is: 56.3386442150923\n"
     ]
    }
   ],
   "source": [
    "# plot a histogram \n",
    "\n",
    "plt.hist(train['rougher.input.feed_size'], density = True, alpha = 0.5, label = 'Train Feed Size')\n",
    "plt.hist(test['rougher.input.feed_size'], density = True, alpha = 0.5, label = 'Test Feed Size')\n",
    "plt.xlabel('feed size')\n",
    "plt.ylabel('frequency')\n",
    "plt.title('Feed Particle Size Distribution')\n",
    "plt.show()\n",
    "\n",
    "print('The average feed size for train data is:', train['rougher.input.feed_size'].mean())\n",
    "print('The average feed size for test data is:', test['rougher.input.feed_size'].mean())"
   ]
  },
  {
   "cell_type": "markdown",
   "metadata": {},
   "source": [
    "We see that both dataset has a similar feed size based on the average and the distribution. Therefore our model evaluation will not be incorrect. "
   ]
  },
  {
   "cell_type": "markdown",
   "metadata": {},
   "source": [
    "### Concentration of All Metals at Different Stages"
   ]
  },
  {
   "cell_type": "markdown",
   "metadata": {},
   "source": [
    "To do this, we will take the concentrations of all the metals and group them into different stages."
   ]
  },
  {
   "cell_type": "code",
   "execution_count": 147,
   "metadata": {},
   "outputs": [],
   "source": [
    "#input\n",
    "\n",
    "input_all = ['rougher.input.feed_au', 'rougher.input.feed_ag', 'rougher.input.feed_pb', 'rougher.input.feed_sol']\n",
    "\n",
    "#Rougher\n",
    "\n",
    "rougher_all = ['rougher.output.concentrate_au', 'rougher.output.concentrate_ag', 'rougher.output.concentrate_pb', 'rougher.output.concentrate_sol']\n",
    "\n",
    "#final\n",
    "\n",
    "output_all = ['final.output.concentrate_au', 'final.output.concentrate_ag', 'final.output.concentrate_pb', 'final.output.concentrate_sol']\n",
    "\n",
    "#add all\n",
    "full['input_full'] = full[input_all].sum(axis = 1, skipna = True)\n",
    "full['rougher_full'] = full[rougher_all].sum(axis = 1, skipna = True)\n",
    "full['output_full'] = full[output_all].sum(axis = 1, skipna = True)"
   ]
  },
  {
   "cell_type": "markdown",
   "metadata": {},
   "source": [
    "We will then plot them using histogram. "
   ]
  },
  {
   "cell_type": "code",
   "execution_count": 148,
   "metadata": {},
   "outputs": [
    {
     "data": {
      "image/png": "[encoded data removed]",
      "text/plain": [
       "<Figure size 432x288 with 1 Axes>"
      ]
     },
     "metadata": {
      "needs_background": "light"
     },
     "output_type": "display_data"
    }
   ],
   "source": [
    "# for all inputs\n",
    "\n",
    "full['input_full'].hist(bins = 50, label = 'Input Concentrates')\n",
    "plt.title('Total Input Concentrate')\n",
    "plt.xlabel('Total Concentrate')\n",
    "plt.ylabel('Frequency')\n",
    "plt.show()"
   ]
  },
  {
   "cell_type": "code",
   "execution_count": 149,
   "metadata": {},
   "outputs": [
    {
     "data": {
      "image/png": "[encoded data removed]",
      "text/plain": [
       "<Figure size 432x288 with 1 Axes>"
      ]
     },
     "metadata": {
      "needs_background": "light"
     },
     "output_type": "display_data"
    }
   ],
   "source": [
    "# for all Roughers\n",
    "\n",
    "full['rougher_full'].hist(bins = 50, label = 'Rougher Concentrates')\n",
    "plt.title('Total Rougher Concentrate')\n",
    "plt.xlabel('Total Concentrate')\n",
    "plt.ylabel('Frequency')\n",
    "plt.show()"
   ]
  },
  {
   "cell_type": "code",
   "execution_count": 150,
   "metadata": {},
   "outputs": [
    {
     "data": {
      "image/png": "[encoded data removed]",
      "text/plain": [
       "<Figure size 432x288 with 1 Axes>"
      ]
     },
     "metadata": {
      "needs_background": "light"
     },
     "output_type": "display_data"
    }
   ],
   "source": [
    "# for all outputs\n",
    "\n",
    "full['output_full'].hist(bins = 50, label = 'Output Concentrates')\n",
    "plt.title('Total Output Concentrate')\n",
    "plt.xlabel('Total Concentrate')\n",
    "plt.ylabel('Frequency')\n",
    "plt.show()"
   ]
  },
  {
   "cell_type": "markdown",
   "metadata": {},
   "source": [
    "We see that even by dropping the missing values, the distribution is slightly skewed to the right with several outliers. We should remove those outliers to train our model better.  "
   ]
  },
  {
   "cell_type": "code",
   "execution_count": 151,
   "metadata": {},
   "outputs": [
    {
     "name": "stdout",
     "output_type": "stream",
     "text": [
      "(16094, 90)\n",
      "(14367, 90)\n"
     ]
    }
   ],
   "source": [
    "#removing outliers by using iqr remove outliers that are outside of the range\n",
    "\n",
    "from collections import defaultdict\n",
    "def remove_outlier(dataframe_in, col):\n",
    "    fence_map = defaultdict(list)\n",
    "    for name in col:\n",
    "        q1 = dataframe_in[name].quantile(0.25)\n",
    "        q3 = dataframe_in[name].quantile(0.75)\n",
    "        iqr = q3 - q1\n",
    "        low = q1 - 1.5 * iqr\n",
    "        high = q3 + 1.5 * iqr\n",
    "        fence_map[name] = (low, high)\n",
    "    dataframe_out = dataframe_in\n",
    "    for k, v in fence_map.items():\n",
    "        dataframe_out = dataframe_out.loc[(dataframe_out[k] > v[0]) & (dataframe_out[k] < v[1])]\n",
    "        \n",
    "    return dataframe_out\n",
    "    \n",
    "parameters = ['input_full', 'output_full', 'rougher_full']\n",
    "\n",
    "print(full.shape)\n",
    "\n",
    "full_no_out = remove_outlier(full, parameters)\n",
    "print(full_no_out.shape)"
   ]
  },
  {
   "cell_type": "code",
   "execution_count": 152,
   "metadata": {
    "scrolled": true
   },
   "outputs": [
    {
     "data": {
      "image/png": "[encoded data removed]",
      "text/plain": [
       "<Figure size 432x288 with 1 Axes>"
      ]
     },
     "metadata": {
      "needs_background": "light"
     },
     "output_type": "display_data"
    }
   ],
   "source": [
    "full_no_out['input_full'].hist(bins = 50, label = 'Input Concentrates')\n",
    "plt.title('Total Input Concentrate')\n",
    "plt.xlabel('Total Concentrate')\n",
    "plt.ylabel('Frequency')\n",
    "plt.show()"
   ]
  },
  {
   "cell_type": "code",
   "execution_count": 153,
   "metadata": {},
   "outputs": [
    {
     "data": {
      "image/png": "[encoded data removed]",
      "text/plain": [
       "<Figure size 432x288 with 1 Axes>"
      ]
     },
     "metadata": {
      "needs_background": "light"
     },
     "output_type": "display_data"
    }
   ],
   "source": [
    "# for all Roughers\n",
    "\n",
    "full_no_out['rougher_full'].hist(bins = 50, label = 'Rougher Concentrates')\n",
    "plt.title('Total Rougher Concentrate')\n",
    "plt.xlabel('Total Concentrate')\n",
    "plt.ylabel('Frequency')\n",
    "plt.show()"
   ]
  },
  {
   "cell_type": "code",
   "execution_count": 154,
   "metadata": {},
   "outputs": [
    {
     "data": {
      "image/png": "[encoded data removed]",
      "text/plain": [
       "<Figure size 432x288 with 1 Axes>"
      ]
     },
     "metadata": {
      "needs_background": "light"
     },
     "output_type": "display_data"
    }
   ],
   "source": [
    "# for all outputs\n",
    "\n",
    "full_no_out['output_full'].hist(bins = 50, label = 'Output Concentrates')\n",
    "plt.title('Total Output Concentrate')\n",
    "plt.xlabel('Total Concentrate')\n",
    "plt.ylabel('Frequency')\n",
    "plt.show()"
   ]
  },
  {
   "cell_type": "markdown",
   "metadata": {},
   "source": [
    "After the removal of outliers, the distributions look better than before. We will proceed with the training and test set, removing outliers the same way for better model training. "
   ]
  },
  {
   "cell_type": "code",
   "execution_count": 155,
   "metadata": {
    "scrolled": true
   },
   "outputs": [
    {
     "name": "stdout",
     "output_type": "stream",
     "text": [
      "(11017, 90)\n",
      "(9857, 90)\n"
     ]
    }
   ],
   "source": [
    "#remove outliers for train\n",
    "train['input_full'] = train[input_all].sum(axis = 1, skipna = True)\n",
    "train['rougher_full'] = train[rougher_all].sum(axis = 1, skipna = True)\n",
    "train['output_full'] = train[output_all].sum(axis = 1, skipna = True)\n",
    "\n",
    "parameters = ['input_full', 'output_full', 'rougher_full']\n",
    "\n",
    "print(train.shape)\n",
    "\n",
    "train_no_out = remove_outlier(train, parameters)\n",
    "print(train_no_out.shape)"
   ]
  },
  {
   "cell_type": "markdown",
   "metadata": {},
   "source": [
    "Since the test sets are missing a few features, and some of them that we will need, including:\n",
    "\n",
    "- 'rougher.output.recovery',\n",
    "- 'final.output.recovery', \n",
    "- 'rougher.output.concentrate_au', \n",
    "- 'rougher.output.concentrate_ag',\n",
    "- 'rougher.output.concentrate_pb', \n",
    "- 'rougher.output.concentrate_sol', \n",
    "- 'final.output.concentrate_au', \n",
    "- 'final.output.concentrate_ag', \n",
    "- 'final.output.concentrate_pb', \n",
    "- 'final.output.concentrate_sol' \n",
    "\n",
    "We can obtain these information from the full set. "
   ]
  },
  {
   "cell_type": "code",
   "execution_count": 156,
   "metadata": {},
   "outputs": [
    {
     "data": {
      "text/plain": [
       "(5077, 63)"
      ]
     },
     "execution_count": 156,
     "metadata": {},
     "output_type": "execute_result"
    }
   ],
   "source": [
    "#collect columns and info from full set\n",
    "\n",
    "subset = ['date', 'rougher.output.recovery', 'final.output.recovery', 'rougher.output.concentrate_au', \n",
    "          'rougher.output.concentrate_ag', 'rougher.output.concentrate_pb', 'rougher.output.concentrate_sol',\n",
    "         'final.output.concentrate_au', 'final.output.concentrate_ag', 'final.output.concentrate_pb',\n",
    "          'final.output.concentrate_sol']\n",
    "\n",
    "sub_full = full.loc[:, list(subset)]\n",
    "sub_full.head()\n",
    "\n",
    "#merge to test set by date\n",
    "\n",
    "test_new = test.merge(sub_full, on = 'date')\n",
    "test_new.shape"
   ]
  },
  {
   "cell_type": "code",
   "execution_count": 157,
   "metadata": {},
   "outputs": [
    {
     "name": "stdout",
     "output_type": "stream",
     "text": [
      "(5077, 66)\n",
      "(4568, 66)\n"
     ]
    }
   ],
   "source": [
    "#remove outliers for test\n",
    "\n",
    "test_new['input_full'] = test_new[input_all].sum(axis = 1, skipna = True)\n",
    "test_new['rougher_full'] = test_new[rougher_all].sum(axis = 1, skipna = True)\n",
    "test_new['output_full'] = test_new[output_all].sum(axis = 1, skipna = True)\n",
    "\n",
    "parameters = ['input_full', 'output_full', 'rougher_full']\n",
    "\n",
    "print(test_new.shape)\n",
    "\n",
    "test_no_out = remove_outlier(test_new, parameters)\n",
    "print(test_no_out.shape)"
   ]
  },
  {
   "cell_type": "code",
   "execution_count": 158,
   "metadata": {},
   "outputs": [
    {
     "name": "stdout",
     "output_type": "stream",
     "text": [
      "(9857, 87)\n",
      "(4568, 63)\n"
     ]
    }
   ],
   "source": [
    "#drop the four columns that we no longer need\n",
    "train_no_out = train_no_out.drop(['input_full', 'rougher_full', 'output_full'], axis = 1)\n",
    "\n",
    "print(train_no_out.shape)\n",
    "\n",
    "test_no_out = test_no_out.drop(['input_full', 'rougher_full', 'output_full'], axis = 1)\n",
    "\n",
    "print(test_no_out.shape)"
   ]
  },
  {
   "cell_type": "code",
   "execution_count": 161,
   "metadata": {},
   "outputs": [
    {
     "name": "stdout",
     "output_type": "stream",
     "text": [
      "(9857, 2) (4568, 2) (9857, 52) (4568, 52)\n"
     ]
    }
   ],
   "source": [
    "#to keep consistency, we will use only the columns that are present in the test set(without any output features) as features. \n",
    "\n",
    "train_targets = train_no_out[['rougher.output.recovery', 'final.output.recovery']]\n",
    "train_features = train_no_out.loc[:, list(test.columns)]\n",
    "train_features = train_features.drop(['date'], axis = 1)\n",
    "\n",
    "test_targets = test_no_out[['rougher.output.recovery', 'final.output.recovery']]\n",
    "test_features = test_no_out.loc[:, list(test.columns)]\n",
    "test_features = test_features.drop(['date'], axis = 1)\n",
    "                                        \n",
    "print(train_targets.shape,\n",
    "      test_targets.shape,\n",
    "train_features.shape,\n",
    "     test_features.shape)"
   ]
  },
  {
   "cell_type": "markdown",
   "metadata": {},
   "source": [
    "We analyzed metal concentration through different stages, calculated that there is no significant difference between the particle feed size. And checked the total concentration. Lastly, we eliminated outliers by using the IQR. "
   ]
  },
  {
   "cell_type": "markdown",
   "metadata": {},
   "source": [
    "## Model Development and Training"
   ]
  },
  {
   "cell_type": "markdown",
   "metadata": {},
   "source": [
    "We first will write a function to calculate sMAPE, since this will be repeated by different models to save time. "
   ]
  },
  {
   "cell_type": "code",
   "execution_count": 162,
   "metadata": {},
   "outputs": [],
   "source": [
    "#function for sMAPE\n",
    "\n",
    "def smape_calc(x, y):\n",
    "    smape_rough = (np.mean((np.abs(x.iloc[:,0] - y[:, 0]) /\n",
    "                              ((np.abs(x.iloc[:,0]) + np.abs(y[:,0])) / 2))) * 100)\n",
    "    smape_final = (np.mean((np.abs(x.iloc[:,1] - y[:, 1]) /\\\n",
    "                            ((np.abs(x.iloc[:,1]) + np.abs(y[:,1])) / 2))) * 100)\n",
    "    \n",
    "    final_smape = 0.25 * smape_rough + 0.75 * smape_final\n",
    "    \n",
    "    return final_smape\n"
   ]
  },
  {
   "cell_type": "markdown",
   "metadata": {},
   "source": [
    "### Before Model Training"
   ]
  },
  {
   "cell_type": "code",
   "execution_count": 163,
   "metadata": {},
   "outputs": [],
   "source": [
    "#Create scorer\n",
    "\n",
    "smape_scorer = make_scorer(smape_calc, greater_is_better = False)\n",
    "\n",
    "#Scale\n",
    "\n",
    "scaler = StandardScaler()\n",
    "train_features = scaler.fit_transform(train_features)\n",
    "test_features = scaler.transform(test_features)"
   ]
  },
  {
   "cell_type": "markdown",
   "metadata": {},
   "source": [
    "### Decision Tree Model"
   ]
  },
  {
   "cell_type": "code",
   "execution_count": 204,
   "metadata": {
    "scrolled": true
   },
   "outputs": [
    {
     "name": "stdout",
     "output_type": "stream",
     "text": [
      "Max_depth of 1 with sMAPE score of: 7.340366904400247\n",
      "Max_depth of 2 with sMAPE score of: 7.322338251762142\n",
      "Max_depth of 3 with sMAPE score of: 8.45811058746149\n",
      "Max_depth of 4 with sMAPE score of: 9.129890989418044\n",
      "Max_depth of 5 with sMAPE score of: 10.029879197239648\n",
      "Max_depth of 6 with sMAPE score of: 9.392748990917386\n",
      "Max_depth of 7 with sMAPE score of: 9.962765844673129\n",
      "Max_depth of 8 with sMAPE score of: 10.57702341735659\n",
      "Max_depth of 9 with sMAPE score of: 11.346055435472518\n",
      "Max_depth of 10 with sMAPE score of: 11.25420183765315\n"
     ]
    }
   ],
   "source": [
    "#To find the best output\n",
    "\n",
    "for depth in range(1, 11):\n",
    "    tree_model = DecisionTreeRegressor(max_depth = depth, random_state = 12345)\n",
    "    tree_smape = cross_val_score(tree_model, train_features, train_targets, scoring = smape_scorer, cv = 5)\n",
    "    print('Max_depth of', depth, 'with sMAPE score of:', tree_smape.mean())"
   ]
  },
  {
   "cell_type": "markdown",
   "metadata": {},
   "source": [
    "It seems that max_depth of 2 gives us the lowest sMAPE score."
   ]
  },
  {
   "cell_type": "markdown",
   "metadata": {},
   "source": [
    "### Random Forest Model"
   ]
  },
  {
   "cell_type": "code",
   "execution_count": 210,
   "metadata": {
    "scrolled": true
   },
   "outputs": [
    {
     "name": "stdout",
     "output_type": "stream",
     "text": [
      "Max_depth of 1 with sMAPE score of: 7.262801090658236\n",
      "Max_depth of 2 with sMAPE score of: 7.306168317060639\n",
      "Max_depth of 3 with sMAPE score of: 7.8360869954496035\n",
      "Max_depth of 4 with sMAPE score of: 7.813423940596417\n",
      "Max_depth of 5 with sMAPE score of: 7.8108973509234945\n",
      "Max_depth of 6 with sMAPE score of: 7.813435510578725\n",
      "Max_depth of 7 with sMAPE score of: 7.862658867537069\n",
      "Max_depth of 8 with sMAPE score of: 7.978800300646429\n",
      "Max_depth of 9 with sMAPE score of: 7.899045987213182\n",
      "Max_depth of 10 with sMAPE score of: 7.956177879038323\n"
     ]
    }
   ],
   "source": [
    "#find the best output\n",
    "for depth in range(1, 11):\n",
    "    forest_model = RandomForestRegressor(max_depth = depth, random_state = 12345)\n",
    "    forest_smape = cross_val_score(forest_model, train_features, train_targets, scoring = smape_scorer, cv = 5)\n",
    "    print('Max_depth of', depth, 'with sMAPE score of:', forest_smape.mean())"
   ]
  },
  {
   "cell_type": "markdown",
   "metadata": {},
   "source": [
    "It appears that a max_depth of 1 gave us the lowest sMAPE score. "
   ]
  },
  {
   "cell_type": "markdown",
   "metadata": {},
   "source": [
    "### Linear Regression Model"
   ]
  },
  {
   "cell_type": "code",
   "execution_count": 212,
   "metadata": {},
   "outputs": [
    {
     "name": "stdout",
     "output_type": "stream",
     "text": [
      "The sMAPE score for Linear model is: 7.7011730936812\n"
     ]
    }
   ],
   "source": [
    "linear_model = LinearRegression()\n",
    "linear_smape = cross_val_score(linear_model, train_features, train_targets, scoring = smape_scorer, cv = 5)\n",
    "print('The sMAPE score for Linear model is:', linear_smape.mean())"
   ]
  },
  {
   "cell_type": "markdown",
   "metadata": {},
   "source": [
    "### Final Testing"
   ]
  },
  {
   "cell_type": "markdown",
   "metadata": {},
   "source": [
    "Since our random_forest model with a max_depth of 1 gave us the lowest sMAPE score, we will use that."
   ]
  },
  {
   "cell_type": "code",
   "execution_count": 215,
   "metadata": {},
   "outputs": [
    {
     "name": "stdout",
     "output_type": "stream",
     "text": [
      "sMAPE score of the final model is: 6.530457654850632\n"
     ]
    }
   ],
   "source": [
    "# randomforest\n",
    "\n",
    "final_model = RandomForestRegressor(max_depth = 1, random_state = 12345)\n",
    "final_model.fit(train_features, train_targets)\n",
    "predictions = final_model.predict(test_features)\n",
    "print('sMAPE score of the final model is:', smape_calc(test_targets, predictions))\n"
   ]
  },
  {
   "cell_type": "markdown",
   "metadata": {},
   "source": [
    "Our RandomForest model did better on the test set, with a sMAPE score of 6.53%. "
   ]
  },
  {
   "cell_type": "code",
   "execution_count": 171,
   "metadata": {},
   "outputs": [
    {
     "name": "stdout",
     "output_type": "stream",
     "text": [
      "sMAPE for dummy model using test dataset is: 6.8986931040557975\n"
     ]
    }
   ],
   "source": [
    "#constant model\n",
    "\n",
    "from sklearn.dummy import DummyRegressor\n",
    "\n",
    "dummy_model = DummyRegressor(strategy = 'mean')\n",
    "dummy_model.fit(train_features, train_targets)\n",
    "dummy_prediction = dummy_model.predict(test_features)\n",
    "\n",
    "print('sMAPE for dummy model using test dataset is:', smape_calc(test_targets, dummy_prediction))"
   ]
  },
  {
   "cell_type": "markdown",
   "metadata": {},
   "source": [
    "The sMAPE for a dummy model using test dataset is 6.89%. Our RandomForest model did slightly better in terms of lower sMAPE scores."
   ]
  },
  {
   "cell_type": "markdown",
   "metadata": {},
   "source": [
    "## Conclusion"
   ]
  },
  {
   "cell_type": "markdown",
   "metadata": {},
   "source": [
    "We performed several processes to prepare the data for model training. We first dropped missing values in the dataset, we also check to see whether there are some features not available in the test set, we then onverted date column to datetime objects. We finally create the targets with rougher.output.recovery and final.output.recovery to determine the final sMAPE.\n",
    "\n",
    "We then analyzed the metal concentration at each purification stages and found that Gold concentration is highest at the final stage. While lead does not change much, and silver is the highest at the begining of the process. We then analyzed the particle feed size and found them to be pretty consistent. \n",
    "\n",
    "Lastly, we trained several models and found that random forest model with max_depth of 1 worked the best. And we obtained a sMAPE score of 6.53% for our final model fitting. We then did a sanity check with a dummymodel that predicts the mean of the train set targets, we obtain a sMAPE score of 6.89%. Our model did a slight better job than the constant model. "
   ]
  }
 ],
 "metadata": {
  "ExecuteTimeLog": [
   {
    "duration": 1566,
    "start_time": "2022-07-22T16:36:09.707Z"
   },
   {
    "duration": 4,
    "start_time": "2022-07-22T16:36:28.388Z"
   },
   {
    "duration": 1340,
    "start_time": "2022-07-22T16:38:54.846Z"
   },
   {
    "duration": 42,
    "start_time": "2022-07-22T16:39:34.889Z"
   },
   {
    "duration": 41,
    "start_time": "2022-07-22T16:40:38.937Z"
   },
   {
    "duration": 22,
    "start_time": "2022-07-22T16:41:28.751Z"
   },
   {
    "duration": 32,
    "start_time": "2022-07-22T16:48:28.939Z"
   },
   {
    "duration": 121,
    "start_time": "2022-07-22T16:48:47.941Z"
   },
   {
    "duration": 89,
    "start_time": "2022-07-22T16:50:31.545Z"
   },
   {
    "duration": 24,
    "start_time": "2022-07-22T16:50:47.739Z"
   },
   {
    "duration": 35,
    "start_time": "2022-07-22T16:52:58.537Z"
   },
   {
    "duration": 33,
    "start_time": "2022-07-22T16:53:19.573Z"
   },
   {
    "duration": 30,
    "start_time": "2022-07-22T16:55:14.305Z"
   },
   {
    "duration": 30,
    "start_time": "2022-07-22T16:55:38.308Z"
   },
   {
    "duration": 27,
    "start_time": "2022-07-22T16:55:54.418Z"
   },
   {
    "duration": 4,
    "start_time": "2022-07-22T17:01:23.300Z"
   },
   {
    "duration": 812,
    "start_time": "2022-07-22T17:01:23.306Z"
   },
   {
    "duration": 40,
    "start_time": "2022-07-22T17:01:24.121Z"
   },
   {
    "duration": 47,
    "start_time": "2022-07-22T17:01:24.163Z"
   },
   {
    "duration": 19,
    "start_time": "2022-07-22T17:01:24.212Z"
   },
   {
    "duration": 15,
    "start_time": "2022-07-22T17:01:24.233Z"
   },
   {
    "duration": 61,
    "start_time": "2022-07-22T17:01:24.250Z"
   },
   {
    "duration": 49,
    "start_time": "2022-07-22T17:01:48.748Z"
   },
   {
    "duration": 30,
    "start_time": "2022-07-22T17:02:02.892Z"
   },
   {
    "duration": 33,
    "start_time": "2022-07-22T17:05:42.879Z"
   },
   {
    "duration": 4,
    "start_time": "2022-07-22T17:12:40.745Z"
   },
   {
    "duration": 754,
    "start_time": "2022-07-22T17:12:40.751Z"
   },
   {
    "duration": 33,
    "start_time": "2022-07-22T17:12:41.507Z"
   },
   {
    "duration": 28,
    "start_time": "2022-07-22T17:12:41.542Z"
   },
   {
    "duration": 45,
    "start_time": "2022-07-22T17:12:41.572Z"
   },
   {
    "duration": 16,
    "start_time": "2022-07-22T17:12:41.618Z"
   },
   {
    "duration": 42,
    "start_time": "2022-07-22T17:12:41.636Z"
   },
   {
    "duration": 38,
    "start_time": "2022-07-22T17:12:41.679Z"
   },
   {
    "duration": 9,
    "start_time": "2022-07-22T17:24:07.556Z"
   },
   {
    "duration": 4,
    "start_time": "2022-07-22T17:31:54.810Z"
   },
   {
    "duration": 2610,
    "start_time": "2022-07-22T17:33:58.290Z"
   },
   {
    "duration": 2745,
    "start_time": "2022-07-22T17:34:27.996Z"
   },
   {
    "duration": 2319,
    "start_time": "2022-07-22T17:37:50.212Z"
   },
   {
    "duration": 2023,
    "start_time": "2022-07-22T17:38:40.231Z"
   },
   {
    "duration": 1080,
    "start_time": "2022-07-22T17:39:06.841Z"
   },
   {
    "duration": 1138,
    "start_time": "2022-07-22T17:41:24.755Z"
   },
   {
    "duration": 1227,
    "start_time": "2022-07-22T17:42:15.144Z"
   },
   {
    "duration": 72,
    "start_time": "2022-07-22T17:42:47.660Z"
   },
   {
    "duration": 78,
    "start_time": "2022-07-22T17:42:53.118Z"
   },
   {
    "duration": 3,
    "start_time": "2022-07-22T17:43:00.651Z"
   },
   {
    "duration": 1102,
    "start_time": "2022-07-22T17:43:02.338Z"
   },
   {
    "duration": 1121,
    "start_time": "2022-07-22T17:43:56.703Z"
   },
   {
    "duration": 1220,
    "start_time": "2022-07-22T17:44:49.874Z"
   },
   {
    "duration": 1281,
    "start_time": "2022-07-22T18:30:42.466Z"
   },
   {
    "duration": 229,
    "start_time": "2022-07-22T18:30:56.048Z"
   },
   {
    "duration": 290,
    "start_time": "2022-07-22T18:31:52.806Z"
   },
   {
    "duration": 289,
    "start_time": "2022-07-22T18:32:18.226Z"
   },
   {
    "duration": 81,
    "start_time": "2022-07-22T18:34:06.581Z"
   },
   {
    "duration": 318,
    "start_time": "2022-07-22T18:34:14.329Z"
   },
   {
    "duration": 13,
    "start_time": "2022-07-22T18:43:58.566Z"
   },
   {
    "duration": 12,
    "start_time": "2022-07-22T18:44:11.954Z"
   },
   {
    "duration": 508,
    "start_time": "2022-07-22T18:45:29.750Z"
   },
   {
    "duration": 11,
    "start_time": "2022-07-22T18:46:38.254Z"
   },
   {
    "duration": 232,
    "start_time": "2022-07-22T18:46:40.194Z"
   },
   {
    "duration": 9,
    "start_time": "2022-07-22T18:46:54.885Z"
   },
   {
    "duration": 225,
    "start_time": "2022-07-22T18:47:24.418Z"
   },
   {
    "duration": 211,
    "start_time": "2022-07-22T18:48:18.727Z"
   },
   {
    "duration": 210,
    "start_time": "2022-07-22T18:49:07.216Z"
   },
   {
    "duration": 4,
    "start_time": "2022-07-22T19:23:06.804Z"
   },
   {
    "duration": 723,
    "start_time": "2022-07-22T19:23:06.810Z"
   },
   {
    "duration": 35,
    "start_time": "2022-07-22T19:23:07.535Z"
   },
   {
    "duration": 46,
    "start_time": "2022-07-22T19:23:07.571Z"
   },
   {
    "duration": 18,
    "start_time": "2022-07-22T19:23:07.618Z"
   },
   {
    "duration": 15,
    "start_time": "2022-07-22T19:23:07.638Z"
   },
   {
    "duration": 56,
    "start_time": "2022-07-22T19:23:07.655Z"
   },
   {
    "duration": 31,
    "start_time": "2022-07-22T19:23:07.713Z"
   },
   {
    "duration": 8,
    "start_time": "2022-07-22T19:23:07.745Z"
   },
   {
    "duration": 4,
    "start_time": "2022-07-22T19:23:07.755Z"
   },
   {
    "duration": 1170,
    "start_time": "2022-07-22T19:23:07.761Z"
   },
   {
    "duration": 1065,
    "start_time": "2022-07-22T19:23:08.933Z"
   },
   {
    "duration": 1064,
    "start_time": "2022-07-22T19:23:10.004Z"
   },
   {
    "duration": 435,
    "start_time": "2022-07-22T19:23:11.070Z"
   },
   {
    "duration": 23,
    "start_time": "2022-07-22T19:23:11.507Z"
   },
   {
    "duration": 226,
    "start_time": "2022-07-22T19:23:11.532Z"
   },
   {
    "duration": 193,
    "start_time": "2022-07-22T19:23:11.760Z"
   },
   {
    "duration": 220,
    "start_time": "2022-07-22T19:23:11.955Z"
   },
   {
    "duration": 5,
    "start_time": "2022-07-22T19:23:12.177Z"
   },
   {
    "duration": 16,
    "start_time": "2022-07-22T19:24:24.488Z"
   },
   {
    "duration": 23,
    "start_time": "2022-07-22T19:24:37.616Z"
   },
   {
    "duration": 30,
    "start_time": "2022-07-22T19:25:19.664Z"
   },
   {
    "duration": 16,
    "start_time": "2022-07-22T19:25:54.419Z"
   },
   {
    "duration": 21,
    "start_time": "2022-07-22T19:26:43.842Z"
   },
   {
    "duration": 215,
    "start_time": "2022-07-22T19:28:00.009Z"
   },
   {
    "duration": 195,
    "start_time": "2022-07-22T19:28:16.913Z"
   },
   {
    "duration": 197,
    "start_time": "2022-07-22T19:28:55.147Z"
   },
   {
    "duration": 78,
    "start_time": "2022-07-22T19:42:27.743Z"
   },
   {
    "duration": 117,
    "start_time": "2022-07-22T19:43:46.959Z"
   },
   {
    "duration": 14,
    "start_time": "2022-07-22T19:44:58.516Z"
   },
   {
    "duration": 24,
    "start_time": "2022-07-22T19:48:53.237Z"
   },
   {
    "duration": 1327,
    "start_time": "2022-07-22T19:49:36.610Z"
   },
   {
    "duration": 10,
    "start_time": "2022-07-22T19:51:03.205Z"
   },
   {
    "duration": 21,
    "start_time": "2022-07-22T19:51:13.922Z"
   },
   {
    "duration": 39,
    "start_time": "2022-07-22T19:52:28.756Z"
   },
   {
    "duration": 25,
    "start_time": "2022-07-22T19:53:29.311Z"
   },
   {
    "duration": 22,
    "start_time": "2022-07-22T19:54:02.153Z"
   },
   {
    "duration": 18,
    "start_time": "2022-07-22T19:54:51.800Z"
   },
   {
    "duration": 16,
    "start_time": "2022-07-22T19:59:16.995Z"
   },
   {
    "duration": 21,
    "start_time": "2022-07-22T20:00:06.216Z"
   },
   {
    "duration": 16,
    "start_time": "2022-07-22T20:00:40.484Z"
   },
   {
    "duration": 15,
    "start_time": "2022-07-22T20:00:50.798Z"
   },
   {
    "duration": 14,
    "start_time": "2022-07-22T20:01:59.880Z"
   },
   {
    "duration": 18,
    "start_time": "2022-07-22T20:03:01.831Z"
   },
   {
    "duration": 25,
    "start_time": "2022-07-22T20:03:33.140Z"
   },
   {
    "duration": 9,
    "start_time": "2022-07-22T20:06:56.954Z"
   },
   {
    "duration": 9,
    "start_time": "2022-07-22T20:14:21.875Z"
   },
   {
    "duration": 7,
    "start_time": "2022-07-22T20:14:32.245Z"
   },
   {
    "duration": 17,
    "start_time": "2022-07-22T20:17:26.048Z"
   },
   {
    "duration": 9,
    "start_time": "2022-07-22T20:19:10.803Z"
   },
   {
    "duration": 13,
    "start_time": "2022-07-22T20:20:03.266Z"
   },
   {
    "duration": 4,
    "start_time": "2022-07-22T20:29:19.622Z"
   },
   {
    "duration": 96,
    "start_time": "2022-07-22T20:34:25.537Z"
   },
   {
    "duration": 3,
    "start_time": "2022-07-22T20:36:08.482Z"
   },
   {
    "duration": 783,
    "start_time": "2022-07-22T20:36:08.487Z"
   },
   {
    "duration": 46,
    "start_time": "2022-07-22T20:36:09.272Z"
   },
   {
    "duration": 30,
    "start_time": "2022-07-22T20:36:09.319Z"
   },
   {
    "duration": 17,
    "start_time": "2022-07-22T20:36:09.351Z"
   },
   {
    "duration": 37,
    "start_time": "2022-07-22T20:36:09.369Z"
   },
   {
    "duration": 33,
    "start_time": "2022-07-22T20:36:09.408Z"
   },
   {
    "duration": 32,
    "start_time": "2022-07-22T20:36:09.443Z"
   },
   {
    "duration": 30,
    "start_time": "2022-07-22T20:36:09.476Z"
   },
   {
    "duration": 4,
    "start_time": "2022-07-22T20:36:09.508Z"
   },
   {
    "duration": 1068,
    "start_time": "2022-07-22T20:36:09.514Z"
   },
   {
    "duration": 1106,
    "start_time": "2022-07-22T20:36:10.584Z"
   },
   {
    "duration": 1186,
    "start_time": "2022-07-22T20:36:11.692Z"
   },
   {
    "duration": 310,
    "start_time": "2022-07-22T20:36:12.880Z"
   },
   {
    "duration": 32,
    "start_time": "2022-07-22T20:36:13.192Z"
   },
   {
    "duration": 220,
    "start_time": "2022-07-22T20:36:13.225Z"
   },
   {
    "duration": 204,
    "start_time": "2022-07-22T20:36:13.446Z"
   },
   {
    "duration": 225,
    "start_time": "2022-07-22T20:36:13.652Z"
   },
   {
    "duration": 34,
    "start_time": "2022-07-22T20:36:13.879Z"
   },
   {
    "duration": 208,
    "start_time": "2022-07-22T20:36:13.914Z"
   },
   {
    "duration": 213,
    "start_time": "2022-07-22T20:36:14.124Z"
   },
   {
    "duration": 358,
    "start_time": "2022-07-22T20:36:14.338Z"
   },
   {
    "duration": 34,
    "start_time": "2022-07-22T20:36:14.698Z"
   },
   {
    "duration": 12,
    "start_time": "2022-07-22T20:36:14.734Z"
   },
   {
    "duration": 23,
    "start_time": "2022-07-22T20:36:14.747Z"
   },
   {
    "duration": 8,
    "start_time": "2022-07-22T20:36:14.772Z"
   },
   {
    "duration": 12,
    "start_time": "2022-07-22T20:36:14.804Z"
   },
   {
    "duration": 8,
    "start_time": "2022-07-22T20:36:14.817Z"
   },
   {
    "duration": 23,
    "start_time": "2022-07-22T20:36:14.827Z"
   },
   {
    "duration": 19,
    "start_time": "2022-07-22T20:37:09.464Z"
   },
   {
    "duration": 3,
    "start_time": "2022-07-22T20:39:22.108Z"
   },
   {
    "duration": 11,
    "start_time": "2022-07-22T20:43:53.012Z"
   },
   {
    "duration": 20,
    "start_time": "2022-07-22T20:44:01.962Z"
   },
   {
    "duration": 11,
    "start_time": "2022-07-22T20:45:13.807Z"
   },
   {
    "duration": 18,
    "start_time": "2022-07-22T20:45:18.250Z"
   },
   {
    "duration": 5,
    "start_time": "2022-07-22T20:48:56.248Z"
   },
   {
    "duration": 11,
    "start_time": "2022-07-22T20:48:58.989Z"
   },
   {
    "duration": 19,
    "start_time": "2022-07-22T20:49:00.905Z"
   },
   {
    "duration": 5,
    "start_time": "2022-07-22T20:52:07.450Z"
   },
   {
    "duration": 4,
    "start_time": "2022-07-22T20:52:41.419Z"
   },
   {
    "duration": 11,
    "start_time": "2022-07-22T20:52:43.507Z"
   },
   {
    "duration": 17,
    "start_time": "2022-07-22T20:52:47.397Z"
   },
   {
    "duration": 17,
    "start_time": "2022-07-22T20:53:10.946Z"
   },
   {
    "duration": 13,
    "start_time": "2022-07-22T20:55:16.756Z"
   },
   {
    "duration": 15,
    "start_time": "2022-07-22T20:55:22.823Z"
   },
   {
    "duration": 15,
    "start_time": "2022-07-22T20:55:45.672Z"
   },
   {
    "duration": 12,
    "start_time": "2022-07-22T21:01:07.882Z"
   },
   {
    "duration": 4,
    "start_time": "2022-07-22T21:01:19.591Z"
   },
   {
    "duration": 729,
    "start_time": "2022-07-22T21:01:19.597Z"
   },
   {
    "duration": 36,
    "start_time": "2022-07-22T21:01:20.327Z"
   },
   {
    "duration": 46,
    "start_time": "2022-07-22T21:01:20.365Z"
   },
   {
    "duration": 18,
    "start_time": "2022-07-22T21:01:20.414Z"
   },
   {
    "duration": 16,
    "start_time": "2022-07-22T21:01:20.434Z"
   },
   {
    "duration": 58,
    "start_time": "2022-07-22T21:01:20.451Z"
   },
   {
    "duration": 33,
    "start_time": "2022-07-22T21:01:20.511Z"
   },
   {
    "duration": 8,
    "start_time": "2022-07-22T21:01:20.546Z"
   },
   {
    "duration": 6,
    "start_time": "2022-07-22T21:01:20.556Z"
   },
   {
    "duration": 1082,
    "start_time": "2022-07-22T21:01:20.565Z"
   },
   {
    "duration": 1066,
    "start_time": "2022-07-22T21:01:21.649Z"
   },
   {
    "duration": 1170,
    "start_time": "2022-07-22T21:01:22.721Z"
   },
   {
    "duration": 295,
    "start_time": "2022-07-22T21:01:23.892Z"
   },
   {
    "duration": 28,
    "start_time": "2022-07-22T21:01:24.189Z"
   },
   {
    "duration": 206,
    "start_time": "2022-07-22T21:01:24.218Z"
   },
   {
    "duration": 195,
    "start_time": "2022-07-22T21:01:24.425Z"
   },
   {
    "duration": 217,
    "start_time": "2022-07-22T21:01:24.621Z"
   },
   {
    "duration": 29,
    "start_time": "2022-07-22T21:01:24.840Z"
   },
   {
    "duration": 209,
    "start_time": "2022-07-22T21:01:24.872Z"
   },
   {
    "duration": 378,
    "start_time": "2022-07-22T21:01:25.083Z"
   },
   {
    "duration": 205,
    "start_time": "2022-07-22T21:01:25.463Z"
   },
   {
    "duration": 44,
    "start_time": "2022-07-22T21:01:25.670Z"
   },
   {
    "duration": 13,
    "start_time": "2022-07-22T21:01:25.716Z"
   },
   {
    "duration": 21,
    "start_time": "2022-07-22T21:01:25.731Z"
   },
   {
    "duration": 7,
    "start_time": "2022-07-22T21:01:25.754Z"
   },
   {
    "duration": 42,
    "start_time": "2022-07-22T21:01:25.763Z"
   },
   {
    "duration": 8,
    "start_time": "2022-07-22T21:01:25.807Z"
   },
   {
    "duration": 25,
    "start_time": "2022-07-22T21:01:25.819Z"
   },
   {
    "duration": 15,
    "start_time": "2022-07-22T21:01:25.846Z"
   },
   {
    "duration": 9,
    "start_time": "2022-07-22T21:07:11.756Z"
   },
   {
    "duration": 9,
    "start_time": "2022-07-22T21:07:24.656Z"
   },
   {
    "duration": 11,
    "start_time": "2022-07-22T21:14:19.306Z"
   },
   {
    "duration": 12,
    "start_time": "2022-07-22T21:14:29.582Z"
   },
   {
    "duration": 14,
    "start_time": "2022-07-22T21:15:11.350Z"
   },
   {
    "duration": 15,
    "start_time": "2022-07-22T21:15:36.451Z"
   },
   {
    "duration": 29,
    "start_time": "2022-07-22T21:15:47.795Z"
   },
   {
    "duration": 29,
    "start_time": "2022-07-22T21:15:55.613Z"
   },
   {
    "duration": 12,
    "start_time": "2022-07-22T21:16:24.405Z"
   },
   {
    "duration": 19,
    "start_time": "2022-07-22T21:17:56.215Z"
   },
   {
    "duration": 12529,
    "start_time": "2022-07-22T21:17:58.205Z"
   },
   {
    "duration": 12,
    "start_time": "2022-07-22T21:24:43.063Z"
   },
   {
    "duration": 1782,
    "start_time": "2022-07-22T21:25:27.057Z"
   },
   {
    "duration": 4798,
    "start_time": "2022-07-22T21:25:54.302Z"
   },
   {
    "duration": 74,
    "start_time": "2022-07-22T21:27:48.255Z"
   },
   {
    "duration": 147269,
    "start_time": "2022-07-22T21:27:57.937Z"
   },
   {
    "duration": 726694,
    "start_time": "2022-07-22T21:30:47.365Z"
   },
   {
    "duration": 943,
    "start_time": "2022-07-22T21:42:54.062Z"
   },
   {
    "duration": 834,
    "start_time": "2022-07-22T21:43:34.471Z"
   },
   {
    "duration": 10,
    "start_time": "2022-07-22T21:43:43.556Z"
   },
   {
    "duration": 4055,
    "start_time": "2022-07-22T21:43:51.365Z"
   },
   {
    "duration": 4108,
    "start_time": "2022-07-22T21:44:05.385Z"
   },
   {
    "duration": 75,
    "start_time": "2022-07-23T18:45:10.612Z"
   },
   {
    "duration": 2024,
    "start_time": "2022-07-23T18:45:17.602Z"
   },
   {
    "duration": 1832,
    "start_time": "2022-07-23T18:45:19.629Z"
   },
   {
    "duration": 43,
    "start_time": "2022-07-23T18:45:21.463Z"
   },
   {
    "duration": 58,
    "start_time": "2022-07-23T18:45:21.508Z"
   },
   {
    "duration": 27,
    "start_time": "2022-07-23T18:45:21.568Z"
   },
   {
    "duration": 37,
    "start_time": "2022-07-23T18:45:21.598Z"
   },
   {
    "duration": 80,
    "start_time": "2022-07-23T18:45:21.637Z"
   },
   {
    "duration": 55,
    "start_time": "2022-07-23T18:45:21.719Z"
   },
   {
    "duration": 13,
    "start_time": "2022-07-23T18:45:21.776Z"
   },
   {
    "duration": 66,
    "start_time": "2022-07-23T18:45:21.792Z"
   },
   {
    "duration": 1670,
    "start_time": "2022-07-23T18:45:21.860Z"
   },
   {
    "duration": 1270,
    "start_time": "2022-07-23T18:45:23.532Z"
   },
   {
    "duration": 1532,
    "start_time": "2022-07-23T18:45:24.804Z"
   },
   {
    "duration": 230,
    "start_time": "2022-07-23T18:45:30.693Z"
   },
   {
    "duration": 4,
    "start_time": "2022-07-23T18:50:50.260Z"
   },
   {
    "duration": 1058,
    "start_time": "2022-07-23T18:50:50.267Z"
   },
   {
    "duration": 61,
    "start_time": "2022-07-23T18:50:51.328Z"
   },
   {
    "duration": 54,
    "start_time": "2022-07-23T18:50:51.391Z"
   },
   {
    "duration": 26,
    "start_time": "2022-07-23T18:50:51.447Z"
   },
   {
    "duration": 18,
    "start_time": "2022-07-23T18:50:51.475Z"
   },
   {
    "duration": 33,
    "start_time": "2022-07-23T18:50:57.154Z"
   },
   {
    "duration": 41,
    "start_time": "2022-07-23T18:51:05.632Z"
   },
   {
    "duration": 98,
    "start_time": "2022-07-23T18:58:37.235Z"
   },
   {
    "duration": 95,
    "start_time": "2022-07-23T18:58:44.587Z"
   },
   {
    "duration": 16,
    "start_time": "2022-07-23T18:58:57.124Z"
   },
   {
    "duration": 46,
    "start_time": "2022-07-23T18:59:47.028Z"
   },
   {
    "duration": 5,
    "start_time": "2022-07-23T19:00:27.475Z"
   },
   {
    "duration": 1132,
    "start_time": "2022-07-23T19:00:27.483Z"
   },
   {
    "duration": 51,
    "start_time": "2022-07-23T19:00:28.619Z"
   },
   {
    "duration": 61,
    "start_time": "2022-07-23T19:00:28.673Z"
   },
   {
    "duration": 36,
    "start_time": "2022-07-23T19:00:28.737Z"
   },
   {
    "duration": 23,
    "start_time": "2022-07-23T19:00:28.775Z"
   },
   {
    "duration": 50,
    "start_time": "2022-07-23T19:00:35.655Z"
   },
   {
    "duration": 63,
    "start_time": "2022-07-23T19:00:48.253Z"
   },
   {
    "duration": 1722,
    "start_time": "2022-07-23T19:09:48.157Z"
   },
   {
    "duration": 41,
    "start_time": "2022-07-23T19:12:11.361Z"
   },
   {
    "duration": 4,
    "start_time": "2022-07-23T19:14:03.686Z"
   },
   {
    "duration": 1014,
    "start_time": "2022-07-23T19:14:03.693Z"
   },
   {
    "duration": 65,
    "start_time": "2022-07-23T19:14:04.709Z"
   },
   {
    "duration": 47,
    "start_time": "2022-07-23T19:14:04.775Z"
   },
   {
    "duration": 39,
    "start_time": "2022-07-23T19:14:04.823Z"
   },
   {
    "duration": 26,
    "start_time": "2022-07-23T19:14:04.865Z"
   },
   {
    "duration": 6,
    "start_time": "2022-07-23T19:18:02.349Z"
   },
   {
    "duration": 1083,
    "start_time": "2022-07-23T19:18:02.358Z"
   },
   {
    "duration": 52,
    "start_time": "2022-07-23T19:18:03.443Z"
   },
   {
    "duration": 48,
    "start_time": "2022-07-23T19:18:03.497Z"
   },
   {
    "duration": 26,
    "start_time": "2022-07-23T19:18:03.548Z"
   },
   {
    "duration": 40,
    "start_time": "2022-07-23T19:18:03.576Z"
   },
   {
    "duration": 42,
    "start_time": "2022-07-23T19:18:03.626Z"
   },
   {
    "duration": 40,
    "start_time": "2022-07-23T19:18:03.670Z"
   },
   {
    "duration": 10,
    "start_time": "2022-07-23T19:18:03.712Z"
   },
   {
    "duration": 37,
    "start_time": "2022-07-23T19:18:03.724Z"
   },
   {
    "duration": 1540,
    "start_time": "2022-07-23T19:18:03.763Z"
   },
   {
    "duration": 1406,
    "start_time": "2022-07-23T19:18:05.305Z"
   },
   {
    "duration": 1587,
    "start_time": "2022-07-23T19:18:06.713Z"
   },
   {
    "duration": 230,
    "start_time": "2022-07-23T19:18:08.303Z"
   },
   {
    "duration": 26,
    "start_time": "2022-07-23T19:18:08.535Z"
   },
   {
    "duration": 308,
    "start_time": "2022-07-23T19:18:08.564Z"
   },
   {
    "duration": 328,
    "start_time": "2022-07-23T19:18:08.874Z"
   },
   {
    "duration": 317,
    "start_time": "2022-07-23T19:18:09.210Z"
   },
   {
    "duration": 40,
    "start_time": "2022-07-23T19:18:09.531Z"
   },
   {
    "duration": 259,
    "start_time": "2022-07-23T19:18:09.573Z"
   },
   {
    "duration": 245,
    "start_time": "2022-07-23T19:18:09.834Z"
   },
   {
    "duration": 284,
    "start_time": "2022-07-23T19:18:10.081Z"
   },
   {
    "duration": 38,
    "start_time": "2022-07-23T19:18:10.366Z"
   },
   {
    "duration": 22,
    "start_time": "2022-07-23T19:18:10.412Z"
   },
   {
    "duration": 52,
    "start_time": "2022-07-23T19:18:10.437Z"
   },
   {
    "duration": 10,
    "start_time": "2022-07-23T19:18:10.491Z"
   },
   {
    "duration": 32,
    "start_time": "2022-07-23T19:18:22.835Z"
   },
   {
    "duration": 13,
    "start_time": "2022-07-23T19:19:17.858Z"
   },
   {
    "duration": 18,
    "start_time": "2022-07-23T19:29:05.631Z"
   },
   {
    "duration": 4,
    "start_time": "2022-07-23T19:29:10.553Z"
   },
   {
    "duration": 1035,
    "start_time": "2022-07-23T19:29:10.563Z"
   },
   {
    "duration": 227,
    "start_time": "2022-07-23T19:29:11.600Z"
   },
   {
    "duration": 55,
    "start_time": "2022-07-23T19:29:11.829Z"
   },
   {
    "duration": 36,
    "start_time": "2022-07-23T19:29:11.887Z"
   },
   {
    "duration": 42,
    "start_time": "2022-07-23T19:29:11.925Z"
   },
   {
    "duration": 58,
    "start_time": "2022-07-23T19:29:11.970Z"
   },
   {
    "duration": 51,
    "start_time": "2022-07-23T19:29:12.030Z"
   },
   {
    "duration": 11,
    "start_time": "2022-07-23T19:29:12.084Z"
   },
   {
    "duration": 15,
    "start_time": "2022-07-23T19:29:12.097Z"
   },
   {
    "duration": 1395,
    "start_time": "2022-07-23T19:29:12.114Z"
   },
   {
    "duration": 1395,
    "start_time": "2022-07-23T19:29:13.518Z"
   },
   {
    "duration": 1531,
    "start_time": "2022-07-23T19:29:14.923Z"
   },
   {
    "duration": 197,
    "start_time": "2022-07-23T19:29:16.464Z"
   },
   {
    "duration": 25,
    "start_time": "2022-07-23T19:29:16.663Z"
   },
   {
    "duration": 283,
    "start_time": "2022-07-23T19:29:16.690Z"
   },
   {
    "duration": 258,
    "start_time": "2022-07-23T19:29:16.975Z"
   },
   {
    "duration": 281,
    "start_time": "2022-07-23T19:29:17.236Z"
   },
   {
    "duration": 42,
    "start_time": "2022-07-23T19:29:17.519Z"
   },
   {
    "duration": 283,
    "start_time": "2022-07-23T19:29:17.563Z"
   },
   {
    "duration": 255,
    "start_time": "2022-07-23T19:29:17.848Z"
   },
   {
    "duration": 272,
    "start_time": "2022-07-23T19:29:18.105Z"
   },
   {
    "duration": 42,
    "start_time": "2022-07-23T19:29:18.379Z"
   },
   {
    "duration": 21,
    "start_time": "2022-07-23T19:29:18.426Z"
   },
   {
    "duration": 38,
    "start_time": "2022-07-23T19:29:18.450Z"
   },
   {
    "duration": 10,
    "start_time": "2022-07-23T19:29:18.491Z"
   },
   {
    "duration": 28,
    "start_time": "2022-07-23T19:29:18.503Z"
   },
   {
    "duration": 34,
    "start_time": "2022-07-23T19:29:18.533Z"
   },
   {
    "duration": 177,
    "start_time": "2022-07-23T19:29:24.773Z"
   },
   {
    "duration": 136,
    "start_time": "2022-07-23T19:30:08.241Z"
   },
   {
    "duration": 3,
    "start_time": "2022-07-23T19:30:50.877Z"
   },
   {
    "duration": 20,
    "start_time": "2022-07-23T19:32:04.549Z"
   },
   {
    "duration": 4,
    "start_time": "2022-07-23T19:32:20.656Z"
   },
   {
    "duration": 1064,
    "start_time": "2022-07-23T19:32:20.665Z"
   },
   {
    "duration": 264,
    "start_time": "2022-07-23T19:32:21.733Z"
   },
   {
    "duration": 60,
    "start_time": "2022-07-23T19:32:21.999Z"
   },
   {
    "duration": 32,
    "start_time": "2022-07-23T19:32:22.063Z"
   },
   {
    "duration": 39,
    "start_time": "2022-07-23T19:32:22.098Z"
   },
   {
    "duration": 86,
    "start_time": "2022-07-23T19:32:22.141Z"
   },
   {
    "duration": 54,
    "start_time": "2022-07-23T19:32:22.228Z"
   },
   {
    "duration": 21,
    "start_time": "2022-07-23T19:32:22.284Z"
   },
   {
    "duration": 79,
    "start_time": "2022-07-23T19:32:22.308Z"
   },
   {
    "duration": 1494,
    "start_time": "2022-07-23T19:32:22.389Z"
   },
   {
    "duration": 1512,
    "start_time": "2022-07-23T19:32:23.885Z"
   },
   {
    "duration": 1672,
    "start_time": "2022-07-23T19:32:25.400Z"
   },
   {
    "duration": 224,
    "start_time": "2022-07-23T19:32:27.074Z"
   },
   {
    "duration": 29,
    "start_time": "2022-07-23T19:32:27.310Z"
   },
   {
    "duration": 325,
    "start_time": "2022-07-23T19:32:27.341Z"
   },
   {
    "duration": 307,
    "start_time": "2022-07-23T19:32:27.668Z"
   },
   {
    "duration": 400,
    "start_time": "2022-07-23T19:32:27.978Z"
   },
   {
    "duration": 41,
    "start_time": "2022-07-23T19:32:28.380Z"
   },
   {
    "duration": 374,
    "start_time": "2022-07-23T19:32:28.424Z"
   },
   {
    "duration": 302,
    "start_time": "2022-07-23T19:32:28.800Z"
   },
   {
    "duration": 293,
    "start_time": "2022-07-23T19:32:29.104Z"
   },
   {
    "duration": 54,
    "start_time": "2022-07-23T19:32:29.400Z"
   },
   {
    "duration": 29,
    "start_time": "2022-07-23T19:32:29.456Z"
   },
   {
    "duration": 26,
    "start_time": "2022-07-23T19:32:29.487Z"
   },
   {
    "duration": 15,
    "start_time": "2022-07-23T19:32:39.153Z"
   },
   {
    "duration": 18,
    "start_time": "2022-07-23T19:32:45.158Z"
   },
   {
    "duration": 20,
    "start_time": "2022-07-23T19:33:16.949Z"
   },
   {
    "duration": 8,
    "start_time": "2022-07-23T19:33:22.024Z"
   },
   {
    "duration": 1206,
    "start_time": "2022-07-23T19:33:22.050Z"
   },
   {
    "duration": 212,
    "start_time": "2022-07-23T19:33:23.259Z"
   },
   {
    "duration": 41,
    "start_time": "2022-07-23T19:33:23.473Z"
   },
   {
    "duration": 28,
    "start_time": "2022-07-23T19:33:23.516Z"
   },
   {
    "duration": 34,
    "start_time": "2022-07-23T19:33:23.546Z"
   },
   {
    "duration": 47,
    "start_time": "2022-07-23T19:33:23.582Z"
   },
   {
    "duration": 59,
    "start_time": "2022-07-23T19:33:23.631Z"
   },
   {
    "duration": 9,
    "start_time": "2022-07-23T19:33:23.692Z"
   },
   {
    "duration": 15,
    "start_time": "2022-07-23T19:33:23.710Z"
   },
   {
    "duration": 1588,
    "start_time": "2022-07-23T19:33:23.727Z"
   },
   {
    "duration": 1719,
    "start_time": "2022-07-23T19:33:25.317Z"
   },
   {
    "duration": 1841,
    "start_time": "2022-07-23T19:33:27.051Z"
   },
   {
    "duration": 264,
    "start_time": "2022-07-23T19:33:28.894Z"
   },
   {
    "duration": 27,
    "start_time": "2022-07-23T19:33:29.162Z"
   },
   {
    "duration": 345,
    "start_time": "2022-07-23T19:33:29.192Z"
   },
   {
    "duration": 276,
    "start_time": "2022-07-23T19:33:29.543Z"
   },
   {
    "duration": 340,
    "start_time": "2022-07-23T19:33:29.824Z"
   },
   {
    "duration": 55,
    "start_time": "2022-07-23T19:33:30.175Z"
   },
   {
    "duration": 362,
    "start_time": "2022-07-23T19:33:30.233Z"
   },
   {
    "duration": 367,
    "start_time": "2022-07-23T19:33:30.598Z"
   },
   {
    "duration": 304,
    "start_time": "2022-07-23T19:33:30.972Z"
   },
   {
    "duration": 46,
    "start_time": "2022-07-23T19:33:31.278Z"
   },
   {
    "duration": 38,
    "start_time": "2022-07-23T19:33:31.326Z"
   },
   {
    "duration": 30,
    "start_time": "2022-07-23T19:33:31.366Z"
   },
   {
    "duration": 11,
    "start_time": "2022-07-23T19:33:37.982Z"
   },
   {
    "duration": 15,
    "start_time": "2022-07-23T19:33:40.146Z"
   },
   {
    "duration": 20,
    "start_time": "2022-07-23T19:34:15.152Z"
   },
   {
    "duration": 15,
    "start_time": "2022-07-23T19:34:21.755Z"
   },
   {
    "duration": 5,
    "start_time": "2022-07-23T19:34:26.401Z"
   },
   {
    "duration": 26,
    "start_time": "2022-07-23T19:34:32.278Z"
   },
   {
    "duration": 1317,
    "start_time": "2022-07-23T19:35:15.745Z"
   },
   {
    "duration": 1465,
    "start_time": "2022-07-23T19:35:17.662Z"
   },
   {
    "duration": 14,
    "start_time": "2022-07-23T19:41:10.034Z"
   },
   {
    "duration": 18,
    "start_time": "2022-07-23T19:41:33.042Z"
   },
   {
    "duration": 17,
    "start_time": "2022-07-23T19:41:38.955Z"
   },
   {
    "duration": 14,
    "start_time": "2022-07-23T19:41:46.442Z"
   },
   {
    "duration": 12,
    "start_time": "2022-07-23T19:43:15.700Z"
   },
   {
    "duration": 12,
    "start_time": "2022-07-23T19:43:21.928Z"
   }
  ],
  "kernelspec": {
   "display_name": "Python 3 (ipykernel)",
   "language": "python",
   "name": "python3"
  },
  "language_info": {
   "codemirror_mode": {
    "name": "ipython",
    "version": 3
   },
   "file_extension": ".py",
   "mimetype": "text/x-python",
   "name": "python",
   "nbconvert_exporter": "python",
   "pygments_lexer": "ipython3",
   "version": "3.9.5"
  },
  "toc": {
   "base_numbering": 1,
   "nav_menu": {},
   "number_sections": true,
   "sideBar": true,
   "skip_h1_title": true,
   "title_cell": "Table of Contents",
   "title_sidebar": "Contents",
   "toc_cell": false,
   "toc_position": {},
   "toc_section_display": true,
   "toc_window_display": false
  }
 },
 "nbformat": 4,
 "nbformat_minor": 2
}
